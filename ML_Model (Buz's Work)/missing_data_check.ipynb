{
 "cells": [
  {
   "cell_type": "code",
   "execution_count": 2,
   "metadata": {},
   "outputs": [],
   "source": [
    "import h2o\n",
    "from h2o.automl import H2OAutoML\n",
    "from h2o.estimators.infogram import H2OInfogram\n",
    "from h2o.estimators.gbm import H2OGradientBoostingEstimator\n",
    "import pandas as pd\n",
    "import numpy as np\n",
    "import sys\n",
    "sys.path.insert(0, '..')\n",
    "from DataModule.Data_Preparation import CoronnaCERTAINDataset\n",
    "import EvaluationModule\n",
    "pd.options.mode.chained_assignment = None"
   ]
  },
  {
   "cell_type": "code",
   "execution_count": 5,
   "metadata": {},
   "outputs": [],
   "source": [
    "dataset = CoronnaCERTAINDataset(\n",
    "    library_root = '../Dataset/',\n",
    "    challenge = 'binary_classification', #option: regression, regression_delta, classification, binary_classification, regression_delta_binary\n",
    "    dataset = 'CORRONA CERTAIN', \n",
    "    process_approach = 'SC', #option: KVB, SC\n",
    "    imputation = 'IterativeImputer', #option: SimpleFill, KNN, SoftImpute, BiScaler, NuclearNormMinimization, IterativeImputer, IterativeSVD, None(raw)\n",
    "    patient_group = ['bionaive TNF'], #option: \"all\", \"bioexp nTNF\", \"bionaive TNF\", \"bionaive orencia\", \"KVB\"\n",
    "    drug_group = 'all', #option: \"all\", \"actemra\", \"cimzia\", \"enbrel\", \"humira\", \"orencia\", \"remicade\", \"rituxan\", \"simponi\"\n",
    "    time_points = (0,3), \n",
    "    train_test_rate = 0.6,\n",
    "    remove_low_DAS = False,\n",
    "    save_csv = False, \n",
    "    random_state = 2022,\n",
    "    verbose=False)"
   ]
  },
  {
   "cell_type": "code",
   "execution_count": 126,
   "metadata": {},
   "outputs": [],
   "source": [
    "import pandas as pd \n",
    "df=pd.read_csv(r'C:\\Users\\buz galbraith\\Desktop\\reaserch\\ML_RA_EHR\\Dataset\\Coronna_Data_CERTAIN_raw.csv')"
   ]
  },
  {
   "cell_type": "code",
   "execution_count": 127,
   "metadata": {},
   "outputs": [],
   "source": [
    "df_dev_demo = df.loc[:, :\"hx_anycancer\"]\n",
    "grp = df_dev_demo.set_index('futime').groupby('UNMC_id')\n",
    "groups = [g.reindex(range(0, 15, 3)).reset_index() for _, g in grp]\n",
    "demo_out = pd.concat(groups, ignore_index=True).reindex(\n",
    "df_dev_demo.columns, axis=1)\n",
    "\n",
    "        # time_varying features\n",
    "df_dev_time_varying = df.loc[:, \"seatedbp1\":]\n",
    "df_dev_time_varying['UNMC_id'] = df['UNMC_id']\n",
    "df_dev_time_varying['futime'] = df['futime']\n",
    "grp = df_dev_time_varying.set_index('futime').groupby('UNMC_id')\n",
    "groups = [g.reindex(range(0, 15, 3)).reset_index() for _, g in grp]\n",
    "time_varying_out = pd.concat(groups, ignore_index=True).reindex(\n",
    "df_dev_time_varying.columns, axis=1)\n",
    "time_varying_out['UNMC_id'] = time_varying_out['UNMC_id']\n",
    "time_varying_out = time_varying_out.drop(columns=['futime', 'UNMC_id'])\n",
    "out_final = pd.concat([demo_out, time_varying_out], axis=1)"
   ]
  },
  {
   "cell_type": "code",
   "execution_count": 128,
   "metadata": {},
   "outputs": [
    {
     "data": {
      "text/html": [
       "<div>\n",
       "<style scoped>\n",
       "    .dataframe tbody tr th:only-of-type {\n",
       "        vertical-align: middle;\n",
       "    }\n",
       "\n",
       "    .dataframe tbody tr th {\n",
       "        vertical-align: top;\n",
       "    }\n",
       "\n",
       "    .dataframe thead th {\n",
       "        text-align: right;\n",
       "    }\n",
       "</style>\n",
       "<table border=\"1\" class=\"dataframe\">\n",
       "  <thead>\n",
       "    <tr style=\"text-align: right;\">\n",
       "      <th></th>\n",
       "      <th>tender_jts_28</th>\n",
       "      <th>swollen_jts_28</th>\n",
       "      <th>usresultsCRP</th>\n",
       "      <th>md_global_assess</th>\n",
       "      <th>pt_global_assess</th>\n",
       "    </tr>\n",
       "  </thead>\n",
       "  <tbody>\n",
       "    <tr>\n",
       "      <th>11</th>\n",
       "      <td>0.0</td>\n",
       "      <td>2.0</td>\n",
       "      <td>0.31</td>\n",
       "      <td>10.0</td>\n",
       "      <td>20.0</td>\n",
       "    </tr>\n",
       "    <tr>\n",
       "      <th>76</th>\n",
       "      <td>0.0</td>\n",
       "      <td>0.0</td>\n",
       "      <td>0.84</td>\n",
       "      <td>1.0</td>\n",
       "      <td>5.0</td>\n",
       "    </tr>\n",
       "    <tr>\n",
       "      <th>81</th>\n",
       "      <td>1.0</td>\n",
       "      <td>3.0</td>\n",
       "      <td>0.69</td>\n",
       "      <td>20.0</td>\n",
       "      <td>20.0</td>\n",
       "    </tr>\n",
       "    <tr>\n",
       "      <th>86</th>\n",
       "      <td>5.0</td>\n",
       "      <td>8.0</td>\n",
       "      <td>0.33</td>\n",
       "      <td>25.0</td>\n",
       "      <td>20.0</td>\n",
       "    </tr>\n",
       "    <tr>\n",
       "      <th>106</th>\n",
       "      <td>14.0</td>\n",
       "      <td>1.0</td>\n",
       "      <td>2.12</td>\n",
       "      <td>40.0</td>\n",
       "      <td>50.0</td>\n",
       "    </tr>\n",
       "    <tr>\n",
       "      <th>...</th>\n",
       "      <td>...</td>\n",
       "      <td>...</td>\n",
       "      <td>...</td>\n",
       "      <td>...</td>\n",
       "      <td>...</td>\n",
       "    </tr>\n",
       "    <tr>\n",
       "      <th>6106</th>\n",
       "      <td>2.0</td>\n",
       "      <td>2.0</td>\n",
       "      <td>21.52</td>\n",
       "      <td>25.0</td>\n",
       "      <td>85.0</td>\n",
       "    </tr>\n",
       "    <tr>\n",
       "      <th>6111</th>\n",
       "      <td>1.0</td>\n",
       "      <td>2.0</td>\n",
       "      <td>0.71</td>\n",
       "      <td>20.0</td>\n",
       "      <td>0.0</td>\n",
       "    </tr>\n",
       "    <tr>\n",
       "      <th>6131</th>\n",
       "      <td>0.0</td>\n",
       "      <td>0.0</td>\n",
       "      <td>0.18</td>\n",
       "      <td>5.0</td>\n",
       "      <td>2.0</td>\n",
       "    </tr>\n",
       "    <tr>\n",
       "      <th>6136</th>\n",
       "      <td>2.0</td>\n",
       "      <td>4.0</td>\n",
       "      <td>3.33</td>\n",
       "      <td>50.0</td>\n",
       "      <td>20.0</td>\n",
       "    </tr>\n",
       "    <tr>\n",
       "      <th>6141</th>\n",
       "      <td>1.0</td>\n",
       "      <td>3.0</td>\n",
       "      <td>1.71</td>\n",
       "      <td>30.0</td>\n",
       "      <td>5.0</td>\n",
       "    </tr>\n",
       "  </tbody>\n",
       "</table>\n",
       "<p>410 rows × 5 columns</p>\n",
       "</div>"
      ],
      "text/plain": [
       "      tender_jts_28  swollen_jts_28  usresultsCRP  md_global_assess  \\\n",
       "11              0.0             2.0          0.31              10.0   \n",
       "76              0.0             0.0          0.84               1.0   \n",
       "81              1.0             3.0          0.69              20.0   \n",
       "86              5.0             8.0          0.33              25.0   \n",
       "106            14.0             1.0          2.12              40.0   \n",
       "...             ...             ...           ...               ...   \n",
       "6106            2.0             2.0         21.52              25.0   \n",
       "6111            1.0             2.0          0.71              20.0   \n",
       "6131            0.0             0.0          0.18               5.0   \n",
       "6136            2.0             4.0          3.33              50.0   \n",
       "6141            1.0             3.0          1.71              30.0   \n",
       "\n",
       "      pt_global_assess  \n",
       "11                20.0  \n",
       "76                 5.0  \n",
       "81                20.0  \n",
       "86                20.0  \n",
       "106               50.0  \n",
       "...                ...  \n",
       "6106              85.0  \n",
       "6111               0.0  \n",
       "6131               2.0  \n",
       "6136              20.0  \n",
       "6141               5.0  \n",
       "\n",
       "[410 rows x 5 columns]"
      ]
     },
     "execution_count": 128,
     "metadata": {},
     "output_type": "execute_result"
    }
   ],
   "source": [
    "out_final.columns\n",
    "out_final=out_final[out_final['futime']==3]\n",
    "out_final=out_final[out_final['init_group']=='bionaive TNF']\n",
    "out_final=out_final[['tender_jts_28','swollen_jts_28','usresultsCRP','md_global_assess','pt_global_assess']]\n",
    "\n",
    "# #\n",
    "#out_final=out_final.drop(['statin_use','Unnamed: 62','Unnamed: 63'],axis=1)\n",
    "\n",
    "out_final\n"
   ]
  },
  {
   "cell_type": "code",
   "execution_count": 129,
   "metadata": {},
   "outputs": [
    {
     "name": "stdout",
     "output_type": "stream",
     "text": [
      "tender_jts_28\n",
      "swollen_jts_28\n",
      "usresultsCRP\n",
      "md_global_assess\n",
      "pt_global_assess\n"
     ]
    }
   ],
   "source": [
    "d=dict()\n",
    "for col in out_final.columns:\n",
    "    print(col)\n",
    "    if(len(out_final[col].value_counts())>10):\n",
    "        d[col]={\"non-null\":410    -(410     -sum(out_final[col].value_counts())),'null':410     -sum(out_final[col].value_counts())}\n",
    "    else:\n",
    "        d[col]=out_final[col].value_counts()  \n",
    "        d[col][\"null\"]=410    -sum(out_final[col].value_counts())"
   ]
  },
  {
   "cell_type": "code",
   "execution_count": 123,
   "metadata": {},
   "outputs": [],
   "source": [
    "with open('test6.csv', 'w') as f:\n",
    "    for e in d:\n",
    "        f.write(\"%s,\\n\" % (e))\n",
    "        for i in d[e].keys():\n",
    "            temp=(d[e][i]/410 )*100\n",
    "            f.write(\"\\t,%s, %s(%s),\\n\" % (i, d[e][i],temp))\n",
    "        f.write('\\n')"
   ]
  },
  {
   "cell_type": "code",
   "execution_count": 125,
   "metadata": {},
   "outputs": [
    {
     "data": {
      "text/plain": [
       "0.22988505747126436"
      ]
     },
     "execution_count": 125,
     "metadata": {},
     "output_type": "execute_result"
    }
   ],
   "source": [
    "(1/435)*100"
   ]
  }
 ],
 "metadata": {
  "kernelspec": {
   "display_name": "Python 3.8.8 ('base')",
   "language": "python",
   "name": "python3"
  },
  "language_info": {
   "codemirror_mode": {
    "name": "ipython",
    "version": 3
   },
   "file_extension": ".py",
   "mimetype": "text/x-python",
   "name": "python",
   "nbconvert_exporter": "python",
   "pygments_lexer": "ipython3",
   "version": "3.8.8"
  },
  "orig_nbformat": 4,
  "vscode": {
   "interpreter": {
    "hash": "b76f26fa8a612c8b8cb65ddaeb140f1392e886a532c01d32a03fb4eb587cde30"
   }
  }
 },
 "nbformat": 4,
 "nbformat_minor": 2
}
