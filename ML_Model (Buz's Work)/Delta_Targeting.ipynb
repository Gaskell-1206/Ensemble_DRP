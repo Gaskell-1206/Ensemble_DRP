{
 "cells": [
  {
   "cell_type": "code",
   "execution_count": 1,
   "metadata": {},
   "outputs": [],
   "source": [
    "import sys\n",
    "sys.path.insert(0, r'C:\\Users\\buzga\\Desktop\\School\\Reaserch\\Langone\\ML_RA_EHR\\DataModule')\n",
    "sys.path.insert(0, r'C:\\Users\\buzga\\Desktop\\School\\Reaserch\\Langone\\ML_RA_EHR')\n",
    "import matplotlib.pyplot as plt\n",
    "import Data_Preparation\n",
    "import evaluate \n",
    "import pandas as pd \n",
    "import numpy as np\n",
    "import seaborn as sns\n",
    "from sklearn.metrics import mean_squared_error\n",
    "from sklearn import linear_model\n",
    "from sklearn import ensemble\n",
    "from sklearn import svm\n",
    "import xgboost as xgb\n",
    "import scipy "
   ]
  },
  {
   "cell_type": "code",
   "execution_count": 2,
   "metadata": {},
   "outputs": [
    {
     "name": "stdout",
     "output_type": "stream",
     "text": [
      "feature engineering, drop columns due to 70% missing value: Index(['smkyrs', 'numcigs', 'rfstatus_impute', 'ccpstatus_impute',\n",
      "       'statin_use'],\n",
      "      dtype='object')\n",
      "Imputing row 1/1498 with 0 missing, elapsed time: 0.349\n",
      "Imputing row 101/1498 with 1 missing, elapsed time: 0.350\n",
      "Imputing row 201/1498 with 0 missing, elapsed time: 0.351\n",
      "Imputing row 301/1498 with 0 missing, elapsed time: 0.351\n",
      "Imputing row 401/1498 with 0 missing, elapsed time: 0.352\n",
      "Imputing row 501/1498 with 1 missing, elapsed time: 0.352\n",
      "Imputing row 601/1498 with 0 missing, elapsed time: 0.353\n",
      "Imputing row 701/1498 with 0 missing, elapsed time: 0.353\n",
      "Imputing row 801/1498 with 0 missing, elapsed time: 0.353\n",
      "Imputing row 901/1498 with 0 missing, elapsed time: 0.354\n",
      "Imputing row 1001/1498 with 1 missing, elapsed time: 0.354\n",
      "Imputing row 1101/1498 with 0 missing, elapsed time: 0.355\n",
      "Imputing row 1201/1498 with 0 missing, elapsed time: 0.355\n",
      "Imputing row 1301/1498 with 0 missing, elapsed time: 0.356\n",
      "Imputing row 1401/1498 with 0 missing, elapsed time: 0.356\n",
      "Imputing row 1/388 with 0 missing, elapsed time: 0.024\n",
      "Imputing row 101/388 with 0 missing, elapsed time: 0.025\n",
      "Imputing row 201/388 with 0 missing, elapsed time: 0.025\n",
      "Imputing row 301/388 with 0 missing, elapsed time: 0.026\n",
      "save file to: C:\\Users\\buzga\\Desktop\\School\\Reaserch\\Langone\\ML_RA_EHR\\Dataset\\.csv_temp\\Train.csv\n",
      "save file to: C:\\Users\\buzga\\Desktop\\School\\Reaserch\\Langone\\ML_RA_EHR\\Dataset\\.csv_temp\\Test.csv\n",
      "x_train shape is  (321, 54)\n",
      "y_train shape is  (321,)\n",
      "x_test shape is  (86, 54)\n",
      "y_test shape is  (86,)\n"
     ]
    },
    {
     "data": {
      "text/plain": [
       "Index(['grp', 'age', 'gender', 'final_education', 'race_grp', 'ethnicity',\n",
       "       'weight', 'BMI', 'height', 'newsmoker', 'drinker', 'drinksperwk',\n",
       "       'duration_ra', 'ara_func_class', 'num_tnf', 'num_nontnf', 'ndmardused',\n",
       "       'rfstatus_b', 'usresultsRF', 'ccpstatus_b', 'usresultsCCP3', 'hxmi',\n",
       "       'hxunstab_ang', 'hxchf', 'hxother_cv', 'hxtia', 'hxstroke', 'hxcopd',\n",
       "       'hxhtn', 'hxdiabetes', 'hxhld', 'hx_anycancer', 'seatedbp1',\n",
       "       'seatedbp2', 'pres_mtx', 'pres_arava', 'pres_azulfidine',\n",
       "       'pres_plaquenil', 'pres_imuran', 'pres_minocin', 'pres_pred',\n",
       "       'nonpresNSAIDs_use', 'NSAIDs_use', 'tender_jts_28', 'swollen_jts_28',\n",
       "       'md_global_assess', 'pt_global_assess', 'di', 'pt_pain', 'usresultsCRP',\n",
       "       'usresultsIgA', 'usresultsIgG', 'usresultsIgM', 'DAS28_CRP_0M',\n",
       "       'DAS28_Delta'],\n",
       "      dtype='object')"
      ]
     },
     "execution_count": 2,
     "metadata": {},
     "output_type": "execute_result"
    }
   ],
   "source": [
    "## importing data. \n",
    "path=r'C:\\Users\\buzga\\Desktop\\School\\Reaserch\\Langone\\ML_RA_EHR\\Dataset'\n",
    "df = Data_Preparation.CoronnaCERTAINDataset(\n",
    "    library_root=path,\n",
    "    challenge=\"two_stage\", #option: regression, classification, two_stage\n",
    "    dataset='CORRONA CERTAIN', \n",
    "    process_approach='SC', #option: KVB, SC\n",
    "    imputation='KNN', #option: SimpleFill, KNN, SoftImpute, BiScaler, NuclearNormMinimization, IterativeImputer, IterativeSVD\n",
    "    patient_group='bionaive TNF', #option: \"all\", \"bioexp nTNF\", \"bionaive TNF\", \"bionaive orencia\", \"KVB\"\n",
    "    drug_group='all', #option: \"all\", \"actemra\", \"cimzia\", \"enbrel\", \"humira\", \"orencia\", \"remicade\", \"rituxan\", \"simponi\"\n",
    "    time_points=(0,3), \n",
    "    train_test_rate=0.8,\n",
    "    save_csv=False, \n",
    "    random_state=2022)\n",
    "\n",
    "train, train_loc = df.get_train()\n",
    "test, test_loc = df.get_test()\n",
    "\n",
    "\n",
    "## creating delta\n",
    "train[\"DAS28_Delta\"]=train['DAS28_CRP_0M']-train['DAS28_CRP_3M']\n",
    "test[\"DAS28_Delta\"]=test['DAS28_CRP_0M']-test['DAS28_CRP_3M']\n",
    "\n",
    "## dropping DAS28 3 month score\n",
    "month_3=test['DAS28_CRP_3M']\n",
    "train=train.drop([\"DAS28_CRP_3M\"], axis=1)\n",
    "test=test.drop([\"DAS28_CRP_3M\"], axis=1)\n",
    "## train test split \n",
    "X_train = train.iloc[:,:-1]\n",
    "y_train = train.iloc[:,-1]\n",
    "X_test = test.iloc[:,:-1]\n",
    "y_test = test.iloc[:,-1]\n",
    "\n",
    "## checking shape\n",
    "print(\"x_train shape is \", X_train.shape)\n",
    "print(\"y_train shape is \", y_train.shape)\n",
    "print(\"x_test shape is \", X_test.shape)\n",
    "print(\"y_test shape is \", y_test.shape)\n",
    "\n",
    "train.columns"
   ]
  },
  {
   "cell_type": "code",
   "execution_count": 3,
   "metadata": {},
   "outputs": [
    {
     "name": "stderr",
     "output_type": "stream",
     "text": [
      "c:\\Users\\buzga\\anaconda3\\lib\\site-packages\\seaborn\\distributions.py:2557: FutureWarning: `distplot` is a deprecated function and will be removed in a future version. Please adapt your code to use either `displot` (a figure-level function with similar flexibility) or `histplot` (an axes-level function for histograms).\n",
      "  warnings.warn(msg, FutureWarning)\n"
     ]
    },
    {
     "data": {
      "text/plain": [
       "Text(0.5, 1.0, 'DAS_28 Delta Distrobution')"
      ]
     },
     "execution_count": 3,
     "metadata": {},
     "output_type": "execute_result"
    },
    {
     "data": {
      "image/png": "[encoded data removed]",
      "text/plain": [
       "<Figure size 432x288 with 1 Axes>"
      ]
     },
     "metadata": {
      "needs_background": "light"
     },
     "output_type": "display_data"
    }
   ],
   "source": [
    "\n",
    "ax = sns.distplot(train[\"DAS28_Delta\"])\n",
    "ax.set_title(\"DAS_28 Delta Distrobution\")\n"
   ]
  },
  {
   "cell_type": "code",
   "execution_count": 4,
   "metadata": {},
   "outputs": [
    {
     "name": "stderr",
     "output_type": "stream",
     "text": [
      "c:\\Users\\buzga\\anaconda3\\lib\\site-packages\\seaborn\\_decorators.py:36: FutureWarning: Pass the following variables as keyword args: x, y. From version 0.12, the only valid positional argument will be `data`, and passing other arguments without an explicit keyword will result in an error or misinterpretation.\n",
      "  warnings.warn(\n"
     ]
    },
    {
     "data": {
      "text/plain": [
       "Text(0.5, 1.0, 'DAS_28 Baseline and DAS_28 3M')"
      ]
     },
     "execution_count": 4,
     "metadata": {},
     "output_type": "execute_result"
    },
    {
     "data": {
      "image/png": "[encoded data removed]",
      "text/plain": [
       "<Figure size 432x288 with 1 Axes>"
      ]
     },
     "metadata": {
      "needs_background": "light"
     },
     "output_type": "display_data"
    }
   ],
   "source": [
    "ax=sns.scatterplot(train[\"DAS28_CRP_0M\"],month_3)\n",
    "\n",
    "ax.set_title(\"DAS_28 Baseline and DAS_28 3M\")\n"
   ]
  },
  {
   "cell_type": "code",
   "execution_count": 5,
   "metadata": {},
   "outputs": [
    {
     "name": "stderr",
     "output_type": "stream",
     "text": [
      "c:\\Users\\buzga\\anaconda3\\lib\\site-packages\\seaborn\\_decorators.py:36: FutureWarning: Pass the following variables as keyword args: x, y. From version 0.12, the only valid positional argument will be `data`, and passing other arguments without an explicit keyword will result in an error or misinterpretation.\n",
      "  warnings.warn(\n"
     ]
    },
    {
     "data": {
      "text/plain": [
       "Text(0.5, 1.0, 'DAS_28 Baseline and DAS_28 delta')"
      ]
     },
     "execution_count": 5,
     "metadata": {},
     "output_type": "execute_result"
    },
    {
     "data": {
      "image/png": "[encoded data removed]",
      "text/plain": [
       "<Figure size 432x288 with 1 Axes>"
      ]
     },
     "metadata": {
      "needs_background": "light"
     },
     "output_type": "display_data"
    }
   ],
   "source": [
    "ax=sns.scatterplot(train[\"DAS28_CRP_0M\"],month_3-train[\"DAS28_CRP_0M\"])\n",
    "ax.set_ylabel(\"DAS_28 Delta\")\n",
    "ax.set_title(\"DAS_28 Baseline and DAS_28 delta\")"
   ]
  },
  {
   "cell_type": "code",
   "execution_count": 6,
   "metadata": {},
   "outputs": [],
   "source": [
    "## fitting models \n",
    "ols = linear_model.LinearRegression()\n",
    "ols.fit(X_train,y_train)\n",
    "ols_preds=ols.predict(X_test)\n",
    "\n",
    "\n",
    "ridge_model = linear_model.RidgeCV()\n",
    "ridge_model.fit(X_train,y_train)\n",
    "ridge_preds=ridge_model.predict(X_test)\n",
    "\n",
    "\n",
    "Random_forrest_model=ensemble.RandomForestRegressor(n_estimators=1000)\n",
    "Random_forrest_model.fit(X_train,y_train)\n",
    "Random_forrest_predictions=Random_forrest_model.predict(X_test)\n",
    "\n",
    "\n",
    "xgboost = xgb.XGBRegressor()\n",
    "xgboost.fit(X_train, y_train)\n",
    "xgboost_preds = xgboost.predict(X_test)\n",
    "\n",
    "\n",
    "Lasso_model = linear_model.Lasso()\n",
    "Lasso_model.fit(X_train,y_train)\n",
    "laso_preds=Lasso_model.predict(X_test)\n",
    "\n",
    "Elastic_net_model = linear_model.ElasticNet()\n",
    "Elastic_net_model.fit(X_train,y_train)\n",
    "Elastic_net_preds=Elastic_net_model.predict(X_test)\n",
    "\n",
    "\n",
    "svm_model=svm.SVR()\n",
    "svm_model.fit(X_train,y_train)\n",
    "svm_preds=svm_model.predict(X_test)\n",
    "\n",
    "svm_poly_model=svm.SVR(kernel=\"poly\")\n",
    "svm_poly_model.fit(X_train,y_train)\n",
    "svm_poly_preds=svm_poly_model.predict(X_test)\n",
    "\n",
    "svm_sig_model=svm.SVR(kernel=\"sigmoid\")\n",
    "svm_sig_model.fit(X_train,y_train)\n",
    "svm_sig_preds=svm_sig_model.predict(X_test)\n",
    "\n",
    "\n",
    "estimators=[('lr',linear_model.RidgeCV()),('svr', svm.SVR()),(\"rf\", ensemble.RandomForestRegressor())  ]\n",
    "stracking_model = ensemble.StackingRegressor(estimators =estimators,final_estimator =linear_model.RidgeCV())    \n",
    "stracking_model.fit(X_train,y_train)\n",
    "stacking_model_preds=stracking_model.predict(X_test)"
   ]
  },
  {
   "cell_type": "code",
   "execution_count": 8,
   "metadata": {},
   "outputs": [],
   "source": [
    "aml = evaluate.AutoBuild(seed=1, project_name=\"EHR_RA_SC\")\n",
    "baseline = test['DAS28_Delta']\n",
    "true = test['DAS28_Delta']\n",
    "aml.evaluate(\"OLS Model\", baseline, true, ols_preds)\n",
    "aml.evaluate(\"Ridge Linear Model\", baseline, true, ridge_preds)\n",
    "aml.evaluate(\"Lasso Linear Model\", baseline, true, laso_preds)\n",
    "aml.evaluate(\"Elastic Nets\", baseline, true, Elastic_net_preds)\n",
    "aml.evaluate(\"SVM RBF\", baseline, true, svm_preds)\n",
    "aml.evaluate(\"SVM POLY\", baseline, true, svm_poly_preds)\n",
    "aml.evaluate(\"SVM sigmoid\", baseline, true, svm_sig_preds)\n",
    "aml.evaluate(\"Random Forrest Regresion\", baseline, true, Random_forrest_predictions)\n",
    "aml.evaluate(\"XGBoost Regression\", baseline, true, xgboost_preds)\n",
    "aml.evaluate(\"Stacking Regression\", baseline, true, stacking_model_preds)\n",
    "regression, classification = aml.leaderboard()"
   ]
  },
  {
   "cell_type": "code",
   "execution_count": 9,
   "metadata": {},
   "outputs": [
    {
     "data": {
      "text/html": [
       "<div>\n",
       "<style scoped>\n",
       "    .dataframe tbody tr th:only-of-type {\n",
       "        vertical-align: middle;\n",
       "    }\n",
       "\n",
       "    .dataframe tbody tr th {\n",
       "        vertical-align: top;\n",
       "    }\n",
       "\n",
       "    .dataframe thead th {\n",
       "        text-align: right;\n",
       "    }\n",
       "</style>\n",
       "<table border=\"1\" class=\"dataframe\">\n",
       "  <thead>\n",
       "    <tr style=\"text-align: right;\">\n",
       "      <th></th>\n",
       "      <th>model</th>\n",
       "      <th>MAE</th>\n",
       "      <th>MSE</th>\n",
       "      <th>RMSE</th>\n",
       "      <th>R2</th>\n",
       "      <th>Pearson_Correlation</th>\n",
       "    </tr>\n",
       "  </thead>\n",
       "  <tbody>\n",
       "    <tr>\n",
       "      <th>0</th>\n",
       "      <td>OLS Model</td>\n",
       "      <td>1.037648</td>\n",
       "      <td>1.643516</td>\n",
       "      <td>1.281997</td>\n",
       "      <td>-0.191730</td>\n",
       "      <td>0.262042</td>\n",
       "    </tr>\n",
       "    <tr>\n",
       "      <th>1</th>\n",
       "      <td>Ridge Linear Model</td>\n",
       "      <td>1.011165</td>\n",
       "      <td>1.588977</td>\n",
       "      <td>1.260546</td>\n",
       "      <td>-0.152184</td>\n",
       "      <td>0.242192</td>\n",
       "    </tr>\n",
       "    <tr>\n",
       "      <th>2</th>\n",
       "      <td>Lasso Linear Model</td>\n",
       "      <td>1.006680</td>\n",
       "      <td>1.553361</td>\n",
       "      <td>1.246339</td>\n",
       "      <td>-0.126359</td>\n",
       "      <td>0.080080</td>\n",
       "    </tr>\n",
       "    <tr>\n",
       "      <th>3</th>\n",
       "      <td>Elastic Nets</td>\n",
       "      <td>1.024552</td>\n",
       "      <td>1.620659</td>\n",
       "      <td>1.273051</td>\n",
       "      <td>-0.175157</td>\n",
       "      <td>0.068604</td>\n",
       "    </tr>\n",
       "    <tr>\n",
       "      <th>4</th>\n",
       "      <td>SVM RBF</td>\n",
       "      <td>0.946615</td>\n",
       "      <td>1.343810</td>\n",
       "      <td>1.159228</td>\n",
       "      <td>0.025589</td>\n",
       "      <td>0.170684</td>\n",
       "    </tr>\n",
       "    <tr>\n",
       "      <th>5</th>\n",
       "      <td>SVM POLY</td>\n",
       "      <td>0.977586</td>\n",
       "      <td>1.452830</td>\n",
       "      <td>1.205334</td>\n",
       "      <td>-0.053462</td>\n",
       "      <td>-0.034849</td>\n",
       "    </tr>\n",
       "    <tr>\n",
       "      <th>6</th>\n",
       "      <td>SVM sigmoid</td>\n",
       "      <td>1.726713</td>\n",
       "      <td>6.415396</td>\n",
       "      <td>2.532863</td>\n",
       "      <td>-3.651871</td>\n",
       "      <td>-0.000323</td>\n",
       "    </tr>\n",
       "    <tr>\n",
       "      <th>7</th>\n",
       "      <td>Random Forrest Regresion</td>\n",
       "      <td>0.976592</td>\n",
       "      <td>1.452849</td>\n",
       "      <td>1.205342</td>\n",
       "      <td>-0.053476</td>\n",
       "      <td>0.238064</td>\n",
       "    </tr>\n",
       "    <tr>\n",
       "      <th>8</th>\n",
       "      <td>XGBoost Regression</td>\n",
       "      <td>1.054843</td>\n",
       "      <td>1.663887</td>\n",
       "      <td>1.289918</td>\n",
       "      <td>-0.206502</td>\n",
       "      <td>0.204866</td>\n",
       "    </tr>\n",
       "    <tr>\n",
       "      <th>9</th>\n",
       "      <td>Stacking Regression</td>\n",
       "      <td>0.962819</td>\n",
       "      <td>1.380977</td>\n",
       "      <td>1.175150</td>\n",
       "      <td>-0.001361</td>\n",
       "      <td>0.266743</td>\n",
       "    </tr>\n",
       "  </tbody>\n",
       "</table>\n",
       "</div>"
      ],
      "text/plain": [
       "                      model       MAE       MSE      RMSE        R2  \\\n",
       "0                 OLS Model  1.037648  1.643516  1.281997 -0.191730   \n",
       "1        Ridge Linear Model  1.011165  1.588977  1.260546 -0.152184   \n",
       "2        Lasso Linear Model  1.006680  1.553361  1.246339 -0.126359   \n",
       "3              Elastic Nets  1.024552  1.620659  1.273051 -0.175157   \n",
       "4                   SVM RBF  0.946615  1.343810  1.159228  0.025589   \n",
       "5                  SVM POLY  0.977586  1.452830  1.205334 -0.053462   \n",
       "6               SVM sigmoid  1.726713  6.415396  2.532863 -3.651871   \n",
       "7  Random Forrest Regresion  0.976592  1.452849  1.205342 -0.053476   \n",
       "8        XGBoost Regression  1.054843  1.663887  1.289918 -0.206502   \n",
       "9       Stacking Regression  0.962819  1.380977  1.175150 -0.001361   \n",
       "\n",
       "   Pearson_Correlation  \n",
       "0             0.262042  \n",
       "1             0.242192  \n",
       "2             0.080080  \n",
       "3             0.068604  \n",
       "4             0.170684  \n",
       "5            -0.034849  \n",
       "6            -0.000323  \n",
       "7             0.238064  \n",
       "8             0.204866  \n",
       "9             0.266743  "
      ]
     },
     "execution_count": 9,
     "metadata": {},
     "output_type": "execute_result"
    }
   ],
   "source": [
    "regression"
   ]
  },
  {
   "cell_type": "code",
   "execution_count": 10,
   "metadata": {},
   "outputs": [
    {
     "data": {
      "text/html": [
       "<div>\n",
       "<style scoped>\n",
       "    .dataframe tbody tr th:only-of-type {\n",
       "        vertical-align: middle;\n",
       "    }\n",
       "\n",
       "    .dataframe tbody tr th {\n",
       "        vertical-align: top;\n",
       "    }\n",
       "\n",
       "    .dataframe thead th {\n",
       "        text-align: right;\n",
       "    }\n",
       "</style>\n",
       "<table border=\"1\" class=\"dataframe\">\n",
       "  <thead>\n",
       "    <tr style=\"text-align: right;\">\n",
       "      <th></th>\n",
       "      <th>model</th>\n",
       "      <th>Accuracy</th>\n",
       "      <th>F1-Score</th>\n",
       "    </tr>\n",
       "  </thead>\n",
       "  <tbody>\n",
       "    <tr>\n",
       "      <th>0</th>\n",
       "      <td>OLS Model</td>\n",
       "      <td>0.720930</td>\n",
       "      <td>0.279279</td>\n",
       "    </tr>\n",
       "    <tr>\n",
       "      <th>1</th>\n",
       "      <td>Ridge Linear Model</td>\n",
       "      <td>0.720930</td>\n",
       "      <td>0.279279</td>\n",
       "    </tr>\n",
       "    <tr>\n",
       "      <th>2</th>\n",
       "      <td>Lasso Linear Model</td>\n",
       "      <td>0.697674</td>\n",
       "      <td>0.273973</td>\n",
       "    </tr>\n",
       "    <tr>\n",
       "      <th>3</th>\n",
       "      <td>Elastic Nets</td>\n",
       "      <td>0.720930</td>\n",
       "      <td>0.279279</td>\n",
       "    </tr>\n",
       "    <tr>\n",
       "      <th>4</th>\n",
       "      <td>SVM RBF</td>\n",
       "      <td>0.720930</td>\n",
       "      <td>0.279279</td>\n",
       "    </tr>\n",
       "    <tr>\n",
       "      <th>5</th>\n",
       "      <td>SVM POLY</td>\n",
       "      <td>0.697674</td>\n",
       "      <td>0.273973</td>\n",
       "    </tr>\n",
       "    <tr>\n",
       "      <th>6</th>\n",
       "      <td>SVM sigmoid</td>\n",
       "      <td>0.720930</td>\n",
       "      <td>0.279279</td>\n",
       "    </tr>\n",
       "    <tr>\n",
       "      <th>7</th>\n",
       "      <td>Random Forrest Regresion</td>\n",
       "      <td>0.709302</td>\n",
       "      <td>0.276644</td>\n",
       "    </tr>\n",
       "    <tr>\n",
       "      <th>8</th>\n",
       "      <td>XGBoost Regression</td>\n",
       "      <td>0.697674</td>\n",
       "      <td>0.273973</td>\n",
       "    </tr>\n",
       "    <tr>\n",
       "      <th>9</th>\n",
       "      <td>Stacking Regression</td>\n",
       "      <td>0.732558</td>\n",
       "      <td>0.281879</td>\n",
       "    </tr>\n",
       "  </tbody>\n",
       "</table>\n",
       "</div>"
      ],
      "text/plain": [
       "                      model  Accuracy  F1-Score\n",
       "0                 OLS Model  0.720930  0.279279\n",
       "1        Ridge Linear Model  0.720930  0.279279\n",
       "2        Lasso Linear Model  0.697674  0.273973\n",
       "3              Elastic Nets  0.720930  0.279279\n",
       "4                   SVM RBF  0.720930  0.279279\n",
       "5                  SVM POLY  0.697674  0.273973\n",
       "6               SVM sigmoid  0.720930  0.279279\n",
       "7  Random Forrest Regresion  0.709302  0.276644\n",
       "8        XGBoost Regression  0.697674  0.273973\n",
       "9       Stacking Regression  0.732558  0.281879"
      ]
     },
     "execution_count": 10,
     "metadata": {},
     "output_type": "execute_result"
    }
   ],
   "source": [
    "classification"
   ]
  },
  {
   "cell_type": "code",
   "execution_count": 11,
   "metadata": {},
   "outputs": [
    {
     "data": {
      "image/png": "[encoded data removed]",
      "text/plain": [
       "<Figure size 432x288 with 1 Axes>"
      ]
     },
     "metadata": {
      "needs_background": "light"
     },
     "output_type": "display_data"
    }
   ],
   "source": [
    "aml.plot_results(mode=\"classification\")"
   ]
  }
 ],
 "metadata": {
  "kernelspec": {
   "display_name": "Python 3.8.8 ('base')",
   "language": "python",
   "name": "python3"
  },
  "language_info": {
   "codemirror_mode": {
    "name": "ipython",
    "version": 3
   },
   "file_extension": ".py",
   "mimetype": "text/x-python",
   "name": "python",
   "nbconvert_exporter": "python",
   "pygments_lexer": "ipython3",
   "version": "3.8.8"
  },
  "orig_nbformat": 4,
  "vscode": {
   "interpreter": {
    "hash": "9a7a47e06beb32a03ad382b3cb45f6688197811263189ecf77f249956dea5c75"
   }
  }
 },
 "nbformat": 4,
 "nbformat_minor": 2
}
