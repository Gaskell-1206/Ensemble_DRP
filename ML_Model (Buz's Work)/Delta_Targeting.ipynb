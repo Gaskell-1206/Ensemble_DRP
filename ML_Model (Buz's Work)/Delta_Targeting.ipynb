{
 "cells": [
  {
   "cell_type": "code",
   "execution_count": 1,
   "metadata": {},
   "outputs": [],
   "source": [
    "import sys\n",
    "sys.path.insert(0, r'C:\\Users\\buzga\\Desktop\\School\\Reaserch\\Langone\\ML_RA_EHR\\DataModule')\n",
    "sys.path.insert(0, r'C:\\Users\\buzga\\Desktop\\School\\Reaserch\\Langone\\ML_RA_EHR')\n",
    "import matplotlib.pyplot as plt\n",
    "import Data_Preparation\n",
    "import evaluate \n",
    "import pandas as pd \n",
    "import numpy as np\n",
    "import seaborn as sns\n",
    "from sklearn.metrics import mean_squared_error\n",
    "from sklearn import linear_model\n",
    "from sklearn import ensemble\n",
    "from sklearn import svm\n",
    "import xgboost as xgb\n",
    "import scipy "
   ]
  },
  {
   "cell_type": "code",
   "execution_count": 2,
   "metadata": {},
   "outputs": [
    {
     "name": "stdout",
     "output_type": "stream",
     "text": [
      "feature engineering, drop columns due to 70% missing value: Index(['smkyrs', 'numcigs', 'rfstatus_impute', 'ccpstatus_impute',\n",
      "       'statin_use'],\n",
      "      dtype='object')\n",
      "Imputing row 1/1498 with 0 missing, elapsed time: 0.351\n",
      "Imputing row 101/1498 with 1 missing, elapsed time: 0.352\n",
      "Imputing row 201/1498 with 0 missing, elapsed time: 0.352\n",
      "Imputing row 301/1498 with 0 missing, elapsed time: 0.353\n",
      "Imputing row 401/1498 with 0 missing, elapsed time: 0.354\n",
      "Imputing row 501/1498 with 1 missing, elapsed time: 0.354\n",
      "Imputing row 601/1498 with 0 missing, elapsed time: 0.354\n",
      "Imputing row 701/1498 with 0 missing, elapsed time: 0.355\n",
      "Imputing row 801/1498 with 0 missing, elapsed time: 0.355\n",
      "Imputing row 901/1498 with 0 missing, elapsed time: 0.356\n",
      "Imputing row 1001/1498 with 1 missing, elapsed time: 0.356\n",
      "Imputing row 1101/1498 with 0 missing, elapsed time: 0.357\n",
      "Imputing row 1201/1498 with 0 missing, elapsed time: 0.357\n",
      "Imputing row 1301/1498 with 0 missing, elapsed time: 0.358\n",
      "Imputing row 1401/1498 with 0 missing, elapsed time: 0.358\n",
      "Imputing row 1/388 with 0 missing, elapsed time: 0.026\n",
      "Imputing row 101/388 with 0 missing, elapsed time: 0.026\n",
      "Imputing row 201/388 with 0 missing, elapsed time: 0.026\n",
      "Imputing row 301/388 with 0 missing, elapsed time: 0.027\n",
      "save file to: C:\\Users\\buzga\\Desktop\\School\\Reaserch\\Langone\\ML_RA_EHR\\Dataset\\.csv_temp\\Train.csv\n",
      "save file to: C:\\Users\\buzga\\Desktop\\School\\Reaserch\\Langone\\ML_RA_EHR\\Dataset\\.csv_temp\\Test.csv\n",
      "x_train shape is  (321, 54)\n",
      "y_train shape is  (321,)\n",
      "x_test shape is  (86, 54)\n",
      "y_test shape is  (86,)\n"
     ]
    },
    {
     "data": {
      "text/plain": [
       "Index(['grp', 'age', 'gender', 'final_education', 'race_grp', 'ethnicity',\n",
       "       'weight', 'BMI', 'height', 'newsmoker', 'drinker', 'drinksperwk',\n",
       "       'duration_ra', 'ara_func_class', 'num_tnf', 'num_nontnf', 'ndmardused',\n",
       "       'rfstatus_b', 'usresultsRF', 'ccpstatus_b', 'usresultsCCP3', 'hxmi',\n",
       "       'hxunstab_ang', 'hxchf', 'hxother_cv', 'hxtia', 'hxstroke', 'hxcopd',\n",
       "       'hxhtn', 'hxdiabetes', 'hxhld', 'hx_anycancer', 'seatedbp1',\n",
       "       'seatedbp2', 'pres_mtx', 'pres_arava', 'pres_azulfidine',\n",
       "       'pres_plaquenil', 'pres_imuran', 'pres_minocin', 'pres_pred',\n",
       "       'nonpresNSAIDs_use', 'NSAIDs_use', 'tender_jts_28', 'swollen_jts_28',\n",
       "       'md_global_assess', 'pt_global_assess', 'di', 'pt_pain', 'usresultsCRP',\n",
       "       'usresultsIgA', 'usresultsIgG', 'usresultsIgM', 'DAS28_CRP_0M'],\n",
       "      dtype='object')"
      ]
     },
     "execution_count": 2,
     "metadata": {},
     "output_type": "execute_result"
    }
   ],
   "source": [
    "## importing data. \n",
    "path=r'C:\\Users\\buzga\\Desktop\\School\\Reaserch\\Langone\\ML_RA_EHR\\Dataset'\n",
    "df = Data_Preparation.CoronnaCERTAINDataset(\n",
    "    library_root=path,\n",
    "    challenge=\"regression\", #option: regression, classification, two_stage\n",
    "    dataset='CORRONA CERTAIN', \n",
    "    process_approach='SC', #option: KVB, SC\n",
    "    imputation='KNN', #option: SimpleFill, KNN, SoftImpute, BiScaler, NuclearNormMinimization, IterativeImputer, IterativeSVD\n",
    "    patient_group='bionaive TNF', #option: \"all\", \"bioexp nTNF\", \"bionaive TNF\", \"bionaive orencia\", \"KVB\"\n",
    "    drug_group='all', #option: \"all\", \"actemra\", \"cimzia\", \"enbrel\", \"humira\", \"orencia\", \"remicade\", \"rituxan\", \"simponi\"\n",
    "    time_points=(0,3), \n",
    "    train_test_rate=0.8,\n",
    "    save_csv=False, \n",
    "    random_state=2022)\n",
    "\n",
    "train, train_loc = df.get_train()\n",
    "test, test_loc = df.get_test()\n",
    "\n",
    "\n",
    "## train test split \n",
    "X_train = train.iloc[:,:-1]\n",
    "y_train = train.iloc[:,-1]\n",
    "X_test = test.iloc[:,:-1]\n",
    "\n",
    "y_test = test.iloc[:,-1]\n",
    "\n",
    "## checking shape\n",
    "print(\"x_train shape is \", X_train.shape)\n",
    "print(\"y_train shape is \", y_train.shape)\n",
    "print(\"x_test shape is \", X_test.shape)\n",
    "print(\"y_test shape is \", y_test.shape)\n",
    "\n",
    "X_train.columns"
   ]
  },
  {
   "cell_type": "code",
   "execution_count": 3,
   "metadata": {},
   "outputs": [
    {
     "name": "stderr",
     "output_type": "stream",
     "text": [
      "c:\\Users\\buzga\\anaconda3\\lib\\site-packages\\seaborn\\distributions.py:2557: FutureWarning: `distplot` is a deprecated function and will be removed in a future version. Please adapt your code to use either `displot` (a figure-level function with similar flexibility) or `histplot` (an axes-level function for histograms).\n",
      "  warnings.warn(msg, FutureWarning)\n"
     ]
    },
    {
     "data": {
      "text/plain": [
       "Text(0.5, 1.0, 'DAS_28 Delta Distrobution')"
      ]
     },
     "execution_count": 3,
     "metadata": {},
     "output_type": "execute_result"
    },
    {
     "data": {
      "image/png": "[encoded data removed]",
      "text/plain": [
       "<Figure size 432x288 with 1 Axes>"
      ]
     },
     "metadata": {
      "needs_background": "light"
     },
     "output_type": "display_data"
    }
   ],
   "source": [
    "\n",
    "ax = sns.distplot(train[\"delta\"])\n",
    "ax.set_title(\"DAS_28 Delta Distrobution\")\n",
    "# train.columns"
   ]
  },
  {
   "cell_type": "code",
   "execution_count": 4,
   "metadata": {},
   "outputs": [],
   "source": [
    "# ax=sns.scatterplot(train[\"DAS28_CRP_0M\"],train['DAS28_CRP_3M'])\n",
    "\n",
    "# ax.set_title(\"DAS_28 Baseline and DAS_28 3M\")\n"
   ]
  },
  {
   "cell_type": "code",
   "execution_count": 5,
   "metadata": {},
   "outputs": [
    {
     "ename": "KeyError",
     "evalue": "'DAS28_CRP_3M'",
     "output_type": "error",
     "traceback": [
      "\u001b[1;31m---------------------------------------------------------------------------\u001b[0m",
      "\u001b[1;31mKeyError\u001b[0m                                  Traceback (most recent call last)",
      "\u001b[1;32mc:\\Users\\buzga\\anaconda3\\lib\\site-packages\\pandas\\core\\indexes\\base.py\u001b[0m in \u001b[0;36mget_loc\u001b[1;34m(self, key, method, tolerance)\u001b[0m\n\u001b[0;32m   3079\u001b[0m             \u001b[1;32mtry\u001b[0m\u001b[1;33m:\u001b[0m\u001b[1;33m\u001b[0m\u001b[1;33m\u001b[0m\u001b[0m\n\u001b[1;32m-> 3080\u001b[1;33m                 \u001b[1;32mreturn\u001b[0m \u001b[0mself\u001b[0m\u001b[1;33m.\u001b[0m\u001b[0m_engine\u001b[0m\u001b[1;33m.\u001b[0m\u001b[0mget_loc\u001b[0m\u001b[1;33m(\u001b[0m\u001b[0mcasted_key\u001b[0m\u001b[1;33m)\u001b[0m\u001b[1;33m\u001b[0m\u001b[1;33m\u001b[0m\u001b[0m\n\u001b[0m\u001b[0;32m   3081\u001b[0m             \u001b[1;32mexcept\u001b[0m \u001b[0mKeyError\u001b[0m \u001b[1;32mas\u001b[0m \u001b[0merr\u001b[0m\u001b[1;33m:\u001b[0m\u001b[1;33m\u001b[0m\u001b[1;33m\u001b[0m\u001b[0m\n",
      "\u001b[1;32mpandas\\_libs\\index.pyx\u001b[0m in \u001b[0;36mpandas._libs.index.IndexEngine.get_loc\u001b[1;34m()\u001b[0m\n",
      "\u001b[1;32mpandas\\_libs\\index.pyx\u001b[0m in \u001b[0;36mpandas._libs.index.IndexEngine.get_loc\u001b[1;34m()\u001b[0m\n",
      "\u001b[1;32mpandas\\_libs\\hashtable_class_helper.pxi\u001b[0m in \u001b[0;36mpandas._libs.hashtable.PyObjectHashTable.get_item\u001b[1;34m()\u001b[0m\n",
      "\u001b[1;32mpandas\\_libs\\hashtable_class_helper.pxi\u001b[0m in \u001b[0;36mpandas._libs.hashtable.PyObjectHashTable.get_item\u001b[1;34m()\u001b[0m\n",
      "\u001b[1;31mKeyError\u001b[0m: 'DAS28_CRP_3M'",
      "\nThe above exception was the direct cause of the following exception:\n",
      "\u001b[1;31mKeyError\u001b[0m                                  Traceback (most recent call last)",
      "\u001b[1;32m~\\AppData\\Local\\Temp/ipykernel_7836/2091200717.py\u001b[0m in \u001b[0;36m<module>\u001b[1;34m\u001b[0m\n\u001b[1;32m----> 1\u001b[1;33m \u001b[0max\u001b[0m\u001b[1;33m=\u001b[0m\u001b[0msns\u001b[0m\u001b[1;33m.\u001b[0m\u001b[0mscatterplot\u001b[0m\u001b[1;33m(\u001b[0m\u001b[0mtrain\u001b[0m\u001b[1;33m[\u001b[0m\u001b[1;34m\"DAS28_CRP_0M\"\u001b[0m\u001b[1;33m]\u001b[0m\u001b[1;33m,\u001b[0m\u001b[0mtrain\u001b[0m\u001b[1;33m[\u001b[0m\u001b[1;34m'DAS28_CRP_3M'\u001b[0m\u001b[1;33m]\u001b[0m\u001b[1;33m-\u001b[0m\u001b[0mtrain\u001b[0m\u001b[1;33m[\u001b[0m\u001b[1;34m\"DAS28_CRP_0M\"\u001b[0m\u001b[1;33m]\u001b[0m\u001b[1;33m)\u001b[0m\u001b[1;33m\u001b[0m\u001b[1;33m\u001b[0m\u001b[0m\n\u001b[0m\u001b[0;32m      2\u001b[0m \u001b[0max\u001b[0m\u001b[1;33m.\u001b[0m\u001b[0mset_ylabel\u001b[0m\u001b[1;33m(\u001b[0m\u001b[1;34m\"DAS_28 Delta\"\u001b[0m\u001b[1;33m)\u001b[0m\u001b[1;33m\u001b[0m\u001b[1;33m\u001b[0m\u001b[0m\n\u001b[0;32m      3\u001b[0m \u001b[0max\u001b[0m\u001b[1;33m.\u001b[0m\u001b[0mset_title\u001b[0m\u001b[1;33m(\u001b[0m\u001b[1;34m\"DAS_28 Baseline and DAS_28 delta\"\u001b[0m\u001b[1;33m)\u001b[0m\u001b[1;33m\u001b[0m\u001b[1;33m\u001b[0m\u001b[0m\n",
      "\u001b[1;32mc:\\Users\\buzga\\anaconda3\\lib\\site-packages\\pandas\\core\\frame.py\u001b[0m in \u001b[0;36m__getitem__\u001b[1;34m(self, key)\u001b[0m\n\u001b[0;32m   3022\u001b[0m             \u001b[1;32mif\u001b[0m \u001b[0mself\u001b[0m\u001b[1;33m.\u001b[0m\u001b[0mcolumns\u001b[0m\u001b[1;33m.\u001b[0m\u001b[0mnlevels\u001b[0m \u001b[1;33m>\u001b[0m \u001b[1;36m1\u001b[0m\u001b[1;33m:\u001b[0m\u001b[1;33m\u001b[0m\u001b[1;33m\u001b[0m\u001b[0m\n\u001b[0;32m   3023\u001b[0m                 \u001b[1;32mreturn\u001b[0m \u001b[0mself\u001b[0m\u001b[1;33m.\u001b[0m\u001b[0m_getitem_multilevel\u001b[0m\u001b[1;33m(\u001b[0m\u001b[0mkey\u001b[0m\u001b[1;33m)\u001b[0m\u001b[1;33m\u001b[0m\u001b[1;33m\u001b[0m\u001b[0m\n\u001b[1;32m-> 3024\u001b[1;33m             \u001b[0mindexer\u001b[0m \u001b[1;33m=\u001b[0m \u001b[0mself\u001b[0m\u001b[1;33m.\u001b[0m\u001b[0mcolumns\u001b[0m\u001b[1;33m.\u001b[0m\u001b[0mget_loc\u001b[0m\u001b[1;33m(\u001b[0m\u001b[0mkey\u001b[0m\u001b[1;33m)\u001b[0m\u001b[1;33m\u001b[0m\u001b[1;33m\u001b[0m\u001b[0m\n\u001b[0m\u001b[0;32m   3025\u001b[0m             \u001b[1;32mif\u001b[0m \u001b[0mis_integer\u001b[0m\u001b[1;33m(\u001b[0m\u001b[0mindexer\u001b[0m\u001b[1;33m)\u001b[0m\u001b[1;33m:\u001b[0m\u001b[1;33m\u001b[0m\u001b[1;33m\u001b[0m\u001b[0m\n\u001b[0;32m   3026\u001b[0m                 \u001b[0mindexer\u001b[0m \u001b[1;33m=\u001b[0m \u001b[1;33m[\u001b[0m\u001b[0mindexer\u001b[0m\u001b[1;33m]\u001b[0m\u001b[1;33m\u001b[0m\u001b[1;33m\u001b[0m\u001b[0m\n",
      "\u001b[1;32mc:\\Users\\buzga\\anaconda3\\lib\\site-packages\\pandas\\core\\indexes\\base.py\u001b[0m in \u001b[0;36mget_loc\u001b[1;34m(self, key, method, tolerance)\u001b[0m\n\u001b[0;32m   3080\u001b[0m                 \u001b[1;32mreturn\u001b[0m \u001b[0mself\u001b[0m\u001b[1;33m.\u001b[0m\u001b[0m_engine\u001b[0m\u001b[1;33m.\u001b[0m\u001b[0mget_loc\u001b[0m\u001b[1;33m(\u001b[0m\u001b[0mcasted_key\u001b[0m\u001b[1;33m)\u001b[0m\u001b[1;33m\u001b[0m\u001b[1;33m\u001b[0m\u001b[0m\n\u001b[0;32m   3081\u001b[0m             \u001b[1;32mexcept\u001b[0m \u001b[0mKeyError\u001b[0m \u001b[1;32mas\u001b[0m \u001b[0merr\u001b[0m\u001b[1;33m:\u001b[0m\u001b[1;33m\u001b[0m\u001b[1;33m\u001b[0m\u001b[0m\n\u001b[1;32m-> 3082\u001b[1;33m                 \u001b[1;32mraise\u001b[0m \u001b[0mKeyError\u001b[0m\u001b[1;33m(\u001b[0m\u001b[0mkey\u001b[0m\u001b[1;33m)\u001b[0m \u001b[1;32mfrom\u001b[0m \u001b[0merr\u001b[0m\u001b[1;33m\u001b[0m\u001b[1;33m\u001b[0m\u001b[0m\n\u001b[0m\u001b[0;32m   3083\u001b[0m \u001b[1;33m\u001b[0m\u001b[0m\n\u001b[0;32m   3084\u001b[0m         \u001b[1;32mif\u001b[0m \u001b[0mtolerance\u001b[0m \u001b[1;32mis\u001b[0m \u001b[1;32mnot\u001b[0m \u001b[1;32mNone\u001b[0m\u001b[1;33m:\u001b[0m\u001b[1;33m\u001b[0m\u001b[1;33m\u001b[0m\u001b[0m\n",
      "\u001b[1;31mKeyError\u001b[0m: 'DAS28_CRP_3M'"
     ]
    }
   ],
   "source": [
    "# ax=sns.scatterplot(train[\"DAS28_CRP_0M\"],train['DAS28_CRP_3M']-train[\"DAS28_CRP_0M\"])\n",
    "# ax.set_ylabel(\"DAS_28 Delta\")\n",
    "# ax.set_title(\"DAS_28 Baseline and DAS_28 delta\")"
   ]
  },
  {
   "cell_type": "code",
   "execution_count": 6,
   "metadata": {},
   "outputs": [],
   "source": [
    "## fitting models \n",
    "ols = linear_model.LinearRegression()\n",
    "ols.fit(X_train,y_train)\n",
    "ols_preds=ols.predict(X_test)\n",
    "\n",
    "\n",
    "ridge_model = linear_model.RidgeCV()\n",
    "ridge_model.fit(X_train,y_train)\n",
    "ridge_preds=ridge_model.predict(X_test)\n",
    "\n",
    "\n",
    "Random_forrest_model=ensemble.RandomForestRegressor(n_estimators=1000)\n",
    "Random_forrest_model.fit(X_train,y_train)\n",
    "Random_forrest_predictions=Random_forrest_model.predict(X_test)\n",
    "\n",
    "\n",
    "xgboost = xgb.XGBRegressor()\n",
    "xgboost.fit(X_train, y_train)\n",
    "xgboost_preds = xgboost.predict(X_test)\n",
    "\n",
    "\n",
    "Lasso_model = linear_model.Lasso()\n",
    "Lasso_model.fit(X_train,y_train)\n",
    "laso_preds=Lasso_model.predict(X_test)\n",
    "\n",
    "Elastic_net_model = linear_model.ElasticNet()\n",
    "Elastic_net_model.fit(X_train,y_train)\n",
    "Elastic_net_preds=Elastic_net_model.predict(X_test)\n",
    "\n",
    "\n",
    "svm_model=svm.SVR()\n",
    "svm_model.fit(X_train,y_train)\n",
    "svm_preds=svm_model.predict(X_test)\n",
    "\n",
    "svm_poly_model=svm.SVR(kernel=\"poly\")\n",
    "svm_poly_model.fit(X_train,y_train)\n",
    "svm_poly_preds=svm_poly_model.predict(X_test)\n",
    "\n",
    "svm_sig_model=svm.SVR(kernel=\"sigmoid\")\n",
    "svm_sig_model.fit(X_train,y_train)\n",
    "svm_sig_preds=svm_sig_model.predict(X_test)\n",
    "\n",
    "\n",
    "estimators=[('lr',linear_model.RidgeCV()),('svr', svm.SVR()),(\"rf\", ensemble.RandomForestRegressor())  ]\n",
    "stracking_model = ensemble.StackingRegressor(estimators =estimators,final_estimator =linear_model.RidgeCV())    \n",
    "stracking_model.fit(X_train,y_train)\n",
    "stacking_model_preds=stracking_model.predict(X_test)"
   ]
  },
  {
   "cell_type": "code",
   "execution_count": 7,
   "metadata": {},
   "outputs": [
    {
     "name": "stdout",
     "output_type": "stream",
     "text": [
      "ArgSpec(args=['self', 'seed', 'project_name', 'challenge'], varargs=None, keywords=None, defaults=(1, 'EHR_RA_SC', 'two_stage'))\n"
     ]
    },
    {
     "name": "stderr",
     "output_type": "stream",
     "text": [
      "C:\\Users\\buzga\\AppData\\Local\\Temp/ipykernel_7836/2442581508.py:2: DeprecationWarning: inspect.getargspec() is deprecated since Python 3.0, use inspect.signature() or inspect.getfullargspec()\n",
      "  print(inspect.getargspec(evaluate.AutoBuild))\n"
     ]
    }
   ],
   "source": [
    "import inspect\n",
    "print(inspect.getargspec(evaluate.AutoBuild))\n",
    "aml = evaluate.AutoBuild(seed=1, project_name=\"EHR_RA_SC\", challenge=df.challenge)\n",
    "\n",
    "aml.evaluate(\"OLS Model\", test,ols_preds)\n",
    "aml.evaluate(\"Ridge Linear Model\",test, ridge_preds)\n",
    "aml.evaluate(\"Lasso Linear Model\",test, laso_preds)\n",
    "aml.evaluate(\"Elastic Nets\",test, Elastic_net_preds)\n",
    "aml.evaluate(\"SVM RBF\",test,  svm_preds)\n",
    "aml.evaluate(\"SVM POLY\",test, svm_poly_preds)\n",
    "aml.evaluate(\"SVM sigmoid\", test, svm_sig_preds)\n",
    "aml.evaluate(\"Random Forrest Regresion\",  test,Random_forrest_predictions)\n",
    "aml.evaluate(\"XGBoost Regression\",  test,xgboost_preds)\n",
    "aml.evaluate(\"Stacking Regression\", test, stacking_model_preds)\n",
    "regression, classification = aml.leaderboard()"
   ]
  },
  {
   "cell_type": "code",
   "execution_count": 8,
   "metadata": {},
   "outputs": [
    {
     "data": {
      "text/html": [
       "<div>\n",
       "<style scoped>\n",
       "    .dataframe tbody tr th:only-of-type {\n",
       "        vertical-align: middle;\n",
       "    }\n",
       "\n",
       "    .dataframe tbody tr th {\n",
       "        vertical-align: top;\n",
       "    }\n",
       "\n",
       "    .dataframe thead th {\n",
       "        text-align: right;\n",
       "    }\n",
       "</style>\n",
       "<table border=\"1\" class=\"dataframe\">\n",
       "  <thead>\n",
       "    <tr style=\"text-align: right;\">\n",
       "      <th></th>\n",
       "      <th>model</th>\n",
       "      <th>MAE</th>\n",
       "      <th>MSE</th>\n",
       "      <th>RMSE</th>\n",
       "      <th>R2</th>\n",
       "      <th>Pearson_Correlation</th>\n",
       "    </tr>\n",
       "  </thead>\n",
       "  <tbody>\n",
       "    <tr>\n",
       "      <th>0</th>\n",
       "      <td>OLS Model</td>\n",
       "      <td>1.037648</td>\n",
       "      <td>1.643516</td>\n",
       "      <td>1.281997</td>\n",
       "      <td>-0.191730</td>\n",
       "      <td>0.262042</td>\n",
       "    </tr>\n",
       "    <tr>\n",
       "      <th>1</th>\n",
       "      <td>Ridge Linear Model</td>\n",
       "      <td>1.011165</td>\n",
       "      <td>1.588977</td>\n",
       "      <td>1.260546</td>\n",
       "      <td>-0.152184</td>\n",
       "      <td>0.242192</td>\n",
       "    </tr>\n",
       "    <tr>\n",
       "      <th>2</th>\n",
       "      <td>Lasso Linear Model</td>\n",
       "      <td>1.006680</td>\n",
       "      <td>1.553361</td>\n",
       "      <td>1.246339</td>\n",
       "      <td>-0.126359</td>\n",
       "      <td>0.080080</td>\n",
       "    </tr>\n",
       "    <tr>\n",
       "      <th>3</th>\n",
       "      <td>Elastic Nets</td>\n",
       "      <td>1.024552</td>\n",
       "      <td>1.620659</td>\n",
       "      <td>1.273051</td>\n",
       "      <td>-0.175157</td>\n",
       "      <td>0.068604</td>\n",
       "    </tr>\n",
       "    <tr>\n",
       "      <th>4</th>\n",
       "      <td>SVM RBF</td>\n",
       "      <td>0.946615</td>\n",
       "      <td>1.343810</td>\n",
       "      <td>1.159228</td>\n",
       "      <td>0.025589</td>\n",
       "      <td>0.170684</td>\n",
       "    </tr>\n",
       "    <tr>\n",
       "      <th>5</th>\n",
       "      <td>SVM POLY</td>\n",
       "      <td>0.977586</td>\n",
       "      <td>1.452830</td>\n",
       "      <td>1.205334</td>\n",
       "      <td>-0.053462</td>\n",
       "      <td>-0.034849</td>\n",
       "    </tr>\n",
       "    <tr>\n",
       "      <th>6</th>\n",
       "      <td>SVM sigmoid</td>\n",
       "      <td>1.726713</td>\n",
       "      <td>6.415396</td>\n",
       "      <td>2.532863</td>\n",
       "      <td>-3.651871</td>\n",
       "      <td>-0.000323</td>\n",
       "    </tr>\n",
       "    <tr>\n",
       "      <th>7</th>\n",
       "      <td>Random Forrest Regresion</td>\n",
       "      <td>0.985262</td>\n",
       "      <td>1.471463</td>\n",
       "      <td>1.213039</td>\n",
       "      <td>-0.066973</td>\n",
       "      <td>0.226208</td>\n",
       "    </tr>\n",
       "    <tr>\n",
       "      <th>8</th>\n",
       "      <td>XGBoost Regression</td>\n",
       "      <td>1.054843</td>\n",
       "      <td>1.663887</td>\n",
       "      <td>1.289918</td>\n",
       "      <td>-0.206502</td>\n",
       "      <td>0.204866</td>\n",
       "    </tr>\n",
       "    <tr>\n",
       "      <th>9</th>\n",
       "      <td>Stacking Regression</td>\n",
       "      <td>0.967162</td>\n",
       "      <td>1.398883</td>\n",
       "      <td>1.182744</td>\n",
       "      <td>-0.014344</td>\n",
       "      <td>0.243131</td>\n",
       "    </tr>\n",
       "  </tbody>\n",
       "</table>\n",
       "</div>"
      ],
      "text/plain": [
       "                      model       MAE       MSE      RMSE        R2  \\\n",
       "0                 OLS Model  1.037648  1.643516  1.281997 -0.191730   \n",
       "1        Ridge Linear Model  1.011165  1.588977  1.260546 -0.152184   \n",
       "2        Lasso Linear Model  1.006680  1.553361  1.246339 -0.126359   \n",
       "3              Elastic Nets  1.024552  1.620659  1.273051 -0.175157   \n",
       "4                   SVM RBF  0.946615  1.343810  1.159228  0.025589   \n",
       "5                  SVM POLY  0.977586  1.452830  1.205334 -0.053462   \n",
       "6               SVM sigmoid  1.726713  6.415396  2.532863 -3.651871   \n",
       "7  Random Forrest Regresion  0.985262  1.471463  1.213039 -0.066973   \n",
       "8        XGBoost Regression  1.054843  1.663887  1.289918 -0.206502   \n",
       "9       Stacking Regression  0.967162  1.398883  1.182744 -0.014344   \n",
       "\n",
       "   Pearson_Correlation  \n",
       "0             0.262042  \n",
       "1             0.242192  \n",
       "2             0.080080  \n",
       "3             0.068604  \n",
       "4             0.170684  \n",
       "5            -0.034849  \n",
       "6            -0.000323  \n",
       "7             0.226208  \n",
       "8             0.204866  \n",
       "9             0.243131  "
      ]
     },
     "execution_count": 8,
     "metadata": {},
     "output_type": "execute_result"
    }
   ],
   "source": [
    "regression"
   ]
  },
  {
   "cell_type": "code",
   "execution_count": 9,
   "metadata": {},
   "outputs": [
    {
     "data": {
      "text/html": [
       "<div>\n",
       "<style scoped>\n",
       "    .dataframe tbody tr th:only-of-type {\n",
       "        vertical-align: middle;\n",
       "    }\n",
       "\n",
       "    .dataframe tbody tr th {\n",
       "        vertical-align: top;\n",
       "    }\n",
       "\n",
       "    .dataframe thead th {\n",
       "        text-align: right;\n",
       "    }\n",
       "</style>\n",
       "<table border=\"1\" class=\"dataframe\">\n",
       "  <thead>\n",
       "    <tr style=\"text-align: right;\">\n",
       "      <th></th>\n",
       "      <th>model</th>\n",
       "      <th>Accuracy</th>\n",
       "      <th>F1-Score</th>\n",
       "    </tr>\n",
       "  </thead>\n",
       "  <tbody>\n",
       "    <tr>\n",
       "      <th>0</th>\n",
       "      <td>OLS Model</td>\n",
       "      <td>0.441860</td>\n",
       "      <td>0.428713</td>\n",
       "    </tr>\n",
       "    <tr>\n",
       "      <th>1</th>\n",
       "      <td>Ridge Linear Model</td>\n",
       "      <td>0.441860</td>\n",
       "      <td>0.416258</td>\n",
       "    </tr>\n",
       "    <tr>\n",
       "      <th>2</th>\n",
       "      <td>Lasso Linear Model</td>\n",
       "      <td>0.418605</td>\n",
       "      <td>0.323425</td>\n",
       "    </tr>\n",
       "    <tr>\n",
       "      <th>3</th>\n",
       "      <td>Elastic Nets</td>\n",
       "      <td>0.383721</td>\n",
       "      <td>0.297747</td>\n",
       "    </tr>\n",
       "    <tr>\n",
       "      <th>4</th>\n",
       "      <td>SVM RBF</td>\n",
       "      <td>0.488372</td>\n",
       "      <td>0.380460</td>\n",
       "    </tr>\n",
       "    <tr>\n",
       "      <th>5</th>\n",
       "      <td>SVM POLY</td>\n",
       "      <td>0.476744</td>\n",
       "      <td>0.368725</td>\n",
       "    </tr>\n",
       "    <tr>\n",
       "      <th>6</th>\n",
       "      <td>SVM sigmoid</td>\n",
       "      <td>0.488372</td>\n",
       "      <td>0.484382</td>\n",
       "    </tr>\n",
       "    <tr>\n",
       "      <th>7</th>\n",
       "      <td>Random Forrest Regresion</td>\n",
       "      <td>0.453488</td>\n",
       "      <td>0.362092</td>\n",
       "    </tr>\n",
       "    <tr>\n",
       "      <th>8</th>\n",
       "      <td>XGBoost Regression</td>\n",
       "      <td>0.406977</td>\n",
       "      <td>0.359790</td>\n",
       "    </tr>\n",
       "    <tr>\n",
       "      <th>9</th>\n",
       "      <td>Stacking Regression</td>\n",
       "      <td>0.465116</td>\n",
       "      <td>0.408734</td>\n",
       "    </tr>\n",
       "  </tbody>\n",
       "</table>\n",
       "</div>"
      ],
      "text/plain": [
       "                      model  Accuracy  F1-Score\n",
       "0                 OLS Model  0.441860  0.428713\n",
       "1        Ridge Linear Model  0.441860  0.416258\n",
       "2        Lasso Linear Model  0.418605  0.323425\n",
       "3              Elastic Nets  0.383721  0.297747\n",
       "4                   SVM RBF  0.488372  0.380460\n",
       "5                  SVM POLY  0.476744  0.368725\n",
       "6               SVM sigmoid  0.488372  0.484382\n",
       "7  Random Forrest Regresion  0.453488  0.362092\n",
       "8        XGBoost Regression  0.406977  0.359790\n",
       "9       Stacking Regression  0.465116  0.408734"
      ]
     },
     "execution_count": 9,
     "metadata": {},
     "output_type": "execute_result"
    }
   ],
   "source": [
    "classification"
   ]
  },
  {
   "cell_type": "code",
   "execution_count": 1,
   "metadata": {},
   "outputs": [
    {
     "ename": "NameError",
     "evalue": "name 'aml' is not defined",
     "output_type": "error",
     "traceback": [
      "\u001b[1;31m---------------------------------------------------------------------------\u001b[0m",
      "\u001b[1;31mNameError\u001b[0m                                 Traceback (most recent call last)",
      "\u001b[1;32m~\\AppData\\Local\\Temp/ipykernel_15280/4031483677.py\u001b[0m in \u001b[0;36m<module>\u001b[1;34m\u001b[0m\n\u001b[1;32m----> 1\u001b[1;33m \u001b[0maml\u001b[0m\u001b[1;33m.\u001b[0m\u001b[0mplot_results\u001b[0m\u001b[1;33m(\u001b[0m\u001b[0mmode\u001b[0m\u001b[1;33m=\u001b[0m\u001b[1;34m\"classification\"\u001b[0m\u001b[1;33m,\u001b[0m\u001b[0mmetics\u001b[0m\u001b[1;33m=\u001b[0m\u001b[1;34m\"Accuracy\"\u001b[0m\u001b[1;33m)\u001b[0m\u001b[1;33m\u001b[0m\u001b[1;33m\u001b[0m\u001b[0m\n\u001b[0m\u001b[0;32m      2\u001b[0m \u001b[1;33m\u001b[0m\u001b[0m\n",
      "\u001b[1;31mNameError\u001b[0m: name 'aml' is not defined"
     ]
    }
   ],
   "source": [
    "aml.plot_results(mode=\"classification\",metics=\"Accuracy\")\n",
    "\n"
   ]
  },
  {
   "cell_type": "code",
   "execution_count": 11,
   "metadata": {},
   "outputs": [
    {
     "data": {
      "image/png": "[encoded data removed]",
      "text/plain": [
       "<Figure size 432x288 with 1 Axes>"
      ]
     },
     "metadata": {
      "needs_background": "light"
     },
     "output_type": "display_data"
    }
   ],
   "source": [
    "aml.plot_results(mode='regression',metics=\"MSE\")"
   ]
  }
 ],
 "metadata": {
  "kernelspec": {
   "display_name": "Python 3.8.8 ('base')",
   "language": "python",
   "name": "python3"
  },
  "language_info": {
   "codemirror_mode": {
    "name": "ipython",
    "version": 3
   },
   "file_extension": ".py",
   "mimetype": "text/x-python",
   "name": "python",
   "nbconvert_exporter": "python",
   "pygments_lexer": "ipython3",
   "version": "3.8.8"
  },
  "orig_nbformat": 4,
  "vscode": {
   "interpreter": {
    "hash": "9a7a47e06beb32a03ad382b3cb45f6688197811263189ecf77f249956dea5c75"
   }
  }
 },
 "nbformat": 4,
 "nbformat_minor": 2
}
