{
 "cells": [
  {
   "cell_type": "code",
<<<<<<< HEAD
   "execution_count": 28,
=======
   "execution_count": 1,
>>>>>>> a20461cee60fd8e22f56ad6c8adfcc65085718d0
   "metadata": {},
   "outputs": [],
   "source": [
    "import sys\n",
    "sys.path.insert(0, r'C:\\Users\\buzga\\Desktop\\School\\Reaserch\\Langone\\ML_RA_EHR\\DataModule')\n",
    "sys.path.insert(0, r'C:\\Users\\buzga\\Desktop\\School\\Reaserch\\Langone\\ML_RA_EHR')\n",
    "import matplotlib.pyplot as plt\n",
    "import Data_Preparation\n",
    "import evaluate \n",
    "import pandas as pd \n",
    "import numpy as np\n",
    "import seaborn as sns\n",
    "from sklearn.metrics import mean_squared_error\n",
    "from sklearn import linear_model\n",
    "from sklearn import ensemble\n",
    "from sklearn import svm\n",
<<<<<<< HEAD
    "import xgboost as xgb\n",
    "from sklearn.pipeline import make_pipeline\n",
    "from sklearn.preprocessing import StandardScaler"
=======
    "import xgboost as xgb"
>>>>>>> a20461cee60fd8e22f56ad6c8adfcc65085718d0
   ]
  },
  {
   "cell_type": "code",
<<<<<<< HEAD
   "execution_count": 29,
=======
   "execution_count": 2,
>>>>>>> a20461cee60fd8e22f56ad6c8adfcc65085718d0
   "metadata": {},
   "outputs": [
    {
     "name": "stdout",
     "output_type": "stream",
     "text": [
      "feature engineering, drop columns due to 70% missing value: Index(['smkyrs', 'numcigs', 'rfstatus_impute', 'ccpstatus_impute',\n",
      "       'statin_use'],\n",
      "      dtype='object')\n",
<<<<<<< HEAD
      "Imputing row 1/1498 with 0 missing, elapsed time: 0.638\n",
      "Imputing row 101/1498 with 1 missing, elapsed time: 0.639\n",
      "Imputing row 201/1498 with 0 missing, elapsed time: 0.641\n",
      "Imputing row 301/1498 with 0 missing, elapsed time: 0.642\n",
      "Imputing row 401/1498 with 0 missing, elapsed time: 0.643\n",
      "Imputing row 501/1498 with 1 missing, elapsed time: 0.644\n",
      "Imputing row 601/1498 with 0 missing, elapsed time: 0.645\n",
      "Imputing row 701/1498 with 0 missing, elapsed time: 0.645\n",
      "Imputing row 801/1498 with 0 missing, elapsed time: 0.646\n",
      "Imputing row 901/1498 with 0 missing, elapsed time: 0.647\n",
      "Imputing row 1001/1498 with 1 missing, elapsed time: 0.648\n",
      "Imputing row 1101/1498 with 0 missing, elapsed time: 0.649\n",
      "Imputing row 1201/1498 with 0 missing, elapsed time: 0.650\n",
      "Imputing row 1301/1498 with 0 missing, elapsed time: 0.651\n",
      "Imputing row 1401/1498 with 0 missing, elapsed time: 0.651\n",
      "Imputing row 1/388 with 0 missing, elapsed time: 0.045\n",
      "Imputing row 101/388 with 0 missing, elapsed time: 0.046\n",
      "Imputing row 201/388 with 0 missing, elapsed time: 0.047\n",
      "Imputing row 301/388 with 0 missing, elapsed time: 0.048\n",
=======
      "Imputing row 1/1498 with 0 missing, elapsed time: 0.978\n",
      "Imputing row 101/1498 with 1 missing, elapsed time: 0.978\n",
      "Imputing row 201/1498 with 0 missing, elapsed time: 0.978\n",
      "Imputing row 301/1498 with 0 missing, elapsed time: 0.986\n",
      "Imputing row 401/1498 with 0 missing, elapsed time: 0.986\n",
      "Imputing row 501/1498 with 1 missing, elapsed time: 0.986\n",
      "Imputing row 601/1498 with 0 missing, elapsed time: 0.986\n",
      "Imputing row 701/1498 with 0 missing, elapsed time: 0.986\n",
      "Imputing row 801/1498 with 0 missing, elapsed time: 0.994\n",
      "Imputing row 901/1498 with 0 missing, elapsed time: 0.994\n",
      "Imputing row 1001/1498 with 1 missing, elapsed time: 0.994\n",
      "Imputing row 1101/1498 with 0 missing, elapsed time: 0.994\n",
      "Imputing row 1201/1498 with 0 missing, elapsed time: 1.003\n",
      "Imputing row 1301/1498 with 0 missing, elapsed time: 1.003\n",
      "Imputing row 1401/1498 with 0 missing, elapsed time: 1.003\n",
      "Imputing row 1/388 with 0 missing, elapsed time: 0.072\n",
      "Imputing row 101/388 with 0 missing, elapsed time: 0.072\n",
      "Imputing row 201/388 with 0 missing, elapsed time: 0.072\n",
      "Imputing row 301/388 with 0 missing, elapsed time: 0.080\n",
>>>>>>> a20461cee60fd8e22f56ad6c8adfcc65085718d0
      "save file to: C:\\Users\\buzga\\Desktop\\School\\Reaserch\\Langone\\ML_RA_EHR\\Dataset\\.csv_temp\\Train.csv\n",
      "save file to: C:\\Users\\buzga\\Desktop\\School\\Reaserch\\Langone\\ML_RA_EHR\\Dataset\\.csv_temp\\Test.csv\n"
     ]
    }
   ],
   "source": [
    "## importing data. \n",
    "path=r'C:\\Users\\buzga\\Desktop\\School\\Reaserch\\Langone\\ML_RA_EHR\\Dataset'\n",
    "df = Data_Preparation.CoronnaCERTAINDataset(\n",
    "    library_root=path,\n",
    "    challenge=\"two_stage\", #option: regression, classification, two_stage\n",
    "    dataset='CORRONA CERTAIN', \n",
    "    process_approach='SC', #option: KVB, SC\n",
    "    imputation='KNN', #option: SimpleFill, KNN, SoftImpute, BiScaler, NuclearNormMinimization, IterativeImputer, IterativeSVD\n",
    "    patient_group='bionaive TNF', #option: \"all\", \"bioexp nTNF\", \"bionaive TNF\", \"bionaive orencia\", \"KVB\"\n",
    "    drug_group='all', #option: \"all\", \"actemra\", \"cimzia\", \"enbrel\", \"humira\", \"orencia\", \"remicade\", \"rituxan\", \"simponi\"\n",
    "    time_points=(0,3), \n",
    "    train_test_rate=0.8,\n",
    "    save_csv=False, \n",
    "    random_state=2022)\n",
    "\n"
   ]
  },
  {
   "cell_type": "code",
<<<<<<< HEAD
   "execution_count": 30,
=======
   "execution_count": 3,
>>>>>>> a20461cee60fd8e22f56ad6c8adfcc65085718d0
   "metadata": {},
   "outputs": [
    {
     "name": "stdout",
     "output_type": "stream",
     "text": [
      "x_train shape is  (321, 54)\n",
      "y_train shape is  (321,)\n",
      "x_test shape is  (86, 54)\n",
      "y_test shape is  (86,)\n"
     ]
    }
   ],
   "source": [
    "train, train_loc = df.get_train()\n",
    "test, test_loc = df.get_test()\n",
    "X_train = train.iloc[:,:-1]\n",
    "y_train = train.iloc[:,-1]\n",
    "X_test = test.iloc[:,:-1]\n",
    "y_test = test.iloc[:,-1]\n",
    "print(\"x_train shape is \", X_train.shape)\n",
    "print(\"y_train shape is \", y_train.shape)\n",
    "print(\"x_test shape is \", X_test.shape)\n",
    "print(\"y_test shape is \", y_test.shape)"
   ]
  },
  {
   "cell_type": "markdown",
   "metadata": {},
   "source": [
    "## OLS Regression\n"
   ]
  },
  {
   "cell_type": "code",
<<<<<<< HEAD
   "execution_count": 31,
=======
   "execution_count": 4,
>>>>>>> a20461cee60fd8e22f56ad6c8adfcc65085718d0
   "metadata": {},
   "outputs": [],
   "source": [
    "ols = linear_model.LinearRegression()\n",
    "ols.fit(X_train,y_train)\n",
    "ols_preds=ols.predict(X_test)\n"
   ]
  },
  {
   "cell_type": "markdown",
   "metadata": {},
   "source": [
    "## Ridge Regresion"
   ]
  },
  {
   "cell_type": "code",
<<<<<<< HEAD
   "execution_count": 32,
=======
   "execution_count": 5,
>>>>>>> a20461cee60fd8e22f56ad6c8adfcc65085718d0
   "metadata": {},
   "outputs": [],
   "source": [
    "ridge_model = linear_model.RidgeCV()\n",
    "ridge_model.fit(X_train,y_train)\n",
    "ridge_preds=ridge_model.predict(X_test)\n",
    "    "
   ]
  },
  {
   "cell_type": "markdown",
   "metadata": {},
   "source": [
    "## Lasso Regression"
   ]
  },
  {
   "cell_type": "code",
<<<<<<< HEAD
   "execution_count": 33,
=======
   "execution_count": 6,
>>>>>>> a20461cee60fd8e22f56ad6c8adfcc65085718d0
   "metadata": {},
   "outputs": [],
   "source": [
    "Lasso_model = linear_model.Lasso()\n",
    "Lasso_model.fit(X_train,y_train)\n",
    "laso_preds=Lasso_model.predict(X_test)"
   ]
  },
  {
   "cell_type": "markdown",
   "metadata": {},
   "source": [
    "## Elastic Net"
   ]
  },
  {
   "cell_type": "code",
<<<<<<< HEAD
   "execution_count": 34,
=======
   "execution_count": 7,
>>>>>>> a20461cee60fd8e22f56ad6c8adfcc65085718d0
   "metadata": {},
   "outputs": [],
   "source": [
    "Elastic_net_model = linear_model.ElasticNet()\n",
    "Elastic_net_model.fit(X_train,y_train)\n",
    "Elastic_net_preds=Elastic_net_model.predict(X_test)"
   ]
  },
  {
   "cell_type": "markdown",
   "metadata": {},
   "source": [
    "## Random Forrest"
   ]
  },
  {
   "cell_type": "code",
<<<<<<< HEAD
   "execution_count": 35,
=======
   "execution_count": 8,
>>>>>>> a20461cee60fd8e22f56ad6c8adfcc65085718d0
   "metadata": {},
   "outputs": [],
   "source": [
    "Random_forrest_model=ensemble.RandomForestRegressor()\n",
    "Random_forrest_model.fit(X_train,y_train)\n",
    "Random_forrest_predictions=Random_forrest_model.predict(X_test)"
   ]
  },
  {
   "cell_type": "markdown",
   "metadata": {},
   "source": [
    "## SVM with difrent kernels"
   ]
  },
  {
   "cell_type": "code",
<<<<<<< HEAD
   "execution_count": 36,
=======
   "execution_count": 9,
>>>>>>> a20461cee60fd8e22f56ad6c8adfcc65085718d0
   "metadata": {},
   "outputs": [],
   "source": [
    "svm_model=svm.SVR()\n",
    "svm_model.fit(X_train,y_train)\n",
    "svm_preds=svm_model.predict(X_test)"
   ]
  },
  {
   "cell_type": "code",
<<<<<<< HEAD
   "execution_count": 37,
=======
   "execution_count": 10,
>>>>>>> a20461cee60fd8e22f56ad6c8adfcc65085718d0
   "metadata": {},
   "outputs": [],
   "source": [
    "svm_poly_model=svm.SVR(kernel=\"poly\")\n",
    "svm_poly_model.fit(X_train,y_train)\n",
    "svm_poly_preds=svm_poly_model.predict(X_test)"
   ]
  },
  {
   "cell_type": "code",
<<<<<<< HEAD
   "execution_count": 38,
=======
   "execution_count": 11,
>>>>>>> a20461cee60fd8e22f56ad6c8adfcc65085718d0
   "metadata": {},
   "outputs": [],
   "source": [
    "svm_sig_model=svm.SVR(kernel=\"sigmoid\")\n",
    "svm_sig_model.fit(X_train,y_train)\n",
    "svm_sig_preds=svm_sig_model.predict(X_test)"
   ]
  },
  {
   "cell_type": "markdown",
   "metadata": {},
   "source": [
    "## XGBoost"
   ]
  },
  {
   "cell_type": "code",
<<<<<<< HEAD
   "execution_count": 39,
=======
   "execution_count": 12,
>>>>>>> a20461cee60fd8e22f56ad6c8adfcc65085718d0
   "metadata": {},
   "outputs": [],
   "source": [
    "xgboost = xgb.XGBRegressor()\n",
    "xgboost.fit(X_train, y_train)\n",
    "xgboost_preds = xgboost.predict(X_test)"
   ]
  },
  {
   "cell_type": "markdown",
   "metadata": {},
   "source": [
    "## Stacking "
   ]
  },
  {
   "cell_type": "code",
<<<<<<< HEAD
   "execution_count": 40,
=======
   "execution_count": 13,
>>>>>>> a20461cee60fd8e22f56ad6c8adfcc65085718d0
   "metadata": {},
   "outputs": [],
   "source": [
    "estimators=[('lr',linear_model.RidgeCV()),('svr', svm.SVR()),(\"rf\", ensemble.RandomForestRegressor())  ]\n",
    "stracking_model = ensemble.StackingRegressor(estimators =estimators,final_estimator =linear_model.RidgeCV())    \n",
    "stracking_model.fit(X_train,y_train)\n",
    "stacking_model_preds=stracking_model.predict(X_test)"
   ]
  },
  {
   "cell_type": "markdown",
   "metadata": {},
   "source": [
    "## accuracy"
   ]
  },
  {
   "cell_type": "code",
<<<<<<< HEAD
   "execution_count": 41,
   "metadata": {},
   "outputs": [
    {
     "ename": "TypeError",
     "evalue": "__init__() got an unexpected keyword argument 'challange'",
     "output_type": "error",
     "traceback": [
      "\u001b[1;31m---------------------------------------------------------------------------\u001b[0m",
      "\u001b[1;31mTypeError\u001b[0m                                 Traceback (most recent call last)",
      "\u001b[1;32m~\\AppData\\Local\\Temp/ipykernel_19992/2750466008.py\u001b[0m in \u001b[0;36m<module>\u001b[1;34m\u001b[0m\n\u001b[1;32m----> 1\u001b[1;33m \u001b[0maml\u001b[0m \u001b[1;33m=\u001b[0m \u001b[0mevaluate\u001b[0m\u001b[1;33m.\u001b[0m\u001b[0mAutoBuild\u001b[0m\u001b[1;33m(\u001b[0m\u001b[0mseed\u001b[0m\u001b[1;33m=\u001b[0m\u001b[1;36m1\u001b[0m\u001b[1;33m,\u001b[0m \u001b[0mproject_name\u001b[0m\u001b[1;33m=\u001b[0m\u001b[1;34m\"EHR_RA_SC\"\u001b[0m\u001b[1;33m,\u001b[0m \u001b[0mchallange\u001b[0m\u001b[1;33m=\u001b[0m\u001b[1;34m'classification'\u001b[0m\u001b[1;33m)\u001b[0m\u001b[1;33m\u001b[0m\u001b[1;33m\u001b[0m\u001b[0m\n\u001b[0m\u001b[0;32m      2\u001b[0m \u001b[0mbaseline\u001b[0m \u001b[1;33m=\u001b[0m \u001b[0mtest\u001b[0m\u001b[1;33m[\u001b[0m\u001b[1;34m'DAS28_CRP_0M'\u001b[0m\u001b[1;33m]\u001b[0m\u001b[1;33m\u001b[0m\u001b[1;33m\u001b[0m\u001b[0m\n\u001b[0;32m      3\u001b[0m \u001b[1;31m# true = test['DAS28_CRP_3M']\u001b[0m\u001b[1;33m\u001b[0m\u001b[1;33m\u001b[0m\u001b[1;33m\u001b[0m\u001b[0m\n\u001b[0;32m      4\u001b[0m \u001b[1;31m# aml.evaluate(\"OLS Model\", test, ols_preds)\u001b[0m\u001b[1;33m\u001b[0m\u001b[1;33m\u001b[0m\u001b[1;33m\u001b[0m\u001b[0m\n\u001b[0;32m      5\u001b[0m \u001b[1;31m# aml.evaluate(\"Ridge Linear Model\", test, ridge_preds)\u001b[0m\u001b[1;33m\u001b[0m\u001b[1;33m\u001b[0m\u001b[1;33m\u001b[0m\u001b[0m\n",
      "\u001b[1;31mTypeError\u001b[0m: __init__() got an unexpected keyword argument 'challange'"
     ]
    }
   ],
   "source": [
    "aml = evaluate.AutoBuild(seed=1, project_name=\"EHR_RA_SC\", challange='classification')\n",
    "baseline = test['DAS28_CRP_0M']\n",
    "# true = test['DAS28_CRP_3M']\n",
    "# aml.evaluate(\"OLS Model\", test, ols_preds)\n",
    "# aml.evaluate(\"Ridge Linear Model\", test, ridge_preds)\n",
    "# aml.evaluate(\"Lasso Linear Model\", test, laso_preds)\n",
    "# aml.evaluate(\"Elastic Nets\", test, Elastic_net_preds)\n",
    "# aml.evaluate(\"SVM RBF\", test, svm_preds)\n",
    "# aml.evaluate(\"SVM POLY\", test, svm_poly_preds)\n",
    "# aml.evaluate(\"SVM sigmoid\", test, svm_sig_preds)\n",
    "# aml.evaluate(\"Random Forrest Regresion\", test, Random_forrest_predictions)\n",
    "# aml.evaluate(\"XGBoost Regression\", test, xgboost_preds)\n",
    "# aml.evaluate(\"Stacking Regression\", test, stacking_model_preds)\n",
    "# regression, classification = aml.leaderboard()"
=======
   "execution_count": 14,
   "metadata": {},
   "outputs": [],
   "source": [
    "aml = evaluate.AutoBuild(seed=1, project_name=\"EHR_RA_SC\")\n",
    "baseline = test['DAS28_CRP_0M']\n",
    "true = test['DAS28_CRP_3M']\n",
    "aml.evaluate(\"OLS Model\", baseline, true, ols_preds)\n",
    "aml.evaluate(\"Ridge Linear Model\", baseline, true, ridge_preds)\n",
    "aml.evaluate(\"Lasso Linear Model\", baseline, true, laso_preds)\n",
    "aml.evaluate(\"Elastic Nets\", baseline, true, Elastic_net_preds)\n",
    "aml.evaluate(\"SVM RBF\", baseline, true, svm_preds)\n",
    "aml.evaluate(\"SVM POLY\", baseline, true, svm_poly_preds)\n",
    "aml.evaluate(\"SVM sigmoid\", baseline, true, svm_sig_preds)\n",
    "aml.evaluate(\"Random Forrest Regresion\", baseline, true, Random_forrest_predictions)\n",
    "aml.evaluate(\"XGBoost Regression\", baseline, true, xgboost_preds)\n",
    "aml.evaluate(\"Stacking Regression\", baseline, true, stacking_model_preds)\n",
    "regression, classification = aml.leaderboard()"
>>>>>>> a20461cee60fd8e22f56ad6c8adfcc65085718d0
   ]
  },
  {
   "cell_type": "code",
<<<<<<< HEAD
   "execution_count": null,
=======
   "execution_count": 15,
>>>>>>> a20461cee60fd8e22f56ad6c8adfcc65085718d0
   "metadata": {},
   "outputs": [
    {
     "data": {
      "text/html": [
       "<div>\n",
       "<style scoped>\n",
       "    .dataframe tbody tr th:only-of-type {\n",
       "        vertical-align: middle;\n",
       "    }\n",
       "\n",
       "    .dataframe tbody tr th {\n",
       "        vertical-align: top;\n",
       "    }\n",
       "\n",
       "    .dataframe thead th {\n",
       "        text-align: right;\n",
       "    }\n",
       "</style>\n",
       "<table border=\"1\" class=\"dataframe\">\n",
       "  <thead>\n",
       "    <tr style=\"text-align: right;\">\n",
       "      <th></th>\n",
       "      <th>model</th>\n",
       "      <th>MAE</th>\n",
       "      <th>MSE</th>\n",
       "      <th>RMSE</th>\n",
       "      <th>R2</th>\n",
       "      <th>Pearson_Correlation</th>\n",
       "    </tr>\n",
       "  </thead>\n",
       "  <tbody>\n",
       "    <tr>\n",
       "      <th>0</th>\n",
       "      <td>OLS Model</td>\n",
       "      <td>1.037648</td>\n",
       "      <td>1.643516</td>\n",
       "      <td>1.281997</td>\n",
       "      <td>0.165207</td>\n",
       "      <td>0.450617</td>\n",
       "    </tr>\n",
       "    <tr>\n",
       "      <th>1</th>\n",
       "      <td>Ridge Linear Model</td>\n",
       "      <td>1.022609</td>\n",
       "      <td>1.580530</td>\n",
       "      <td>1.257191</td>\n",
       "      <td>0.197199</td>\n",
       "      <td>0.473213</td>\n",
       "    </tr>\n",
       "    <tr>\n",
       "      <th>2</th>\n",
       "      <td>Lasso Linear Model</td>\n",
       "      <td>1.075564</td>\n",
       "      <td>1.707964</td>\n",
       "      <td>1.306891</td>\n",
       "      <td>0.132471</td>\n",
       "      <td>0.383525</td>\n",
       "    </tr>\n",
       "    <tr>\n",
       "      <th>3</th>\n",
       "      <td>Elastic Nets</td>\n",
       "      <td>1.070380</td>\n",
       "      <td>1.679601</td>\n",
       "      <td>1.295994</td>\n",
       "      <td>0.146878</td>\n",
       "      <td>0.401157</td>\n",
       "    </tr>\n",
       "    <tr>\n",
       "      <th>4</th>\n",
       "      <td>SVM RBF</td>\n",
       "      <td>1.142082</td>\n",
       "      <td>1.884675</td>\n",
       "      <td>1.372835</td>\n",
       "      <td>0.042714</td>\n",
       "      <td>0.409723</td>\n",
       "    </tr>\n",
       "    <tr>\n",
       "      <th>5</th>\n",
       "      <td>SVM POLY</td>\n",
       "      <td>1.164561</td>\n",
       "      <td>1.954299</td>\n",
       "      <td>1.397962</td>\n",
       "      <td>0.007350</td>\n",
       "      <td>0.219164</td>\n",
       "    </tr>\n",
       "    <tr>\n",
       "      <th>6</th>\n",
       "      <td>SVM sigmoid</td>\n",
       "      <td>1.831095</td>\n",
       "      <td>7.120923</td>\n",
       "      <td>2.668506</td>\n",
       "      <td>-2.616942</td>\n",
       "      <td>-0.066021</td>\n",
       "    </tr>\n",
       "    <tr>\n",
       "      <th>7</th>\n",
       "      <td>Random Forrest Regresion</td>\n",
<<<<<<< HEAD
       "      <td>0.997297</td>\n",
       "      <td>1.452760</td>\n",
       "      <td>1.205305</td>\n",
       "      <td>0.262097</td>\n",
       "      <td>0.590083</td>\n",
=======
       "      <td>0.992734</td>\n",
       "      <td>1.443958</td>\n",
       "      <td>1.201648</td>\n",
       "      <td>0.266568</td>\n",
       "      <td>0.577106</td>\n",
>>>>>>> a20461cee60fd8e22f56ad6c8adfcc65085718d0
       "    </tr>\n",
       "    <tr>\n",
       "      <th>8</th>\n",
       "      <td>XGBoost Regression</td>\n",
       "      <td>1.026149</td>\n",
       "      <td>1.596995</td>\n",
       "      <td>1.263723</td>\n",
       "      <td>0.188836</td>\n",
       "      <td>0.483459</td>\n",
       "    </tr>\n",
       "    <tr>\n",
       "      <th>9</th>\n",
       "      <td>Stacking Regression</td>\n",
<<<<<<< HEAD
       "      <td>0.992180</td>\n",
       "      <td>1.461022</td>\n",
       "      <td>1.208727</td>\n",
       "      <td>0.257901</td>\n",
       "      <td>0.561243</td>\n",
=======
       "      <td>0.989807</td>\n",
       "      <td>1.447329</td>\n",
       "      <td>1.203050</td>\n",
       "      <td>0.264856</td>\n",
       "      <td>0.566491</td>\n",
>>>>>>> a20461cee60fd8e22f56ad6c8adfcc65085718d0
       "    </tr>\n",
       "  </tbody>\n",
       "</table>\n",
       "</div>"
      ],
      "text/plain": [
       "                      model       MAE       MSE      RMSE        R2  \\\n",
       "0                 OLS Model  1.037648  1.643516  1.281997  0.165207   \n",
       "1        Ridge Linear Model  1.022609  1.580530  1.257191  0.197199   \n",
       "2        Lasso Linear Model  1.075564  1.707964  1.306891  0.132471   \n",
       "3              Elastic Nets  1.070380  1.679601  1.295994  0.146878   \n",
       "4                   SVM RBF  1.142082  1.884675  1.372835  0.042714   \n",
       "5                  SVM POLY  1.164561  1.954299  1.397962  0.007350   \n",
       "6               SVM sigmoid  1.831095  7.120923  2.668506 -2.616942   \n",
<<<<<<< HEAD
       "7  Random Forrest Regresion  0.997297  1.452760  1.205305  0.262097   \n",
       "8        XGBoost Regression  1.026149  1.596995  1.263723  0.188836   \n",
       "9       Stacking Regression  0.992180  1.461022  1.208727  0.257901   \n",
=======
       "7  Random Forrest Regresion  0.992734  1.443958  1.201648  0.266568   \n",
       "8        XGBoost Regression  1.026149  1.596995  1.263723  0.188836   \n",
       "9       Stacking Regression  0.989807  1.447329  1.203050  0.264856   \n",
>>>>>>> a20461cee60fd8e22f56ad6c8adfcc65085718d0
       "\n",
       "   Pearson_Correlation  \n",
       "0             0.450617  \n",
       "1             0.473213  \n",
       "2             0.383525  \n",
       "3             0.401157  \n",
       "4             0.409723  \n",
       "5             0.219164  \n",
       "6            -0.066021  \n",
<<<<<<< HEAD
       "7             0.590083  \n",
       "8             0.483459  \n",
       "9             0.561243  "
      ]
     },
     "execution_count": 17,
=======
       "7             0.577106  \n",
       "8             0.483459  \n",
       "9             0.566491  "
      ]
     },
     "execution_count": 15,
>>>>>>> a20461cee60fd8e22f56ad6c8adfcc65085718d0
     "metadata": {},
     "output_type": "execute_result"
    }
   ],
   "source": [
    "regression"
   ]
  },
  {
   "cell_type": "code",
<<<<<<< HEAD
   "execution_count": null,
=======
   "execution_count": 16,
>>>>>>> a20461cee60fd8e22f56ad6c8adfcc65085718d0
   "metadata": {},
   "outputs": [
    {
     "data": {
      "text/html": [
       "<div>\n",
       "<style scoped>\n",
       "    .dataframe tbody tr th:only-of-type {\n",
       "        vertical-align: middle;\n",
       "    }\n",
       "\n",
       "    .dataframe tbody tr th {\n",
       "        vertical-align: top;\n",
       "    }\n",
       "\n",
       "    .dataframe thead th {\n",
       "        text-align: right;\n",
       "    }\n",
       "</style>\n",
       "<table border=\"1\" class=\"dataframe\">\n",
       "  <thead>\n",
       "    <tr style=\"text-align: right;\">\n",
       "      <th></th>\n",
       "      <th>model</th>\n",
       "      <th>Accuracy</th>\n",
       "      <th>F1-Score</th>\n",
       "    </tr>\n",
       "  </thead>\n",
       "  <tbody>\n",
       "    <tr>\n",
       "      <th>0</th>\n",
       "      <td>OLS Model</td>\n",
       "      <td>0.441860</td>\n",
       "      <td>0.428713</td>\n",
       "    </tr>\n",
       "    <tr>\n",
       "      <th>1</th>\n",
       "      <td>Ridge Linear Model</td>\n",
       "      <td>0.453488</td>\n",
       "      <td>0.435112</td>\n",
       "    </tr>\n",
       "    <tr>\n",
       "      <th>2</th>\n",
       "      <td>Lasso Linear Model</td>\n",
       "      <td>0.418605</td>\n",
       "      <td>0.364713</td>\n",
       "    </tr>\n",
       "    <tr>\n",
       "      <th>3</th>\n",
       "      <td>Elastic Nets</td>\n",
       "      <td>0.418605</td>\n",
       "      <td>0.377950</td>\n",
       "    </tr>\n",
       "    <tr>\n",
       "      <th>4</th>\n",
       "      <td>SVM RBF</td>\n",
       "      <td>0.418605</td>\n",
       "      <td>0.376575</td>\n",
       "    </tr>\n",
       "    <tr>\n",
       "      <th>5</th>\n",
       "      <td>SVM POLY</td>\n",
       "      <td>0.430233</td>\n",
       "      <td>0.375960</td>\n",
       "    </tr>\n",
       "    <tr>\n",
       "      <th>6</th>\n",
       "      <td>SVM sigmoid</td>\n",
       "      <td>0.372093</td>\n",
       "      <td>0.365300</td>\n",
       "    </tr>\n",
       "    <tr>\n",
       "      <th>7</th>\n",
       "      <td>Random Forrest Regresion</td>\n",
<<<<<<< HEAD
       "      <td>0.441860</td>\n",
       "      <td>0.364159</td>\n",
=======
       "      <td>0.465116</td>\n",
       "      <td>0.406564</td>\n",
>>>>>>> a20461cee60fd8e22f56ad6c8adfcc65085718d0
       "    </tr>\n",
       "    <tr>\n",
       "      <th>8</th>\n",
       "      <td>XGBoost Regression</td>\n",
       "      <td>0.500000</td>\n",
       "      <td>0.483607</td>\n",
       "    </tr>\n",
       "    <tr>\n",
       "      <th>9</th>\n",
       "      <td>Stacking Regression</td>\n",
<<<<<<< HEAD
       "      <td>0.453488</td>\n",
       "      <td>0.415723</td>\n",
=======
       "      <td>0.418605</td>\n",
       "      <td>0.374313</td>\n",
>>>>>>> a20461cee60fd8e22f56ad6c8adfcc65085718d0
       "    </tr>\n",
       "  </tbody>\n",
       "</table>\n",
       "</div>"
      ],
      "text/plain": [
       "                      model  Accuracy  F1-Score\n",
       "0                 OLS Model  0.441860  0.428713\n",
       "1        Ridge Linear Model  0.453488  0.435112\n",
       "2        Lasso Linear Model  0.418605  0.364713\n",
       "3              Elastic Nets  0.418605  0.377950\n",
       "4                   SVM RBF  0.418605  0.376575\n",
       "5                  SVM POLY  0.430233  0.375960\n",
       "6               SVM sigmoid  0.372093  0.365300\n",
<<<<<<< HEAD
       "7  Random Forrest Regresion  0.441860  0.364159\n",
       "8        XGBoost Regression  0.500000  0.483607\n",
       "9       Stacking Regression  0.453488  0.415723"
      ]
     },
     "execution_count": 18,
=======
       "7  Random Forrest Regresion  0.465116  0.406564\n",
       "8        XGBoost Regression  0.500000  0.483607\n",
       "9       Stacking Regression  0.418605  0.374313"
      ]
     },
     "execution_count": 16,
>>>>>>> a20461cee60fd8e22f56ad6c8adfcc65085718d0
     "metadata": {},
     "output_type": "execute_result"
    }
   ],
   "source": [
    "classification"
   ]
  },
  {
   "cell_type": "code",
<<<<<<< HEAD
   "execution_count": null,
=======
   "execution_count": 17,
>>>>>>> a20461cee60fd8e22f56ad6c8adfcc65085718d0
   "metadata": {},
   "outputs": [
    {
     "data": {
<<<<<<< HEAD
      "image/png": "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",
      "text/plain": [
       "<Figure size 432x288 with 1 Axes>"
      ]
     },
     "metadata": {
      "needs_background": "light"
     },
     "output_type": "display_data"
    }
   ],
   "source": [
    "x=aml.confusion_matrix('Random Forrest Regresion')\n",
    "\n",
    "#sns.heatmap(x)"
=======
      "text/html": [
       "<div>\n",
       "<style scoped>\n",
       "    .dataframe tbody tr th:only-of-type {\n",
       "        vertical-align: middle;\n",
       "    }\n",
       "\n",
       "    .dataframe tbody tr th {\n",
       "        vertical-align: top;\n",
       "    }\n",
       "\n",
       "    .dataframe thead th {\n",
       "        text-align: right;\n",
       "    }\n",
       "</style>\n",
       "<table border=\"1\" class=\"dataframe\">\n",
       "  <thead>\n",
       "    <tr style=\"text-align: right;\">\n",
       "      <th></th>\n",
       "      <th>Good</th>\n",
       "      <th>Moderate</th>\n",
       "      <th>No Response</th>\n",
       "    </tr>\n",
       "  </thead>\n",
       "  <tbody>\n",
       "    <tr>\n",
       "      <th>Good</th>\n",
       "      <td>12</td>\n",
       "      <td>16</td>\n",
       "      <td>2</td>\n",
       "    </tr>\n",
       "    <tr>\n",
       "      <th>Moderate</th>\n",
       "      <td>5</td>\n",
       "      <td>25</td>\n",
       "      <td>1</td>\n",
       "    </tr>\n",
       "    <tr>\n",
       "      <th>No Response</th>\n",
       "      <td>4</td>\n",
       "      <td>18</td>\n",
       "      <td>3</td>\n",
       "    </tr>\n",
       "  </tbody>\n",
       "</table>\n",
       "</div>"
      ],
      "text/plain": [
       "             Good  Moderate  No Response\n",
       "Good           12        16            2\n",
       "Moderate        5        25            1\n",
       "No Response     4        18            3"
      ]
     },
     "execution_count": 17,
     "metadata": {},
     "output_type": "execute_result"
    }
   ],
   "source": [
    "aml.confusion_matrix(\"Random Forrest Regresion\")"
>>>>>>> a20461cee60fd8e22f56ad6c8adfcc65085718d0
   ]
  },
  {
   "cell_type": "code",
<<<<<<< HEAD
   "execution_count": null,
=======
   "execution_count": 18,
>>>>>>> a20461cee60fd8e22f56ad6c8adfcc65085718d0
   "metadata": {},
   "outputs": [
    {
     "data": {
<<<<<<< HEAD
      "image/png": "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",
      "text/plain": [
       "<Figure size 432x288 with 1 Axes>"
      ]
     },
     "metadata": {
      "needs_background": "light"
     },
     "output_type": "display_data"
    },
    {
     "data": {
      "image/png": "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",
      "text/plain": [
       "<Figure size 432x288 with 1 Axes>"
      ]
     },
     "metadata": {
      "needs_background": "light"
     },
     "output_type": "display_data"
    },
    {
     "data": {
      "image/png": "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",
      "text/plain": [
       "<Figure size 432x288 with 1 Axes>"
      ]
     },
     "metadata": {
      "needs_background": "light"
     },
     "output_type": "display_data"
    }
   ],
   "source": [
    "aml.confusion_matrix(\"XGBoost Regression\")\n",
    "\n",
    "aml.plot_results('classification',metics=\"Accuracy\")\n",
    "aml.plot_results('regression',metics=\"MSE\")"
=======
      "text/html": [
       "<div>\n",
       "<style scoped>\n",
       "    .dataframe tbody tr th:only-of-type {\n",
       "        vertical-align: middle;\n",
       "    }\n",
       "\n",
       "    .dataframe tbody tr th {\n",
       "        vertical-align: top;\n",
       "    }\n",
       "\n",
       "    .dataframe thead th {\n",
       "        text-align: right;\n",
       "    }\n",
       "</style>\n",
       "<table border=\"1\" class=\"dataframe\">\n",
       "  <thead>\n",
       "    <tr style=\"text-align: right;\">\n",
       "      <th></th>\n",
       "      <th>Good</th>\n",
       "      <th>Moderate</th>\n",
       "      <th>No Response</th>\n",
       "    </tr>\n",
       "  </thead>\n",
       "  <tbody>\n",
       "    <tr>\n",
       "      <th>Good</th>\n",
       "      <td>13</td>\n",
       "      <td>14</td>\n",
       "      <td>3</td>\n",
       "    </tr>\n",
       "    <tr>\n",
       "      <th>Moderate</th>\n",
       "      <td>6</td>\n",
       "      <td>22</td>\n",
       "      <td>3</td>\n",
       "    </tr>\n",
       "    <tr>\n",
       "      <th>No Response</th>\n",
       "      <td>4</td>\n",
       "      <td>13</td>\n",
       "      <td>8</td>\n",
       "    </tr>\n",
       "  </tbody>\n",
       "</table>\n",
       "</div>"
      ],
      "text/plain": [
       "             Good  Moderate  No Response\n",
       "Good           13        14            3\n",
       "Moderate        6        22            3\n",
       "No Response     4        13            8"
      ]
     },
     "execution_count": 18,
     "metadata": {},
     "output_type": "execute_result"
    }
   ],
   "source": [
    "aml.confusion_matrix(\"XGBoost Regression\")"
>>>>>>> a20461cee60fd8e22f56ad6c8adfcc65085718d0
   ]
  },
  {
   "cell_type": "code",
<<<<<<< HEAD
   "execution_count": null,
=======
   "execution_count": 19,
>>>>>>> a20461cee60fd8e22f56ad6c8adfcc65085718d0
   "metadata": {},
   "outputs": [
    {
     "data": {
<<<<<<< HEAD
      "image/png": "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",
=======
      "image/png": "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",
>>>>>>> a20461cee60fd8e22f56ad6c8adfcc65085718d0
      "text/plain": [
       "<Figure size 432x288 with 1 Axes>"
      ]
     },
     "metadata": {
      "needs_background": "light"
     },
     "output_type": "display_data"
    }
   ],
   "source": [
    "aml.plot_results('classification')"
   ]
<<<<<<< HEAD
  },
  {
   "cell_type": "code",
   "execution_count": null,
   "metadata": {},
   "outputs": [],
   "source": []
=======
>>>>>>> a20461cee60fd8e22f56ad6c8adfcc65085718d0
  }
 ],
 "metadata": {
  "kernelspec": {
   "display_name": "Python 3.8.8 ('base')",
   "language": "python",
   "name": "python3"
  },
  "language_info": {
   "codemirror_mode": {
    "name": "ipython",
    "version": 3
   },
   "file_extension": ".py",
   "mimetype": "text/x-python",
   "name": "python",
   "nbconvert_exporter": "python",
   "pygments_lexer": "ipython3",
   "version": "3.8.8"
  },
  "orig_nbformat": 4,
  "vscode": {
   "interpreter": {
    "hash": "9a7a47e06beb32a03ad382b3cb45f6688197811263189ecf77f249956dea5c75"
   }
  }
 },
 "nbformat": 4,
 "nbformat_minor": 2
}
