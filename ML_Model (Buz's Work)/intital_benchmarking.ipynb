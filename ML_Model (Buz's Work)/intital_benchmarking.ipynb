{
 "cells": [
  {
   "cell_type": "code",
   "execution_count": 1,
   "metadata": {},
   "outputs": [],
   "source": [
    "import sys\n",
    "sys.path.insert(0, r'C:\\Users\\buzga\\Desktop\\School\\Reaserch\\Langone\\ML_RA_EHR\\DataModule')\n",
    "sys.path.insert(0, r'C:\\Users\\buzga\\Desktop\\School\\Reaserch\\Langone\\ML_RA_EHR')\n",
    "import matplotlib.pyplot as plt\n",
    "import Data_Preparation\n",
    "import evaluate \n",
    "import pandas as pd \n",
    "import numpy as np\n",
    "import seaborn as sns\n",
    "from sklearn.metrics import mean_squared_error\n",
    "from sklearn import linear_model\n",
    "from sklearn import ensemble\n",
    "from sklearn import svm\n",
    "import xgboost as xgb"
   ]
  },
  {
   "cell_type": "code",
   "execution_count": 2,
   "metadata": {},
   "outputs": [
    {
     "name": "stdout",
     "output_type": "stream",
     "text": [
      "feature engineering, drop columns due to 70% missing value: Index(['smkyrs', 'numcigs', 'rfstatus_impute', 'ccpstatus_impute',\n",
      "       'statin_use'],\n",
      "      dtype='object')\n",
      "Imputing row 1/1498 with 0 missing, elapsed time: 0.978\n",
      "Imputing row 101/1498 with 1 missing, elapsed time: 0.978\n",
      "Imputing row 201/1498 with 0 missing, elapsed time: 0.978\n",
      "Imputing row 301/1498 with 0 missing, elapsed time: 0.986\n",
      "Imputing row 401/1498 with 0 missing, elapsed time: 0.986\n",
      "Imputing row 501/1498 with 1 missing, elapsed time: 0.986\n",
      "Imputing row 601/1498 with 0 missing, elapsed time: 0.986\n",
      "Imputing row 701/1498 with 0 missing, elapsed time: 0.986\n",
      "Imputing row 801/1498 with 0 missing, elapsed time: 0.994\n",
      "Imputing row 901/1498 with 0 missing, elapsed time: 0.994\n",
      "Imputing row 1001/1498 with 1 missing, elapsed time: 0.994\n",
      "Imputing row 1101/1498 with 0 missing, elapsed time: 0.994\n",
      "Imputing row 1201/1498 with 0 missing, elapsed time: 1.003\n",
      "Imputing row 1301/1498 with 0 missing, elapsed time: 1.003\n",
      "Imputing row 1401/1498 with 0 missing, elapsed time: 1.003\n",
      "Imputing row 1/388 with 0 missing, elapsed time: 0.072\n",
      "Imputing row 101/388 with 0 missing, elapsed time: 0.072\n",
      "Imputing row 201/388 with 0 missing, elapsed time: 0.072\n",
      "Imputing row 301/388 with 0 missing, elapsed time: 0.080\n",
      "save file to: C:\\Users\\buzga\\Desktop\\School\\Reaserch\\Langone\\ML_RA_EHR\\Dataset\\.csv_temp\\Train.csv\n",
      "save file to: C:\\Users\\buzga\\Desktop\\School\\Reaserch\\Langone\\ML_RA_EHR\\Dataset\\.csv_temp\\Test.csv\n"
     ]
    }
   ],
   "source": [
    "## importing data. \n",
    "path=r'C:\\Users\\buzga\\Desktop\\School\\Reaserch\\Langone\\ML_RA_EHR\\Dataset'\n",
    "df = Data_Preparation.CoronnaCERTAINDataset(\n",
    "    library_root=path,\n",
    "    challenge=\"two_stage\", #option: regression, classification, two_stage\n",
    "    dataset='CORRONA CERTAIN', \n",
    "    process_approach='SC', #option: KVB, SC\n",
    "    imputation='KNN', #option: SimpleFill, KNN, SoftImpute, BiScaler, NuclearNormMinimization, IterativeImputer, IterativeSVD\n",
    "    patient_group='bionaive TNF', #option: \"all\", \"bioexp nTNF\", \"bionaive TNF\", \"bionaive orencia\", \"KVB\"\n",
    "    drug_group='all', #option: \"all\", \"actemra\", \"cimzia\", \"enbrel\", \"humira\", \"orencia\", \"remicade\", \"rituxan\", \"simponi\"\n",
    "    time_points=(0,3), \n",
    "    train_test_rate=0.8,\n",
    "    save_csv=False, \n",
    "    random_state=2022)\n",
    "\n"
   ]
  },
  {
   "cell_type": "code",
   "execution_count": 3,
   "metadata": {},
   "outputs": [
    {
     "name": "stdout",
     "output_type": "stream",
     "text": [
      "x_train shape is  (321, 54)\n",
      "y_train shape is  (321,)\n",
      "x_test shape is  (86, 54)\n",
      "y_test shape is  (86,)\n"
     ]
    }
   ],
   "source": [
    "train, train_loc = df.get_train()\n",
    "test, test_loc = df.get_test()\n",
    "X_train = train.iloc[:,:-1]\n",
    "y_train = train.iloc[:,-1]\n",
    "X_test = test.iloc[:,:-1]\n",
    "y_test = test.iloc[:,-1]\n",
    "print(\"x_train shape is \", X_train.shape)\n",
    "print(\"y_train shape is \", y_train.shape)\n",
    "print(\"x_test shape is \", X_test.shape)\n",
    "print(\"y_test shape is \", y_test.shape)"
   ]
  },
  {
   "cell_type": "markdown",
   "metadata": {},
   "source": [
    "## OLS Regression\n"
   ]
  },
  {
   "cell_type": "code",
   "execution_count": 4,
   "metadata": {},
   "outputs": [],
   "source": [
    "ols = linear_model.LinearRegression()\n",
    "ols.fit(X_train,y_train)\n",
    "ols_preds=ols.predict(X_test)\n"
   ]
  },
  {
   "cell_type": "markdown",
   "metadata": {},
   "source": [
    "## Ridge Regresion"
   ]
  },
  {
   "cell_type": "code",
   "execution_count": 5,
   "metadata": {},
   "outputs": [],
   "source": [
    "ridge_model = linear_model.RidgeCV()\n",
    "ridge_model.fit(X_train,y_train)\n",
    "ridge_preds=ridge_model.predict(X_test)\n",
    "    "
   ]
  },
  {
   "cell_type": "markdown",
   "metadata": {},
   "source": [
    "## Lasso Regression"
   ]
  },
  {
   "cell_type": "code",
   "execution_count": 6,
   "metadata": {},
   "outputs": [],
   "source": [
    "Lasso_model = linear_model.Lasso()\n",
    "Lasso_model.fit(X_train,y_train)\n",
    "laso_preds=Lasso_model.predict(X_test)"
   ]
  },
  {
   "cell_type": "markdown",
   "metadata": {},
   "source": [
    "## Elastic Net"
   ]
  },
  {
   "cell_type": "code",
   "execution_count": 7,
   "metadata": {},
   "outputs": [],
   "source": [
    "Elastic_net_model = linear_model.ElasticNet()\n",
    "Elastic_net_model.fit(X_train,y_train)\n",
    "Elastic_net_preds=Elastic_net_model.predict(X_test)"
   ]
  },
  {
   "cell_type": "markdown",
   "metadata": {},
   "source": [
    "## Random Forrest"
   ]
  },
  {
   "cell_type": "code",
   "execution_count": 8,
   "metadata": {},
   "outputs": [],
   "source": [
    "Random_forrest_model=ensemble.RandomForestRegressor()\n",
    "Random_forrest_model.fit(X_train,y_train)\n",
    "Random_forrest_predictions=Random_forrest_model.predict(X_test)"
   ]
  },
  {
   "cell_type": "markdown",
   "metadata": {},
   "source": [
    "## SVM with difrent kernels"
   ]
  },
  {
   "cell_type": "code",
   "execution_count": 9,
   "metadata": {},
   "outputs": [],
   "source": [
    "svm_model=svm.SVR()\n",
    "svm_model.fit(X_train,y_train)\n",
    "svm_preds=svm_model.predict(X_test)"
   ]
  },
  {
   "cell_type": "code",
   "execution_count": 10,
   "metadata": {},
   "outputs": [],
   "source": [
    "svm_poly_model=svm.SVR(kernel=\"poly\")\n",
    "svm_poly_model.fit(X_train,y_train)\n",
    "svm_poly_preds=svm_poly_model.predict(X_test)"
   ]
  },
  {
   "cell_type": "code",
   "execution_count": 11,
   "metadata": {},
   "outputs": [],
   "source": [
    "svm_sig_model=svm.SVR(kernel=\"sigmoid\")\n",
    "svm_sig_model.fit(X_train,y_train)\n",
    "svm_sig_preds=svm_sig_model.predict(X_test)"
   ]
  },
  {
   "cell_type": "markdown",
   "metadata": {},
   "source": [
    "## XGBoost"
   ]
  },
  {
   "cell_type": "code",
   "execution_count": 12,
   "metadata": {},
   "outputs": [],
   "source": [
    "xgboost = xgb.XGBRegressor()\n",
    "xgboost.fit(X_train, y_train)\n",
    "xgboost_preds = xgboost.predict(X_test)"
   ]
  },
  {
   "cell_type": "markdown",
   "metadata": {},
   "source": [
    "## Stacking "
   ]
  },
  {
   "cell_type": "code",
   "execution_count": 13,
   "metadata": {},
   "outputs": [],
   "source": [
    "estimators=[('lr',linear_model.RidgeCV()),('svr', svm.SVR()),(\"rf\", ensemble.RandomForestRegressor())  ]\n",
    "stracking_model = ensemble.StackingRegressor(estimators =estimators,final_estimator =linear_model.RidgeCV())    \n",
    "stracking_model.fit(X_train,y_train)\n",
    "stacking_model_preds=stracking_model.predict(X_test)"
   ]
  },
  {
   "cell_type": "markdown",
   "metadata": {},
   "source": [
    "## accuracy"
   ]
  },
  {
   "cell_type": "code",
   "execution_count": 14,
   "metadata": {},
   "outputs": [],
   "source": [
    "aml = evaluate.AutoBuild(seed=1, project_name=\"EHR_RA_SC\")\n",
    "baseline = test['DAS28_CRP_0M']\n",
    "true = test['DAS28_CRP_3M']\n",
    "aml.evaluate(\"OLS Model\", baseline, true, ols_preds)\n",
    "aml.evaluate(\"Ridge Linear Model\", baseline, true, ridge_preds)\n",
    "aml.evaluate(\"Lasso Linear Model\", baseline, true, laso_preds)\n",
    "aml.evaluate(\"Elastic Nets\", baseline, true, Elastic_net_preds)\n",
    "aml.evaluate(\"SVM RBF\", baseline, true, svm_preds)\n",
    "aml.evaluate(\"SVM POLY\", baseline, true, svm_poly_preds)\n",
    "aml.evaluate(\"SVM sigmoid\", baseline, true, svm_sig_preds)\n",
    "aml.evaluate(\"Random Forrest Regresion\", baseline, true, Random_forrest_predictions)\n",
    "aml.evaluate(\"XGBoost Regression\", baseline, true, xgboost_preds)\n",
    "aml.evaluate(\"Stacking Regression\", baseline, true, stacking_model_preds)\n",
    "regression, classification = aml.leaderboard()"
   ]
  },
  {
   "cell_type": "code",
   "execution_count": 15,
   "metadata": {},
   "outputs": [
    {
     "data": {
      "text/html": [
       "<div>\n",
       "<style scoped>\n",
       "    .dataframe tbody tr th:only-of-type {\n",
       "        vertical-align: middle;\n",
       "    }\n",
       "\n",
       "    .dataframe tbody tr th {\n",
       "        vertical-align: top;\n",
       "    }\n",
       "\n",
       "    .dataframe thead th {\n",
       "        text-align: right;\n",
       "    }\n",
       "</style>\n",
       "<table border=\"1\" class=\"dataframe\">\n",
       "  <thead>\n",
       "    <tr style=\"text-align: right;\">\n",
       "      <th></th>\n",
       "      <th>model</th>\n",
       "      <th>MAE</th>\n",
       "      <th>MSE</th>\n",
       "      <th>RMSE</th>\n",
       "      <th>R2</th>\n",
       "      <th>Pearson_Correlation</th>\n",
       "    </tr>\n",
       "  </thead>\n",
       "  <tbody>\n",
       "    <tr>\n",
       "      <th>0</th>\n",
       "      <td>OLS Model</td>\n",
       "      <td>1.037648</td>\n",
       "      <td>1.643516</td>\n",
       "      <td>1.281997</td>\n",
       "      <td>0.165207</td>\n",
       "      <td>0.450617</td>\n",
       "    </tr>\n",
       "    <tr>\n",
       "      <th>1</th>\n",
       "      <td>Ridge Linear Model</td>\n",
       "      <td>1.022609</td>\n",
       "      <td>1.580530</td>\n",
       "      <td>1.257191</td>\n",
       "      <td>0.197199</td>\n",
       "      <td>0.473213</td>\n",
       "    </tr>\n",
       "    <tr>\n",
       "      <th>2</th>\n",
       "      <td>Lasso Linear Model</td>\n",
       "      <td>1.075564</td>\n",
       "      <td>1.707964</td>\n",
       "      <td>1.306891</td>\n",
       "      <td>0.132471</td>\n",
       "      <td>0.383525</td>\n",
       "    </tr>\n",
       "    <tr>\n",
       "      <th>3</th>\n",
       "      <td>Elastic Nets</td>\n",
       "      <td>1.070380</td>\n",
       "      <td>1.679601</td>\n",
       "      <td>1.295994</td>\n",
       "      <td>0.146878</td>\n",
       "      <td>0.401157</td>\n",
       "    </tr>\n",
       "    <tr>\n",
       "      <th>4</th>\n",
       "      <td>SVM RBF</td>\n",
       "      <td>1.142082</td>\n",
       "      <td>1.884675</td>\n",
       "      <td>1.372835</td>\n",
       "      <td>0.042714</td>\n",
       "      <td>0.409723</td>\n",
       "    </tr>\n",
       "    <tr>\n",
       "      <th>5</th>\n",
       "      <td>SVM POLY</td>\n",
       "      <td>1.164561</td>\n",
       "      <td>1.954299</td>\n",
       "      <td>1.397962</td>\n",
       "      <td>0.007350</td>\n",
       "      <td>0.219164</td>\n",
       "    </tr>\n",
       "    <tr>\n",
       "      <th>6</th>\n",
       "      <td>SVM sigmoid</td>\n",
       "      <td>1.831095</td>\n",
       "      <td>7.120923</td>\n",
       "      <td>2.668506</td>\n",
       "      <td>-2.616942</td>\n",
       "      <td>-0.066021</td>\n",
       "    </tr>\n",
       "    <tr>\n",
       "      <th>7</th>\n",
       "      <td>Random Forrest Regresion</td>\n",
       "      <td>0.992734</td>\n",
       "      <td>1.443958</td>\n",
       "      <td>1.201648</td>\n",
       "      <td>0.266568</td>\n",
       "      <td>0.577106</td>\n",
       "    </tr>\n",
       "    <tr>\n",
       "      <th>8</th>\n",
       "      <td>XGBoost Regression</td>\n",
       "      <td>1.026149</td>\n",
       "      <td>1.596995</td>\n",
       "      <td>1.263723</td>\n",
       "      <td>0.188836</td>\n",
       "      <td>0.483459</td>\n",
       "    </tr>\n",
       "    <tr>\n",
       "      <th>9</th>\n",
       "      <td>Stacking Regression</td>\n",
       "      <td>0.989807</td>\n",
       "      <td>1.447329</td>\n",
       "      <td>1.203050</td>\n",
       "      <td>0.264856</td>\n",
       "      <td>0.566491</td>\n",
       "    </tr>\n",
       "  </tbody>\n",
       "</table>\n",
       "</div>"
      ],
      "text/plain": [
       "                      model       MAE       MSE      RMSE        R2  \\\n",
       "0                 OLS Model  1.037648  1.643516  1.281997  0.165207   \n",
       "1        Ridge Linear Model  1.022609  1.580530  1.257191  0.197199   \n",
       "2        Lasso Linear Model  1.075564  1.707964  1.306891  0.132471   \n",
       "3              Elastic Nets  1.070380  1.679601  1.295994  0.146878   \n",
       "4                   SVM RBF  1.142082  1.884675  1.372835  0.042714   \n",
       "5                  SVM POLY  1.164561  1.954299  1.397962  0.007350   \n",
       "6               SVM sigmoid  1.831095  7.120923  2.668506 -2.616942   \n",
       "7  Random Forrest Regresion  0.992734  1.443958  1.201648  0.266568   \n",
       "8        XGBoost Regression  1.026149  1.596995  1.263723  0.188836   \n",
       "9       Stacking Regression  0.989807  1.447329  1.203050  0.264856   \n",
       "\n",
       "   Pearson_Correlation  \n",
       "0             0.450617  \n",
       "1             0.473213  \n",
       "2             0.383525  \n",
       "3             0.401157  \n",
       "4             0.409723  \n",
       "5             0.219164  \n",
       "6            -0.066021  \n",
       "7             0.577106  \n",
       "8             0.483459  \n",
       "9             0.566491  "
      ]
     },
     "execution_count": 15,
     "metadata": {},
     "output_type": "execute_result"
    }
   ],
   "source": [
    "regression"
   ]
  },
  {
   "cell_type": "code",
   "execution_count": 16,
   "metadata": {},
   "outputs": [
    {
     "data": {
      "text/html": [
       "<div>\n",
       "<style scoped>\n",
       "    .dataframe tbody tr th:only-of-type {\n",
       "        vertical-align: middle;\n",
       "    }\n",
       "\n",
       "    .dataframe tbody tr th {\n",
       "        vertical-align: top;\n",
       "    }\n",
       "\n",
       "    .dataframe thead th {\n",
       "        text-align: right;\n",
       "    }\n",
       "</style>\n",
       "<table border=\"1\" class=\"dataframe\">\n",
       "  <thead>\n",
       "    <tr style=\"text-align: right;\">\n",
       "      <th></th>\n",
       "      <th>model</th>\n",
       "      <th>Accuracy</th>\n",
       "      <th>F1-Score</th>\n",
       "    </tr>\n",
       "  </thead>\n",
       "  <tbody>\n",
       "    <tr>\n",
       "      <th>0</th>\n",
       "      <td>OLS Model</td>\n",
       "      <td>0.441860</td>\n",
       "      <td>0.428713</td>\n",
       "    </tr>\n",
       "    <tr>\n",
       "      <th>1</th>\n",
       "      <td>Ridge Linear Model</td>\n",
       "      <td>0.453488</td>\n",
       "      <td>0.435112</td>\n",
       "    </tr>\n",
       "    <tr>\n",
       "      <th>2</th>\n",
       "      <td>Lasso Linear Model</td>\n",
       "      <td>0.418605</td>\n",
       "      <td>0.364713</td>\n",
       "    </tr>\n",
       "    <tr>\n",
       "      <th>3</th>\n",
       "      <td>Elastic Nets</td>\n",
       "      <td>0.418605</td>\n",
       "      <td>0.377950</td>\n",
       "    </tr>\n",
       "    <tr>\n",
       "      <th>4</th>\n",
       "      <td>SVM RBF</td>\n",
       "      <td>0.418605</td>\n",
       "      <td>0.376575</td>\n",
       "    </tr>\n",
       "    <tr>\n",
       "      <th>5</th>\n",
       "      <td>SVM POLY</td>\n",
       "      <td>0.430233</td>\n",
       "      <td>0.375960</td>\n",
       "    </tr>\n",
       "    <tr>\n",
       "      <th>6</th>\n",
       "      <td>SVM sigmoid</td>\n",
       "      <td>0.372093</td>\n",
       "      <td>0.365300</td>\n",
       "    </tr>\n",
       "    <tr>\n",
       "      <th>7</th>\n",
       "      <td>Random Forrest Regresion</td>\n",
       "      <td>0.465116</td>\n",
       "      <td>0.406564</td>\n",
       "    </tr>\n",
       "    <tr>\n",
       "      <th>8</th>\n",
       "      <td>XGBoost Regression</td>\n",
       "      <td>0.500000</td>\n",
       "      <td>0.483607</td>\n",
       "    </tr>\n",
       "    <tr>\n",
       "      <th>9</th>\n",
       "      <td>Stacking Regression</td>\n",
       "      <td>0.418605</td>\n",
       "      <td>0.374313</td>\n",
       "    </tr>\n",
       "  </tbody>\n",
       "</table>\n",
       "</div>"
      ],
      "text/plain": [
       "                      model  Accuracy  F1-Score\n",
       "0                 OLS Model  0.441860  0.428713\n",
       "1        Ridge Linear Model  0.453488  0.435112\n",
       "2        Lasso Linear Model  0.418605  0.364713\n",
       "3              Elastic Nets  0.418605  0.377950\n",
       "4                   SVM RBF  0.418605  0.376575\n",
       "5                  SVM POLY  0.430233  0.375960\n",
       "6               SVM sigmoid  0.372093  0.365300\n",
       "7  Random Forrest Regresion  0.465116  0.406564\n",
       "8        XGBoost Regression  0.500000  0.483607\n",
       "9       Stacking Regression  0.418605  0.374313"
      ]
     },
     "execution_count": 16,
     "metadata": {},
     "output_type": "execute_result"
    }
   ],
   "source": [
    "classification"
   ]
  },
  {
   "cell_type": "code",
   "execution_count": 17,
   "metadata": {},
   "outputs": [
    {
     "data": {
      "text/html": [
       "<div>\n",
       "<style scoped>\n",
       "    .dataframe tbody tr th:only-of-type {\n",
       "        vertical-align: middle;\n",
       "    }\n",
       "\n",
       "    .dataframe tbody tr th {\n",
       "        vertical-align: top;\n",
       "    }\n",
       "\n",
       "    .dataframe thead th {\n",
       "        text-align: right;\n",
       "    }\n",
       "</style>\n",
       "<table border=\"1\" class=\"dataframe\">\n",
       "  <thead>\n",
       "    <tr style=\"text-align: right;\">\n",
       "      <th></th>\n",
       "      <th>Good</th>\n",
       "      <th>Moderate</th>\n",
       "      <th>No Response</th>\n",
       "    </tr>\n",
       "  </thead>\n",
       "  <tbody>\n",
       "    <tr>\n",
       "      <th>Good</th>\n",
       "      <td>12</td>\n",
       "      <td>16</td>\n",
       "      <td>2</td>\n",
       "    </tr>\n",
       "    <tr>\n",
       "      <th>Moderate</th>\n",
       "      <td>5</td>\n",
       "      <td>25</td>\n",
       "      <td>1</td>\n",
       "    </tr>\n",
       "    <tr>\n",
       "      <th>No Response</th>\n",
       "      <td>4</td>\n",
       "      <td>18</td>\n",
       "      <td>3</td>\n",
       "    </tr>\n",
       "  </tbody>\n",
       "</table>\n",
       "</div>"
      ],
      "text/plain": [
       "             Good  Moderate  No Response\n",
       "Good           12        16            2\n",
       "Moderate        5        25            1\n",
       "No Response     4        18            3"
      ]
     },
     "execution_count": 17,
     "metadata": {},
     "output_type": "execute_result"
    }
   ],
   "source": [
    "aml.confusion_matrix(\"Random Forrest Regresion\")"
   ]
  },
  {
   "cell_type": "code",
   "execution_count": 18,
   "metadata": {},
   "outputs": [
    {
     "data": {
      "text/html": [
       "<div>\n",
       "<style scoped>\n",
       "    .dataframe tbody tr th:only-of-type {\n",
       "        vertical-align: middle;\n",
       "    }\n",
       "\n",
       "    .dataframe tbody tr th {\n",
       "        vertical-align: top;\n",
       "    }\n",
       "\n",
       "    .dataframe thead th {\n",
       "        text-align: right;\n",
       "    }\n",
       "</style>\n",
       "<table border=\"1\" class=\"dataframe\">\n",
       "  <thead>\n",
       "    <tr style=\"text-align: right;\">\n",
       "      <th></th>\n",
       "      <th>Good</th>\n",
       "      <th>Moderate</th>\n",
       "      <th>No Response</th>\n",
       "    </tr>\n",
       "  </thead>\n",
       "  <tbody>\n",
       "    <tr>\n",
       "      <th>Good</th>\n",
       "      <td>13</td>\n",
       "      <td>14</td>\n",
       "      <td>3</td>\n",
       "    </tr>\n",
       "    <tr>\n",
       "      <th>Moderate</th>\n",
       "      <td>6</td>\n",
       "      <td>22</td>\n",
       "      <td>3</td>\n",
       "    </tr>\n",
       "    <tr>\n",
       "      <th>No Response</th>\n",
       "      <td>4</td>\n",
       "      <td>13</td>\n",
       "      <td>8</td>\n",
       "    </tr>\n",
       "  </tbody>\n",
       "</table>\n",
       "</div>"
      ],
      "text/plain": [
       "             Good  Moderate  No Response\n",
       "Good           13        14            3\n",
       "Moderate        6        22            3\n",
       "No Response     4        13            8"
      ]
     },
     "execution_count": 18,
     "metadata": {},
     "output_type": "execute_result"
    }
   ],
   "source": [
    "aml.confusion_matrix(\"XGBoost Regression\")"
   ]
  },
  {
   "cell_type": "code",
   "execution_count": 19,
   "metadata": {},
   "outputs": [
    {
     "data": {
      "image/png": "[encoded data removed]",
      "text/plain": [
       "<Figure size 432x288 with 1 Axes>"
      ]
     },
     "metadata": {
      "needs_background": "light"
     },
     "output_type": "display_data"
    }
   ],
   "source": [
    "aml.plot_results('classification')"
   ]
  }
 ],
 "metadata": {
  "kernelspec": {
   "display_name": "Python 3.8.8 ('base')",
   "language": "python",
   "name": "python3"
  },
  "language_info": {
   "codemirror_mode": {
    "name": "ipython",
    "version": 3
   },
   "file_extension": ".py",
   "mimetype": "text/x-python",
   "name": "python",
   "nbconvert_exporter": "python",
   "pygments_lexer": "ipython3",
   "version": "3.8.8"
  },
  "orig_nbformat": 4,
  "vscode": {
   "interpreter": {
    "hash": "9a7a47e06beb32a03ad382b3cb45f6688197811263189ecf77f249956dea5c75"
   }
  }
 },
 "nbformat": 4,
 "nbformat_minor": 2
}
