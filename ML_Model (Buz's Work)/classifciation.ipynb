{
 "cells": [
  {
   "cell_type": "code",
   "execution_count": 99,
   "metadata": {},
   "outputs": [],
   "source": [
    "import sys\n",
    "sys.path.insert(0, r'C:\\Users\\buzga\\Desktop\\School\\Reaserch\\Langone\\ML_RA_EHR\\DataModule')\n",
    "sys.path.insert(0, r'C:\\Users\\buzga\\Desktop\\School\\Reaserch\\Langone\\ML_RA_EHR')\n",
    "from sklearn import linear_model\n",
    "from sklearn import ensemble\n",
    "from sklearn import svm\n",
    "import matplotlib.pyplot as plt\n",
    "import Data_Preparation\n",
    "import evaluate \n",
    "import xgboost as xgb\n",
    "\n",
    "\n"
   ]
  },
  {
   "cell_type": "code",
   "execution_count": 100,
   "metadata": {},
   "outputs": [
    {
     "name": "stdout",
     "output_type": "stream",
     "text": [
      "feature engineering, drop columns due to 70% missing value: Index(['smkyrs', 'numcigs', 'rfstatus_impute', 'ccpstatus_impute',\n",
      "       'statin_use'],\n",
      "      dtype='object')\n",
      "Imputing row 1/1498 with 0 missing, elapsed time: 0.379\n",
      "Imputing row 101/1498 with 1 missing, elapsed time: 0.380\n",
      "Imputing row 201/1498 with 0 missing, elapsed time: 0.381\n",
      "Imputing row 301/1498 with 0 missing, elapsed time: 0.382\n",
      "Imputing row 401/1498 with 0 missing, elapsed time: 0.382\n",
      "Imputing row 501/1498 with 1 missing, elapsed time: 0.383\n",
      "Imputing row 601/1498 with 0 missing, elapsed time: 0.383\n",
      "Imputing row 701/1498 with 0 missing, elapsed time: 0.383\n",
      "Imputing row 801/1498 with 0 missing, elapsed time: 0.384\n",
      "Imputing row 901/1498 with 0 missing, elapsed time: 0.384\n",
      "Imputing row 1001/1498 with 1 missing, elapsed time: 0.385\n",
      "Imputing row 1101/1498 with 0 missing, elapsed time: 0.386\n",
      "Imputing row 1201/1498 with 0 missing, elapsed time: 0.386\n",
      "Imputing row 1301/1498 with 0 missing, elapsed time: 0.387\n",
      "Imputing row 1401/1498 with 0 missing, elapsed time: 0.387\n",
      "Imputing row 1/388 with 0 missing, elapsed time: 0.026\n",
      "Imputing row 101/388 with 0 missing, elapsed time: 0.026\n",
      "Imputing row 201/388 with 0 missing, elapsed time: 0.027\n",
      "Imputing row 301/388 with 0 missing, elapsed time: 0.027\n",
      "save file to: C:\\Users\\buzga\\Desktop\\School\\Reaserch\\Langone\\ML_RA_EHR\\Dataset\\.csv_temp\\Train.csv\n",
      "save file to: C:\\Users\\buzga\\Desktop\\School\\Reaserch\\Langone\\ML_RA_EHR\\Dataset\\.csv_temp\\Test.csv\n"
     ]
    }
   ],
   "source": [
    "## importing data. \n",
    "path=r'C:\\Users\\buzga\\Desktop\\School\\Reaserch\\Langone\\ML_RA_EHR\\Dataset'\n",
    "df = Data_Preparation.CoronnaCERTAINDataset(\n",
    "    library_root=path,\n",
    "    challenge=\"classification\", #option: regression, classification, two_stage\n",
    "    dataset='CORRONA CERTAIN', \n",
    "    process_approach='SC', #option: KVB, SC\n",
    "    imputation='KNN', #option: SimpleFill, KNN, SoftImpute, BiScaler, NuclearNormMinimization, IterativeImputer, IterativeSVD\n",
    "    patient_group='bionaive TNF', #option: \"all\", \"bioexp nTNF\", \"bionaive TNF\", \"bionaive orencia\", \"KVB\"\n",
    "    drug_group='all', #option: \"all\", \"actemra\", \"cimzia\", \"enbrel\", \"humira\", \"orencia\", \"remicade\", \"rituxan\", \"simponi\"\n",
    "    time_points=(0,3), \n",
    "    train_test_rate=0.8,\n",
    "    save_csv=False, \n",
    "    random_state=2022)\n",
    "\n",
    "train, train_loc = df.get_train()\n",
    "test, test_loc = df.get_test()\n",
    "X_train = train.iloc[:,:-1]\n",
    "X_train=X_train.drop([\"DAS28_CRP_3M\"],axis=1)\n",
    "y_train = train.iloc[:,-1]\n",
    "X_test = test.iloc[:,:-1]\n",
    "X_test=X_test.drop([\"DAS28_CRP_3M\"],axis=1)\n",
    "y_test = test.iloc[:,-1]\n"
   ]
  },
  {
   "cell_type": "code",
   "execution_count": 101,
   "metadata": {},
   "outputs": [],
   "source": [
    "import numpy as np\n",
    "def map_numeric(input):\n",
    "    true=[]\n",
    "    for i in input:\n",
    "        if(i==\"Good\"):\n",
    "            true.append(0)\n",
    "        elif(i==\"Moderate\"):\n",
    "            true.append(1)\n",
    "        else:\n",
    "            true.append(2)\n",
    "    return np.array(true)\n",
    "def map_to_catagory(preds):\n",
    "    true=[]\n",
    "    for i in preds:\n",
    "        if(i==0):\n",
    "            true.append(\"Good\")\n",
    "        elif(i==1):\n",
    "            true.append(\"Moderate\")\n",
    "        else:\n",
    "            true.append(\"No Response\")\n",
    "    return np.array(true)\n",
    "\n",
    "\n",
    "\n"
   ]
  },
  {
   "cell_type": "code",
   "execution_count": 102,
   "metadata": {},
   "outputs": [
    {
     "name": "stderr",
     "output_type": "stream",
     "text": [
      "c:\\Users\\buzga\\anaconda3\\lib\\site-packages\\sklearn\\linear_model\\_logistic.py:444: ConvergenceWarning: lbfgs failed to converge (status=1):\n",
      "STOP: TOTAL NO. of ITERATIONS REACHED LIMIT.\n",
      "\n",
      "Increase the number of iterations (max_iter) or scale the data as shown in:\n",
      "    https://scikit-learn.org/stable/modules/preprocessing.html\n",
      "Please also refer to the documentation for alternative solver options:\n",
      "    https://scikit-learn.org/stable/modules/linear_model.html#logistic-regression\n",
      "  n_iter_i = _check_optimize_result(\n",
      "c:\\Users\\buzga\\anaconda3\\lib\\site-packages\\sklearn\\svm\\_base.py:1225: ConvergenceWarning: Liblinear failed to converge, increase the number of iterations.\n",
      "  warnings.warn(\n",
      "c:\\Users\\buzga\\anaconda3\\lib\\site-packages\\sklearn\\svm\\_base.py:1225: ConvergenceWarning: Liblinear failed to converge, increase the number of iterations.\n",
      "  warnings.warn(\n",
      "c:\\Users\\buzga\\anaconda3\\lib\\site-packages\\sklearn\\svm\\_base.py:1225: ConvergenceWarning: Liblinear failed to converge, increase the number of iterations.\n",
      "  warnings.warn(\n",
      "c:\\Users\\buzga\\anaconda3\\lib\\site-packages\\sklearn\\svm\\_base.py:1225: ConvergenceWarning: Liblinear failed to converge, increase the number of iterations.\n",
      "  warnings.warn(\n",
      "c:\\Users\\buzga\\anaconda3\\lib\\site-packages\\sklearn\\svm\\_base.py:1225: ConvergenceWarning: Liblinear failed to converge, increase the number of iterations.\n",
      "  warnings.warn(\n",
      "c:\\Users\\buzga\\anaconda3\\lib\\site-packages\\sklearn\\svm\\_base.py:1225: ConvergenceWarning: Liblinear failed to converge, increase the number of iterations.\n",
      "  warnings.warn(\n"
     ]
    }
   ],
   "source": [
    "## start with logistic regression. \n",
    "log_model=linear_model.LogisticRegression()\n",
    "log_model=log_model.fit(X_train,y_train)\n",
    "log_preds=log_model.predict(X_test)\n",
    "\n",
    "\n",
    "random_forrst=ensemble.RandomForestClassifier(n_estimators=1000)\n",
    "random_forrst=random_forrst.fit(X_train,y_train)\n",
    "random_forrst_preds=random_forrst.predict(X_test)\n",
    "\n",
    "\n",
    "### this wants us to convert class lables to 0,1,2\n",
    "\n",
    "train_numeric=map_numeric(y_train)\n",
    "xgboost = xgb.XGBClassifier()\n",
    "xgboost.fit(X_train, train_numeric)\n",
    "xgboost_preds = xgboost.predict(X_test)\n",
    "xgboost_preds=map_to_catagory(xgboost_preds)\n",
    "\n",
    "\n",
    "estimators = [('lr',linear_model.RidgeCV()),('svr', svm.LinearSVR(random_state=42))]\n",
    "stacking =ensemble.StackingRegressor(estimators=estimators,\n",
    "final_estimator=ensemble.RandomForestRegressor(n_estimators=10,random_state=42))\n",
    "stacking=stacking.fit(X_train, train_numeric)\n",
    "stacking_preds=stacking.predict(X_test)\n",
    "stacking_preds=map_to_catagory(stacking_preds)\n"
   ]
  },
  {
   "cell_type": "code",
   "execution_count": 103,
   "metadata": {},
   "outputs": [],
   "source": [
    "\n",
    "aml = evaluate.AutoBuild(seed=1, project_name=\"EHR_RA_SC\",challenge=\"classification\")\n",
    "\n",
    "aml.evaluate(\"Logistic\", test, log_preds)\n",
    "aml.evaluate(\"Random Forrest\", test, random_forrst_preds)\n",
    "aml.evaluate(\"xgboost\", test, xgboost_preds)\n",
    "aml.evaluate(\"Stacking\", test, stacking_preds)\n",
    "classification = aml.leaderboard()"
   ]
  },
  {
   "cell_type": "code",
   "execution_count": 104,
   "metadata": {},
   "outputs": [
    {
     "data": {
      "text/html": [
       "<div>\n",
       "<style scoped>\n",
       "    .dataframe tbody tr th:only-of-type {\n",
       "        vertical-align: middle;\n",
       "    }\n",
       "\n",
       "    .dataframe tbody tr th {\n",
       "        vertical-align: top;\n",
       "    }\n",
       "\n",
       "    .dataframe thead th {\n",
       "        text-align: right;\n",
       "    }\n",
       "</style>\n",
       "<table border=\"1\" class=\"dataframe\">\n",
       "  <thead>\n",
       "    <tr style=\"text-align: right;\">\n",
       "      <th></th>\n",
       "      <th>model</th>\n",
       "      <th>Accuracy</th>\n",
       "      <th>F1-Score</th>\n",
       "    </tr>\n",
       "  </thead>\n",
       "  <tbody>\n",
       "    <tr>\n",
       "      <th>0</th>\n",
       "      <td>Logistic</td>\n",
       "      <td>0.476744</td>\n",
       "      <td>0.457450</td>\n",
       "    </tr>\n",
       "    <tr>\n",
       "      <th>1</th>\n",
       "      <td>Random Forrest</td>\n",
       "      <td>0.511628</td>\n",
       "      <td>0.491592</td>\n",
       "    </tr>\n",
       "    <tr>\n",
       "      <th>2</th>\n",
       "      <td>xgboost</td>\n",
       "      <td>0.488372</td>\n",
       "      <td>0.483946</td>\n",
       "    </tr>\n",
       "    <tr>\n",
       "      <th>3</th>\n",
       "      <td>Stacking</td>\n",
       "      <td>0.337209</td>\n",
       "      <td>0.257359</td>\n",
       "    </tr>\n",
       "  </tbody>\n",
       "</table>\n",
       "</div>"
      ],
      "text/plain": [
       "            model  Accuracy  F1-Score\n",
       "0        Logistic  0.476744  0.457450\n",
       "1  Random Forrest  0.511628  0.491592\n",
       "2         xgboost  0.488372  0.483946\n",
       "3        Stacking  0.337209  0.257359"
      ]
     },
     "execution_count": 104,
     "metadata": {},
     "output_type": "execute_result"
    }
   ],
   "source": [
    "classification"
   ]
  },
  {
   "cell_type": "code",
   "execution_count": 105,
   "metadata": {},
   "outputs": [
    {
     "data": {
      "image/png": "[encoded data removed]",
      "text/plain": [
       "<Figure size 432x288 with 1 Axes>"
      ]
     },
     "metadata": {
      "needs_background": "light"
     },
     "output_type": "display_data"
    }
   ],
   "source": [
    "aml.plot_results('classification',metics=\"Accuracy\")"
   ]
  }
 ],
 "metadata": {
  "kernelspec": {
   "display_name": "Python 3.8.8 ('base')",
   "language": "python",
   "name": "python3"
  },
  "language_info": {
   "codemirror_mode": {
    "name": "ipython",
    "version": 3
   },
   "file_extension": ".py",
   "mimetype": "text/x-python",
   "name": "python",
   "nbconvert_exporter": "python",
   "pygments_lexer": "ipython3",
   "version": "3.8.8"
  },
  "orig_nbformat": 4,
  "vscode": {
   "interpreter": {
    "hash": "9a7a47e06beb32a03ad382b3cb45f6688197811263189ecf77f249956dea5c75"
   }
  }
 },
 "nbformat": 4,
 "nbformat_minor": 2
}
