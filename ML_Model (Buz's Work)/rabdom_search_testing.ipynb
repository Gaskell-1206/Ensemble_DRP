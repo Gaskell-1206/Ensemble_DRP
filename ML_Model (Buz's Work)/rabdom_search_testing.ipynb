{
 "cells": [
  {
   "cell_type": "code",
   "execution_count": 1,
   "metadata": {},
   "outputs": [],
   "source": [
    "import pandas as pd\n",
    "import numpy as np\n",
    "import pickle\n",
    "import warnings\n",
    "warnings.filterwarnings(\"ignore\")\n",
    "import sys\n",
    "sys.path.insert(0, '..')\n",
    "from DataModule.Data_Preparation import CoronnaCERTAINDataset\n",
    "import EvaluationModule\n",
    "import ModelModule.models"
   ]
  },
  {
   "cell_type": "code",
   "execution_count": 2,
   "metadata": {},
   "outputs": [],
   "source": [
    "param_search_grid={\"Random forest\": {'max_samples': [0.5, 0.6, 0.7, 0.8, 0.9, 1.0, None], 'n_estimators': [100, 200, 300, 400, 500, 600, 700, 800, 900, 1000, 1100, 1200, 1300, 1400, 1500, 1600, 1700, 1800, 1900, 2000], 'max_features': ['auto', 'sqrt', 'log2'], 'max_depth': [10, 20, 30, 40, 50, 60, 70, 80, 90, 100, 110, None], 'min_samples_split': [2, 5, 10], 'min_samples_leaf': [1, 2, 4], 'bootstrap': [True, False]},\n",
    "\"XGBoost\":dict(\n",
    "eta =np.arange(.1,1.1,.1),\n",
    "gamma =np.arange(1,10,1), \n",
    "max_depth=np.arange(1,20,2),\n",
    "min_child_weight= np.arange(1,10,1),\n",
    "max_delta_step= np.arange(1,10,1),\n",
    "#subsample =np.arange(.5,1.05,.05),\n",
    "reg_lambda = np.arange(.1,1.1,.1),\n",
    "#reg_alpha = np.arange(0.01,1.05,.05),\n",
    "colsample_bytree= np.arange(0.4, 1.0, 0.1),\n",
    "colsample_bylevel= np.arange(0.4, 1.0, 0.1),\n",
    "n_estimators=np.arange(100, 1100, 100),\n",
    "tree_method =['auto', 'exact', 'approx', 'hist', 'gpu_hist'],\n",
    ")}\n",
    "dataset_params=dict(\n",
    "        library_root=\"../Dataset/\",\n",
    "        challenge='binary_classification', #option: regression, regression_delta, classification, binary_classification\n",
    "        dataset='CORRONA CERTAIN', \n",
    "        process_approach='SC', #option: KVB, SC\n",
    "        imputation=\"IterativeImputer\", #option: SimpleFill, KNN, SoftImpute, BiScaler, NuclearNormMinimization, IterativeImputer, IterativeSVD, None(raw)\n",
    "        patient_group='bionaive TNF', #option: \"all\", \"bioexp nTNF\", \"bionaive TNF\", \"bionaive orencia\", \"KVB\"\n",
    "        drug_group='all', #option: \"all\", \"actemra\", \"cimzia\", \"enbrel\", \"humira\", \"orencia\", \"remicade\", \"rituxan\", \"simponi\"\n",
    "        time_points=(0,3), \n",
    "        train_test_rate=0.8,\n",
    "        remove_low_DAS = True,\n",
    "        save_csv=True,\n",
    "        random_state=2022)\n",
    "base_estimators={\"Random forest\":dict(model_id=\"Random forest\", model_list=[\"Random Forest\"], challenge=\"Classification\"),\"XGBoost\":dict(model_id=\"XGBoost\", model_list=[\"XGBoost\"], challenge=\"Classification\")}\n",
    "aml=ModelModule.models.tune_models(dataset_parms=dataset_params,fixed_model_params=base_estimators, test_model_parms=param_search_grid, method='random', project_name=\"Test\",ballance_class=1)"
   ]
  },
  {
   "cell_type": "code",
   "execution_count": null,
   "metadata": {},
   "outputs": [],
   "source": []
  }
 ],
 "metadata": {
  "kernelspec": {
   "display_name": "Python 3.8.8 ('base')",
   "language": "python",
   "name": "python3"
  },
  "language_info": {
   "codemirror_mode": {
    "name": "ipython",
    "version": 3
   },
   "file_extension": ".py",
   "mimetype": "text/x-python",
   "name": "python",
   "nbconvert_exporter": "python",
   "pygments_lexer": "ipython3",
   "version": "3.8.8"
  },
  "orig_nbformat": 4,
  "vscode": {
   "interpreter": {
    "hash": "b76f26fa8a612c8b8cb65ddaeb140f1392e886a532c01d32a03fb4eb587cde30"
   }
  }
 },
 "nbformat": 4,
 "nbformat_minor": 2
}
