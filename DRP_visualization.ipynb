{
  "cells": [
    {
      "cell_type": "code",
      "execution_count": 1,
      "metadata": {
        "id": "_LnFjWSx1jMp"
      },
      "outputs": [],
      "source": [
        "import numpy as np\n",
        "import pandas as pd\n",
        "import matplotlib.pyplot as plt"
      ]
    },
    {
      "cell_type": "code",
      "execution_count": 2,
      "metadata": {
        "id": "zBi9Asrd3GEl"
      },
      "outputs": [],
      "source": [
        "# ! pip install matplotlib==3.4"
      ]
    },
    {
      "cell_type": "code",
      "execution_count": 3,
      "metadata": {
        "colab": {
          "base_uri": "https://localhost:8080/",
          "height": 35
        },
        "id": "g_IeGe7F3BtJ",
        "outputId": "8f161dc7-c1fe-4603-eadd-c1c4884bacd6"
      },
      "outputs": [
        {
          "data": {
            "application/vnd.google.colaboratory.intrinsic+json": {
              "type": "string"
            },
            "text/plain": [
              "'3.4.0'"
            ]
          },
          "execution_count": 3,
          "metadata": {},
          "output_type": "execute_result"
        }
      ],
      "source": [
        "import matplotlib\n",
        "matplotlib.__version__"
      ]
    },
    {
      "cell_type": "code",
      "execution_count": 4,
      "metadata": {
        "id": "B1iYSPL81qha"
      },
      "outputs": [],
      "source": [
        "df = pd.read_csv('/content/drive/MyDrive/Autoimmune_Disease/Independent Study/output/ballancing_aproach_testing_output.csv')"
      ]
    },
    {
      "cell_type": "code",
      "execution_count": 5,
      "metadata": {
        "colab": {
          "base_uri": "https://localhost:8080/",
          "height": 424
        },
        "id": "0iZjYWib5msi",
        "outputId": "be2eb2aa-225a-47f7-cb03-036b2d62ce79"
      },
      "outputs": [
        {
          "data": {
            "text/html": [
              "\n",
              "  <div id=\"df-def6d5f7-ae5a-47aa-b93d-efe93b013ef1\">\n",
              "    <div class=\"colab-df-container\">\n",
              "      <div>\n",
              "<style scoped>\n",
              "    .dataframe tbody tr th:only-of-type {\n",
              "        vertical-align: middle;\n",
              "    }\n",
              "\n",
              "    .dataframe tbody tr th {\n",
              "        vertical-align: top;\n",
              "    }\n",
              "\n",
              "    .dataframe thead th {\n",
              "        text-align: right;\n",
              "    }\n",
              "</style>\n",
              "<table border=\"1\" class=\"dataframe\">\n",
              "  <thead>\n",
              "    <tr style=\"text-align: right;\">\n",
              "      <th></th>\n",
              "      <th>dataset</th>\n",
              "      <th>challenge</th>\n",
              "      <th>balance_class</th>\n",
              "      <th>model_id</th>\n",
              "      <th>MAE</th>\n",
              "      <th>MSE</th>\n",
              "      <th>RMSE</th>\n",
              "      <th>R2</th>\n",
              "      <th>Pearson_Correlation</th>\n",
              "      <th>Accuracy</th>\n",
              "      <th>F1-Score</th>\n",
              "    </tr>\n",
              "  </thead>\n",
              "  <tbody>\n",
              "    <tr>\n",
              "      <th>0</th>\n",
              "      <td>validation</td>\n",
              "      <td>regression</td>\n",
              "      <td>0</td>\n",
              "      <td>Linear</td>\n",
              "      <td>0.930566</td>\n",
              "      <td>1.246612</td>\n",
              "      <td>1.116518</td>\n",
              "      <td>0.003795</td>\n",
              "      <td>0.277477</td>\n",
              "      <td>0.419355</td>\n",
              "      <td>0.418301</td>\n",
              "    </tr>\n",
              "    <tr>\n",
              "      <th>1</th>\n",
              "      <td>validation</td>\n",
              "      <td>regression</td>\n",
              "      <td>0</td>\n",
              "      <td>Linear</td>\n",
              "      <td>1.071997</td>\n",
              "      <td>1.989664</td>\n",
              "      <td>1.410554</td>\n",
              "      <td>-0.177066</td>\n",
              "      <td>0.274425</td>\n",
              "      <td>0.387097</td>\n",
              "      <td>0.291005</td>\n",
              "    </tr>\n",
              "    <tr>\n",
              "      <th>2</th>\n",
              "      <td>validation</td>\n",
              "      <td>regression</td>\n",
              "      <td>0</td>\n",
              "      <td>Linear</td>\n",
              "      <td>0.939887</td>\n",
              "      <td>1.242882</td>\n",
              "      <td>1.114846</td>\n",
              "      <td>0.201275</td>\n",
              "      <td>0.503601</td>\n",
              "      <td>0.354839</td>\n",
              "      <td>0.362600</td>\n",
              "    </tr>\n",
              "    <tr>\n",
              "      <th>3</th>\n",
              "      <td>validation</td>\n",
              "      <td>regression</td>\n",
              "      <td>0</td>\n",
              "      <td>Linear</td>\n",
              "      <td>0.781254</td>\n",
              "      <td>0.932337</td>\n",
              "      <td>0.965576</td>\n",
              "      <td>0.220956</td>\n",
              "      <td>0.478405</td>\n",
              "      <td>0.419355</td>\n",
              "      <td>0.297683</td>\n",
              "    </tr>\n",
              "    <tr>\n",
              "      <th>4</th>\n",
              "      <td>validation</td>\n",
              "      <td>regression</td>\n",
              "      <td>0</td>\n",
              "      <td>Linear</td>\n",
              "      <td>1.137415</td>\n",
              "      <td>1.990417</td>\n",
              "      <td>1.410821</td>\n",
              "      <td>0.112169</td>\n",
              "      <td>0.350434</td>\n",
              "      <td>0.333333</td>\n",
              "      <td>0.310849</td>\n",
              "    </tr>\n",
              "    <tr>\n",
              "      <th>...</th>\n",
              "      <td>...</td>\n",
              "      <td>...</td>\n",
              "      <td>...</td>\n",
              "      <td>...</td>\n",
              "      <td>...</td>\n",
              "      <td>...</td>\n",
              "      <td>...</td>\n",
              "      <td>...</td>\n",
              "      <td>...</td>\n",
              "      <td>...</td>\n",
              "      <td>...</td>\n",
              "    </tr>\n",
              "    <tr>\n",
              "      <th>4459</th>\n",
              "      <td>test</td>\n",
              "      <td>classification</td>\n",
              "      <td>2</td>\n",
              "      <td>Random Forest</td>\n",
              "      <td>NaN</td>\n",
              "      <td>NaN</td>\n",
              "      <td>NaN</td>\n",
              "      <td>NaN</td>\n",
              "      <td>NaN</td>\n",
              "      <td>0.494118</td>\n",
              "      <td>0.477877</td>\n",
              "    </tr>\n",
              "    <tr>\n",
              "      <th>4460</th>\n",
              "      <td>test</td>\n",
              "      <td>classification</td>\n",
              "      <td>2</td>\n",
              "      <td>Tree</td>\n",
              "      <td>NaN</td>\n",
              "      <td>NaN</td>\n",
              "      <td>NaN</td>\n",
              "      <td>NaN</td>\n",
              "      <td>NaN</td>\n",
              "      <td>0.447059</td>\n",
              "      <td>0.445534</td>\n",
              "    </tr>\n",
              "    <tr>\n",
              "      <th>4461</th>\n",
              "      <td>test</td>\n",
              "      <td>classification</td>\n",
              "      <td>2</td>\n",
              "      <td>Boosting Logistic</td>\n",
              "      <td>NaN</td>\n",
              "      <td>NaN</td>\n",
              "      <td>NaN</td>\n",
              "      <td>NaN</td>\n",
              "      <td>NaN</td>\n",
              "      <td>0.482353</td>\n",
              "      <td>0.470962</td>\n",
              "    </tr>\n",
              "    <tr>\n",
              "      <th>4462</th>\n",
              "      <td>test</td>\n",
              "      <td>classification</td>\n",
              "      <td>2</td>\n",
              "      <td>Bagging Logistic</td>\n",
              "      <td>NaN</td>\n",
              "      <td>NaN</td>\n",
              "      <td>NaN</td>\n",
              "      <td>NaN</td>\n",
              "      <td>NaN</td>\n",
              "      <td>0.447059</td>\n",
              "      <td>0.429167</td>\n",
              "    </tr>\n",
              "    <tr>\n",
              "      <th>4463</th>\n",
              "      <td>test</td>\n",
              "      <td>classification</td>\n",
              "      <td>2</td>\n",
              "      <td>Stacking Logistic</td>\n",
              "      <td>NaN</td>\n",
              "      <td>NaN</td>\n",
              "      <td>NaN</td>\n",
              "      <td>NaN</td>\n",
              "      <td>NaN</td>\n",
              "      <td>0.294118</td>\n",
              "      <td>0.167077</td>\n",
              "    </tr>\n",
              "  </tbody>\n",
              "</table>\n",
              "<p>4464 rows × 11 columns</p>\n",
              "</div>\n",
              "      <button class=\"colab-df-convert\" onclick=\"convertToInteractive('df-def6d5f7-ae5a-47aa-b93d-efe93b013ef1')\"\n",
              "              title=\"Convert this dataframe to an interactive table.\"\n",
              "              style=\"display:none;\">\n",
              "        \n",
              "  <svg xmlns=\"http://www.w3.org/2000/svg\" height=\"24px\"viewBox=\"0 0 24 24\"\n",
              "       width=\"24px\">\n",
              "    <path d=\"M0 0h24v24H0V0z\" fill=\"none\"/>\n",
              "    <path d=\"M18.56 5.44l.94 2.06.94-2.06 2.06-.94-2.06-.94-.94-2.06-.94 2.06-2.06.94zm-11 1L8.5 8.5l.94-2.06 2.06-.94-2.06-.94L8.5 2.5l-.94 2.06-2.06.94zm10 10l.94 2.06.94-2.06 2.06-.94-2.06-.94-.94-2.06-.94 2.06-2.06.94z\"/><path d=\"M17.41 7.96l-1.37-1.37c-.4-.4-.92-.59-1.43-.59-.52 0-1.04.2-1.43.59L10.3 9.45l-7.72 7.72c-.78.78-.78 2.05 0 2.83L4 21.41c.39.39.9.59 1.41.59.51 0 1.02-.2 1.41-.59l7.78-7.78 2.81-2.81c.8-.78.8-2.07 0-2.86zM5.41 20L4 18.59l7.72-7.72 1.47 1.35L5.41 20z\"/>\n",
              "  </svg>\n",
              "      </button>\n",
              "      \n",
              "  <style>\n",
              "    .colab-df-container {\n",
              "      display:flex;\n",
              "      flex-wrap:wrap;\n",
              "      gap: 12px;\n",
              "    }\n",
              "\n",
              "    .colab-df-convert {\n",
              "      background-color: #E8F0FE;\n",
              "      border: none;\n",
              "      border-radius: 50%;\n",
              "      cursor: pointer;\n",
              "      display: none;\n",
              "      fill: #1967D2;\n",
              "      height: 32px;\n",
              "      padding: 0 0 0 0;\n",
              "      width: 32px;\n",
              "    }\n",
              "\n",
              "    .colab-df-convert:hover {\n",
              "      background-color: #E2EBFA;\n",
              "      box-shadow: 0px 1px 2px rgba(60, 64, 67, 0.3), 0px 1px 3px 1px rgba(60, 64, 67, 0.15);\n",
              "      fill: #174EA6;\n",
              "    }\n",
              "\n",
              "    [theme=dark] .colab-df-convert {\n",
              "      background-color: #3B4455;\n",
              "      fill: #D2E3FC;\n",
              "    }\n",
              "\n",
              "    [theme=dark] .colab-df-convert:hover {\n",
              "      background-color: #434B5C;\n",
              "      box-shadow: 0px 1px 3px 1px rgba(0, 0, 0, 0.15);\n",
              "      filter: drop-shadow(0px 1px 2px rgba(0, 0, 0, 0.3));\n",
              "      fill: #FFFFFF;\n",
              "    }\n",
              "  </style>\n",
              "\n",
              "      <script>\n",
              "        const buttonEl =\n",
              "          document.querySelector('#df-def6d5f7-ae5a-47aa-b93d-efe93b013ef1 button.colab-df-convert');\n",
              "        buttonEl.style.display =\n",
              "          google.colab.kernel.accessAllowed ? 'block' : 'none';\n",
              "\n",
              "        async function convertToInteractive(key) {\n",
              "          const element = document.querySelector('#df-def6d5f7-ae5a-47aa-b93d-efe93b013ef1');\n",
              "          const dataTable =\n",
              "            await google.colab.kernel.invokeFunction('convertToInteractive',\n",
              "                                                     [key], {});\n",
              "          if (!dataTable) return;\n",
              "\n",
              "          const docLinkHtml = 'Like what you see? Visit the ' +\n",
              "            '<a target=\"_blank\" href=https://colab.research.google.com/notebooks/data_table.ipynb>data table notebook</a>'\n",
              "            + ' to learn more about interactive tables.';\n",
              "          element.innerHTML = '';\n",
              "          dataTable['output_type'] = 'display_data';\n",
              "          await google.colab.output.renderOutput(dataTable, element);\n",
              "          const docLink = document.createElement('div');\n",
              "          docLink.innerHTML = docLinkHtml;\n",
              "          element.appendChild(docLink);\n",
              "        }\n",
              "      </script>\n",
              "    </div>\n",
              "  </div>\n",
              "  "
            ],
            "text/plain": [
              "         dataset       challenge  balance_class           model_id       MAE  \\\n",
              "0     validation      regression              0             Linear  0.930566   \n",
              "1     validation      regression              0             Linear  1.071997   \n",
              "2     validation      regression              0             Linear  0.939887   \n",
              "3     validation      regression              0             Linear  0.781254   \n",
              "4     validation      regression              0             Linear  1.137415   \n",
              "...          ...             ...            ...                ...       ...   \n",
              "4459        test  classification              2      Random Forest       NaN   \n",
              "4460        test  classification              2               Tree       NaN   \n",
              "4461        test  classification              2  Boosting Logistic       NaN   \n",
              "4462        test  classification              2   Bagging Logistic       NaN   \n",
              "4463        test  classification              2  Stacking Logistic       NaN   \n",
              "\n",
              "           MSE      RMSE        R2  Pearson_Correlation  Accuracy  F1-Score  \n",
              "0     1.246612  1.116518  0.003795             0.277477  0.419355  0.418301  \n",
              "1     1.989664  1.410554 -0.177066             0.274425  0.387097  0.291005  \n",
              "2     1.242882  1.114846  0.201275             0.503601  0.354839  0.362600  \n",
              "3     0.932337  0.965576  0.220956             0.478405  0.419355  0.297683  \n",
              "4     1.990417  1.410821  0.112169             0.350434  0.333333  0.310849  \n",
              "...        ...       ...       ...                  ...       ...       ...  \n",
              "4459       NaN       NaN       NaN                  NaN  0.494118  0.477877  \n",
              "4460       NaN       NaN       NaN                  NaN  0.447059  0.445534  \n",
              "4461       NaN       NaN       NaN                  NaN  0.482353  0.470962  \n",
              "4462       NaN       NaN       NaN                  NaN  0.447059  0.429167  \n",
              "4463       NaN       NaN       NaN                  NaN  0.294118  0.167077  \n",
              "\n",
              "[4464 rows x 11 columns]"
            ]
          },
          "execution_count": 5,
          "metadata": {},
          "output_type": "execute_result"
        }
      ],
      "source": [
        "df = df.drop(columns=['Unnamed: 0', 'Unnamed: 0.1','process_approach','imputation','patient_group','drug_group','train_test_rate','remove_low_DAS','random_state'])\n",
        "df"
      ]
    },
    {
      "cell_type": "code",
      "execution_count": 67,
      "metadata": {
        "colab": {
          "base_uri": "https://localhost:8080/"
        },
        "id": "C1r2Habu84b7",
        "outputId": "d8a6b738-920b-4cb2-c065-fce8e183e679"
      },
      "outputs": [
        {
          "data": {
            "text/plain": [
              "regression                 930\n",
              "regression_delta           930\n",
              "regression_delta_binary    930\n",
              "binary_classification      837\n",
              "classification             837\n",
              "Name: challenge, dtype: int64"
            ]
          },
          "execution_count": 67,
          "metadata": {},
          "output_type": "execute_result"
        }
      ],
      "source": [
        "df['challenge'].value_counts()"
      ]
    },
    {
      "cell_type": "code",
      "execution_count": 58,
      "metadata": {
        "id": "-d1z_8hB6EDa"
      },
      "outputs": [],
      "source": [
        "def filter_data(rank_metrix, challenge, topk):\n",
        "  if rank_metrix in ['MAE','MSE','RMSE']:\n",
        "    ranking_ascending = True\n",
        "  elif rank_metrix in ['R2','Pearson_Correlation','Accuracy','F1-Score']:\n",
        "    ranking_ascending = False\n",
        "\n",
        "  top_k = df[(df['challenge'].isin([challenge])) \n",
        "  & (df['balance_class']==1) \n",
        "  & (df['dataset']=='validation')].groupby('model_id').mean().sort_values(by=[rank_metrix],ascending=ranking_ascending)\n",
        "  # print(top_k)\n",
        "  top_k_error = df[(df['challenge'].isin([challenge])) \n",
        "  & (df['balance_class']==1) \n",
        "  & (df['dataset']=='validation')].groupby('model_id').std()\n",
        "\n",
        "  # test \n",
        "  selected_models = list(top_k.index)\n",
        "  test = df[(df['challenge'].isin([challenge])) \n",
        "  & (df['balance_class']==1) \n",
        "  & (df['dataset']=='test')].groupby('model_id').mean()\n",
        "  test = test.loc[selected_models]\n",
        "  # print('test', test)\n",
        "\n",
        "  top_k_error = top_k_error.loc[selected_models]\n",
        "  return top_k[:topk], top_k_error[:topk], test[:topk]"
      ]
    },
    {
      "cell_type": "code",
      "execution_count": 172,
      "metadata": {
        "id": "15FjtJ6bHeLE"
      },
      "outputs": [],
      "source": [
        "def error_bar_plot(top_k, top_k_error, evaluation_metrics):\n",
        "  x = list(top_k.index)\n",
        "  y = top_k[evaluation_metrics]\n",
        "  y_1 = [round(a,2) for a in y]\n",
        "  y_error = top_k_error[evaluation_metrics]\n",
        "  y_perc = [round(a*100,1) for a in y]\n",
        "\n",
        "  fig, ax = plt.subplots()\n",
        "\n",
        "  if evaluation_metrics == 'MSE':\n",
        "    ax.set_ylim(0,max(y+y_error)+0.5)\n",
        "    bars = ax.bar(x,y_1)\n",
        "  elif evaluation_metrics == 'Accuracy':\n",
        "    ax.set_ylim(50,100)\n",
        "    bars = ax.bar(x,y_perc)\n",
        "  else:\n",
        "    bars = ax.bar(x,y)\n",
        "\n",
        "  ax.bar_label(bars)\n",
        "  ax.set_ylabel(evaluation_metrics)\n",
        "\n",
        "  ax.errorbar(x, y, yerr=y_error,\n",
        "              fmt='o', color='orange', ecolor='orange',\n",
        "              elinewidth = 3, capsize=10)"
      ]
    },
    {
      "cell_type": "code",
      "execution_count": 173,
      "metadata": {
        "id": "jYGTZFQ47o5P"
      },
      "outputs": [],
      "source": [
        "def test_plot(test, evaluation_metrics):\n",
        "  x = list(test.index)\n",
        "  y = test[evaluation_metrics]\n",
        "  y_1 = [round(a,2) for a in y]\n",
        "  y_perc = [round(a*100,1) for a in y]\n",
        "\n",
        "  fig, ax = plt.subplots()\n",
        "\n",
        "  if evaluation_metrics == 'MSE':\n",
        "    ax.set_ylim(0,max(y)+0.5)\n",
        "    bars = ax.bar(x,y_1)\n",
        "  elif evaluation_metrics == 'Accuracy':\n",
        "    ax.set_ylim(50,100)\n",
        "    bars = ax.bar(x,y_perc)\n",
        "  else:\n",
        "    bars = ax.bar(x,y)\n",
        "\n",
        "  ax.bar_label(bars)\n",
        "  ax.set_ylabel(evaluation_metrics)"
      ]
    },
    {
      "cell_type": "code",
      "execution_count": null,
      "metadata": {
        "id": "sCDRpKL7Gcdh"
      },
      "outputs": [],
      "source": [
        "# def generate_report():\n",
        "#   for metrics in ['MSE','Pearson_Correlation','Accuracy','']"
      ]
    },
    {
      "cell_type": "code",
      "execution_count": 182,
      "metadata": {
        "colab": {
          "base_uri": "https://localhost:8080/",
          "height": 265
        },
        "id": "l8mSLxM1HsC4",
        "outputId": "3c7248ee-7951-4a8d-a86d-efb2fe581069"
      },
      "outputs": [
        {
          "data": {
            "image/png": "[encoded data removed]",
            "text/plain": [
              "<Figure size 432x288 with 1 Axes>"
            ]
          },
          "metadata": {
            "needs_background": "light"
          },
          "output_type": "display_data"
        }
      ],
      "source": [
        "top_k, top_k_error, test = filter_data(rank_metrix='MSE',challenge='regression_delta_binary',topk=5)\n",
        "error_bar_plot(top_k, top_k_error, 'MSE')"
      ]
    },
    {
      "cell_type": "code",
      "execution_count": 183,
      "metadata": {
        "colab": {
          "base_uri": "https://localhost:8080/",
          "height": 269
        },
        "id": "8vkTonMR8C5m",
        "outputId": "a1727ce2-721a-4fa0-ae6d-4b15499fabad"
      },
      "outputs": [
        {
          "data": {
            "image/png": "[encoded data removed]",
            "text/plain": [
              "<Figure size 432x288 with 1 Axes>"
            ]
          },
          "metadata": {
            "needs_background": "light"
          },
          "output_type": "display_data"
        }
      ],
      "source": [
        "test_plot(test,'Accuracy')"
      ]
    },
    {
      "cell_type": "code",
      "execution_count": 176,
      "metadata": {
        "colab": {
          "base_uri": "https://localhost:8080/",
          "height": 269
        },
        "id": "o7lcNvw68Vep",
        "outputId": "8f619ddb-19b8-4fc3-960a-0558a1e7d722"
      },
      "outputs": [
        {
          "data": {
            "image/png": "[encoded data removed]",
            "text/plain": [
              "<Figure size 432x288 with 1 Axes>"
            ]
          },
          "metadata": {
            "needs_background": "light"
          },
          "output_type": "display_data"
        }
      ],
      "source": [
        "top_k, top_k_error, test = filter_data(rank_metrix='Accuracy',challenge='regression_delta_binary',topk=5)\n",
        "error_bar_plot(top_k, top_k_error, 'Accuracy')"
      ]
    },
    {
      "cell_type": "code",
      "execution_count": 177,
      "metadata": {
        "colab": {
          "base_uri": "https://localhost:8080/",
          "height": 269
        },
        "id": "OCFcsfPn8fO_",
        "outputId": "cc10d379-d223-435b-da8c-bada380bed91"
      },
      "outputs": [
        {
          "data": {
            "image/png": "[encoded data removed]",
            "text/plain": [
              "<Figure size 432x288 with 1 Axes>"
            ]
          },
          "metadata": {
            "needs_background": "light"
          },
          "output_type": "display_data"
        }
      ],
      "source": [
        "test_plot(test,'Accuracy')"
      ]
    },
    {
      "cell_type": "code",
      "execution_count": 185,
      "metadata": {
        "colab": {
          "base_uri": "https://localhost:8080/",
          "height": 265
        },
        "id": "qTkw7bA09hVn",
        "outputId": "0e741972-cf06-4946-dd60-5e9154320763"
      },
      "outputs": [
        {
          "data": {
            "image/png": "[encoded data removed]",
            "text/plain": [
              "<Figure size 432x288 with 1 Axes>"
            ]
          },
          "metadata": {
            "needs_background": "light"
          },
          "output_type": "display_data"
        }
      ],
      "source": [
        "top_k, top_k_error, test = filter_data(rank_metrix='F1-Score',challenge='regression_delta_binary',topk=5)\n",
        "error_bar_plot(top_k, top_k_error, 'F1-Score')"
      ]
    },
    {
      "cell_type": "code",
      "execution_count": 186,
      "metadata": {
        "colab": {
          "base_uri": "https://localhost:8080/",
          "height": 269
        },
        "id": "5Omz8R1M9mhY",
        "outputId": "9e9a9432-2280-4bb0-e184-92cfcd0f8ce3"
      },
      "outputs": [
        {
          "data": {
            "image/png": "[encoded data removed]",
            "text/plain": [
              "<Figure size 432x288 with 1 Axes>"
            ]
          },
          "metadata": {
            "needs_background": "light"
          },
          "output_type": "display_data"
        }
      ],
      "source": [
        "test_plot(test,'Accuracy')"
      ]
    },
    {
      "cell_type": "code",
      "execution_count": 180,
      "metadata": {
        "colab": {
          "base_uri": "https://localhost:8080/",
          "height": 269
        },
        "id": "b9AHkUrQ8wrl",
        "outputId": "432a0950-9ec5-45c5-c51b-997e92886218"
      },
      "outputs": [
        {
          "data": {
            "image/png": "[encoded data removed]",
            "text/plain": [
              "<Figure size 432x288 with 1 Axes>"
            ]
          },
          "metadata": {
            "needs_background": "light"
          },
          "output_type": "display_data"
        }
      ],
      "source": [
        "top_k, top_k_error, test = filter_data(rank_metrix='Accuracy',challenge='binary_classification',topk=5)\n",
        "error_bar_plot(top_k, top_k_error, 'Accuracy')"
      ]
    },
    {
      "cell_type": "code",
      "execution_count": 181,
      "metadata": {
        "colab": {
          "base_uri": "https://localhost:8080/",
          "height": 269
        },
        "id": "Ozme7A9H8von",
        "outputId": "8248dc23-f81f-4509-bddd-058a7f4e19bf"
      },
      "outputs": [
        {
          "data": {
            "image/png": "[encoded data removed]",
            "text/plain": [
              "<Figure size 432x288 with 1 Axes>"
            ]
          },
          "metadata": {
            "needs_background": "light"
          },
          "output_type": "display_data"
        }
      ],
      "source": [
        "test_plot(test,'Accuracy')"
      ]
    },
    {
      "cell_type": "code",
      "execution_count": 106,
      "metadata": {
        "colab": {
          "base_uri": "https://localhost:8080/",
          "height": 265
        },
        "id": "68KdvUMr9Qc5",
        "outputId": "babad3ac-e640-493c-a9dd-294f3f3c771f"
      },
      "outputs": [
        {
          "data": {
            "image/png": "[encoded data removed]",
            "text/plain": [
              "<Figure size 432x288 with 1 Axes>"
            ]
          },
          "metadata": {
            "needs_background": "light"
          },
          "output_type": "display_data"
        }
      ],
      "source": [
        "top_k, top_k_error, test = filter_data(rank_metrix='F1-Score',challenge='binary_classification',topk=5)\n",
        "error_bar_plot(top_k, top_k_error, 'F1-Score')"
      ]
    },
    {
      "cell_type": "code",
      "execution_count": 107,
      "metadata": {
        "colab": {
          "base_uri": "https://localhost:8080/",
          "height": 267
        },
        "id": "5LYD1O3T9bR_",
        "outputId": "ff0c9d40-87b0-4abd-e11f-0d945cddcbef"
      },
      "outputs": [
        {
          "data": {
            "image/png": "[encoded data removed]",
            "text/plain": [
              "<Figure size 432x288 with 1 Axes>"
            ]
          },
          "metadata": {
            "needs_background": "light"
          },
          "output_type": "display_data"
        }
      ],
      "source": [
        "test_plot(test,'F1-Score')"
      ]
    },
    {
      "cell_type": "code",
      "execution_count": 108,
      "metadata": {
        "colab": {
          "base_uri": "https://localhost:8080/",
          "height": 297
        },
        "id": "wddZMruQTknb",
        "outputId": "c1fed5d6-b068-4478-c966-82a62210912d"
      },
      "outputs": [
        {
          "data": {
            "text/plain": [
              "Text(0, 0.5, 'Count of Drug Response')"
            ]
          },
          "execution_count": 108,
          "metadata": {},
          "output_type": "execute_result"
        },
        {
          "data": {
            "image/png": "[encoded data removed]",
            "text/plain": [
              "<Figure size 432x288 with 1 Axes>"
            ]
          },
          "metadata": {
            "needs_background": "light"
          },
          "output_type": "display_data"
        }
      ],
      "source": [
        "x = ['NonResponder','Responder']\n",
        "y = [203,208]\n",
        "c = ['#3F7AAB','#FF8800']\n",
        "fig, ax = plt.subplots()\n",
        "\n",
        "bars = ax.bar(x,y,color=c)\n",
        "ax.bar_label(bars)\n",
        "ax.set_xlabel('Drug Response(binary)')\n",
        "ax.set_ylabel('Count of Drug Response')"
      ]
    },
    {
      "cell_type": "code",
      "execution_count": null,
      "metadata": {
        "id": "rOKrqCwU50Yt"
      },
      "outputs": [],
      "source": []
    }
  ],
  "metadata": {
    "colab": {
      "name": "ML_RA_visualization.ipynb",
      "provenance": []
    },
    "kernelspec": {
      "display_name": "Python 3.9.12 64-bit",
      "language": "python",
      "name": "python3"
    },
    "language_info": {
      "name": "python",
      "version": "3.9.12"
    },
    "vscode": {
      "interpreter": {
        "hash": "b0fa6594d8f4cbf19f97940f81e996739fb7646882a419484c72d19e05852a7e"
      }
    }
  },
  "nbformat": 4,
  "nbformat_minor": 0
}
