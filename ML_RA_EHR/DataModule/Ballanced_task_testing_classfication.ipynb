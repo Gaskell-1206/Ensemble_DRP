{
 "cells": [
  {
   "cell_type": "code",
   "execution_count": 1,
   "metadata": {},
   "outputs": [],
   "source": [
    "import pandas as pd\n",
    "import numpy as np\n",
    "\n",
    "import pickle\n",
    "import warnings\n",
    "warnings.filterwarnings(\"ignore\")\n",
    "import sys\n",
    "sys.path.insert(0, '..')\n",
    "from DataModule.Data_Preparation import CoronnaCERTAINDataset\n",
    "import EvaluationModule\n",
    "import ModelModule.models"
   ]
  },
  {
   "cell_type": "code",
   "execution_count": 2,
   "metadata": {},
   "outputs": [
    {
     "name": "stderr",
     "output_type": "stream",
     "text": [
      "100%|██████████| 1/1 [01:11<00:00, 71.50s/it]\n",
      "100%|██████████| 1/1 [01:15<00:00, 75.97s/it]\n"
     ]
    }
   ],
   "source": [
    "task='classification'\n",
    "project_name=\"classficaiton ballancing aproach testing\"\n",
    "## o's\n",
    "ensamble_names=[ \"Boosting Logistic\" ,\"Bagging Logistic\", \"Stacking Logistic\"]\n",
    "ensamble_parameters= {'ensamble_type':['Boosting', \"Bagging\", \"Stacking\"],'model_list':[[\"Logistic\"]],'challenge':[\"Classification\"]}\n",
    "#'Linear','ANN','Ridge','Lasso','SVM','Random Forest','Tree','XGBoost'\n",
    "basemodels=[ [\"Bayes\"], ['Logistic'], [\"SVM\"],[ 'ANN'],['XGBoost'],['Random Forest'], ['Tree']]\n",
    "base_names=[ \"Bayes\", 'Logistic', \"SVM\", 'ANN','XGBoost','Random Forest', 'Tree']\n",
    "parameters= {'model_list':basemodels,'challenge':[\"Classification\"]}\n",
    "temp_1={'ensambe_models_params':ensamble_parameters,'ensamble_model_ids':ensamble_names,'base_model_params':parameters,'base_model_ids':base_names}\n",
    "temp={task:temp_1}\n",
    "ModelModule.models.test_models(project_name=project_name,task_list=temp, ballance_methods=[0])\n"
   ]
  },
  {
   "cell_type": "code",
   "execution_count": 25,
   "metadata": {},
   "outputs": [
    {
     "name": "stderr",
     "output_type": "stream",
     "text": [
      "100%|██████████| 1/1 [00:01<00:00,  1.98s/it]\n",
      "100%|██████████| 1/1 [00:06<00:00,  6.44s/it]\n"
     ]
    }
   ],
   "source": [
    "\n",
    "## 1's bayes and logistic\n",
    "\n",
    "basemodels=[ [\"Bayes\"], ['Logistic']]\n",
    "base_names=[ \"Bayes\", 'Logistic']\n",
    "parameters= {'model_list':basemodels,'challenge':[\"Classification\"]}\n",
    "temp_1={'base_model_params':parameters,'base_model_ids':base_names}\n",
    "temp={task:temp_1}\n",
    "ModelModule.models.test_models(project_name=project_name,task_list=temp, ballance_methods=[1])\n"
   ]
  },
  {
   "cell_type": "code",
   "execution_count": 26,
   "metadata": {},
   "outputs": [
    {
     "name": "stderr",
     "output_type": "stream",
     "text": [
      "100%|██████████| 1/1 [00:09<00:00,  9.40s/it]\n",
      "100%|██████████| 1/1 [00:13<00:00, 13.86s/it]\n"
     ]
    }
   ],
   "source": [
    "\n",
    "## 1's xvm and ann \n",
    "basemodels=[ [\"SVM\"],[ 'ANN']]\n",
    "base_names=[  \"SVM\", 'ANN']\n",
    "parameters= {'model_list':basemodels,'challenge':[\"Classification\"]}\n",
    "temp_1={'base_model_params':parameters,'base_model_ids':base_names}\n",
    "temp={task:temp_1}\n",
    "ModelModule.models.test_models(project_name=project_name,task_list=temp, ballance_methods=[1])\n"
   ]
  },
  {
   "cell_type": "code",
   "execution_count": 27,
   "metadata": {},
   "outputs": [
    {
     "name": "stderr",
     "output_type": "stream",
     "text": [
      "100%|██████████| 1/1 [00:08<00:00,  8.76s/it]\n",
      "100%|██████████| 1/1 [00:13<00:00, 13.21s/it]\n"
     ]
    }
   ],
   "source": [
    "\n",
    "## 1's xgboos and random correst\n",
    "basemodels=[ ['XGBoost'],['Random Forest']]\n",
    "base_names=[ 'XGBoost','Random Forest']\n",
    "parameters= {'model_list':basemodels,'challenge':[\"Classification\"]}\n",
    "temp_1={'base_model_params':parameters,'base_model_ids':base_names}\n",
    "temp={task:temp_1}\n",
    "ModelModule.models.test_models(project_name=project_name,task_list=temp, ballance_methods=[1])\n"
   ]
  },
  {
   "cell_type": "code",
   "execution_count": 28,
   "metadata": {},
   "outputs": [
    {
     "name": "stderr",
     "output_type": "stream",
     "text": [
      "100%|██████████| 1/1 [00:00<00:00,  1.40it/s]\n",
      "100%|██████████| 1/1 [00:05<00:00,  5.17s/it]\n"
     ]
    }
   ],
   "source": [
    "\n",
    "## 1's tree\n",
    "basemodels=[ ['Tree']]\n",
    "base_names=[ 'Tree']\n",
    "parameters= {'model_list':basemodels,'challenge':[\"Classification\"]}\n",
    "temp_1={'base_model_params':parameters,'base_model_ids':base_names}\n",
    "temp={task:temp_1}\n",
    "ModelModule.models.test_models(project_name=project_name,task_list=temp, ballance_methods=[1])\n"
   ]
  },
  {
   "cell_type": "code",
   "execution_count": 29,
   "metadata": {},
   "outputs": [
    {
     "name": "stderr",
     "output_type": "stream",
     "text": [
      "100%|██████████| 1/1 [01:15<00:00, 75.30s/it]\n",
      "100%|██████████| 1/1 [01:19<00:00, 79.68s/it]\n"
     ]
    }
   ],
   "source": [
    "\n",
    "## 2's\n",
    "ensamble_names=[ \"Boosting Logistic\" ,\"Bagging Logistic\", \"Stacking Logistic\"]\n",
    "ensamble_parameters= {'ensamble_type':['Boosting', \"Bagging\", \"Stacking\"],'model_list':[[\"Logistic\"]],'challenge':[\"Classification\"]}\n",
    "#'Linear','ANN','Ridge','Lasso','SVM','Random Forest','Tree','XGBoost'\n",
    "basemodels=[ [\"Bayes\"], ['Logistic'], [\"SVM\"],[ 'ANN'],['XGBoost'],['Random Forest'], ['Tree']]\n",
    "base_names=[ \"Bayes\", 'Logistic', \"SVM\", 'ANN','XGBoost','Random Forest', 'Tree']\n",
    "parameters= {'model_list':basemodels,'challenge':[\"Classification\"]}\n",
    "temp_1={'ensambe_models_params':ensamble_parameters,'ensamble_model_ids':ensamble_names,'base_model_params':parameters,'base_model_ids':base_names}\n",
    "temp={task:temp_1}\n",
    "ModelModule.models.test_models(project_name=project_name,task_list=temp, ballance_methods=[2])\n"
   ]
  }
 ],
 "metadata": {
  "kernelspec": {
   "display_name": "Python 3.8.8 ('base')",
   "language": "python",
   "name": "python3"
  },
  "language_info": {
   "codemirror_mode": {
    "name": "ipython",
    "version": 3
   },
   "file_extension": ".py",
   "mimetype": "text/x-python",
   "name": "python",
   "nbconvert_exporter": "python",
   "pygments_lexer": "ipython3",
   "version": "3.8.8"
  },
  "orig_nbformat": 4,
  "vscode": {
   "interpreter": {
    "hash": "b76f26fa8a612c8b8cb65ddaeb140f1392e886a532c01d32a03fb4eb587cde30"
   }
  }
 },
 "nbformat": 4,
 "nbformat_minor": 2
}
