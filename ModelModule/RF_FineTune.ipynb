{
 "cells": [
  {
   "cell_type": "code",
   "execution_count": 1,
   "id": "e4dacaec-ac61-4aab-8df2-3b69dec72240",
   "metadata": {},
   "outputs": [
    {
     "name": "stdout",
     "output_type": "stream",
     "text": [
      "(CVXPY) Jul 12 05:18:10 PM: Encountered unexpected exception importing solver CVXOPT:\n",
      "ImportError(\"dlopen(/Users/gaskell/miniforge_x86_64/envs/ADPred_new/lib/python3.10/site-packages/cvxopt/base.cpython-310-darwin.so, 0x0002): tried: '/Users/gaskell/miniforge_x86_64/envs/ADPred_new/lib/python3.10/site-packages/cvxopt/base.cpython-310-darwin.so' (mach-o file, but is an incompatible architecture (have 'x86_64', need 'arm64e'))\")\n",
      "(CVXPY) Jul 12 05:18:10 PM: Encountered unexpected exception importing solver GLPK:\n",
      "ImportError(\"dlopen(/Users/gaskell/miniforge_x86_64/envs/ADPred_new/lib/python3.10/site-packages/cvxopt/base.cpython-310-darwin.so, 0x0002): tried: '/Users/gaskell/miniforge_x86_64/envs/ADPred_new/lib/python3.10/site-packages/cvxopt/base.cpython-310-darwin.so' (mach-o file, but is an incompatible architecture (have 'x86_64', need 'arm64e'))\")\n",
      "(CVXPY) Jul 12 05:18:10 PM: Encountered unexpected exception importing solver GLPK_MI:\n",
      "ImportError(\"dlopen(/Users/gaskell/miniforge_x86_64/envs/ADPred_new/lib/python3.10/site-packages/cvxopt/base.cpython-310-darwin.so, 0x0002): tried: '/Users/gaskell/miniforge_x86_64/envs/ADPred_new/lib/python3.10/site-packages/cvxopt/base.cpython-310-darwin.so' (mach-o file, but is an incompatible architecture (have 'x86_64', need 'arm64e'))\")\n"
     ]
    }
   ],
   "source": [
    "import pandas as pd\n",
    "import numpy as np\n",
    "import sys\n",
    "import pickle\n",
    "import warnings\n",
    "warnings.filterwarnings(\"ignore\")\n",
    "\n",
    "sys.path.insert(0, '..')\n",
    "from DataModule.Data_Preparation import CoronnaCERTAINDataset\n",
    "\n",
    "import FineTuneModule\n",
    "import EvaluationModule\n",
    "\n",
    "import xgboost as xgb\n",
    "import sklearn\n",
    "from sklearn.model_selection import RandomizedSearchCV, GridSearchCV\n",
    "from sklearn.ensemble import RandomForestClassifier, RandomForestRegressor\n",
    "from sklearn.model_selection import ShuffleSplit,cross_val_score\n",
    "from sklearn.linear_model import LinearRegression,LogisticRegression\n",
    "from sklearn.pipeline import Pipeline"
   ]
  },
  {
   "cell_type": "code",
   "execution_count": 2,
   "id": "db1384d6-0704-4f1b-9ce9-4726d0718829",
   "metadata": {},
   "outputs": [
    {
     "name": "stdout",
     "output_type": "stream",
     "text": [
      "feature engineering, drop columns due to 70% missing value: Index(['smkyrs', 'numcigs', 'rfstatus_impute', 'ccpstatus_impute',\n",
      "       'statin_use'],\n",
      "      dtype='object')\n",
      "Missing values in train before imputation: 128\n",
      "Missing values in train after imputation: 0\n",
      "Missing values in test before imputation: 24\n",
      "Missing values in test after imputation: 0\n",
      "Label Encoder, 0: Non-responders (No Response), 1: Responders(Good, Moderate)\n",
      "Label Encoder, 0: Non-responders (No Response), 1: Responders(Good, Moderate)\n",
      "before balance class: 1.0    231\n",
      "0.0     73\n",
      "Name: DrugResponse_binary, dtype: int64\n",
      "after balance class: 1.0    204\n",
      "0.0    184\n",
      "Name: DrugResponse_binary, dtype: int64\n",
      "save file to: /Users/gaskell/Dropbox/Mac/Desktop/Autoimmune_Disease/Code/ML_RA_EHR/Dataset/.csv_temp/Train.csv\n",
      "save file to: /Users/gaskell/Dropbox/Mac/Desktop/Autoimmune_Disease/Code/ML_RA_EHR/Dataset/.csv_temp/Test.csv\n"
     ]
    }
   ],
   "source": [
    "dataset = CoronnaCERTAINDataset(\n",
    "    library_root='/Users/gaskell/Dropbox/Mac/Desktop/Autoimmune_Disease/Code/ML_RA_EHR/Dataset/',\n",
    "    challenge=\"binary_classification\", #option: regression, regression_delta, classification, binary_classification\n",
    "    dataset='CORRONA CERTAIN', \n",
    "    process_approach='SC', #option: KVB, SC\n",
    "    imputation='IterativeImputer', #option: SimpleFill, KNN, SoftImpute, BiScaler, NuclearNormMinimization, IterativeImputer, IterativeSVD, None(raw)\n",
    "    patient_group='bionaive TNF', #option: \"all\", \"bioexp nTNF\", \"bionaive TNF\", \"bionaive orencia\", \"KVB\"\n",
    "    drug_group='all', #option: \"all\", \"actemra\", \"cimzia\", \"enbrel\", \"humira\", \"orencia\", \"remicade\", \"rituxan\", \"simponi\"\n",
    "    time_points=(0,3), \n",
    "    train_test_rate=0.8,\n",
    "    remove_low_DAS = True,\n",
    "    save_csv=False,\n",
    "    balance_class=True,\n",
    "    random_state=2022)"
   ]
  },
  {
   "cell_type": "code",
   "execution_count": 6,
   "id": "dc0030f2-afc7-4b58-983e-08663a08eafc",
   "metadata": {},
   "outputs": [],
   "source": [
    "# read train, test from dataloader\n",
    "train_set, train_loc = dataset.get_train()\n",
    "test_set, test_loc = dataset.get_test()"
   ]
  },
  {
   "cell_type": "code",
   "execution_count": 8,
   "id": "66e1140e-86ee-48f0-89a8-a17ffcacfb8d",
   "metadata": {},
   "outputs": [],
   "source": [
    "train = train_set\n",
    "test = test_set"
   ]
  },
  {
   "cell_type": "code",
   "execution_count": 9,
   "id": "b1064ecc-556f-417f-a6ff-f8b63d23867b",
   "metadata": {},
   "outputs": [],
   "source": [
    "aml = EvaluationModule.AutoBuild(seed=dataset.random_state, project_name=\"SC_Jul12\", challenge=dataset.challenge)"
   ]
  },
  {
   "cell_type": "code",
   "execution_count": 20,
   "id": "d103a4a5-2faa-4c68-9d2e-4865c3ac7229",
   "metadata": {},
   "outputs": [
    {
     "name": "stdout",
     "output_type": "stream",
     "text": [
      "param_search_grid: {'max_samples': [0.5, 0.6, 0.7, 0.8, 0.9, 1.0, None], 'n_estimators': [100, 200, 300, 400, 500, 600, 700, 800, 900, 1000, 1100, 1200, 1300, 1400, 1500, 1600, 1700, 1800, 1900, 2000], 'max_features': ['auto', 'sqrt', 'log2'], 'max_depth': [10, 20, 30, 40, 50, 60, 70, 80, 90, 100, 110, None], 'min_samples_split': [2, 5, 10], 'min_samples_leaf': [1, 2, 4], 'bootstrap': [True, False]}\n",
      "best_params: {'n_estimators': 1300, 'min_samples_split': 2, 'min_samples_leaf': 1, 'max_samples': None, 'max_features': 'log2', 'max_depth': 110, 'bootstrap': True}\n"
     ]
    }
   ],
   "source": [
    "model = fine_tune_rf(train=train, model=\"drf_classification\", search_methods=\"RandomSearch\")"
   ]
  },
  {
   "cell_type": "code",
   "execution_count": 21,
   "id": "00224c61-72f4-4175-872a-95959e408413",
   "metadata": {},
   "outputs": [],
   "source": [
    "aml.validate(\"rf\", model, train, test)"
   ]
  },
  {
   "cell_type": "code",
   "execution_count": 22,
   "id": "8b9a5a5d-8e5f-4e71-8ad2-dbe5beb0debb",
   "metadata": {},
   "outputs": [
    {
     "data": {
      "text/html": [
       "<div>\n",
       "<style scoped>\n",
       "    .dataframe tbody tr th:only-of-type {\n",
       "        vertical-align: middle;\n",
       "    }\n",
       "\n",
       "    .dataframe tbody tr th {\n",
       "        vertical-align: top;\n",
       "    }\n",
       "\n",
       "    .dataframe thead th {\n",
       "        text-align: right;\n",
       "    }\n",
       "</style>\n",
       "<table border=\"1\" class=\"dataframe\">\n",
       "  <thead>\n",
       "    <tr style=\"text-align: right;\">\n",
       "      <th></th>\n",
       "      <th>model</th>\n",
       "      <th>MAE</th>\n",
       "      <th>MSE</th>\n",
       "      <th>RMSE</th>\n",
       "      <th>R2</th>\n",
       "      <th>Pearson_Correlation</th>\n",
       "      <th>Accuracy</th>\n",
       "      <th>F1-Score</th>\n",
       "    </tr>\n",
       "  </thead>\n",
       "  <tbody>\n",
       "    <tr>\n",
       "      <th>0</th>\n",
       "      <td>rf</td>\n",
       "      <td>None</td>\n",
       "      <td>None</td>\n",
       "      <td>None</td>\n",
       "      <td>None</td>\n",
       "      <td>None</td>\n",
       "      <td>0.871795</td>\n",
       "      <td>0.871795</td>\n",
       "    </tr>\n",
       "    <tr>\n",
       "      <th>1</th>\n",
       "      <td>rf</td>\n",
       "      <td>None</td>\n",
       "      <td>None</td>\n",
       "      <td>None</td>\n",
       "      <td>None</td>\n",
       "      <td>None</td>\n",
       "      <td>0.820513</td>\n",
       "      <td>0.819444</td>\n",
       "    </tr>\n",
       "    <tr>\n",
       "      <th>2</th>\n",
       "      <td>rf</td>\n",
       "      <td>None</td>\n",
       "      <td>None</td>\n",
       "      <td>None</td>\n",
       "      <td>None</td>\n",
       "      <td>None</td>\n",
       "      <td>0.897436</td>\n",
       "      <td>0.886710</td>\n",
       "    </tr>\n",
       "    <tr>\n",
       "      <th>3</th>\n",
       "      <td>rf</td>\n",
       "      <td>None</td>\n",
       "      <td>None</td>\n",
       "      <td>None</td>\n",
       "      <td>None</td>\n",
       "      <td>None</td>\n",
       "      <td>0.833333</td>\n",
       "      <td>0.825022</td>\n",
       "    </tr>\n",
       "    <tr>\n",
       "      <th>4</th>\n",
       "      <td>rf</td>\n",
       "      <td>None</td>\n",
       "      <td>None</td>\n",
       "      <td>None</td>\n",
       "      <td>None</td>\n",
       "      <td>None</td>\n",
       "      <td>0.846154</td>\n",
       "      <td>0.845748</td>\n",
       "    </tr>\n",
       "    <tr>\n",
       "      <th>5</th>\n",
       "      <td>rf</td>\n",
       "      <td>None</td>\n",
       "      <td>None</td>\n",
       "      <td>None</td>\n",
       "      <td>None</td>\n",
       "      <td>None</td>\n",
       "      <td>0.858974</td>\n",
       "      <td>0.858765</td>\n",
       "    </tr>\n",
       "    <tr>\n",
       "      <th>6</th>\n",
       "      <td>rf</td>\n",
       "      <td>None</td>\n",
       "      <td>None</td>\n",
       "      <td>None</td>\n",
       "      <td>None</td>\n",
       "      <td>None</td>\n",
       "      <td>0.884615</td>\n",
       "      <td>0.882274</td>\n",
       "    </tr>\n",
       "    <tr>\n",
       "      <th>7</th>\n",
       "      <td>rf</td>\n",
       "      <td>None</td>\n",
       "      <td>None</td>\n",
       "      <td>None</td>\n",
       "      <td>None</td>\n",
       "      <td>None</td>\n",
       "      <td>0.884615</td>\n",
       "      <td>0.883058</td>\n",
       "    </tr>\n",
       "    <tr>\n",
       "      <th>8</th>\n",
       "      <td>rf</td>\n",
       "      <td>None</td>\n",
       "      <td>None</td>\n",
       "      <td>None</td>\n",
       "      <td>None</td>\n",
       "      <td>None</td>\n",
       "      <td>0.730769</td>\n",
       "      <td>0.730725</td>\n",
       "    </tr>\n",
       "    <tr>\n",
       "      <th>9</th>\n",
       "      <td>rf</td>\n",
       "      <td>None</td>\n",
       "      <td>None</td>\n",
       "      <td>None</td>\n",
       "      <td>None</td>\n",
       "      <td>None</td>\n",
       "      <td>0.858974</td>\n",
       "      <td>0.857829</td>\n",
       "    </tr>\n",
       "  </tbody>\n",
       "</table>\n",
       "</div>"
      ],
      "text/plain": [
       "  model   MAE   MSE  RMSE    R2 Pearson_Correlation  Accuracy  F1-Score\n",
       "0    rf  None  None  None  None                None  0.871795  0.871795\n",
       "1    rf  None  None  None  None                None  0.820513  0.819444\n",
       "2    rf  None  None  None  None                None  0.897436  0.886710\n",
       "3    rf  None  None  None  None                None  0.833333  0.825022\n",
       "4    rf  None  None  None  None                None  0.846154  0.845748\n",
       "5    rf  None  None  None  None                None  0.858974  0.858765\n",
       "6    rf  None  None  None  None                None  0.884615  0.882274\n",
       "7    rf  None  None  None  None                None  0.884615  0.883058\n",
       "8    rf  None  None  None  None                None  0.730769  0.730725\n",
       "9    rf  None  None  None  None                None  0.858974  0.857829"
      ]
     },
     "execution_count": 22,
     "metadata": {},
     "output_type": "execute_result"
    }
   ],
   "source": [
    "aml.validation"
   ]
  },
  {
   "cell_type": "code",
   "execution_count": 23,
   "id": "4878cf5d-cd8e-498b-8098-4db35f8d040d",
   "metadata": {},
   "outputs": [
    {
     "data": {
      "text/plain": [
       "0.8487179487179487"
      ]
     },
     "execution_count": 23,
     "metadata": {},
     "output_type": "execute_result"
    }
   ],
   "source": [
    "np.mean(aml.validation[aml.validation['model'] == 'rf']['Accuracy'])"
   ]
  },
  {
   "cell_type": "code",
   "execution_count": 24,
   "id": "5b9121c4-a7c6-43be-a5cd-447d8d09da08",
   "metadata": {},
   "outputs": [
    {
     "data": {
      "text/html": [
       "<div>\n",
       "<style scoped>\n",
       "    .dataframe tbody tr th:only-of-type {\n",
       "        vertical-align: middle;\n",
       "    }\n",
       "\n",
       "    .dataframe tbody tr th {\n",
       "        vertical-align: top;\n",
       "    }\n",
       "\n",
       "    .dataframe thead th {\n",
       "        text-align: right;\n",
       "    }\n",
       "</style>\n",
       "<table border=\"1\" class=\"dataframe\">\n",
       "  <thead>\n",
       "    <tr style=\"text-align: right;\">\n",
       "      <th></th>\n",
       "      <th>model</th>\n",
       "      <th>MAE</th>\n",
       "      <th>MSE</th>\n",
       "      <th>RMSE</th>\n",
       "      <th>R2</th>\n",
       "      <th>Pearson_Correlation</th>\n",
       "      <th>Accuracy</th>\n",
       "      <th>F1-Score</th>\n",
       "    </tr>\n",
       "  </thead>\n",
       "  <tbody>\n",
       "    <tr>\n",
       "      <th>10</th>\n",
       "      <td>rf</td>\n",
       "      <td>None</td>\n",
       "      <td>None</td>\n",
       "      <td>None</td>\n",
       "      <td>None</td>\n",
       "      <td>None</td>\n",
       "      <td>0.694118</td>\n",
       "      <td>0.499547</td>\n",
       "    </tr>\n",
       "  </tbody>\n",
       "</table>\n",
       "</div>"
      ],
      "text/plain": [
       "   model   MAE   MSE  RMSE    R2 Pearson_Correlation  Accuracy  F1-Score\n",
       "10    rf  None  None  None  None                None  0.694118  0.499547"
      ]
     },
     "execution_count": 24,
     "metadata": {},
     "output_type": "execute_result"
    }
   ],
   "source": [
    "aml.test"
   ]
  }
 ],
 "metadata": {
  "kernelspec": {
   "display_name": "ADPred_new",
   "language": "python",
   "name": "adpred_new"
  },
  "language_info": {
   "codemirror_mode": {
    "name": "ipython",
    "version": 3
   },
   "file_extension": ".py",
   "mimetype": "text/x-python",
   "name": "python",
   "nbconvert_exporter": "python",
   "pygments_lexer": "ipython3",
   "version": "3.10.4"
  }
 },
 "nbformat": 4,
 "nbformat_minor": 5
}
