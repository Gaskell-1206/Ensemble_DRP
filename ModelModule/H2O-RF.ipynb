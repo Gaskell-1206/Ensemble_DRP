{
 "cells": [
  {
   "cell_type": "code",
   "execution_count": 1,
   "id": "6d7bbb41",
   "metadata": {},
   "outputs": [
    {
     "name": "stdout",
     "output_type": "stream",
     "text": [
      "(CVXPY) Jul 12 10:48:24 AM: Encountered unexpected exception importing solver CVXOPT:\n",
      "ImportError(\"dlopen(/Users/gaskell/miniforge_x86_64/envs/ADPred_new/lib/python3.10/site-packages/cvxopt/base.cpython-310-darwin.so, 0x0002): tried: '/Users/gaskell/miniforge_x86_64/envs/ADPred_new/lib/python3.10/site-packages/cvxopt/base.cpython-310-darwin.so' (mach-o file, but is an incompatible architecture (have 'x86_64', need 'arm64e'))\")\n",
      "(CVXPY) Jul 12 10:48:24 AM: Encountered unexpected exception importing solver GLPK:\n",
      "ImportError(\"dlopen(/Users/gaskell/miniforge_x86_64/envs/ADPred_new/lib/python3.10/site-packages/cvxopt/base.cpython-310-darwin.so, 0x0002): tried: '/Users/gaskell/miniforge_x86_64/envs/ADPred_new/lib/python3.10/site-packages/cvxopt/base.cpython-310-darwin.so' (mach-o file, but is an incompatible architecture (have 'x86_64', need 'arm64e'))\")\n",
      "(CVXPY) Jul 12 10:48:24 AM: Encountered unexpected exception importing solver GLPK_MI:\n",
      "ImportError(\"dlopen(/Users/gaskell/miniforge_x86_64/envs/ADPred_new/lib/python3.10/site-packages/cvxopt/base.cpython-310-darwin.so, 0x0002): tried: '/Users/gaskell/miniforge_x86_64/envs/ADPred_new/lib/python3.10/site-packages/cvxopt/base.cpython-310-darwin.so' (mach-o file, but is an incompatible architecture (have 'x86_64', need 'arm64e'))\")\n"
     ]
    }
   ],
   "source": [
    "import h2o\n",
    "from h2o.automl import H2OAutoML\n",
    "from h2o.estimators.infogram import H2OInfogram\n",
    "from h2o.estimators.gbm import H2OGradientBoostingEstimator\n",
    "from h2o.estimators import H2ORandomForestEstimator\n",
    "from h2o.grid.grid_search import H2OGridSearch\n",
    "# from imblearn.over_sampling import SMOTE\n",
    "# from imblearn.under_sampling import RandomUnderSampler\n",
    "import pandas as pd\n",
    "import numpy as np\n",
    "import sys\n",
    "sys.path.insert(0, '..')\n",
    "from DataModule.Data_Preparation import CoronnaCERTAINDataset\n",
    "import EvaluationModule\n",
    "pd.options.mode.chained_assignment = None"
   ]
  },
  {
   "cell_type": "code",
   "execution_count": 2,
   "id": "bda21304-3c80-482d-8915-3d9af50c06a6",
   "metadata": {},
   "outputs": [],
   "source": [
    "# pd.set_option('display.max_columns', None)\n",
    "# pd.set_option('display.max_rows', None)"
   ]
  },
  {
   "cell_type": "code",
   "execution_count": 3,
   "id": "bafe8a1c",
   "metadata": {
    "scrolled": true
   },
   "outputs": [
    {
     "name": "stdout",
     "output_type": "stream",
     "text": [
      "feature engineering, drop columns due to 70% missing value: Index(['smkyrs', 'numcigs', 'rfstatus_impute', 'ccpstatus_impute',\n",
      "       'statin_use'],\n",
      "      dtype='object')\n",
      "Missing values in train before imputation: 128\n",
      "Missing values in train after imputation: 0\n",
      "Missing values in test before imputation: 24\n",
      "Missing values in test after imputation: 0\n",
      "Label Encoder, 0: Non-responders (No Response), 1: Responders(Good, Moderate)\n",
      "Label Encoder, 0: Non-responders (No Response), 1: Responders(Good, Moderate)\n",
      "before balance class: 1.0    231\n",
      "0.0     73\n",
      "Name: DrugResponse_binary, dtype: int64\n",
      "after balance class: 1.0    204\n",
      "0.0    184\n",
      "Name: DrugResponse_binary, dtype: int64\n",
      "save file to: /Users/gaskell/Dropbox/Mac/Desktop/Autoimmune_Disease/Code/ML_RA_EHR/Dataset/.csv_temp/Train.csv\n",
      "save file to: /Users/gaskell/Dropbox/Mac/Desktop/Autoimmune_Disease/Code/ML_RA_EHR/Dataset/.csv_temp/Test.csv\n"
     ]
    }
   ],
   "source": [
    "dataset = CoronnaCERTAINDataset(\n",
    "    library_root='/Users/gaskell/Dropbox/Mac/Desktop/Autoimmune_Disease/Code/ML_RA_EHR/Dataset/',\n",
    "    challenge=\"binary_classification\", #option: regression, regression_delta, classification, binary_classification\n",
    "    dataset='CORRONA CERTAIN', \n",
    "    process_approach='SC', #option: KVB, SC\n",
    "    imputation=\"IterativeImputer\", #option: SimpleFill, KNN, SoftImpute, BiScaler, NuclearNormMinimization, IterativeImputer, IterativeSVD, None(raw)\n",
    "    patient_group='bionaive TNF', #option: \"all\", \"bioexp nTNF\", \"bionaive TNF\", \"bionaive orencia\", \"KVB\"\n",
    "    drug_group='all', #option: \"all\", \"actemra\", \"cimzia\", \"enbrel\", \"humira\", \"orencia\", \"remicade\", \"rituxan\", \"simponi\"\n",
    "    time_points=(0,3), \n",
    "    train_test_rate=0.8,\n",
    "    remove_low_DAS = True,\n",
    "    save_csv=False,\n",
    "    balance_class=True,\n",
    "    random_state=2022)"
   ]
  },
  {
   "cell_type": "code",
   "execution_count": 4,
   "id": "b52a9b53-41fa-4d3f-a4e3-4681c4e7e5be",
   "metadata": {},
   "outputs": [],
   "source": [
    "train_set, train_loc = dataset.get_train()\n",
    "test_set, test_loc = dataset.get_test()"
   ]
  },
  {
   "cell_type": "code",
   "execution_count": 5,
   "id": "c448ca28",
   "metadata": {},
   "outputs": [
    {
     "name": "stdout",
     "output_type": "stream",
     "text": [
      "Checking whether there is an H2O instance running at http://localhost:54321 ..... not found.\n",
      "Attempting to start a local H2O server...\n",
      "  Java Version: java version \"13.0.2\" 2020-01-14; Java(TM) SE Runtime Environment (build 13.0.2+8); Java HotSpot(TM) 64-Bit Server VM (build 13.0.2+8, mixed mode, sharing)\n",
      "  Starting server from /Users/gaskell/miniforge_x86_64/envs/ADPred_new/lib/python3.10/site-packages/h2o/backend/bin/h2o.jar\n",
      "  Ice root: /var/folders/c9/_bb79xy945g7bvvn1rl6zsfr0000gn/T/tmp_2r8el94\n",
      "  JVM stdout: /var/folders/c9/_bb79xy945g7bvvn1rl6zsfr0000gn/T/tmp_2r8el94/h2o_gaskell_started_from_python.out\n",
      "  JVM stderr: /var/folders/c9/_bb79xy945g7bvvn1rl6zsfr0000gn/T/tmp_2r8el94/h2o_gaskell_started_from_python.err\n",
      "  Server is running at http://127.0.0.1:54321\n",
      "Connecting to H2O server at http://127.0.0.1:54321 ... successful.\n"
     ]
    },
    {
     "data": {
      "text/html": [
       "<div style=\"overflow:auto\"><table style=\"width:50%\"><tr><td>H2O_cluster_uptime:</td>\n",
       "<td>10 secs</td></tr>\n",
       "<tr><td>H2O_cluster_timezone:</td>\n",
       "<td>America/New_York</td></tr>\n",
       "<tr><td>H2O_data_parsing_timezone:</td>\n",
       "<td>UTC</td></tr>\n",
       "<tr><td>H2O_cluster_version:</td>\n",
       "<td>3.36.1.2</td></tr>\n",
       "<tr><td>H2O_cluster_version_age:</td>\n",
       "<td>1 month and 15 days </td></tr>\n",
       "<tr><td>H2O_cluster_name:</td>\n",
       "<td>H2O_from_python_gaskell_kfhrdp</td></tr>\n",
       "<tr><td>H2O_cluster_total_nodes:</td>\n",
       "<td>1</td></tr>\n",
       "<tr><td>H2O_cluster_free_memory:</td>\n",
       "<td>4 Gb</td></tr>\n",
       "<tr><td>H2O_cluster_total_cores:</td>\n",
       "<td>10</td></tr>\n",
       "<tr><td>H2O_cluster_allowed_cores:</td>\n",
       "<td>10</td></tr>\n",
       "<tr><td>H2O_cluster_status:</td>\n",
       "<td>locked, healthy</td></tr>\n",
       "<tr><td>H2O_connection_url:</td>\n",
       "<td>http://127.0.0.1:54321</td></tr>\n",
       "<tr><td>H2O_connection_proxy:</td>\n",
       "<td>{\"http\": null, \"https\": null}</td></tr>\n",
       "<tr><td>H2O_internal_security:</td>\n",
       "<td>False</td></tr>\n",
       "<tr><td>Python_version:</td>\n",
       "<td>3.10.4 final</td></tr></table></div>"
      ],
      "text/plain": [
       "--------------------------  ------------------------------\n",
       "H2O_cluster_uptime:         10 secs\n",
       "H2O_cluster_timezone:       America/New_York\n",
       "H2O_data_parsing_timezone:  UTC\n",
       "H2O_cluster_version:        3.36.1.2\n",
       "H2O_cluster_version_age:    1 month and 15 days\n",
       "H2O_cluster_name:           H2O_from_python_gaskell_kfhrdp\n",
       "H2O_cluster_total_nodes:    1\n",
       "H2O_cluster_free_memory:    4 Gb\n",
       "H2O_cluster_total_cores:    10\n",
       "H2O_cluster_allowed_cores:  10\n",
       "H2O_cluster_status:         locked, healthy\n",
       "H2O_connection_url:         http://127.0.0.1:54321\n",
       "H2O_connection_proxy:       {\"http\": null, \"https\": null}\n",
       "H2O_internal_security:      False\n",
       "Python_version:             3.10.4 final\n",
       "--------------------------  ------------------------------"
      ]
     },
     "metadata": {},
     "output_type": "display_data"
    },
    {
     "name": "stdout",
     "output_type": "stream",
     "text": [
      "Parse progress: |████████████████████████████████████████████████████████████████| (done) 100%\n",
      "Parse progress: |████████████████████████████████████████████████████████████████| (done) 100%\n"
     ]
    }
   ],
   "source": [
    "# Start the H2O cluster (locally)\n",
    "h2o.init()\n",
    "\n",
    "# Import a sample binary outcome train/test set into H2O\n",
    "train_h2o = h2o.upload_file(str(train_loc))\n",
    "test_h2o = h2o.upload_file(str(test_loc))\n",
    "\n",
    "# Identify predictors and response\n",
    "x = train_h2o.columns\n",
    "y = \"DrugResponse_binary\"\n",
    "x.remove(y)\n",
    "\n",
    "predictors = train_h2o.columns[:-1]\n",
    "# y = \"DAS28_CRP_3M\"\n",
    "response = \"DrugResponse_binary\"\n",
    "\n",
    "for feature in dataset.categorical:\n",
    "    train_h2o[feature] = train_h2o[feature].asfactor()\n",
    "    test_h2o[feature] = test_h2o[feature].asfactor()\n",
    "train_h2o[response] = train_h2o[response].asfactor()\n",
    "test_h2o[response] = test_h2o[response].asfactor()\n",
    "\n",
    "train, valid = train_h2o.split_frame(ratios=[.8], seed=1)"
   ]
  },
  {
   "cell_type": "code",
   "execution_count": 14,
   "id": "30f32f6b-a01b-42dd-9b8c-746991edc994",
   "metadata": {},
   "outputs": [],
   "source": [
    "# DRF hyperparameters\n",
    "drf_params = {'ntrees': [i * 10 for i in range(1,101)],\n",
    "               'max_depth': list(range(2,20)),\n",
    "               'min_rows': [1,5,10,15],\n",
    "               'sample_rate': [i * 0.1 for i in range(5, 11)],\n",
    "}\n",
    "\n",
    "search_criteria = {'strategy': 'RandomDiscrete', 'seed':1,\n",
    "                   'max_models':25, 'max_runtime_secs': 1200,\n",
    "                   'stopping_metric': 'auc',\n",
    "                   'stopping_tolerance': 0.05, 'stopping_rounds': 10}"
   ]
  },
  {
   "cell_type": "code",
   "execution_count": 15,
   "id": "930dc8b6-7ed5-4fa2-8363-25245206bc7b",
   "metadata": {},
   "outputs": [],
   "source": [
    "# Train and validate a cartesian grid of GBMs\n",
    "drf_grid1 = H2OGridSearch(model=H2ORandomForestEstimator,\n",
    "                          grid_id='drf_grid',\n",
    "                          hyper_params=drf_params,\n",
    "                          search_criteria=search_criteria)"
   ]
  },
  {
   "cell_type": "code",
   "execution_count": 16,
   "id": "f86cc2ec-1609-4ed7-bf0c-d6f990160aa9",
   "metadata": {},
   "outputs": [
    {
     "name": "stdout",
     "output_type": "stream",
     "text": [
      "drf Grid Build progress: |███████████████████████████████████████████████████████| (done) 100%\n",
      "      max_depth  min_rows  ntrees  sample_rate          model_ids   logloss\n",
      "0          10.0       1.0   350.0          0.9   drf_grid_model_2  0.422736\n",
      "1          17.0       1.0   480.0          0.8   drf_grid_model_1  0.424578\n",
      "2          14.0       1.0   640.0          0.8   drf_grid_model_9  0.424835\n",
      "3          10.0       1.0   370.0          0.6  drf_grid_model_14  0.456374\n",
      "4          15.0       1.0   180.0          0.5  drf_grid_model_23  0.462291\n",
      "5          16.0       5.0   990.0          1.0   drf_grid_model_7  0.474605\n",
      "6           7.0       5.0   600.0          0.9  drf_grid_model_18  0.495680\n",
      "7           5.0       5.0   800.0          1.0  drf_grid_model_22  0.523285\n",
      "8          18.0      10.0    90.0          0.9  drf_grid_model_17  0.525043\n",
      "9          12.0      10.0   530.0          0.8  drf_grid_model_13  0.531069\n",
      "10         11.0      10.0   760.0          0.7  drf_grid_model_10  0.540060\n",
      "11          5.0      10.0    60.0          0.9   drf_grid_model_8  0.544212\n",
      "12         12.0      10.0   700.0          0.6   drf_grid_model_3  0.549601\n",
      "13          8.0      15.0    20.0          1.0  drf_grid_model_20  0.551737\n",
      "14          4.0      15.0   540.0          1.0  drf_grid_model_24  0.564161\n",
      "15          4.0      15.0   970.0          1.0   drf_grid_model_5  0.564381\n",
      "16          4.0      15.0   110.0          1.0   drf_grid_model_6  0.565192\n",
      "17          4.0      15.0    50.0          0.7  drf_grid_model_15  0.576532\n",
      "18          3.0       1.0   630.0          0.9   drf_grid_model_4  0.581104\n",
      "19          3.0       1.0   230.0          0.8  drf_grid_model_19  0.583056\n",
      "20          3.0       5.0   780.0          0.8  drf_grid_model_11  0.584806\n",
      "21         11.0      15.0   210.0          0.5  drf_grid_model_12  0.585185\n",
      "22          9.0      15.0   370.0          0.5  drf_grid_model_25  0.585929\n",
      "23          4.0      15.0   420.0          0.5  drf_grid_model_21  0.588078\n",
      "24          2.0       1.0   870.0          0.8  drf_grid_model_16  0.618154\n"
     ]
    },
    {
     "data": {
      "text/plain": []
     },
     "execution_count": 16,
     "metadata": {},
     "output_type": "execute_result"
    }
   ],
   "source": [
    "drf_grid1.train(x=x, y=y,\n",
    "                nfolds=10,\n",
    "                training_frame=train,\n",
    "                validation_frame=valid,\n",
    "                binomial_double_trees=True,\n",
    "                seed=1)"
   ]
  },
  {
   "cell_type": "code",
   "execution_count": 17,
   "id": "8707f946-1886-4d4a-bc92-68b04c7b35d1",
   "metadata": {},
   "outputs": [
    {
     "name": "stdout",
     "output_type": "stream",
     "text": [
      "      max_depth  min_rows  ntrees  sample_rate          model_ids       auc\n",
      "0          14.0       1.0   640.0          0.8   drf_grid_model_9  0.918818\n",
      "1          17.0       1.0   480.0          0.8   drf_grid_model_1  0.917949\n",
      "2          10.0       1.0   350.0          0.9   drf_grid_model_2  0.916377\n",
      "3          15.0       1.0   180.0          0.5  drf_grid_model_23  0.907378\n",
      "4          10.0       1.0   370.0          0.6  drf_grid_model_14  0.906778\n",
      "5          16.0       5.0   990.0          1.0   drf_grid_model_7  0.892337\n",
      "6           7.0       5.0   600.0          0.9  drf_grid_model_18  0.882903\n",
      "7           5.0       5.0   800.0          1.0  drf_grid_model_22  0.867718\n",
      "8          18.0      10.0    90.0          0.9  drf_grid_model_17  0.858408\n",
      "9          12.0      10.0   530.0          0.8  drf_grid_model_13  0.858325\n",
      "10         11.0      10.0   760.0          0.7  drf_grid_model_10  0.852491\n",
      "11         12.0      10.0   700.0          0.6   drf_grid_model_3  0.848850\n",
      "12          5.0      10.0    60.0          0.9   drf_grid_model_8  0.844257\n",
      "13          4.0      15.0   970.0          1.0   drf_grid_model_5  0.836354\n",
      "14          4.0      15.0   540.0          1.0  drf_grid_model_24  0.835857\n",
      "15          8.0      15.0    20.0          1.0  drf_grid_model_20  0.830933\n",
      "16          4.0      15.0   110.0          1.0   drf_grid_model_6  0.830727\n",
      "17          3.0       1.0   630.0          0.9   drf_grid_model_4  0.830354\n",
      "18          3.0       5.0   780.0          0.8  drf_grid_model_11  0.825472\n",
      "19          3.0       1.0   230.0          0.8  drf_grid_model_19  0.825058\n",
      "20          4.0      15.0    50.0          0.7  drf_grid_model_15  0.817693\n",
      "21          9.0      15.0   370.0          0.5  drf_grid_model_25  0.816534\n",
      "22         11.0      15.0   210.0          0.5  drf_grid_model_12  0.815127\n",
      "23          4.0      15.0   420.0          0.5  drf_grid_model_21  0.813059\n",
      "24          2.0       1.0   870.0          0.8  drf_grid_model_16  0.795597\n"
     ]
    },
    {
     "data": {
      "text/plain": []
     },
     "execution_count": 17,
     "metadata": {},
     "output_type": "execute_result"
    }
   ],
   "source": [
    "drf_gridperf = drf_grid1.get_grid(sort_by='auc', decreasing=True)\n",
    "drf_gridperf"
   ]
  },
  {
   "cell_type": "code",
   "execution_count": 18,
   "id": "8e3defc4-df69-4273-89a6-e52bbe355902",
   "metadata": {},
   "outputs": [],
   "source": [
    "best_drf = drf_gridperf.models[0]"
   ]
  },
  {
   "cell_type": "code",
   "execution_count": 19,
   "id": "101d0e9b-4f1a-4113-9a1c-491bef25bc8c",
   "metadata": {},
   "outputs": [
    {
     "data": {
      "text/plain": [
       "0.6679999999999999"
      ]
     },
     "execution_count": 19,
     "metadata": {},
     "output_type": "execute_result"
    }
   ],
   "source": [
    "best_drf_perf = best_drf.model_performance(test_h2o)\n",
    "best_drf_perf.auc()"
   ]
  },
  {
   "cell_type": "code",
   "execution_count": 20,
   "id": "385c6e36-9df6-45e1-b4a0-e9b94daea096",
   "metadata": {},
   "outputs": [
    {
     "data": {
      "text/plain": [
       "[[0.4224416482274927, 0.7176470588235294]]"
      ]
     },
     "execution_count": 20,
     "metadata": {},
     "output_type": "execute_result"
    }
   ],
   "source": [
    "best_drf_perf.accuracy()"
   ]
  },
  {
   "cell_type": "code",
   "execution_count": 26,
   "id": "2b323de4-2a46-48d8-a693-56f9de5287a0",
   "metadata": {},
   "outputs": [],
   "source": [
    "# # Build and train the model:\n",
    "# RAdrugs_drf = H2ORandomForestEstimator(\n",
    "#     nfolds = 5,\n",
    "#     ntrees = 100,\n",
    "#     max_depth = 20,\n",
    "#     min_rows=10,\n",
    "# #     balance_classes = True,\n",
    "# #     max_after_balance_size = 1.0,\n",
    "# #     calibrate_model=True,\n",
    "# #     calibration_frame=valid,\n",
    "#     histogram_type=\"Random\",\n",
    "#     binomial_double_trees=True)"
   ]
  },
  {
   "cell_type": "code",
   "execution_count": 21,
   "id": "82e33383-31f8-4c79-a8d9-38c580872c4e",
   "metadata": {},
   "outputs": [],
   "source": [
    "# RAdrugs_drf.train(x=predictors,\n",
    "#                   y=response,\n",
    "#                   training_frame=train,\n",
    "#                   validation_frame=valid)"
   ]
  },
  {
   "cell_type": "code",
   "execution_count": 23,
   "id": "d709fd4f-cdaa-4c18-9067-e09b1e03741f",
   "metadata": {},
   "outputs": [],
   "source": [
    "# Eval performance:\n",
    "# perf = best_drf_perf.model_performance()"
   ]
  },
  {
   "cell_type": "code",
   "execution_count": 24,
   "id": "dcf7fdb9-0891-42cd-ae53-fb23eafa7726",
   "metadata": {},
   "outputs": [],
   "source": [
    "# perf"
   ]
  },
  {
   "cell_type": "code",
   "execution_count": 25,
   "id": "32db0b3c-7ab2-4953-aa83-f6c295687509",
   "metadata": {},
   "outputs": [
    {
     "name": "stdout",
     "output_type": "stream",
     "text": [
      "drf prediction progress: |███████████████████████████████████████████████████████| (done) 100%\n"
     ]
    }
   ],
   "source": [
    "# Generate predictions on a validation set (if necessary):\n",
    "pred = best_drf.predict(test_h2o)"
   ]
  },
  {
   "cell_type": "code",
   "execution_count": 26,
   "id": "4cd941be-0714-496b-9d71-9ef0baf38f8a",
   "metadata": {},
   "outputs": [
    {
     "data": {
      "text/html": [
       "<table>\n",
       "<thead>\n",
       "<tr><th style=\"text-align: right;\">  predict</th><th style=\"text-align: right;\">      p0</th><th style=\"text-align: right;\">      p1</th></tr>\n",
       "</thead>\n",
       "<tbody>\n",
       "<tr><td style=\"text-align: right;\">        1</td><td style=\"text-align: right;\">0.290997</td><td style=\"text-align: right;\">0.709003</td></tr>\n",
       "<tr><td style=\"text-align: right;\">        1</td><td style=\"text-align: right;\">0.364839</td><td style=\"text-align: right;\">0.635161</td></tr>\n",
       "<tr><td style=\"text-align: right;\">        1</td><td style=\"text-align: right;\">0.168036</td><td style=\"text-align: right;\">0.831964</td></tr>\n",
       "<tr><td style=\"text-align: right;\">        1</td><td style=\"text-align: right;\">0.356215</td><td style=\"text-align: right;\">0.643785</td></tr>\n",
       "<tr><td style=\"text-align: right;\">        1</td><td style=\"text-align: right;\">0.351137</td><td style=\"text-align: right;\">0.648863</td></tr>\n",
       "<tr><td style=\"text-align: right;\">        1</td><td style=\"text-align: right;\">0.342092</td><td style=\"text-align: right;\">0.657908</td></tr>\n",
       "<tr><td style=\"text-align: right;\">        1</td><td style=\"text-align: right;\">0.183386</td><td style=\"text-align: right;\">0.816614</td></tr>\n",
       "<tr><td style=\"text-align: right;\">        1</td><td style=\"text-align: right;\">0.56291 </td><td style=\"text-align: right;\">0.43709 </td></tr>\n",
       "<tr><td style=\"text-align: right;\">        1</td><td style=\"text-align: right;\">0.311469</td><td style=\"text-align: right;\">0.688531</td></tr>\n",
       "<tr><td style=\"text-align: right;\">        1</td><td style=\"text-align: right;\">0.262197</td><td style=\"text-align: right;\">0.737803</td></tr>\n",
       "</tbody>\n",
       "</table>"
      ]
     },
     "metadata": {},
     "output_type": "display_data"
    },
    {
     "data": {
      "text/plain": []
     },
     "execution_count": 26,
     "metadata": {},
     "output_type": "execute_result"
    }
   ],
   "source": [
    "pred"
   ]
  },
  {
   "cell_type": "code",
   "execution_count": 27,
   "id": "c6454c7e-b4de-4f27-935c-9c33e408a94f",
   "metadata": {},
   "outputs": [
    {
     "data": {
      "text/html": [
       "<table>\n",
       "<thead>\n",
       "<tr><th style=\"text-align: right;\">  grp</th><th style=\"text-align: right;\">  init_group</th><th style=\"text-align: right;\">  age</th><th style=\"text-align: right;\">  gender</th><th style=\"text-align: right;\">  final_education</th><th style=\"text-align: right;\">  race_grp</th><th style=\"text-align: right;\">  ethnicity</th><th style=\"text-align: right;\">  weight</th><th style=\"text-align: right;\">    BMI</th><th style=\"text-align: right;\">  height</th><th style=\"text-align: right;\">  newsmoker</th><th style=\"text-align: right;\">  drinker</th><th style=\"text-align: right;\">  drinksperwk</th><th style=\"text-align: right;\">  duration_ra</th><th style=\"text-align: right;\">  ara_func_class</th><th style=\"text-align: right;\">  num_tnf</th><th style=\"text-align: right;\">  num_nontnf</th><th style=\"text-align: right;\">  ndmardused</th><th style=\"text-align: right;\">  rfstatus_b</th><th style=\"text-align: right;\">  usresultsRF</th><th style=\"text-align: right;\">  ccpstatus_b</th><th style=\"text-align: right;\">  usresultsCCP3</th><th style=\"text-align: right;\">  hxmi</th><th style=\"text-align: right;\">  hxunstab_ang</th><th style=\"text-align: right;\">  hxchf</th><th style=\"text-align: right;\">  hxother_cv</th><th style=\"text-align: right;\">  hxtia</th><th style=\"text-align: right;\">  hxstroke</th><th style=\"text-align: right;\">  hxcopd</th><th style=\"text-align: right;\">  hxhtn</th><th style=\"text-align: right;\">  hxdiabetes</th><th style=\"text-align: right;\">  hxhld</th><th style=\"text-align: right;\">  hx_anycancer</th><th style=\"text-align: right;\">  seatedbp1</th><th style=\"text-align: right;\">  seatedbp2</th><th style=\"text-align: right;\">  pres_mtx</th><th style=\"text-align: right;\">  pres_arava</th><th style=\"text-align: right;\">  pres_azulfidine</th><th style=\"text-align: right;\">  pres_plaquenil</th><th style=\"text-align: right;\">  pres_imuran</th><th style=\"text-align: right;\">  pres_minocin</th><th style=\"text-align: right;\">  pres_pred</th><th style=\"text-align: right;\">  nonpresNSAIDs_use</th><th style=\"text-align: right;\">  NSAIDs_use</th><th style=\"text-align: right;\">  tender_jts_28</th><th style=\"text-align: right;\">  swollen_jts_28</th><th style=\"text-align: right;\">  md_global_assess</th><th style=\"text-align: right;\">  pt_global_assess</th><th style=\"text-align: right;\">      di</th><th style=\"text-align: right;\">  pt_pain</th><th style=\"text-align: right;\">  usresultsCRP</th><th style=\"text-align: right;\">  usresultsIgA</th><th style=\"text-align: right;\">  usresultsIgG</th><th style=\"text-align: right;\">  usresultsIgM</th><th style=\"text-align: right;\">  DAS28_CRP_0M</th><th style=\"text-align: right;\">  DrugResponse_binary</th></tr>\n",
       "</thead>\n",
       "<tbody>\n",
       "<tr><td style=\"text-align: right;\">    0</td><td style=\"text-align: right;\">           0</td><td style=\"text-align: right;\">   62</td><td style=\"text-align: right;\">       1</td><td style=\"text-align: right;\">                0</td><td style=\"text-align: right;\">         7</td><td style=\"text-align: right;\">          1</td><td style=\"text-align: right;\">     219</td><td style=\"text-align: right;\">28.1149</td><td style=\"text-align: right;\">      74</td><td style=\"text-align: right;\">          2</td><td style=\"text-align: right;\">        2</td><td style=\"text-align: right;\">            7</td><td style=\"text-align: right;\">            1</td><td style=\"text-align: right;\">               0</td><td style=\"text-align: right;\">        0</td><td style=\"text-align: right;\">           0</td><td style=\"text-align: right;\">           1</td><td style=\"text-align: right;\">           0</td><td style=\"text-align: right;\">          8.7</td><td style=\"text-align: right;\">            0</td><td style=\"text-align: right;\">             16</td><td style=\"text-align: right;\">     0</td><td style=\"text-align: right;\">             0</td><td style=\"text-align: right;\">      0</td><td style=\"text-align: right;\">           0</td><td style=\"text-align: right;\">      0</td><td style=\"text-align: right;\">         0</td><td style=\"text-align: right;\">       0</td><td style=\"text-align: right;\">      0</td><td style=\"text-align: right;\">           0</td><td style=\"text-align: right;\">      0</td><td style=\"text-align: right;\">             0</td><td style=\"text-align: right;\">        110</td><td style=\"text-align: right;\">         71</td><td style=\"text-align: right;\">         1</td><td style=\"text-align: right;\">           0</td><td style=\"text-align: right;\">                0</td><td style=\"text-align: right;\">               0</td><td style=\"text-align: right;\">            0</td><td style=\"text-align: right;\">             0</td><td style=\"text-align: right;\">          0</td><td style=\"text-align: right;\">                  0</td><td style=\"text-align: right;\">           0</td><td style=\"text-align: right;\">              5</td><td style=\"text-align: right;\">               3</td><td style=\"text-align: right;\">                35</td><td style=\"text-align: right;\">                10</td><td style=\"text-align: right;\">0       </td><td style=\"text-align: right;\">       10</td><td style=\"text-align: right;\">          4.41</td><td style=\"text-align: right;\">           284</td><td style=\"text-align: right;\">          1640</td><td style=\"text-align: right;\">            94</td><td style=\"text-align: right;\">       3.44494</td><td style=\"text-align: right;\">                    1</td></tr>\n",
       "<tr><td style=\"text-align: right;\">    1</td><td style=\"text-align: right;\">           0</td><td style=\"text-align: right;\">   54</td><td style=\"text-align: right;\">       0</td><td style=\"text-align: right;\">                2</td><td style=\"text-align: right;\">         7</td><td style=\"text-align: right;\">          1</td><td style=\"text-align: right;\">     160</td><td style=\"text-align: right;\">26.6225</td><td style=\"text-align: right;\">      65</td><td style=\"text-align: right;\">          0</td><td style=\"text-align: right;\">        1</td><td style=\"text-align: right;\">            0</td><td style=\"text-align: right;\">            3</td><td style=\"text-align: right;\">               1</td><td style=\"text-align: right;\">        0</td><td style=\"text-align: right;\">           0</td><td style=\"text-align: right;\">           2</td><td style=\"text-align: right;\">           1</td><td style=\"text-align: right;\">         28.8</td><td style=\"text-align: right;\">            1</td><td style=\"text-align: right;\">            251</td><td style=\"text-align: right;\">     0</td><td style=\"text-align: right;\">             0</td><td style=\"text-align: right;\">      0</td><td style=\"text-align: right;\">           0</td><td style=\"text-align: right;\">      0</td><td style=\"text-align: right;\">         0</td><td style=\"text-align: right;\">       0</td><td style=\"text-align: right;\">      0</td><td style=\"text-align: right;\">           0</td><td style=\"text-align: right;\">      0</td><td style=\"text-align: right;\">             0</td><td style=\"text-align: right;\">        140</td><td style=\"text-align: right;\">         82</td><td style=\"text-align: right;\">         0</td><td style=\"text-align: right;\">           0</td><td style=\"text-align: right;\">                0</td><td style=\"text-align: right;\">               0</td><td style=\"text-align: right;\">            0</td><td style=\"text-align: right;\">             0</td><td style=\"text-align: right;\">          0</td><td style=\"text-align: right;\">                  1</td><td style=\"text-align: right;\">           0</td><td style=\"text-align: right;\">              7</td><td style=\"text-align: right;\">               7</td><td style=\"text-align: right;\">                65</td><td style=\"text-align: right;\">                70</td><td style=\"text-align: right;\">0.75    </td><td style=\"text-align: right;\">       60</td><td style=\"text-align: right;\">         51.51</td><td style=\"text-align: right;\">           462</td><td style=\"text-align: right;\">           939</td><td style=\"text-align: right;\">            49</td><td style=\"text-align: right;\">       5.58839</td><td style=\"text-align: right;\">                    1</td></tr>\n",
       "<tr><td style=\"text-align: right;\">    1</td><td style=\"text-align: right;\">           0</td><td style=\"text-align: right;\">   42</td><td style=\"text-align: right;\">       1</td><td style=\"text-align: right;\">                0</td><td style=\"text-align: right;\">         7</td><td style=\"text-align: right;\">          1</td><td style=\"text-align: right;\">     185</td><td style=\"text-align: right;\">26.5418</td><td style=\"text-align: right;\">      70</td><td style=\"text-align: right;\">          3</td><td style=\"text-align: right;\">        2</td><td style=\"text-align: right;\">           28</td><td style=\"text-align: right;\">            1</td><td style=\"text-align: right;\">               0</td><td style=\"text-align: right;\">        0</td><td style=\"text-align: right;\">           0</td><td style=\"text-align: right;\">           1</td><td style=\"text-align: right;\">           1</td><td style=\"text-align: right;\">        215.6</td><td style=\"text-align: right;\">            1</td><td style=\"text-align: right;\">            251</td><td style=\"text-align: right;\">     0</td><td style=\"text-align: right;\">             0</td><td style=\"text-align: right;\">      0</td><td style=\"text-align: right;\">           0</td><td style=\"text-align: right;\">      0</td><td style=\"text-align: right;\">         0</td><td style=\"text-align: right;\">       0</td><td style=\"text-align: right;\">      0</td><td style=\"text-align: right;\">           0</td><td style=\"text-align: right;\">      0</td><td style=\"text-align: right;\">             0</td><td style=\"text-align: right;\">        137</td><td style=\"text-align: right;\">         80</td><td style=\"text-align: right;\">         1</td><td style=\"text-align: right;\">           0</td><td style=\"text-align: right;\">                0</td><td style=\"text-align: right;\">               0</td><td style=\"text-align: right;\">            0</td><td style=\"text-align: right;\">             0</td><td style=\"text-align: right;\">          0</td><td style=\"text-align: right;\">                  1</td><td style=\"text-align: right;\">           0</td><td style=\"text-align: right;\">              5</td><td style=\"text-align: right;\">               8</td><td style=\"text-align: right;\">                39</td><td style=\"text-align: right;\">                35</td><td style=\"text-align: right;\">0       </td><td style=\"text-align: right;\">       35</td><td style=\"text-align: right;\">          5.3 </td><td style=\"text-align: right;\">           231</td><td style=\"text-align: right;\">          1340</td><td style=\"text-align: right;\">           118</td><td style=\"text-align: right;\">       4.15676</td><td style=\"text-align: right;\">                    1</td></tr>\n",
       "<tr><td style=\"text-align: right;\">    2</td><td style=\"text-align: right;\">           0</td><td style=\"text-align: right;\">   72</td><td style=\"text-align: right;\">       0</td><td style=\"text-align: right;\">                2</td><td style=\"text-align: right;\">         7</td><td style=\"text-align: right;\">          1</td><td style=\"text-align: right;\">     152</td><td style=\"text-align: right;\">24.5308</td><td style=\"text-align: right;\">      66</td><td style=\"text-align: right;\">          3</td><td style=\"text-align: right;\">        1</td><td style=\"text-align: right;\">            0</td><td style=\"text-align: right;\">           12</td><td style=\"text-align: right;\">               1</td><td style=\"text-align: right;\">        0</td><td style=\"text-align: right;\">           0</td><td style=\"text-align: right;\">           4</td><td style=\"text-align: right;\">           1</td><td style=\"text-align: right;\">       1450  </td><td style=\"text-align: right;\">            1</td><td style=\"text-align: right;\">            251</td><td style=\"text-align: right;\">     0</td><td style=\"text-align: right;\">             0</td><td style=\"text-align: right;\">      0</td><td style=\"text-align: right;\">           0</td><td style=\"text-align: right;\">      0</td><td style=\"text-align: right;\">         0</td><td style=\"text-align: right;\">       0</td><td style=\"text-align: right;\">      1</td><td style=\"text-align: right;\">           0</td><td style=\"text-align: right;\">      0</td><td style=\"text-align: right;\">             0</td><td style=\"text-align: right;\">        182</td><td style=\"text-align: right;\">        100</td><td style=\"text-align: right;\">         0</td><td style=\"text-align: right;\">           0</td><td style=\"text-align: right;\">                0</td><td style=\"text-align: right;\">               1</td><td style=\"text-align: right;\">            0</td><td style=\"text-align: right;\">             0</td><td style=\"text-align: right;\">          1</td><td style=\"text-align: right;\">                  0</td><td style=\"text-align: right;\">           0</td><td style=\"text-align: right;\">              5</td><td style=\"text-align: right;\">               6</td><td style=\"text-align: right;\">                50</td><td style=\"text-align: right;\">                65</td><td style=\"text-align: right;\">0.857143</td><td style=\"text-align: right;\">       50</td><td style=\"text-align: right;\">          4.75</td><td style=\"text-align: right;\">           657</td><td style=\"text-align: right;\">          1480</td><td style=\"text-align: right;\">           317</td><td style=\"text-align: right;\">       4.43777</td><td style=\"text-align: right;\">                    0</td></tr>\n",
       "<tr><td style=\"text-align: right;\">    1</td><td style=\"text-align: right;\">           0</td><td style=\"text-align: right;\">   42</td><td style=\"text-align: right;\">       0</td><td style=\"text-align: right;\">                0</td><td style=\"text-align: right;\">         7</td><td style=\"text-align: right;\">          1</td><td style=\"text-align: right;\">     239</td><td style=\"text-align: right;\">38.5714</td><td style=\"text-align: right;\">      66</td><td style=\"text-align: right;\">          2</td><td style=\"text-align: right;\">        1</td><td style=\"text-align: right;\">            0</td><td style=\"text-align: right;\">            2</td><td style=\"text-align: right;\">               1</td><td style=\"text-align: right;\">        0</td><td style=\"text-align: right;\">           0</td><td style=\"text-align: right;\">           3</td><td style=\"text-align: right;\">           1</td><td style=\"text-align: right;\">         16.3</td><td style=\"text-align: right;\">            1</td><td style=\"text-align: right;\">             29</td><td style=\"text-align: right;\">     0</td><td style=\"text-align: right;\">             0</td><td style=\"text-align: right;\">      0</td><td style=\"text-align: right;\">           0</td><td style=\"text-align: right;\">      0</td><td style=\"text-align: right;\">         0</td><td style=\"text-align: right;\">       0</td><td style=\"text-align: right;\">      1</td><td style=\"text-align: right;\">           0</td><td style=\"text-align: right;\">      1</td><td style=\"text-align: right;\">             0</td><td style=\"text-align: right;\">        130</td><td style=\"text-align: right;\">         80</td><td style=\"text-align: right;\">         0</td><td style=\"text-align: right;\">           0</td><td style=\"text-align: right;\">                0</td><td style=\"text-align: right;\">               0</td><td style=\"text-align: right;\">            0</td><td style=\"text-align: right;\">             0</td><td style=\"text-align: right;\">          0</td><td style=\"text-align: right;\">                  0</td><td style=\"text-align: right;\">           1</td><td style=\"text-align: right;\">              4</td><td style=\"text-align: right;\">               3</td><td style=\"text-align: right;\">                50</td><td style=\"text-align: right;\">                57</td><td style=\"text-align: right;\">0.75    </td><td style=\"text-align: right;\">       63</td><td style=\"text-align: right;\">         56.12</td><td style=\"text-align: right;\">           192</td><td style=\"text-align: right;\">          1810</td><td style=\"text-align: right;\">           197</td><td style=\"text-align: right;\">       4.81923</td><td style=\"text-align: right;\">                    1</td></tr>\n",
       "<tr><td style=\"text-align: right;\">    2</td><td style=\"text-align: right;\">           0</td><td style=\"text-align: right;\">   48</td><td style=\"text-align: right;\">       0</td><td style=\"text-align: right;\">                0</td><td style=\"text-align: right;\">         7</td><td style=\"text-align: right;\">          1</td><td style=\"text-align: right;\">     208</td><td style=\"text-align: right;\">34.6092</td><td style=\"text-align: right;\">      65</td><td style=\"text-align: right;\">          0</td><td style=\"text-align: right;\">        1</td><td style=\"text-align: right;\">            0</td><td style=\"text-align: right;\">            6</td><td style=\"text-align: right;\">               1</td><td style=\"text-align: right;\">        0</td><td style=\"text-align: right;\">           0</td><td style=\"text-align: right;\">           3</td><td style=\"text-align: right;\">           1</td><td style=\"text-align: right;\">         19.7</td><td style=\"text-align: right;\">            0</td><td style=\"text-align: right;\">             15</td><td style=\"text-align: right;\">     0</td><td style=\"text-align: right;\">             0</td><td style=\"text-align: right;\">      0</td><td style=\"text-align: right;\">           0</td><td style=\"text-align: right;\">      0</td><td style=\"text-align: right;\">         0</td><td style=\"text-align: right;\">       0</td><td style=\"text-align: right;\">      1</td><td style=\"text-align: right;\">           0</td><td style=\"text-align: right;\">      1</td><td style=\"text-align: right;\">             0</td><td style=\"text-align: right;\">        144</td><td style=\"text-align: right;\">         90</td><td style=\"text-align: right;\">         0</td><td style=\"text-align: right;\">           0</td><td style=\"text-align: right;\">                0</td><td style=\"text-align: right;\">               0</td><td style=\"text-align: right;\">            0</td><td style=\"text-align: right;\">             0</td><td style=\"text-align: right;\">          0</td><td style=\"text-align: right;\">                  0</td><td style=\"text-align: right;\">           1</td><td style=\"text-align: right;\">              8</td><td style=\"text-align: right;\">               3</td><td style=\"text-align: right;\">                40</td><td style=\"text-align: right;\">                40</td><td style=\"text-align: right;\">1       </td><td style=\"text-align: right;\">       76</td><td style=\"text-align: right;\">         21.53</td><td style=\"text-align: right;\">           136</td><td style=\"text-align: right;\">           904</td><td style=\"text-align: right;\">           188</td><td style=\"text-align: right;\">       4.71024</td><td style=\"text-align: right;\">                    1</td></tr>\n",
       "<tr><td style=\"text-align: right;\">    2</td><td style=\"text-align: right;\">           0</td><td style=\"text-align: right;\">   51</td><td style=\"text-align: right;\">       0</td><td style=\"text-align: right;\">                2</td><td style=\"text-align: right;\">         7</td><td style=\"text-align: right;\">          1</td><td style=\"text-align: right;\">      92</td><td style=\"text-align: right;\">16.8252</td><td style=\"text-align: right;\">      62</td><td style=\"text-align: right;\">          0</td><td style=\"text-align: right;\">        1</td><td style=\"text-align: right;\">            0</td><td style=\"text-align: right;\">            5</td><td style=\"text-align: right;\">               2</td><td style=\"text-align: right;\">        0</td><td style=\"text-align: right;\">           0</td><td style=\"text-align: right;\">           2</td><td style=\"text-align: right;\">           1</td><td style=\"text-align: right;\">         86  </td><td style=\"text-align: right;\">            1</td><td style=\"text-align: right;\">            251</td><td style=\"text-align: right;\">     0</td><td style=\"text-align: right;\">             0</td><td style=\"text-align: right;\">      0</td><td style=\"text-align: right;\">           0</td><td style=\"text-align: right;\">      0</td><td style=\"text-align: right;\">         0</td><td style=\"text-align: right;\">       0</td><td style=\"text-align: right;\">      0</td><td style=\"text-align: right;\">           1</td><td style=\"text-align: right;\">      0</td><td style=\"text-align: right;\">             0</td><td style=\"text-align: right;\">        120</td><td style=\"text-align: right;\">         82</td><td style=\"text-align: right;\">         1</td><td style=\"text-align: right;\">           0</td><td style=\"text-align: right;\">                0</td><td style=\"text-align: right;\">               0</td><td style=\"text-align: right;\">            0</td><td style=\"text-align: right;\">             0</td><td style=\"text-align: right;\">          1</td><td style=\"text-align: right;\">                  0</td><td style=\"text-align: right;\">           0</td><td style=\"text-align: right;\">             10</td><td style=\"text-align: right;\">               7</td><td style=\"text-align: right;\">                20</td><td style=\"text-align: right;\">                80</td><td style=\"text-align: right;\">1.5     </td><td style=\"text-align: right;\">        0</td><td style=\"text-align: right;\">         71.33</td><td style=\"text-align: right;\">           206</td><td style=\"text-align: right;\">          1040</td><td style=\"text-align: right;\">           192</td><td style=\"text-align: right;\">       6.13293</td><td style=\"text-align: right;\">                    0</td></tr>\n",
       "<tr><td style=\"text-align: right;\">    2</td><td style=\"text-align: right;\">           0</td><td style=\"text-align: right;\">   61</td><td style=\"text-align: right;\">       0</td><td style=\"text-align: right;\">                2</td><td style=\"text-align: right;\">         7</td><td style=\"text-align: right;\">          1</td><td style=\"text-align: right;\">     249</td><td style=\"text-align: right;\">41.4312</td><td style=\"text-align: right;\">      65</td><td style=\"text-align: right;\">          0</td><td style=\"text-align: right;\">        1</td><td style=\"text-align: right;\">            0</td><td style=\"text-align: right;\">            0</td><td style=\"text-align: right;\">               1</td><td style=\"text-align: right;\">        0</td><td style=\"text-align: right;\">           0</td><td style=\"text-align: right;\">           1</td><td style=\"text-align: right;\">           1</td><td style=\"text-align: right;\">        107.9</td><td style=\"text-align: right;\">            1</td><td style=\"text-align: right;\">            251</td><td style=\"text-align: right;\">     0</td><td style=\"text-align: right;\">             0</td><td style=\"text-align: right;\">      0</td><td style=\"text-align: right;\">           0</td><td style=\"text-align: right;\">      0</td><td style=\"text-align: right;\">         0</td><td style=\"text-align: right;\">       0</td><td style=\"text-align: right;\">      1</td><td style=\"text-align: right;\">           0</td><td style=\"text-align: right;\">      0</td><td style=\"text-align: right;\">             0</td><td style=\"text-align: right;\">        140</td><td style=\"text-align: right;\">         78</td><td style=\"text-align: right;\">         1</td><td style=\"text-align: right;\">           0</td><td style=\"text-align: right;\">                0</td><td style=\"text-align: right;\">               0</td><td style=\"text-align: right;\">            0</td><td style=\"text-align: right;\">             0</td><td style=\"text-align: right;\">          0</td><td style=\"text-align: right;\">                  1</td><td style=\"text-align: right;\">           0</td><td style=\"text-align: right;\">              8</td><td style=\"text-align: right;\">               5</td><td style=\"text-align: right;\">                30</td><td style=\"text-align: right;\">                20</td><td style=\"text-align: right;\">0       </td><td style=\"text-align: right;\">        6</td><td style=\"text-align: right;\">          4.97</td><td style=\"text-align: right;\">           249</td><td style=\"text-align: right;\">          1120</td><td style=\"text-align: right;\">           107</td><td style=\"text-align: right;\">       4.09325</td><td style=\"text-align: right;\">                    1</td></tr>\n",
       "<tr><td style=\"text-align: right;\">    1</td><td style=\"text-align: right;\">           0</td><td style=\"text-align: right;\">   38</td><td style=\"text-align: right;\">       1</td><td style=\"text-align: right;\">                0</td><td style=\"text-align: right;\">         7</td><td style=\"text-align: right;\">          1</td><td style=\"text-align: right;\">     161</td><td style=\"text-align: right;\">27.6326</td><td style=\"text-align: right;\">      64</td><td style=\"text-align: right;\">          2</td><td style=\"text-align: right;\">        1</td><td style=\"text-align: right;\">            0</td><td style=\"text-align: right;\">           23</td><td style=\"text-align: right;\">               2</td><td style=\"text-align: right;\">        0</td><td style=\"text-align: right;\">           0</td><td style=\"text-align: right;\">           1</td><td style=\"text-align: right;\">           1</td><td style=\"text-align: right;\">         16.2</td><td style=\"text-align: right;\">            0</td><td style=\"text-align: right;\">             15</td><td style=\"text-align: right;\">     0</td><td style=\"text-align: right;\">             0</td><td style=\"text-align: right;\">      0</td><td style=\"text-align: right;\">           0</td><td style=\"text-align: right;\">      0</td><td style=\"text-align: right;\">         0</td><td style=\"text-align: right;\">       0</td><td style=\"text-align: right;\">      1</td><td style=\"text-align: right;\">           0</td><td style=\"text-align: right;\">      0</td><td style=\"text-align: right;\">             0</td><td style=\"text-align: right;\">        120</td><td style=\"text-align: right;\">         80</td><td style=\"text-align: right;\">         1</td><td style=\"text-align: right;\">           0</td><td style=\"text-align: right;\">                0</td><td style=\"text-align: right;\">               0</td><td style=\"text-align: right;\">            0</td><td style=\"text-align: right;\">             0</td><td style=\"text-align: right;\">          1</td><td style=\"text-align: right;\">                  0</td><td style=\"text-align: right;\">           1</td><td style=\"text-align: right;\">             10</td><td style=\"text-align: right;\">              12</td><td style=\"text-align: right;\">                60</td><td style=\"text-align: right;\">                65</td><td style=\"text-align: right;\">0.5     </td><td style=\"text-align: right;\">       80</td><td style=\"text-align: right;\">          3.84</td><td style=\"text-align: right;\">            74</td><td style=\"text-align: right;\">           903</td><td style=\"text-align: right;\">            46</td><td style=\"text-align: right;\">       5.17851</td><td style=\"text-align: right;\">                    1</td></tr>\n",
       "<tr><td style=\"text-align: right;\">    1</td><td style=\"text-align: right;\">           0</td><td style=\"text-align: right;\">   26</td><td style=\"text-align: right;\">       1</td><td style=\"text-align: right;\">                2</td><td style=\"text-align: right;\">         7</td><td style=\"text-align: right;\">          2</td><td style=\"text-align: right;\">     248</td><td style=\"text-align: right;\">32.7161</td><td style=\"text-align: right;\">      73</td><td style=\"text-align: right;\">          0</td><td style=\"text-align: right;\">        1</td><td style=\"text-align: right;\">            0</td><td style=\"text-align: right;\">           11</td><td style=\"text-align: right;\">               2</td><td style=\"text-align: right;\">        0</td><td style=\"text-align: right;\">           0</td><td style=\"text-align: right;\">           2</td><td style=\"text-align: right;\">           1</td><td style=\"text-align: right;\">         14.6</td><td style=\"text-align: right;\">            0</td><td style=\"text-align: right;\">             15</td><td style=\"text-align: right;\">     0</td><td style=\"text-align: right;\">             0</td><td style=\"text-align: right;\">      0</td><td style=\"text-align: right;\">           0</td><td style=\"text-align: right;\">      0</td><td style=\"text-align: right;\">         0</td><td style=\"text-align: right;\">       0</td><td style=\"text-align: right;\">      0</td><td style=\"text-align: right;\">           0</td><td style=\"text-align: right;\">      0</td><td style=\"text-align: right;\">             0</td><td style=\"text-align: right;\">        128</td><td style=\"text-align: right;\">         78</td><td style=\"text-align: right;\">         0</td><td style=\"text-align: right;\">           0</td><td style=\"text-align: right;\">                0</td><td style=\"text-align: right;\">               0</td><td style=\"text-align: right;\">            1</td><td style=\"text-align: right;\">             0</td><td style=\"text-align: right;\">          1</td><td style=\"text-align: right;\">                  1</td><td style=\"text-align: right;\">           0</td><td style=\"text-align: right;\">              4</td><td style=\"text-align: right;\">               4</td><td style=\"text-align: right;\">                50</td><td style=\"text-align: right;\">                55</td><td style=\"text-align: right;\">0.625   </td><td style=\"text-align: right;\">       80</td><td style=\"text-align: right;\">        130.47</td><td style=\"text-align: right;\">           202</td><td style=\"text-align: right;\">          1010</td><td style=\"text-align: right;\">            56</td><td style=\"text-align: right;\">       5.16636</td><td style=\"text-align: right;\">                    1</td></tr>\n",
       "</tbody>\n",
       "</table>"
      ]
     },
     "metadata": {},
     "output_type": "display_data"
    },
    {
     "data": {
      "text/plain": []
     },
     "execution_count": 27,
     "metadata": {},
     "output_type": "execute_result"
    }
   ],
   "source": [
    "test_h2o"
   ]
  },
  {
   "cell_type": "code",
   "execution_count": 28,
   "id": "3feb55df-bcf9-4fad-a6d8-9a3a4ac89677",
   "metadata": {},
   "outputs": [
    {
     "data": {
      "image/png": "[encoded data removed]",
      "text/plain": [
       "<Figure size 432x288 with 1 Axes>"
      ]
     },
     "metadata": {
      "needs_background": "light"
     },
     "output_type": "display_data"
    }
   ],
   "source": [
    "true = test_h2o.as_data_frame()['DrugResponse_binary']\n",
    "pred = pred.as_data_frame()['predict']\n",
    "EvaluationModule.confusion_matrix_scratch(true, pred, normalize=True, plot=True)"
   ]
  },
  {
   "cell_type": "code",
   "execution_count": null,
   "id": "d22289d7-888d-4551-818d-93fdb129a58c",
   "metadata": {},
   "outputs": [],
   "source": []
  }
 ],
 "metadata": {
  "kernelspec": {
   "display_name": "ADPred_new",
   "language": "python",
   "name": "adpred_new"
  },
  "language_info": {
   "codemirror_mode": {
    "name": "ipython",
    "version": 3
   },
   "file_extension": ".py",
   "mimetype": "text/x-python",
   "name": "python",
   "nbconvert_exporter": "python",
   "pygments_lexer": "ipython3",
   "version": "3.10.4"
  }
 },
 "nbformat": 4,
 "nbformat_minor": 5
}
