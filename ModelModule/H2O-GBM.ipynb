{
 "cells": [
  {
   "cell_type": "code",
   "execution_count": null,
   "id": "6d7bbb41",
   "metadata": {},
   "outputs": [],
   "source": [
    "import h2o\n",
    "from h2o.automl import H2OAutoML\n",
    "from h2o.estimators.infogram import H2OInfogram\n",
    "from h2o.estimators.gbm import H2OGradientBoostingEstimator\n",
    "from h2o.estimators import H2ORandomForestEstimator\n",
    "# from imblearn.over_sampling import SMOTE\n",
    "# from imblearn.under_sampling import RandomUnderSampler\n",
    "import pandas as pd\n",
    "import numpy as np\n",
    "import sys\n",
    "sys.path.insert(0, '..')\n",
    "from DataModule.Data_Preparation import CoronnaCERTAINDataset\n",
    "import EvaluationModule\n",
    "pd.options.mode.chained_assignment = None"
   ]
  },
  {
   "cell_type": "code",
   "execution_count": null,
   "id": "bda21304-3c80-482d-8915-3d9af50c06a6",
   "metadata": {},
   "outputs": [],
   "source": [
    "# pd.set_option('display.max_columns', None)\n",
    "# pd.set_option('display.max_rows', None)"
   ]
  },
  {
   "cell_type": "code",
   "execution_count": null,
   "id": "bafe8a1c",
   "metadata": {
    "scrolled": true
   },
   "outputs": [],
   "source": [
    "dataset = CoronnaCERTAINDataset(\n",
    "    library_root='/Users/gaskell/Dropbox/Mac/Desktop/Autoimmune_Disease/Code/ML_RA_EHR/Dataset/',\n",
    "    challenge=\"binary_classification\", #option: regression, regression_delta, classification, binary_classification\n",
    "    dataset='CORRONA CERTAIN', \n",
    "    process_approach='SC', #option: KVB, SC\n",
    "    imputation=\"IterativeImputer\", #option: SimpleFill, KNN, SoftImpute, BiScaler, NuclearNormMinimization, IterativeImputer, IterativeSVD, None(raw)\n",
    "    patient_group='bionaive TNF', #option: \"all\", \"bioexp nTNF\", \"bionaive TNF\", \"bionaive orencia\", \"KVB\"\n",
    "    drug_group='all', #option: \"all\", \"actemra\", \"cimzia\", \"enbrel\", \"humira\", \"orencia\", \"remicade\", \"rituxan\", \"simponi\"\n",
    "    time_points=(0,3), \n",
    "    train_test_rate=0.8,\n",
    "    remove_low_DAS = True,\n",
    "    save_csv=False,\n",
    "    balance_class=True,\n",
    "    random_state=2022)"
   ]
  },
  {
   "cell_type": "code",
   "execution_count": null,
   "id": "b52a9b53-41fa-4d3f-a4e3-4681c4e7e5be",
   "metadata": {},
   "outputs": [],
   "source": [
    "train_set, train_loc = dataset.get_train()\n",
    "test_set, test_loc = dataset.get_test()"
   ]
  },
  {
   "cell_type": "code",
   "execution_count": null,
   "id": "c3b80c9c-d156-43cb-a349-bd4435587d2d",
   "metadata": {},
   "outputs": [],
   "source": [
    "train_set"
   ]
  },
  {
   "cell_type": "code",
   "execution_count": null,
   "id": "c448ca28",
   "metadata": {},
   "outputs": [],
   "source": [
    "# Start the H2O cluster (locally)\n",
    "h2o.init()\n",
    "\n",
    "# Import a sample binary outcome train/test set into H2O\n",
    "train_h2o = h2o.upload_file(str(train_loc))\n",
    "test_h2o = h2o.upload_file(str(test_loc))\n",
    "\n",
    "# Identify predictors and response\n",
    "predictors = train_h2o.columns[:-1]\n",
    "# y = \"DAS28_CRP_3M\"\n",
    "response = \"DrugResponse_binary\"\n",
    "\n",
    "for feature in dataset.categorical:\n",
    "    train_h2o[feature] = train_h2o[feature].asfactor()\n",
    "    test_h2o[feature] = test_h2o[feature].asfactor()\n",
    "train_h2o[response] = train_h2o[response].asfactor()\n",
    "test_h2o[response] = test_h2o[response].asfactor()\n",
    "\n",
    "train, valid = train_h2o.split_frame(ratios=[.8], seed=1)"
   ]
  },
  {
   "cell_type": "code",
   "execution_count": null,
   "id": "2b323de4-2a46-48d8-a693-56f9de5287a0",
   "metadata": {},
   "outputs": [],
   "source": [
    "# Build and train the model:\n",
    "RAdrugs_gbm = H2OGradientBoostingEstimator(\n",
    "    model_id = \"GBM_grid_1_AutoML_1_20220711_223756_model_8\"\n",
    "    nfolds = 10,\n",
    "    ntrees = 50,\n",
    "    max_depth = 20,\n",
    "    min_rows=10,\n",
    "#     balance_classes = True,\n",
    "#     max_after_balance_size = 1.0,\n",
    "    calibrate_model=True,\n",
    "    calibration_frame=valid,\n",
    "    histogram_type=\"Random\",\n",
    "    binomial_double_trees=True)"
   ]
  },
  {
   "cell_type": "code",
   "execution_count": null,
   "id": "82e33383-31f8-4c79-a8d9-38c580872c4e",
   "metadata": {},
   "outputs": [],
   "source": [
    "RAdrugs_drf.train(x=predictors,\n",
    "                  y=response,\n",
    "                  training_frame=train,\n",
    "                  validation_frame=valid)"
   ]
  },
  {
   "cell_type": "code",
   "execution_count": null,
   "id": "d709fd4f-cdaa-4c18-9067-e09b1e03741f",
   "metadata": {},
   "outputs": [],
   "source": [
    "# Eval performance:\n",
    "perf = RAdrugs_drf.model_performance()"
   ]
  },
  {
   "cell_type": "code",
   "execution_count": null,
   "id": "32db0b3c-7ab2-4953-aa83-f6c295687509",
   "metadata": {},
   "outputs": [],
   "source": [
    "# Generate predictions on a validation set (if necessary):\n",
    "pred = RAdrugs_drf.predict(valid)"
   ]
  },
  {
   "cell_type": "code",
   "execution_count": null,
   "id": "4cd941be-0714-496b-9d71-9ef0baf38f8a",
   "metadata": {},
   "outputs": [],
   "source": [
    "pred"
   ]
  },
  {
   "cell_type": "code",
   "execution_count": null,
   "id": "86485f47-39b0-4921-928d-be527a195bc1",
   "metadata": {},
   "outputs": [],
   "source": [
    "pred.head(100)"
   ]
  },
  {
   "cell_type": "code",
   "execution_count": null,
   "id": "ea2096c9-a89e-479a-89d7-729915bec871",
   "metadata": {},
   "outputs": [],
   "source": [
    "valid[response].head(100)"
   ]
  },
  {
   "cell_type": "code",
   "execution_count": null,
   "id": "c6454c7e-b4de-4f27-935c-9c33e408a94f",
   "metadata": {},
   "outputs": [],
   "source": []
  }
 ],
 "metadata": {
  "kernelspec": {
   "display_name": "Python 3.8.8 ('base')",
   "language": "python",
   "name": "python3"
  },
  "language_info": {
   "codemirror_mode": {
    "name": "ipython",
    "version": 3
   },
   "file_extension": ".py",
   "mimetype": "text/x-python",
   "name": "python",
   "nbconvert_exporter": "python",
   "pygments_lexer": "ipython3",
   "version": "3.8.8"
  },
  "vscode": {
   "interpreter": {
    "hash": "b76f26fa8a612c8b8cb65ddaeb140f1392e886a532c01d32a03fb4eb587cde30"
   }
  }
 },
 "nbformat": 4,
 "nbformat_minor": 5
}
