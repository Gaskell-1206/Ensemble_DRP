{
 "cells": [
  {
   "cell_type": "code",
   "execution_count": 1,
   "id": "7d3aba53-7979-4126-8e8a-74bde78d1d9e",
   "metadata": {},
   "outputs": [
    {
     "name": "stdout",
     "output_type": "stream",
     "text": [
      "(CVXPY) Jul 18 05:43:59 PM: Encountered unexpected exception importing solver CVXOPT:\n",
      "ImportError(\"dlopen(/Users/gaskell/miniforge_x86_64/envs/ADPred_new/lib/python3.10/site-packages/cvxopt/base.cpython-310-darwin.so, 0x0002): tried: '/Users/gaskell/miniforge_x86_64/envs/ADPred_new/lib/python3.10/site-packages/cvxopt/base.cpython-310-darwin.so' (mach-o file, but is an incompatible architecture (have 'x86_64', need 'arm64e'))\")\n",
      "(CVXPY) Jul 18 05:43:59 PM: Encountered unexpected exception importing solver GLPK:\n",
      "ImportError(\"dlopen(/Users/gaskell/miniforge_x86_64/envs/ADPred_new/lib/python3.10/site-packages/cvxopt/base.cpython-310-darwin.so, 0x0002): tried: '/Users/gaskell/miniforge_x86_64/envs/ADPred_new/lib/python3.10/site-packages/cvxopt/base.cpython-310-darwin.so' (mach-o file, but is an incompatible architecture (have 'x86_64', need 'arm64e'))\")\n",
      "(CVXPY) Jul 18 05:43:59 PM: Encountered unexpected exception importing solver GLPK_MI:\n",
      "ImportError(\"dlopen(/Users/gaskell/miniforge_x86_64/envs/ADPred_new/lib/python3.10/site-packages/cvxopt/base.cpython-310-darwin.so, 0x0002): tried: '/Users/gaskell/miniforge_x86_64/envs/ADPred_new/lib/python3.10/site-packages/cvxopt/base.cpython-310-darwin.so' (mach-o file, but is an incompatible architecture (have 'x86_64', need 'arm64e'))\")\n"
     ]
    }
   ],
   "source": [
    "import pandas as pd\n",
    "import numpy as np\n",
    "import sys\n",
    "import pickle\n",
    "import warnings\n",
    "warnings.filterwarnings(\"ignore\")\n",
    "\n",
    "sys.path.insert(0, '..')\n",
    "from DataModule.Data_Preparation import CoronnaCERTAINDataset\n",
    "import FineTuneModule\n",
    "import EvaluationModule\n",
    "\n",
    "import xgboost as xgb\n",
    "import sklearn\n",
    "from sklearn.ensemble import RandomForestClassifier, RandomForestRegressor\n",
    "from sklearn.linear_model import LinearRegression,LogisticRegression\n",
    "from sklearn.pipeline import Pipeline"
   ]
  },
  {
   "cell_type": "code",
   "execution_count": 2,
   "id": "7bc84701-0a30-403f-a201-784a6ca9bc86",
   "metadata": {},
   "outputs": [
    {
     "name": "stdout",
     "output_type": "stream",
     "text": [
      "param_search_grid: {'max_samples': [0.5, 0.6, 0.7, 0.8, 0.9, 1.0, None], 'n_estimators': [100, 200, 300, 400, 500, 600, 700, 800, 900, 1000, 1100, 1200, 1300, 1400, 1500, 1600, 1700, 1800, 1900, 2000], 'max_features': ['auto', 'sqrt', 'log2'], 'max_depth': [10, 20, 30, 40, 50, 60, 70, 80, 90, 100, 110, None], 'min_samples_split': [2, 5, 10], 'min_samples_leaf': [1, 2, 4], 'bootstrap': [True, False]}\n",
      "best_params: {'n_estimators': 600, 'min_samples_split': 10, 'min_samples_leaf': 2, 'max_samples': 1.0, 'max_features': 'auto', 'max_depth': 50, 'bootstrap': True}\n"
     ]
    }
   ],
   "source": [
    "dataset = CoronnaCERTAINDataset(\n",
    "    library_root = '/Users/gaskell/Dropbox/Mac/Desktop/Autoimmune_Disease/Code/ML_RA_EHR/Dataset/',\n",
    "    challenge = 'binary_classification', #option: regression, regression_delta, classification, binary_classification, regression_delta_binary\n",
    "    dataset = 'CORRONA CERTAIN', \n",
    "    process_approach = 'SC', #option: KVB, SC\n",
    "    imputation = 'IterativeImputer', #option: SimpleFill, KNN, SoftImpute, BiScaler, NuclearNormMinimization, IterativeImputer, IterativeSVD, None(raw)\n",
    "    patient_group = 'bionaive TNF', #option: \"all\", \"bioexp nTNF\", \"bionaive TNF\", \"bionaive orencia\", \"KVB\"\n",
    "    drug_group = 'all', #option: \"all\", \"actemra\", \"cimzia\", \"enbrel\", \"humira\", \"orencia\", \"remicade\", \"rituxan\", \"simponi\"\n",
    "    time_points = (0,3), \n",
    "    train_test_rate = 0.8,\n",
    "    remove_low_DAS = True,\n",
    "    save_csv = False, \n",
    "    random_state = 2022,\n",
    "    verbose=False)\n",
    "# read train, test from dataloader\n",
    "train_set, train_loc = dataset.get_train()\n",
    "test_set, test_loc = dataset.get_test()\n",
    "\n",
    "aml = EvaluationModule.AutoBuild(seed=dataset.random_state, project_name=\"SC_Jul18_test\", challenge=dataset.challenge)\n",
    "# define models\n",
    "if \"regression\" in dataset.challenge:\n",
    "    model = RandomForestRegressor()\n",
    "elif \"classification\" in dataset.challenge:\n",
    "    model = FineTuneModule.fine_tune(train=train_set, model=\"drf_classification\", search_methods=\"RandomSearch\")\n",
    "#                             model = RandomForestClassifier()\n",
    "aml.validate(\"rf\", model, train_set, test_set)\n",
    "# aml.validation_output(dataset)\n",
    "# aml.test_output(dataset)"
   ]
  },
  {
   "cell_type": "code",
   "execution_count": 3,
   "id": "9fb7bb77-32da-438f-a657-daf4a99d9e87",
   "metadata": {},
   "outputs": [
    {
     "data": {
      "text/html": [
       "<div>\n",
       "<style scoped>\n",
       "    .dataframe tbody tr th:only-of-type {\n",
       "        vertical-align: middle;\n",
       "    }\n",
       "\n",
       "    .dataframe tbody tr th {\n",
       "        vertical-align: top;\n",
       "    }\n",
       "\n",
       "    .dataframe thead th {\n",
       "        text-align: right;\n",
       "    }\n",
       "</style>\n",
       "<table border=\"1\" class=\"dataframe\">\n",
       "  <thead>\n",
       "    <tr style=\"text-align: right;\">\n",
       "      <th></th>\n",
       "      <th>model</th>\n",
       "      <th>MAE</th>\n",
       "      <th>MSE</th>\n",
       "      <th>RMSE</th>\n",
       "      <th>R2</th>\n",
       "      <th>Pearson_Correlation</th>\n",
       "      <th>Accuracy</th>\n",
       "      <th>F1-Score</th>\n",
       "    </tr>\n",
       "  </thead>\n",
       "  <tbody>\n",
       "    <tr>\n",
       "      <th>0</th>\n",
       "      <td>rf</td>\n",
       "      <td>None</td>\n",
       "      <td>None</td>\n",
       "      <td>None</td>\n",
       "      <td>None</td>\n",
       "      <td>None</td>\n",
       "      <td>0.612903</td>\n",
       "      <td>0.446429</td>\n",
       "    </tr>\n",
       "    <tr>\n",
       "      <th>1</th>\n",
       "      <td>rf</td>\n",
       "      <td>None</td>\n",
       "      <td>None</td>\n",
       "      <td>None</td>\n",
       "      <td>None</td>\n",
       "      <td>None</td>\n",
       "      <td>0.870968</td>\n",
       "      <td>0.630952</td>\n",
       "    </tr>\n",
       "    <tr>\n",
       "      <th>2</th>\n",
       "      <td>rf</td>\n",
       "      <td>None</td>\n",
       "      <td>None</td>\n",
       "      <td>None</td>\n",
       "      <td>None</td>\n",
       "      <td>None</td>\n",
       "      <td>0.677419</td>\n",
       "      <td>0.483333</td>\n",
       "    </tr>\n",
       "    <tr>\n",
       "      <th>3</th>\n",
       "      <td>rf</td>\n",
       "      <td>None</td>\n",
       "      <td>None</td>\n",
       "      <td>None</td>\n",
       "      <td>None</td>\n",
       "      <td>None</td>\n",
       "      <td>0.903226</td>\n",
       "      <td>0.673684</td>\n",
       "    </tr>\n",
       "    <tr>\n",
       "      <th>4</th>\n",
       "      <td>rf</td>\n",
       "      <td>None</td>\n",
       "      <td>None</td>\n",
       "      <td>None</td>\n",
       "      <td>None</td>\n",
       "      <td>None</td>\n",
       "      <td>0.766667</td>\n",
       "      <td>0.542484</td>\n",
       "    </tr>\n",
       "    <tr>\n",
       "      <th>5</th>\n",
       "      <td>rf</td>\n",
       "      <td>None</td>\n",
       "      <td>None</td>\n",
       "      <td>None</td>\n",
       "      <td>None</td>\n",
       "      <td>None</td>\n",
       "      <td>0.700000</td>\n",
       "      <td>0.499072</td>\n",
       "    </tr>\n",
       "    <tr>\n",
       "      <th>6</th>\n",
       "      <td>rf</td>\n",
       "      <td>None</td>\n",
       "      <td>None</td>\n",
       "      <td>None</td>\n",
       "      <td>None</td>\n",
       "      <td>None</td>\n",
       "      <td>0.766667</td>\n",
       "      <td>0.433962</td>\n",
       "    </tr>\n",
       "    <tr>\n",
       "      <th>7</th>\n",
       "      <td>rf</td>\n",
       "      <td>None</td>\n",
       "      <td>None</td>\n",
       "      <td>None</td>\n",
       "      <td>None</td>\n",
       "      <td>None</td>\n",
       "      <td>0.800000</td>\n",
       "      <td>0.567308</td>\n",
       "    </tr>\n",
       "    <tr>\n",
       "      <th>8</th>\n",
       "      <td>rf</td>\n",
       "      <td>None</td>\n",
       "      <td>None</td>\n",
       "      <td>None</td>\n",
       "      <td>None</td>\n",
       "      <td>None</td>\n",
       "      <td>0.600000</td>\n",
       "      <td>0.375000</td>\n",
       "    </tr>\n",
       "    <tr>\n",
       "      <th>9</th>\n",
       "      <td>rf</td>\n",
       "      <td>None</td>\n",
       "      <td>None</td>\n",
       "      <td>None</td>\n",
       "      <td>None</td>\n",
       "      <td>None</td>\n",
       "      <td>0.600000</td>\n",
       "      <td>0.375000</td>\n",
       "    </tr>\n",
       "  </tbody>\n",
       "</table>\n",
       "</div>"
      ],
      "text/plain": [
       "  model   MAE   MSE  RMSE    R2 Pearson_Correlation  Accuracy  F1-Score\n",
       "0    rf  None  None  None  None                None  0.612903  0.446429\n",
       "1    rf  None  None  None  None                None  0.870968  0.630952\n",
       "2    rf  None  None  None  None                None  0.677419  0.483333\n",
       "3    rf  None  None  None  None                None  0.903226  0.673684\n",
       "4    rf  None  None  None  None                None  0.766667  0.542484\n",
       "5    rf  None  None  None  None                None  0.700000  0.499072\n",
       "6    rf  None  None  None  None                None  0.766667  0.433962\n",
       "7    rf  None  None  None  None                None  0.800000  0.567308\n",
       "8    rf  None  None  None  None                None  0.600000  0.375000\n",
       "9    rf  None  None  None  None                None  0.600000  0.375000"
      ]
     },
     "execution_count": 3,
     "metadata": {},
     "output_type": "execute_result"
    }
   ],
   "source": [
    "aml.validation"
   ]
  },
  {
   "cell_type": "code",
   "execution_count": 4,
   "id": "5bd3a37e-6476-4184-a38a-5a4ce23b2ee4",
   "metadata": {},
   "outputs": [
    {
     "data": {
      "image/png": "[encoded data removed]",
      "text/plain": [
       "<Figure size 432x288 with 1 Axes>"
      ]
     },
     "metadata": {
      "needs_background": "light"
     },
     "output_type": "display_data"
    }
   ],
   "source": [
    "aml.confusion_matrix(\"rf\")"
   ]
  },
  {
   "cell_type": "code",
   "execution_count": null,
   "id": "e22d2162-dbe4-4333-856a-31964ecd0d01",
   "metadata": {},
   "outputs": [],
   "source": []
  }
 ],
 "metadata": {
  "kernelspec": {
   "display_name": "ADPred_new",
   "language": "python",
   "name": "adpred_new"
  },
  "language_info": {
   "codemirror_mode": {
    "name": "ipython",
    "version": 3
   },
   "file_extension": ".py",
   "mimetype": "text/x-python",
   "name": "python",
   "nbconvert_exporter": "python",
   "pygments_lexer": "ipython3",
   "version": "3.10.4"
  }
 },
 "nbformat": 4,
 "nbformat_minor": 5
}
