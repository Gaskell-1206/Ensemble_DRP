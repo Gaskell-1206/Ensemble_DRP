{
 "cells": [
  {
   "cell_type": "code",
   "execution_count": 5,
   "id": "a3b91524-5eda-4ae7-ad14-97e3352ad9b4",
   "metadata": {},
   "outputs": [],
   "source": [
    "import pandas as pd\n",
    "import numpy as np\n",
    "import sys\n",
    "import pickle\n",
    "import warnings\n",
    "warnings.filterwarnings(\"ignore\")\n",
    "\n",
    "sys.path.insert(0, '..')\n",
    "import DataModule\n",
    "from DataModule.Data_Preparation import CoronnaCERTAINDataset\n",
    "import EvaluationModule\n",
    "\n",
    "import xgboost as xgb\n",
    "import sklearn\n",
    "from sklearn.ensemble import RandomForestClassifier, RandomForestRegressor\n",
    "from sklearn.model_selection import ShuffleSplit,cross_val_score\n",
    "from sklearn.linear_model import LinearRegression,LogisticRegression\n",
    "from sklearn.pipeline import Pipeline\n",
    "\n",
    "import submitit"
   ]
  },
  {
   "cell_type": "code",
   "execution_count": null,
   "id": "d5b5e071-f25b-4df5-943b-16b9a7713173",
   "metadata": {},
   "outputs": [],
   "source": [
    "    remove_low_DAS_list = [True, False]\n",
    "#     remove_low_DAS_list = [True]\n",
    "    challenge_list = [\"regression\", \"regression_delta\", \"classification\", \"binary_classification\"]\n",
    "#     challenge_list = [\"classification\", \"binary_classification\"]\n",
    "    imputation_list = [\"SimpleFill\", \"KNN\", \"SoftImpute\", \"IterativeImputer\"]\n",
    "#     imputation_list = [\"KNN\"]\n",
    "    process_approach_list = ['KVB','SC']\n",
    "#     process_approach_list = ['SC']\n",
    "    patient_group_list = [\"all\", \"bioexp nTNF\", \"bionaive TNF\", \"bionaive orencia\", \"KVB\"]\n",
    "#     patient_group_list = [\"bionaive TNF\"]\n",
    "    for remove_low_DAS in remove_low_DAS_list:\n",
    "        for challenge in challenge_list:\n",
    "            for imputation in imputation_list:\n",
    "                for process_approach in process_approach_list:\n",
    "                    for patient_group in patient_group_list:"
   ]
  },
  {
   "cell_type": "code",
   "execution_count": 6,
   "id": "42497101-1c82-47ed-8672-f09e11dcebf0",
   "metadata": {},
   "outputs": [],
   "source": [
    "def train(challenge, process_approach, imputation, patient_group, remove_low_DAS):\n",
    "    dataset = CoronnaCERTAINDataset(\n",
    "        library_root = '/Users/gaskell/Dropbox/Mac/Desktop/Autoimmune_Disease/Code/ML_RA_EHR/Dataset/',\n",
    "        challenge = challenge, #option: regression, regression_delta, classification, binary_classification\n",
    "        dataset = 'CORRONA CERTAIN', \n",
    "        process_approach = process_approach, #option: KVB, SC\n",
    "        imputation = imputation, #option: SimpleFill, KNN, SoftImpute, BiScaler, NuclearNormMinimization, IterativeImputer, IterativeSVD, None(raw)\n",
    "        patient_group =patient_group, #option: \"all\", \"bioexp nTNF\", \"bionaive TNF\", \"bionaive orencia\", \"KVB\"\n",
    "        drug_group = 'all', #option: \"all\", \"actemra\", \"cimzia\", \"enbrel\", \"humira\", \"orencia\", \"remicade\", \"rituxan\", \"simponi\"\n",
    "        time_points = (0,3), \n",
    "        train_test_rate = 0.8,\n",
    "        remove_low_DAS = remove_low_DAS,\n",
    "        save_csv = False, \n",
    "        random_state = 2022)\n",
    "    # read train, test from dataloader\n",
    "    train_set, train_loc = dataset.get_train()\n",
    "    test_set, test_loc = dataset.get_test()\n",
    "\n",
    "    aml = EvaluationModule.AutoBuild(seed=dataset.random_state, project_name=\"SC_Jul8_2\", challenge=dataset.challenge)\n",
    "    # define models\n",
    "    if \"regression\" in dataset.challenge:\n",
    "        model = RandomForestRegressor()\n",
    "    elif \"classification\" in dataset.challenge:\n",
    "        model = RandomForestClassifier()\n",
    "    aml.validate(\"rf\", model, train_set, test_set)\n",
    "    aml.validation_output(dataset)\n",
    "    aml.test_output(dataset)"
   ]
  },
  {
   "cell_type": "code",
   "execution_count": 7,
   "id": "9c8394bd-e820-48bc-b45a-568fd0328931",
   "metadata": {},
   "outputs": [
    {
     "name": "stdout",
     "output_type": "stream",
     "text": [
      "14251\n"
     ]
    },
    {
     "ename": "FailedJobError",
     "evalue": "Job (task=0) failed during processing with trace:\n----------------------\nTraceback (most recent call last):\n  File \"/Users/gaskell/miniforge_x86_64/envs/ADPred_new/lib/python3.10/site-packages/submitit/core/submission.py\", line 50, in process_job\n    delayed = utils.DelayedSubmission.load(paths.submitted_pickle)\n  File \"/Users/gaskell/miniforge_x86_64/envs/ADPred_new/lib/python3.10/site-packages/submitit/core/utils.py\", line 142, in load\n    obj = pickle_load(filepath)\n  File \"/Users/gaskell/miniforge_x86_64/envs/ADPred_new/lib/python3.10/site-packages/submitit/core/utils.py\", line 233, in pickle_load\n    return pickle.load(ifile)\nModuleNotFoundError: No module named 'DataModule'\n\n----------------------\nYou can check full logs with 'job.stderr(0)' and 'job.stdout(0)'or at paths:\n  - /Users/gaskell/Dropbox/Mac/Desktop/Autoimmune_Disease/Code/ML_RA_EHR/ModelModule/log_test/14251_0_log.err\n  - /Users/gaskell/Dropbox/Mac/Desktop/Autoimmune_Disease/Code/ML_RA_EHR/ModelModule/log_test/14251_0_log.out",
     "output_type": "error",
     "traceback": [
      "\u001b[0;31m---------------------------------------------------------------------------\u001b[0m",
      "\u001b[0;31mFailedJobError\u001b[0m                            Traceback (most recent call last)",
      "Input \u001b[0;32mIn [7]\u001b[0m, in \u001b[0;36m<cell line: 8>\u001b[0;34m()\u001b[0m\n\u001b[1;32m      5\u001b[0m job \u001b[38;5;241m=\u001b[39m executor\u001b[38;5;241m.\u001b[39msubmit(train, \u001b[38;5;28;01mTrue\u001b[39;00m, \u001b[38;5;124m\"\u001b[39m\u001b[38;5;124mclassification\u001b[39m\u001b[38;5;124m\"\u001b[39m, \u001b[38;5;124m\"\u001b[39m\u001b[38;5;124mSC\u001b[39m\u001b[38;5;124m\"\u001b[39m, \u001b[38;5;124m\"\u001b[39m\u001b[38;5;124mSoftImpute\u001b[39m\u001b[38;5;124m\"\u001b[39m, \u001b[38;5;124m\"\u001b[39m\u001b[38;5;124mbionaive TNF\u001b[39m\u001b[38;5;124m\"\u001b[39m)  \u001b[38;5;66;03m# \u001b[39;00m\n\u001b[1;32m      6\u001b[0m \u001b[38;5;28mprint\u001b[39m(job\u001b[38;5;241m.\u001b[39mjob_id)  \u001b[38;5;66;03m# ID of your job\u001b[39;00m\n\u001b[0;32m----> 8\u001b[0m output \u001b[38;5;241m=\u001b[39m \u001b[43mjob\u001b[49m\u001b[38;5;241;43m.\u001b[39;49m\u001b[43mresult\u001b[49m\u001b[43m(\u001b[49m\u001b[43m)\u001b[49m\n",
      "File \u001b[0;32m~/miniforge_x86_64/envs/ADPred_new/lib/python3.10/site-packages/submitit/core/core.py:266\u001b[0m, in \u001b[0;36mJob.result\u001b[0;34m(self)\u001b[0m\n\u001b[1;32m    265\u001b[0m \u001b[38;5;28;01mdef\u001b[39;00m \u001b[38;5;21mresult\u001b[39m(\u001b[38;5;28mself\u001b[39m) \u001b[38;5;241m-\u001b[39m\u001b[38;5;241m>\u001b[39m R:\n\u001b[0;32m--> 266\u001b[0m     r \u001b[38;5;241m=\u001b[39m \u001b[38;5;28;43mself\u001b[39;49m\u001b[38;5;241;43m.\u001b[39;49m\u001b[43mresults\u001b[49m\u001b[43m(\u001b[49m\u001b[43m)\u001b[49m\n\u001b[1;32m    267\u001b[0m     \u001b[38;5;28;01massert\u001b[39;00m \u001b[38;5;129;01mnot\u001b[39;00m \u001b[38;5;28mself\u001b[39m\u001b[38;5;241m.\u001b[39m_sub_jobs, \u001b[38;5;124m\"\u001b[39m\u001b[38;5;124mYou should use `results()` if your job has subtasks.\u001b[39m\u001b[38;5;124m\"\u001b[39m\n\u001b[1;32m    268\u001b[0m     \u001b[38;5;28;01mreturn\u001b[39;00m r[\u001b[38;5;241m0\u001b[39m]\n",
      "File \u001b[0;32m~/miniforge_x86_64/envs/ADPred_new/lib/python3.10/site-packages/submitit/core/core.py:294\u001b[0m, in \u001b[0;36mJob.results\u001b[0;34m(self)\u001b[0m\n\u001b[1;32m    292\u001b[0m     \u001b[38;5;28;01mif\u001b[39;00m job_exception \u001b[38;5;129;01mis\u001b[39;00m \u001b[38;5;28;01mNone\u001b[39;00m:\n\u001b[1;32m    293\u001b[0m         \u001b[38;5;28;01mraise\u001b[39;00m \u001b[38;5;167;01mRuntimeError\u001b[39;00m(\u001b[38;5;124m\"\u001b[39m\u001b[38;5;124mUnknown job exception\u001b[39m\u001b[38;5;124m\"\u001b[39m)\n\u001b[0;32m--> 294\u001b[0m     \u001b[38;5;28;01mraise\u001b[39;00m job_exception  \u001b[38;5;66;03m# pylint: disable=raising-bad-type\u001b[39;00m\n\u001b[1;32m    295\u001b[0m \u001b[38;5;28;01mreturn\u001b[39;00m [result]\n",
      "\u001b[0;31mFailedJobError\u001b[0m: Job (task=0) failed during processing with trace:\n----------------------\nTraceback (most recent call last):\n  File \"/Users/gaskell/miniforge_x86_64/envs/ADPred_new/lib/python3.10/site-packages/submitit/core/submission.py\", line 50, in process_job\n    delayed = utils.DelayedSubmission.load(paths.submitted_pickle)\n  File \"/Users/gaskell/miniforge_x86_64/envs/ADPred_new/lib/python3.10/site-packages/submitit/core/utils.py\", line 142, in load\n    obj = pickle_load(filepath)\n  File \"/Users/gaskell/miniforge_x86_64/envs/ADPred_new/lib/python3.10/site-packages/submitit/core/utils.py\", line 233, in pickle_load\n    return pickle.load(ifile)\nModuleNotFoundError: No module named 'DataModule'\n\n----------------------\nYou can check full logs with 'job.stderr(0)' and 'job.stdout(0)'or at paths:\n  - /Users/gaskell/Dropbox/Mac/Desktop/Autoimmune_Disease/Code/ML_RA_EHR/ModelModule/log_test/14251_0_log.err\n  - /Users/gaskell/Dropbox/Mac/Desktop/Autoimmune_Disease/Code/ML_RA_EHR/ModelModule/log_test/14251_0_log.out"
     ]
    }
   ],
   "source": [
    "# executor is the submission interface (logs are dumped in the folder)\n",
    "executor = submitit.AutoExecutor(folder=\"log_test\")\n",
    "# set timeout in min, and partition for running the job\n",
    "executor.update_parameters(timeout_min=60, slurm_partition=\"dev\")\n",
    "job = executor.submit(train, True, \"classification\", \"SC\", \"SoftImpute\", \"bionaive TNF\")  # \n",
    "print(job.job_id)  # ID of your job\n",
    "\n",
    "output = job.result()  # waits for completion and returns output\n",
    "# assert output == 12  # 5 + 7 = 12...  your addition was computed in the cluster"
   ]
  },
  {
   "cell_type": "code",
   "execution_count": null,
   "id": "75dd92ba-9ab9-45de-8648-f1af0f23425c",
   "metadata": {},
   "outputs": [],
   "source": []
  }
 ],
 "metadata": {
  "kernelspec": {
   "display_name": "ADPred_new",
   "language": "python",
   "name": "adpred_new"
  },
  "language_info": {
   "codemirror_mode": {
    "name": "ipython",
    "version": 3
   },
   "file_extension": ".py",
   "mimetype": "text/x-python",
   "name": "python",
   "nbconvert_exporter": "python",
   "pygments_lexer": "ipython3",
   "version": "3.10.4"
  }
 },
 "nbformat": 4,
 "nbformat_minor": 5
}
