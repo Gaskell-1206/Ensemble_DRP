{
 "cells": [
  {
   "cell_type": "code",
   "execution_count": 1,
   "id": "6d7bbb41",
   "metadata": {},
   "outputs": [
    {
     "name": "stdout",
     "output_type": "stream",
     "text": [
      "(CVXPY) Jul 25 12:05:34 AM: Encountered unexpected exception importing solver CVXOPT:\n",
      "ImportError(\"dlopen(/Users/gaskell/miniforge_x86_64/envs/ADPred_new/lib/python3.10/site-packages/cvxopt/base.cpython-310-darwin.so, 0x0002): tried: '/Users/gaskell/miniforge_x86_64/envs/ADPred_new/lib/python3.10/site-packages/cvxopt/base.cpython-310-darwin.so' (mach-o file, but is an incompatible architecture (have 'x86_64', need 'arm64e'))\")\n",
      "(CVXPY) Jul 25 12:05:34 AM: Encountered unexpected exception importing solver GLPK:\n",
      "ImportError(\"dlopen(/Users/gaskell/miniforge_x86_64/envs/ADPred_new/lib/python3.10/site-packages/cvxopt/base.cpython-310-darwin.so, 0x0002): tried: '/Users/gaskell/miniforge_x86_64/envs/ADPred_new/lib/python3.10/site-packages/cvxopt/base.cpython-310-darwin.so' (mach-o file, but is an incompatible architecture (have 'x86_64', need 'arm64e'))\")\n",
      "(CVXPY) Jul 25 12:05:34 AM: Encountered unexpected exception importing solver GLPK_MI:\n",
      "ImportError(\"dlopen(/Users/gaskell/miniforge_x86_64/envs/ADPred_new/lib/python3.10/site-packages/cvxopt/base.cpython-310-darwin.so, 0x0002): tried: '/Users/gaskell/miniforge_x86_64/envs/ADPred_new/lib/python3.10/site-packages/cvxopt/base.cpython-310-darwin.so' (mach-o file, but is an incompatible architecture (have 'x86_64', need 'arm64e'))\")\n"
     ]
    }
   ],
   "source": [
    "import h2o\n",
    "from h2o.automl import H2OAutoML\n",
    "from h2o.estimators.infogram import H2OInfogram\n",
    "from h2o.estimators.gbm import H2OGradientBoostingEstimator\n",
    "import pandas as pd\n",
    "import numpy as np\n",
    "import sys\n",
    "sys.path.insert(0, '..')\n",
    "from DataModule.Data_Preparation import CoronnaCERTAINDataset\n",
    "import EvaluationModule\n",
    "import EvaluationModule_H2O\n",
    "pd.options.mode.chained_assignment = None"
   ]
  },
  {
   "cell_type": "code",
   "execution_count": 2,
   "id": "bda21304-3c80-482d-8915-3d9af50c06a6",
   "metadata": {},
   "outputs": [],
   "source": [
    "# pd.set_option('display.max_columns', None)\n",
    "# pd.set_option('display.max_rows', None)"
   ]
  },
  {
   "cell_type": "code",
   "execution_count": 3,
   "id": "bafe8a1c",
   "metadata": {
    "scrolled": true
   },
   "outputs": [],
   "source": [
    "dataset = CoronnaCERTAINDataset(\n",
    "    library_root = '/Users/gaskell/Dropbox/Mac/Desktop/Autoimmune_Disease/Code/ML_RA_EHR/Dataset/',\n",
    "    challenge = 'regression_delta_binary', #option: regression, regression_delta, classification, binary_classification, regression_delta_binary\n",
    "    dataset = 'CORRONA CERTAIN', \n",
    "    process_approach = 'SC', #option: KVB, SC\n",
    "    imputation = 'IterativeImputer', #option: SimpleFill, KNN, SoftImpute, BiScaler, NuclearNormMinimization, IterativeImputer, IterativeSVD, None(raw)\n",
    "    patient_group = ['bionaive TNF'], #option: \"all\", \"bioexp nTNF\", \"bionaive TNF\", \"bionaive orencia\", \"KVB\"\n",
    "    drug_group = 'all', #option: \"all\", \"actemra\", \"cimzia\", \"enbrel\", \"humira\", \"orencia\", \"remicade\", \"rituxan\", \"simponi\"\n",
    "    time_points = (0,3), \n",
    "    train_test_rate = 0.8,\n",
    "    remove_low_DAS = True,\n",
    "    save_csv = False, \n",
    "    random_state = 2022,\n",
    "    verbose=False)"
   ]
  },
  {
   "cell_type": "code",
   "execution_count": 4,
   "id": "b52a9b53-41fa-4d3f-a4e3-4681c4e7e5be",
   "metadata": {},
   "outputs": [],
   "source": [
    "train, train_loc = dataset.get_train()\n",
    "test, test_loc = dataset.get_test()"
   ]
  },
  {
   "cell_type": "code",
   "execution_count": 5,
   "id": "c448ca28",
   "metadata": {},
   "outputs": [
    {
     "name": "stdout",
     "output_type": "stream",
     "text": [
      "Checking whether there is an H2O instance running at http://localhost:54321 ..... not found.\n",
      "Attempting to start a local H2O server...\n",
      "  Java Version: java version \"13.0.2\" 2020-01-14; Java(TM) SE Runtime Environment (build 13.0.2+8); Java HotSpot(TM) 64-Bit Server VM (build 13.0.2+8, mixed mode, sharing)\n",
      "  Starting server from /Users/gaskell/miniforge_x86_64/envs/ADPred_new/lib/python3.10/site-packages/h2o/backend/bin/h2o.jar\n",
      "  Ice root: /var/folders/c9/_bb79xy945g7bvvn1rl6zsfr0000gn/T/tmp7_gc6f3j\n",
      "  JVM stdout: /var/folders/c9/_bb79xy945g7bvvn1rl6zsfr0000gn/T/tmp7_gc6f3j/h2o_gaskell_started_from_python.out\n",
      "  JVM stderr: /var/folders/c9/_bb79xy945g7bvvn1rl6zsfr0000gn/T/tmp7_gc6f3j/h2o_gaskell_started_from_python.err\n",
      "  Server is running at http://127.0.0.1:54321\n",
      "Connecting to H2O server at http://127.0.0.1:54321 ... successful.\n"
     ]
    },
    {
     "data": {
      "text/html": [
       "<div style=\"overflow:auto\"><table style=\"width:50%\"><tr><td>H2O_cluster_uptime:</td>\n",
       "<td>10 secs</td></tr>\n",
       "<tr><td>H2O_cluster_timezone:</td>\n",
       "<td>America/New_York</td></tr>\n",
       "<tr><td>H2O_data_parsing_timezone:</td>\n",
       "<td>UTC</td></tr>\n",
       "<tr><td>H2O_cluster_version:</td>\n",
       "<td>3.36.1.2</td></tr>\n",
       "<tr><td>H2O_cluster_version_age:</td>\n",
       "<td>1 month and 28 days </td></tr>\n",
       "<tr><td>H2O_cluster_name:</td>\n",
       "<td>H2O_from_python_gaskell_eq645x</td></tr>\n",
       "<tr><td>H2O_cluster_total_nodes:</td>\n",
       "<td>1</td></tr>\n",
       "<tr><td>H2O_cluster_free_memory:</td>\n",
       "<td>4 Gb</td></tr>\n",
       "<tr><td>H2O_cluster_total_cores:</td>\n",
       "<td>10</td></tr>\n",
       "<tr><td>H2O_cluster_allowed_cores:</td>\n",
       "<td>10</td></tr>\n",
       "<tr><td>H2O_cluster_status:</td>\n",
       "<td>locked, healthy</td></tr>\n",
       "<tr><td>H2O_connection_url:</td>\n",
       "<td>http://127.0.0.1:54321</td></tr>\n",
       "<tr><td>H2O_connection_proxy:</td>\n",
       "<td>{\"http\": null, \"https\": null}</td></tr>\n",
       "<tr><td>H2O_internal_security:</td>\n",
       "<td>False</td></tr>\n",
       "<tr><td>Python_version:</td>\n",
       "<td>3.10.4 final</td></tr></table></div>"
      ],
      "text/plain": [
       "--------------------------  ------------------------------\n",
       "H2O_cluster_uptime:         10 secs\n",
       "H2O_cluster_timezone:       America/New_York\n",
       "H2O_data_parsing_timezone:  UTC\n",
       "H2O_cluster_version:        3.36.1.2\n",
       "H2O_cluster_version_age:    1 month and 28 days\n",
       "H2O_cluster_name:           H2O_from_python_gaskell_eq645x\n",
       "H2O_cluster_total_nodes:    1\n",
       "H2O_cluster_free_memory:    4 Gb\n",
       "H2O_cluster_total_cores:    10\n",
       "H2O_cluster_allowed_cores:  10\n",
       "H2O_cluster_status:         locked, healthy\n",
       "H2O_connection_url:         http://127.0.0.1:54321\n",
       "H2O_connection_proxy:       {\"http\": null, \"https\": null}\n",
       "H2O_internal_security:      False\n",
       "Python_version:             3.10.4 final\n",
       "--------------------------  ------------------------------"
      ]
     },
     "metadata": {},
     "output_type": "display_data"
    },
    {
     "name": "stdout",
     "output_type": "stream",
     "text": [
      "Parse progress: |████████████████████████████████████████████████████████████████| (done) 100%\n",
      "Parse progress: |████████████████████████████████████████████████████████████████| (done) 100%\n"
     ]
    }
   ],
   "source": [
    "# Start the H2O cluster (locally)\n",
    "h2o.init()\n",
    "\n",
    "# Import a sample binary outcome train/test set into H2O\n",
    "# train_h2o = h2o.upload_file(str(train_loc))\n",
    "# test_h2o = h2o.upload_file(str(test_loc))\n",
    "train_h2o = h2o.import_file(str(train_loc))\n",
    "test_h2o = h2o.import_file(str(test_loc))\n",
    "\n",
    "# Identify predictors and response\n",
    "x = train_h2o.columns[:-1]\n",
    "# y = \"DAS28_CRP_3M\"\n",
    "y = dataset.target"
   ]
  },
  {
   "cell_type": "code",
   "execution_count": 6,
   "id": "13ef3107-2b2b-441a-8d76-b0bfe47e7a01",
   "metadata": {},
   "outputs": [],
   "source": [
    "for feature in dataset.categorical:\n",
    "    train_h2o[feature] = train_h2o[feature].asfactor()\n",
    "    test_h2o[feature] = test_h2o[feature].asfactor()\n",
    "if \"classification\" in dataset.challenge:\n",
    "    train_h2o[y] = train_h2o[y].asfactor()\n",
    "    test_h2o[y] = test_h2o[y].asfactor()"
   ]
  },
  {
   "cell_type": "code",
   "execution_count": 7,
   "id": "41828a97-26ce-4a98-bf2e-d721e12ab8a5",
   "metadata": {},
   "outputs": [
    {
     "name": "stdout",
     "output_type": "stream",
     "text": [
      "AutoML progress: |\n",
      "00:05:58.478: _train param, Dropping bad and constant columns: [pres_imuran, pres_minocin, init_group, num_tnf, num_nontnf]\n",
      "\n",
      "█\n",
      "00:06:03.427: _train param, Dropping bad and constant columns: [pres_imuran, pres_minocin, init_group, num_tnf, num_nontnf]\n",
      "\n",
      "██\n",
      "00:06:07.983: _train param, Dropping bad and constant columns: [pres_imuran, pres_minocin, init_group, num_tnf, num_nontnf]\n",
      "\n",
      "█\n",
      "00:06:11.610: _train param, Dropping bad and constant columns: [pres_imuran, pres_minocin, init_group, num_tnf, num_nontnf]\n",
      "00:06:12.729: _train param, Dropping bad and constant columns: [pres_imuran, pres_minocin, init_group, num_tnf, num_nontnf]\n",
      "\n",
      "██\n",
      "00:06:17.583: _train param, Dropping bad and constant columns: [pres_imuran, pres_minocin, init_group, num_tnf, num_nontnf]\n",
      "\n",
      "█\n",
      "00:06:19.389: _train param, Dropping bad and constant columns: [pres_imuran, pres_minocin, init_group, num_tnf, num_nontnf]\n",
      "00:06:20.446: _train param, Dropping bad and constant columns: [pres_imuran, pres_minocin, init_group, num_tnf, num_nontnf]\n",
      "\n",
      "█\n",
      "00:06:21.430: _train param, Dropping bad and constant columns: [pres_imuran, pres_minocin, init_group, num_tnf, num_nontnf]\n",
      "00:06:22.67: _train param, Dropping bad and constant columns: [pres_imuran, pres_minocin, init_group, num_tnf, num_nontnf]\n",
      "\n",
      "███\n",
      "00:06:24.798: _train param, Dropping bad and constant columns: [pres_imuran, pres_minocin, init_group, num_tnf, num_nontnf]\n",
      "00:06:25.767: _train param, Dropping bad and constant columns: [pres_imuran, pres_minocin, init_group, num_tnf, num_nontnf]\n",
      "\n",
      "███████████████████████████████████████████ (cancelled)  87%\n"
     ]
    },
    {
     "ename": "H2OJobCancelled",
     "evalue": "Job<$03017f00000132d4ffffffff$_874af211c51088af62659e6b8d8d49d9> was cancelled by the user.",
     "output_type": "error",
     "traceback": [
      "\u001b[0;31m---------------------------------------------------------------------------\u001b[0m",
      "\u001b[0;31mH2OJobCancelled\u001b[0m                           Traceback (most recent call last)",
      "Input \u001b[0;32mIn [7]\u001b[0m, in \u001b[0;36m<cell line: 4>\u001b[0;34m()\u001b[0m\n\u001b[1;32m      1\u001b[0m \u001b[38;5;66;03m# Run AutoML for 20 base models\u001b[39;00m\n\u001b[1;32m      2\u001b[0m \u001b[38;5;66;03m# aml = H2OAutoML(max_models = 100, nfolds=10, balance_classes=True, max_after_balance_size=2.0, seed = 2022, project_name = \"SC_classification_Jul24\")\u001b[39;00m\n\u001b[1;32m      3\u001b[0m aml \u001b[38;5;241m=\u001b[39m H2OAutoML(max_models \u001b[38;5;241m=\u001b[39m \u001b[38;5;241m100\u001b[39m, nfolds\u001b[38;5;241m=\u001b[39m\u001b[38;5;241m10\u001b[39m, seed \u001b[38;5;241m=\u001b[39m \u001b[38;5;241m2022\u001b[39m, project_name \u001b[38;5;241m=\u001b[39m \u001b[38;5;124m\"\u001b[39m\u001b[38;5;124mSC_classification_Jul24_1\u001b[39m\u001b[38;5;124m\"\u001b[39m)\n\u001b[0;32m----> 4\u001b[0m \u001b[43maml\u001b[49m\u001b[38;5;241;43m.\u001b[39;49m\u001b[43mtrain\u001b[49m\u001b[43m(\u001b[49m\u001b[43mx\u001b[49m\u001b[38;5;241;43m=\u001b[39;49m\u001b[43mx\u001b[49m\u001b[43m,\u001b[49m\u001b[43m \u001b[49m\u001b[43my\u001b[49m\u001b[38;5;241;43m=\u001b[39;49m\u001b[43my\u001b[49m\u001b[43m,\u001b[49m\u001b[43m \u001b[49m\u001b[43mtraining_frame\u001b[49m\u001b[38;5;241;43m=\u001b[39;49m\u001b[43mtrain_h2o\u001b[49m\u001b[43m)\u001b[49m\n\u001b[1;32m      6\u001b[0m \u001b[38;5;66;03m# View the AutoML Leaderboard\u001b[39;00m\n\u001b[1;32m      7\u001b[0m lb \u001b[38;5;241m=\u001b[39m aml\u001b[38;5;241m.\u001b[39mleaderboard\n",
      "File \u001b[0;32m~/miniforge_x86_64/envs/ADPred_new/lib/python3.10/site-packages/h2o/automl/_estimator.py:679\u001b[0m, in \u001b[0;36mH2OAutoML.train\u001b[0;34m(self, x, y, training_frame, fold_column, weights_column, validation_frame, leaderboard_frame, blending_frame)\u001b[0m\n\u001b[1;32m    677\u001b[0m poll_updates \u001b[38;5;241m=\u001b[39m ft\u001b[38;5;241m.\u001b[39mpartial(\u001b[38;5;28mself\u001b[39m\u001b[38;5;241m.\u001b[39m_poll_training_updates, verbosity\u001b[38;5;241m=\u001b[39m\u001b[38;5;28mself\u001b[39m\u001b[38;5;241m.\u001b[39m_verbosity, state\u001b[38;5;241m=\u001b[39m{})\n\u001b[1;32m    678\u001b[0m \u001b[38;5;28;01mtry\u001b[39;00m:\n\u001b[0;32m--> 679\u001b[0m     \u001b[38;5;28;43mself\u001b[39;49m\u001b[38;5;241;43m.\u001b[39;49m\u001b[43m_job\u001b[49m\u001b[38;5;241;43m.\u001b[39;49m\u001b[43mpoll\u001b[49m\u001b[43m(\u001b[49m\u001b[43mpoll_updates\u001b[49m\u001b[38;5;241;43m=\u001b[39;49m\u001b[43mpoll_updates\u001b[49m\u001b[43m)\u001b[49m\n\u001b[1;32m    680\u001b[0m \u001b[38;5;28;01mfinally\u001b[39;00m:\n\u001b[1;32m    681\u001b[0m     poll_updates(\u001b[38;5;28mself\u001b[39m\u001b[38;5;241m.\u001b[39m_job, \u001b[38;5;241m1\u001b[39m)\n",
      "File \u001b[0;32m~/miniforge_x86_64/envs/ADPred_new/lib/python3.10/site-packages/h2o/job.py:87\u001b[0m, in \u001b[0;36mH2OJob.poll\u001b[0;34m(self, poll_updates)\u001b[0m\n\u001b[1;32m     85\u001b[0m \u001b[38;5;66;03m# check if failed... and politely print relevant message\u001b[39;00m\n\u001b[1;32m     86\u001b[0m \u001b[38;5;28;01mif\u001b[39;00m \u001b[38;5;28mself\u001b[39m\u001b[38;5;241m.\u001b[39mstatus \u001b[38;5;241m==\u001b[39m \u001b[38;5;124m\"\u001b[39m\u001b[38;5;124mCANCELLED\u001b[39m\u001b[38;5;124m\"\u001b[39m:\n\u001b[0;32m---> 87\u001b[0m     \u001b[38;5;28;01mraise\u001b[39;00m H2OJobCancelled(\u001b[38;5;124m\"\u001b[39m\u001b[38;5;124mJob<\u001b[39m\u001b[38;5;132;01m%s\u001b[39;00m\u001b[38;5;124m> was cancelled by the user.\u001b[39m\u001b[38;5;124m\"\u001b[39m \u001b[38;5;241m%\u001b[39m \u001b[38;5;28mself\u001b[39m\u001b[38;5;241m.\u001b[39mjob_key)\n\u001b[1;32m     88\u001b[0m \u001b[38;5;28;01mif\u001b[39;00m \u001b[38;5;28mself\u001b[39m\u001b[38;5;241m.\u001b[39mstatus \u001b[38;5;241m==\u001b[39m \u001b[38;5;124m\"\u001b[39m\u001b[38;5;124mFAILED\u001b[39m\u001b[38;5;124m\"\u001b[39m:\n\u001b[1;32m     89\u001b[0m     \u001b[38;5;28;01mif\u001b[39;00m (\u001b[38;5;28misinstance\u001b[39m(\u001b[38;5;28mself\u001b[39m\u001b[38;5;241m.\u001b[39mjob, \u001b[38;5;28mdict\u001b[39m)) \u001b[38;5;129;01mand\u001b[39;00m (\u001b[38;5;124m\"\u001b[39m\u001b[38;5;124mstacktrace\u001b[39m\u001b[38;5;124m\"\u001b[39m \u001b[38;5;129;01min\u001b[39;00m \u001b[38;5;28mlist\u001b[39m(\u001b[38;5;28mself\u001b[39m\u001b[38;5;241m.\u001b[39mjob)):\n",
      "\u001b[0;31mH2OJobCancelled\u001b[0m: Job<$03017f00000132d4ffffffff$_874af211c51088af62659e6b8d8d49d9> was cancelled by the user."
     ]
    }
   ],
   "source": [
    "# Run AutoML for 20 base models\n",
    "# aml = H2OAutoML(max_models = 100, nfolds=10, balance_classes=True, max_after_balance_size=2.0, seed = 2022, project_name = \"SC_classification_Jul24\")\n",
    "aml = H2OAutoML(max_models = 100, nfolds=10, seed = 2022, project_name = \"SC_classification_Jul24_1\")\n",
    "aml.train(x=x, y=y, training_frame=train_h2o)\n",
    "\n",
    "# View the AutoML Leaderboard\n",
    "lb = aml.leaderboard\n",
    "lb.head(rows=lb.nrows)  # Print all rows instead of default (10 rows)"
   ]
  },
  {
   "cell_type": "code",
   "execution_count": 10,
   "id": "d9d546c9-ca20-4d92-be66-2595e0fdedec",
   "metadata": {},
   "outputs": [
    {
     "data": {
      "text/html": [
       "<div>\n",
       "<style scoped>\n",
       "    .dataframe tbody tr th:only-of-type {\n",
       "        vertical-align: middle;\n",
       "    }\n",
       "\n",
       "    .dataframe tbody tr th {\n",
       "        vertical-align: top;\n",
       "    }\n",
       "\n",
       "    .dataframe thead th {\n",
       "        text-align: right;\n",
       "    }\n",
       "</style>\n",
       "<table border=\"1\" class=\"dataframe\">\n",
       "  <thead>\n",
       "    <tr style=\"text-align: right;\">\n",
       "      <th></th>\n",
       "      <th>model_id</th>\n",
       "      <th>rmse</th>\n",
       "      <th>mse</th>\n",
       "      <th>mae</th>\n",
       "      <th>rmsle</th>\n",
       "      <th>mean_residual_deviance</th>\n",
       "    </tr>\n",
       "  </thead>\n",
       "  <tbody>\n",
       "    <tr>\n",
       "      <th>0</th>\n",
       "      <td>XGBoost_lr_search_selection_AutoML_1_20220724_...</td>\n",
       "      <td>1.158155</td>\n",
       "      <td>1.341323</td>\n",
       "      <td>0.978010</td>\n",
       "      <td>NaN</td>\n",
       "      <td>1.341323</td>\n",
       "    </tr>\n",
       "    <tr>\n",
       "      <th>1</th>\n",
       "      <td>GBM_3_AutoML_1_20220724_222904</td>\n",
       "      <td>1.166049</td>\n",
       "      <td>1.359671</td>\n",
       "      <td>0.955289</td>\n",
       "      <td>NaN</td>\n",
       "      <td>1.359671</td>\n",
       "    </tr>\n",
       "    <tr>\n",
       "      <th>2</th>\n",
       "      <td>DeepLearning_grid_3_AutoML_1_20220724_222904_m...</td>\n",
       "      <td>1.168749</td>\n",
       "      <td>1.365974</td>\n",
       "      <td>0.971651</td>\n",
       "      <td>NaN</td>\n",
       "      <td>1.365974</td>\n",
       "    </tr>\n",
       "    <tr>\n",
       "      <th>3</th>\n",
       "      <td>DeepLearning_grid_3_AutoML_1_20220724_222904_m...</td>\n",
       "      <td>1.172850</td>\n",
       "      <td>1.375578</td>\n",
       "      <td>0.978555</td>\n",
       "      <td>NaN</td>\n",
       "      <td>1.375578</td>\n",
       "    </tr>\n",
       "    <tr>\n",
       "      <th>4</th>\n",
       "      <td>XGBoost_grid_1_AutoML_1_20220724_222904_model_2</td>\n",
       "      <td>1.182422</td>\n",
       "      <td>1.398122</td>\n",
       "      <td>0.996289</td>\n",
       "      <td>NaN</td>\n",
       "      <td>1.398122</td>\n",
       "    </tr>\n",
       "    <tr>\n",
       "      <th>5</th>\n",
       "      <td>StackedEnsemble_BestOfFamily_2_AutoML_1_202207...</td>\n",
       "      <td>1.182962</td>\n",
       "      <td>1.399399</td>\n",
       "      <td>0.991178</td>\n",
       "      <td>NaN</td>\n",
       "      <td>1.399399</td>\n",
       "    </tr>\n",
       "    <tr>\n",
       "      <th>6</th>\n",
       "      <td>StackedEnsemble_BestOfFamily_3_AutoML_1_202207...</td>\n",
       "      <td>1.183502</td>\n",
       "      <td>1.400677</td>\n",
       "      <td>0.982044</td>\n",
       "      <td>NaN</td>\n",
       "      <td>1.400677</td>\n",
       "    </tr>\n",
       "    <tr>\n",
       "      <th>7</th>\n",
       "      <td>StackedEnsemble_BestOfFamily_5_AutoML_1_202207...</td>\n",
       "      <td>1.183533</td>\n",
       "      <td>1.400751</td>\n",
       "      <td>0.986571</td>\n",
       "      <td>NaN</td>\n",
       "      <td>1.400751</td>\n",
       "    </tr>\n",
       "    <tr>\n",
       "      <th>8</th>\n",
       "      <td>StackedEnsemble_AllModels_4_AutoML_1_20220724_...</td>\n",
       "      <td>1.183998</td>\n",
       "      <td>1.401852</td>\n",
       "      <td>0.976739</td>\n",
       "      <td>NaN</td>\n",
       "      <td>1.401852</td>\n",
       "    </tr>\n",
       "    <tr>\n",
       "      <th>9</th>\n",
       "      <td>GBM_grid_1_AutoML_1_20220724_222904_model_7</td>\n",
       "      <td>1.184259</td>\n",
       "      <td>1.402469</td>\n",
       "      <td>0.970030</td>\n",
       "      <td>NaN</td>\n",
       "      <td>1.402469</td>\n",
       "    </tr>\n",
       "    <tr>\n",
       "      <th>10</th>\n",
       "      <td>StackedEnsemble_BestOfFamily_4_AutoML_1_202207...</td>\n",
       "      <td>1.185282</td>\n",
       "      <td>1.404894</td>\n",
       "      <td>0.987277</td>\n",
       "      <td>NaN</td>\n",
       "      <td>1.404894</td>\n",
       "    </tr>\n",
       "    <tr>\n",
       "      <th>11</th>\n",
       "      <td>StackedEnsemble_AllModels_3_AutoML_1_20220724_...</td>\n",
       "      <td>1.185298</td>\n",
       "      <td>1.404930</td>\n",
       "      <td>0.977616</td>\n",
       "      <td>NaN</td>\n",
       "      <td>1.404930</td>\n",
       "    </tr>\n",
       "    <tr>\n",
       "      <th>12</th>\n",
       "      <td>StackedEnsemble_AllModels_1_AutoML_1_20220724_...</td>\n",
       "      <td>1.185872</td>\n",
       "      <td>1.406292</td>\n",
       "      <td>0.986654</td>\n",
       "      <td>NaN</td>\n",
       "      <td>1.406292</td>\n",
       "    </tr>\n",
       "    <tr>\n",
       "      <th>13</th>\n",
       "      <td>XGBoost_grid_1_AutoML_1_20220724_222904_model_24</td>\n",
       "      <td>1.187028</td>\n",
       "      <td>1.409036</td>\n",
       "      <td>0.984925</td>\n",
       "      <td>NaN</td>\n",
       "      <td>1.409036</td>\n",
       "    </tr>\n",
       "    <tr>\n",
       "      <th>14</th>\n",
       "      <td>GBM_1_AutoML_1_20220724_222904</td>\n",
       "      <td>1.187884</td>\n",
       "      <td>1.411069</td>\n",
       "      <td>0.999969</td>\n",
       "      <td>NaN</td>\n",
       "      <td>1.411069</td>\n",
       "    </tr>\n",
       "    <tr>\n",
       "      <th>15</th>\n",
       "      <td>StackedEnsemble_AllModels_2_AutoML_1_20220724_...</td>\n",
       "      <td>1.187931</td>\n",
       "      <td>1.411181</td>\n",
       "      <td>0.982321</td>\n",
       "      <td>NaN</td>\n",
       "      <td>1.411181</td>\n",
       "    </tr>\n",
       "    <tr>\n",
       "      <th>16</th>\n",
       "      <td>GBM_grid_1_AutoML_1_20220724_222904_model_9</td>\n",
       "      <td>1.192124</td>\n",
       "      <td>1.421160</td>\n",
       "      <td>1.002807</td>\n",
       "      <td>NaN</td>\n",
       "      <td>1.421160</td>\n",
       "    </tr>\n",
       "    <tr>\n",
       "      <th>17</th>\n",
       "      <td>GBM_grid_1_AutoML_1_20220724_222904_model_12</td>\n",
       "      <td>1.192263</td>\n",
       "      <td>1.421490</td>\n",
       "      <td>1.005354</td>\n",
       "      <td>NaN</td>\n",
       "      <td>1.421490</td>\n",
       "    </tr>\n",
       "    <tr>\n",
       "      <th>18</th>\n",
       "      <td>GBM_grid_1_AutoML_1_20220724_222904_model_4</td>\n",
       "      <td>1.192601</td>\n",
       "      <td>1.422298</td>\n",
       "      <td>1.006226</td>\n",
       "      <td>NaN</td>\n",
       "      <td>1.422298</td>\n",
       "    </tr>\n",
       "    <tr>\n",
       "      <th>19</th>\n",
       "      <td>StackedEnsemble_BestOfFamily_1_AutoML_1_202207...</td>\n",
       "      <td>1.193536</td>\n",
       "      <td>1.424528</td>\n",
       "      <td>1.000810</td>\n",
       "      <td>NaN</td>\n",
       "      <td>1.424528</td>\n",
       "    </tr>\n",
       "  </tbody>\n",
       "</table>\n",
       "</div>"
      ],
      "text/plain": [
       "                                             model_id      rmse       mse  \\\n",
       "0   XGBoost_lr_search_selection_AutoML_1_20220724_...  1.158155  1.341323   \n",
       "1                      GBM_3_AutoML_1_20220724_222904  1.166049  1.359671   \n",
       "2   DeepLearning_grid_3_AutoML_1_20220724_222904_m...  1.168749  1.365974   \n",
       "3   DeepLearning_grid_3_AutoML_1_20220724_222904_m...  1.172850  1.375578   \n",
       "4     XGBoost_grid_1_AutoML_1_20220724_222904_model_2  1.182422  1.398122   \n",
       "5   StackedEnsemble_BestOfFamily_2_AutoML_1_202207...  1.182962  1.399399   \n",
       "6   StackedEnsemble_BestOfFamily_3_AutoML_1_202207...  1.183502  1.400677   \n",
       "7   StackedEnsemble_BestOfFamily_5_AutoML_1_202207...  1.183533  1.400751   \n",
       "8   StackedEnsemble_AllModels_4_AutoML_1_20220724_...  1.183998  1.401852   \n",
       "9         GBM_grid_1_AutoML_1_20220724_222904_model_7  1.184259  1.402469   \n",
       "10  StackedEnsemble_BestOfFamily_4_AutoML_1_202207...  1.185282  1.404894   \n",
       "11  StackedEnsemble_AllModels_3_AutoML_1_20220724_...  1.185298  1.404930   \n",
       "12  StackedEnsemble_AllModels_1_AutoML_1_20220724_...  1.185872  1.406292   \n",
       "13   XGBoost_grid_1_AutoML_1_20220724_222904_model_24  1.187028  1.409036   \n",
       "14                     GBM_1_AutoML_1_20220724_222904  1.187884  1.411069   \n",
       "15  StackedEnsemble_AllModels_2_AutoML_1_20220724_...  1.187931  1.411181   \n",
       "16        GBM_grid_1_AutoML_1_20220724_222904_model_9  1.192124  1.421160   \n",
       "17       GBM_grid_1_AutoML_1_20220724_222904_model_12  1.192263  1.421490   \n",
       "18        GBM_grid_1_AutoML_1_20220724_222904_model_4  1.192601  1.422298   \n",
       "19  StackedEnsemble_BestOfFamily_1_AutoML_1_202207...  1.193536  1.424528   \n",
       "\n",
       "         mae  rmsle  mean_residual_deviance  \n",
       "0   0.978010    NaN                1.341323  \n",
       "1   0.955289    NaN                1.359671  \n",
       "2   0.971651    NaN                1.365974  \n",
       "3   0.978555    NaN                1.375578  \n",
       "4   0.996289    NaN                1.398122  \n",
       "5   0.991178    NaN                1.399399  \n",
       "6   0.982044    NaN                1.400677  \n",
       "7   0.986571    NaN                1.400751  \n",
       "8   0.976739    NaN                1.401852  \n",
       "9   0.970030    NaN                1.402469  \n",
       "10  0.987277    NaN                1.404894  \n",
       "11  0.977616    NaN                1.404930  \n",
       "12  0.986654    NaN                1.406292  \n",
       "13  0.984925    NaN                1.409036  \n",
       "14  0.999969    NaN                1.411069  \n",
       "15  0.982321    NaN                1.411181  \n",
       "16  1.002807    NaN                1.421160  \n",
       "17  1.005354    NaN                1.421490  \n",
       "18  1.006226    NaN                1.422298  \n",
       "19  1.000810    NaN                1.424528  "
      ]
     },
     "execution_count": 10,
     "metadata": {},
     "output_type": "execute_result"
    }
   ],
   "source": [
    "# lb.as_data_frame().sort_values(by=['mse'], ascending=True).head(20)"
   ]
  },
  {
   "cell_type": "code",
   "execution_count": 11,
   "id": "b3dadc8d-7140-4450-84ff-a185911c8b65",
   "metadata": {},
   "outputs": [
    {
     "data": {
      "text/html": [
       "<table>\n",
       "<thead>\n",
       "<tr><th>model_id                                                                </th></tr>\n",
       "</thead>\n",
       "<tbody>\n",
       "<tr><td>XGBoost_lr_search_selection_AutoML_1_20220724_222904_select_grid_model_1</td></tr>\n",
       "<tr><td>GBM_3_AutoML_1_20220724_222904                                          </td></tr>\n",
       "<tr><td>DeepLearning_grid_3_AutoML_1_20220724_222904_model_2                    </td></tr>\n",
       "<tr><td>DeepLearning_grid_3_AutoML_1_20220724_222904_model_1                    </td></tr>\n",
       "<tr><td>XGBoost_grid_1_AutoML_1_20220724_222904_model_2                         </td></tr>\n",
       "<tr><td>StackedEnsemble_BestOfFamily_2_AutoML_1_20220724_222904                 </td></tr>\n",
       "<tr><td>StackedEnsemble_BestOfFamily_3_AutoML_1_20220724_222904                 </td></tr>\n",
       "<tr><td>StackedEnsemble_BestOfFamily_5_AutoML_1_20220724_222904                 </td></tr>\n",
       "<tr><td>StackedEnsemble_AllModels_4_AutoML_1_20220724_222904                    </td></tr>\n",
       "<tr><td>GBM_grid_1_AutoML_1_20220724_222904_model_7                             </td></tr>\n",
       "</tbody>\n",
       "</table>"
      ]
     },
     "metadata": {},
     "output_type": "display_data"
    },
    {
     "data": {
      "text/plain": []
     },
     "execution_count": 11,
     "metadata": {},
     "output_type": "execute_result"
    }
   ],
   "source": [
    "# lb['model_id']"
   ]
  },
  {
   "cell_type": "code",
   "execution_count": 12,
   "id": "c095fe34-9ca2-4fd9-99f5-42c27b916836",
   "metadata": {},
   "outputs": [
    {
     "data": {
      "text/plain": [
       "0     XGBoost_lr_search_selection_AutoML_1_20220724_...\n",
       "1                        GBM_3_AutoML_1_20220724_222904\n",
       "2     DeepLearning_grid_3_AutoML_1_20220724_222904_m...\n",
       "3     DeepLearning_grid_3_AutoML_1_20220724_222904_m...\n",
       "4       XGBoost_grid_1_AutoML_1_20220724_222904_model_2\n",
       "5     StackedEnsemble_BestOfFamily_2_AutoML_1_202207...\n",
       "6     StackedEnsemble_BestOfFamily_3_AutoML_1_202207...\n",
       "7     StackedEnsemble_BestOfFamily_5_AutoML_1_202207...\n",
       "8     StackedEnsemble_AllModels_4_AutoML_1_20220724_...\n",
       "9           GBM_grid_1_AutoML_1_20220724_222904_model_7\n",
       "10    StackedEnsemble_BestOfFamily_4_AutoML_1_202207...\n",
       "11    StackedEnsemble_AllModels_3_AutoML_1_20220724_...\n",
       "12    StackedEnsemble_AllModels_1_AutoML_1_20220724_...\n",
       "13     XGBoost_grid_1_AutoML_1_20220724_222904_model_24\n",
       "14                       GBM_1_AutoML_1_20220724_222904\n",
       "15    StackedEnsemble_AllModels_2_AutoML_1_20220724_...\n",
       "16          GBM_grid_1_AutoML_1_20220724_222904_model_9\n",
       "17         GBM_grid_1_AutoML_1_20220724_222904_model_12\n",
       "18          GBM_grid_1_AutoML_1_20220724_222904_model_4\n",
       "19    StackedEnsemble_BestOfFamily_1_AutoML_1_202207...\n",
       "20     XGBoost_grid_1_AutoML_1_20220724_222904_model_28\n",
       "21          GBM_grid_1_AutoML_1_20220724_222904_model_8\n",
       "22    DeepLearning_grid_1_AutoML_1_20220724_222904_m...\n",
       "23          GBM_grid_1_AutoML_1_20220724_222904_model_5\n",
       "24          GBM_grid_1_AutoML_1_20220724_222904_model_1\n",
       "25                       GLM_1_AutoML_1_20220724_222904\n",
       "26    DeepLearning_grid_2_AutoML_1_20220724_222904_m...\n",
       "27     XGBoost_grid_1_AutoML_1_20220724_222904_model_23\n",
       "28              DeepLearning_1_AutoML_1_20220724_222904\n",
       "29    DeepLearning_grid_1_AutoML_1_20220724_222904_m...\n",
       "30         GBM_grid_1_AutoML_1_20220724_222904_model_11\n",
       "Name: model_id, dtype: object"
      ]
     },
     "execution_count": 12,
     "metadata": {},
     "output_type": "execute_result"
    }
   ],
   "source": [
    "# lb.as_data_frame().sort_values(by=['mse'], ascending=True).loc[:30,\"model_id\"]"
   ]
  },
  {
   "cell_type": "code",
   "execution_count": 14,
   "id": "295d8744-6c54-4a93-80ae-aa5a24a0bd37",
   "metadata": {},
   "outputs": [
    {
     "name": "stderr",
     "output_type": "stream",
     "text": [
      "dist_matrix: 100%|##########| 22/22 [00:00<00:00, 139.97it/s]\n",
      "synth_matrix: 100%|##########| 22/22 [00:00<00:00, 157.63it/s]\n",
      "r_index: 100%|##########| 3/3 [00:00<00:00, 443.59it/s]\n",
      "dist_matrix: 100%|##########| 33/33 [00:00<00:00, 87.06it/s]\n",
      "synth_matrix: 100%|##########| 33/33 [00:00<00:00, 515.29it/s]\n",
      "r_index: 100%|##########| 25/25 [00:00<00:00, 471.76it/s]\n"
     ]
    },
    {
     "name": "stdout",
     "output_type": "stream",
     "text": [
      "Parse progress: |████████████████████████████████████████████████████████████████| (done) 100%\n",
      "xgboost Model Build progress: |"
     ]
    },
    {
     "name": "stderr",
     "output_type": "stream",
     "text": [
      "/Users/gaskell/miniforge_x86_64/envs/ADPred_new/lib/python3.10/site-packages/h2o/estimators/estimator_base.py:208: RuntimeWarning: Dropping bad and constant columns: [hxchf, pres_imuran, pres_minocin, init_group, num_tnf, num_nontnf, hxtia]\n",
      "  warnings.warn(mesg[\"message\"], RuntimeWarning)\n"
     ]
    },
    {
     "name": "stdout",
     "output_type": "stream",
     "text": [
      "██████████████████████████████████████████████████| (done) 100%\n",
      "Parse progress: |████████████████████████████████████████████████████████████████| (done) 100%\n",
      "xgboost prediction progress: |███████████████████████████████████████████████████| (done) 100%\n",
      "Parse progress: |████████████████████████████████████████████████████████████████| (done) 100%\n",
      "xgboost prediction progress: |███████████████████████████████████████████████████| (done) 100%\n"
     ]
    },
    {
     "name": "stderr",
     "output_type": "stream",
     "text": [
      "dist_matrix: 100%|##########| 21/21 [00:00<00:00, 146.22it/s]\n",
      "synth_matrix: 100%|##########| 21/21 [00:00<00:00, 175.33it/s]\n",
      "r_index: 100%|##########| 6/6 [00:00<00:00, 410.42it/s]\n",
      "dist_matrix: 100%|##########| 33/33 [00:00<00:00, 78.61it/s]\n",
      "synth_matrix: 100%|##########| 33/33 [00:00<00:00, 455.10it/s]\n",
      "r_index: 100%|##########| 25/25 [00:00<00:00, 450.85it/s]\n"
     ]
    },
    {
     "name": "stdout",
     "output_type": "stream",
     "text": [
      "Parse progress: |████████████████████████████████████████████████████████████████| (done) 100%\n",
      "xgboost Model Build progress: |"
     ]
    },
    {
     "name": "stderr",
     "output_type": "stream",
     "text": [
      "/Users/gaskell/miniforge_x86_64/envs/ADPred_new/lib/python3.10/site-packages/h2o/estimators/estimator_base.py:208: RuntimeWarning: Dropping bad and constant columns: [pres_imuran, pres_minocin, init_group, num_tnf, num_nontnf]\n",
      "  warnings.warn(mesg[\"message\"], RuntimeWarning)\n"
     ]
    },
    {
     "name": "stdout",
     "output_type": "stream",
     "text": [
      "██████████████████████████████████████████████████| (done) 100%\n",
      "Parse progress: |████████████████████████████████████████████████████████████████| (done) 100%\n",
      "xgboost prediction progress: |███████████████████████████████████████████████████| (done) 100%\n",
      "Parse progress: |████████████████████████████████████████████████████████████████| (done) 100%\n",
      "xgboost prediction progress: |███████████████████████████████████████████████████| (done) 100%\n"
     ]
    },
    {
     "name": "stderr",
     "output_type": "stream",
     "text": [
      "dist_matrix: 100%|##########| 21/21 [00:00<00:00, 142.62it/s]\n",
      "synth_matrix: 100%|##########| 21/21 [00:00<00:00, 158.95it/s]\n",
      "r_index: 100%|##########| 6/6 [00:00<00:00, 444.87it/s]\n",
      "dist_matrix: 100%|##########| 32/32 [00:00<00:00, 90.61it/s]\n",
      "synth_matrix: 100%|##########| 32/32 [00:00<00:00, 468.19it/s]\n",
      "r_index: 100%|##########| 27/27 [00:00<00:00, 482.18it/s]\n"
     ]
    },
    {
     "name": "stdout",
     "output_type": "stream",
     "text": [
      "Parse progress: |████████████████████████████████████████████████████████████████| (done) 100%\n",
      "xgboost Model Build progress: |"
     ]
    },
    {
     "name": "stderr",
     "output_type": "stream",
     "text": [
      "/Users/gaskell/miniforge_x86_64/envs/ADPred_new/lib/python3.10/site-packages/h2o/estimators/estimator_base.py:208: RuntimeWarning: Dropping bad and constant columns: [pres_imuran, pres_minocin, init_group, num_tnf, num_nontnf]\n",
      "  warnings.warn(mesg[\"message\"], RuntimeWarning)\n"
     ]
    },
    {
     "name": "stdout",
     "output_type": "stream",
     "text": [
      "██████████████████████████████████████████████████| (done) 100%\n",
      "Parse progress: |████████████████████████████████████████████████████████████████| (done) 100%\n",
      "xgboost prediction progress: |███████████████████████████████████████████████████| (done) 100%\n",
      "Parse progress: |████████████████████████████████████████████████████████████████| (done) 100%\n",
      "xgboost prediction progress: |███████████████████████████████████████████████████| (done) 100%\n"
     ]
    },
    {
     "name": "stderr",
     "output_type": "stream",
     "text": [
      "dist_matrix: 100%|##########| 24/24 [00:00<00:00, 133.42it/s]\n",
      "synth_matrix: 100%|##########| 24/24 [00:00<00:00, 262.94it/s]\n",
      "r_index: 100%|##########| 18/18 [00:00<00:00, 476.22it/s]\n",
      "dist_matrix: 100%|##########| 31/31 [00:00<00:00, 93.71it/s]\n",
      "synth_matrix: 100%|##########| 31/31 [00:00<00:00, 466.31it/s]\n",
      "r_index: 100%|##########| 29/29 [00:00<00:00, 482.34it/s]\n"
     ]
    },
    {
     "name": "stdout",
     "output_type": "stream",
     "text": [
      "Parse progress: |████████████████████████████████████████████████████████████████| (done) 100%\n",
      "xgboost Model Build progress: |"
     ]
    },
    {
     "name": "stderr",
     "output_type": "stream",
     "text": [
      "/Users/gaskell/miniforge_x86_64/envs/ADPred_new/lib/python3.10/site-packages/h2o/estimators/estimator_base.py:208: RuntimeWarning: Dropping bad and constant columns: [hxchf, pres_imuran, pres_minocin, init_group, num_tnf, num_nontnf, hxtia]\n",
      "  warnings.warn(mesg[\"message\"], RuntimeWarning)\n"
     ]
    },
    {
     "name": "stdout",
     "output_type": "stream",
     "text": [
      "██████████████████████████████████████████████████| (done) 100%\n",
      "Parse progress: |████████████████████████████████████████████████████████████████| (done) 100%\n",
      "xgboost prediction progress: |███████████████████████████████████████████████████| (done) 100%\n",
      "Parse progress: |████████████████████████████████████████████████████████████████| (done) 100%\n",
      "xgboost prediction progress: |███████████████████████████████████████████████████| (done) 100%\n"
     ]
    },
    {
     "name": "stderr",
     "output_type": "stream",
     "text": [
      "dist_matrix: 100%|##########| 28/28 [00:00<00:00, 111.20it/s]\n",
      "synth_matrix: 100%|##########| 28/28 [00:00<00:00, 172.59it/s]\n",
      "r_index: 100%|##########| 25/25 [00:00<00:00, 492.63it/s]"
     ]
    },
    {
     "name": "stdout",
     "output_type": "stream",
     "text": [
      "Parse progress: |"
     ]
    },
    {
     "name": "stderr",
     "output_type": "stream",
     "text": [
      "\n"
     ]
    },
    {
     "name": "stdout",
     "output_type": "stream",
     "text": [
      "████████████████████████████████████████████████████████████████| (done) 100%\n",
      "xgboost Model Build progress: |"
     ]
    },
    {
     "name": "stderr",
     "output_type": "stream",
     "text": [
      "/Users/gaskell/miniforge_x86_64/envs/ADPred_new/lib/python3.10/site-packages/h2o/estimators/estimator_base.py:208: RuntimeWarning: Dropping bad and constant columns: [pres_imuran, pres_minocin, init_group, num_tnf, num_nontnf, hxstroke, hxunstab_ang]\n",
      "  warnings.warn(mesg[\"message\"], RuntimeWarning)\n"
     ]
    },
    {
     "name": "stdout",
     "output_type": "stream",
     "text": [
      "██████████████████████████████████████████████████| (done) 100%\n",
      "Parse progress: |████████████████████████████████████████████████████████████████| (done) 100%\n",
      "xgboost prediction progress: |███████████████████████████████████████████████████| (done) 100%\n",
      "Parse progress: |████████████████████████████████████████████████████████████████| (done) 100%\n",
      "xgboost prediction progress: |███████████████████████████████████████████████████| (done) 100%\n"
     ]
    },
    {
     "name": "stderr",
     "output_type": "stream",
     "text": [
      "dist_matrix: 100%|##########| 27/27 [00:00<00:00, 116.22it/s]\n",
      "synth_matrix: 100%|##########| 27/27 [00:00<00:00, 251.75it/s]\n",
      "r_index: 100%|##########| 9/9 [00:00<00:00, 563.42it/s]\n",
      "dist_matrix: 100%|##########| 30/30 [00:00<00:00, 97.12it/s]\n",
      "synth_matrix: 100%|##########| 30/30 [00:00<00:00, 225.32it/s]"
     ]
    },
    {
     "name": "stdout",
     "output_type": "stream",
     "text": [
      "Parse progress: |"
     ]
    },
    {
     "name": "stderr",
     "output_type": "stream",
     "text": [
      "\n"
     ]
    },
    {
     "name": "stdout",
     "output_type": "stream",
     "text": [
      "████████████████████████████████████████████████████████████████| (done) 100%\n",
      "xgboost Model Build progress: |"
     ]
    },
    {
     "name": "stderr",
     "output_type": "stream",
     "text": [
      "/Users/gaskell/miniforge_x86_64/envs/ADPred_new/lib/python3.10/site-packages/h2o/estimators/estimator_base.py:208: RuntimeWarning: Dropping bad and constant columns: [hxchf, pres_imuran, pres_minocin, init_group, num_tnf, num_nontnf]\n",
      "  warnings.warn(mesg[\"message\"], RuntimeWarning)\n"
     ]
    },
    {
     "name": "stdout",
     "output_type": "stream",
     "text": [
      "██████████████████████████████████████████████████| (done) 100%\n",
      "Parse progress: |████████████████████████████████████████████████████████████████| (done) 100%\n",
      "xgboost prediction progress: |███████████████████████████████████████████████████| (done) 100%\n",
      "Parse progress: |████████████████████████████████████████████████████████████████| (done) 100%\n",
      "xgboost prediction progress: |███████████████████████████████████████████████████| (done) 100%\n"
     ]
    },
    {
     "name": "stderr",
     "output_type": "stream",
     "text": [
      "dist_matrix: 100%|##########| 22/22 [00:00<00:00, 144.96it/s]\n",
      "synth_matrix: 100%|##########| 22/22 [00:00<00:00, 165.10it/s]\n",
      "r_index: 100%|##########| 3/3 [00:00<00:00, 478.93it/s]\n",
      "dist_matrix: 100%|##########| 28/28 [00:00<00:00, 103.41it/s]\n",
      "synth_matrix: 100%|##########| 28/28 [00:00<00:00, 242.56it/s]\n",
      "r_index: 100%|##########| 7/7 [00:00<00:00, 465.86it/s]\n"
     ]
    },
    {
     "name": "stdout",
     "output_type": "stream",
     "text": [
      "Parse progress: |████████████████████████████████████████████████████████████████| (done) 100%\n",
      "xgboost Model Build progress: |"
     ]
    },
    {
     "name": "stderr",
     "output_type": "stream",
     "text": [
      "/Users/gaskell/miniforge_x86_64/envs/ADPred_new/lib/python3.10/site-packages/h2o/estimators/estimator_base.py:208: RuntimeWarning: Dropping bad and constant columns: [hxchf, pres_imuran, pres_minocin, init_group, num_tnf, num_nontnf]\n",
      "  warnings.warn(mesg[\"message\"], RuntimeWarning)\n"
     ]
    },
    {
     "name": "stdout",
     "output_type": "stream",
     "text": [
      "██████████████████████████████████████████████████| (done) 100%\n",
      "Parse progress: |████████████████████████████████████████████████████████████████| (done) 100%\n",
      "xgboost prediction progress: |███████████████████████████████████████████████████| (done) 100%\n",
      "Parse progress: |████████████████████████████████████████████████████████████████| (done) 100%\n",
      "xgboost prediction progress: |███████████████████████████████████████████████████| (done) 100%\n"
     ]
    },
    {
     "name": "stderr",
     "output_type": "stream",
     "text": [
      "dist_matrix: 100%|##########| 22/22 [00:00<00:00, 143.99it/s]\n",
      "synth_matrix: 100%|##########| 22/22 [00:00<00:00, 169.99it/s]\n",
      "r_index: 100%|##########| 3/3 [00:00<00:00, 485.98it/s]\n",
      "dist_matrix: 100%|##########| 33/33 [00:00<00:00, 88.18it/s]\n",
      "synth_matrix: 100%|##########| 33/33 [00:00<00:00, 463.86it/s]\n",
      "r_index: 100%|##########| 25/25 [00:00<00:00, 420.75it/s]"
     ]
    },
    {
     "name": "stdout",
     "output_type": "stream",
     "text": [
      "Parse progress: |"
     ]
    },
    {
     "name": "stderr",
     "output_type": "stream",
     "text": [
      "\n"
     ]
    },
    {
     "name": "stdout",
     "output_type": "stream",
     "text": [
      "████████████████████████████████████████████████████████████████| (done) 100%\n",
      "xgboost Model Build progress: |"
     ]
    },
    {
     "name": "stderr",
     "output_type": "stream",
     "text": [
      "/Users/gaskell/miniforge_x86_64/envs/ADPred_new/lib/python3.10/site-packages/h2o/estimators/estimator_base.py:208: RuntimeWarning: Dropping bad and constant columns: [hxchf, pres_imuran, pres_minocin, init_group, num_tnf, num_nontnf]\n",
      "  warnings.warn(mesg[\"message\"], RuntimeWarning)\n"
     ]
    },
    {
     "name": "stdout",
     "output_type": "stream",
     "text": [
      "██████████████████████████████████████████████████| (done) 100%\n",
      "Parse progress: |████████████████████████████████████████████████████████████████| (done) 100%\n",
      "xgboost prediction progress: |███████████████████████████████████████████████████| (done) 100%\n",
      "Parse progress: |████████████████████████████████████████████████████████████████| (done) 100%\n",
      "xgboost prediction progress: |███████████████████████████████████████████████████| (done) 100%\n"
     ]
    },
    {
     "name": "stderr",
     "output_type": "stream",
     "text": [
      "dist_matrix: 100%|##########| 22/22 [00:00<00:00, 145.85it/s]\n",
      "synth_matrix: 100%|##########| 22/22 [00:00<00:00, 177.73it/s]\n",
      "r_index: 100%|##########| 3/3 [00:00<00:00, 402.36it/s]\n",
      "dist_matrix: 100%|##########| 29/29 [00:00<00:00, 100.22it/s]\n",
      "synth_matrix: 100%|##########| 29/29 [00:00<00:00, 229.98it/s]\n",
      "r_index: 100%|##########| 3/3 [00:00<00:00, 698.31it/s]"
     ]
    },
    {
     "name": "stdout",
     "output_type": "stream",
     "text": [
      "Parse progress: |"
     ]
    },
    {
     "name": "stderr",
     "output_type": "stream",
     "text": [
      "\n"
     ]
    },
    {
     "name": "stdout",
     "output_type": "stream",
     "text": [
      "████████████████████████████████████████████████████████████████| (done) 100%\n",
      "xgboost Model Build progress: |"
     ]
    },
    {
     "name": "stderr",
     "output_type": "stream",
     "text": [
      "/Users/gaskell/miniforge_x86_64/envs/ADPred_new/lib/python3.10/site-packages/h2o/estimators/estimator_base.py:208: RuntimeWarning: Dropping bad and constant columns: [hxchf, pres_imuran, pres_minocin, init_group, num_tnf, num_nontnf, hxtia]\n",
      "  warnings.warn(mesg[\"message\"], RuntimeWarning)\n"
     ]
    },
    {
     "name": "stdout",
     "output_type": "stream",
     "text": [
      "██████████████████████████████████████████████████| (done) 100%\n",
      "Parse progress: |████████████████████████████████████████████████████████████████| (done) 100%\n",
      "xgboost prediction progress: |███████████████████████████████████████████████████| (done) 100%\n",
      "Parse progress: |████████████████████████████████████████████████████████████████| (done) 100%\n",
      "xgboost prediction progress: |███████████████████████████████████████████████████| (done) 100%\n"
     ]
    },
    {
     "name": "stderr",
     "output_type": "stream",
     "text": [
      "dist_matrix: 100%|##########| 22/22 [00:00<00:00, 141.37it/s]\n",
      "synth_matrix: 100%|##########| 22/22 [00:00<00:00, 177.27it/s]\n",
      "r_index: 100%|##########| 3/3 [00:00<00:00, 490.03it/s]\n",
      "dist_matrix: 100%|##########| 30/30 [00:00<00:00, 96.73it/s]\n",
      "synth_matrix: 100%|##########| 30/30 [00:00<00:00, 226.08it/s]\n"
     ]
    },
    {
     "name": "stdout",
     "output_type": "stream",
     "text": [
      "Parse progress: |████████████████████████████████████████████████████████████████| (done) 100%\n",
      "xgboost Model Build progress: |"
     ]
    },
    {
     "name": "stderr",
     "output_type": "stream",
     "text": [
      "/Users/gaskell/miniforge_x86_64/envs/ADPred_new/lib/python3.10/site-packages/h2o/estimators/estimator_base.py:208: RuntimeWarning: Dropping bad and constant columns: [hxchf, pres_imuran, pres_minocin, init_group, num_tnf, num_nontnf, hxtia]\n",
      "  warnings.warn(mesg[\"message\"], RuntimeWarning)\n"
     ]
    },
    {
     "name": "stdout",
     "output_type": "stream",
     "text": [
      "██████████████████████████████████████████████████| (done) 100%\n",
      "Parse progress: |████████████████████████████████████████████████████████████████| (done) 100%\n",
      "xgboost prediction progress: |███████████████████████████████████████████████████| (done) 100%\n",
      "Parse progress: |████████████████████████████████████████████████████████████████| (done) 100%\n",
      "xgboost prediction progress: |███████████████████████████████████████████████████| (done) 100%\n"
     ]
    },
    {
     "name": "stderr",
     "output_type": "stream",
     "text": [
      "dist_matrix: 100%|##########| 22/22 [00:00<00:00, 141.76it/s]\n",
      "synth_matrix: 100%|##########| 22/22 [00:00<00:00, 176.71it/s]\n",
      "r_index: 100%|##########| 3/3 [00:00<00:00, 444.52it/s]\n",
      "dist_matrix: 100%|##########| 33/33 [00:00<00:00, 87.53it/s]\n",
      "synth_matrix: 100%|##########| 33/33 [00:00<00:00, 444.79it/s]\n",
      "r_index: 100%|##########| 25/25 [00:00<00:00, 447.62it/s]"
     ]
    },
    {
     "name": "stdout",
     "output_type": "stream",
     "text": [
      "Parse progress: |"
     ]
    },
    {
     "name": "stderr",
     "output_type": "stream",
     "text": [
      "\n"
     ]
    },
    {
     "name": "stdout",
     "output_type": "stream",
     "text": [
      "████████████████████████████████████████████████████████████████| (done) 100%\n",
      "xgboost Model Build progress: |"
     ]
    },
    {
     "name": "stderr",
     "output_type": "stream",
     "text": [
      "/Users/gaskell/miniforge_x86_64/envs/ADPred_new/lib/python3.10/site-packages/h2o/estimators/estimator_base.py:208: RuntimeWarning: Dropping bad and constant columns: [pres_imuran, pres_minocin, init_group, num_tnf, num_nontnf]\n",
      "  warnings.warn(mesg[\"message\"], RuntimeWarning)\n"
     ]
    },
    {
     "name": "stdout",
     "output_type": "stream",
     "text": [
      "██████████████████████████████████████████████████| (done) 100%\n",
      "Parse progress: |████████████████████████████████████████████████████████████████| (done) 100%\n",
      "xgboost prediction progress: |███████████████████████████████████████████████████| (done) 100%\n",
      "Parse progress: |████████████████████████████████████████████████████████████████| (done) 100%\n",
      "xgboost prediction progress: |███████████████████████████████████████████████████| (done) 100%\n"
     ]
    },
    {
     "name": "stderr",
     "output_type": "stream",
     "text": [
      "dist_matrix: 100%|##########| 24/24 [00:00<00:00, 128.81it/s]\n",
      "synth_matrix: 100%|##########| 24/24 [00:00<00:00, 262.71it/s]\n",
      "r_index: 100%|##########| 18/18 [00:00<00:00, 474.44it/s]\n",
      "dist_matrix: 100%|##########| 30/30 [00:00<00:00, 100.21it/s]\n",
      "synth_matrix: 100%|##########| 30/30 [00:00<00:00, 252.54it/s]"
     ]
    },
    {
     "name": "stdout",
     "output_type": "stream",
     "text": [
      "Parse progress: |"
     ]
    },
    {
     "name": "stderr",
     "output_type": "stream",
     "text": [
      "\n"
     ]
    },
    {
     "name": "stdout",
     "output_type": "stream",
     "text": [
      "████████████████████████████████████████████████████████████████| (done) 100%\n",
      "xgboost Model Build progress: |"
     ]
    },
    {
     "name": "stderr",
     "output_type": "stream",
     "text": [
      "/Users/gaskell/miniforge_x86_64/envs/ADPred_new/lib/python3.10/site-packages/h2o/estimators/estimator_base.py:208: RuntimeWarning: Dropping bad and constant columns: [hxchf, pres_imuran, pres_minocin, init_group, num_tnf, num_nontnf, hxunstab_ang]\n",
      "  warnings.warn(mesg[\"message\"], RuntimeWarning)\n"
     ]
    },
    {
     "name": "stdout",
     "output_type": "stream",
     "text": [
      "██████████████████████████████████████████████████| (done) 100%\n",
      "Parse progress: |████████████████████████████████████████████████████████████████| (done) 100%\n",
      "xgboost prediction progress: |███████████████████████████████████████████████████| (done) 100%\n",
      "Parse progress: |████████████████████████████████████████████████████████████████| (done) 100%\n",
      "xgboost prediction progress: |███████████████████████████████████████████████████| (done) 100%\n"
     ]
    },
    {
     "name": "stderr",
     "output_type": "stream",
     "text": [
      "dist_matrix: 100%|##########| 20/20 [00:00<00:00, 160.13it/s]\n",
      "synth_matrix: 100%|##########| 20/20 [00:00<00:00, 169.57it/s]\n",
      "r_index: 100%|##########| 10/10 [00:00<00:00, 509.48it/s]\n",
      "dist_matrix: 100%|##########| 32/32 [00:00<00:00, 90.58it/s]\n",
      "synth_matrix: 100%|##########| 32/32 [00:00<00:00, 460.37it/s]\n",
      "r_index: 100%|##########| 27/27 [00:00<00:00, 512.63it/s]\n"
     ]
    },
    {
     "name": "stdout",
     "output_type": "stream",
     "text": [
      "Parse progress: |████████████████████████████████████████████████████████████████| (done) 100%\n",
      "xgboost Model Build progress: |"
     ]
    },
    {
     "name": "stderr",
     "output_type": "stream",
     "text": [
      "/Users/gaskell/miniforge_x86_64/envs/ADPred_new/lib/python3.10/site-packages/h2o/estimators/estimator_base.py:208: RuntimeWarning: Dropping bad and constant columns: [pres_imuran, pres_minocin, init_group, num_tnf, num_nontnf]\n",
      "  warnings.warn(mesg[\"message\"], RuntimeWarning)\n"
     ]
    },
    {
     "name": "stdout",
     "output_type": "stream",
     "text": [
      "██████████████████████████████████████████████████| (done) 100%\n",
      "Parse progress: |████████████████████████████████████████████████████████████████| (done) 100%\n",
      "xgboost prediction progress: |███████████████████████████████████████████████████| (done) 100%\n",
      "Parse progress: |████████████████████████████████████████████████████████████████| (done) 100%\n",
      "xgboost prediction progress: |███████████████████████████████████████████████████| (done) 100%\n"
     ]
    },
    {
     "name": "stderr",
     "output_type": "stream",
     "text": [
      "dist_matrix: 100%|##########| 21/21 [00:00<00:00, 152.11it/s]\n",
      "synth_matrix: 100%|##########| 21/21 [00:00<00:00, 161.78it/s]\n",
      "r_index: 100%|##########| 6/6 [00:00<00:00, 502.96it/s]\n",
      "dist_matrix: 100%|##########| 28/28 [00:00<00:00, 105.12it/s]\n",
      "synth_matrix: 100%|##########| 28/28 [00:00<00:00, 220.96it/s]\n",
      "r_index: 100%|##########| 7/7 [00:00<00:00, 489.92it/s]"
     ]
    },
    {
     "name": "stdout",
     "output_type": "stream",
     "text": [
      "Parse progress: |"
     ]
    },
    {
     "name": "stderr",
     "output_type": "stream",
     "text": [
      "\n"
     ]
    },
    {
     "name": "stdout",
     "output_type": "stream",
     "text": [
      "████████████████████████████████████████████████████████████████| (done) 100%\n",
      "xgboost Model Build progress: |"
     ]
    },
    {
     "name": "stderr",
     "output_type": "stream",
     "text": [
      "/Users/gaskell/miniforge_x86_64/envs/ADPred_new/lib/python3.10/site-packages/h2o/estimators/estimator_base.py:208: RuntimeWarning: Dropping bad and constant columns: [pres_imuran, pres_minocin, init_group, num_tnf, num_nontnf, hxstroke]\n",
      "  warnings.warn(mesg[\"message\"], RuntimeWarning)\n"
     ]
    },
    {
     "name": "stdout",
     "output_type": "stream",
     "text": [
      "██████████████████████████████████████████████████| (done) 100%\n",
      "Parse progress: |████████████████████████████████████████████████████████████████| (done) 100%\n",
      "xgboost prediction progress: |███████████████████████████████████████████████████| (done) 100%\n",
      "Parse progress: |████████████████████████████████████████████████████████████████| (done) 100%\n",
      "xgboost prediction progress: |███████████████████████████████████████████████████| (done) 100%\n"
     ]
    },
    {
     "name": "stderr",
     "output_type": "stream",
     "text": [
      "dist_matrix: 100%|##########| 21/21 [00:00<00:00, 149.56it/s]\n",
      "synth_matrix: 100%|##########| 21/21 [00:00<00:00, 168.48it/s]\n",
      "r_index: 100%|##########| 6/6 [00:00<00:00, 541.06it/s]\n",
      "dist_matrix: 100%|##########| 32/32 [00:00<00:00, 90.54it/s]\n",
      "synth_matrix: 100%|##########| 32/32 [00:00<00:00, 486.11it/s]\n",
      "r_index: 100%|##########| 27/27 [00:00<00:00, 459.11it/s]\n"
     ]
    },
    {
     "name": "stdout",
     "output_type": "stream",
     "text": [
      "Parse progress: |████████████████████████████████████████████████████████████████| (done) 100%\n",
      "xgboost Model Build progress: |"
     ]
    },
    {
     "name": "stderr",
     "output_type": "stream",
     "text": [
      "/Users/gaskell/miniforge_x86_64/envs/ADPred_new/lib/python3.10/site-packages/h2o/estimators/estimator_base.py:208: RuntimeWarning: Dropping bad and constant columns: [pres_imuran, pres_minocin, init_group, num_tnf, num_nontnf, hxtia]\n",
      "  warnings.warn(mesg[\"message\"], RuntimeWarning)\n"
     ]
    },
    {
     "name": "stdout",
     "output_type": "stream",
     "text": [
      "██████████████████████████████████████████████████| (done) 100%\n",
      "Parse progress: |████████████████████████████████████████████████████████████████| (done) 100%\n",
      "xgboost prediction progress: |███████████████████████████████████████████████████| (done) 100%\n",
      "Parse progress: |████████████████████████████████████████████████████████████████| (done) 100%\n",
      "xgboost prediction progress: |███████████████████████████████████████████████████| (done) 100%\n"
     ]
    },
    {
     "name": "stderr",
     "output_type": "stream",
     "text": [
      "dist_matrix: 100%|##########| 22/22 [00:00<00:00, 145.08it/s]\n",
      "synth_matrix: 100%|##########| 22/22 [00:00<00:00, 167.63it/s]\n",
      "r_index: 100%|##########| 3/3 [00:00<00:00, 464.11it/s]\n",
      "dist_matrix: 100%|##########| 31/31 [00:00<00:00, 92.80it/s]\n",
      "synth_matrix: 100%|##########| 31/31 [00:00<00:00, 464.02it/s]\n",
      "r_index: 100%|##########| 29/29 [00:00<00:00, 480.94it/s]"
     ]
    },
    {
     "name": "stdout",
     "output_type": "stream",
     "text": [
      "Parse progress: |"
     ]
    },
    {
     "name": "stderr",
     "output_type": "stream",
     "text": [
      "\n"
     ]
    },
    {
     "name": "stdout",
     "output_type": "stream",
     "text": [
      "████████████████████████████████████████████████████████████████| (done) 100%\n",
      "xgboost Model Build progress: |"
     ]
    },
    {
     "name": "stderr",
     "output_type": "stream",
     "text": [
      "/Users/gaskell/miniforge_x86_64/envs/ADPred_new/lib/python3.10/site-packages/h2o/estimators/estimator_base.py:208: RuntimeWarning: Dropping bad and constant columns: [hxchf, pres_imuran, pres_minocin, init_group, num_tnf, num_nontnf, hxtia]\n",
      "  warnings.warn(mesg[\"message\"], RuntimeWarning)\n"
     ]
    },
    {
     "name": "stdout",
     "output_type": "stream",
     "text": [
      "██████████████████████████████████████████████████| (done) 100%\n",
      "Parse progress: |████████████████████████████████████████████████████████████████| (done) 100%\n",
      "xgboost prediction progress: |███████████████████████████████████████████████████| (done) 100%\n",
      "Parse progress: |████████████████████████████████████████████████████████████████| (done) 100%\n",
      "xgboost prediction progress: |███████████████████████████████████████████████████| (done) 100%\n"
     ]
    },
    {
     "name": "stderr",
     "output_type": "stream",
     "text": [
      "dist_matrix: 100%|##########| 30/30 [00:00<00:00, 96.22it/s]\n",
      "synth_matrix: 100%|##########| 30/30 [00:00<00:00, 166.65it/s]\n",
      "r_index: 100%|##########| 16/16 [00:00<00:00, 477.77it/s]"
     ]
    },
    {
     "name": "stdout",
     "output_type": "stream",
     "text": [
      "Parse progress: |"
     ]
    },
    {
     "name": "stderr",
     "output_type": "stream",
     "text": [
      "\n"
     ]
    },
    {
     "name": "stdout",
     "output_type": "stream",
     "text": [
      "████████████████████████████████████████████████████████████████| (done) 100%\n",
      "xgboost Model Build progress: |"
     ]
    },
    {
     "name": "stderr",
     "output_type": "stream",
     "text": [
      "/Users/gaskell/miniforge_x86_64/envs/ADPred_new/lib/python3.10/site-packages/h2o/estimators/estimator_base.py:208: RuntimeWarning: Dropping bad and constant columns: [hxchf, pres_imuran, pres_minocin, init_group, num_tnf, num_nontnf, hxtia]\n",
      "  warnings.warn(mesg[\"message\"], RuntimeWarning)\n"
     ]
    },
    {
     "name": "stdout",
     "output_type": "stream",
     "text": [
      "██████████████████████████████████████████████████| (done) 100%\n",
      "Parse progress: |████████████████████████████████████████████████████████████████| (done) 100%\n",
      "xgboost prediction progress: |███████████████████████████████████████████████████| (done) 100%\n",
      "Parse progress: |████████████████████████████████████████████████████████████████| (done) 100%\n",
      "xgboost prediction progress: |███████████████████████████████████████████████████| (done) 100%\n"
     ]
    },
    {
     "name": "stderr",
     "output_type": "stream",
     "text": [
      "dist_matrix: 100%|##########| 21/21 [00:00<00:00, 151.32it/s]\n",
      "synth_matrix: 100%|##########| 21/21 [00:00<00:00, 167.96it/s]\n",
      "r_index: 100%|##########| 6/6 [00:00<00:00, 451.67it/s]\n",
      "dist_matrix: 100%|##########| 30/30 [00:00<00:00, 96.45it/s]\n",
      "synth_matrix: 100%|##########| 30/30 [00:00<00:00, 219.03it/s]"
     ]
    },
    {
     "name": "stdout",
     "output_type": "stream",
     "text": [
      "Parse progress: |"
     ]
    },
    {
     "name": "stderr",
     "output_type": "stream",
     "text": [
      "\n"
     ]
    },
    {
     "name": "stdout",
     "output_type": "stream",
     "text": [
      "████████████████████████████████████████████████████████████████| (done) 100%\n",
      "xgboost Model Build progress: |"
     ]
    },
    {
     "name": "stderr",
     "output_type": "stream",
     "text": [
      "/Users/gaskell/miniforge_x86_64/envs/ADPred_new/lib/python3.10/site-packages/h2o/estimators/estimator_base.py:208: RuntimeWarning: Dropping bad and constant columns: [pres_imuran, pres_minocin, init_group, num_tnf, num_nontnf, hxtia]\n",
      "  warnings.warn(mesg[\"message\"], RuntimeWarning)\n"
     ]
    },
    {
     "name": "stdout",
     "output_type": "stream",
     "text": [
      "██████████████████████████████████████████████████| (done) 100%\n",
      "Parse progress: |████████████████████████████████████████████████████████████████| (done) 100%\n",
      "xgboost prediction progress: |███████████████████████████████████████████████████| (done) 100%\n",
      "Parse progress: |████████████████████████████████████████████████████████████████| (done) 100%\n",
      "xgboost prediction progress: |███████████████████████████████████████████████████| (done) 100%\n"
     ]
    },
    {
     "name": "stderr",
     "output_type": "stream",
     "text": [
      "dist_matrix: 100%|##########| 22/22 [00:00<00:00, 147.14it/s]\n",
      "synth_matrix: 100%|##########| 22/22 [00:00<00:00, 164.43it/s]\n",
      "r_index: 100%|##########| 3/3 [00:00<00:00, 389.05it/s]\n",
      "dist_matrix: 100%|##########| 29/29 [00:00<00:00, 100.56it/s]\n",
      "synth_matrix: 100%|##########| 29/29 [00:00<00:00, 233.83it/s]\n",
      "r_index: 100%|##########| 3/3 [00:00<00:00, 441.61it/s]"
     ]
    },
    {
     "name": "stdout",
     "output_type": "stream",
     "text": [
      "Parse progress: |"
     ]
    },
    {
     "name": "stderr",
     "output_type": "stream",
     "text": [
      "\n"
     ]
    },
    {
     "name": "stdout",
     "output_type": "stream",
     "text": [
      "████████████████████████████████████████████████████████████████| (done) 100%\n",
      "xgboost Model Build progress: |"
     ]
    },
    {
     "name": "stderr",
     "output_type": "stream",
     "text": [
      "/Users/gaskell/miniforge_x86_64/envs/ADPred_new/lib/python3.10/site-packages/h2o/estimators/estimator_base.py:208: RuntimeWarning: Dropping bad and constant columns: [pres_imuran, pres_minocin, init_group, num_tnf, num_nontnf, hxtia]\n",
      "  warnings.warn(mesg[\"message\"], RuntimeWarning)\n"
     ]
    },
    {
     "name": "stdout",
     "output_type": "stream",
     "text": [
      "██████████████████████████████████████████████████| (done) 100%\n",
      "Parse progress: |████████████████████████████████████████████████████████████████| (done) 100%\n",
      "xgboost prediction progress: |███████████████████████████████████████████████████| (done) 100%\n",
      "Parse progress: |████████████████████████████████████████████████████████████████| (done) 100%\n",
      "xgboost prediction progress: |███████████████████████████████████████████████████| (done) 100%\n"
     ]
    },
    {
     "name": "stderr",
     "output_type": "stream",
     "text": [
      "dist_matrix: 100%|##########| 24/24 [00:00<00:00, 131.61it/s]\n",
      "synth_matrix: 100%|##########| 24/24 [00:00<00:00, 251.20it/s]\n",
      "r_index: 100%|##########| 18/18 [00:00<00:00, 461.01it/s]\n",
      "dist_matrix: 100%|##########| 33/33 [00:00<00:00, 55.78it/s]\n",
      "synth_matrix: 100%|##########| 33/33 [00:00<00:00, 415.39it/s]\n",
      "r_index: 100%|##########| 25/25 [00:00<00:00, 277.83it/s]\n"
     ]
    },
    {
     "name": "stdout",
     "output_type": "stream",
     "text": [
      "Parse progress: |████████████████████████████████████████████████████████████████| (done) 100%\n",
      "xgboost Model Build progress: |"
     ]
    },
    {
     "name": "stderr",
     "output_type": "stream",
     "text": [
      "/Users/gaskell/miniforge_x86_64/envs/ADPred_new/lib/python3.10/site-packages/h2o/estimators/estimator_base.py:208: RuntimeWarning: Dropping bad and constant columns: [hxchf, pres_imuran, pres_minocin, init_group, num_tnf, num_nontnf]\n",
      "  warnings.warn(mesg[\"message\"], RuntimeWarning)\n"
     ]
    },
    {
     "name": "stdout",
     "output_type": "stream",
     "text": [
      "██████████████████████████████████████████████████| (done) 100%\n",
      "Parse progress: |████████████████████████████████████████████████████████████████| (done) 100%\n",
      "xgboost prediction progress: |███████████████████████████████████████████████████| (done) 100%\n",
      "Parse progress: |████████████████████████████████████████████████████████████████| (done) 100%\n",
      "xgboost prediction progress: |███████████████████████████████████████████████████| (done) 100%\n"
     ]
    },
    {
     "name": "stderr",
     "output_type": "stream",
     "text": [
      "dist_matrix: 100%|##########| 20/20 [00:00<00:00, 150.95it/s]\n",
      "synth_matrix: 100%|##########| 20/20 [00:00<00:00, 156.62it/s]\n",
      "r_index: 100%|##########| 10/10 [00:00<00:00, 554.60it/s]\n",
      "dist_matrix: 100%|##########| 30/30 [00:00<00:00, 100.44it/s]\n",
      "synth_matrix: 100%|##########| 30/30 [00:00<00:00, 252.80it/s]"
     ]
    },
    {
     "name": "stdout",
     "output_type": "stream",
     "text": [
      "Parse progress: |"
     ]
    },
    {
     "name": "stderr",
     "output_type": "stream",
     "text": [
      "\n"
     ]
    },
    {
     "name": "stdout",
     "output_type": "stream",
     "text": [
      "████████████████████████████████████████████████████████████████| (done) 100%\n",
      "xgboost Model Build progress: |"
     ]
    },
    {
     "name": "stderr",
     "output_type": "stream",
     "text": [
      "/Users/gaskell/miniforge_x86_64/envs/ADPred_new/lib/python3.10/site-packages/h2o/estimators/estimator_base.py:208: RuntimeWarning: Dropping bad and constant columns: [hxchf, pres_imuran, pres_minocin, init_group, num_tnf, num_nontnf, hxunstab_ang]\n",
      "  warnings.warn(mesg[\"message\"], RuntimeWarning)\n"
     ]
    },
    {
     "name": "stdout",
     "output_type": "stream",
     "text": [
      "██████████████████████████████████████████████████| (done) 100%\n",
      "Parse progress: |████████████████████████████████████████████████████████████████| (done) 100%\n",
      "xgboost prediction progress: |███████████████████████████████████████████████████| (done) 100%\n",
      "Parse progress: |████████████████████████████████████████████████████████████████| (done) 100%\n",
      "xgboost prediction progress: |███████████████████████████████████████████████████| (done) 100%\n"
     ]
    },
    {
     "name": "stderr",
     "output_type": "stream",
     "text": [
      "dist_matrix: 100%|##########| 24/24 [00:00<00:00, 130.61it/s]\n",
      "synth_matrix: 100%|##########| 24/24 [00:00<00:00, 237.41it/s]\n",
      "r_index: 100%|##########| 18/18 [00:00<00:00, 508.72it/s]\n",
      "dist_matrix: 100%|##########| 31/31 [00:00<00:00, 95.46it/s]\n",
      "synth_matrix: 100%|##########| 31/31 [00:00<00:00, 490.92it/s]\n",
      "r_index: 100%|##########| 29/29 [00:00<00:00, 456.46it/s]"
     ]
    },
    {
     "name": "stdout",
     "output_type": "stream",
     "text": [
      "Parse progress: |"
     ]
    },
    {
     "name": "stderr",
     "output_type": "stream",
     "text": [
      "\n"
     ]
    },
    {
     "name": "stdout",
     "output_type": "stream",
     "text": [
      "████████████████████████████████████████████████████████████████| (done) 100%\n",
      "xgboost Model Build progress: |"
     ]
    },
    {
     "name": "stderr",
     "output_type": "stream",
     "text": [
      "/Users/gaskell/miniforge_x86_64/envs/ADPred_new/lib/python3.10/site-packages/h2o/estimators/estimator_base.py:208: RuntimeWarning: Dropping bad and constant columns: [hxchf, pres_imuran, pres_minocin, init_group, num_tnf, num_nontnf]\n",
      "  warnings.warn(mesg[\"message\"], RuntimeWarning)\n"
     ]
    },
    {
     "name": "stdout",
     "output_type": "stream",
     "text": [
      "██████████████████████████████████████████████████| (done) 100%\n",
      "Parse progress: |████████████████████████████████████████████████████████████████| (done) 100%\n",
      "xgboost prediction progress: |███████████████████████████████████████████████████| (done) 100%\n",
      "Parse progress: |████████████████████████████████████████████████████████████████| (done) 100%\n",
      "xgboost prediction progress: |███████████████████████████████████████████████████| (done) 100%\n"
     ]
    },
    {
     "name": "stderr",
     "output_type": "stream",
     "text": [
      "dist_matrix: 100%|##########| 21/21 [00:00<00:00, 148.27it/s]\n",
      "synth_matrix: 100%|##########| 21/21 [00:00<00:00, 163.64it/s]\n",
      "r_index: 100%|##########| 6/6 [00:00<00:00, 456.23it/s]\n",
      "dist_matrix: 100%|##########| 32/32 [00:00<00:00, 76.53it/s]\n",
      "synth_matrix: 100%|##########| 32/32 [00:00<00:00, 387.93it/s]\n",
      "r_index: 100%|##########| 27/27 [00:00<00:00, 446.17it/s]\n"
     ]
    },
    {
     "name": "stdout",
     "output_type": "stream",
     "text": [
      "Parse progress: |████████████████████████████████████████████████████████████████| (done) 100%\n",
      "xgboost Model Build progress: |"
     ]
    },
    {
     "name": "stderr",
     "output_type": "stream",
     "text": [
      "/Users/gaskell/miniforge_x86_64/envs/ADPred_new/lib/python3.10/site-packages/h2o/estimators/estimator_base.py:208: RuntimeWarning: Dropping bad and constant columns: [pres_imuran, pres_minocin, init_group, num_tnf, num_nontnf, hxtia]\n",
      "  warnings.warn(mesg[\"message\"], RuntimeWarning)\n"
     ]
    },
    {
     "name": "stdout",
     "output_type": "stream",
     "text": [
      "██████████████████████████████████████████████████| (done) 100%\n",
      "Parse progress: |████████████████████████████████████████████████████████████████| (done) 100%\n",
      "xgboost prediction progress: |███████████████████████████████████████████████████| (done) 100%\n",
      "Parse progress: |████████████████████████████████████████████████████████████████| (done) 100%\n",
      "xgboost prediction progress: |███████████████████████████████████████████████████| (done) 100%\n"
     ]
    },
    {
     "name": "stderr",
     "output_type": "stream",
     "text": [
      "dist_matrix: 100%|##########| 28/28 [00:00<00:00, 110.82it/s]\n",
      "synth_matrix: 100%|##########| 28/28 [00:00<00:00, 234.05it/s]\n",
      "r_index: 100%|##########| 7/7 [00:00<00:00, 373.08it/s]\n",
      "dist_matrix: 100%|##########| 31/31 [00:00<00:00, 69.16it/s]\n",
      "synth_matrix: 100%|##########| 31/31 [00:00<00:00, 310.19it/s]\n",
      "r_index: 100%|##########| 29/29 [00:00<00:00, 324.79it/s]\n"
     ]
    },
    {
     "name": "stdout",
     "output_type": "stream",
     "text": [
      "Parse progress: |████████████████████████████████████████████████████████████████| (done) 100%\n",
      "xgboost Model Build progress: |"
     ]
    },
    {
     "name": "stderr",
     "output_type": "stream",
     "text": [
      "/Users/gaskell/miniforge_x86_64/envs/ADPred_new/lib/python3.10/site-packages/h2o/estimators/estimator_base.py:208: RuntimeWarning: Dropping bad and constant columns: [pres_imuran, pres_minocin, init_group, num_tnf, num_nontnf, hxtia]\n",
      "  warnings.warn(mesg[\"message\"], RuntimeWarning)\n"
     ]
    },
    {
     "name": "stdout",
     "output_type": "stream",
     "text": [
      "██████████████████████████████████████████████████| (done) 100%\n",
      "Parse progress: |████████████████████████████████████████████████████████████████| (done) 100%\n",
      "xgboost prediction progress: |███████████████████████████████████████████████████| (done) 100%\n",
      "Parse progress: |████████████████████████████████████████████████████████████████| (done) 100%\n",
      "xgboost prediction progress: |███████████████████████████████████████████████████| (done) 100%\n"
     ]
    },
    {
     "name": "stderr",
     "output_type": "stream",
     "text": [
      "dist_matrix: 100%|##########| 20/20 [00:00<00:00, 158.95it/s]\n",
      "synth_matrix: 100%|##########| 20/20 [00:00<00:00, 175.62it/s]\n",
      "r_index: 100%|##########| 10/10 [00:00<00:00, 495.79it/s]\n",
      "dist_matrix: 100%|##########| 32/32 [00:00<00:00, 91.46it/s]\n",
      "synth_matrix: 100%|##########| 32/32 [00:00<00:00, 445.34it/s]\n",
      "r_index: 100%|##########| 27/27 [00:00<00:00, 452.62it/s]\n"
     ]
    },
    {
     "name": "stdout",
     "output_type": "stream",
     "text": [
      "Parse progress: |████████████████████████████████████████████████████████████████| (done) 100%\n",
      "xgboost Model Build progress: |"
     ]
    },
    {
     "name": "stderr",
     "output_type": "stream",
     "text": [
      "/Users/gaskell/miniforge_x86_64/envs/ADPred_new/lib/python3.10/site-packages/h2o/estimators/estimator_base.py:208: RuntimeWarning: Dropping bad and constant columns: [pres_imuran, pres_minocin, init_group, num_tnf, num_nontnf]\n",
      "  warnings.warn(mesg[\"message\"], RuntimeWarning)\n"
     ]
    },
    {
     "name": "stdout",
     "output_type": "stream",
     "text": [
      "██████████████████████████████████████████████████| (done) 100%\n",
      "Parse progress: |████████████████████████████████████████████████████████████████| (done) 100%\n",
      "xgboost prediction progress: |███████████████████████████████████████████████████| (done) 100%\n",
      "Parse progress: |████████████████████████████████████████████████████████████████| (done) 100%\n",
      "xgboost prediction progress: |███████████████████████████████████████████████████| (done) 100%\n"
     ]
    },
    {
     "name": "stderr",
     "output_type": "stream",
     "text": [
      "dist_matrix: 100%|##########| 22/22 [00:00<00:00, 145.11it/s]\n",
      "synth_matrix: 100%|##########| 22/22 [00:00<00:00, 172.13it/s]\n",
      "r_index: 100%|##########| 3/3 [00:00<00:00, 391.95it/s]\n",
      "dist_matrix: 100%|##########| 28/28 [00:00<00:00, 103.78it/s]\n",
      "synth_matrix: 100%|##########| 28/28 [00:00<00:00, 236.68it/s]\n",
      "r_index: 100%|##########| 7/7 [00:00<00:00, 413.76it/s]\n"
     ]
    },
    {
     "name": "stdout",
     "output_type": "stream",
     "text": [
      "Parse progress: |████████████████████████████████████████████████████████████████| (done) 100%\n",
      "xgboost Model Build progress: |"
     ]
    },
    {
     "name": "stderr",
     "output_type": "stream",
     "text": [
      "/Users/gaskell/miniforge_x86_64/envs/ADPred_new/lib/python3.10/site-packages/h2o/estimators/estimator_base.py:208: RuntimeWarning: Dropping bad and constant columns: [pres_imuran, pres_minocin, init_group, num_tnf, num_nontnf]\n",
      "  warnings.warn(mesg[\"message\"], RuntimeWarning)\n"
     ]
    },
    {
     "name": "stdout",
     "output_type": "stream",
     "text": [
      "██████████████████████████████████████████████████| (done) 100%\n",
      "Parse progress: |████████████████████████████████████████████████████████████████| (done) 100%\n",
      "xgboost prediction progress: |███████████████████████████████████████████████████| (done) 100%\n",
      "Parse progress: |████████████████████████████████████████████████████████████████| (done) 100%\n",
      "xgboost prediction progress: |███████████████████████████████████████████████████| (done) 100%\n"
     ]
    },
    {
     "name": "stderr",
     "output_type": "stream",
     "text": [
      "dist_matrix: 100%|##########| 28/28 [00:00<00:00, 104.26it/s]\n",
      "synth_matrix: 100%|##########| 28/28 [00:00<00:00, 157.43it/s]\n",
      "r_index: 100%|##########| 25/25 [00:00<00:00, 476.56it/s]"
     ]
    },
    {
     "name": "stdout",
     "output_type": "stream",
     "text": [
      "Parse progress: |"
     ]
    },
    {
     "name": "stderr",
     "output_type": "stream",
     "text": [
      "\n"
     ]
    },
    {
     "name": "stdout",
     "output_type": "stream",
     "text": [
      "████████████████████████████████████████████████████████████████| (done) 100%\n",
      "xgboost Model Build progress: |"
     ]
    },
    {
     "name": "stderr",
     "output_type": "stream",
     "text": [
      "/Users/gaskell/miniforge_x86_64/envs/ADPred_new/lib/python3.10/site-packages/h2o/estimators/estimator_base.py:208: RuntimeWarning: Dropping bad and constant columns: [hxchf, pres_imuran, pres_minocin, init_group, num_tnf, num_nontnf, hxtia]\n",
      "  warnings.warn(mesg[\"message\"], RuntimeWarning)\n"
     ]
    },
    {
     "name": "stdout",
     "output_type": "stream",
     "text": [
      "██████████████████████████████████████████████████| (done) 100%\n",
      "Parse progress: |████████████████████████████████████████████████████████████████| (done) 100%\n",
      "xgboost prediction progress: |███████████████████████████████████████████████████| (done) 100%\n",
      "Parse progress: |████████████████████████████████████████████████████████████████| (done) 100%\n",
      "xgboost prediction progress: |███████████████████████████████████████████████████| (done) 100%\n"
     ]
    },
    {
     "name": "stderr",
     "output_type": "stream",
     "text": [
      "dist_matrix: 100%|##########| 22/22 [00:00<00:00, 134.12it/s]\n",
      "synth_matrix: 100%|##########| 22/22 [00:00<00:00, 163.04it/s]\n",
      "r_index: 100%|##########| 3/3 [00:00<00:00, 504.87it/s]\n",
      "dist_matrix: 100%|##########| 32/32 [00:00<00:00, 87.33it/s]\n",
      "synth_matrix: 100%|##########| 32/32 [00:00<00:00, 422.18it/s]\n",
      "r_index: 100%|##########| 27/27 [00:00<00:00, 485.50it/s]\n"
     ]
    },
    {
     "name": "stdout",
     "output_type": "stream",
     "text": [
      "Parse progress: |████████████████████████████████████████████████████████████████| (done) 100%\n",
      "xgboost Model Build progress: |"
     ]
    },
    {
     "name": "stderr",
     "output_type": "stream",
     "text": [
      "/Users/gaskell/miniforge_x86_64/envs/ADPred_new/lib/python3.10/site-packages/h2o/estimators/estimator_base.py:208: RuntimeWarning: Dropping bad and constant columns: [hxchf, pres_imuran, pres_minocin, init_group, num_tnf, num_nontnf]\n",
      "  warnings.warn(mesg[\"message\"], RuntimeWarning)\n"
     ]
    },
    {
     "name": "stdout",
     "output_type": "stream",
     "text": [
      "██████████████████████████████████████████████████| (done) 100%\n",
      "Parse progress: |████████████████████████████████████████████████████████████████| (done) 100%\n",
      "xgboost prediction progress: |███████████████████████████████████████████████████| (done) 100%\n",
      "Parse progress: |████████████████████████████████████████████████████████████████| (done) 100%\n",
      "xgboost prediction progress: |███████████████████████████████████████████████████| (done) 100%\n"
     ]
    },
    {
     "name": "stderr",
     "output_type": "stream",
     "text": [
      "dist_matrix: 100%|##########| 22/22 [00:00<00:00, 142.76it/s]\n",
      "synth_matrix: 100%|##########| 22/22 [00:00<00:00, 160.42it/s]\n",
      "r_index: 100%|##########| 3/3 [00:00<00:00, 403.67it/s]\n",
      "dist_matrix: 100%|##########| 33/33 [00:00<00:00, 65.93it/s]\n",
      "synth_matrix: 100%|##########| 33/33 [00:00<00:00, 253.47it/s]\n",
      "r_index: 100%|##########| 25/25 [00:00<00:00, 428.51it/s]\n"
     ]
    },
    {
     "name": "stdout",
     "output_type": "stream",
     "text": [
      "Parse progress: |████████████████████████████████████████████████████████████████| (done) 100%\n",
      "xgboost Model Build progress: |"
     ]
    },
    {
     "name": "stderr",
     "output_type": "stream",
     "text": [
      "/Users/gaskell/miniforge_x86_64/envs/ADPred_new/lib/python3.10/site-packages/h2o/estimators/estimator_base.py:208: RuntimeWarning: Dropping bad and constant columns: [pres_imuran, pres_minocin, init_group, num_tnf, num_nontnf, hxtia]\n",
      "  warnings.warn(mesg[\"message\"], RuntimeWarning)\n"
     ]
    },
    {
     "name": "stdout",
     "output_type": "stream",
     "text": [
      "██████████████████████████████████████████████████| (done) 100%\n",
      "Parse progress: |████████████████████████████████████████████████████████████████| (done) 100%\n",
      "xgboost prediction progress: |███████████████████████████████████████████████████| (done) 100%\n",
      "Parse progress: |████████████████████████████████████████████████████████████████| (done) 100%\n",
      "xgboost prediction progress: |███████████████████████████████████████████████████| (done) 100%\n"
     ]
    },
    {
     "name": "stderr",
     "output_type": "stream",
     "text": [
      "dist_matrix: 100%|##########| 24/24 [00:00<00:00, 127.05it/s]\n",
      "synth_matrix: 100%|##########| 24/24 [00:00<00:00, 271.75it/s]\n",
      "r_index: 100%|##########| 18/18 [00:00<00:00, 492.20it/s]\n",
      "dist_matrix: 100%|##########| 33/33 [00:00<00:00, 89.11it/s]\n",
      "synth_matrix: 100%|##########| 33/33 [00:00<00:00, 503.94it/s]\n",
      "r_index: 100%|##########| 25/25 [00:00<00:00, 480.18it/s]\n"
     ]
    },
    {
     "name": "stdout",
     "output_type": "stream",
     "text": [
      "Parse progress: |████████████████████████████████████████████████████████████████| (done) 100%\n",
      "xgboost Model Build progress: |"
     ]
    },
    {
     "name": "stderr",
     "output_type": "stream",
     "text": [
      "/Users/gaskell/miniforge_x86_64/envs/ADPred_new/lib/python3.10/site-packages/h2o/estimators/estimator_base.py:208: RuntimeWarning: Dropping bad and constant columns: [pres_imuran, pres_minocin, init_group, num_tnf, num_nontnf, hxtia]\n",
      "  warnings.warn(mesg[\"message\"], RuntimeWarning)\n"
     ]
    },
    {
     "name": "stdout",
     "output_type": "stream",
     "text": [
      "██████████████████████████████████████████████████| (done) 100%\n",
      "Parse progress: |████████████████████████████████████████████████████████████████| (done) 100%\n",
      "xgboost prediction progress: |███████████████████████████████████████████████████| (done) 100%\n",
      "Parse progress: |████████████████████████████████████████████████████████████████| (done) 100%\n",
      "xgboost prediction progress: |███████████████████████████████████████████████████| (done) 100%\n",
      "Parse progress: |████████████████████████████████████████████████████████████████| (done) 100%\n",
      "xgboost prediction progress: |███████████████████████████████████████████████████| (done) 100%\n"
     ]
    },
    {
     "name": "stderr",
     "output_type": "stream",
     "text": [
      "dist_matrix: 100%|##########| 22/22 [00:00<00:00, 139.03it/s]\n",
      "synth_matrix: 100%|##########| 22/22 [00:00<00:00, 168.13it/s]\n",
      "r_index: 100%|##########| 3/3 [00:00<00:00, 432.79it/s]\n",
      "dist_matrix: 100%|##########| 33/33 [00:00<00:00, 87.28it/s]\n",
      "synth_matrix: 100%|##########| 33/33 [00:00<00:00, 469.79it/s]\n",
      "r_index: 100%|##########| 25/25 [00:00<00:00, 475.27it/s]\n"
     ]
    },
    {
     "name": "stdout",
     "output_type": "stream",
     "text": [
      "Parse progress: |████████████████████████████████████████████████████████████████| (done) 100%\n",
      "gbm Model Build progress: |"
     ]
    },
    {
     "name": "stderr",
     "output_type": "stream",
     "text": [
      "/Users/gaskell/miniforge_x86_64/envs/ADPred_new/lib/python3.10/site-packages/h2o/estimators/estimator_base.py:208: RuntimeWarning: Dropping bad and constant columns: [pres_imuran, pres_minocin, init_group, num_tnf, num_nontnf, hxtia]\n",
      "  warnings.warn(mesg[\"message\"], RuntimeWarning)\n"
     ]
    },
    {
     "name": "stdout",
     "output_type": "stream",
     "text": [
      "██████████████████████████████████████████████████████| (done) 100%\n",
      "Parse progress: |████████████████████████████████████████████████████████████████| (done) 100%\n",
      "gbm prediction progress: |███████████████████████████████████████████████████████| (done) 100%\n",
      "Parse progress: |████████████████████████████████████████████████████████████████| (done) 100%\n",
      "gbm prediction progress: |███████████████████████████████████████████████████████| (done) 100%\n"
     ]
    },
    {
     "name": "stderr",
     "output_type": "stream",
     "text": [
      "dist_matrix: 100%|##########| 21/21 [00:00<00:00, 143.66it/s]\n",
      "synth_matrix: 100%|##########| 21/21 [00:00<00:00, 134.82it/s]\n",
      "r_index: 100%|##########| 6/6 [00:00<00:00, 354.44it/s]\n",
      "dist_matrix: 100%|##########| 33/33 [00:00<00:00, 78.22it/s]\n",
      "synth_matrix: 100%|##########| 33/33 [00:00<00:00, 257.48it/s]\n",
      "r_index: 100%|##########| 25/25 [00:00<00:00, 193.66it/s]\n"
     ]
    },
    {
     "name": "stdout",
     "output_type": "stream",
     "text": [
      "Parse progress: |████████████████████████████████████████████████████████████████| (done) 100%\n",
      "gbm Model Build progress: |"
     ]
    },
    {
     "name": "stderr",
     "output_type": "stream",
     "text": [
      "/Users/gaskell/miniforge_x86_64/envs/ADPred_new/lib/python3.10/site-packages/h2o/estimators/estimator_base.py:208: RuntimeWarning: Dropping bad and constant columns: [pres_imuran, pres_minocin, init_group, num_tnf, num_nontnf]\n",
      "  warnings.warn(mesg[\"message\"], RuntimeWarning)\n"
     ]
    },
    {
     "name": "stdout",
     "output_type": "stream",
     "text": [
      "██████████████████████████████████████████████████████| (done) 100%\n",
      "Parse progress: |████████████████████████████████████████████████████████████████| (done) 100%\n",
      "gbm prediction progress: |███████████████████████████████████████████████████████| (done) 100%\n",
      "Parse progress: |████████████████████████████████████████████████████████████████| (done) 100%\n",
      "gbm prediction progress: |███████████████████████████████████████████████████████| (done) 100%\n"
     ]
    },
    {
     "name": "stderr",
     "output_type": "stream",
     "text": [
      "dist_matrix: 100%|##########| 21/21 [00:00<00:00, 151.47it/s]\n",
      "synth_matrix: 100%|##########| 21/21 [00:00<00:00, 174.49it/s]\n",
      "r_index: 100%|##########| 6/6 [00:00<00:00, 431.62it/s]\n",
      "dist_matrix: 100%|##########| 32/32 [00:00<00:00, 89.97it/s]\n",
      "synth_matrix: 100%|##########| 32/32 [00:00<00:00, 487.49it/s]\n",
      "r_index: 100%|##########| 27/27 [00:00<00:00, 440.70it/s]\n"
     ]
    },
    {
     "name": "stdout",
     "output_type": "stream",
     "text": [
      "Parse progress: |████████████████████████████████████████████████████████████████| (done) 100%\n",
      "gbm Model Build progress: |"
     ]
    },
    {
     "name": "stderr",
     "output_type": "stream",
     "text": [
      "/Users/gaskell/miniforge_x86_64/envs/ADPred_new/lib/python3.10/site-packages/h2o/estimators/estimator_base.py:208: RuntimeWarning: Dropping bad and constant columns: [pres_imuran, pres_minocin, init_group, num_tnf, num_nontnf]\n",
      "  warnings.warn(mesg[\"message\"], RuntimeWarning)\n"
     ]
    },
    {
     "name": "stdout",
     "output_type": "stream",
     "text": [
      "██████████████████████████████████████████████████████| (done) 100%\n",
      "Parse progress: |████████████████████████████████████████████████████████████████| (done) 100%\n",
      "gbm prediction progress: |███████████████████████████████████████████████████████| (done) 100%\n",
      "Parse progress: |████████████████████████████████████████████████████████████████| (done) 100%\n",
      "gbm prediction progress: |███████████████████████████████████████████████████████| (done) 100%\n"
     ]
    },
    {
     "name": "stderr",
     "output_type": "stream",
     "text": [
      "dist_matrix: 100%|##########| 24/24 [00:00<00:00, 132.31it/s]\n",
      "synth_matrix: 100%|##########| 24/24 [00:00<00:00, 256.55it/s]\n",
      "r_index: 100%|##########| 18/18 [00:00<00:00, 526.80it/s]\n",
      "dist_matrix: 100%|##########| 31/31 [00:00<00:00, 93.95it/s]\n",
      "synth_matrix: 100%|##########| 31/31 [00:00<00:00, 493.79it/s]\n",
      "r_index: 100%|##########| 29/29 [00:00<00:00, 469.45it/s]"
     ]
    },
    {
     "name": "stdout",
     "output_type": "stream",
     "text": [
      "Parse progress: |"
     ]
    },
    {
     "name": "stderr",
     "output_type": "stream",
     "text": [
      "\n"
     ]
    },
    {
     "name": "stdout",
     "output_type": "stream",
     "text": [
      "████████████████████████████████████████████████████████████████| (done) 100%\n",
      "gbm Model Build progress: |"
     ]
    },
    {
     "name": "stderr",
     "output_type": "stream",
     "text": [
      "/Users/gaskell/miniforge_x86_64/envs/ADPred_new/lib/python3.10/site-packages/h2o/estimators/estimator_base.py:208: RuntimeWarning: Dropping bad and constant columns: [hxchf, pres_imuran, pres_minocin, init_group, num_tnf, num_nontnf]\n",
      "  warnings.warn(mesg[\"message\"], RuntimeWarning)\n"
     ]
    },
    {
     "name": "stdout",
     "output_type": "stream",
     "text": [
      "██████████████████████████████████████████████████████| (done) 100%\n",
      "Parse progress: |████████████████████████████████████████████████████████████████| (done) 100%\n",
      "gbm prediction progress: |███████████████████████████████████████████████████████| (done) 100%\n",
      "Parse progress: |████████████████████████████████████████████████████████████████| (done) 100%\n",
      "gbm prediction progress: |███████████████████████████████████████████████████████| (done) 100%\n"
     ]
    },
    {
     "name": "stderr",
     "output_type": "stream",
     "text": [
      "dist_matrix: 100%|##########| 28/28 [00:00<00:00, 112.22it/s]\n",
      "synth_matrix: 100%|##########| 28/28 [00:00<00:00, 169.67it/s]\n",
      "r_index: 100%|##########| 25/25 [00:00<00:00, 481.24it/s]"
     ]
    },
    {
     "name": "stdout",
     "output_type": "stream",
     "text": [
      "Parse progress: |"
     ]
    },
    {
     "name": "stderr",
     "output_type": "stream",
     "text": [
      "\n"
     ]
    },
    {
     "name": "stdout",
     "output_type": "stream",
     "text": [
      "████████████████████████████████████████████████████████████████| (done) 100%\n",
      "gbm Model Build progress: |"
     ]
    },
    {
     "name": "stderr",
     "output_type": "stream",
     "text": [
      "/Users/gaskell/miniforge_x86_64/envs/ADPred_new/lib/python3.10/site-packages/h2o/estimators/estimator_base.py:208: RuntimeWarning: Dropping bad and constant columns: [pres_imuran, pres_minocin, init_group, num_tnf, num_nontnf, hxstroke, hxtia, hxunstab_ang]\n",
      "  warnings.warn(mesg[\"message\"], RuntimeWarning)\n"
     ]
    },
    {
     "name": "stdout",
     "output_type": "stream",
     "text": [
      "██████████████████████████████████████████████████████| (done) 100%\n",
      "Parse progress: |████████████████████████████████████████████████████████████████| (done) 100%\n",
      "gbm prediction progress: |███████████████████████████████████████████████████████| (done) 100%\n",
      "Parse progress: |████████████████████████████████████████████████████████████████| (done) 100%\n",
      "gbm prediction progress: |███████████████████████████████████████████████████████| (done) 100%\n"
     ]
    },
    {
     "name": "stderr",
     "output_type": "stream",
     "text": [
      "dist_matrix: 100%|##########| 27/27 [00:00<00:00, 117.00it/s]\n",
      "synth_matrix: 100%|##########| 27/27 [00:00<00:00, 249.64it/s]\n",
      "r_index: 100%|##########| 9/9 [00:00<00:00, 509.43it/s]\n",
      "dist_matrix: 100%|##########| 30/30 [00:00<00:00, 96.00it/s]\n",
      "synth_matrix: 100%|##########| 30/30 [00:00<00:00, 235.09it/s]"
     ]
    },
    {
     "name": "stdout",
     "output_type": "stream",
     "text": [
      "Parse progress: |"
     ]
    },
    {
     "name": "stderr",
     "output_type": "stream",
     "text": [
      "\n"
     ]
    },
    {
     "name": "stdout",
     "output_type": "stream",
     "text": [
      "████████████████████████████████████████████████████████████████| (done) 100%\n",
      "gbm Model Build progress: |"
     ]
    },
    {
     "name": "stderr",
     "output_type": "stream",
     "text": [
      "/Users/gaskell/miniforge_x86_64/envs/ADPred_new/lib/python3.10/site-packages/h2o/estimators/estimator_base.py:208: RuntimeWarning: Dropping bad and constant columns: [hxchf, pres_imuran, pres_minocin, init_group, num_tnf, num_nontnf]\n",
      "  warnings.warn(mesg[\"message\"], RuntimeWarning)\n"
     ]
    },
    {
     "name": "stdout",
     "output_type": "stream",
     "text": [
      "██████████████████████████████████████████████████████| (done) 100%\n",
      "Parse progress: |████████████████████████████████████████████████████████████████| (done) 100%\n",
      "gbm prediction progress: |███████████████████████████████████████████████████████| (done) 100%\n",
      "Parse progress: |████████████████████████████████████████████████████████████████| (done) 100%\n",
      "gbm prediction progress: |███████████████████████████████████████████████████████| (done) 100%\n"
     ]
    },
    {
     "name": "stderr",
     "output_type": "stream",
     "text": [
      "dist_matrix: 100%|##########| 22/22 [00:00<00:00, 143.07it/s]\n",
      "synth_matrix: 100%|##########| 22/22 [00:00<00:00, 167.00it/s]\n",
      "r_index: 100%|##########| 3/3 [00:00<00:00, 484.97it/s]\n",
      "dist_matrix: 100%|##########| 28/28 [00:00<00:00, 103.61it/s]\n",
      "synth_matrix: 100%|##########| 28/28 [00:00<00:00, 226.60it/s]\n",
      "r_index: 100%|##########| 7/7 [00:00<00:00, 466.32it/s]"
     ]
    },
    {
     "name": "stdout",
     "output_type": "stream",
     "text": [
      "Parse progress: |"
     ]
    },
    {
     "name": "stderr",
     "output_type": "stream",
     "text": [
      "\n"
     ]
    },
    {
     "name": "stdout",
     "output_type": "stream",
     "text": [
      "████████████████████████████████████████████████████████████████| (done) 100%\n",
      "gbm Model Build progress: |"
     ]
    },
    {
     "name": "stderr",
     "output_type": "stream",
     "text": [
      "/Users/gaskell/miniforge_x86_64/envs/ADPred_new/lib/python3.10/site-packages/h2o/estimators/estimator_base.py:208: RuntimeWarning: Dropping bad and constant columns: [hxchf, pres_imuran, pres_minocin, init_group, num_tnf, num_nontnf, hxtia]\n",
      "  warnings.warn(mesg[\"message\"], RuntimeWarning)\n"
     ]
    },
    {
     "name": "stdout",
     "output_type": "stream",
     "text": [
      "██████████████████████████████████████████████████████| (done) 100%\n",
      "Parse progress: |████████████████████████████████████████████████████████████████| (done) 100%\n",
      "gbm prediction progress: |███████████████████████████████████████████████████████| (done) 100%\n",
      "Parse progress: |████████████████████████████████████████████████████████████████| (done) 100%\n",
      "gbm prediction progress: |███████████████████████████████████████████████████████| (done) 100%\n"
     ]
    },
    {
     "name": "stderr",
     "output_type": "stream",
     "text": [
      "dist_matrix: 100%|##########| 22/22 [00:00<00:00, 145.63it/s]\n",
      "synth_matrix: 100%|##########| 22/22 [00:00<00:00, 165.88it/s]\n",
      "r_index: 100%|##########| 3/3 [00:00<00:00, 761.40it/s]\n",
      "dist_matrix: 100%|##########| 33/33 [00:00<00:00, 87.56it/s]\n",
      "synth_matrix: 100%|##########| 33/33 [00:00<00:00, 451.59it/s]\n",
      "r_index: 100%|##########| 25/25 [00:00<00:00, 439.01it/s]"
     ]
    },
    {
     "name": "stdout",
     "output_type": "stream",
     "text": [
      "Parse progress: |"
     ]
    },
    {
     "name": "stderr",
     "output_type": "stream",
     "text": [
      "\n"
     ]
    },
    {
     "name": "stdout",
     "output_type": "stream",
     "text": [
      "████████████████████████████████████████████████████████████████| (done) 100%\n",
      "gbm Model Build progress: |"
     ]
    },
    {
     "name": "stderr",
     "output_type": "stream",
     "text": [
      "/Users/gaskell/miniforge_x86_64/envs/ADPred_new/lib/python3.10/site-packages/h2o/estimators/estimator_base.py:208: RuntimeWarning: Dropping bad and constant columns: [hxchf, pres_imuran, pres_minocin, init_group, num_tnf, num_nontnf]\n",
      "  warnings.warn(mesg[\"message\"], RuntimeWarning)\n"
     ]
    },
    {
     "name": "stdout",
     "output_type": "stream",
     "text": [
      "██████████████████████████████████████████████████████| (done) 100%\n",
      "Parse progress: |████████████████████████████████████████████████████████████████| (done) 100%\n",
      "gbm prediction progress: |███████████████████████████████████████████████████████| (done) 100%\n",
      "Parse progress: |████████████████████████████████████████████████████████████████| (done) 100%\n",
      "gbm prediction progress: |███████████████████████████████████████████████████████| (done) 100%\n"
     ]
    },
    {
     "name": "stderr",
     "output_type": "stream",
     "text": [
      "dist_matrix: 100%|##########| 22/22 [00:00<00:00, 144.79it/s]\n",
      "synth_matrix: 100%|##########| 22/22 [00:00<00:00, 180.67it/s]\n",
      "r_index: 100%|##########| 3/3 [00:00<00:00, 521.83it/s]\n",
      "dist_matrix: 100%|##########| 29/29 [00:00<00:00, 100.19it/s]\n",
      "synth_matrix: 100%|##########| 29/29 [00:00<00:00, 224.38it/s]\n",
      "r_index: 100%|##########| 3/3 [00:00<00:00, 443.73it/s]"
     ]
    },
    {
     "name": "stdout",
     "output_type": "stream",
     "text": [
      "Parse progress: |"
     ]
    },
    {
     "name": "stderr",
     "output_type": "stream",
     "text": [
      "\n"
     ]
    },
    {
     "name": "stdout",
     "output_type": "stream",
     "text": [
      "████████████████████████████████████████████████████████████████| (done) 100%\n",
      "gbm Model Build progress: |"
     ]
    },
    {
     "name": "stderr",
     "output_type": "stream",
     "text": [
      "/Users/gaskell/miniforge_x86_64/envs/ADPred_new/lib/python3.10/site-packages/h2o/estimators/estimator_base.py:208: RuntimeWarning: Dropping bad and constant columns: [pres_imuran, pres_minocin, init_group, num_tnf, num_nontnf, hxtia]\n",
      "  warnings.warn(mesg[\"message\"], RuntimeWarning)\n"
     ]
    },
    {
     "name": "stdout",
     "output_type": "stream",
     "text": [
      "██████████████████████████████████████████████████████| (done) 100%\n",
      "Parse progress: |████████████████████████████████████████████████████████████████| (done) 100%\n",
      "gbm prediction progress: |███████████████████████████████████████████████████████| (done) 100%\n",
      "Parse progress: |████████████████████████████████████████████████████████████████| (done) 100%\n",
      "gbm prediction progress: |███████████████████████████████████████████████████████| (done) 100%\n"
     ]
    },
    {
     "name": "stderr",
     "output_type": "stream",
     "text": [
      "dist_matrix: 100%|##########| 22/22 [00:00<00:00, 147.53it/s]\n",
      "synth_matrix: 100%|##########| 22/22 [00:00<00:00, 190.82it/s]\n",
      "r_index: 100%|##########| 3/3 [00:00<00:00, 411.87it/s]\n",
      "dist_matrix: 100%|##########| 30/30 [00:00<00:00, 96.67it/s]\n",
      "synth_matrix: 100%|##########| 30/30 [00:00<00:00, 214.42it/s]"
     ]
    },
    {
     "name": "stdout",
     "output_type": "stream",
     "text": [
      "Parse progress: |"
     ]
    },
    {
     "name": "stderr",
     "output_type": "stream",
     "text": [
      "\n"
     ]
    },
    {
     "name": "stdout",
     "output_type": "stream",
     "text": [
      "████████████████████████████████████████████████████████████████| (done) 100%\n",
      "gbm Model Build progress: |"
     ]
    },
    {
     "name": "stderr",
     "output_type": "stream",
     "text": [
      "/Users/gaskell/miniforge_x86_64/envs/ADPred_new/lib/python3.10/site-packages/h2o/estimators/estimator_base.py:208: RuntimeWarning: Dropping bad and constant columns: [hxchf, pres_imuran, pres_minocin, init_group, num_tnf, num_nontnf, hxtia]\n",
      "  warnings.warn(mesg[\"message\"], RuntimeWarning)\n"
     ]
    },
    {
     "name": "stdout",
     "output_type": "stream",
     "text": [
      "██████████████████████████████████████████████████████| (done) 100%\n",
      "Parse progress: |████████████████████████████████████████████████████████████████| (done) 100%\n",
      "gbm prediction progress: |███████████████████████████████████████████████████████| (done) 100%\n",
      "Parse progress: |████████████████████████████████████████████████████████████████| (done) 100%\n",
      "gbm prediction progress: |███████████████████████████████████████████████████████| (done) 100%\n"
     ]
    },
    {
     "name": "stderr",
     "output_type": "stream",
     "text": [
      "dist_matrix: 100%|##########| 22/22 [00:00<00:00, 144.20it/s]\n",
      "synth_matrix: 100%|##########| 22/22 [00:00<00:00, 171.39it/s]\n",
      "r_index: 100%|##########| 3/3 [00:00<00:00, 600.73it/s]\n",
      "dist_matrix: 100%|##########| 33/33 [00:00<00:00, 87.61it/s]\n",
      "synth_matrix: 100%|##########| 33/33 [00:00<00:00, 445.65it/s]\n",
      "r_index: 100%|##########| 25/25 [00:00<00:00, 413.30it/s]"
     ]
    },
    {
     "name": "stdout",
     "output_type": "stream",
     "text": [
      "Parse progress: |"
     ]
    },
    {
     "name": "stderr",
     "output_type": "stream",
     "text": [
      "\n"
     ]
    },
    {
     "name": "stdout",
     "output_type": "stream",
     "text": [
      "████████████████████████████████████████████████████████████████| (done) 100%\n",
      "gbm Model Build progress: |"
     ]
    },
    {
     "name": "stderr",
     "output_type": "stream",
     "text": [
      "/Users/gaskell/miniforge_x86_64/envs/ADPred_new/lib/python3.10/site-packages/h2o/estimators/estimator_base.py:208: RuntimeWarning: Dropping bad and constant columns: [pres_imuran, pres_minocin, init_group, num_tnf, num_nontnf, hxtia]\n",
      "  warnings.warn(mesg[\"message\"], RuntimeWarning)\n"
     ]
    },
    {
     "name": "stdout",
     "output_type": "stream",
     "text": [
      "██████████████████████████████████████████████████████| (done) 100%\n",
      "Parse progress: |████████████████████████████████████████████████████████████████| (done) 100%\n",
      "gbm prediction progress: |███████████████████████████████████████████████████████| (done) 100%\n",
      "Parse progress: |████████████████████████████████████████████████████████████████| (done) 100%\n",
      "gbm prediction progress: |███████████████████████████████████████████████████████| (done) 100%\n"
     ]
    },
    {
     "name": "stderr",
     "output_type": "stream",
     "text": [
      "dist_matrix: 100%|##########| 24/24 [00:00<00:00, 130.71it/s]\n",
      "synth_matrix: 100%|##########| 24/24 [00:00<00:00, 251.80it/s]\n",
      "r_index: 100%|##########| 18/18 [00:00<00:00, 491.54it/s]\n",
      "dist_matrix: 100%|##########| 30/30 [00:00<00:00, 99.14it/s]\n",
      "synth_matrix: 100%|##########| 30/30 [00:00<00:00, 235.25it/s]"
     ]
    },
    {
     "name": "stdout",
     "output_type": "stream",
     "text": [
      "Parse progress: |"
     ]
    },
    {
     "name": "stderr",
     "output_type": "stream",
     "text": [
      "\n"
     ]
    },
    {
     "name": "stdout",
     "output_type": "stream",
     "text": [
      "████████████████████████████████████████████████████████████████| (done) 100%\n",
      "gbm Model Build progress: |"
     ]
    },
    {
     "name": "stderr",
     "output_type": "stream",
     "text": [
      "/Users/gaskell/miniforge_x86_64/envs/ADPred_new/lib/python3.10/site-packages/h2o/estimators/estimator_base.py:208: RuntimeWarning: Dropping bad and constant columns: [hxchf, pres_imuran, pres_minocin, init_group, num_tnf, num_nontnf, hxunstab_ang]\n",
      "  warnings.warn(mesg[\"message\"], RuntimeWarning)\n"
     ]
    },
    {
     "name": "stdout",
     "output_type": "stream",
     "text": [
      "██████████████████████████████████████████████████████| (done) 100%\n",
      "Parse progress: |████████████████████████████████████████████████████████████████| (done) 100%\n",
      "gbm prediction progress: |███████████████████████████████████████████████████████| (done) 100%\n",
      "Parse progress: |████████████████████████████████████████████████████████████████| (done) 100%\n",
      "gbm prediction progress: |███████████████████████████████████████████████████████| (done) 100%\n"
     ]
    },
    {
     "name": "stderr",
     "output_type": "stream",
     "text": [
      "dist_matrix: 100%|##########| 20/20 [00:00<00:00, 157.49it/s]\n",
      "synth_matrix: 100%|##########| 20/20 [00:00<00:00, 165.70it/s]\n",
      "r_index: 100%|##########| 10/10 [00:00<00:00, 493.31it/s]\n",
      "dist_matrix: 100%|##########| 32/32 [00:00<00:00, 89.80it/s]\n",
      "synth_matrix: 100%|##########| 32/32 [00:00<00:00, 463.91it/s]\n",
      "r_index: 100%|##########| 27/27 [00:00<00:00, 473.50it/s]\n"
     ]
    },
    {
     "name": "stdout",
     "output_type": "stream",
     "text": [
      "Parse progress: |████████████████████████████████████████████████████████████████| (done) 100%\n",
      "gbm Model Build progress: |"
     ]
    },
    {
     "name": "stderr",
     "output_type": "stream",
     "text": [
      "/Users/gaskell/miniforge_x86_64/envs/ADPred_new/lib/python3.10/site-packages/h2o/estimators/estimator_base.py:208: RuntimeWarning: Dropping bad and constant columns: [hxchf, pres_imuran, pres_minocin, init_group, num_tnf, num_nontnf]\n",
      "  warnings.warn(mesg[\"message\"], RuntimeWarning)\n"
     ]
    },
    {
     "name": "stdout",
     "output_type": "stream",
     "text": [
      "██████████████████████████████████████████████████████| (done) 100%\n",
      "Parse progress: |████████████████████████████████████████████████████████████████| (done) 100%\n",
      "gbm prediction progress: |███████████████████████████████████████████████████████| (done) 100%\n",
      "Parse progress: |████████████████████████████████████████████████████████████████| (done) 100%\n",
      "gbm prediction progress: |███████████████████████████████████████████████████████| (done) 100%\n"
     ]
    },
    {
     "name": "stderr",
     "output_type": "stream",
     "text": [
      "dist_matrix: 100%|##########| 21/21 [00:00<00:00, 152.89it/s]\n",
      "synth_matrix: 100%|##########| 21/21 [00:00<00:00, 160.66it/s]\n",
      "r_index: 100%|##########| 6/6 [00:00<00:00, 658.03it/s]\n",
      "dist_matrix: 100%|##########| 28/28 [00:00<00:00, 105.16it/s]\n",
      "synth_matrix: 100%|##########| 28/28 [00:00<00:00, 216.54it/s]\n",
      "r_index: 100%|##########| 7/7 [00:00<00:00, 379.78it/s]"
     ]
    },
    {
     "name": "stdout",
     "output_type": "stream",
     "text": [
      "Parse progress: |"
     ]
    },
    {
     "name": "stderr",
     "output_type": "stream",
     "text": [
      "\n"
     ]
    },
    {
     "name": "stdout",
     "output_type": "stream",
     "text": [
      "████████████████████████████████████████████████████████████████| (done) 100%\n",
      "gbm Model Build progress: |"
     ]
    },
    {
     "name": "stderr",
     "output_type": "stream",
     "text": [
      "/Users/gaskell/miniforge_x86_64/envs/ADPred_new/lib/python3.10/site-packages/h2o/estimators/estimator_base.py:208: RuntimeWarning: Dropping bad and constant columns: [hxchf, pres_imuran, pres_minocin, init_group, num_tnf, num_nontnf]\n",
      "  warnings.warn(mesg[\"message\"], RuntimeWarning)\n"
     ]
    },
    {
     "name": "stdout",
     "output_type": "stream",
     "text": [
      "██████████████████████████████████████████████████████| (done) 100%\n",
      "Parse progress: |████████████████████████████████████████████████████████████████| (done) 100%\n",
      "gbm prediction progress: |███████████████████████████████████████████████████████| (done) 100%\n",
      "Parse progress: |████████████████████████████████████████████████████████████████| (done) 100%\n",
      "gbm prediction progress: |███████████████████████████████████████████████████████| (done) 100%\n"
     ]
    },
    {
     "name": "stderr",
     "output_type": "stream",
     "text": [
      "dist_matrix: 100%|##########| 21/21 [00:00<00:00, 149.69it/s]\n",
      "synth_matrix: 100%|##########| 21/21 [00:00<00:00, 174.11it/s]\n",
      "r_index: 100%|##########| 6/6 [00:00<00:00, 495.83it/s]\n",
      "dist_matrix: 100%|##########| 32/32 [00:00<00:00, 90.93it/s]\n",
      "synth_matrix: 100%|##########| 32/32 [00:00<00:00, 441.08it/s]\n",
      "r_index: 100%|##########| 27/27 [00:00<00:00, 483.33it/s]\n"
     ]
    },
    {
     "name": "stdout",
     "output_type": "stream",
     "text": [
      "Parse progress: |████████████████████████████████████████████████████████████████| (done) 100%\n",
      "gbm Model Build progress: |"
     ]
    },
    {
     "name": "stderr",
     "output_type": "stream",
     "text": [
      "/Users/gaskell/miniforge_x86_64/envs/ADPred_new/lib/python3.10/site-packages/h2o/estimators/estimator_base.py:208: RuntimeWarning: Dropping bad and constant columns: [hxchf, pres_imuran, pres_minocin, init_group, num_tnf, num_nontnf, hxtia]\n",
      "  warnings.warn(mesg[\"message\"], RuntimeWarning)\n"
     ]
    },
    {
     "name": "stdout",
     "output_type": "stream",
     "text": [
      "██████████████████████████████████████████████████████| (done) 100%\n",
      "Parse progress: |████████████████████████████████████████████████████████████████| (done) 100%\n",
      "gbm prediction progress: |███████████████████████████████████████████████████████| (done) 100%\n",
      "Parse progress: |████████████████████████████████████████████████████████████████| (done) 100%\n",
      "gbm prediction progress: |███████████████████████████████████████████████████████| (done) 100%\n"
     ]
    },
    {
     "name": "stderr",
     "output_type": "stream",
     "text": [
      "dist_matrix: 100%|##########| 22/22 [00:00<00:00, 144.50it/s]\n",
      "synth_matrix: 100%|##########| 22/22 [00:00<00:00, 167.39it/s]\n",
      "r_index: 100%|##########| 3/3 [00:00<00:00, 402.37it/s]\n",
      "dist_matrix: 100%|##########| 31/31 [00:00<00:00, 92.84it/s]\n",
      "synth_matrix: 100%|##########| 31/31 [00:00<00:00, 459.78it/s]\n",
      "r_index: 100%|##########| 29/29 [00:00<00:00, 455.34it/s]"
     ]
    },
    {
     "name": "stdout",
     "output_type": "stream",
     "text": [
      "Parse progress: |"
     ]
    },
    {
     "name": "stderr",
     "output_type": "stream",
     "text": [
      "\n"
     ]
    },
    {
     "name": "stdout",
     "output_type": "stream",
     "text": [
      "████████████████████████████████████████████████████████████████| (done) 100%\n",
      "gbm Model Build progress: |"
     ]
    },
    {
     "name": "stderr",
     "output_type": "stream",
     "text": [
      "/Users/gaskell/miniforge_x86_64/envs/ADPred_new/lib/python3.10/site-packages/h2o/estimators/estimator_base.py:208: RuntimeWarning: Dropping bad and constant columns: [pres_imuran, pres_minocin, init_group, num_tnf, num_nontnf]\n",
      "  warnings.warn(mesg[\"message\"], RuntimeWarning)\n"
     ]
    },
    {
     "name": "stdout",
     "output_type": "stream",
     "text": [
      "██████████████████████████████████████████████████████| (done) 100%\n",
      "Parse progress: |████████████████████████████████████████████████████████████████| (done) 100%\n",
      "gbm prediction progress: |███████████████████████████████████████████████████████| (done) 100%\n",
      "Parse progress: |████████████████████████████████████████████████████████████████| (done) 100%\n",
      "gbm prediction progress: |███████████████████████████████████████████████████████| (done) 100%\n"
     ]
    },
    {
     "name": "stderr",
     "output_type": "stream",
     "text": [
      "dist_matrix: 100%|##########| 30/30 [00:00<00:00, 96.57it/s]\n",
      "synth_matrix: 100%|##########| 30/30 [00:00<00:00, 167.02it/s]\n",
      "r_index: 100%|##########| 16/16 [00:00<00:00, 451.40it/s]"
     ]
    },
    {
     "name": "stdout",
     "output_type": "stream",
     "text": [
      "Parse progress: |"
     ]
    },
    {
     "name": "stderr",
     "output_type": "stream",
     "text": [
      "\n"
     ]
    },
    {
     "name": "stdout",
     "output_type": "stream",
     "text": [
      "████████████████████████████████████████████████████████████████| (done) 100%\n",
      "gbm Model Build progress: |"
     ]
    },
    {
     "name": "stderr",
     "output_type": "stream",
     "text": [
      "/Users/gaskell/miniforge_x86_64/envs/ADPred_new/lib/python3.10/site-packages/h2o/estimators/estimator_base.py:208: RuntimeWarning: Dropping bad and constant columns: [hxchf, pres_imuran, pres_minocin, init_group, num_tnf, num_nontnf, hxtia]\n",
      "  warnings.warn(mesg[\"message\"], RuntimeWarning)\n"
     ]
    },
    {
     "name": "stdout",
     "output_type": "stream",
     "text": [
      "██████████████████████████████████████████████████████| (done) 100%\n",
      "Parse progress: |████████████████████████████████████████████████████████████████| (done) 100%\n",
      "gbm prediction progress: |███████████████████████████████████████████████████████| (done) 100%\n",
      "Parse progress: |████████████████████████████████████████████████████████████████| (done) 100%\n",
      "gbm prediction progress: |███████████████████████████████████████████████████████| (done) 100%\n"
     ]
    },
    {
     "name": "stderr",
     "output_type": "stream",
     "text": [
      "dist_matrix: 100%|##########| 21/21 [00:00<00:00, 150.50it/s]\n",
      "synth_matrix: 100%|##########| 21/21 [00:00<00:00, 170.80it/s]\n",
      "r_index: 100%|##########| 6/6 [00:00<00:00, 594.18it/s]\n",
      "dist_matrix: 100%|##########| 30/30 [00:00<00:00, 98.01it/s]\n",
      "synth_matrix: 100%|##########| 30/30 [00:00<00:00, 230.20it/s]"
     ]
    },
    {
     "name": "stdout",
     "output_type": "stream",
     "text": [
      "Parse progress: |"
     ]
    },
    {
     "name": "stderr",
     "output_type": "stream",
     "text": [
      "\n"
     ]
    },
    {
     "name": "stdout",
     "output_type": "stream",
     "text": [
      "████████████████████████████████████████████████████████████████| (done) 100%\n",
      "gbm Model Build progress: |"
     ]
    },
    {
     "name": "stderr",
     "output_type": "stream",
     "text": [
      "/Users/gaskell/miniforge_x86_64/envs/ADPred_new/lib/python3.10/site-packages/h2o/estimators/estimator_base.py:208: RuntimeWarning: Dropping bad and constant columns: [hxchf, pres_imuran, pres_minocin, init_group, num_tnf, num_nontnf, hxtia]\n",
      "  warnings.warn(mesg[\"message\"], RuntimeWarning)\n"
     ]
    },
    {
     "name": "stdout",
     "output_type": "stream",
     "text": [
      "██████████████████████████████████████████████████████| (done) 100%\n",
      "Parse progress: |████████████████████████████████████████████████████████████████| (done) 100%\n",
      "gbm prediction progress: |███████████████████████████████████████████████████████| (done) 100%\n",
      "Parse progress: |████████████████████████████████████████████████████████████████| (done) 100%\n",
      "gbm prediction progress: |███████████████████████████████████████████████████████| (done) 100%\n"
     ]
    },
    {
     "name": "stderr",
     "output_type": "stream",
     "text": [
      "dist_matrix: 100%|##########| 22/22 [00:00<00:00, 146.40it/s]\n",
      "synth_matrix: 100%|##########| 22/22 [00:00<00:00, 179.26it/s]\n",
      "r_index: 100%|##########| 3/3 [00:00<00:00, 454.13it/s]\n",
      "dist_matrix: 100%|##########| 29/29 [00:00<00:00, 102.41it/s]\n",
      "synth_matrix: 100%|##########| 29/29 [00:00<00:00, 229.30it/s]\n",
      "r_index: 100%|##########| 3/3 [00:00<00:00, 373.60it/s]"
     ]
    },
    {
     "name": "stdout",
     "output_type": "stream",
     "text": [
      "Parse progress: |"
     ]
    },
    {
     "name": "stderr",
     "output_type": "stream",
     "text": [
      "\n"
     ]
    },
    {
     "name": "stdout",
     "output_type": "stream",
     "text": [
      "████████████████████████████████████████████████████████████████| (done) 100%\n",
      "gbm Model Build progress: |"
     ]
    },
    {
     "name": "stderr",
     "output_type": "stream",
     "text": [
      "/Users/gaskell/miniforge_x86_64/envs/ADPred_new/lib/python3.10/site-packages/h2o/estimators/estimator_base.py:208: RuntimeWarning: Dropping bad and constant columns: [pres_imuran, pres_minocin, init_group, num_tnf, num_nontnf]\n",
      "  warnings.warn(mesg[\"message\"], RuntimeWarning)\n"
     ]
    },
    {
     "name": "stdout",
     "output_type": "stream",
     "text": [
      "██████████████████████████████████████████████████████| (done) 100%\n",
      "Parse progress: |████████████████████████████████████████████████████████████████| (done) 100%\n",
      "gbm prediction progress: |███████████████████████████████████████████████████████| (done) 100%\n",
      "Parse progress: |████████████████████████████████████████████████████████████████| (done) 100%\n",
      "gbm prediction progress: |███████████████████████████████████████████████████████| (done) 100%\n"
     ]
    },
    {
     "name": "stderr",
     "output_type": "stream",
     "text": [
      "dist_matrix: 100%|##########| 24/24 [00:00<00:00, 128.05it/s]\n",
      "synth_matrix: 100%|##########| 24/24 [00:00<00:00, 263.42it/s]\n",
      "r_index: 100%|##########| 18/18 [00:00<00:00, 509.65it/s]\n",
      "dist_matrix: 100%|##########| 33/33 [00:00<00:00, 87.83it/s]\n",
      "synth_matrix: 100%|##########| 33/33 [00:00<00:00, 502.24it/s]\n",
      "r_index: 100%|##########| 25/25 [00:00<00:00, 449.98it/s]\n"
     ]
    },
    {
     "name": "stdout",
     "output_type": "stream",
     "text": [
      "Parse progress: |████████████████████████████████████████████████████████████████| (done) 100%\n",
      "gbm Model Build progress: |"
     ]
    },
    {
     "name": "stderr",
     "output_type": "stream",
     "text": [
      "/Users/gaskell/miniforge_x86_64/envs/ADPred_new/lib/python3.10/site-packages/h2o/estimators/estimator_base.py:208: RuntimeWarning: Dropping bad and constant columns: [hxchf, pres_imuran, pres_minocin, init_group, num_tnf, num_nontnf, hxtia]\n",
      "  warnings.warn(mesg[\"message\"], RuntimeWarning)\n"
     ]
    },
    {
     "name": "stdout",
     "output_type": "stream",
     "text": [
      "██████████████████████████████████████████████████████| (done) 100%\n",
      "Parse progress: |████████████████████████████████████████████████████████████████| (done) 100%\n",
      "gbm prediction progress: |███████████████████████████████████████████████████████| (done) 100%\n",
      "Parse progress: |████████████████████████████████████████████████████████████████| (done) 100%\n",
      "gbm prediction progress: |███████████████████████████████████████████████████████| (done) 100%\n"
     ]
    },
    {
     "name": "stderr",
     "output_type": "stream",
     "text": [
      "dist_matrix: 100%|##########| 20/20 [00:00<00:00, 162.74it/s]\n",
      "synth_matrix: 100%|##########| 20/20 [00:00<00:00, 163.49it/s]\n",
      "r_index: 100%|##########| 10/10 [00:00<00:00, 490.96it/s]\n",
      "dist_matrix: 100%|##########| 30/30 [00:00<00:00, 99.69it/s]\n",
      "synth_matrix: 100%|##########| 30/30 [00:00<00:00, 240.20it/s]"
     ]
    },
    {
     "name": "stdout",
     "output_type": "stream",
     "text": [
      "Parse progress: |"
     ]
    },
    {
     "name": "stderr",
     "output_type": "stream",
     "text": [
      "\n"
     ]
    },
    {
     "name": "stdout",
     "output_type": "stream",
     "text": [
      "████████████████████████████████████████████████████████████████| (done) 100%\n",
      "gbm Model Build progress: |"
     ]
    },
    {
     "name": "stderr",
     "output_type": "stream",
     "text": [
      "/Users/gaskell/miniforge_x86_64/envs/ADPred_new/lib/python3.10/site-packages/h2o/estimators/estimator_base.py:208: RuntimeWarning: Dropping bad and constant columns: [pres_imuran, pres_minocin, init_group, num_tnf, num_nontnf, hxunstab_ang]\n",
      "  warnings.warn(mesg[\"message\"], RuntimeWarning)\n"
     ]
    },
    {
     "name": "stdout",
     "output_type": "stream",
     "text": [
      "██████████████████████████████████████████████████████| (done) 100%\n",
      "Parse progress: |████████████████████████████████████████████████████████████████| (done) 100%\n",
      "gbm prediction progress: |███████████████████████████████████████████████████████| (done) 100%\n",
      "Parse progress: |████████████████████████████████████████████████████████████████| (done) 100%\n",
      "gbm prediction progress: |███████████████████████████████████████████████████████| (done) 100%\n"
     ]
    },
    {
     "name": "stderr",
     "output_type": "stream",
     "text": [
      "dist_matrix: 100%|##########| 24/24 [00:00<00:00, 131.53it/s]\n",
      "synth_matrix: 100%|##########| 24/24 [00:00<00:00, 262.99it/s]\n",
      "r_index: 100%|##########| 18/18 [00:00<00:00, 510.68it/s]\n",
      "dist_matrix: 100%|##########| 31/31 [00:00<00:00, 96.48it/s]\n",
      "synth_matrix: 100%|##########| 31/31 [00:00<00:00, 498.71it/s]\n",
      "r_index: 100%|##########| 29/29 [00:00<00:00, 482.26it/s]"
     ]
    },
    {
     "name": "stdout",
     "output_type": "stream",
     "text": [
      "Parse progress: |"
     ]
    },
    {
     "name": "stderr",
     "output_type": "stream",
     "text": [
      "\n"
     ]
    },
    {
     "name": "stdout",
     "output_type": "stream",
     "text": [
      "████████████████████████████████████████████████████████████████| (done) 100%\n",
      "gbm Model Build progress: |"
     ]
    },
    {
     "name": "stderr",
     "output_type": "stream",
     "text": [
      "/Users/gaskell/miniforge_x86_64/envs/ADPred_new/lib/python3.10/site-packages/h2o/estimators/estimator_base.py:208: RuntimeWarning: Dropping bad and constant columns: [hxchf, pres_imuran, pres_minocin, init_group, num_tnf, num_nontnf, hxtia]\n",
      "  warnings.warn(mesg[\"message\"], RuntimeWarning)\n"
     ]
    },
    {
     "name": "stdout",
     "output_type": "stream",
     "text": [
      "██████████████████████████████████████████████████████| (done) 100%\n",
      "Parse progress: |████████████████████████████████████████████████████████████████| (done) 100%\n",
      "gbm prediction progress: |███████████████████████████████████████████████████████| (done) 100%\n",
      "Parse progress: |████████████████████████████████████████████████████████████████| (done) 100%\n",
      "gbm prediction progress: |███████████████████████████████████████████████████████| (done) 100%\n"
     ]
    },
    {
     "name": "stderr",
     "output_type": "stream",
     "text": [
      "dist_matrix: 100%|##########| 21/21 [00:00<00:00, 148.55it/s]\n",
      "synth_matrix: 100%|##########| 21/21 [00:00<00:00, 164.89it/s]\n",
      "r_index: 100%|##########| 6/6 [00:00<00:00, 592.12it/s]\n",
      "dist_matrix: 100%|##########| 32/32 [00:00<00:00, 90.03it/s]\n",
      "synth_matrix: 100%|##########| 32/32 [00:00<00:00, 448.09it/s]\n",
      "r_index: 100%|##########| 27/27 [00:00<00:00, 428.29it/s]\n"
     ]
    },
    {
     "name": "stdout",
     "output_type": "stream",
     "text": [
      "Parse progress: |████████████████████████████████████████████████████████████████| (done) 100%\n",
      "gbm Model Build progress: |"
     ]
    },
    {
     "name": "stderr",
     "output_type": "stream",
     "text": [
      "/Users/gaskell/miniforge_x86_64/envs/ADPred_new/lib/python3.10/site-packages/h2o/estimators/estimator_base.py:208: RuntimeWarning: Dropping bad and constant columns: [pres_imuran, pres_minocin, init_group, num_tnf, num_nontnf]\n",
      "  warnings.warn(mesg[\"message\"], RuntimeWarning)\n"
     ]
    },
    {
     "name": "stdout",
     "output_type": "stream",
     "text": [
      "██████████████████████████████████████████████████████| (done) 100%\n",
      "Parse progress: |████████████████████████████████████████████████████████████████| (done) 100%\n",
      "gbm prediction progress: |███████████████████████████████████████████████████████| (done) 100%\n",
      "Parse progress: |████████████████████████████████████████████████████████████████| (done) 100%\n",
      "gbm prediction progress: |███████████████████████████████████████████████████████| (done) 100%\n"
     ]
    },
    {
     "name": "stderr",
     "output_type": "stream",
     "text": [
      "dist_matrix: 100%|##########| 28/28 [00:00<00:00, 111.72it/s]\n",
      "synth_matrix: 100%|##########| 28/28 [00:00<00:00, 258.71it/s]\n",
      "r_index: 100%|##########| 7/7 [00:00<00:00, 467.00it/s]\n",
      "dist_matrix: 100%|##########| 31/31 [00:00<00:00, 92.15it/s]\n",
      "synth_matrix: 100%|##########| 31/31 [00:00<00:00, 454.33it/s]\n",
      "r_index: 100%|##########| 29/29 [00:00<00:00, 427.06it/s]"
     ]
    },
    {
     "name": "stdout",
     "output_type": "stream",
     "text": [
      "Parse progress: |"
     ]
    },
    {
     "name": "stderr",
     "output_type": "stream",
     "text": [
      "\n"
     ]
    },
    {
     "name": "stdout",
     "output_type": "stream",
     "text": [
      "████████████████████████████████████████████████████████████████| (done) 100%\n",
      "gbm Model Build progress: |"
     ]
    },
    {
     "name": "stderr",
     "output_type": "stream",
     "text": [
      "/Users/gaskell/miniforge_x86_64/envs/ADPred_new/lib/python3.10/site-packages/h2o/estimators/estimator_base.py:208: RuntimeWarning: Dropping bad and constant columns: [hxchf, pres_imuran, pres_minocin, init_group, num_tnf, num_nontnf, hxtia]\n",
      "  warnings.warn(mesg[\"message\"], RuntimeWarning)\n"
     ]
    },
    {
     "name": "stdout",
     "output_type": "stream",
     "text": [
      "██████████████████████████████████████████████████████| (done) 100%\n",
      "Parse progress: |████████████████████████████████████████████████████████████████| (done) 100%\n",
      "gbm prediction progress: |███████████████████████████████████████████████████████| (done) 100%\n",
      "Parse progress: |████████████████████████████████████████████████████████████████| (done) 100%\n",
      "gbm prediction progress: |███████████████████████████████████████████████████████| (done) 100%\n"
     ]
    },
    {
     "name": "stderr",
     "output_type": "stream",
     "text": [
      "dist_matrix: 100%|##########| 20/20 [00:00<00:00, 157.79it/s]\n",
      "synth_matrix: 100%|##########| 20/20 [00:00<00:00, 174.09it/s]\n",
      "r_index: 100%|##########| 10/10 [00:00<00:00, 513.35it/s]\n",
      "dist_matrix: 100%|##########| 32/32 [00:00<00:00, 87.93it/s]\n",
      "synth_matrix: 100%|##########| 32/32 [00:00<00:00, 470.83it/s]\n",
      "r_index: 100%|##########| 27/27 [00:00<00:00, 484.27it/s]\n"
     ]
    },
    {
     "name": "stdout",
     "output_type": "stream",
     "text": [
      "Parse progress: |████████████████████████████████████████████████████████████████| (done) 100%\n",
      "gbm Model Build progress: |"
     ]
    },
    {
     "name": "stderr",
     "output_type": "stream",
     "text": [
      "/Users/gaskell/miniforge_x86_64/envs/ADPred_new/lib/python3.10/site-packages/h2o/estimators/estimator_base.py:208: RuntimeWarning: Dropping bad and constant columns: [pres_imuran, pres_minocin, init_group, num_tnf, num_nontnf, hxtia]\n",
      "  warnings.warn(mesg[\"message\"], RuntimeWarning)\n"
     ]
    },
    {
     "name": "stdout",
     "output_type": "stream",
     "text": [
      "██████████████████████████████████████████████████████| (done) 100%\n",
      "Parse progress: |████████████████████████████████████████████████████████████████| (done) 100%\n",
      "gbm prediction progress: |███████████████████████████████████████████████████████| (done) 100%\n",
      "Parse progress: |████████████████████████████████████████████████████████████████| (done) 100%\n",
      "gbm prediction progress: |███████████████████████████████████████████████████████| (done) 100%\n"
     ]
    },
    {
     "name": "stderr",
     "output_type": "stream",
     "text": [
      "dist_matrix: 100%|##########| 22/22 [00:00<00:00, 140.67it/s]\n",
      "synth_matrix: 100%|##########| 22/22 [00:00<00:00, 163.15it/s]\n",
      "r_index: 100%|##########| 3/3 [00:00<00:00, 573.31it/s]\n",
      "dist_matrix: 100%|##########| 28/28 [00:00<00:00, 103.48it/s]\n",
      "synth_matrix: 100%|##########| 28/28 [00:00<00:00, 247.94it/s]\n",
      "r_index: 100%|##########| 7/7 [00:00<00:00, 474.26it/s]\n"
     ]
    },
    {
     "name": "stdout",
     "output_type": "stream",
     "text": [
      "Parse progress: |████████████████████████████████████████████████████████████████| (done) 100%\n",
      "gbm Model Build progress: |"
     ]
    },
    {
     "name": "stderr",
     "output_type": "stream",
     "text": [
      "/Users/gaskell/miniforge_x86_64/envs/ADPred_new/lib/python3.10/site-packages/h2o/estimators/estimator_base.py:208: RuntimeWarning: Dropping bad and constant columns: [hxchf, pres_imuran, pres_minocin, init_group, num_tnf, num_nontnf, hxtia]\n",
      "  warnings.warn(mesg[\"message\"], RuntimeWarning)\n"
     ]
    },
    {
     "name": "stdout",
     "output_type": "stream",
     "text": [
      "██████████████████████████████████████████████████████| (done) 100%\n",
      "Parse progress: |████████████████████████████████████████████████████████████████| (done) 100%\n",
      "gbm prediction progress: |███████████████████████████████████████████████████████| (done) 100%\n",
      "Parse progress: |████████████████████████████████████████████████████████████████| (done) 100%\n",
      "gbm prediction progress: |███████████████████████████████████████████████████████| (done) 100%\n"
     ]
    },
    {
     "name": "stderr",
     "output_type": "stream",
     "text": [
      "dist_matrix: 100%|##########| 28/28 [00:00<00:00, 103.66it/s]\n",
      "synth_matrix: 100%|##########| 28/28 [00:00<00:00, 156.43it/s]\n",
      "r_index: 100%|##########| 25/25 [00:00<00:00, 449.42it/s]"
     ]
    },
    {
     "name": "stdout",
     "output_type": "stream",
     "text": [
      "Parse progress: |"
     ]
    },
    {
     "name": "stderr",
     "output_type": "stream",
     "text": [
      "\n"
     ]
    },
    {
     "name": "stdout",
     "output_type": "stream",
     "text": [
      "████████████████████████████████████████████████████████████████| (done) 100%\n",
      "gbm Model Build progress: |"
     ]
    },
    {
     "name": "stderr",
     "output_type": "stream",
     "text": [
      "/Users/gaskell/miniforge_x86_64/envs/ADPred_new/lib/python3.10/site-packages/h2o/estimators/estimator_base.py:208: RuntimeWarning: Dropping bad and constant columns: [pres_imuran, pres_minocin, init_group, num_tnf, num_nontnf, hxtia]\n",
      "  warnings.warn(mesg[\"message\"], RuntimeWarning)\n"
     ]
    },
    {
     "name": "stdout",
     "output_type": "stream",
     "text": [
      "██████████████████████████████████████████████████████| (done) 100%\n",
      "Parse progress: |████████████████████████████████████████████████████████████████| (done) 100%\n",
      "gbm prediction progress: |███████████████████████████████████████████████████████| (done) 100%\n",
      "Parse progress: |████████████████████████████████████████████████████████████████| (done) 100%\n",
      "gbm prediction progress: |███████████████████████████████████████████████████████| (done) 100%\n"
     ]
    },
    {
     "name": "stderr",
     "output_type": "stream",
     "text": [
      "dist_matrix: 100%|##########| 22/22 [00:00<00:00, 141.87it/s]\n",
      "synth_matrix: 100%|##########| 22/22 [00:00<00:00, 172.81it/s]\n",
      "r_index: 100%|##########| 3/3 [00:00<00:00, 554.56it/s]\n",
      "dist_matrix: 100%|##########| 32/32 [00:00<00:00, 90.38it/s]\n",
      "synth_matrix: 100%|##########| 32/32 [00:00<00:00, 468.27it/s]\n",
      "r_index: 100%|##########| 27/27 [00:00<00:00, 453.88it/s]"
     ]
    },
    {
     "name": "stdout",
     "output_type": "stream",
     "text": [
      "Parse progress: |"
     ]
    },
    {
     "name": "stderr",
     "output_type": "stream",
     "text": [
      "\n"
     ]
    },
    {
     "name": "stdout",
     "output_type": "stream",
     "text": [
      "████████████████████████████████████████████████████████████████| (done) 100%\n",
      "gbm Model Build progress: |"
     ]
    },
    {
     "name": "stderr",
     "output_type": "stream",
     "text": [
      "/Users/gaskell/miniforge_x86_64/envs/ADPred_new/lib/python3.10/site-packages/h2o/estimators/estimator_base.py:208: RuntimeWarning: Dropping bad and constant columns: [hxchf, pres_imuran, pres_minocin, init_group, num_tnf, num_nontnf]\n",
      "  warnings.warn(mesg[\"message\"], RuntimeWarning)\n"
     ]
    },
    {
     "name": "stdout",
     "output_type": "stream",
     "text": [
      "██████████████████████████████████████████████████████| (done) 100%\n",
      "Parse progress: |████████████████████████████████████████████████████████████████| (done) 100%\n",
      "gbm prediction progress: |███████████████████████████████████████████████████████| (done) 100%\n",
      "Parse progress: |████████████████████████████████████████████████████████████████| (done) 100%\n",
      "gbm prediction progress: |███████████████████████████████████████████████████████| (done) 100%\n"
     ]
    },
    {
     "name": "stderr",
     "output_type": "stream",
     "text": [
      "dist_matrix: 100%|##########| 22/22 [00:00<00:00, 142.88it/s]\n",
      "synth_matrix: 100%|##########| 22/22 [00:00<00:00, 155.77it/s]\n",
      "r_index: 100%|##########| 3/3 [00:00<00:00, 382.30it/s]\n",
      "dist_matrix: 100%|##########| 33/33 [00:00<00:00, 78.51it/s]\n",
      "synth_matrix: 100%|##########| 33/33 [00:00<00:00, 398.40it/s]\n",
      "r_index: 100%|##########| 25/25 [00:00<00:00, 372.37it/s]\n"
     ]
    },
    {
     "name": "stdout",
     "output_type": "stream",
     "text": [
      "Parse progress: |████████████████████████████████████████████████████████████████| (done) 100%\n",
      "gbm Model Build progress: |"
     ]
    },
    {
     "name": "stderr",
     "output_type": "stream",
     "text": [
      "/Users/gaskell/miniforge_x86_64/envs/ADPred_new/lib/python3.10/site-packages/h2o/estimators/estimator_base.py:208: RuntimeWarning: Dropping bad and constant columns: [pres_imuran, pres_minocin, init_group, num_tnf, num_nontnf, hxtia]\n",
      "  warnings.warn(mesg[\"message\"], RuntimeWarning)\n"
     ]
    },
    {
     "name": "stdout",
     "output_type": "stream",
     "text": [
      "██████████████████████████████████████████████████████| (done) 100%\n",
      "Parse progress: |████████████████████████████████████████████████████████████████| (done) 100%\n",
      "gbm prediction progress: |███████████████████████████████████████████████████████| (done) 100%\n",
      "Parse progress: |████████████████████████████████████████████████████████████████| (done) 100%\n",
      "gbm prediction progress: |███████████████████████████████████████████████████████| (done) 100%\n"
     ]
    },
    {
     "name": "stderr",
     "output_type": "stream",
     "text": [
      "dist_matrix: 100%|##########| 24/24 [00:00<00:00, 128.17it/s]\n",
      "synth_matrix: 100%|##########| 24/24 [00:00<00:00, 244.56it/s]\n",
      "r_index: 100%|##########| 18/18 [00:00<00:00, 491.64it/s]\n",
      "dist_matrix: 100%|##########| 33/33 [00:00<00:00, 81.84it/s]\n",
      "synth_matrix: 100%|##########| 33/33 [00:00<00:00, 507.76it/s]\n",
      "r_index: 100%|##########| 25/25 [00:00<00:00, 449.04it/s]\n"
     ]
    },
    {
     "name": "stdout",
     "output_type": "stream",
     "text": [
      "Parse progress: |████████████████████████████████████████████████████████████████| (done) 100%\n",
      "gbm Model Build progress: |"
     ]
    },
    {
     "name": "stderr",
     "output_type": "stream",
     "text": [
      "/Users/gaskell/miniforge_x86_64/envs/ADPred_new/lib/python3.10/site-packages/h2o/estimators/estimator_base.py:208: RuntimeWarning: Dropping bad and constant columns: [pres_imuran, pres_minocin, init_group, num_tnf, num_nontnf, hxtia]\n",
      "  warnings.warn(mesg[\"message\"], RuntimeWarning)\n"
     ]
    },
    {
     "name": "stdout",
     "output_type": "stream",
     "text": [
      "██████████████████████████████████████████████████████| (done) 100%\n",
      "Parse progress: |████████████████████████████████████████████████████████████████| (done) 100%\n",
      "gbm prediction progress: |███████████████████████████████████████████████████████| (done) 100%\n",
      "Parse progress: |████████████████████████████████████████████████████████████████| (done) 100%\n",
      "gbm prediction progress: |███████████████████████████████████████████████████████| (done) 100%\n",
      "Parse progress: |████████████████████████████████████████████████████████████████| (done) 100%\n",
      "gbm prediction progress: |███████████████████████████████████████████████████████| (done) 100%\n"
     ]
    },
    {
     "name": "stderr",
     "output_type": "stream",
     "text": [
      "dist_matrix: 100%|##########| 22/22 [00:00<00:00, 142.75it/s]\n",
      "synth_matrix: 100%|##########| 22/22 [00:00<00:00, 171.91it/s]\n",
      "r_index: 100%|##########| 3/3 [00:00<00:00, 484.33it/s]\n",
      "dist_matrix: 100%|##########| 33/33 [00:00<00:00, 87.62it/s]\n",
      "synth_matrix: 100%|##########| 33/33 [00:00<00:00, 485.70it/s]\n",
      "r_index: 100%|##########| 25/25 [00:00<00:00, 523.42it/s]\n"
     ]
    },
    {
     "name": "stdout",
     "output_type": "stream",
     "text": [
      "Parse progress: |████████████████████████████████████████████████████████████████| (done) 100%\n",
      "deeplearning Model Build progress: |"
     ]
    },
    {
     "name": "stderr",
     "output_type": "stream",
     "text": [
      "/Users/gaskell/miniforge_x86_64/envs/ADPred_new/lib/python3.10/site-packages/h2o/estimators/estimator_base.py:208: RuntimeWarning: Dropping bad and constant columns: [hxchf, pres_imuran, pres_minocin, init_group, num_tnf, num_nontnf, hxtia]\n",
      "  warnings.warn(mesg[\"message\"], RuntimeWarning)\n"
     ]
    },
    {
     "name": "stdout",
     "output_type": "stream",
     "text": [
      "█████████████████████████████████████████████| (done) 100%\n",
      "Parse progress: |████████████████████████████████████████████████████████████████| (done) 100%\n",
      "deeplearning prediction progress: |██████████████████████████████████████████████| (done) 100%\n",
      "Parse progress: |████████████████████████████████████████████████████████████████| (done) 100%\n",
      "deeplearning prediction progress: |██████████████████████████████████████████████| (done) 100%\n"
     ]
    },
    {
     "name": "stderr",
     "output_type": "stream",
     "text": [
      "dist_matrix: 100%|##########| 21/21 [00:00<00:00, 147.17it/s]\n",
      "synth_matrix: 100%|##########| 21/21 [00:00<00:00, 160.85it/s]\n",
      "r_index: 100%|##########| 6/6 [00:00<00:00, 439.79it/s]\n",
      "dist_matrix: 100%|##########| 33/33 [00:00<00:00, 84.15it/s]\n",
      "synth_matrix: 100%|##########| 33/33 [00:00<00:00, 492.86it/s]\n",
      "r_index: 100%|##########| 25/25 [00:00<00:00, 469.60it/s]\n"
     ]
    },
    {
     "name": "stdout",
     "output_type": "stream",
     "text": [
      "Parse progress: |████████████████████████████████████████████████████████████████| (done) 100%\n",
      "deeplearning Model Build progress: |"
     ]
    },
    {
     "name": "stderr",
     "output_type": "stream",
     "text": [
      "/Users/gaskell/miniforge_x86_64/envs/ADPred_new/lib/python3.10/site-packages/h2o/estimators/estimator_base.py:208: RuntimeWarning: Dropping bad and constant columns: [pres_imuran, pres_minocin, init_group, num_tnf, num_nontnf]\n",
      "  warnings.warn(mesg[\"message\"], RuntimeWarning)\n"
     ]
    },
    {
     "name": "stdout",
     "output_type": "stream",
     "text": [
      "█████████████████████████████████████████████| (done) 100%\n",
      "Parse progress: |████████████████████████████████████████████████████████████████| (done) 100%\n",
      "deeplearning prediction progress: |██████████████████████████████████████████████| (done) 100%\n",
      "Parse progress: |████████████████████████████████████████████████████████████████| (done) 100%\n",
      "deeplearning prediction progress: |██████████████████████████████████████████████| (done) 100%\n"
     ]
    },
    {
     "name": "stderr",
     "output_type": "stream",
     "text": [
      "dist_matrix: 100%|##########| 21/21 [00:00<00:00, 150.96it/s]\n",
      "synth_matrix: 100%|##########| 21/21 [00:00<00:00, 166.65it/s]\n",
      "r_index: 100%|##########| 6/6 [00:00<00:00, 469.70it/s]\n",
      "dist_matrix: 100%|##########| 32/32 [00:00<00:00, 90.37it/s]\n",
      "synth_matrix: 100%|##########| 32/32 [00:00<00:00, 485.12it/s]\n",
      "r_index: 100%|##########| 27/27 [00:00<00:00, 459.87it/s]\n"
     ]
    },
    {
     "name": "stdout",
     "output_type": "stream",
     "text": [
      "Parse progress: |████████████████████████████████████████████████████████████████| (done) 100%\n",
      "deeplearning Model Build progress: |"
     ]
    },
    {
     "name": "stderr",
     "output_type": "stream",
     "text": [
      "/Users/gaskell/miniforge_x86_64/envs/ADPred_new/lib/python3.10/site-packages/h2o/estimators/estimator_base.py:208: RuntimeWarning: Dropping bad and constant columns: [hxchf, pres_imuran, pres_minocin, init_group, num_tnf, num_nontnf]\n",
      "  warnings.warn(mesg[\"message\"], RuntimeWarning)\n"
     ]
    },
    {
     "name": "stdout",
     "output_type": "stream",
     "text": [
      "█████████████████████████████████████████████| (done) 100%\n",
      "Parse progress: |████████████████████████████████████████████████████████████████| (done) 100%\n",
      "deeplearning prediction progress: |██████████████████████████████████████████████| (done) 100%\n",
      "Parse progress: |████████████████████████████████████████████████████████████████| (done) 100%\n",
      "deeplearning prediction progress: |██████████████████████████████████████████████| (done) 100%\n"
     ]
    },
    {
     "name": "stderr",
     "output_type": "stream",
     "text": [
      "dist_matrix: 100%|##########| 24/24 [00:00<00:00, 130.71it/s]\n",
      "synth_matrix: 100%|##########| 24/24 [00:00<00:00, 231.51it/s]\n",
      "r_index: 100%|##########| 18/18 [00:00<00:00, 509.34it/s]\n",
      "dist_matrix: 100%|##########| 31/31 [00:00<00:00, 93.41it/s]\n",
      "synth_matrix: 100%|##########| 31/31 [00:00<00:00, 458.47it/s]\n",
      "r_index: 100%|##########| 29/29 [00:00<00:00, 501.58it/s]"
     ]
    },
    {
     "name": "stdout",
     "output_type": "stream",
     "text": [
      "Parse progress: |"
     ]
    },
    {
     "name": "stderr",
     "output_type": "stream",
     "text": [
      "\n"
     ]
    },
    {
     "name": "stdout",
     "output_type": "stream",
     "text": [
      "████████████████████████████████████████████████████████████████| (done) 100%\n",
      "deeplearning Model Build progress: |"
     ]
    },
    {
     "name": "stderr",
     "output_type": "stream",
     "text": [
      "/Users/gaskell/miniforge_x86_64/envs/ADPred_new/lib/python3.10/site-packages/h2o/estimators/estimator_base.py:208: RuntimeWarning: Dropping bad and constant columns: [hxchf, pres_imuran, pres_minocin, init_group, num_tnf, num_nontnf]\n",
      "  warnings.warn(mesg[\"message\"], RuntimeWarning)\n"
     ]
    },
    {
     "name": "stdout",
     "output_type": "stream",
     "text": [
      "█████████████████████████████████████████████| (done) 100%\n",
      "Parse progress: |████████████████████████████████████████████████████████████████| (done) 100%\n",
      "deeplearning prediction progress: |██████████████████████████████████████████████| (done) 100%\n",
      "Parse progress: |████████████████████████████████████████████████████████████████| (done) 100%\n",
      "deeplearning prediction progress: |██████████████████████████████████████████████| (done) 100%\n"
     ]
    },
    {
     "name": "stderr",
     "output_type": "stream",
     "text": [
      "dist_matrix: 100%|##########| 28/28 [00:00<00:00, 112.19it/s]\n",
      "synth_matrix: 100%|##########| 28/28 [00:00<00:00, 167.13it/s]\n",
      "r_index: 100%|##########| 25/25 [00:00<00:00, 454.84it/s]"
     ]
    },
    {
     "name": "stdout",
     "output_type": "stream",
     "text": [
      "Parse progress: |"
     ]
    },
    {
     "name": "stderr",
     "output_type": "stream",
     "text": [
      "\n"
     ]
    },
    {
     "name": "stdout",
     "output_type": "stream",
     "text": [
      "████████████████████████████████████████████████████████████████| (done) 100%\n",
      "deeplearning Model Build progress: |"
     ]
    },
    {
     "name": "stderr",
     "output_type": "stream",
     "text": [
      "/Users/gaskell/miniforge_x86_64/envs/ADPred_new/lib/python3.10/site-packages/h2o/estimators/estimator_base.py:208: RuntimeWarning: Dropping bad and constant columns: [pres_imuran, pres_minocin, init_group, num_tnf, num_nontnf, hxunstab_ang]\n",
      "  warnings.warn(mesg[\"message\"], RuntimeWarning)\n"
     ]
    },
    {
     "name": "stdout",
     "output_type": "stream",
     "text": [
      "█████████████████████████████████████████████| (done) 100%\n",
      "Parse progress: |████████████████████████████████████████████████████████████████| (done) 100%\n",
      "deeplearning prediction progress: |██████████████████████████████████████████████| (done) 100%\n",
      "Parse progress: |████████████████████████████████████████████████████████████████| (done) 100%\n",
      "deeplearning prediction progress: |██████████████████████████████████████████████| (done) 100%\n"
     ]
    },
    {
     "name": "stderr",
     "output_type": "stream",
     "text": [
      "dist_matrix: 100%|##########| 27/27 [00:00<00:00, 114.49it/s]\n",
      "synth_matrix: 100%|##########| 27/27 [00:00<00:00, 259.55it/s]\n",
      "r_index: 100%|##########| 9/9 [00:00<00:00, 487.07it/s]\n",
      "dist_matrix: 100%|##########| 30/30 [00:00<00:00, 96.16it/s]\n",
      "synth_matrix: 100%|##########| 30/30 [00:00<00:00, 233.00it/s]"
     ]
    },
    {
     "name": "stdout",
     "output_type": "stream",
     "text": [
      "Parse progress: |"
     ]
    },
    {
     "name": "stderr",
     "output_type": "stream",
     "text": [
      "\n"
     ]
    },
    {
     "name": "stdout",
     "output_type": "stream",
     "text": [
      "████████████████████████████████████████████████████████████████| (done) 100%\n",
      "deeplearning Model Build progress: |"
     ]
    },
    {
     "name": "stderr",
     "output_type": "stream",
     "text": [
      "/Users/gaskell/miniforge_x86_64/envs/ADPred_new/lib/python3.10/site-packages/h2o/estimators/estimator_base.py:208: RuntimeWarning: Dropping bad and constant columns: [pres_imuran, pres_minocin, init_group, num_tnf, num_nontnf]\n",
      "  warnings.warn(mesg[\"message\"], RuntimeWarning)\n"
     ]
    },
    {
     "name": "stdout",
     "output_type": "stream",
     "text": [
      "█████████████████████████████████████████████| (done) 100%\n",
      "Parse progress: |████████████████████████████████████████████████████████████████| (done) 100%\n",
      "deeplearning prediction progress: |██████████████████████████████████████████████| (done) 100%\n",
      "Parse progress: |████████████████████████████████████████████████████████████████| (done) 100%\n",
      "deeplearning prediction progress: |██████████████████████████████████████████████| (done) 100%\n"
     ]
    },
    {
     "name": "stderr",
     "output_type": "stream",
     "text": [
      "dist_matrix: 100%|##########| 22/22 [00:00<00:00, 143.69it/s]\n",
      "synth_matrix: 100%|##########| 22/22 [00:00<00:00, 167.99it/s]\n",
      "r_index: 100%|##########| 3/3 [00:00<00:00, 474.90it/s]\n",
      "dist_matrix: 100%|##########| 28/28 [00:00<00:00, 102.21it/s]\n",
      "synth_matrix: 100%|##########| 28/28 [00:00<00:00, 215.96it/s]\n",
      "r_index: 100%|##########| 7/7 [00:00<00:00, 508.62it/s]"
     ]
    },
    {
     "name": "stdout",
     "output_type": "stream",
     "text": [
      "Parse progress: |"
     ]
    },
    {
     "name": "stderr",
     "output_type": "stream",
     "text": [
      "\n"
     ]
    },
    {
     "name": "stdout",
     "output_type": "stream",
     "text": [
      "████████████████████████████████████████████████████████████████| (done) 100%\n",
      "deeplearning Model Build progress: |"
     ]
    },
    {
     "name": "stderr",
     "output_type": "stream",
     "text": [
      "/Users/gaskell/miniforge_x86_64/envs/ADPred_new/lib/python3.10/site-packages/h2o/estimators/estimator_base.py:208: RuntimeWarning: Dropping bad and constant columns: [hxchf, pres_imuran, pres_minocin, init_group, num_tnf, num_nontnf, hxtia]\n",
      "  warnings.warn(mesg[\"message\"], RuntimeWarning)\n"
     ]
    },
    {
     "name": "stdout",
     "output_type": "stream",
     "text": [
      "█████████████████████████████████████████████| (done) 100%\n",
      "Parse progress: |████████████████████████████████████████████████████████████████| (done) 100%\n",
      "deeplearning prediction progress: |██████████████████████████████████████████████| (done) 100%\n",
      "Parse progress: |████████████████████████████████████████████████████████████████| (done) 100%\n",
      "deeplearning prediction progress: |██████████████████████████████████████████████| (done) 100%\n"
     ]
    },
    {
     "name": "stderr",
     "output_type": "stream",
     "text": [
      "dist_matrix: 100%|##########| 22/22 [00:00<00:00, 142.01it/s]\n",
      "synth_matrix: 100%|##########| 22/22 [00:00<00:00, 166.79it/s]\n",
      "r_index: 100%|##########| 3/3 [00:00<00:00, 493.99it/s]\n",
      "dist_matrix: 100%|##########| 33/33 [00:00<00:00, 88.70it/s]\n",
      "synth_matrix: 100%|##########| 33/33 [00:00<00:00, 469.27it/s]\n",
      "r_index: 100%|##########| 25/25 [00:00<00:00, 505.49it/s]\n"
     ]
    },
    {
     "name": "stdout",
     "output_type": "stream",
     "text": [
      "Parse progress: |████████████████████████████████████████████████████████████████| (done) 100%\n",
      "deeplearning Model Build progress: |"
     ]
    },
    {
     "name": "stderr",
     "output_type": "stream",
     "text": [
      "/Users/gaskell/miniforge_x86_64/envs/ADPred_new/lib/python3.10/site-packages/h2o/estimators/estimator_base.py:208: RuntimeWarning: Dropping bad and constant columns: [pres_imuran, pres_minocin, init_group, num_tnf, num_nontnf, hxtia]\n",
      "  warnings.warn(mesg[\"message\"], RuntimeWarning)\n"
     ]
    },
    {
     "name": "stdout",
     "output_type": "stream",
     "text": [
      "█████████████████████████████████████████████| (done) 100%\n",
      "Parse progress: |████████████████████████████████████████████████████████████████| (done) 100%\n",
      "deeplearning prediction progress: |██████████████████████████████████████████████| (done) 100%\n",
      "Parse progress: |████████████████████████████████████████████████████████████████| (done) 100%\n",
      "deeplearning prediction progress: |██████████████████████████████████████████████| (done) 100%\n"
     ]
    },
    {
     "name": "stderr",
     "output_type": "stream",
     "text": [
      "dist_matrix: 100%|##########| 22/22 [00:00<00:00, 144.36it/s]\n",
      "synth_matrix: 100%|##########| 22/22 [00:00<00:00, 177.63it/s]\n",
      "r_index: 100%|##########| 3/3 [00:00<00:00, 457.03it/s]\n",
      "dist_matrix: 100%|##########| 29/29 [00:00<00:00, 100.85it/s]\n",
      "synth_matrix: 100%|##########| 29/29 [00:00<00:00, 230.74it/s]\n",
      "r_index: 100%|##########| 3/3 [00:00<00:00, 424.81it/s]"
     ]
    },
    {
     "name": "stdout",
     "output_type": "stream",
     "text": [
      "Parse progress: |"
     ]
    },
    {
     "name": "stderr",
     "output_type": "stream",
     "text": [
      "\n"
     ]
    },
    {
     "name": "stdout",
     "output_type": "stream",
     "text": [
      "████████████████████████████████████████████████████████████████| (done) 100%\n",
      "deeplearning Model Build progress: |"
     ]
    },
    {
     "name": "stderr",
     "output_type": "stream",
     "text": [
      "/Users/gaskell/miniforge_x86_64/envs/ADPred_new/lib/python3.10/site-packages/h2o/estimators/estimator_base.py:208: RuntimeWarning: Dropping bad and constant columns: [pres_imuran, pres_minocin, init_group, num_tnf, num_nontnf]\n",
      "  warnings.warn(mesg[\"message\"], RuntimeWarning)\n"
     ]
    },
    {
     "name": "stdout",
     "output_type": "stream",
     "text": [
      "█████████████████████████████████████████████| (done) 100%\n",
      "Parse progress: |████████████████████████████████████████████████████████████████| (done) 100%\n",
      "deeplearning prediction progress: |██████████████████████████████████████████████| (done) 100%\n",
      "Parse progress: |████████████████████████████████████████████████████████████████| (done) 100%\n",
      "deeplearning prediction progress: |██████████████████████████████████████████████| (done) 100%\n"
     ]
    },
    {
     "name": "stderr",
     "output_type": "stream",
     "text": [
      "dist_matrix: 100%|##########| 22/22 [00:00<00:00, 148.02it/s]\n",
      "synth_matrix: 100%|##########| 22/22 [00:00<00:00, 189.41it/s]\n",
      "r_index: 100%|##########| 3/3 [00:00<00:00, 499.44it/s]\n",
      "dist_matrix: 100%|##########| 30/30 [00:00<00:00, 97.71it/s]\n",
      "synth_matrix: 100%|##########| 30/30 [00:00<00:00, 224.03it/s]"
     ]
    },
    {
     "name": "stdout",
     "output_type": "stream",
     "text": [
      "Parse progress: |"
     ]
    },
    {
     "name": "stderr",
     "output_type": "stream",
     "text": [
      "\n"
     ]
    },
    {
     "name": "stdout",
     "output_type": "stream",
     "text": [
      "████████████████████████████████████████████████████████████████| (done) 100%\n",
      "deeplearning Model Build progress: |"
     ]
    },
    {
     "name": "stderr",
     "output_type": "stream",
     "text": [
      "/Users/gaskell/miniforge_x86_64/envs/ADPred_new/lib/python3.10/site-packages/h2o/estimators/estimator_base.py:208: RuntimeWarning: Dropping bad and constant columns: [pres_imuran, pres_minocin, init_group, num_tnf, num_nontnf]\n",
      "  warnings.warn(mesg[\"message\"], RuntimeWarning)\n"
     ]
    },
    {
     "name": "stdout",
     "output_type": "stream",
     "text": [
      "█████████████████████████████████████████████| (done) 100%\n",
      "Parse progress: |████████████████████████████████████████████████████████████████| (done) 100%\n",
      "deeplearning prediction progress: |██████████████████████████████████████████████| (done) 100%\n",
      "Parse progress: |████████████████████████████████████████████████████████████████| (done) 100%\n",
      "deeplearning prediction progress: |██████████████████████████████████████████████| (done) 100%\n"
     ]
    },
    {
     "name": "stderr",
     "output_type": "stream",
     "text": [
      "dist_matrix: 100%|##########| 22/22 [00:00<00:00, 146.63it/s]\n",
      "synth_matrix: 100%|##########| 22/22 [00:00<00:00, 172.86it/s]\n",
      "r_index: 100%|##########| 3/3 [00:00<00:00, 393.13it/s]\n",
      "dist_matrix: 100%|##########| 33/33 [00:00<00:00, 88.74it/s]\n",
      "synth_matrix: 100%|##########| 33/33 [00:00<00:00, 475.09it/s]\n",
      "r_index: 100%|##########| 25/25 [00:00<00:00, 475.47it/s]\n"
     ]
    },
    {
     "name": "stdout",
     "output_type": "stream",
     "text": [
      "Parse progress: |████████████████████████████████████████████████████████████████| (done) 100%\n",
      "deeplearning Model Build progress: |"
     ]
    },
    {
     "name": "stderr",
     "output_type": "stream",
     "text": [
      "/Users/gaskell/miniforge_x86_64/envs/ADPred_new/lib/python3.10/site-packages/h2o/estimators/estimator_base.py:208: RuntimeWarning: Dropping bad and constant columns: [hxchf, pres_imuran, pres_minocin, init_group, num_tnf, num_nontnf, hxtia]\n",
      "  warnings.warn(mesg[\"message\"], RuntimeWarning)\n"
     ]
    },
    {
     "name": "stdout",
     "output_type": "stream",
     "text": [
      "█████████████████████████████████████████████| (done) 100%\n",
      "Parse progress: |████████████████████████████████████████████████████████████████| (done) 100%\n",
      "deeplearning prediction progress: |██████████████████████████████████████████████| (done) 100%\n",
      "Parse progress: |████████████████████████████████████████████████████████████████| (done) 100%\n",
      "deeplearning prediction progress: |██████████████████████████████████████████████| (done) 100%\n"
     ]
    },
    {
     "name": "stderr",
     "output_type": "stream",
     "text": [
      "dist_matrix: 100%|##########| 24/24 [00:00<00:00, 131.98it/s]\n",
      "synth_matrix: 100%|##########| 24/24 [00:00<00:00, 266.75it/s]\n",
      "r_index: 100%|##########| 18/18 [00:00<00:00, 475.44it/s]\n",
      "dist_matrix: 100%|##########| 30/30 [00:00<00:00, 101.47it/s]\n",
      "synth_matrix: 100%|##########| 30/30 [00:00<00:00, 238.23it/s]"
     ]
    },
    {
     "name": "stdout",
     "output_type": "stream",
     "text": [
      "Parse progress: |"
     ]
    },
    {
     "name": "stderr",
     "output_type": "stream",
     "text": [
      "\n"
     ]
    },
    {
     "name": "stdout",
     "output_type": "stream",
     "text": [
      "████████████████████████████████████████████████████████████████| (done) 100%\n",
      "deeplearning Model Build progress: |"
     ]
    },
    {
     "name": "stderr",
     "output_type": "stream",
     "text": [
      "/Users/gaskell/miniforge_x86_64/envs/ADPred_new/lib/python3.10/site-packages/h2o/estimators/estimator_base.py:208: RuntimeWarning: Dropping bad and constant columns: [pres_imuran, pres_minocin, init_group, num_tnf, num_nontnf, hxtia, hxunstab_ang]\n",
      "  warnings.warn(mesg[\"message\"], RuntimeWarning)\n"
     ]
    },
    {
     "name": "stdout",
     "output_type": "stream",
     "text": [
      "█████████████████████████████████████████████| (done) 100%\n",
      "Parse progress: |████████████████████████████████████████████████████████████████| (done) 100%\n",
      "deeplearning prediction progress: |██████████████████████████████████████████████| (done) 100%\n",
      "Parse progress: |████████████████████████████████████████████████████████████████| (done) 100%\n",
      "deeplearning prediction progress: |██████████████████████████████████████████████| (done) 100%\n"
     ]
    },
    {
     "name": "stderr",
     "output_type": "stream",
     "text": [
      "dist_matrix: 100%|##########| 20/20 [00:00<00:00, 160.79it/s]\n",
      "synth_matrix: 100%|##########| 20/20 [00:00<00:00, 166.69it/s]\n",
      "r_index: 100%|##########| 10/10 [00:00<00:00, 523.42it/s]\n",
      "dist_matrix: 100%|##########| 32/32 [00:00<00:00, 91.52it/s]\n",
      "synth_matrix: 100%|##########| 32/32 [00:00<00:00, 460.84it/s]\n",
      "r_index: 100%|##########| 27/27 [00:00<00:00, 508.59it/s]"
     ]
    },
    {
     "name": "stdout",
     "output_type": "stream",
     "text": [
      "Parse progress: |"
     ]
    },
    {
     "name": "stderr",
     "output_type": "stream",
     "text": [
      "\n"
     ]
    },
    {
     "name": "stdout",
     "output_type": "stream",
     "text": [
      "████████████████████████████████████████████████████████████████| (done) 100%\n",
      "deeplearning Model Build progress: |"
     ]
    },
    {
     "name": "stderr",
     "output_type": "stream",
     "text": [
      "/Users/gaskell/miniforge_x86_64/envs/ADPred_new/lib/python3.10/site-packages/h2o/estimators/estimator_base.py:208: RuntimeWarning: Dropping bad and constant columns: [pres_imuran, pres_minocin, init_group, num_tnf, num_nontnf]\n",
      "  warnings.warn(mesg[\"message\"], RuntimeWarning)\n"
     ]
    },
    {
     "name": "stdout",
     "output_type": "stream",
     "text": [
      "█████████████████████████████████████████████| (done) 100%\n",
      "Parse progress: |████████████████████████████████████████████████████████████████| (done) 100%\n",
      "deeplearning prediction progress: |██████████████████████████████████████████████| (done) 100%\n",
      "Parse progress: |████████████████████████████████████████████████████████████████| (done) 100%\n",
      "deeplearning prediction progress: |██████████████████████████████████████████████| (done) 100%\n"
     ]
    },
    {
     "name": "stderr",
     "output_type": "stream",
     "text": [
      "dist_matrix: 100%|##########| 21/21 [00:00<00:00, 148.73it/s]\n",
      "synth_matrix: 100%|##########| 21/21 [00:00<00:00, 167.00it/s]\n",
      "r_index: 100%|##########| 6/6 [00:00<00:00, 540.45it/s]\n",
      "dist_matrix: 100%|##########| 28/28 [00:00<00:00, 106.27it/s]\n",
      "synth_matrix: 100%|##########| 28/28 [00:00<00:00, 226.16it/s]\n",
      "r_index: 100%|##########| 7/7 [00:00<00:00, 440.51it/s]"
     ]
    },
    {
     "name": "stdout",
     "output_type": "stream",
     "text": [
      "Parse progress: |"
     ]
    },
    {
     "name": "stderr",
     "output_type": "stream",
     "text": [
      "\n"
     ]
    },
    {
     "name": "stdout",
     "output_type": "stream",
     "text": [
      "████████████████████████████████████████████████████████████████| (done) 100%\n",
      "deeplearning Model Build progress: |"
     ]
    },
    {
     "name": "stderr",
     "output_type": "stream",
     "text": [
      "/Users/gaskell/miniforge_x86_64/envs/ADPred_new/lib/python3.10/site-packages/h2o/estimators/estimator_base.py:208: RuntimeWarning: Dropping bad and constant columns: [pres_imuran, pres_minocin, init_group, num_tnf, num_nontnf]\n",
      "  warnings.warn(mesg[\"message\"], RuntimeWarning)\n"
     ]
    },
    {
     "name": "stdout",
     "output_type": "stream",
     "text": [
      "█████████████████████████████████████████████| (done) 100%\n",
      "Parse progress: |████████████████████████████████████████████████████████████████| (done) 100%\n",
      "deeplearning prediction progress: |██████████████████████████████████████████████| (done) 100%\n",
      "Parse progress: |████████████████████████████████████████████████████████████████| (done) 100%\n",
      "deeplearning prediction progress: |██████████████████████████████████████████████| (done) 100%\n"
     ]
    },
    {
     "name": "stderr",
     "output_type": "stream",
     "text": [
      "dist_matrix: 100%|##########| 21/21 [00:00<00:00, 153.62it/s]\n",
      "synth_matrix: 100%|##########| 21/21 [00:00<00:00, 175.38it/s]\n",
      "r_index: 100%|##########| 6/6 [00:00<00:00, 485.63it/s]\n",
      "dist_matrix: 100%|##########| 32/32 [00:00<00:00, 87.87it/s]\n",
      "synth_matrix: 100%|##########| 32/32 [00:00<00:00, 443.15it/s]\n",
      "r_index: 100%|##########| 27/27 [00:00<00:00, 459.15it/s]\n"
     ]
    },
    {
     "name": "stdout",
     "output_type": "stream",
     "text": [
      "Parse progress: |████████████████████████████████████████████████████████████████| (done) 100%\n",
      "deeplearning Model Build progress: |"
     ]
    },
    {
     "name": "stderr",
     "output_type": "stream",
     "text": [
      "/Users/gaskell/miniforge_x86_64/envs/ADPred_new/lib/python3.10/site-packages/h2o/estimators/estimator_base.py:208: RuntimeWarning: Dropping bad and constant columns: [pres_imuran, pres_minocin, init_group, num_tnf, num_nontnf]\n",
      "  warnings.warn(mesg[\"message\"], RuntimeWarning)\n"
     ]
    },
    {
     "name": "stdout",
     "output_type": "stream",
     "text": [
      "█████████████████████████████████████████████| (done) 100%\n",
      "Parse progress: |████████████████████████████████████████████████████████████████| (done) 100%\n",
      "deeplearning prediction progress: |██████████████████████████████████████████████| (done) 100%\n",
      "Parse progress: |████████████████████████████████████████████████████████████████| (done) 100%\n",
      "deeplearning prediction progress: |██████████████████████████████████████████████| (done) 100%\n"
     ]
    },
    {
     "name": "stderr",
     "output_type": "stream",
     "text": [
      "dist_matrix: 100%|##########| 22/22 [00:00<00:00, 146.47it/s]\n",
      "synth_matrix: 100%|##########| 22/22 [00:00<00:00, 171.75it/s]\n",
      "r_index: 100%|##########| 3/3 [00:00<00:00, 388.60it/s]\n",
      "dist_matrix: 100%|##########| 31/31 [00:00<00:00, 93.15it/s]\n",
      "synth_matrix: 100%|##########| 31/31 [00:00<00:00, 473.62it/s]\n",
      "r_index: 100%|##########| 29/29 [00:00<00:00, 460.91it/s]"
     ]
    },
    {
     "name": "stdout",
     "output_type": "stream",
     "text": [
      "Parse progress: |"
     ]
    },
    {
     "name": "stderr",
     "output_type": "stream",
     "text": [
      "\n"
     ]
    },
    {
     "name": "stdout",
     "output_type": "stream",
     "text": [
      "████████████████████████████████████████████████████████████████| (done) 100%\n",
      "deeplearning Model Build progress: |"
     ]
    },
    {
     "name": "stderr",
     "output_type": "stream",
     "text": [
      "/Users/gaskell/miniforge_x86_64/envs/ADPred_new/lib/python3.10/site-packages/h2o/estimators/estimator_base.py:208: RuntimeWarning: Dropping bad and constant columns: [hxchf, pres_imuran, pres_minocin, init_group, num_tnf, num_nontnf]\n",
      "  warnings.warn(mesg[\"message\"], RuntimeWarning)\n"
     ]
    },
    {
     "name": "stdout",
     "output_type": "stream",
     "text": [
      "█████████████████████████████████████████████| (done) 100%\n",
      "Parse progress: |████████████████████████████████████████████████████████████████| (done) 100%\n",
      "deeplearning prediction progress: |██████████████████████████████████████████████| (done) 100%\n",
      "Parse progress: |████████████████████████████████████████████████████████████████| (done) 100%\n",
      "deeplearning prediction progress: |██████████████████████████████████████████████| (done) 100%\n"
     ]
    },
    {
     "name": "stderr",
     "output_type": "stream",
     "text": [
      "dist_matrix: 100%|##########| 30/30 [00:00<00:00, 97.92it/s]\n",
      "synth_matrix: 100%|##########| 30/30 [00:00<00:00, 163.74it/s]\n",
      "r_index: 100%|##########| 16/16 [00:00<00:00, 392.36it/s]"
     ]
    },
    {
     "name": "stdout",
     "output_type": "stream",
     "text": [
      "Parse progress: |"
     ]
    },
    {
     "name": "stderr",
     "output_type": "stream",
     "text": [
      "\n"
     ]
    },
    {
     "name": "stdout",
     "output_type": "stream",
     "text": [
      "████████████████████████████████████████████████████████████████| (done) 100%\n",
      "deeplearning Model Build progress: |"
     ]
    },
    {
     "name": "stderr",
     "output_type": "stream",
     "text": [
      "/Users/gaskell/miniforge_x86_64/envs/ADPred_new/lib/python3.10/site-packages/h2o/estimators/estimator_base.py:208: RuntimeWarning: Dropping bad and constant columns: [hxchf, pres_imuran, pres_minocin, init_group, num_tnf, num_nontnf, hxtia]\n",
      "  warnings.warn(mesg[\"message\"], RuntimeWarning)\n"
     ]
    },
    {
     "name": "stdout",
     "output_type": "stream",
     "text": [
      "█████████████████████████████████████████████| (done) 100%\n",
      "Parse progress: |████████████████████████████████████████████████████████████████| (done) 100%\n",
      "deeplearning prediction progress: |██████████████████████████████████████████████| (done) 100%\n",
      "Parse progress: |████████████████████████████████████████████████████████████████| (done) 100%\n",
      "deeplearning prediction progress: |██████████████████████████████████████████████| (done) 100%\n"
     ]
    },
    {
     "name": "stderr",
     "output_type": "stream",
     "text": [
      "dist_matrix: 100%|##########| 21/21 [00:00<00:00, 153.23it/s]\n",
      "synth_matrix: 100%|##########| 21/21 [00:00<00:00, 173.70it/s]\n",
      "r_index: 100%|##########| 6/6 [00:00<00:00, 545.85it/s]\n",
      "dist_matrix: 100%|##########| 30/30 [00:00<00:00, 98.85it/s]\n",
      "synth_matrix: 100%|##########| 30/30 [00:00<00:00, 234.58it/s]"
     ]
    },
    {
     "name": "stdout",
     "output_type": "stream",
     "text": [
      "Parse progress: |"
     ]
    },
    {
     "name": "stderr",
     "output_type": "stream",
     "text": [
      "\n"
     ]
    },
    {
     "name": "stdout",
     "output_type": "stream",
     "text": [
      "████████████████████████████████████████████████████████████████| (done) 100%\n",
      "deeplearning Model Build progress: |"
     ]
    },
    {
     "name": "stderr",
     "output_type": "stream",
     "text": [
      "/Users/gaskell/miniforge_x86_64/envs/ADPred_new/lib/python3.10/site-packages/h2o/estimators/estimator_base.py:208: RuntimeWarning: Dropping bad and constant columns: [hxchf, pres_imuran, pres_minocin, init_group, num_tnf, num_nontnf]\n",
      "  warnings.warn(mesg[\"message\"], RuntimeWarning)\n"
     ]
    },
    {
     "name": "stdout",
     "output_type": "stream",
     "text": [
      "█████████████████████████████████████████████| (done) 100%\n",
      "Parse progress: |████████████████████████████████████████████████████████████████| (done) 100%\n",
      "deeplearning prediction progress: |██████████████████████████████████████████████| (done) 100%\n",
      "Parse progress: |████████████████████████████████████████████████████████████████| (done) 100%\n",
      "deeplearning prediction progress: |██████████████████████████████████████████████| (done) 100%\n"
     ]
    },
    {
     "name": "stderr",
     "output_type": "stream",
     "text": [
      "dist_matrix: 100%|##########| 22/22 [00:00<00:00, 148.21it/s]\n",
      "synth_matrix: 100%|##########| 22/22 [00:00<00:00, 175.37it/s]\n",
      "r_index: 100%|##########| 3/3 [00:00<00:00, 439.75it/s]\n",
      "dist_matrix: 100%|##########| 29/29 [00:00<00:00, 102.83it/s]\n",
      "synth_matrix: 100%|##########| 29/29 [00:00<00:00, 243.96it/s]\n",
      "r_index: 100%|##########| 3/3 [00:00<00:00, 369.33it/s]"
     ]
    },
    {
     "name": "stdout",
     "output_type": "stream",
     "text": [
      "Parse progress: |"
     ]
    },
    {
     "name": "stderr",
     "output_type": "stream",
     "text": [
      "\n"
     ]
    },
    {
     "name": "stdout",
     "output_type": "stream",
     "text": [
      "████████████████████████████████████████████████████████████████| (done) 100%\n",
      "deeplearning Model Build progress: |"
     ]
    },
    {
     "name": "stderr",
     "output_type": "stream",
     "text": [
      "/Users/gaskell/miniforge_x86_64/envs/ADPred_new/lib/python3.10/site-packages/h2o/estimators/estimator_base.py:208: RuntimeWarning: Dropping bad and constant columns: [pres_imuran, pres_minocin, init_group, num_tnf, num_nontnf, hxtia]\n",
      "  warnings.warn(mesg[\"message\"], RuntimeWarning)\n"
     ]
    },
    {
     "name": "stdout",
     "output_type": "stream",
     "text": [
      "█████████████████████████████████████████████| (done) 100%\n",
      "Parse progress: |████████████████████████████████████████████████████████████████| (done) 100%\n",
      "deeplearning prediction progress: |██████████████████████████████████████████████| (done) 100%\n",
      "Parse progress: |████████████████████████████████████████████████████████████████| (done) 100%\n",
      "deeplearning prediction progress: |██████████████████████████████████████████████| (done) 100%\n"
     ]
    },
    {
     "name": "stderr",
     "output_type": "stream",
     "text": [
      "dist_matrix: 100%|##########| 24/24 [00:00<00:00, 96.60it/s] \n",
      "synth_matrix: 100%|##########| 24/24 [00:00<00:00, 226.46it/s]\n",
      "r_index: 100%|##########| 18/18 [00:00<00:00, 505.77it/s]\n",
      "dist_matrix: 100%|##########| 33/33 [00:00<00:00, 87.23it/s]\n",
      "synth_matrix: 100%|##########| 33/33 [00:00<00:00, 439.09it/s]\n",
      "r_index: 100%|##########| 25/25 [00:00<00:00, 438.93it/s]\n"
     ]
    },
    {
     "name": "stdout",
     "output_type": "stream",
     "text": [
      "Parse progress: |████████████████████████████████████████████████████████████████| (done) 100%\n",
      "deeplearning Model Build progress: |"
     ]
    },
    {
     "name": "stderr",
     "output_type": "stream",
     "text": [
      "/Users/gaskell/miniforge_x86_64/envs/ADPred_new/lib/python3.10/site-packages/h2o/estimators/estimator_base.py:208: RuntimeWarning: Dropping bad and constant columns: [hxchf, pres_imuran, pres_minocin, init_group, num_tnf, num_nontnf, hxtia]\n",
      "  warnings.warn(mesg[\"message\"], RuntimeWarning)\n"
     ]
    },
    {
     "name": "stdout",
     "output_type": "stream",
     "text": [
      "█████████████████████████████████████████████| (done) 100%\n",
      "Parse progress: |████████████████████████████████████████████████████████████████| (done) 100%\n",
      "deeplearning prediction progress: |██████████████████████████████████████████████| (done) 100%\n",
      "Parse progress: |████████████████████████████████████████████████████████████████| (done) 100%\n",
      "deeplearning prediction progress: |██████████████████████████████████████████████| (done) 100%\n"
     ]
    },
    {
     "name": "stderr",
     "output_type": "stream",
     "text": [
      "dist_matrix: 100%|##########| 20/20 [00:00<00:00, 161.36it/s]\n",
      "synth_matrix: 100%|##########| 20/20 [00:00<00:00, 170.54it/s]\n",
      "r_index: 100%|##########| 10/10 [00:00<00:00, 525.65it/s]\n",
      "dist_matrix: 100%|##########| 30/30 [00:00<00:00, 97.98it/s]\n",
      "synth_matrix: 100%|##########| 30/30 [00:00<00:00, 252.57it/s]"
     ]
    },
    {
     "name": "stdout",
     "output_type": "stream",
     "text": [
      "Parse progress: |"
     ]
    },
    {
     "name": "stderr",
     "output_type": "stream",
     "text": [
      "\n"
     ]
    },
    {
     "name": "stdout",
     "output_type": "stream",
     "text": [
      "████████████████████████████████████████████████████████████████| (done) 100%\n",
      "deeplearning Model Build progress: |"
     ]
    },
    {
     "name": "stderr",
     "output_type": "stream",
     "text": [
      "/Users/gaskell/miniforge_x86_64/envs/ADPred_new/lib/python3.10/site-packages/h2o/estimators/estimator_base.py:208: RuntimeWarning: Dropping bad and constant columns: [hxchf, pres_imuran, pres_minocin, init_group, num_tnf, num_nontnf, hxtia, hxunstab_ang]\n",
      "  warnings.warn(mesg[\"message\"], RuntimeWarning)\n"
     ]
    },
    {
     "name": "stdout",
     "output_type": "stream",
     "text": [
      "█████████████████████████████████████████████| (done) 100%\n",
      "Parse progress: |████████████████████████████████████████████████████████████████| (done) 100%\n",
      "deeplearning prediction progress: |██████████████████████████████████████████████| (done) 100%\n",
      "Parse progress: |████████████████████████████████████████████████████████████████| (done) 100%\n",
      "deeplearning prediction progress: |██████████████████████████████████████████████| (done) 100%\n"
     ]
    },
    {
     "name": "stderr",
     "output_type": "stream",
     "text": [
      "dist_matrix: 100%|##########| 24/24 [00:00<00:00, 129.85it/s]\n",
      "synth_matrix: 100%|##########| 24/24 [00:00<00:00, 247.28it/s]\n",
      "r_index: 100%|##########| 18/18 [00:00<00:00, 491.95it/s]\n",
      "dist_matrix: 100%|##########| 31/31 [00:00<00:00, 96.62it/s]\n",
      "synth_matrix: 100%|##########| 31/31 [00:00<00:00, 510.68it/s]\n",
      "r_index: 100%|##########| 29/29 [00:00<00:00, 460.31it/s]"
     ]
    },
    {
     "name": "stdout",
     "output_type": "stream",
     "text": [
      "Parse progress: |"
     ]
    },
    {
     "name": "stderr",
     "output_type": "stream",
     "text": [
      "\n"
     ]
    },
    {
     "name": "stdout",
     "output_type": "stream",
     "text": [
      "████████████████████████████████████████████████████████████████| (done) 100%\n",
      "deeplearning Model Build progress: |"
     ]
    },
    {
     "name": "stderr",
     "output_type": "stream",
     "text": [
      "/Users/gaskell/miniforge_x86_64/envs/ADPred_new/lib/python3.10/site-packages/h2o/estimators/estimator_base.py:208: RuntimeWarning: Dropping bad and constant columns: [pres_imuran, pres_minocin, init_group, num_tnf, num_nontnf]\n",
      "  warnings.warn(mesg[\"message\"], RuntimeWarning)\n"
     ]
    },
    {
     "name": "stdout",
     "output_type": "stream",
     "text": [
      "█████████████████████████████████████████████| (done) 100%\n",
      "Parse progress: |████████████████████████████████████████████████████████████████| (done) 100%\n",
      "deeplearning prediction progress: |██████████████████████████████████████████████| (done) 100%\n",
      "Parse progress: |████████████████████████████████████████████████████████████████| (done) 100%\n",
      "deeplearning prediction progress: |██████████████████████████████████████████████| (done) 100%\n"
     ]
    },
    {
     "name": "stderr",
     "output_type": "stream",
     "text": [
      "dist_matrix: 100%|##########| 21/21 [00:00<00:00, 151.02it/s]\n",
      "synth_matrix: 100%|##########| 21/21 [00:00<00:00, 171.60it/s]\n",
      "r_index: 100%|##########| 6/6 [00:00<00:00, 484.30it/s]\n",
      "dist_matrix: 100%|##########| 32/32 [00:00<00:00, 87.23it/s]\n",
      "synth_matrix: 100%|##########| 32/32 [00:00<00:00, 471.18it/s]\n",
      "r_index: 100%|##########| 27/27 [00:00<00:00, 496.96it/s]\n"
     ]
    },
    {
     "name": "stdout",
     "output_type": "stream",
     "text": [
      "Parse progress: |████████████████████████████████████████████████████████████████| (done) 100%\n",
      "deeplearning Model Build progress: |"
     ]
    },
    {
     "name": "stderr",
     "output_type": "stream",
     "text": [
      "/Users/gaskell/miniforge_x86_64/envs/ADPred_new/lib/python3.10/site-packages/h2o/estimators/estimator_base.py:208: RuntimeWarning: Dropping bad and constant columns: [pres_imuran, pres_minocin, init_group, num_tnf, num_nontnf]\n",
      "  warnings.warn(mesg[\"message\"], RuntimeWarning)\n"
     ]
    },
    {
     "name": "stdout",
     "output_type": "stream",
     "text": [
      "█████████████████████████████████████████████| (done) 100%\n",
      "Parse progress: |████████████████████████████████████████████████████████████████| (done) 100%\n",
      "deeplearning prediction progress: |██████████████████████████████████████████████| (done) 100%\n",
      "Parse progress: |████████████████████████████████████████████████████████████████| (done) 100%\n",
      "deeplearning prediction progress: |██████████████████████████████████████████████| (done) 100%\n"
     ]
    },
    {
     "name": "stderr",
     "output_type": "stream",
     "text": [
      "dist_matrix: 100%|##########| 28/28 [00:00<00:00, 111.56it/s]\n",
      "synth_matrix: 100%|##########| 28/28 [00:00<00:00, 252.40it/s]\n",
      "r_index: 100%|##########| 7/7 [00:00<00:00, 472.33it/s]\n",
      "dist_matrix: 100%|##########| 31/31 [00:00<00:00, 92.38it/s]\n",
      "synth_matrix: 100%|##########| 31/31 [00:00<00:00, 451.99it/s]\n",
      "r_index: 100%|##########| 29/29 [00:00<00:00, 438.97it/s]\n"
     ]
    },
    {
     "name": "stdout",
     "output_type": "stream",
     "text": [
      "Parse progress: |████████████████████████████████████████████████████████████████| (done) 100%\n",
      "deeplearning Model Build progress: |"
     ]
    },
    {
     "name": "stderr",
     "output_type": "stream",
     "text": [
      "/Users/gaskell/miniforge_x86_64/envs/ADPred_new/lib/python3.10/site-packages/h2o/estimators/estimator_base.py:208: RuntimeWarning: Dropping bad and constant columns: [pres_imuran, pres_minocin, init_group, num_tnf, num_nontnf, hxtia]\n",
      "  warnings.warn(mesg[\"message\"], RuntimeWarning)\n"
     ]
    },
    {
     "name": "stdout",
     "output_type": "stream",
     "text": [
      "█████████████████████████████████████████████| (done) 100%\n",
      "Parse progress: |████████████████████████████████████████████████████████████████| (done) 100%\n",
      "deeplearning prediction progress: |██████████████████████████████████████████████| (done) 100%\n",
      "Parse progress: |████████████████████████████████████████████████████████████████| (done) 100%\n",
      "deeplearning prediction progress: |██████████████████████████████████████████████| (done) 100%\n"
     ]
    },
    {
     "name": "stderr",
     "output_type": "stream",
     "text": [
      "dist_matrix: 100%|##########| 20/20 [00:00<00:00, 158.37it/s]\n",
      "synth_matrix: 100%|##########| 20/20 [00:00<00:00, 163.91it/s]\n",
      "r_index: 100%|##########| 10/10 [00:00<00:00, 473.31it/s]\n",
      "dist_matrix: 100%|##########| 32/32 [00:00<00:00, 90.12it/s]\n",
      "synth_matrix: 100%|##########| 32/32 [00:00<00:00, 468.38it/s]\n",
      "r_index: 100%|##########| 27/27 [00:00<00:00, 436.98it/s]\n"
     ]
    },
    {
     "name": "stdout",
     "output_type": "stream",
     "text": [
      "Parse progress: |████████████████████████████████████████████████████████████████| (done) 100%\n",
      "deeplearning Model Build progress: |"
     ]
    },
    {
     "name": "stderr",
     "output_type": "stream",
     "text": [
      "/Users/gaskell/miniforge_x86_64/envs/ADPred_new/lib/python3.10/site-packages/h2o/estimators/estimator_base.py:208: RuntimeWarning: Dropping bad and constant columns: [hxchf, pres_imuran, pres_minocin, init_group, num_tnf, num_nontnf]\n",
      "  warnings.warn(mesg[\"message\"], RuntimeWarning)\n"
     ]
    },
    {
     "name": "stdout",
     "output_type": "stream",
     "text": [
      "█████████████████████████████████████████████| (done) 100%\n",
      "Parse progress: |████████████████████████████████████████████████████████████████| (done) 100%\n",
      "deeplearning prediction progress: |██████████████████████████████████████████████| (done) 100%\n",
      "Parse progress: |████████████████████████████████████████████████████████████████| (done) 100%\n",
      "deeplearning prediction progress: |██████████████████████████████████████████████| (done) 100%\n"
     ]
    },
    {
     "name": "stderr",
     "output_type": "stream",
     "text": [
      "dist_matrix: 100%|##########| 22/22 [00:00<00:00, 144.75it/s]\n",
      "synth_matrix: 100%|##########| 22/22 [00:00<00:00, 162.67it/s]\n",
      "r_index: 100%|##########| 3/3 [00:00<00:00, 572.21it/s]\n",
      "dist_matrix: 100%|##########| 28/28 [00:00<00:00, 101.91it/s]\n",
      "synth_matrix: 100%|##########| 28/28 [00:00<00:00, 247.00it/s]\n",
      "r_index: 100%|##########| 7/7 [00:00<00:00, 456.09it/s]\n"
     ]
    },
    {
     "name": "stdout",
     "output_type": "stream",
     "text": [
      "Parse progress: |████████████████████████████████████████████████████████████████| (done) 100%\n",
      "deeplearning Model Build progress: |"
     ]
    },
    {
     "name": "stderr",
     "output_type": "stream",
     "text": [
      "/Users/gaskell/miniforge_x86_64/envs/ADPred_new/lib/python3.10/site-packages/h2o/estimators/estimator_base.py:208: RuntimeWarning: Dropping bad and constant columns: [pres_imuran, pres_minocin, init_group, num_tnf, num_nontnf]\n",
      "  warnings.warn(mesg[\"message\"], RuntimeWarning)\n"
     ]
    },
    {
     "name": "stdout",
     "output_type": "stream",
     "text": [
      "█████████████████████████████████████████████| (done) 100%\n",
      "Parse progress: |████████████████████████████████████████████████████████████████| (done) 100%\n",
      "deeplearning prediction progress: |██████████████████████████████████████████████| (done) 100%\n",
      "Parse progress: |████████████████████████████████████████████████████████████████| (done) 100%\n",
      "deeplearning prediction progress: |██████████████████████████████████████████████| (done) 100%\n"
     ]
    },
    {
     "name": "stderr",
     "output_type": "stream",
     "text": [
      "dist_matrix: 100%|##########| 28/28 [00:00<00:00, 103.62it/s]\n",
      "synth_matrix: 100%|##########| 28/28 [00:00<00:00, 150.81it/s]\n",
      "r_index: 100%|##########| 25/25 [00:00<00:00, 438.33it/s]"
     ]
    },
    {
     "name": "stdout",
     "output_type": "stream",
     "text": [
      "Parse progress: |"
     ]
    },
    {
     "name": "stderr",
     "output_type": "stream",
     "text": [
      "\n"
     ]
    },
    {
     "name": "stdout",
     "output_type": "stream",
     "text": [
      "████████████████████████████████████████████████████████████████| (done) 100%\n",
      "deeplearning Model Build progress: |"
     ]
    },
    {
     "name": "stderr",
     "output_type": "stream",
     "text": [
      "/Users/gaskell/miniforge_x86_64/envs/ADPred_new/lib/python3.10/site-packages/h2o/estimators/estimator_base.py:208: RuntimeWarning: Dropping bad and constant columns: [hxchf, pres_imuran, pres_minocin, init_group, num_tnf, num_nontnf, hxtia]\n",
      "  warnings.warn(mesg[\"message\"], RuntimeWarning)\n"
     ]
    },
    {
     "name": "stdout",
     "output_type": "stream",
     "text": [
      "█████████████████████████████████████████████| (done) 100%\n",
      "Parse progress: |████████████████████████████████████████████████████████████████| (done) 100%\n",
      "deeplearning prediction progress: |██████████████████████████████████████████████| (done) 100%\n",
      "Parse progress: |████████████████████████████████████████████████████████████████| (done) 100%\n",
      "deeplearning prediction progress: |██████████████████████████████████████████████| (done) 100%\n"
     ]
    },
    {
     "name": "stderr",
     "output_type": "stream",
     "text": [
      "dist_matrix: 100%|##########| 22/22 [00:00<00:00, 144.46it/s]\n",
      "synth_matrix: 100%|##########| 22/22 [00:00<00:00, 164.58it/s]\n",
      "r_index: 100%|##########| 3/3 [00:00<00:00, 554.09it/s]\n",
      "dist_matrix: 100%|##########| 32/32 [00:00<00:00, 89.37it/s]\n",
      "synth_matrix: 100%|##########| 32/32 [00:00<00:00, 473.50it/s]\n",
      "r_index: 100%|##########| 27/27 [00:00<00:00, 486.77it/s]\n"
     ]
    },
    {
     "name": "stdout",
     "output_type": "stream",
     "text": [
      "Parse progress: |████████████████████████████████████████████████████████████████| (done) 100%\n",
      "deeplearning Model Build progress: |"
     ]
    },
    {
     "name": "stderr",
     "output_type": "stream",
     "text": [
      "/Users/gaskell/miniforge_x86_64/envs/ADPred_new/lib/python3.10/site-packages/h2o/estimators/estimator_base.py:208: RuntimeWarning: Dropping bad and constant columns: [hxchf, pres_imuran, pres_minocin, init_group, num_tnf, num_nontnf, hxtia]\n",
      "  warnings.warn(mesg[\"message\"], RuntimeWarning)\n"
     ]
    },
    {
     "name": "stdout",
     "output_type": "stream",
     "text": [
      "█████████████████████████████████████████████| (done) 100%\n",
      "Parse progress: |████████████████████████████████████████████████████████████████| (done) 100%\n",
      "deeplearning prediction progress: |██████████████████████████████████████████████| (done) 100%\n",
      "Parse progress: |████████████████████████████████████████████████████████████████| (done) 100%\n",
      "deeplearning prediction progress: |██████████████████████████████████████████████| (done) 100%\n"
     ]
    },
    {
     "name": "stderr",
     "output_type": "stream",
     "text": [
      "dist_matrix: 100%|##########| 22/22 [00:00<00:00, 143.71it/s]\n",
      "synth_matrix: 100%|##########| 22/22 [00:00<00:00, 177.09it/s]\n",
      "r_index: 100%|##########| 3/3 [00:00<00:00, 466.41it/s]\n",
      "dist_matrix: 100%|##########| 33/33 [00:00<00:00, 88.74it/s]\n",
      "synth_matrix: 100%|##########| 33/33 [00:00<00:00, 456.93it/s]\n",
      "r_index: 100%|##########| 25/25 [00:00<00:00, 470.74it/s]\n"
     ]
    },
    {
     "name": "stdout",
     "output_type": "stream",
     "text": [
      "Parse progress: |████████████████████████████████████████████████████████████████| (done) 100%\n",
      "deeplearning Model Build progress: |"
     ]
    },
    {
     "name": "stderr",
     "output_type": "stream",
     "text": [
      "/Users/gaskell/miniforge_x86_64/envs/ADPred_new/lib/python3.10/site-packages/h2o/estimators/estimator_base.py:208: RuntimeWarning: Dropping bad and constant columns: [pres_imuran, pres_minocin, init_group, num_tnf, num_nontnf, hxtia]\n",
      "  warnings.warn(mesg[\"message\"], RuntimeWarning)\n"
     ]
    },
    {
     "name": "stdout",
     "output_type": "stream",
     "text": [
      "█████████████████████████████████████████████| (done) 100%\n",
      "Parse progress: |████████████████████████████████████████████████████████████████| (done) 100%\n",
      "deeplearning prediction progress: |██████████████████████████████████████████████| (done) 100%\n",
      "Parse progress: |████████████████████████████████████████████████████████████████| (done) 100%\n",
      "deeplearning prediction progress: |██████████████████████████████████████████████| (done) 100%\n"
     ]
    },
    {
     "name": "stderr",
     "output_type": "stream",
     "text": [
      "dist_matrix: 100%|##########| 24/24 [00:00<00:00, 132.49it/s]\n",
      "synth_matrix: 100%|##########| 24/24 [00:00<00:00, 269.91it/s]\n",
      "r_index: 100%|##########| 18/18 [00:00<00:00, 481.96it/s]\n",
      "dist_matrix: 100%|##########| 33/33 [00:00<00:00, 89.53it/s]\n",
      "synth_matrix: 100%|##########| 33/33 [00:00<00:00, 495.86it/s]\n",
      "r_index: 100%|##########| 25/25 [00:00<00:00, 496.64it/s]\n"
     ]
    },
    {
     "name": "stdout",
     "output_type": "stream",
     "text": [
      "Parse progress: |████████████████████████████████████████████████████████████████| (done) 100%\n",
      "deeplearning Model Build progress: |"
     ]
    },
    {
     "name": "stderr",
     "output_type": "stream",
     "text": [
      "/Users/gaskell/miniforge_x86_64/envs/ADPred_new/lib/python3.10/site-packages/h2o/estimators/estimator_base.py:208: RuntimeWarning: Dropping bad and constant columns: [pres_imuran, pres_minocin, init_group, num_tnf, num_nontnf]\n",
      "  warnings.warn(mesg[\"message\"], RuntimeWarning)\n"
     ]
    },
    {
     "name": "stdout",
     "output_type": "stream",
     "text": [
      "█████████████████████████████████████████████| (done) 100%\n",
      "Parse progress: |████████████████████████████████████████████████████████████████| (done) 100%\n",
      "deeplearning prediction progress: |██████████████████████████████████████████████| (done) 100%\n",
      "Parse progress: |████████████████████████████████████████████████████████████████| (done) 100%\n",
      "deeplearning prediction progress: |██████████████████████████████████████████████| (done) 100%\n",
      "Parse progress: |████████████████████████████████████████████████████████████████| (done) 100%\n",
      "deeplearning prediction progress: |██████████████████████████████████████████████| (done) 100%\n"
     ]
    },
    {
     "name": "stderr",
     "output_type": "stream",
     "text": [
      "dist_matrix: 100%|##########| 22/22 [00:00<00:00, 145.70it/s]\n",
      "synth_matrix: 100%|##########| 22/22 [00:00<00:00, 168.59it/s]\n",
      "r_index: 100%|##########| 3/3 [00:00<00:00, 575.80it/s]\n",
      "dist_matrix: 100%|##########| 33/33 [00:00<00:00, 87.64it/s]\n",
      "synth_matrix: 100%|##########| 33/33 [00:00<00:00, 461.94it/s]\n",
      "r_index: 100%|##########| 25/25 [00:00<00:00, 513.75it/s]\n"
     ]
    },
    {
     "name": "stdout",
     "output_type": "stream",
     "text": [
      "Parse progress: |████████████████████████████████████████████████████████████████| (done) 100%\n",
      "deeplearning Model Build progress: |"
     ]
    },
    {
     "name": "stderr",
     "output_type": "stream",
     "text": [
      "/Users/gaskell/miniforge_x86_64/envs/ADPred_new/lib/python3.10/site-packages/h2o/estimators/estimator_base.py:208: RuntimeWarning: Dropping bad and constant columns: [hxchf, pres_imuran, pres_minocin, init_group, num_tnf, num_nontnf, hxtia]\n",
      "  warnings.warn(mesg[\"message\"], RuntimeWarning)\n"
     ]
    },
    {
     "name": "stdout",
     "output_type": "stream",
     "text": [
      "█████████████████████████████████████████████| (done) 100%\n",
      "Parse progress: |████████████████████████████████████████████████████████████████| (done) 100%\n",
      "deeplearning prediction progress: |██████████████████████████████████████████████| (done) 100%\n",
      "Parse progress: |████████████████████████████████████████████████████████████████| (done) 100%\n",
      "deeplearning prediction progress: |██████████████████████████████████████████████| (done) 100%\n"
     ]
    },
    {
     "name": "stderr",
     "output_type": "stream",
     "text": [
      "dist_matrix: 100%|##########| 21/21 [00:00<00:00, 152.41it/s]\n",
      "synth_matrix: 100%|##########| 21/21 [00:00<00:00, 179.58it/s]\n",
      "r_index: 100%|##########| 6/6 [00:00<00:00, 527.88it/s]\n",
      "dist_matrix: 100%|##########| 33/33 [00:00<00:00, 87.33it/s]\n",
      "synth_matrix: 100%|##########| 33/33 [00:00<00:00, 447.11it/s]\n",
      "r_index: 100%|##########| 25/25 [00:00<00:00, 502.39it/s]"
     ]
    },
    {
     "name": "stdout",
     "output_type": "stream",
     "text": [
      "Parse progress: |"
     ]
    },
    {
     "name": "stderr",
     "output_type": "stream",
     "text": [
      "\n"
     ]
    },
    {
     "name": "stdout",
     "output_type": "stream",
     "text": [
      "████████████████████████████████████████████████████████████████| (done) 100%\n",
      "deeplearning Model Build progress: |"
     ]
    },
    {
     "name": "stderr",
     "output_type": "stream",
     "text": [
      "/Users/gaskell/miniforge_x86_64/envs/ADPred_new/lib/python3.10/site-packages/h2o/estimators/estimator_base.py:208: RuntimeWarning: Dropping bad and constant columns: [hxchf, pres_imuran, pres_minocin, init_group, num_tnf, num_nontnf]\n",
      "  warnings.warn(mesg[\"message\"], RuntimeWarning)\n"
     ]
    },
    {
     "name": "stdout",
     "output_type": "stream",
     "text": [
      "█████████████████████████████████████████████| (done) 100%\n",
      "Parse progress: |████████████████████████████████████████████████████████████████| (done) 100%\n",
      "deeplearning prediction progress: |██████████████████████████████████████████████| (done) 100%\n",
      "Parse progress: |████████████████████████████████████████████████████████████████| (done) 100%\n",
      "deeplearning prediction progress: |██████████████████████████████████████████████| (done) 100%\n"
     ]
    },
    {
     "name": "stderr",
     "output_type": "stream",
     "text": [
      "dist_matrix: 100%|##########| 21/21 [00:00<00:00, 152.92it/s]\n",
      "synth_matrix: 100%|##########| 21/21 [00:00<00:00, 171.11it/s]\n",
      "r_index: 100%|##########| 6/6 [00:00<00:00, 444.15it/s]\n",
      "dist_matrix: 100%|##########| 32/32 [00:00<00:00, 90.05it/s]\n",
      "synth_matrix: 100%|##########| 32/32 [00:00<00:00, 466.82it/s]\n",
      "r_index: 100%|##########| 27/27 [00:00<00:00, 445.01it/s]\n"
     ]
    },
    {
     "name": "stdout",
     "output_type": "stream",
     "text": [
      "Parse progress: |████████████████████████████████████████████████████████████████| (done) 100%\n",
      "deeplearning Model Build progress: |"
     ]
    },
    {
     "name": "stderr",
     "output_type": "stream",
     "text": [
      "/Users/gaskell/miniforge_x86_64/envs/ADPred_new/lib/python3.10/site-packages/h2o/estimators/estimator_base.py:208: RuntimeWarning: Dropping bad and constant columns: [pres_imuran, pres_minocin, init_group, num_tnf, num_nontnf, hxtia]\n",
      "  warnings.warn(mesg[\"message\"], RuntimeWarning)\n"
     ]
    },
    {
     "name": "stdout",
     "output_type": "stream",
     "text": [
      "█████████████████████████████████████████████| (done) 100%\n",
      "Parse progress: |████████████████████████████████████████████████████████████████| (done) 100%\n",
      "deeplearning prediction progress: |██████████████████████████████████████████████| (done) 100%\n",
      "Parse progress: |████████████████████████████████████████████████████████████████| (done) 100%\n",
      "deeplearning prediction progress: |██████████████████████████████████████████████| (done) 100%\n"
     ]
    },
    {
     "name": "stderr",
     "output_type": "stream",
     "text": [
      "dist_matrix: 100%|##########| 24/24 [00:00<00:00, 131.00it/s]\n",
      "synth_matrix: 100%|##########| 24/24 [00:00<00:00, 271.80it/s]\n",
      "r_index: 100%|##########| 18/18 [00:00<00:00, 544.20it/s]\n",
      "dist_matrix: 100%|##########| 31/31 [00:00<00:00, 95.03it/s]\n",
      "synth_matrix: 100%|##########| 31/31 [00:00<00:00, 493.20it/s]\n",
      "r_index: 100%|##########| 29/29 [00:00<00:00, 502.80it/s]"
     ]
    },
    {
     "name": "stdout",
     "output_type": "stream",
     "text": [
      "Parse progress: |"
     ]
    },
    {
     "name": "stderr",
     "output_type": "stream",
     "text": [
      "\n"
     ]
    },
    {
     "name": "stdout",
     "output_type": "stream",
     "text": [
      "████████████████████████████████████████████████████████████████| (done) 100%\n",
      "deeplearning Model Build progress: |"
     ]
    },
    {
     "name": "stderr",
     "output_type": "stream",
     "text": [
      "/Users/gaskell/miniforge_x86_64/envs/ADPred_new/lib/python3.10/site-packages/h2o/estimators/estimator_base.py:208: RuntimeWarning: Dropping bad and constant columns: [hxchf, pres_imuran, pres_minocin, init_group, num_tnf, num_nontnf]\n",
      "  warnings.warn(mesg[\"message\"], RuntimeWarning)\n"
     ]
    },
    {
     "name": "stdout",
     "output_type": "stream",
     "text": [
      "█████████████████████████████████████████████| (done) 100%\n",
      "Parse progress: |████████████████████████████████████████████████████████████████| (done) 100%\n",
      "deeplearning prediction progress: |██████████████████████████████████████████████| (done) 100%\n",
      "Parse progress: |████████████████████████████████████████████████████████████████| (done) 100%\n",
      "deeplearning prediction progress: |██████████████████████████████████████████████| (done) 100%\n"
     ]
    },
    {
     "name": "stderr",
     "output_type": "stream",
     "text": [
      "dist_matrix: 100%|##########| 28/28 [00:00<00:00, 113.78it/s]\n",
      "synth_matrix: 100%|##########| 28/28 [00:00<00:00, 172.48it/s]\n",
      "r_index: 100%|##########| 25/25 [00:00<00:00, 497.26it/s]"
     ]
    },
    {
     "name": "stdout",
     "output_type": "stream",
     "text": [
      "Parse progress: |"
     ]
    },
    {
     "name": "stderr",
     "output_type": "stream",
     "text": [
      "\n"
     ]
    },
    {
     "name": "stdout",
     "output_type": "stream",
     "text": [
      "████████████████████████████████████████████████████████████████| (done) 100%\n",
      "deeplearning Model Build progress: |"
     ]
    },
    {
     "name": "stderr",
     "output_type": "stream",
     "text": [
      "/Users/gaskell/miniforge_x86_64/envs/ADPred_new/lib/python3.10/site-packages/h2o/estimators/estimator_base.py:208: RuntimeWarning: Dropping bad and constant columns: [hxchf, pres_imuran, pres_minocin, init_group, num_tnf, num_nontnf, hxunstab_ang]\n",
      "  warnings.warn(mesg[\"message\"], RuntimeWarning)\n"
     ]
    },
    {
     "name": "stdout",
     "output_type": "stream",
     "text": [
      "█████████████████████████████████████████████| (done) 100%\n",
      "Parse progress: |████████████████████████████████████████████████████████████████| (done) 100%\n",
      "deeplearning prediction progress: |██████████████████████████████████████████████| (done) 100%\n",
      "Parse progress: |████████████████████████████████████████████████████████████████| (done) 100%\n",
      "deeplearning prediction progress: |██████████████████████████████████████████████| (done) 100%\n"
     ]
    },
    {
     "name": "stderr",
     "output_type": "stream",
     "text": [
      "dist_matrix: 100%|##########| 27/27 [00:00<00:00, 117.47it/s]\n",
      "synth_matrix: 100%|##########| 27/27 [00:00<00:00, 255.00it/s]\n",
      "r_index: 100%|##########| 9/9 [00:00<00:00, 458.90it/s]\n",
      "dist_matrix: 100%|##########| 30/30 [00:00<00:00, 97.17it/s]\n",
      "synth_matrix: 100%|##########| 30/30 [00:00<00:00, 235.41it/s]"
     ]
    },
    {
     "name": "stdout",
     "output_type": "stream",
     "text": [
      "Parse progress: |"
     ]
    },
    {
     "name": "stderr",
     "output_type": "stream",
     "text": [
      "\n"
     ]
    },
    {
     "name": "stdout",
     "output_type": "stream",
     "text": [
      "████████████████████████████████████████████████████████████████| (done) 100%\n",
      "deeplearning Model Build progress: |"
     ]
    },
    {
     "name": "stderr",
     "output_type": "stream",
     "text": [
      "/Users/gaskell/miniforge_x86_64/envs/ADPred_new/lib/python3.10/site-packages/h2o/estimators/estimator_base.py:208: RuntimeWarning: Dropping bad and constant columns: [pres_imuran, pres_minocin, init_group, num_tnf, num_nontnf]\n",
      "  warnings.warn(mesg[\"message\"], RuntimeWarning)\n"
     ]
    },
    {
     "name": "stdout",
     "output_type": "stream",
     "text": [
      "█████████████████████████████████████████████| (done) 100%\n",
      "Parse progress: |████████████████████████████████████████████████████████████████| (done) 100%\n",
      "deeplearning prediction progress: |██████████████████████████████████████████████| (done) 100%\n",
      "Parse progress: |████████████████████████████████████████████████████████████████| (done) 100%\n",
      "deeplearning prediction progress: |██████████████████████████████████████████████| (done) 100%\n"
     ]
    },
    {
     "name": "stderr",
     "output_type": "stream",
     "text": [
      "dist_matrix: 100%|##########| 22/22 [00:00<00:00, 147.81it/s]\n",
      "synth_matrix: 100%|##########| 22/22 [00:00<00:00, 175.37it/s]\n",
      "r_index: 100%|##########| 3/3 [00:00<00:00, 478.84it/s]\n",
      "dist_matrix: 100%|##########| 28/28 [00:00<00:00, 104.77it/s]\n",
      "synth_matrix: 100%|##########| 28/28 [00:00<00:00, 252.45it/s]\n",
      "r_index: 100%|##########| 7/7 [00:00<00:00, 438.05it/s]\n"
     ]
    },
    {
     "name": "stdout",
     "output_type": "stream",
     "text": [
      "Parse progress: |████████████████████████████████████████████████████████████████| (done) 100%\n",
      "deeplearning Model Build progress: |"
     ]
    },
    {
     "name": "stderr",
     "output_type": "stream",
     "text": [
      "/Users/gaskell/miniforge_x86_64/envs/ADPred_new/lib/python3.10/site-packages/h2o/estimators/estimator_base.py:208: RuntimeWarning: Dropping bad and constant columns: [hxchf, pres_imuran, pres_minocin, init_group, num_tnf, num_nontnf]\n",
      "  warnings.warn(mesg[\"message\"], RuntimeWarning)\n"
     ]
    },
    {
     "name": "stdout",
     "output_type": "stream",
     "text": [
      "█████████████████████████████████████████████| (done) 100%\n",
      "Parse progress: |████████████████████████████████████████████████████████████████| (done) 100%\n",
      "deeplearning prediction progress: |██████████████████████████████████████████████| (done) 100%\n",
      "Parse progress: |████████████████████████████████████████████████████████████████| (done) 100%\n",
      "deeplearning prediction progress: |██████████████████████████████████████████████| (done) 100%\n"
     ]
    },
    {
     "name": "stderr",
     "output_type": "stream",
     "text": [
      "dist_matrix: 100%|##########| 22/22 [00:00<00:00, 136.78it/s]\n",
      "synth_matrix: 100%|##########| 22/22 [00:00<00:00, 149.91it/s]\n",
      "r_index: 100%|##########| 3/3 [00:00<00:00, 559.29it/s]\n",
      "dist_matrix: 100%|##########| 33/33 [00:00<00:00, 87.73it/s]\n",
      "synth_matrix: 100%|##########| 33/33 [00:00<00:00, 464.98it/s]\n",
      "r_index: 100%|##########| 25/25 [00:00<00:00, 442.70it/s]"
     ]
    },
    {
     "name": "stdout",
     "output_type": "stream",
     "text": [
      "Parse progress: |"
     ]
    },
    {
     "name": "stderr",
     "output_type": "stream",
     "text": [
      "\n"
     ]
    },
    {
     "name": "stdout",
     "output_type": "stream",
     "text": [
      "████████████████████████████████████████████████████████████████| (done) 100%\n",
      "deeplearning Model Build progress: |"
     ]
    },
    {
     "name": "stderr",
     "output_type": "stream",
     "text": [
      "/Users/gaskell/miniforge_x86_64/envs/ADPred_new/lib/python3.10/site-packages/h2o/estimators/estimator_base.py:208: RuntimeWarning: Dropping bad and constant columns: [hxchf, pres_imuran, pres_minocin, init_group, num_tnf, num_nontnf, hxtia]\n",
      "  warnings.warn(mesg[\"message\"], RuntimeWarning)\n"
     ]
    },
    {
     "name": "stdout",
     "output_type": "stream",
     "text": [
      "█████████████████████████████████████████████| (done) 100%\n",
      "Parse progress: |████████████████████████████████████████████████████████████████| (done) 100%\n",
      "deeplearning prediction progress: |██████████████████████████████████████████████| (done) 100%\n",
      "Parse progress: |████████████████████████████████████████████████████████████████| (done) 100%\n",
      "deeplearning prediction progress: |██████████████████████████████████████████████| (done) 100%\n"
     ]
    },
    {
     "name": "stderr",
     "output_type": "stream",
     "text": [
      "dist_matrix: 100%|##########| 22/22 [00:00<00:00, 143.79it/s]\n",
      "synth_matrix: 100%|##########| 22/22 [00:00<00:00, 165.58it/s]\n",
      "r_index: 100%|##########| 3/3 [00:00<00:00, 370.60it/s]\n",
      "dist_matrix: 100%|##########| 29/29 [00:00<00:00, 99.50it/s]\n",
      "synth_matrix: 100%|##########| 29/29 [00:00<00:00, 236.35it/s]\n",
      "r_index: 100%|##########| 3/3 [00:00<00:00, 429.88it/s]"
     ]
    },
    {
     "name": "stdout",
     "output_type": "stream",
     "text": [
      "Parse progress: |"
     ]
    },
    {
     "name": "stderr",
     "output_type": "stream",
     "text": [
      "\n"
     ]
    },
    {
     "name": "stdout",
     "output_type": "stream",
     "text": [
      "████████████████████████████████████████████████████████████████| (done) 100%\n",
      "deeplearning Model Build progress: |"
     ]
    },
    {
     "name": "stderr",
     "output_type": "stream",
     "text": [
      "/Users/gaskell/miniforge_x86_64/envs/ADPred_new/lib/python3.10/site-packages/h2o/estimators/estimator_base.py:208: RuntimeWarning: Dropping bad and constant columns: [pres_imuran, pres_minocin, init_group, num_tnf, num_nontnf, hxtia]\n",
      "  warnings.warn(mesg[\"message\"], RuntimeWarning)\n"
     ]
    },
    {
     "name": "stdout",
     "output_type": "stream",
     "text": [
      "█████████████████████████████████████████████| (done) 100%\n",
      "Parse progress: |████████████████████████████████████████████████████████████████| (done) 100%\n",
      "deeplearning prediction progress: |██████████████████████████████████████████████| (done) 100%\n",
      "Parse progress: |████████████████████████████████████████████████████████████████| (done) 100%\n",
      "deeplearning prediction progress: |██████████████████████████████████████████████| (done) 100%\n"
     ]
    },
    {
     "name": "stderr",
     "output_type": "stream",
     "text": [
      "dist_matrix: 100%|##########| 22/22 [00:00<00:00, 147.23it/s]\n",
      "synth_matrix: 100%|##########| 22/22 [00:00<00:00, 179.67it/s]\n",
      "r_index: 100%|##########| 3/3 [00:00<00:00, 588.81it/s]\n",
      "dist_matrix: 100%|##########| 30/30 [00:00<00:00, 96.53it/s]\n",
      "synth_matrix: 100%|##########| 30/30 [00:00<00:00, 221.52it/s]"
     ]
    },
    {
     "name": "stdout",
     "output_type": "stream",
     "text": [
      "Parse progress: |"
     ]
    },
    {
     "name": "stderr",
     "output_type": "stream",
     "text": [
      "\n"
     ]
    },
    {
     "name": "stdout",
     "output_type": "stream",
     "text": [
      "████████████████████████████████████████████████████████████████| (done) 100%\n",
      "deeplearning Model Build progress: |"
     ]
    },
    {
     "name": "stderr",
     "output_type": "stream",
     "text": [
      "/Users/gaskell/miniforge_x86_64/envs/ADPred_new/lib/python3.10/site-packages/h2o/estimators/estimator_base.py:208: RuntimeWarning: Dropping bad and constant columns: [pres_imuran, pres_minocin, init_group, num_tnf, num_nontnf]\n",
      "  warnings.warn(mesg[\"message\"], RuntimeWarning)\n"
     ]
    },
    {
     "name": "stdout",
     "output_type": "stream",
     "text": [
      "█████████████████████████████████████████████| (done) 100%\n",
      "Parse progress: |████████████████████████████████████████████████████████████████| (done) 100%\n",
      "deeplearning prediction progress: |██████████████████████████████████████████████| (done) 100%\n",
      "Parse progress: |████████████████████████████████████████████████████████████████| (done) 100%\n",
      "deeplearning prediction progress: |██████████████████████████████████████████████| (done) 100%\n"
     ]
    },
    {
     "name": "stderr",
     "output_type": "stream",
     "text": [
      "dist_matrix: 100%|##########| 22/22 [00:00<00:00, 144.82it/s]\n",
      "synth_matrix: 100%|##########| 22/22 [00:00<00:00, 177.58it/s]\n",
      "r_index: 100%|##########| 3/3 [00:00<00:00, 581.06it/s]\n"
     ]
    },
    {
     "name": "stdout",
     "output_type": "stream",
     "text": [
      "Parse progress: |████████████████████████████████████████████████████████████████| (done) 100%\n",
      "deeplearning Model Build progress: |"
     ]
    },
    {
     "name": "stderr",
     "output_type": "stream",
     "text": [
      "/Users/gaskell/miniforge_x86_64/envs/ADPred_new/lib/python3.10/site-packages/h2o/estimators/estimator_base.py:208: RuntimeWarning: Dropping bad and constant columns: [pres_imuran, pres_minocin, init_group, num_tnf, num_nontnf]\n",
      "  warnings.warn(mesg[\"message\"], RuntimeWarning)\n"
     ]
    },
    {
     "name": "stdout",
     "output_type": "stream",
     "text": [
      "█████████████████████████████████████████████| (done) 100%\n",
      "Parse progress: |████████████████████████████████████████████████████████████████| (done) 100%\n",
      "deeplearning prediction progress: |██████████████████████████████████████████████| (done) 100%\n",
      "Parse progress: |████████████████████████████████████████████████████████████████| (done) 100%\n",
      "deeplearning prediction progress: |██████████████████████████████████████████████| (done) 100%\n"
     ]
    },
    {
     "name": "stderr",
     "output_type": "stream",
     "text": [
      "dist_matrix: 100%|##########| 24/24 [00:00<00:00, 132.18it/s]\n",
      "synth_matrix: 100%|##########| 24/24 [00:00<00:00, 255.09it/s]\n",
      "r_index: 100%|##########| 18/18 [00:00<00:00, 550.34it/s]\n",
      "dist_matrix: 100%|##########| 30/30 [00:00<00:00, 99.95it/s] \n",
      "synth_matrix: 100%|##########| 30/30 [00:00<00:00, 253.53it/s]"
     ]
    },
    {
     "name": "stdout",
     "output_type": "stream",
     "text": [
      "Parse progress: |"
     ]
    },
    {
     "name": "stderr",
     "output_type": "stream",
     "text": [
      "\n"
     ]
    },
    {
     "name": "stdout",
     "output_type": "stream",
     "text": [
      "████████████████████████████████████████████████████████████████| (done) 100%\n",
      "deeplearning Model Build progress: |"
     ]
    },
    {
     "name": "stderr",
     "output_type": "stream",
     "text": [
      "/Users/gaskell/miniforge_x86_64/envs/ADPred_new/lib/python3.10/site-packages/h2o/estimators/estimator_base.py:208: RuntimeWarning: Dropping bad and constant columns: [hxchf, pres_imuran, pres_minocin, init_group, num_tnf, num_nontnf, hxunstab_ang]\n",
      "  warnings.warn(mesg[\"message\"], RuntimeWarning)\n"
     ]
    },
    {
     "name": "stdout",
     "output_type": "stream",
     "text": [
      "█████████████████████████████████████████████| (done) 100%\n",
      "Parse progress: |████████████████████████████████████████████████████████████████| (done) 100%\n",
      "deeplearning prediction progress: |██████████████████████████████████████████████| (done) 100%\n",
      "Parse progress: |████████████████████████████████████████████████████████████████| (done) 100%\n",
      "deeplearning prediction progress: |██████████████████████████████████████████████| (done) 100%\n"
     ]
    },
    {
     "name": "stderr",
     "output_type": "stream",
     "text": [
      "dist_matrix: 100%|##########| 20/20 [00:00<00:00, 154.85it/s]\n",
      "synth_matrix: 100%|##########| 20/20 [00:00<00:00, 155.47it/s]\n",
      "r_index: 100%|##########| 10/10 [00:00<00:00, 492.85it/s]\n",
      "dist_matrix: 100%|##########| 32/32 [00:00<00:00, 89.53it/s]\n",
      "synth_matrix: 100%|##########| 32/32 [00:00<00:00, 459.01it/s]\n",
      "r_index: 100%|##########| 27/27 [00:00<00:00, 486.76it/s]\n"
     ]
    },
    {
     "name": "stdout",
     "output_type": "stream",
     "text": [
      "Parse progress: |████████████████████████████████████████████████████████████████| (done) 100%\n",
      "deeplearning Model Build progress: |"
     ]
    },
    {
     "name": "stderr",
     "output_type": "stream",
     "text": [
      "/Users/gaskell/miniforge_x86_64/envs/ADPred_new/lib/python3.10/site-packages/h2o/estimators/estimator_base.py:208: RuntimeWarning: Dropping bad and constant columns: [pres_imuran, pres_minocin, init_group, num_tnf, num_nontnf, hxtia]\n",
      "  warnings.warn(mesg[\"message\"], RuntimeWarning)\n"
     ]
    },
    {
     "name": "stdout",
     "output_type": "stream",
     "text": [
      "█████████████████████████████████████████████| (done) 100%\n",
      "Parse progress: |████████████████████████████████████████████████████████████████| (done) 100%\n",
      "deeplearning prediction progress: |██████████████████████████████████████████████| (done) 100%\n",
      "Parse progress: |████████████████████████████████████████████████████████████████| (done) 100%\n",
      "deeplearning prediction progress: |██████████████████████████████████████████████| (done) 100%\n"
     ]
    },
    {
     "name": "stderr",
     "output_type": "stream",
     "text": [
      "dist_matrix: 100%|##########| 21/21 [00:00<00:00, 151.41it/s]\n",
      "synth_matrix: 100%|##########| 21/21 [00:00<00:00, 154.43it/s]\n",
      "r_index: 100%|##########| 6/6 [00:00<00:00, 433.59it/s]\n",
      "dist_matrix: 100%|##########| 28/28 [00:00<00:00, 104.86it/s]\n",
      "synth_matrix: 100%|##########| 28/28 [00:00<00:00, 226.96it/s]\n",
      "r_index: 100%|##########| 7/7 [00:00<00:00, 430.77it/s]\n"
     ]
    },
    {
     "name": "stdout",
     "output_type": "stream",
     "text": [
      "Parse progress: |████████████████████████████████████████████████████████████████| (done) 100%\n",
      "deeplearning Model Build progress: |"
     ]
    },
    {
     "name": "stderr",
     "output_type": "stream",
     "text": [
      "/Users/gaskell/miniforge_x86_64/envs/ADPred_new/lib/python3.10/site-packages/h2o/estimators/estimator_base.py:208: RuntimeWarning: Dropping bad and constant columns: [pres_imuran, pres_minocin, init_group, num_tnf, num_nontnf]\n",
      "  warnings.warn(mesg[\"message\"], RuntimeWarning)\n"
     ]
    },
    {
     "name": "stdout",
     "output_type": "stream",
     "text": [
      "█████████████████████████████████████████████| (done) 100%\n",
      "Parse progress: |████████████████████████████████████████████████████████████████| (done) 100%\n",
      "deeplearning prediction progress: |██████████████████████████████████████████████| (done) 100%\n",
      "Parse progress: |████████████████████████████████████████████████████████████████| (done) 100%\n",
      "deeplearning prediction progress: |██████████████████████████████████████████████| (done) 100%\n"
     ]
    },
    {
     "name": "stderr",
     "output_type": "stream",
     "text": [
      "dist_matrix: 100%|##########| 21/21 [00:00<00:00, 150.80it/s]\n",
      "synth_matrix: 100%|##########| 21/21 [00:00<00:00, 158.95it/s]\n",
      "r_index: 100%|##########| 6/6 [00:00<00:00, 429.00it/s]\n",
      "dist_matrix: 100%|##########| 32/32 [00:00<00:00, 90.36it/s]\n",
      "synth_matrix: 100%|##########| 32/32 [00:00<00:00, 460.57it/s]\n",
      "r_index: 100%|##########| 27/27 [00:00<00:00, 444.99it/s]\n"
     ]
    },
    {
     "name": "stdout",
     "output_type": "stream",
     "text": [
      "Parse progress: |████████████████████████████████████████████████████████████████| (done) 100%\n",
      "deeplearning Model Build progress: |"
     ]
    },
    {
     "name": "stderr",
     "output_type": "stream",
     "text": [
      "/Users/gaskell/miniforge_x86_64/envs/ADPred_new/lib/python3.10/site-packages/h2o/estimators/estimator_base.py:208: RuntimeWarning: Dropping bad and constant columns: [hxchf, pres_imuran, pres_minocin, init_group, num_tnf, num_nontnf]\n",
      "  warnings.warn(mesg[\"message\"], RuntimeWarning)\n"
     ]
    },
    {
     "name": "stdout",
     "output_type": "stream",
     "text": [
      "█████████████████████████████████████████████| (done) 100%\n",
      "Parse progress: |████████████████████████████████████████████████████████████████| (done) 100%\n",
      "deeplearning prediction progress: |██████████████████████████████████████████████| (done) 100%\n",
      "Parse progress: |████████████████████████████████████████████████████████████████| (done) 100%\n",
      "deeplearning prediction progress: |██████████████████████████████████████████████| (done) 100%\n"
     ]
    },
    {
     "name": "stderr",
     "output_type": "stream",
     "text": [
      "dist_matrix: 100%|##########| 22/22 [00:00<00:00, 142.23it/s]\n",
      "synth_matrix: 100%|##########| 22/22 [00:00<00:00, 165.40it/s]\n",
      "r_index: 100%|##########| 3/3 [00:00<00:00, 433.46it/s]\n",
      "dist_matrix: 100%|##########| 31/31 [00:00<00:00, 92.03it/s]\n",
      "synth_matrix: 100%|##########| 31/31 [00:00<00:00, 459.58it/s]\n",
      "r_index: 100%|##########| 29/29 [00:00<00:00, 508.81it/s]\n"
     ]
    },
    {
     "name": "stdout",
     "output_type": "stream",
     "text": [
      "Parse progress: |████████████████████████████████████████████████████████████████| (done) 100%\n",
      "deeplearning Model Build progress: |"
     ]
    },
    {
     "name": "stderr",
     "output_type": "stream",
     "text": [
      "/Users/gaskell/miniforge_x86_64/envs/ADPred_new/lib/python3.10/site-packages/h2o/estimators/estimator_base.py:208: RuntimeWarning: Dropping bad and constant columns: [pres_imuran, pres_minocin, init_group, num_tnf, num_nontnf, hxtia]\n",
      "  warnings.warn(mesg[\"message\"], RuntimeWarning)\n"
     ]
    },
    {
     "name": "stdout",
     "output_type": "stream",
     "text": [
      "█████████████████████████████████████████████| (done) 100%\n",
      "Parse progress: |████████████████████████████████████████████████████████████████| (done) 100%\n",
      "deeplearning prediction progress: |██████████████████████████████████████████████| (done) 100%\n",
      "Parse progress: |████████████████████████████████████████████████████████████████| (done) 100%\n",
      "deeplearning prediction progress: |██████████████████████████████████████████████| (done) 100%\n"
     ]
    },
    {
     "name": "stderr",
     "output_type": "stream",
     "text": [
      "dist_matrix: 100%|##########| 30/30 [00:00<00:00, 96.66it/s]\n",
      "synth_matrix: 100%|##########| 30/30 [00:00<00:00, 155.02it/s]\n",
      "r_index: 100%|##########| 16/16 [00:00<00:00, 512.62it/s]"
     ]
    },
    {
     "name": "stdout",
     "output_type": "stream",
     "text": [
      "Parse progress: |"
     ]
    },
    {
     "name": "stderr",
     "output_type": "stream",
     "text": [
      "\n"
     ]
    },
    {
     "name": "stdout",
     "output_type": "stream",
     "text": [
      "████████████████████████████████████████████████████████████████| (done) 100%\n",
      "deeplearning Model Build progress: |"
     ]
    },
    {
     "name": "stderr",
     "output_type": "stream",
     "text": [
      "/Users/gaskell/miniforge_x86_64/envs/ADPred_new/lib/python3.10/site-packages/h2o/estimators/estimator_base.py:208: RuntimeWarning: Dropping bad and constant columns: [hxchf, pres_imuran, pres_minocin, init_group, num_tnf, num_nontnf, hxtia]\n",
      "  warnings.warn(mesg[\"message\"], RuntimeWarning)\n"
     ]
    },
    {
     "name": "stdout",
     "output_type": "stream",
     "text": [
      "█████████████████████████████████████████████| (done) 100%\n",
      "Parse progress: |████████████████████████████████████████████████████████████████| (done) 100%\n",
      "deeplearning prediction progress: |██████████████████████████████████████████████| (done) 100%\n",
      "Parse progress: |████████████████████████████████████████████████████████████████| (done) 100%\n",
      "deeplearning prediction progress: |██████████████████████████████████████████████| (done) 100%\n"
     ]
    },
    {
     "name": "stderr",
     "output_type": "stream",
     "text": [
      "dist_matrix: 100%|##########| 21/21 [00:00<00:00, 152.26it/s]\n",
      "synth_matrix: 100%|##########| 21/21 [00:00<00:00, 166.60it/s]\n",
      "r_index: 100%|##########| 6/6 [00:00<00:00, 596.49it/s]\n",
      "dist_matrix: 100%|##########| 30/30 [00:00<00:00, 98.74it/s]\n",
      "synth_matrix: 100%|##########| 30/30 [00:00<00:00, 233.26it/s]"
     ]
    },
    {
     "name": "stdout",
     "output_type": "stream",
     "text": [
      "Parse progress: |"
     ]
    },
    {
     "name": "stderr",
     "output_type": "stream",
     "text": [
      "\n"
     ]
    },
    {
     "name": "stdout",
     "output_type": "stream",
     "text": [
      "████████████████████████████████████████████████████████████████| (done) 100%\n",
      "deeplearning Model Build progress: |"
     ]
    },
    {
     "name": "stderr",
     "output_type": "stream",
     "text": [
      "/Users/gaskell/miniforge_x86_64/envs/ADPred_new/lib/python3.10/site-packages/h2o/estimators/estimator_base.py:208: RuntimeWarning: Dropping bad and constant columns: [pres_imuran, pres_minocin, init_group, num_tnf, num_nontnf, hxtia]\n",
      "  warnings.warn(mesg[\"message\"], RuntimeWarning)\n"
     ]
    },
    {
     "name": "stdout",
     "output_type": "stream",
     "text": [
      "█████████████████████████████████████████████| (done) 100%\n",
      "Parse progress: |████████████████████████████████████████████████████████████████| (done) 100%\n",
      "deeplearning prediction progress: |██████████████████████████████████████████████| (done) 100%\n",
      "Parse progress: |████████████████████████████████████████████████████████████████| (done) 100%\n",
      "deeplearning prediction progress: |██████████████████████████████████████████████| (done) 100%\n"
     ]
    },
    {
     "name": "stderr",
     "output_type": "stream",
     "text": [
      "dist_matrix: 100%|##########| 22/22 [00:00<00:00, 149.17it/s]\n",
      "synth_matrix: 100%|##########| 22/22 [00:00<00:00, 174.91it/s]\n",
      "r_index: 100%|##########| 3/3 [00:00<00:00, 560.89it/s]\n",
      "dist_matrix: 100%|##########| 29/29 [00:00<00:00, 101.86it/s]\n",
      "synth_matrix: 100%|##########| 29/29 [00:00<00:00, 238.03it/s]\n",
      "r_index: 100%|##########| 3/3 [00:00<00:00, 440.98it/s]"
     ]
    },
    {
     "name": "stdout",
     "output_type": "stream",
     "text": [
      "Parse progress: |"
     ]
    },
    {
     "name": "stderr",
     "output_type": "stream",
     "text": [
      "\n"
     ]
    },
    {
     "name": "stdout",
     "output_type": "stream",
     "text": [
      "████████████████████████████████████████████████████████████████| (done) 100%\n",
      "deeplearning Model Build progress: |"
     ]
    },
    {
     "name": "stderr",
     "output_type": "stream",
     "text": [
      "/Users/gaskell/miniforge_x86_64/envs/ADPred_new/lib/python3.10/site-packages/h2o/estimators/estimator_base.py:208: RuntimeWarning: Dropping bad and constant columns: [pres_imuran, pres_minocin, init_group, num_tnf, num_nontnf, hxtia]\n",
      "  warnings.warn(mesg[\"message\"], RuntimeWarning)\n"
     ]
    },
    {
     "name": "stdout",
     "output_type": "stream",
     "text": [
      "█████████████████████████████████████████████| (done) 100%\n",
      "Parse progress: |████████████████████████████████████████████████████████████████| (done) 100%\n",
      "deeplearning prediction progress: |██████████████████████████████████████████████| (done) 100%\n",
      "Parse progress: |████████████████████████████████████████████████████████████████| (done) 100%\n",
      "deeplearning prediction progress: |██████████████████████████████████████████████| (done) 100%\n"
     ]
    },
    {
     "name": "stderr",
     "output_type": "stream",
     "text": [
      "dist_matrix: 100%|##########| 24/24 [00:00<00:00, 130.95it/s]\n",
      "synth_matrix: 100%|##########| 24/24 [00:00<00:00, 249.64it/s]\n",
      "r_index: 100%|##########| 18/18 [00:00<00:00, 531.72it/s]\n",
      "dist_matrix: 100%|##########| 33/33 [00:00<00:00, 88.98it/s]\n",
      "synth_matrix: 100%|##########| 33/33 [00:00<00:00, 450.20it/s]\n",
      "r_index: 100%|##########| 25/25 [00:00<00:00, 433.18it/s]\n"
     ]
    },
    {
     "name": "stdout",
     "output_type": "stream",
     "text": [
      "Parse progress: |████████████████████████████████████████████████████████████████| (done) 100%\n",
      "deeplearning Model Build progress: |"
     ]
    },
    {
     "name": "stderr",
     "output_type": "stream",
     "text": [
      "/Users/gaskell/miniforge_x86_64/envs/ADPred_new/lib/python3.10/site-packages/h2o/estimators/estimator_base.py:208: RuntimeWarning: Dropping bad and constant columns: [hxchf, pres_imuran, pres_minocin, init_group, num_tnf, num_nontnf]\n",
      "  warnings.warn(mesg[\"message\"], RuntimeWarning)\n"
     ]
    },
    {
     "name": "stdout",
     "output_type": "stream",
     "text": [
      "█████████████████████████████████████████████| (done) 100%\n",
      "Parse progress: |████████████████████████████████████████████████████████████████| (done) 100%\n",
      "deeplearning prediction progress: |██████████████████████████████████████████████| (done) 100%\n",
      "Parse progress: |████████████████████████████████████████████████████████████████| (done) 100%\n",
      "deeplearning prediction progress: |██████████████████████████████████████████████| (done) 100%\n"
     ]
    },
    {
     "name": "stderr",
     "output_type": "stream",
     "text": [
      "dist_matrix: 100%|##########| 20/20 [00:00<00:00, 158.73it/s]\n",
      "synth_matrix: 100%|##########| 20/20 [00:00<00:00, 165.25it/s]\n",
      "r_index: 100%|##########| 10/10 [00:00<00:00, 522.47it/s]\n",
      "dist_matrix: 100%|##########| 30/30 [00:00<00:00, 96.71it/s]\n",
      "synth_matrix: 100%|##########| 30/30 [00:00<00:00, 246.35it/s]"
     ]
    },
    {
     "name": "stdout",
     "output_type": "stream",
     "text": [
      "Parse progress: |"
     ]
    },
    {
     "name": "stderr",
     "output_type": "stream",
     "text": [
      "\n"
     ]
    },
    {
     "name": "stdout",
     "output_type": "stream",
     "text": [
      "████████████████████████████████████████████████████████████████| (done) 100%\n",
      "deeplearning Model Build progress: |"
     ]
    },
    {
     "name": "stderr",
     "output_type": "stream",
     "text": [
      "/Users/gaskell/miniforge_x86_64/envs/ADPred_new/lib/python3.10/site-packages/h2o/estimators/estimator_base.py:208: RuntimeWarning: Dropping bad and constant columns: [hxchf, pres_imuran, pres_minocin, init_group, num_tnf, num_nontnf, hxunstab_ang]\n",
      "  warnings.warn(mesg[\"message\"], RuntimeWarning)\n"
     ]
    },
    {
     "name": "stdout",
     "output_type": "stream",
     "text": [
      "█████████████████████████████████████████████| (done) 100%\n",
      "Parse progress: |████████████████████████████████████████████████████████████████| (done) 100%\n",
      "deeplearning prediction progress: |██████████████████████████████████████████████| (done) 100%\n",
      "Parse progress: |████████████████████████████████████████████████████████████████| (done) 100%\n",
      "deeplearning prediction progress: |██████████████████████████████████████████████| (done) 100%\n"
     ]
    },
    {
     "name": "stderr",
     "output_type": "stream",
     "text": [
      "dist_matrix: 100%|##########| 24/24 [00:00<00:00, 133.64it/s]\n",
      "synth_matrix: 100%|##########| 24/24 [00:00<00:00, 270.09it/s]\n",
      "r_index: 100%|##########| 18/18 [00:00<00:00, 519.88it/s]\n",
      "dist_matrix: 100%|##########| 31/31 [00:00<00:00, 96.95it/s]\n",
      "synth_matrix: 100%|##########| 31/31 [00:00<00:00, 470.65it/s]\n",
      "r_index: 100%|##########| 29/29 [00:00<00:00, 473.71it/s]"
     ]
    },
    {
     "name": "stdout",
     "output_type": "stream",
     "text": [
      "Parse progress: |"
     ]
    },
    {
     "name": "stderr",
     "output_type": "stream",
     "text": [
      "\n"
     ]
    },
    {
     "name": "stdout",
     "output_type": "stream",
     "text": [
      "████████████████████████████████████████████████████████████████| (done) 100%\n",
      "deeplearning Model Build progress: |"
     ]
    },
    {
     "name": "stderr",
     "output_type": "stream",
     "text": [
      "/Users/gaskell/miniforge_x86_64/envs/ADPred_new/lib/python3.10/site-packages/h2o/estimators/estimator_base.py:208: RuntimeWarning: Dropping bad and constant columns: [hxchf, pres_imuran, pres_minocin, init_group, num_tnf, num_nontnf, hxstroke]\n",
      "  warnings.warn(mesg[\"message\"], RuntimeWarning)\n"
     ]
    },
    {
     "name": "stdout",
     "output_type": "stream",
     "text": [
      "█████████████████████████████████████████████| (done) 100%\n",
      "Parse progress: |████████████████████████████████████████████████████████████████| (done) 100%\n",
      "deeplearning prediction progress: |██████████████████████████████████████████████| (done) 100%\n",
      "Parse progress: |████████████████████████████████████████████████████████████████| (done) 100%\n",
      "deeplearning prediction progress: |██████████████████████████████████████████████| (done) 100%\n"
     ]
    },
    {
     "name": "stderr",
     "output_type": "stream",
     "text": [
      "dist_matrix: 100%|##########| 21/21 [00:00<00:00, 150.94it/s]\n",
      "synth_matrix: 100%|##########| 21/21 [00:00<00:00, 164.05it/s]\n",
      "r_index: 100%|##########| 6/6 [00:00<00:00, 423.46it/s]\n",
      "dist_matrix: 100%|##########| 32/32 [00:00<00:00, 88.71it/s]\n",
      "synth_matrix: 100%|##########| 32/32 [00:00<00:00, 391.62it/s]\n",
      "r_index: 100%|##########| 27/27 [00:00<00:00, 439.99it/s]\n"
     ]
    },
    {
     "name": "stdout",
     "output_type": "stream",
     "text": [
      "Parse progress: |████████████████████████████████████████████████████████████████| (done) 100%\n",
      "deeplearning Model Build progress: |"
     ]
    },
    {
     "name": "stderr",
     "output_type": "stream",
     "text": [
      "/Users/gaskell/miniforge_x86_64/envs/ADPred_new/lib/python3.10/site-packages/h2o/estimators/estimator_base.py:208: RuntimeWarning: Dropping bad and constant columns: [hxchf, pres_imuran, pres_minocin, init_group, num_tnf, num_nontnf]\n",
      "  warnings.warn(mesg[\"message\"], RuntimeWarning)\n"
     ]
    },
    {
     "name": "stdout",
     "output_type": "stream",
     "text": [
      "█████████████████████████████████████████████| (done) 100%\n",
      "Parse progress: |████████████████████████████████████████████████████████████████| (done) 100%\n",
      "deeplearning prediction progress: |██████████████████████████████████████████████| (done) 100%\n",
      "Parse progress: |████████████████████████████████████████████████████████████████| (done) 100%\n",
      "deeplearning prediction progress: |██████████████████████████████████████████████| (done) 100%\n"
     ]
    },
    {
     "name": "stderr",
     "output_type": "stream",
     "text": [
      "dist_matrix: 100%|##########| 28/28 [00:00<00:00, 112.73it/s]\n",
      "synth_matrix: 100%|##########| 28/28 [00:00<00:00, 246.74it/s]\n",
      "r_index: 100%|##########| 7/7 [00:00<00:00, 548.37it/s]\n",
      "dist_matrix: 100%|##########| 31/31 [00:00<00:00, 92.33it/s]\n",
      "synth_matrix: 100%|##########| 31/31 [00:00<00:00, 420.63it/s]\n",
      "r_index: 100%|##########| 29/29 [00:00<00:00, 417.66it/s]\n"
     ]
    },
    {
     "name": "stdout",
     "output_type": "stream",
     "text": [
      "Parse progress: |████████████████████████████████████████████████████████████████| (done) 100%\n",
      "deeplearning Model Build progress: |"
     ]
    },
    {
     "name": "stderr",
     "output_type": "stream",
     "text": [
      "/Users/gaskell/miniforge_x86_64/envs/ADPred_new/lib/python3.10/site-packages/h2o/estimators/estimator_base.py:208: RuntimeWarning: Dropping bad and constant columns: [pres_imuran, pres_minocin, init_group, num_tnf, num_nontnf]\n",
      "  warnings.warn(mesg[\"message\"], RuntimeWarning)\n"
     ]
    },
    {
     "name": "stdout",
     "output_type": "stream",
     "text": [
      "█████████████████████████████████████████████| (done) 100%\n",
      "Parse progress: |████████████████████████████████████████████████████████████████| (done) 100%\n",
      "deeplearning prediction progress: |██████████████████████████████████████████████| (done) 100%\n",
      "Parse progress: |████████████████████████████████████████████████████████████████| (done) 100%\n",
      "deeplearning prediction progress: |██████████████████████████████████████████████| (done) 100%\n"
     ]
    },
    {
     "name": "stderr",
     "output_type": "stream",
     "text": [
      "dist_matrix: 100%|##########| 20/20 [00:00<00:00, 157.84it/s]\n",
      "synth_matrix: 100%|##########| 20/20 [00:00<00:00, 173.69it/s]\n",
      "r_index: 100%|##########| 10/10 [00:00<00:00, 537.55it/s]\n",
      "dist_matrix: 100%|##########| 32/32 [00:00<00:00, 90.35it/s]\n",
      "synth_matrix: 100%|##########| 32/32 [00:00<00:00, 419.68it/s]\n",
      "r_index: 100%|##########| 27/27 [00:00<00:00, 521.89it/s]"
     ]
    },
    {
     "name": "stdout",
     "output_type": "stream",
     "text": [
      "Parse progress: |"
     ]
    },
    {
     "name": "stderr",
     "output_type": "stream",
     "text": [
      "\n"
     ]
    },
    {
     "name": "stdout",
     "output_type": "stream",
     "text": [
      "████████████████████████████████████████████████████████████████| (done) 100%\n",
      "deeplearning Model Build progress: |"
     ]
    },
    {
     "name": "stderr",
     "output_type": "stream",
     "text": [
      "/Users/gaskell/miniforge_x86_64/envs/ADPred_new/lib/python3.10/site-packages/h2o/estimators/estimator_base.py:208: RuntimeWarning: Dropping bad and constant columns: [pres_imuran, pres_minocin, init_group, num_tnf, num_nontnf]\n",
      "  warnings.warn(mesg[\"message\"], RuntimeWarning)\n"
     ]
    },
    {
     "name": "stdout",
     "output_type": "stream",
     "text": [
      "█████████████████████████████████████████████| (done) 100%\n",
      "Parse progress: |████████████████████████████████████████████████████████████████| (done) 100%\n",
      "deeplearning prediction progress: |██████████████████████████████████████████████| (done) 100%\n",
      "Parse progress: |████████████████████████████████████████████████████████████████| (done) 100%\n",
      "deeplearning prediction progress: |██████████████████████████████████████████████| (done) 100%\n"
     ]
    },
    {
     "name": "stderr",
     "output_type": "stream",
     "text": [
      "dist_matrix: 100%|##########| 22/22 [00:00<00:00, 143.26it/s]\n",
      "synth_matrix: 100%|##########| 22/22 [00:00<00:00, 173.22it/s]\n",
      "r_index: 100%|##########| 3/3 [00:00<00:00, 438.92it/s]\n",
      "dist_matrix: 100%|##########| 28/28 [00:00<00:00, 101.12it/s]\n",
      "synth_matrix: 100%|##########| 28/28 [00:00<00:00, 228.10it/s]\n",
      "r_index: 100%|##########| 7/7 [00:00<00:00, 423.65it/s]"
     ]
    },
    {
     "name": "stdout",
     "output_type": "stream",
     "text": [
      "Parse progress: |"
     ]
    },
    {
     "name": "stderr",
     "output_type": "stream",
     "text": [
      "\n"
     ]
    },
    {
     "name": "stdout",
     "output_type": "stream",
     "text": [
      "████████████████████████████████████████████████████████████████| (done) 100%\n",
      "deeplearning Model Build progress: |"
     ]
    },
    {
     "name": "stderr",
     "output_type": "stream",
     "text": [
      "/Users/gaskell/miniforge_x86_64/envs/ADPred_new/lib/python3.10/site-packages/h2o/estimators/estimator_base.py:208: RuntimeWarning: Dropping bad and constant columns: [hxchf, pres_imuran, pres_minocin, init_group, num_tnf, num_nontnf]\n",
      "  warnings.warn(mesg[\"message\"], RuntimeWarning)\n"
     ]
    },
    {
     "name": "stdout",
     "output_type": "stream",
     "text": [
      "█████████████████████████████████████████████| (done) 100%\n",
      "Parse progress: |████████████████████████████████████████████████████████████████| (done) 100%\n",
      "deeplearning prediction progress: |██████████████████████████████████████████████| (done) 100%\n",
      "Parse progress: |████████████████████████████████████████████████████████████████| (done) 100%\n",
      "deeplearning prediction progress: |██████████████████████████████████████████████| (done) 100%\n"
     ]
    },
    {
     "name": "stderr",
     "output_type": "stream",
     "text": [
      "dist_matrix: 100%|##########| 28/28 [00:00<00:00, 103.33it/s]\n",
      "synth_matrix: 100%|##########| 28/28 [00:00<00:00, 153.75it/s]\n",
      "r_index: 100%|##########| 25/25 [00:00<00:00, 462.37it/s]"
     ]
    },
    {
     "name": "stdout",
     "output_type": "stream",
     "text": [
      "Parse progress: |"
     ]
    },
    {
     "name": "stderr",
     "output_type": "stream",
     "text": [
      "\n"
     ]
    },
    {
     "name": "stdout",
     "output_type": "stream",
     "text": [
      "████████████████████████████████████████████████████████████████| (done) 100%\n",
      "deeplearning Model Build progress: |"
     ]
    },
    {
     "name": "stderr",
     "output_type": "stream",
     "text": [
      "/Users/gaskell/miniforge_x86_64/envs/ADPred_new/lib/python3.10/site-packages/h2o/estimators/estimator_base.py:208: RuntimeWarning: Dropping bad and constant columns: [pres_imuran, pres_minocin, init_group, num_tnf, num_nontnf, hxtia]\n",
      "  warnings.warn(mesg[\"message\"], RuntimeWarning)\n"
     ]
    },
    {
     "name": "stdout",
     "output_type": "stream",
     "text": [
      "█████████████████████████████████████████████| (done) 100%\n",
      "Parse progress: |████████████████████████████████████████████████████████████████| (done) 100%\n",
      "deeplearning prediction progress: |██████████████████████████████████████████████| (done) 100%\n",
      "Parse progress: |████████████████████████████████████████████████████████████████| (done) 100%\n",
      "deeplearning prediction progress: |██████████████████████████████████████████████| (done) 100%\n"
     ]
    },
    {
     "name": "stderr",
     "output_type": "stream",
     "text": [
      "dist_matrix: 100%|##########| 22/22 [00:00<00:00, 145.34it/s]\n",
      "synth_matrix: 100%|##########| 22/22 [00:00<00:00, 164.05it/s]\n",
      "r_index: 100%|##########| 3/3 [00:00<00:00, 480.17it/s]\n",
      "dist_matrix: 100%|##########| 32/32 [00:00<00:00, 91.33it/s]\n",
      "synth_matrix: 100%|##########| 32/32 [00:00<00:00, 471.10it/s]\n",
      "r_index: 100%|##########| 27/27 [00:00<00:00, 443.58it/s]"
     ]
    },
    {
     "name": "stdout",
     "output_type": "stream",
     "text": [
      "Parse progress: |"
     ]
    },
    {
     "name": "stderr",
     "output_type": "stream",
     "text": [
      "\n"
     ]
    },
    {
     "name": "stdout",
     "output_type": "stream",
     "text": [
      "████████████████████████████████████████████████████████████████| (done) 100%\n",
      "deeplearning Model Build progress: |"
     ]
    },
    {
     "name": "stderr",
     "output_type": "stream",
     "text": [
      "/Users/gaskell/miniforge_x86_64/envs/ADPred_new/lib/python3.10/site-packages/h2o/estimators/estimator_base.py:208: RuntimeWarning: Dropping bad and constant columns: [hxchf, pres_imuran, pres_minocin, init_group, num_tnf, num_nontnf]\n",
      "  warnings.warn(mesg[\"message\"], RuntimeWarning)\n"
     ]
    },
    {
     "name": "stdout",
     "output_type": "stream",
     "text": [
      "█████████████████████████████████████████████| (done) 100%\n",
      "Parse progress: |████████████████████████████████████████████████████████████████| (done) 100%\n",
      "deeplearning prediction progress: |██████████████████████████████████████████████| (done) 100%\n",
      "Parse progress: |████████████████████████████████████████████████████████████████| (done) 100%\n",
      "deeplearning prediction progress: |██████████████████████████████████████████████| (done) 100%\n"
     ]
    },
    {
     "name": "stderr",
     "output_type": "stream",
     "text": [
      "dist_matrix: 100%|##########| 22/22 [00:00<00:00, 146.40it/s]\n",
      "synth_matrix: 100%|##########| 22/22 [00:00<00:00, 172.14it/s]\n",
      "r_index: 100%|##########| 3/3 [00:00<00:00, 570.76it/s]\n",
      "dist_matrix: 100%|##########| 33/33 [00:00<00:00, 88.30it/s]\n",
      "synth_matrix: 100%|##########| 33/33 [00:00<00:00, 422.90it/s]\n",
      "r_index: 100%|##########| 25/25 [00:00<00:00, 444.48it/s]"
     ]
    },
    {
     "name": "stdout",
     "output_type": "stream",
     "text": [
      "Parse progress: |"
     ]
    },
    {
     "name": "stderr",
     "output_type": "stream",
     "text": [
      "\n"
     ]
    },
    {
     "name": "stdout",
     "output_type": "stream",
     "text": [
      "████████████████████████████████████████████████████████████████| (done) 100%\n",
      "deeplearning Model Build progress: |"
     ]
    },
    {
     "name": "stderr",
     "output_type": "stream",
     "text": [
      "/Users/gaskell/miniforge_x86_64/envs/ADPred_new/lib/python3.10/site-packages/h2o/estimators/estimator_base.py:208: RuntimeWarning: Dropping bad and constant columns: [pres_imuran, pres_minocin, init_group, num_tnf, num_nontnf, hxtia]\n",
      "  warnings.warn(mesg[\"message\"], RuntimeWarning)\n"
     ]
    },
    {
     "name": "stdout",
     "output_type": "stream",
     "text": [
      "█████████████████████████████████████████████| (done) 100%\n",
      "Parse progress: |████████████████████████████████████████████████████████████████| (done) 100%\n",
      "deeplearning prediction progress: |██████████████████████████████████████████████| (done) 100%\n",
      "Parse progress: |████████████████████████████████████████████████████████████████| (done) 100%\n",
      "deeplearning prediction progress: |██████████████████████████████████████████████| (done) 100%\n"
     ]
    },
    {
     "name": "stderr",
     "output_type": "stream",
     "text": [
      "dist_matrix: 100%|##########| 24/24 [00:00<00:00, 132.66it/s]\n",
      "synth_matrix: 100%|##########| 24/24 [00:00<00:00, 258.74it/s]\n",
      "r_index: 100%|##########| 18/18 [00:00<00:00, 508.41it/s]\n",
      "dist_matrix: 100%|##########| 33/33 [00:00<00:00, 87.98it/s]\n",
      "synth_matrix: 100%|##########| 33/33 [00:00<00:00, 492.63it/s]\n",
      "r_index: 100%|##########| 25/25 [00:00<00:00, 485.52it/s]\n"
     ]
    },
    {
     "name": "stdout",
     "output_type": "stream",
     "text": [
      "Parse progress: |████████████████████████████████████████████████████████████████| (done) 100%\n",
      "deeplearning Model Build progress: |"
     ]
    },
    {
     "name": "stderr",
     "output_type": "stream",
     "text": [
      "/Users/gaskell/miniforge_x86_64/envs/ADPred_new/lib/python3.10/site-packages/h2o/estimators/estimator_base.py:208: RuntimeWarning: Dropping bad and constant columns: [pres_imuran, pres_minocin, init_group, num_tnf, num_nontnf]\n",
      "  warnings.warn(mesg[\"message\"], RuntimeWarning)\n"
     ]
    },
    {
     "name": "stdout",
     "output_type": "stream",
     "text": [
      "█████████████████████████████████████████████| (done) 100%\n",
      "Parse progress: |████████████████████████████████████████████████████████████████| (done) 100%\n",
      "deeplearning prediction progress: |██████████████████████████████████████████████| (done) 100%\n",
      "Parse progress: |████████████████████████████████████████████████████████████████| (done) 100%\n",
      "deeplearning prediction progress: |██████████████████████████████████████████████| (done) 100%\n",
      "Parse progress: |████████████████████████████████████████████████████████████████| (done) 100%\n",
      "deeplearning prediction progress: |██████████████████████████████████████████████| (done) 100%\n"
     ]
    },
    {
     "name": "stderr",
     "output_type": "stream",
     "text": [
      "dist_matrix: 100%|##########| 22/22 [00:00<00:00, 143.98it/s]\n",
      "synth_matrix: 100%|##########| 22/22 [00:00<00:00, 173.52it/s]\n",
      "r_index: 100%|##########| 3/3 [00:00<00:00, 398.77it/s]\n",
      "dist_matrix: 100%|##########| 33/33 [00:00<00:00, 88.57it/s]\n",
      "synth_matrix: 100%|##########| 33/33 [00:00<00:00, 446.07it/s]\n",
      "r_index: 100%|##########| 25/25 [00:00<00:00, 487.07it/s]"
     ]
    },
    {
     "name": "stdout",
     "output_type": "stream",
     "text": [
      "Parse progress: |"
     ]
    },
    {
     "name": "stderr",
     "output_type": "stream",
     "text": [
      "\n"
     ]
    },
    {
     "name": "stdout",
     "output_type": "stream",
     "text": [
      "████████████████████████████████████████████████████████████████| (done) 100%\n",
      "xgboost Model Build progress: |"
     ]
    },
    {
     "name": "stderr",
     "output_type": "stream",
     "text": [
      "/Users/gaskell/miniforge_x86_64/envs/ADPred_new/lib/python3.10/site-packages/h2o/estimators/estimator_base.py:208: RuntimeWarning: Dropping bad and constant columns: [pres_imuran, pres_minocin, init_group, num_tnf, num_nontnf, hxtia]\n",
      "  warnings.warn(mesg[\"message\"], RuntimeWarning)\n"
     ]
    },
    {
     "name": "stdout",
     "output_type": "stream",
     "text": [
      "██████████████████████████████████████████████████| (done) 100%\n",
      "Parse progress: |████████████████████████████████████████████████████████████████| (done) 100%\n",
      "xgboost prediction progress: |███████████████████████████████████████████████████| (done) 100%\n",
      "Parse progress: |████████████████████████████████████████████████████████████████| (done) 100%\n",
      "xgboost prediction progress: |███████████████████████████████████████████████████| (done) 100%\n"
     ]
    },
    {
     "name": "stderr",
     "output_type": "stream",
     "text": [
      "dist_matrix: 100%|##########| 21/21 [00:00<00:00, 153.95it/s]\n",
      "synth_matrix: 100%|##########| 21/21 [00:00<00:00, 165.74it/s]\n",
      "r_index: 100%|##########| 6/6 [00:00<00:00, 453.55it/s]\n",
      "dist_matrix: 100%|##########| 33/33 [00:00<00:00, 87.34it/s]\n",
      "synth_matrix: 100%|##########| 33/33 [00:00<00:00, 473.79it/s]\n",
      "r_index: 100%|##########| 25/25 [00:00<00:00, 463.92it/s]\n"
     ]
    },
    {
     "name": "stdout",
     "output_type": "stream",
     "text": [
      "Parse progress: |████████████████████████████████████████████████████████████████| (done) 100%\n",
      "xgboost Model Build progress: |"
     ]
    },
    {
     "name": "stderr",
     "output_type": "stream",
     "text": [
      "/Users/gaskell/miniforge_x86_64/envs/ADPred_new/lib/python3.10/site-packages/h2o/estimators/estimator_base.py:208: RuntimeWarning: Dropping bad and constant columns: [hxchf, pres_imuran, pres_minocin, init_group, num_tnf, num_nontnf, hxtia]\n",
      "  warnings.warn(mesg[\"message\"], RuntimeWarning)\n"
     ]
    },
    {
     "name": "stdout",
     "output_type": "stream",
     "text": [
      "██████████████████████████████████████████████████| (done) 100%\n",
      "Parse progress: |████████████████████████████████████████████████████████████████| (done) 100%\n",
      "xgboost prediction progress: |███████████████████████████████████████████████████| (done) 100%\n",
      "Parse progress: |████████████████████████████████████████████████████████████████| (done) 100%\n",
      "xgboost prediction progress: |███████████████████████████████████████████████████| (done) 100%\n"
     ]
    },
    {
     "name": "stderr",
     "output_type": "stream",
     "text": [
      "dist_matrix: 100%|##########| 21/21 [00:00<00:00, 143.68it/s]\n",
      "synth_matrix: 100%|##########| 21/21 [00:00<00:00, 157.16it/s]\n",
      "r_index: 100%|##########| 6/6 [00:00<00:00, 448.47it/s]\n",
      "dist_matrix: 100%|##########| 32/32 [00:00<00:00, 89.62it/s]\n",
      "synth_matrix: 100%|##########| 32/32 [00:00<00:00, 470.88it/s]\n",
      "r_index: 100%|##########| 27/27 [00:00<00:00, 411.08it/s]\n"
     ]
    },
    {
     "name": "stdout",
     "output_type": "stream",
     "text": [
      "Parse progress: |████████████████████████████████████████████████████████████████| (done) 100%\n",
      "xgboost Model Build progress: |"
     ]
    },
    {
     "name": "stderr",
     "output_type": "stream",
     "text": [
      "/Users/gaskell/miniforge_x86_64/envs/ADPred_new/lib/python3.10/site-packages/h2o/estimators/estimator_base.py:208: RuntimeWarning: Dropping bad and constant columns: [pres_imuran, pres_minocin, init_group, num_tnf, num_nontnf]\n",
      "  warnings.warn(mesg[\"message\"], RuntimeWarning)\n"
     ]
    },
    {
     "name": "stdout",
     "output_type": "stream",
     "text": [
      "██████████████████████████████████████████████████| (done) 100%\n",
      "Parse progress: |████████████████████████████████████████████████████████████████| (done) 100%\n",
      "xgboost prediction progress: |███████████████████████████████████████████████████| (done) 100%\n",
      "Parse progress: |████████████████████████████████████████████████████████████████| (done) 100%\n",
      "xgboost prediction progress: |███████████████████████████████████████████████████| (done) 100%\n"
     ]
    },
    {
     "name": "stderr",
     "output_type": "stream",
     "text": [
      "dist_matrix: 100%|##########| 24/24 [00:00<00:00, 132.63it/s]\n",
      "synth_matrix: 100%|##########| 24/24 [00:00<00:00, 265.49it/s]\n",
      "r_index: 100%|##########| 18/18 [00:00<00:00, 464.21it/s]\n",
      "dist_matrix: 100%|##########| 31/31 [00:00<00:00, 93.93it/s]\n",
      "synth_matrix: 100%|##########| 31/31 [00:00<00:00, 504.07it/s]\n",
      "r_index: 100%|##########| 29/29 [00:00<00:00, 483.94it/s]"
     ]
    },
    {
     "name": "stdout",
     "output_type": "stream",
     "text": [
      "Parse progress: |"
     ]
    },
    {
     "name": "stderr",
     "output_type": "stream",
     "text": [
      "\n"
     ]
    },
    {
     "name": "stdout",
     "output_type": "stream",
     "text": [
      "████████████████████████████████████████████████████████████████| (done) 100%\n",
      "xgboost Model Build progress: |"
     ]
    },
    {
     "name": "stderr",
     "output_type": "stream",
     "text": [
      "/Users/gaskell/miniforge_x86_64/envs/ADPred_new/lib/python3.10/site-packages/h2o/estimators/estimator_base.py:208: RuntimeWarning: Dropping bad and constant columns: [hxchf, pres_imuran, pres_minocin, init_group, num_tnf, num_nontnf]\n",
      "  warnings.warn(mesg[\"message\"], RuntimeWarning)\n"
     ]
    },
    {
     "name": "stdout",
     "output_type": "stream",
     "text": [
      "██████████████████████████████████████████████████| (done) 100%\n",
      "Parse progress: |████████████████████████████████████████████████████████████████| (done) 100%\n",
      "xgboost prediction progress: |███████████████████████████████████████████████████| (done) 100%\n",
      "Parse progress: |████████████████████████████████████████████████████████████████| (done) 100%\n",
      "xgboost prediction progress: |███████████████████████████████████████████████████| (done) 100%\n"
     ]
    },
    {
     "name": "stderr",
     "output_type": "stream",
     "text": [
      "dist_matrix: 100%|##########| 28/28 [00:00<00:00, 110.42it/s]\n",
      "synth_matrix: 100%|##########| 28/28 [00:00<00:00, 148.72it/s]\n",
      "r_index: 100%|##########| 25/25 [00:00<00:00, 483.87it/s]"
     ]
    },
    {
     "name": "stdout",
     "output_type": "stream",
     "text": [
      "Parse progress: |"
     ]
    },
    {
     "name": "stderr",
     "output_type": "stream",
     "text": [
      "\n"
     ]
    },
    {
     "name": "stdout",
     "output_type": "stream",
     "text": [
      "████████████████████████████████████████████████████████████████| (done) 100%\n",
      "xgboost Model Build progress: |"
     ]
    },
    {
     "name": "stderr",
     "output_type": "stream",
     "text": [
      "/Users/gaskell/miniforge_x86_64/envs/ADPred_new/lib/python3.10/site-packages/h2o/estimators/estimator_base.py:208: RuntimeWarning: Dropping bad and constant columns: [pres_imuran, pres_minocin, init_group, num_tnf, num_nontnf, hxstroke, hxtia, hxunstab_ang]\n",
      "  warnings.warn(mesg[\"message\"], RuntimeWarning)\n"
     ]
    },
    {
     "name": "stdout",
     "output_type": "stream",
     "text": [
      "██████████████████████████████████████████████████| (done) 100%\n",
      "Parse progress: |████████████████████████████████████████████████████████████████| (done) 100%\n",
      "xgboost prediction progress: |███████████████████████████████████████████████████| (done) 100%\n",
      "Parse progress: |████████████████████████████████████████████████████████████████| (done) 100%\n",
      "xgboost prediction progress: |███████████████████████████████████████████████████| (done) 100%\n"
     ]
    },
    {
     "name": "stderr",
     "output_type": "stream",
     "text": [
      "dist_matrix: 100%|##########| 27/27 [00:00<00:00, 115.82it/s]\n",
      "synth_matrix: 100%|##########| 27/27 [00:00<00:00, 240.06it/s]\n",
      "r_index: 100%|##########| 9/9 [00:00<00:00, 480.38it/s]\n",
      "dist_matrix: 100%|##########| 30/30 [00:00<00:00, 96.57it/s]\n",
      "synth_matrix: 100%|##########| 30/30 [00:00<00:00, 218.92it/s]"
     ]
    },
    {
     "name": "stdout",
     "output_type": "stream",
     "text": [
      "Parse progress: |"
     ]
    },
    {
     "name": "stderr",
     "output_type": "stream",
     "text": [
      "\n"
     ]
    },
    {
     "name": "stdout",
     "output_type": "stream",
     "text": [
      "████████████████████████████████████████████████████████████████| (done) 100%\n",
      "xgboost Model Build progress: |"
     ]
    },
    {
     "name": "stderr",
     "output_type": "stream",
     "text": [
      "/Users/gaskell/miniforge_x86_64/envs/ADPred_new/lib/python3.10/site-packages/h2o/estimators/estimator_base.py:208: RuntimeWarning: Dropping bad and constant columns: [pres_imuran, pres_minocin, init_group, num_tnf, num_nontnf, hxtia]\n",
      "  warnings.warn(mesg[\"message\"], RuntimeWarning)\n"
     ]
    },
    {
     "name": "stdout",
     "output_type": "stream",
     "text": [
      "██████████████████████████████████████████████████| (done) 100%\n",
      "Parse progress: |████████████████████████████████████████████████████████████████| (done) 100%\n",
      "xgboost prediction progress: |███████████████████████████████████████████████████| (done) 100%\n",
      "Parse progress: |████████████████████████████████████████████████████████████████| (done) 100%\n",
      "xgboost prediction progress: |███████████████████████████████████████████████████| (done) 100%\n"
     ]
    },
    {
     "name": "stderr",
     "output_type": "stream",
     "text": [
      "dist_matrix: 100%|##########| 22/22 [00:00<00:00, 144.21it/s]\n",
      "synth_matrix: 100%|##########| 22/22 [00:00<00:00, 171.40it/s]\n",
      "r_index: 100%|##########| 3/3 [00:00<00:00, 568.28it/s]\n",
      "dist_matrix: 100%|##########| 28/28 [00:00<00:00, 103.85it/s]\n",
      "synth_matrix: 100%|##########| 28/28 [00:00<00:00, 227.31it/s]\n",
      "r_index: 100%|##########| 7/7 [00:00<00:00, 559.73it/s]\n"
     ]
    },
    {
     "name": "stdout",
     "output_type": "stream",
     "text": [
      "Parse progress: |████████████████████████████████████████████████████████████████| (done) 100%\n",
      "xgboost Model Build progress: |"
     ]
    },
    {
     "name": "stderr",
     "output_type": "stream",
     "text": [
      "/Users/gaskell/miniforge_x86_64/envs/ADPred_new/lib/python3.10/site-packages/h2o/estimators/estimator_base.py:208: RuntimeWarning: Dropping bad and constant columns: [pres_imuran, pres_minocin, init_group, num_tnf, num_nontnf, hxtia]\n",
      "  warnings.warn(mesg[\"message\"], RuntimeWarning)\n"
     ]
    },
    {
     "name": "stdout",
     "output_type": "stream",
     "text": [
      "██████████████████████████████████████████████████| (done) 100%\n",
      "Parse progress: |████████████████████████████████████████████████████████████████| (done) 100%\n",
      "xgboost prediction progress: |███████████████████████████████████████████████████| (done) 100%\n",
      "Parse progress: |████████████████████████████████████████████████████████████████| (done) 100%\n",
      "xgboost prediction progress: |███████████████████████████████████████████████████| (done) 100%\n"
     ]
    },
    {
     "name": "stderr",
     "output_type": "stream",
     "text": [
      "dist_matrix: 100%|##########| 22/22 [00:00<00:00, 145.76it/s]\n",
      "synth_matrix: 100%|##########| 22/22 [00:00<00:00, 170.16it/s]\n",
      "r_index: 100%|##########| 3/3 [00:00<00:00, 479.70it/s]\n",
      "dist_matrix: 100%|##########| 33/33 [00:00<00:00, 87.33it/s]\n",
      "synth_matrix: 100%|##########| 33/33 [00:00<00:00, 484.10it/s]\n",
      "r_index: 100%|##########| 25/25 [00:00<00:00, 432.38it/s]"
     ]
    },
    {
     "name": "stdout",
     "output_type": "stream",
     "text": [
      "Parse progress: |"
     ]
    },
    {
     "name": "stderr",
     "output_type": "stream",
     "text": [
      "\n"
     ]
    },
    {
     "name": "stdout",
     "output_type": "stream",
     "text": [
      "████████████████████████████████████████████████████████████████| (done) 100%\n",
      "xgboost Model Build progress: |"
     ]
    },
    {
     "name": "stderr",
     "output_type": "stream",
     "text": [
      "/Users/gaskell/miniforge_x86_64/envs/ADPred_new/lib/python3.10/site-packages/h2o/estimators/estimator_base.py:208: RuntimeWarning: Dropping bad and constant columns: [pres_imuran, pres_minocin, init_group, num_tnf, num_nontnf]\n",
      "  warnings.warn(mesg[\"message\"], RuntimeWarning)\n"
     ]
    },
    {
     "name": "stdout",
     "output_type": "stream",
     "text": [
      "██████████████████████████████████████████████████| (done) 100%\n",
      "Parse progress: |████████████████████████████████████████████████████████████████| (done) 100%\n",
      "xgboost prediction progress: |███████████████████████████████████████████████████| (done) 100%\n",
      "Parse progress: |████████████████████████████████████████████████████████████████| (done) 100%\n",
      "xgboost prediction progress: |███████████████████████████████████████████████████| (done) 100%\n"
     ]
    },
    {
     "name": "stderr",
     "output_type": "stream",
     "text": [
      "dist_matrix: 100%|##########| 22/22 [00:00<00:00, 139.30it/s]\n",
      "synth_matrix: 100%|##########| 22/22 [00:00<00:00, 166.84it/s]\n",
      "r_index: 100%|##########| 3/3 [00:00<00:00, 409.21it/s]\n",
      "dist_matrix: 100%|##########| 29/29 [00:00<00:00, 98.14it/s]\n",
      "synth_matrix: 100%|##########| 29/29 [00:00<00:00, 223.65it/s]\n",
      "r_index: 100%|##########| 3/3 [00:00<00:00, 438.46it/s]"
     ]
    },
    {
     "name": "stdout",
     "output_type": "stream",
     "text": [
      "Parse progress: |"
     ]
    },
    {
     "name": "stderr",
     "output_type": "stream",
     "text": [
      "\n"
     ]
    },
    {
     "name": "stdout",
     "output_type": "stream",
     "text": [
      "████████████████████████████████████████████████████████████████| (done) 100%\n",
      "xgboost Model Build progress: |"
     ]
    },
    {
     "name": "stderr",
     "output_type": "stream",
     "text": [
      "/Users/gaskell/miniforge_x86_64/envs/ADPred_new/lib/python3.10/site-packages/h2o/estimators/estimator_base.py:208: RuntimeWarning: Dropping bad and constant columns: [hxchf, pres_imuran, pres_minocin, init_group, num_tnf, num_nontnf]\n",
      "  warnings.warn(mesg[\"message\"], RuntimeWarning)\n"
     ]
    },
    {
     "name": "stdout",
     "output_type": "stream",
     "text": [
      "██████████████████████████████████████████████████| (done) 100%\n",
      "Parse progress: |████████████████████████████████████████████████████████████████| (done) 100%\n",
      "xgboost prediction progress: |███████████████████████████████████████████████████| (done) 100%\n",
      "Parse progress: |████████████████████████████████████████████████████████████████| (done) 100%\n",
      "xgboost prediction progress: |███████████████████████████████████████████████████| (done) 100%\n"
     ]
    },
    {
     "name": "stderr",
     "output_type": "stream",
     "text": [
      "dist_matrix: 100%|##########| 22/22 [00:00<00:00, 149.18it/s]\n",
      "synth_matrix: 100%|##########| 22/22 [00:00<00:00, 177.28it/s]\n",
      "r_index: 100%|##########| 3/3 [00:00<00:00, 406.50it/s]\n",
      "dist_matrix: 100%|##########| 30/30 [00:00<00:00, 95.08it/s]\n",
      "synth_matrix: 100%|##########| 30/30 [00:00<00:00, 219.21it/s]"
     ]
    },
    {
     "name": "stdout",
     "output_type": "stream",
     "text": [
      "Parse progress: |"
     ]
    },
    {
     "name": "stderr",
     "output_type": "stream",
     "text": [
      "\n"
     ]
    },
    {
     "name": "stdout",
     "output_type": "stream",
     "text": [
      "████████████████████████████████████████████████████████████████| (done) 100%\n",
      "xgboost Model Build progress: |"
     ]
    },
    {
     "name": "stderr",
     "output_type": "stream",
     "text": [
      "/Users/gaskell/miniforge_x86_64/envs/ADPred_new/lib/python3.10/site-packages/h2o/estimators/estimator_base.py:208: RuntimeWarning: Dropping bad and constant columns: [pres_imuran, pres_minocin, init_group, num_tnf, num_nontnf, hxtia]\n",
      "  warnings.warn(mesg[\"message\"], RuntimeWarning)\n"
     ]
    },
    {
     "name": "stdout",
     "output_type": "stream",
     "text": [
      "██████████████████████████████████████████████████| (done) 100%\n",
      "Parse progress: |████████████████████████████████████████████████████████████████| (done) 100%\n",
      "xgboost prediction progress: |███████████████████████████████████████████████████| (done) 100%\n",
      "Parse progress: |████████████████████████████████████████████████████████████████| (done) 100%\n",
      "xgboost prediction progress: |███████████████████████████████████████████████████| (done) 100%\n"
     ]
    },
    {
     "name": "stderr",
     "output_type": "stream",
     "text": [
      "dist_matrix: 100%|##########| 22/22 [00:00<00:00, 143.03it/s]\n",
      "synth_matrix: 100%|##########| 22/22 [00:00<00:00, 168.68it/s]\n",
      "r_index: 100%|##########| 3/3 [00:00<00:00, 746.98it/s]\n",
      "dist_matrix: 100%|##########| 33/33 [00:00<00:00, 87.90it/s]\n",
      "synth_matrix: 100%|##########| 33/33 [00:00<00:00, 434.81it/s]\n",
      "r_index: 100%|##########| 25/25 [00:00<00:00, 441.87it/s]"
     ]
    },
    {
     "name": "stdout",
     "output_type": "stream",
     "text": [
      "Parse progress: |"
     ]
    },
    {
     "name": "stderr",
     "output_type": "stream",
     "text": [
      "\n"
     ]
    },
    {
     "name": "stdout",
     "output_type": "stream",
     "text": [
      "████████████████████████████████████████████████████████████████| (done) 100%\n",
      "xgboost Model Build progress: |"
     ]
    },
    {
     "name": "stderr",
     "output_type": "stream",
     "text": [
      "/Users/gaskell/miniforge_x86_64/envs/ADPred_new/lib/python3.10/site-packages/h2o/estimators/estimator_base.py:208: RuntimeWarning: Dropping bad and constant columns: [hxchf, pres_imuran, pres_minocin, init_group, num_tnf, num_nontnf]\n",
      "  warnings.warn(mesg[\"message\"], RuntimeWarning)\n"
     ]
    },
    {
     "name": "stdout",
     "output_type": "stream",
     "text": [
      "██████████████████████████████████████████████████| (done) 100%\n",
      "Parse progress: |████████████████████████████████████████████████████████████████| (done) 100%\n",
      "xgboost prediction progress: |███████████████████████████████████████████████████| (done) 100%\n",
      "Parse progress: |████████████████████████████████████████████████████████████████| (done) 100%\n",
      "xgboost prediction progress: |███████████████████████████████████████████████████| (done) 100%\n"
     ]
    },
    {
     "name": "stderr",
     "output_type": "stream",
     "text": [
      "dist_matrix: 100%|##########| 24/24 [00:00<00:00, 133.48it/s]\n",
      "synth_matrix: 100%|##########| 24/24 [00:00<00:00, 258.93it/s]\n",
      "r_index: 100%|##########| 18/18 [00:00<00:00, 539.87it/s]\n",
      "dist_matrix: 100%|##########| 30/30 [00:00<00:00, 102.12it/s]\n",
      "synth_matrix: 100%|##########| 30/30 [00:00<00:00, 262.38it/s]\n"
     ]
    },
    {
     "name": "stdout",
     "output_type": "stream",
     "text": [
      "Parse progress: |████████████████████████████████████████████████████████████████| (done) 100%\n",
      "xgboost Model Build progress: |"
     ]
    },
    {
     "name": "stderr",
     "output_type": "stream",
     "text": [
      "/Users/gaskell/miniforge_x86_64/envs/ADPred_new/lib/python3.10/site-packages/h2o/estimators/estimator_base.py:208: RuntimeWarning: Dropping bad and constant columns: [pres_imuran, pres_minocin, init_group, num_tnf, num_nontnf, hxunstab_ang]\n",
      "  warnings.warn(mesg[\"message\"], RuntimeWarning)\n"
     ]
    },
    {
     "name": "stdout",
     "output_type": "stream",
     "text": [
      "██████████████████████████████████████████████████| (done) 100%\n",
      "Parse progress: |████████████████████████████████████████████████████████████████| (done) 100%\n",
      "xgboost prediction progress: |███████████████████████████████████████████████████| (done) 100%\n",
      "Parse progress: |████████████████████████████████████████████████████████████████| (done) 100%\n",
      "xgboost prediction progress: |███████████████████████████████████████████████████| (done) 100%\n"
     ]
    },
    {
     "name": "stderr",
     "output_type": "stream",
     "text": [
      "dist_matrix: 100%|##########| 20/20 [00:00<00:00, 159.05it/s]\n",
      "synth_matrix: 100%|##########| 20/20 [00:00<00:00, 171.89it/s]\n",
      "r_index: 100%|##########| 10/10 [00:00<00:00, 488.71it/s]\n",
      "dist_matrix: 100%|##########| 32/32 [00:00<00:00, 92.30it/s]\n",
      "synth_matrix: 100%|##########| 32/32 [00:00<00:00, 463.93it/s]\n",
      "r_index: 100%|##########| 27/27 [00:00<00:00, 496.07it/s]"
     ]
    },
    {
     "name": "stdout",
     "output_type": "stream",
     "text": [
      "Parse progress: |"
     ]
    },
    {
     "name": "stderr",
     "output_type": "stream",
     "text": [
      "\n"
     ]
    },
    {
     "name": "stdout",
     "output_type": "stream",
     "text": [
      "████████████████████████████████████████████████████████████████| (done) 100%\n",
      "xgboost Model Build progress: |"
     ]
    },
    {
     "name": "stderr",
     "output_type": "stream",
     "text": [
      "/Users/gaskell/miniforge_x86_64/envs/ADPred_new/lib/python3.10/site-packages/h2o/estimators/estimator_base.py:208: RuntimeWarning: Dropping bad and constant columns: [pres_imuran, pres_minocin, init_group, num_tnf, num_nontnf, hxtia]\n",
      "  warnings.warn(mesg[\"message\"], RuntimeWarning)\n"
     ]
    },
    {
     "name": "stdout",
     "output_type": "stream",
     "text": [
      "██████████████████████████████████████████████████| (done) 100%\n",
      "Parse progress: |████████████████████████████████████████████████████████████████| (done) 100%\n",
      "xgboost prediction progress: |███████████████████████████████████████████████████| (done) 100%\n",
      "Parse progress: |████████████████████████████████████████████████████████████████| (done) 100%\n",
      "xgboost prediction progress: |███████████████████████████████████████████████████| (done) 100%\n"
     ]
    },
    {
     "name": "stderr",
     "output_type": "stream",
     "text": [
      "dist_matrix: 100%|##########| 21/21 [00:00<00:00, 152.17it/s]\n",
      "synth_matrix: 100%|##########| 21/21 [00:00<00:00, 172.90it/s]\n",
      "r_index: 100%|##########| 6/6 [00:00<00:00, 445.90it/s]\n",
      "dist_matrix: 100%|##########| 28/28 [00:00<00:00, 107.15it/s]\n",
      "synth_matrix: 100%|##########| 28/28 [00:00<00:00, 216.46it/s]\n",
      "r_index: 100%|##########| 7/7 [00:00<00:00, 444.39it/s]"
     ]
    },
    {
     "name": "stdout",
     "output_type": "stream",
     "text": [
      "Parse progress: |"
     ]
    },
    {
     "name": "stderr",
     "output_type": "stream",
     "text": [
      "\n"
     ]
    },
    {
     "name": "stdout",
     "output_type": "stream",
     "text": [
      "████████████████████████████████████████████████████████████████| (done) 100%\n",
      "xgboost Model Build progress: |"
     ]
    },
    {
     "name": "stderr",
     "output_type": "stream",
     "text": [
      "/Users/gaskell/miniforge_x86_64/envs/ADPred_new/lib/python3.10/site-packages/h2o/estimators/estimator_base.py:208: RuntimeWarning: Dropping bad and constant columns: [hxchf, pres_imuran, pres_minocin, init_group, num_tnf, num_nontnf, hxtia]\n",
      "  warnings.warn(mesg[\"message\"], RuntimeWarning)\n"
     ]
    },
    {
     "name": "stdout",
     "output_type": "stream",
     "text": [
      "██████████████████████████████████████████████████| (done) 100%\n",
      "Parse progress: |████████████████████████████████████████████████████████████████| (done) 100%\n",
      "xgboost prediction progress: |███████████████████████████████████████████████████| (done) 100%\n",
      "Parse progress: |████████████████████████████████████████████████████████████████| (done) 100%\n",
      "xgboost prediction progress: |███████████████████████████████████████████████████| (done) 100%\n"
     ]
    },
    {
     "name": "stderr",
     "output_type": "stream",
     "text": [
      "dist_matrix: 100%|##########| 21/21 [00:00<00:00, 154.04it/s]\n",
      "synth_matrix: 100%|##########| 21/21 [00:00<00:00, 160.80it/s]\n",
      "r_index: 100%|##########| 6/6 [00:00<00:00, 545.90it/s]\n",
      "dist_matrix: 100%|##########| 32/32 [00:00<00:00, 92.30it/s]\n",
      "synth_matrix: 100%|##########| 32/32 [00:00<00:00, 455.53it/s]\n",
      "r_index: 100%|##########| 27/27 [00:00<00:00, 488.39it/s]"
     ]
    },
    {
     "name": "stdout",
     "output_type": "stream",
     "text": [
      "Parse progress: |"
     ]
    },
    {
     "name": "stderr",
     "output_type": "stream",
     "text": [
      "\n"
     ]
    },
    {
     "name": "stdout",
     "output_type": "stream",
     "text": [
      "████████████████████████████████████████████████████████████████| (done) 100%\n",
      "xgboost Model Build progress: |"
     ]
    },
    {
     "name": "stderr",
     "output_type": "stream",
     "text": [
      "/Users/gaskell/miniforge_x86_64/envs/ADPred_new/lib/python3.10/site-packages/h2o/estimators/estimator_base.py:208: RuntimeWarning: Dropping bad and constant columns: [hxchf, pres_imuran, pres_minocin, init_group, num_tnf, num_nontnf, hxtia]\n",
      "  warnings.warn(mesg[\"message\"], RuntimeWarning)\n"
     ]
    },
    {
     "name": "stdout",
     "output_type": "stream",
     "text": [
      "██████████████████████████████████████████████████| (done) 100%\n",
      "Parse progress: |████████████████████████████████████████████████████████████████| (done) 100%\n",
      "xgboost prediction progress: |███████████████████████████████████████████████████| (done) 100%\n",
      "Parse progress: |████████████████████████████████████████████████████████████████| (done) 100%\n",
      "xgboost prediction progress: |███████████████████████████████████████████████████| (done) 100%\n"
     ]
    },
    {
     "name": "stderr",
     "output_type": "stream",
     "text": [
      "dist_matrix: 100%|##########| 22/22 [00:00<00:00, 147.23it/s]\n",
      "synth_matrix: 100%|##########| 22/22 [00:00<00:00, 175.04it/s]\n",
      "r_index: 100%|##########| 3/3 [00:00<00:00, 564.43it/s]\n",
      "dist_matrix: 100%|##########| 31/31 [00:00<00:00, 95.16it/s]\n",
      "synth_matrix: 100%|##########| 31/31 [00:00<00:00, 466.56it/s]\n",
      "r_index: 100%|##########| 29/29 [00:00<00:00, 484.47it/s]"
     ]
    },
    {
     "name": "stdout",
     "output_type": "stream",
     "text": [
      "Parse progress: |"
     ]
    },
    {
     "name": "stderr",
     "output_type": "stream",
     "text": [
      "\n"
     ]
    },
    {
     "name": "stdout",
     "output_type": "stream",
     "text": [
      "████████████████████████████████████████████████████████████████| (done) 100%\n",
      "xgboost Model Build progress: |"
     ]
    },
    {
     "name": "stderr",
     "output_type": "stream",
     "text": [
      "/Users/gaskell/miniforge_x86_64/envs/ADPred_new/lib/python3.10/site-packages/h2o/estimators/estimator_base.py:208: RuntimeWarning: Dropping bad and constant columns: [pres_imuran, pres_minocin, init_group, num_tnf, num_nontnf]\n",
      "  warnings.warn(mesg[\"message\"], RuntimeWarning)\n"
     ]
    },
    {
     "name": "stdout",
     "output_type": "stream",
     "text": [
      "██████████████████████████████████████████████████| (done) 100%\n",
      "Parse progress: |████████████████████████████████████████████████████████████████| (done) 100%\n",
      "xgboost prediction progress: |███████████████████████████████████████████████████| (done) 100%\n",
      "Parse progress: |████████████████████████████████████████████████████████████████| (done) 100%\n",
      "xgboost prediction progress: |███████████████████████████████████████████████████| (done) 100%\n"
     ]
    },
    {
     "name": "stderr",
     "output_type": "stream",
     "text": [
      "dist_matrix: 100%|##########| 30/30 [00:00<00:00, 98.46it/s]\n",
      "synth_matrix: 100%|##########| 30/30 [00:00<00:00, 163.35it/s]\n",
      "r_index: 100%|##########| 16/16 [00:00<00:00, 462.64it/s]"
     ]
    },
    {
     "name": "stdout",
     "output_type": "stream",
     "text": [
      "Parse progress: |"
     ]
    },
    {
     "name": "stderr",
     "output_type": "stream",
     "text": [
      "\n"
     ]
    },
    {
     "name": "stdout",
     "output_type": "stream",
     "text": [
      "████████████████████████████████████████████████████████████████| (done) 100%\n",
      "xgboost Model Build progress: |"
     ]
    },
    {
     "name": "stderr",
     "output_type": "stream",
     "text": [
      "/Users/gaskell/miniforge_x86_64/envs/ADPred_new/lib/python3.10/site-packages/h2o/estimators/estimator_base.py:208: RuntimeWarning: Dropping bad and constant columns: [hxchf, pres_imuran, pres_minocin, init_group, num_tnf, num_nontnf, hxtia]\n",
      "  warnings.warn(mesg[\"message\"], RuntimeWarning)\n"
     ]
    },
    {
     "name": "stdout",
     "output_type": "stream",
     "text": [
      "██████████████████████████████████████████████████| (done) 100%\n",
      "Parse progress: |████████████████████████████████████████████████████████████████| (done) 100%\n",
      "xgboost prediction progress: |███████████████████████████████████████████████████| (done) 100%\n",
      "Parse progress: |████████████████████████████████████████████████████████████████| (done) 100%\n",
      "xgboost prediction progress: |███████████████████████████████████████████████████| (done) 100%\n"
     ]
    },
    {
     "name": "stderr",
     "output_type": "stream",
     "text": [
      "dist_matrix: 100%|##########| 21/21 [00:00<00:00, 155.19it/s]\n",
      "synth_matrix: 100%|##########| 21/21 [00:00<00:00, 179.48it/s]\n",
      "r_index: 100%|##########| 6/6 [00:00<00:00, 485.36it/s]\n",
      "dist_matrix: 100%|##########| 30/30 [00:00<00:00, 99.51it/s]\n",
      "synth_matrix: 100%|##########| 30/30 [00:00<00:00, 228.85it/s]"
     ]
    },
    {
     "name": "stdout",
     "output_type": "stream",
     "text": [
      "Parse progress: |"
     ]
    },
    {
     "name": "stderr",
     "output_type": "stream",
     "text": [
      "\n"
     ]
    },
    {
     "name": "stdout",
     "output_type": "stream",
     "text": [
      "████████████████████████████████████████████████████████████████| (done) 100%\n",
      "xgboost Model Build progress: |"
     ]
    },
    {
     "name": "stderr",
     "output_type": "stream",
     "text": [
      "/Users/gaskell/miniforge_x86_64/envs/ADPred_new/lib/python3.10/site-packages/h2o/estimators/estimator_base.py:208: RuntimeWarning: Dropping bad and constant columns: [pres_imuran, pres_minocin, init_group, num_tnf, num_nontnf]\n",
      "  warnings.warn(mesg[\"message\"], RuntimeWarning)\n"
     ]
    },
    {
     "name": "stdout",
     "output_type": "stream",
     "text": [
      "██████████████████████████████████████████████████| (done) 100%\n",
      "Parse progress: |████████████████████████████████████████████████████████████████| (done) 100%\n",
      "xgboost prediction progress: |███████████████████████████████████████████████████| (done) 100%\n",
      "Parse progress: |████████████████████████████████████████████████████████████████| (done) 100%\n",
      "xgboost prediction progress: |███████████████████████████████████████████████████| (done) 100%\n"
     ]
    },
    {
     "name": "stderr",
     "output_type": "stream",
     "text": [
      "dist_matrix: 100%|##########| 22/22 [00:00<00:00, 147.23it/s]\n",
      "synth_matrix: 100%|##########| 22/22 [00:00<00:00, 175.67it/s]\n",
      "r_index: 100%|##########| 3/3 [00:00<00:00, 430.29it/s]\n",
      "dist_matrix: 100%|##########| 29/29 [00:00<00:00, 103.20it/s]\n",
      "synth_matrix: 100%|##########| 29/29 [00:00<00:00, 223.79it/s]\n",
      "r_index: 100%|##########| 3/3 [00:00<00:00, 409.88it/s]"
     ]
    },
    {
     "name": "stdout",
     "output_type": "stream",
     "text": [
      "Parse progress: |"
     ]
    },
    {
     "name": "stderr",
     "output_type": "stream",
     "text": [
      "\n"
     ]
    },
    {
     "name": "stdout",
     "output_type": "stream",
     "text": [
      "████████████████████████████████████████████████████████████████| (done) 100%\n",
      "xgboost Model Build progress: |"
     ]
    },
    {
     "name": "stderr",
     "output_type": "stream",
     "text": [
      "/Users/gaskell/miniforge_x86_64/envs/ADPred_new/lib/python3.10/site-packages/h2o/estimators/estimator_base.py:208: RuntimeWarning: Dropping bad and constant columns: [pres_imuran, pres_minocin, init_group, num_tnf, num_nontnf]\n",
      "  warnings.warn(mesg[\"message\"], RuntimeWarning)\n"
     ]
    },
    {
     "name": "stdout",
     "output_type": "stream",
     "text": [
      "██████████████████████████████████████████████████| (done) 100%\n",
      "Parse progress: |████████████████████████████████████████████████████████████████| (done) 100%\n",
      "xgboost prediction progress: |███████████████████████████████████████████████████| (done) 100%\n",
      "Parse progress: |████████████████████████████████████████████████████████████████| (done) 100%\n",
      "xgboost prediction progress: |███████████████████████████████████████████████████| (done) 100%\n"
     ]
    },
    {
     "name": "stderr",
     "output_type": "stream",
     "text": [
      "dist_matrix: 100%|##########| 24/24 [00:00<00:00, 133.13it/s]\n",
      "synth_matrix: 100%|##########| 24/24 [00:00<00:00, 260.61it/s]\n",
      "r_index: 100%|##########| 18/18 [00:00<00:00, 488.75it/s]\n",
      "dist_matrix: 100%|##########| 33/33 [00:00<00:00, 88.20it/s]\n",
      "synth_matrix: 100%|##########| 33/33 [00:00<00:00, 449.46it/s]\n",
      "r_index: 100%|##########| 25/25 [00:00<00:00, 464.06it/s]"
     ]
    },
    {
     "name": "stdout",
     "output_type": "stream",
     "text": [
      "Parse progress: |"
     ]
    },
    {
     "name": "stderr",
     "output_type": "stream",
     "text": [
      "\n"
     ]
    },
    {
     "name": "stdout",
     "output_type": "stream",
     "text": [
      "████████████████████████████████████████████████████████████████| (done) 100%\n",
      "xgboost Model Build progress: |"
     ]
    },
    {
     "name": "stderr",
     "output_type": "stream",
     "text": [
      "/Users/gaskell/miniforge_x86_64/envs/ADPred_new/lib/python3.10/site-packages/h2o/estimators/estimator_base.py:208: RuntimeWarning: Dropping bad and constant columns: [hxchf, pres_imuran, pres_minocin, init_group, num_tnf, num_nontnf]\n",
      "  warnings.warn(mesg[\"message\"], RuntimeWarning)\n"
     ]
    },
    {
     "name": "stdout",
     "output_type": "stream",
     "text": [
      "██████████████████████████████████████████████████| (done) 100%\n",
      "Parse progress: |████████████████████████████████████████████████████████████████| (done) 100%\n",
      "xgboost prediction progress: |███████████████████████████████████████████████████| (done) 100%\n",
      "Parse progress: |████████████████████████████████████████████████████████████████| (done) 100%\n",
      "xgboost prediction progress: |███████████████████████████████████████████████████| (done) 100%\n"
     ]
    },
    {
     "name": "stderr",
     "output_type": "stream",
     "text": [
      "dist_matrix: 100%|##########| 20/20 [00:00<00:00, 163.46it/s]\n",
      "synth_matrix: 100%|##########| 20/20 [00:00<00:00, 179.66it/s]\n",
      "r_index: 100%|##########| 10/10 [00:00<00:00, 556.07it/s]\n",
      "dist_matrix: 100%|##########| 30/30 [00:00<00:00, 100.63it/s]\n",
      "synth_matrix: 100%|##########| 30/30 [00:00<00:00, 244.57it/s]"
     ]
    },
    {
     "name": "stdout",
     "output_type": "stream",
     "text": [
      "Parse progress: |"
     ]
    },
    {
     "name": "stderr",
     "output_type": "stream",
     "text": [
      "\n"
     ]
    },
    {
     "name": "stdout",
     "output_type": "stream",
     "text": [
      "████████████████████████████████████████████████████████████████| (done) 100%\n",
      "xgboost Model Build progress: |"
     ]
    },
    {
     "name": "stderr",
     "output_type": "stream",
     "text": [
      "/Users/gaskell/miniforge_x86_64/envs/ADPred_new/lib/python3.10/site-packages/h2o/estimators/estimator_base.py:208: RuntimeWarning: Dropping bad and constant columns: [pres_imuran, pres_minocin, init_group, num_tnf, num_nontnf, hxtia, hxunstab_ang]\n",
      "  warnings.warn(mesg[\"message\"], RuntimeWarning)\n"
     ]
    },
    {
     "name": "stdout",
     "output_type": "stream",
     "text": [
      "██████████████████████████████████████████████████| (done) 100%\n",
      "Parse progress: |████████████████████████████████████████████████████████████████| (done) 100%\n",
      "xgboost prediction progress: |███████████████████████████████████████████████████| (done) 100%\n",
      "Parse progress: |████████████████████████████████████████████████████████████████| (done) 100%\n",
      "xgboost prediction progress: |███████████████████████████████████████████████████| (done) 100%\n"
     ]
    },
    {
     "name": "stderr",
     "output_type": "stream",
     "text": [
      "dist_matrix: 100%|##########| 24/24 [00:00<00:00, 133.99it/s]\n",
      "synth_matrix: 100%|##########| 24/24 [00:00<00:00, 248.89it/s]\n",
      "r_index: 100%|##########| 18/18 [00:00<00:00, 547.18it/s]\n",
      "dist_matrix: 100%|##########| 31/31 [00:00<00:00, 97.81it/s]\n",
      "synth_matrix: 100%|##########| 31/31 [00:00<00:00, 490.89it/s]\n",
      "r_index: 100%|##########| 29/29 [00:00<00:00, 464.98it/s]"
     ]
    },
    {
     "name": "stdout",
     "output_type": "stream",
     "text": [
      "Parse progress: |"
     ]
    },
    {
     "name": "stderr",
     "output_type": "stream",
     "text": [
      "\n"
     ]
    },
    {
     "name": "stdout",
     "output_type": "stream",
     "text": [
      "████████████████████████████████████████████████████████████████| (done) 100%\n",
      "xgboost Model Build progress: |"
     ]
    },
    {
     "name": "stderr",
     "output_type": "stream",
     "text": [
      "/Users/gaskell/miniforge_x86_64/envs/ADPred_new/lib/python3.10/site-packages/h2o/estimators/estimator_base.py:208: RuntimeWarning: Dropping bad and constant columns: [pres_imuran, pres_minocin, init_group, num_tnf, num_nontnf, hxstroke]\n",
      "  warnings.warn(mesg[\"message\"], RuntimeWarning)\n"
     ]
    },
    {
     "name": "stdout",
     "output_type": "stream",
     "text": [
      "██████████████████████████████████████████████████| (done) 100%\n",
      "Parse progress: |████████████████████████████████████████████████████████████████| (done) 100%\n",
      "xgboost prediction progress: |███████████████████████████████████████████████████| (done) 100%\n",
      "Parse progress: |████████████████████████████████████████████████████████████████| (done) 100%\n",
      "xgboost prediction progress: |███████████████████████████████████████████████████| (done) 100%\n"
     ]
    },
    {
     "name": "stderr",
     "output_type": "stream",
     "text": [
      "dist_matrix: 100%|##########| 21/21 [00:00<00:00, 153.54it/s]\n",
      "synth_matrix: 100%|##########| 21/21 [00:00<00:00, 165.80it/s]\n",
      "r_index: 100%|##########| 6/6 [00:00<00:00, 540.45it/s]\n",
      "dist_matrix: 100%|##########| 32/32 [00:00<00:00, 89.33it/s]\n",
      "synth_matrix: 100%|##########| 32/32 [00:00<00:00, 427.82it/s]\n",
      "r_index: 100%|##########| 27/27 [00:00<00:00, 431.21it/s]\n"
     ]
    },
    {
     "name": "stdout",
     "output_type": "stream",
     "text": [
      "Parse progress: |████████████████████████████████████████████████████████████████| (done) 100%\n",
      "xgboost Model Build progress: |"
     ]
    },
    {
     "name": "stderr",
     "output_type": "stream",
     "text": [
      "/Users/gaskell/miniforge_x86_64/envs/ADPred_new/lib/python3.10/site-packages/h2o/estimators/estimator_base.py:208: RuntimeWarning: Dropping bad and constant columns: [hxchf, pres_imuran, pres_minocin, init_group, num_tnf, num_nontnf, hxtia]\n",
      "  warnings.warn(mesg[\"message\"], RuntimeWarning)\n"
     ]
    },
    {
     "name": "stdout",
     "output_type": "stream",
     "text": [
      "██████████████████████████████████████████████████| (done) 100%\n",
      "Parse progress: |████████████████████████████████████████████████████████████████| (done) 100%\n",
      "xgboost prediction progress: |███████████████████████████████████████████████████| (done) 100%\n",
      "Parse progress: |████████████████████████████████████████████████████████████████| (done) 100%\n",
      "xgboost prediction progress: |███████████████████████████████████████████████████| (done) 100%\n"
     ]
    },
    {
     "name": "stderr",
     "output_type": "stream",
     "text": [
      "dist_matrix: 100%|##########| 28/28 [00:00<00:00, 110.29it/s]\n",
      "synth_matrix: 100%|##########| 28/28 [00:00<00:00, 245.18it/s]\n",
      "r_index: 100%|##########| 7/7 [00:00<00:00, 485.07it/s]\n",
      "dist_matrix: 100%|##########| 31/31 [00:00<00:00, 91.91it/s]\n",
      "synth_matrix: 100%|##########| 31/31 [00:00<00:00, 415.17it/s]\n",
      "r_index: 100%|##########| 29/29 [00:00<00:00, 441.11it/s]"
     ]
    },
    {
     "name": "stdout",
     "output_type": "stream",
     "text": [
      "Parse progress: |"
     ]
    },
    {
     "name": "stderr",
     "output_type": "stream",
     "text": [
      "\n"
     ]
    },
    {
     "name": "stdout",
     "output_type": "stream",
     "text": [
      "████████████████████████████████████████████████████████████████| (done) 100%\n",
      "xgboost Model Build progress: |"
     ]
    },
    {
     "name": "stderr",
     "output_type": "stream",
     "text": [
      "/Users/gaskell/miniforge_x86_64/envs/ADPred_new/lib/python3.10/site-packages/h2o/estimators/estimator_base.py:208: RuntimeWarning: Dropping bad and constant columns: [hxchf, pres_imuran, pres_minocin, init_group, num_tnf, num_nontnf]\n",
      "  warnings.warn(mesg[\"message\"], RuntimeWarning)\n"
     ]
    },
    {
     "name": "stdout",
     "output_type": "stream",
     "text": [
      "██████████████████████████████████████████████████| (done) 100%\n",
      "Parse progress: |████████████████████████████████████████████████████████████████| (done) 100%\n",
      "xgboost prediction progress: |███████████████████████████████████████████████████| (done) 100%\n",
      "Parse progress: |████████████████████████████████████████████████████████████████| (done) 100%\n",
      "xgboost prediction progress: |███████████████████████████████████████████████████| (done) 100%\n"
     ]
    },
    {
     "name": "stderr",
     "output_type": "stream",
     "text": [
      "dist_matrix: 100%|##########| 20/20 [00:00<00:00, 158.76it/s]\n",
      "synth_matrix: 100%|##########| 20/20 [00:00<00:00, 160.35it/s]\n",
      "r_index: 100%|##########| 10/10 [00:00<00:00, 464.19it/s]\n",
      "dist_matrix: 100%|##########| 32/32 [00:00<00:00, 88.52it/s]\n",
      "synth_matrix: 100%|##########| 32/32 [00:00<00:00, 489.90it/s]\n",
      "r_index: 100%|##########| 27/27 [00:00<00:00, 522.22it/s]\n"
     ]
    },
    {
     "name": "stdout",
     "output_type": "stream",
     "text": [
      "Parse progress: |████████████████████████████████████████████████████████████████| (done) 100%\n",
      "xgboost Model Build progress: |"
     ]
    },
    {
     "name": "stderr",
     "output_type": "stream",
     "text": [
      "/Users/gaskell/miniforge_x86_64/envs/ADPred_new/lib/python3.10/site-packages/h2o/estimators/estimator_base.py:208: RuntimeWarning: Dropping bad and constant columns: [hxchf, pres_imuran, pres_minocin, init_group, num_tnf, num_nontnf, hxtia]\n",
      "  warnings.warn(mesg[\"message\"], RuntimeWarning)\n"
     ]
    },
    {
     "name": "stdout",
     "output_type": "stream",
     "text": [
      "██████████████████████████████████████████████████| (done) 100%\n",
      "Parse progress: |████████████████████████████████████████████████████████████████| (done) 100%\n",
      "xgboost prediction progress: |███████████████████████████████████████████████████| (done) 100%\n",
      "Parse progress: |████████████████████████████████████████████████████████████████| (done) 100%\n",
      "xgboost prediction progress: |███████████████████████████████████████████████████| (done) 100%\n"
     ]
    },
    {
     "name": "stderr",
     "output_type": "stream",
     "text": [
      "dist_matrix: 100%|##########| 22/22 [00:00<00:00, 145.54it/s]\n",
      "synth_matrix: 100%|##########| 22/22 [00:00<00:00, 165.54it/s]\n",
      "r_index: 100%|##########| 3/3 [00:00<00:00, 465.48it/s]\n",
      "dist_matrix: 100%|##########| 28/28 [00:00<00:00, 103.71it/s]\n",
      "synth_matrix: 100%|##########| 28/28 [00:00<00:00, 232.48it/s]\n",
      "r_index: 100%|##########| 7/7 [00:00<00:00, 429.24it/s]"
     ]
    },
    {
     "name": "stdout",
     "output_type": "stream",
     "text": [
      "Parse progress: |"
     ]
    },
    {
     "name": "stderr",
     "output_type": "stream",
     "text": [
      "\n"
     ]
    },
    {
     "name": "stdout",
     "output_type": "stream",
     "text": [
      "████████████████████████████████████████████████████████████████| (done) 100%\n",
      "xgboost Model Build progress: |"
     ]
    },
    {
     "name": "stderr",
     "output_type": "stream",
     "text": [
      "/Users/gaskell/miniforge_x86_64/envs/ADPred_new/lib/python3.10/site-packages/h2o/estimators/estimator_base.py:208: RuntimeWarning: Dropping bad and constant columns: [hxchf, pres_imuran, pres_minocin, init_group, num_tnf, num_nontnf, hxtia]\n",
      "  warnings.warn(mesg[\"message\"], RuntimeWarning)\n"
     ]
    },
    {
     "name": "stdout",
     "output_type": "stream",
     "text": [
      "██████████████████████████████████████████████████| (done) 100%\n",
      "Parse progress: |████████████████████████████████████████████████████████████████| (done) 100%\n",
      "xgboost prediction progress: |███████████████████████████████████████████████████| (done) 100%\n",
      "Parse progress: |████████████████████████████████████████████████████████████████| (done) 100%\n",
      "xgboost prediction progress: |███████████████████████████████████████████████████| (done) 100%\n"
     ]
    },
    {
     "name": "stderr",
     "output_type": "stream",
     "text": [
      "dist_matrix: 100%|##########| 28/28 [00:00<00:00, 105.00it/s]\n",
      "synth_matrix: 100%|##########| 28/28 [00:00<00:00, 146.73it/s]\n",
      "r_index: 100%|##########| 25/25 [00:00<00:00, 456.65it/s]"
     ]
    },
    {
     "name": "stdout",
     "output_type": "stream",
     "text": [
      "Parse progress: |"
     ]
    },
    {
     "name": "stderr",
     "output_type": "stream",
     "text": [
      "\n"
     ]
    },
    {
     "name": "stdout",
     "output_type": "stream",
     "text": [
      "████████████████████████████████████████████████████████████████| (done) 100%\n",
      "xgboost Model Build progress: |"
     ]
    },
    {
     "name": "stderr",
     "output_type": "stream",
     "text": [
      "/Users/gaskell/miniforge_x86_64/envs/ADPred_new/lib/python3.10/site-packages/h2o/estimators/estimator_base.py:208: RuntimeWarning: Dropping bad and constant columns: [hxchf, pres_imuran, pres_minocin, init_group, num_tnf, num_nontnf, hxtia]\n",
      "  warnings.warn(mesg[\"message\"], RuntimeWarning)\n"
     ]
    },
    {
     "name": "stdout",
     "output_type": "stream",
     "text": [
      "██████████████████████████████████████████████████| (done) 100%\n",
      "Parse progress: |████████████████████████████████████████████████████████████████| (done) 100%\n",
      "xgboost prediction progress: |███████████████████████████████████████████████████| (done) 100%\n",
      "Parse progress: |████████████████████████████████████████████████████████████████| (done) 100%\n",
      "xgboost prediction progress: |███████████████████████████████████████████████████| (done) 100%\n"
     ]
    },
    {
     "name": "stderr",
     "output_type": "stream",
     "text": [
      "dist_matrix: 100%|##########| 22/22 [00:00<00:00, 143.79it/s]\n",
      "synth_matrix: 100%|##########| 22/22 [00:00<00:00, 172.68it/s]\n",
      "r_index: 100%|##########| 3/3 [00:00<00:00, 467.87it/s]\n",
      "dist_matrix: 100%|##########| 32/32 [00:00<00:00, 91.23it/s]\n",
      "synth_matrix: 100%|##########| 32/32 [00:00<00:00, 468.76it/s]\n",
      "r_index: 100%|##########| 27/27 [00:00<00:00, 459.72it/s]"
     ]
    },
    {
     "name": "stdout",
     "output_type": "stream",
     "text": [
      "Parse progress: |"
     ]
    },
    {
     "name": "stderr",
     "output_type": "stream",
     "text": [
      "\n"
     ]
    },
    {
     "name": "stdout",
     "output_type": "stream",
     "text": [
      "████████████████████████████████████████████████████████████████| (done) 100%\n",
      "xgboost Model Build progress: |"
     ]
    },
    {
     "name": "stderr",
     "output_type": "stream",
     "text": [
      "/Users/gaskell/miniforge_x86_64/envs/ADPred_new/lib/python3.10/site-packages/h2o/estimators/estimator_base.py:208: RuntimeWarning: Dropping bad and constant columns: [hxchf, pres_imuran, pres_minocin, init_group, num_tnf, num_nontnf]\n",
      "  warnings.warn(mesg[\"message\"], RuntimeWarning)\n"
     ]
    },
    {
     "name": "stdout",
     "output_type": "stream",
     "text": [
      "██████████████████████████████████████████████████| (done) 100%\n",
      "Parse progress: |████████████████████████████████████████████████████████████████| (done) 100%\n",
      "xgboost prediction progress: |███████████████████████████████████████████████████| (done) 100%\n",
      "Parse progress: |████████████████████████████████████████████████████████████████| (done) 100%\n",
      "xgboost prediction progress: |███████████████████████████████████████████████████| (done) 100%\n"
     ]
    },
    {
     "name": "stderr",
     "output_type": "stream",
     "text": [
      "dist_matrix: 100%|##########| 22/22 [00:00<00:00, 146.13it/s]\n",
      "synth_matrix: 100%|##########| 22/22 [00:00<00:00, 158.45it/s]\n",
      "r_index: 100%|##########| 3/3 [00:00<00:00, 387.49it/s]\n",
      "dist_matrix: 100%|##########| 33/33 [00:00<00:00, 87.98it/s]\n",
      "synth_matrix: 100%|##########| 33/33 [00:00<00:00, 436.52it/s]\n",
      "r_index: 100%|##########| 25/25 [00:00<00:00, 448.38it/s]\n"
     ]
    },
    {
     "name": "stdout",
     "output_type": "stream",
     "text": [
      "Parse progress: |████████████████████████████████████████████████████████████████| (done) 100%\n",
      "xgboost Model Build progress: |"
     ]
    },
    {
     "name": "stderr",
     "output_type": "stream",
     "text": [
      "/Users/gaskell/miniforge_x86_64/envs/ADPred_new/lib/python3.10/site-packages/h2o/estimators/estimator_base.py:208: RuntimeWarning: Dropping bad and constant columns: [pres_imuran, pres_minocin, init_group, num_tnf, num_nontnf, hxtia]\n",
      "  warnings.warn(mesg[\"message\"], RuntimeWarning)\n"
     ]
    },
    {
     "name": "stdout",
     "output_type": "stream",
     "text": [
      "██████████████████████████████████████████████████| (done) 100%\n",
      "Parse progress: |████████████████████████████████████████████████████████████████| (done) 100%\n",
      "xgboost prediction progress: |███████████████████████████████████████████████████| (done) 100%\n",
      "Parse progress: |████████████████████████████████████████████████████████████████| (done) 100%\n",
      "xgboost prediction progress: |███████████████████████████████████████████████████| (done) 100%\n"
     ]
    },
    {
     "name": "stderr",
     "output_type": "stream",
     "text": [
      "dist_matrix: 100%|##########| 24/24 [00:00<00:00, 133.38it/s]\n",
      "synth_matrix: 100%|##########| 24/24 [00:00<00:00, 242.20it/s]\n",
      "r_index: 100%|##########| 18/18 [00:00<00:00, 559.34it/s]\n",
      "dist_matrix: 100%|##########| 33/33 [00:00<00:00, 88.38it/s]\n",
      "synth_matrix: 100%|##########| 33/33 [00:00<00:00, 478.23it/s]\n",
      "r_index: 100%|##########| 25/25 [00:00<00:00, 526.11it/s]\n"
     ]
    },
    {
     "name": "stdout",
     "output_type": "stream",
     "text": [
      "Parse progress: |████████████████████████████████████████████████████████████████| (done) 100%\n",
      "xgboost Model Build progress: |"
     ]
    },
    {
     "name": "stderr",
     "output_type": "stream",
     "text": [
      "/Users/gaskell/miniforge_x86_64/envs/ADPred_new/lib/python3.10/site-packages/h2o/estimators/estimator_base.py:208: RuntimeWarning: Dropping bad and constant columns: [pres_imuran, pres_minocin, init_group, num_tnf, num_nontnf, hxtia]\n",
      "  warnings.warn(mesg[\"message\"], RuntimeWarning)\n"
     ]
    },
    {
     "name": "stdout",
     "output_type": "stream",
     "text": [
      "██████████████████████████████████████████████████| (done) 100%\n",
      "Parse progress: |████████████████████████████████████████████████████████████████| (done) 100%\n",
      "xgboost prediction progress: |███████████████████████████████████████████████████| (done) 100%\n",
      "Parse progress: |████████████████████████████████████████████████████████████████| (done) 100%\n",
      "xgboost prediction progress: |███████████████████████████████████████████████████| (done) 100%\n",
      "Parse progress: |████████████████████████████████████████████████████████████████| (done) 100%\n",
      "xgboost prediction progress: |███████████████████████████████████████████████████| (done) 100%\n"
     ]
    },
    {
     "name": "stderr",
     "output_type": "stream",
     "text": [
      "dist_matrix: 100%|##########| 22/22 [00:00<00:00, 147.49it/s]\n",
      "synth_matrix: 100%|##########| 22/22 [00:00<00:00, 177.58it/s]\n",
      "r_index: 100%|##########| 3/3 [00:00<00:00, 398.36it/s]\n",
      "dist_matrix: 100%|##########| 33/33 [00:00<00:00, 86.39it/s]\n",
      "synth_matrix: 100%|##########| 33/33 [00:00<00:00, 453.56it/s]\n",
      "r_index: 100%|##########| 25/25 [00:00<00:00, 458.75it/s]"
     ]
    },
    {
     "name": "stdout",
     "output_type": "stream",
     "text": [
      "Parse progress: |"
     ]
    },
    {
     "name": "stderr",
     "output_type": "stream",
     "text": [
      "\n"
     ]
    },
    {
     "name": "stdout",
     "output_type": "stream",
     "text": [
      "████████████████████████████████████████████████████████████████| (done) 100%\n",
      "gbm Model Build progress: |"
     ]
    },
    {
     "name": "stderr",
     "output_type": "stream",
     "text": [
      "/Users/gaskell/miniforge_x86_64/envs/ADPred_new/lib/python3.10/site-packages/h2o/estimators/estimator_base.py:208: RuntimeWarning: Dropping bad and constant columns: [pres_imuran, pres_minocin, init_group, num_tnf, num_nontnf, hxtia]\n",
      "  warnings.warn(mesg[\"message\"], RuntimeWarning)\n"
     ]
    },
    {
     "name": "stdout",
     "output_type": "stream",
     "text": [
      "██████████████████████████████████████████████████████| (done) 100%\n",
      "Parse progress: |████████████████████████████████████████████████████████████████| (done) 100%\n",
      "gbm prediction progress: |███████████████████████████████████████████████████████| (done) 100%\n",
      "Parse progress: |████████████████████████████████████████████████████████████████| (done) 100%\n",
      "gbm prediction progress: |███████████████████████████████████████████████████████| (done) 100%\n"
     ]
    },
    {
     "name": "stderr",
     "output_type": "stream",
     "text": [
      "dist_matrix: 100%|##########| 21/21 [00:00<00:00, 154.84it/s]\n",
      "synth_matrix: 100%|##########| 21/21 [00:00<00:00, 175.28it/s]\n",
      "r_index: 100%|##########| 6/6 [00:00<00:00, 436.43it/s]"
     ]
    },
    {
     "name": "stdout",
     "output_type": "stream",
     "text": [
      "Parse progress: |"
     ]
    },
    {
     "name": "stderr",
     "output_type": "stream",
     "text": [
      "\n"
     ]
    },
    {
     "name": "stdout",
     "output_type": "stream",
     "text": [
      "████████████████████████████████████████████████████████████████| (done) 100%\n",
      "gbm Model Build progress: |"
     ]
    },
    {
     "name": "stderr",
     "output_type": "stream",
     "text": [
      "/Users/gaskell/miniforge_x86_64/envs/ADPred_new/lib/python3.10/site-packages/h2o/estimators/estimator_base.py:208: RuntimeWarning: Dropping bad and constant columns: [pres_imuran, pres_minocin, init_group, num_tnf, num_nontnf]\n",
      "  warnings.warn(mesg[\"message\"], RuntimeWarning)\n"
     ]
    },
    {
     "name": "stdout",
     "output_type": "stream",
     "text": [
      "██████████████████████████████████████████████████████| (done) 100%\n",
      "Parse progress: |████████████████████████████████████████████████████████████████| (done) 100%\n",
      "gbm prediction progress: |███████████████████████████████████████████████████████| (done) 100%\n",
      "Parse progress: |████████████████████████████████████████████████████████████████| (done) 100%\n",
      "gbm prediction progress: |███████████████████████████████████████████████████████| (done) 100%\n"
     ]
    },
    {
     "name": "stderr",
     "output_type": "stream",
     "text": [
      "dist_matrix: 100%|##########| 21/21 [00:00<00:00, 154.80it/s]\n",
      "synth_matrix: 100%|##########| 21/21 [00:00<00:00, 180.97it/s]\n",
      "r_index: 100%|##########| 6/6 [00:00<00:00, 672.20it/s]\n",
      "dist_matrix: 100%|##########| 32/32 [00:00<00:00, 91.61it/s]\n",
      "synth_matrix: 100%|##########| 32/32 [00:00<00:00, 462.41it/s]\n",
      "r_index: 100%|##########| 27/27 [00:00<00:00, 505.99it/s]"
     ]
    },
    {
     "name": "stdout",
     "output_type": "stream",
     "text": [
      "Parse progress: |"
     ]
    },
    {
     "name": "stderr",
     "output_type": "stream",
     "text": [
      "\n"
     ]
    },
    {
     "name": "stdout",
     "output_type": "stream",
     "text": [
      "████████████████████████████████████████████████████████████████| (done) 100%\n",
      "gbm Model Build progress: |"
     ]
    },
    {
     "name": "stderr",
     "output_type": "stream",
     "text": [
      "/Users/gaskell/miniforge_x86_64/envs/ADPred_new/lib/python3.10/site-packages/h2o/estimators/estimator_base.py:208: RuntimeWarning: Dropping bad and constant columns: [hxchf, pres_imuran, pres_minocin, init_group, num_tnf, num_nontnf, hxtia]\n",
      "  warnings.warn(mesg[\"message\"], RuntimeWarning)\n"
     ]
    },
    {
     "name": "stdout",
     "output_type": "stream",
     "text": [
      "██████████████████████████████████████████████████████| (done) 100%\n",
      "Parse progress: |████████████████████████████████████████████████████████████████| (done) 100%\n",
      "gbm prediction progress: |███████████████████████████████████████████████████████| (done) 100%\n",
      "Parse progress: |████████████████████████████████████████████████████████████████| (done) 100%\n",
      "gbm prediction progress: |███████████████████████████████████████████████████████| (done) 100%\n"
     ]
    },
    {
     "name": "stderr",
     "output_type": "stream",
     "text": [
      "dist_matrix: 100%|##########| 24/24 [00:00<00:00, 134.63it/s]\n",
      "synth_matrix: 100%|##########| 24/24 [00:00<00:00, 262.62it/s]\n",
      "r_index: 100%|##########| 18/18 [00:00<00:00, 521.26it/s]\n",
      "dist_matrix: 100%|##########| 31/31 [00:00<00:00, 95.67it/s]\n",
      "synth_matrix: 100%|##########| 31/31 [00:00<00:00, 503.96it/s]\n",
      "r_index: 100%|##########| 29/29 [00:00<00:00, 477.56it/s]"
     ]
    },
    {
     "name": "stdout",
     "output_type": "stream",
     "text": [
      "Parse progress: |"
     ]
    },
    {
     "name": "stderr",
     "output_type": "stream",
     "text": [
      "\n"
     ]
    },
    {
     "name": "stdout",
     "output_type": "stream",
     "text": [
      "████████████████████████████████████████████████████████████████| (done) 100%\n",
      "gbm Model Build progress: |"
     ]
    },
    {
     "name": "stderr",
     "output_type": "stream",
     "text": [
      "/Users/gaskell/miniforge_x86_64/envs/ADPred_new/lib/python3.10/site-packages/h2o/estimators/estimator_base.py:208: RuntimeWarning: Dropping bad and constant columns: [hxchf, pres_imuran, pres_minocin, init_group, num_tnf, num_nontnf]\n",
      "  warnings.warn(mesg[\"message\"], RuntimeWarning)\n"
     ]
    },
    {
     "name": "stdout",
     "output_type": "stream",
     "text": [
      "██████████████████████████████████████████████████████| (done) 100%\n",
      "Parse progress: |████████████████████████████████████████████████████████████████| (done) 100%\n",
      "gbm prediction progress: |███████████████████████████████████████████████████████| (done) 100%\n",
      "Parse progress: |████████████████████████████████████████████████████████████████| (done) 100%\n",
      "gbm prediction progress: |███████████████████████████████████████████████████████| (done) 100%\n"
     ]
    },
    {
     "name": "stderr",
     "output_type": "stream",
     "text": [
      "dist_matrix: 100%|##########| 28/28 [00:00<00:00, 113.87it/s]\n",
      "synth_matrix: 100%|##########| 28/28 [00:00<00:00, 171.92it/s]\n",
      "r_index: 100%|##########| 25/25 [00:00<00:00, 470.66it/s]"
     ]
    },
    {
     "name": "stdout",
     "output_type": "stream",
     "text": [
      "Parse progress: |"
     ]
    },
    {
     "name": "stderr",
     "output_type": "stream",
     "text": [
      "\n"
     ]
    },
    {
     "name": "stdout",
     "output_type": "stream",
     "text": [
      "████████████████████████████████████████████████████████████████| (done) 100%\n",
      "gbm Model Build progress: |"
     ]
    },
    {
     "name": "stderr",
     "output_type": "stream",
     "text": [
      "/Users/gaskell/miniforge_x86_64/envs/ADPred_new/lib/python3.10/site-packages/h2o/estimators/estimator_base.py:208: RuntimeWarning: Dropping bad and constant columns: [hxchf, pres_imuran, hxcopd, pres_minocin, init_group, num_tnf, num_nontnf, hxstroke, hxunstab_ang]\n",
      "  warnings.warn(mesg[\"message\"], RuntimeWarning)\n"
     ]
    },
    {
     "name": "stdout",
     "output_type": "stream",
     "text": [
      "██████████████████████████████████████████████████████| (done) 100%\n",
      "Parse progress: |████████████████████████████████████████████████████████████████| (done) 100%\n",
      "gbm prediction progress: |███████████████████████████████████████████████████████| (done) 100%\n",
      "Parse progress: |████████████████████████████████████████████████████████████████| (done) 100%\n",
      "gbm prediction progress: |███████████████████████████████████████████████████████| (done) 100%\n"
     ]
    },
    {
     "name": "stderr",
     "output_type": "stream",
     "text": [
      "dist_matrix: 100%|##########| 27/27 [00:00<00:00, 116.46it/s]\n",
      "synth_matrix: 100%|##########| 27/27 [00:00<00:00, 260.94it/s]\n",
      "r_index: 100%|##########| 9/9 [00:00<00:00, 462.00it/s]\n",
      "dist_matrix: 100%|##########| 30/30 [00:00<00:00, 98.88it/s]\n",
      "synth_matrix: 100%|##########| 30/30 [00:00<00:00, 233.73it/s]"
     ]
    },
    {
     "name": "stdout",
     "output_type": "stream",
     "text": [
      "Parse progress: |"
     ]
    },
    {
     "name": "stderr",
     "output_type": "stream",
     "text": [
      "\n"
     ]
    },
    {
     "name": "stdout",
     "output_type": "stream",
     "text": [
      "████████████████████████████████████████████████████████████████| (done) 100%\n",
      "gbm Model Build progress: |"
     ]
    },
    {
     "name": "stderr",
     "output_type": "stream",
     "text": [
      "/Users/gaskell/miniforge_x86_64/envs/ADPred_new/lib/python3.10/site-packages/h2o/estimators/estimator_base.py:208: RuntimeWarning: Dropping bad and constant columns: [pres_imuran, hxcopd, pres_minocin, init_group, num_tnf, num_nontnf, hxtia]\n",
      "  warnings.warn(mesg[\"message\"], RuntimeWarning)\n"
     ]
    },
    {
     "name": "stdout",
     "output_type": "stream",
     "text": [
      "██████████████████████████████████████████████████████| (done) 100%\n",
      "Parse progress: |████████████████████████████████████████████████████████████████| (done) 100%\n",
      "gbm prediction progress: |███████████████████████████████████████████████████████| (done) 100%\n",
      "Parse progress: |████████████████████████████████████████████████████████████████| (done) 100%\n",
      "gbm prediction progress: |███████████████████████████████████████████████████████| (done) 100%\n"
     ]
    },
    {
     "name": "stderr",
     "output_type": "stream",
     "text": [
      "dist_matrix: 100%|##########| 22/22 [00:00<00:00, 147.03it/s]\n",
      "synth_matrix: 100%|##########| 22/22 [00:00<00:00, 174.48it/s]\n",
      "r_index: 100%|##########| 3/3 [00:00<00:00, 441.91it/s]\n",
      "dist_matrix: 100%|##########| 28/28 [00:00<00:00, 101.76it/s]\n",
      "synth_matrix: 100%|##########| 28/28 [00:00<00:00, 239.83it/s]\n",
      "r_index: 100%|##########| 7/7 [00:00<00:00, 444.11it/s]\n"
     ]
    },
    {
     "name": "stdout",
     "output_type": "stream",
     "text": [
      "Parse progress: |████████████████████████████████████████████████████████████████| (done) 100%\n",
      "gbm Model Build progress: |"
     ]
    },
    {
     "name": "stderr",
     "output_type": "stream",
     "text": [
      "/Users/gaskell/miniforge_x86_64/envs/ADPred_new/lib/python3.10/site-packages/h2o/estimators/estimator_base.py:208: RuntimeWarning: Dropping bad and constant columns: [pres_imuran, pres_minocin, init_group, num_tnf, num_nontnf]\n",
      "  warnings.warn(mesg[\"message\"], RuntimeWarning)\n"
     ]
    },
    {
     "name": "stdout",
     "output_type": "stream",
     "text": [
      "██████████████████████████████████████████████████████| (done) 100%\n",
      "Parse progress: |████████████████████████████████████████████████████████████████| (done) 100%\n",
      "gbm prediction progress: |███████████████████████████████████████████████████████| (done) 100%\n",
      "Parse progress: |████████████████████████████████████████████████████████████████| (done) 100%\n",
      "gbm prediction progress: |███████████████████████████████████████████████████████| (done) 100%\n"
     ]
    },
    {
     "name": "stderr",
     "output_type": "stream",
     "text": [
      "dist_matrix: 100%|##########| 22/22 [00:00<00:00, 143.83it/s]\n",
      "synth_matrix: 100%|##########| 22/22 [00:00<00:00, 161.63it/s]\n",
      "r_index: 100%|##########| 3/3 [00:00<00:00, 410.41it/s]\n",
      "dist_matrix: 100%|##########| 33/33 [00:00<00:00, 89.58it/s]\n",
      "synth_matrix: 100%|##########| 33/33 [00:00<00:00, 465.94it/s]\n",
      "r_index: 100%|##########| 25/25 [00:00<00:00, 427.80it/s]\n"
     ]
    },
    {
     "name": "stdout",
     "output_type": "stream",
     "text": [
      "Parse progress: |████████████████████████████████████████████████████████████████| (done) 100%\n",
      "gbm Model Build progress: |"
     ]
    },
    {
     "name": "stderr",
     "output_type": "stream",
     "text": [
      "/Users/gaskell/miniforge_x86_64/envs/ADPred_new/lib/python3.10/site-packages/h2o/estimators/estimator_base.py:208: RuntimeWarning: Dropping bad and constant columns: [pres_imuran, pres_minocin, init_group, num_tnf, num_nontnf]\n",
      "  warnings.warn(mesg[\"message\"], RuntimeWarning)\n"
     ]
    },
    {
     "name": "stdout",
     "output_type": "stream",
     "text": [
      "██████████████████████████████████████████████████████| (done) 100%\n",
      "Parse progress: |████████████████████████████████████████████████████████████████| (done) 100%\n",
      "gbm prediction progress: |███████████████████████████████████████████████████████| (done) 100%\n",
      "Parse progress: |████████████████████████████████████████████████████████████████| (done) 100%\n",
      "gbm prediction progress: |███████████████████████████████████████████████████████| (done) 100%\n"
     ]
    },
    {
     "name": "stderr",
     "output_type": "stream",
     "text": [
      "dist_matrix: 100%|##########| 22/22 [00:00<00:00, 144.53it/s]\n",
      "synth_matrix: 100%|##########| 22/22 [00:00<00:00, 179.40it/s]\n",
      "r_index: 100%|##########| 3/3 [00:00<00:00, 578.95it/s]\n",
      "dist_matrix: 100%|##########| 29/29 [00:00<00:00, 101.75it/s]\n",
      "synth_matrix: 100%|##########| 29/29 [00:00<00:00, 227.22it/s]\n",
      "r_index: 100%|##########| 3/3 [00:00<00:00, 551.98it/s]"
     ]
    },
    {
     "name": "stdout",
     "output_type": "stream",
     "text": [
      "Parse progress: |"
     ]
    },
    {
     "name": "stderr",
     "output_type": "stream",
     "text": [
      "\n"
     ]
    },
    {
     "name": "stdout",
     "output_type": "stream",
     "text": [
      "████████████████████████████████████████████████████████████████| (done) 100%\n",
      "gbm Model Build progress: |"
     ]
    },
    {
     "name": "stderr",
     "output_type": "stream",
     "text": [
      "/Users/gaskell/miniforge_x86_64/envs/ADPred_new/lib/python3.10/site-packages/h2o/estimators/estimator_base.py:208: RuntimeWarning: Dropping bad and constant columns: [pres_imuran, pres_minocin, init_group, num_tnf, num_nontnf, hxtia]\n",
      "  warnings.warn(mesg[\"message\"], RuntimeWarning)\n"
     ]
    },
    {
     "name": "stdout",
     "output_type": "stream",
     "text": [
      "██████████████████████████████████████████████████████| (done) 100%\n",
      "Parse progress: |████████████████████████████████████████████████████████████████| (done) 100%\n",
      "gbm prediction progress: |███████████████████████████████████████████████████████| (done) 100%\n",
      "Parse progress: |████████████████████████████████████████████████████████████████| (done) 100%\n",
      "gbm prediction progress: |███████████████████████████████████████████████████████| (done) 100%\n"
     ]
    },
    {
     "name": "stderr",
     "output_type": "stream",
     "text": [
      "dist_matrix: 100%|##########| 22/22 [00:00<00:00, 149.87it/s]\n",
      "synth_matrix: 100%|##########| 22/22 [00:00<00:00, 188.67it/s]\n",
      "r_index: 100%|##########| 3/3 [00:00<00:00, 490.43it/s]\n",
      "dist_matrix: 100%|##########| 30/30 [00:00<00:00, 98.72it/s]\n",
      "synth_matrix: 100%|##########| 30/30 [00:00<00:00, 219.97it/s]"
     ]
    },
    {
     "name": "stdout",
     "output_type": "stream",
     "text": [
      "Parse progress: |"
     ]
    },
    {
     "name": "stderr",
     "output_type": "stream",
     "text": [
      "\n"
     ]
    },
    {
     "name": "stdout",
     "output_type": "stream",
     "text": [
      "████████████████████████████████████████████████████████████████| (done) 100%\n",
      "gbm Model Build progress: |"
     ]
    },
    {
     "name": "stderr",
     "output_type": "stream",
     "text": [
      "/Users/gaskell/miniforge_x86_64/envs/ADPred_new/lib/python3.10/site-packages/h2o/estimators/estimator_base.py:208: RuntimeWarning: Dropping bad and constant columns: [pres_imuran, pres_minocin, init_group, num_tnf, num_nontnf]\n",
      "  warnings.warn(mesg[\"message\"], RuntimeWarning)\n"
     ]
    },
    {
     "name": "stdout",
     "output_type": "stream",
     "text": [
      "██████████████████████████████████████████████████████| (done) 100%\n",
      "Parse progress: |████████████████████████████████████████████████████████████████| (done) 100%\n",
      "gbm prediction progress: |███████████████████████████████████████████████████████| (done) 100%\n",
      "Parse progress: |████████████████████████████████████████████████████████████████| (done) 100%\n",
      "gbm prediction progress: |███████████████████████████████████████████████████████| (done) 100%\n"
     ]
    },
    {
     "name": "stderr",
     "output_type": "stream",
     "text": [
      "dist_matrix: 100%|##########| 22/22 [00:00<00:00, 146.49it/s]\n",
      "synth_matrix: 100%|##########| 22/22 [00:00<00:00, 176.35it/s]\n",
      "r_index: 100%|##########| 3/3 [00:00<00:00, 484.41it/s]\n",
      "dist_matrix: 100%|##########| 33/33 [00:00<00:00, 88.93it/s]\n",
      "synth_matrix: 100%|##########| 33/33 [00:00<00:00, 463.81it/s]\n",
      "r_index: 100%|##########| 25/25 [00:00<00:00, 471.73it/s]\n"
     ]
    },
    {
     "name": "stdout",
     "output_type": "stream",
     "text": [
      "Parse progress: |████████████████████████████████████████████████████████████████| (done) 100%\n",
      "gbm Model Build progress: |"
     ]
    },
    {
     "name": "stderr",
     "output_type": "stream",
     "text": [
      "/Users/gaskell/miniforge_x86_64/envs/ADPred_new/lib/python3.10/site-packages/h2o/estimators/estimator_base.py:208: RuntimeWarning: Dropping bad and constant columns: [pres_imuran, pres_minocin, init_group, num_tnf, num_nontnf, hxtia]\n",
      "  warnings.warn(mesg[\"message\"], RuntimeWarning)\n"
     ]
    },
    {
     "name": "stdout",
     "output_type": "stream",
     "text": [
      "██████████████████████████████████████████████████████| (done) 100%\n",
      "Parse progress: |████████████████████████████████████████████████████████████████| (done) 100%\n",
      "gbm prediction progress: |███████████████████████████████████████████████████████| (done) 100%\n",
      "Parse progress: |████████████████████████████████████████████████████████████████| (done) 100%\n",
      "gbm prediction progress: |███████████████████████████████████████████████████████| (done) 100%\n"
     ]
    },
    {
     "name": "stderr",
     "output_type": "stream",
     "text": [
      "dist_matrix: 100%|##########| 24/24 [00:00<00:00, 134.11it/s]\n",
      "synth_matrix: 100%|##########| 24/24 [00:00<00:00, 264.42it/s]\n",
      "r_index: 100%|##########| 18/18 [00:00<00:00, 517.18it/s]\n",
      "dist_matrix: 100%|##########| 30/30 [00:00<00:00, 101.41it/s]\n",
      "synth_matrix: 100%|##########| 30/30 [00:00<00:00, 256.93it/s]"
     ]
    },
    {
     "name": "stdout",
     "output_type": "stream",
     "text": [
      "Parse progress: |"
     ]
    },
    {
     "name": "stderr",
     "output_type": "stream",
     "text": [
      "\n"
     ]
    },
    {
     "name": "stdout",
     "output_type": "stream",
     "text": [
      "████████████████████████████████████████████████████████████████| (done) 100%\n",
      "gbm Model Build progress: |"
     ]
    },
    {
     "name": "stderr",
     "output_type": "stream",
     "text": [
      "/Users/gaskell/miniforge_x86_64/envs/ADPred_new/lib/python3.10/site-packages/h2o/estimators/estimator_base.py:208: RuntimeWarning: Dropping bad and constant columns: [hxchf, pres_imuran, pres_minocin, init_group, num_tnf, num_nontnf, hxtia, hxunstab_ang]\n",
      "  warnings.warn(mesg[\"message\"], RuntimeWarning)\n"
     ]
    },
    {
     "name": "stdout",
     "output_type": "stream",
     "text": [
      "██████████████████████████████████████████████████████| (done) 100%\n",
      "Parse progress: |████████████████████████████████████████████████████████████████| (done) 100%\n",
      "gbm prediction progress: |███████████████████████████████████████████████████████| (done) 100%\n",
      "Parse progress: |████████████████████████████████████████████████████████████████| (done) 100%\n",
      "gbm prediction progress: |███████████████████████████████████████████████████████| (done) 100%\n"
     ]
    },
    {
     "name": "stderr",
     "output_type": "stream",
     "text": [
      "dist_matrix: 100%|##########| 20/20 [00:00<00:00, 159.31it/s]\n",
      "synth_matrix: 100%|##########| 20/20 [00:00<00:00, 171.66it/s]\n",
      "r_index: 100%|##########| 10/10 [00:00<00:00, 590.11it/s]\n",
      "dist_matrix: 100%|##########| 32/32 [00:00<00:00, 89.43it/s]\n",
      "synth_matrix: 100%|##########| 32/32 [00:00<00:00, 450.49it/s]\n",
      "r_index: 100%|##########| 27/27 [00:00<00:00, 468.95it/s]\n"
     ]
    },
    {
     "name": "stdout",
     "output_type": "stream",
     "text": [
      "Parse progress: |████████████████████████████████████████████████████████████████| (done) 100%\n",
      "gbm Model Build progress: |"
     ]
    },
    {
     "name": "stderr",
     "output_type": "stream",
     "text": [
      "/Users/gaskell/miniforge_x86_64/envs/ADPred_new/lib/python3.10/site-packages/h2o/estimators/estimator_base.py:208: RuntimeWarning: Dropping bad and constant columns: [hxchf, pres_imuran, pres_minocin, init_group, num_tnf, num_nontnf]\n",
      "  warnings.warn(mesg[\"message\"], RuntimeWarning)\n"
     ]
    },
    {
     "name": "stdout",
     "output_type": "stream",
     "text": [
      "██████████████████████████████████████████████████████| (done) 100%\n",
      "Parse progress: |████████████████████████████████████████████████████████████████| (done) 100%\n",
      "gbm prediction progress: |███████████████████████████████████████████████████████| (done) 100%\n",
      "Parse progress: |████████████████████████████████████████████████████████████████| (done) 100%\n",
      "gbm prediction progress: |███████████████████████████████████████████████████████| (done) 100%\n"
     ]
    },
    {
     "name": "stderr",
     "output_type": "stream",
     "text": [
      "dist_matrix: 100%|##########| 21/21 [00:00<00:00, 151.67it/s]\n",
      "synth_matrix: 100%|##########| 21/21 [00:00<00:00, 162.37it/s]\n",
      "r_index: 100%|##########| 6/6 [00:00<00:00, 426.17it/s]\n",
      "dist_matrix: 100%|##########| 28/28 [00:00<00:00, 105.65it/s]\n",
      "synth_matrix: 100%|##########| 28/28 [00:00<00:00, 222.80it/s]\n",
      "r_index: 100%|##########| 7/7 [00:00<00:00, 398.48it/s]"
     ]
    },
    {
     "name": "stdout",
     "output_type": "stream",
     "text": [
      "Parse progress: |"
     ]
    },
    {
     "name": "stderr",
     "output_type": "stream",
     "text": [
      "\n"
     ]
    },
    {
     "name": "stdout",
     "output_type": "stream",
     "text": [
      "████████████████████████████████████████████████████████████████| (done) 100%\n",
      "gbm Model Build progress: |"
     ]
    },
    {
     "name": "stderr",
     "output_type": "stream",
     "text": [
      "/Users/gaskell/miniforge_x86_64/envs/ADPred_new/lib/python3.10/site-packages/h2o/estimators/estimator_base.py:208: RuntimeWarning: Dropping bad and constant columns: [hxchf, pres_imuran, pres_minocin, init_group, num_tnf, num_nontnf]\n",
      "  warnings.warn(mesg[\"message\"], RuntimeWarning)\n"
     ]
    },
    {
     "name": "stdout",
     "output_type": "stream",
     "text": [
      "██████████████████████████████████████████████████████| (done) 100%\n",
      "Parse progress: |████████████████████████████████████████████████████████████████| (done) 100%\n",
      "gbm prediction progress: |███████████████████████████████████████████████████████| (done) 100%\n",
      "Parse progress: |████████████████████████████████████████████████████████████████| (done) 100%\n",
      "gbm prediction progress: |███████████████████████████████████████████████████████| (done) 100%\n"
     ]
    },
    {
     "name": "stderr",
     "output_type": "stream",
     "text": [
      "dist_matrix: 100%|##########| 21/21 [00:00<00:00, 151.78it/s]\n",
      "synth_matrix: 100%|##########| 21/21 [00:00<00:00, 170.84it/s]\n",
      "r_index: 100%|##########| 6/6 [00:00<00:00, 489.92it/s]\n",
      "dist_matrix: 100%|##########| 32/32 [00:00<00:00, 90.94it/s]\n",
      "synth_matrix: 100%|##########| 32/32 [00:00<00:00, 471.43it/s]\n",
      "r_index: 100%|##########| 27/27 [00:00<00:00, 468.55it/s]\n"
     ]
    },
    {
     "name": "stdout",
     "output_type": "stream",
     "text": [
      "Parse progress: |████████████████████████████████████████████████████████████████| (done) 100%\n",
      "gbm Model Build progress: |"
     ]
    },
    {
     "name": "stderr",
     "output_type": "stream",
     "text": [
      "/Users/gaskell/miniforge_x86_64/envs/ADPred_new/lib/python3.10/site-packages/h2o/estimators/estimator_base.py:208: RuntimeWarning: Dropping bad and constant columns: [pres_imuran, pres_minocin, init_group, num_tnf, num_nontnf]\n",
      "  warnings.warn(mesg[\"message\"], RuntimeWarning)\n"
     ]
    },
    {
     "name": "stdout",
     "output_type": "stream",
     "text": [
      "██████████████████████████████████████████████████████| (done) 100%\n",
      "Parse progress: |████████████████████████████████████████████████████████████████| (done) 100%\n",
      "gbm prediction progress: |███████████████████████████████████████████████████████| (done) 100%\n",
      "Parse progress: |████████████████████████████████████████████████████████████████| (done) 100%\n",
      "gbm prediction progress: |███████████████████████████████████████████████████████| (done) 100%\n"
     ]
    },
    {
     "name": "stderr",
     "output_type": "stream",
     "text": [
      "dist_matrix: 100%|##########| 22/22 [00:00<00:00, 146.15it/s]\n",
      "synth_matrix: 100%|##########| 22/22 [00:00<00:00, 167.55it/s]\n",
      "r_index: 100%|##########| 3/3 [00:00<00:00, 407.06it/s]\n",
      "dist_matrix: 100%|##########| 31/31 [00:00<00:00, 93.99it/s]\n",
      "synth_matrix: 100%|##########| 31/31 [00:00<00:00, 452.75it/s]\n",
      "r_index: 100%|##########| 29/29 [00:00<00:00, 472.77it/s]"
     ]
    },
    {
     "name": "stdout",
     "output_type": "stream",
     "text": [
      "Parse progress: |"
     ]
    },
    {
     "name": "stderr",
     "output_type": "stream",
     "text": [
      "\n"
     ]
    },
    {
     "name": "stdout",
     "output_type": "stream",
     "text": [
      "████████████████████████████████████████████████████████████████| (done) 100%\n",
      "gbm Model Build progress: |"
     ]
    },
    {
     "name": "stderr",
     "output_type": "stream",
     "text": [
      "/Users/gaskell/miniforge_x86_64/envs/ADPred_new/lib/python3.10/site-packages/h2o/estimators/estimator_base.py:208: RuntimeWarning: Dropping bad and constant columns: [hxchf, pres_imuran, pres_minocin, init_group, num_tnf, num_nontnf]\n",
      "  warnings.warn(mesg[\"message\"], RuntimeWarning)\n"
     ]
    },
    {
     "name": "stdout",
     "output_type": "stream",
     "text": [
      "██████████████████████████████████████████████████████| (done) 100%\n",
      "Parse progress: |████████████████████████████████████████████████████████████████| (done) 100%\n",
      "gbm prediction progress: |███████████████████████████████████████████████████████| (done) 100%\n",
      "Parse progress: |████████████████████████████████████████████████████████████████| (done) 100%\n",
      "gbm prediction progress: |███████████████████████████████████████████████████████| (done) 100%\n"
     ]
    },
    {
     "name": "stderr",
     "output_type": "stream",
     "text": [
      "dist_matrix: 100%|##########| 30/30 [00:00<00:00, 98.09it/s]\n",
      "synth_matrix: 100%|##########| 30/30 [00:00<00:00, 155.89it/s]\n",
      "r_index: 100%|##########| 16/16 [00:00<00:00, 481.00it/s]"
     ]
    },
    {
     "name": "stdout",
     "output_type": "stream",
     "text": [
      "Parse progress: |"
     ]
    },
    {
     "name": "stderr",
     "output_type": "stream",
     "text": [
      "\n"
     ]
    },
    {
     "name": "stdout",
     "output_type": "stream",
     "text": [
      "████████████████████████████████████████████████████████████████| (done) 100%\n",
      "gbm Model Build progress: |"
     ]
    },
    {
     "name": "stderr",
     "output_type": "stream",
     "text": [
      "/Users/gaskell/miniforge_x86_64/envs/ADPred_new/lib/python3.10/site-packages/h2o/estimators/estimator_base.py:208: RuntimeWarning: Dropping bad and constant columns: [hxchf, pres_imuran, pres_minocin, init_group, num_tnf, num_nontnf, hxtia]\n",
      "  warnings.warn(mesg[\"message\"], RuntimeWarning)\n"
     ]
    },
    {
     "name": "stdout",
     "output_type": "stream",
     "text": [
      "██████████████████████████████████████████████████████| (done) 100%\n",
      "Parse progress: |████████████████████████████████████████████████████████████████| (done) 100%\n",
      "gbm prediction progress: |███████████████████████████████████████████████████████| (done) 100%\n",
      "Parse progress: |████████████████████████████████████████████████████████████████| (done) 100%\n",
      "gbm prediction progress: |███████████████████████████████████████████████████████| (done) 100%\n"
     ]
    },
    {
     "name": "stderr",
     "output_type": "stream",
     "text": [
      "dist_matrix: 100%|##########| 21/21 [00:00<00:00, 132.27it/s]\n",
      "synth_matrix: 100%|##########| 21/21 [00:00<00:00, 145.56it/s]\n",
      "r_index: 100%|##########| 6/6 [00:00<00:00, 443.22it/s]\n",
      "dist_matrix: 100%|##########| 30/30 [00:00<00:00, 96.97it/s]\n",
      "synth_matrix: 100%|##########| 30/30 [00:00<00:00, 233.71it/s]"
     ]
    },
    {
     "name": "stdout",
     "output_type": "stream",
     "text": [
      "Parse progress: |"
     ]
    },
    {
     "name": "stderr",
     "output_type": "stream",
     "text": [
      "\n"
     ]
    },
    {
     "name": "stdout",
     "output_type": "stream",
     "text": [
      "████████████████████████████████████████████████████████████████| (done) 100%\n",
      "gbm Model Build progress: |"
     ]
    },
    {
     "name": "stderr",
     "output_type": "stream",
     "text": [
      "/Users/gaskell/miniforge_x86_64/envs/ADPred_new/lib/python3.10/site-packages/h2o/estimators/estimator_base.py:208: RuntimeWarning: Dropping bad and constant columns: [pres_imuran, pres_minocin, init_group, num_tnf, num_nontnf]\n",
      "  warnings.warn(mesg[\"message\"], RuntimeWarning)\n"
     ]
    },
    {
     "name": "stdout",
     "output_type": "stream",
     "text": [
      "██████████████████████████████████████████████████████| (done) 100%\n",
      "Parse progress: |████████████████████████████████████████████████████████████████| (done) 100%\n",
      "gbm prediction progress: |███████████████████████████████████████████████████████| (done) 100%\n",
      "Parse progress: |████████████████████████████████████████████████████████████████| (done) 100%\n",
      "gbm prediction progress: |███████████████████████████████████████████████████████| (done) 100%\n"
     ]
    },
    {
     "name": "stderr",
     "output_type": "stream",
     "text": [
      "dist_matrix: 100%|##########| 22/22 [00:00<00:00, 141.40it/s]\n",
      "synth_matrix: 100%|##########| 22/22 [00:00<00:00, 176.94it/s]\n",
      "r_index: 100%|##########| 3/3 [00:00<00:00, 473.65it/s]\n",
      "dist_matrix: 100%|##########| 29/29 [00:00<00:00, 101.97it/s]\n",
      "synth_matrix: 100%|##########| 29/29 [00:00<00:00, 223.35it/s]\n",
      "r_index: 100%|##########| 3/3 [00:00<00:00, 426.63it/s]"
     ]
    },
    {
     "name": "stdout",
     "output_type": "stream",
     "text": [
      "Parse progress: |"
     ]
    },
    {
     "name": "stderr",
     "output_type": "stream",
     "text": [
      "\n"
     ]
    },
    {
     "name": "stdout",
     "output_type": "stream",
     "text": [
      "████████████████████████████████████████████████████████████████| (done) 100%\n",
      "gbm Model Build progress: |"
     ]
    },
    {
     "name": "stderr",
     "output_type": "stream",
     "text": [
      "/Users/gaskell/miniforge_x86_64/envs/ADPred_new/lib/python3.10/site-packages/h2o/estimators/estimator_base.py:208: RuntimeWarning: Dropping bad and constant columns: [hxchf, pres_imuran, pres_minocin, init_group, num_tnf, num_nontnf]\n",
      "  warnings.warn(mesg[\"message\"], RuntimeWarning)\n"
     ]
    },
    {
     "name": "stdout",
     "output_type": "stream",
     "text": [
      "██████████████████████████████████████████████████████| (done) 100%\n",
      "Parse progress: |████████████████████████████████████████████████████████████████| (done) 100%\n",
      "gbm prediction progress: |███████████████████████████████████████████████████████| (done) 100%\n",
      "Parse progress: |████████████████████████████████████████████████████████████████| (done) 100%\n",
      "gbm prediction progress: |███████████████████████████████████████████████████████| (done) 100%\n"
     ]
    },
    {
     "name": "stderr",
     "output_type": "stream",
     "text": [
      "dist_matrix: 100%|##########| 24/24 [00:00<00:00, 124.89it/s]\n",
      "synth_matrix: 100%|##########| 24/24 [00:00<00:00, 243.21it/s]\n",
      "r_index: 100%|##########| 18/18 [00:00<00:00, 486.67it/s]\n",
      "dist_matrix: 100%|##########| 33/33 [00:00<00:00, 84.58it/s]\n",
      "synth_matrix: 100%|##########| 33/33 [00:00<00:00, 449.42it/s]\n",
      "r_index: 100%|##########| 25/25 [00:00<00:00, 438.45it/s]\n"
     ]
    },
    {
     "name": "stdout",
     "output_type": "stream",
     "text": [
      "Parse progress: |████████████████████████████████████████████████████████████████| (done) 100%\n",
      "gbm Model Build progress: |"
     ]
    },
    {
     "name": "stderr",
     "output_type": "stream",
     "text": [
      "/Users/gaskell/miniforge_x86_64/envs/ADPred_new/lib/python3.10/site-packages/h2o/estimators/estimator_base.py:208: RuntimeWarning: Dropping bad and constant columns: [hxchf, pres_imuran, pres_minocin, init_group, num_tnf, num_nontnf, hxtia]\n",
      "  warnings.warn(mesg[\"message\"], RuntimeWarning)\n"
     ]
    },
    {
     "name": "stdout",
     "output_type": "stream",
     "text": [
      "██████████████████████████████████████████████████████| (done) 100%\n",
      "Parse progress: |████████████████████████████████████████████████████████████████| (done) 100%\n",
      "gbm prediction progress: |███████████████████████████████████████████████████████| (done) 100%\n",
      "Parse progress: |████████████████████████████████████████████████████████████████| (done) 100%\n",
      "gbm prediction progress: |███████████████████████████████████████████████████████| (done) 100%\n"
     ]
    },
    {
     "name": "stderr",
     "output_type": "stream",
     "text": [
      "dist_matrix: 100%|##########| 20/20 [00:00<00:00, 152.81it/s]\n",
      "synth_matrix: 100%|##########| 20/20 [00:00<00:00, 107.64it/s]\n",
      "r_index: 100%|##########| 10/10 [00:00<00:00, 187.68it/s]\n",
      "dist_matrix: 100%|##########| 30/30 [00:00<00:00, 90.06it/s]\n",
      "synth_matrix: 100%|##########| 30/30 [00:00<00:00, 248.61it/s]\n"
     ]
    },
    {
     "name": "stdout",
     "output_type": "stream",
     "text": [
      "Parse progress: |████████████████████████████████████████████████████████████████| (done) 100%\n",
      "gbm Model Build progress: |"
     ]
    },
    {
     "name": "stderr",
     "output_type": "stream",
     "text": [
      "/Users/gaskell/miniforge_x86_64/envs/ADPred_new/lib/python3.10/site-packages/h2o/estimators/estimator_base.py:208: RuntimeWarning: Dropping bad and constant columns: [pres_imuran, pres_minocin, init_group, num_tnf, num_nontnf, hxunstab_ang]\n",
      "  warnings.warn(mesg[\"message\"], RuntimeWarning)\n"
     ]
    },
    {
     "name": "stdout",
     "output_type": "stream",
     "text": [
      "██████████████████████████████████████████████████████| (done) 100%\n",
      "Parse progress: |████████████████████████████████████████████████████████████████| (done) 100%\n",
      "gbm prediction progress: |███████████████████████████████████████████████████████| (done) 100%\n",
      "Parse progress: |████████████████████████████████████████████████████████████████| (done) 100%\n",
      "gbm prediction progress: |███████████████████████████████████████████████████████| (done) 100%\n"
     ]
    },
    {
     "name": "stderr",
     "output_type": "stream",
     "text": [
      "dist_matrix: 100%|##########| 24/24 [00:00<00:00, 131.45it/s]\n",
      "synth_matrix: 100%|##########| 24/24 [00:00<00:00, 261.07it/s]\n",
      "r_index: 100%|##########| 18/18 [00:00<00:00, 504.10it/s]\n",
      "dist_matrix: 100%|##########| 31/31 [00:00<00:00, 97.03it/s]\n",
      "synth_matrix: 100%|##########| 31/31 [00:00<00:00, 493.97it/s]\n",
      "r_index: 100%|##########| 29/29 [00:00<00:00, 501.50it/s]"
     ]
    },
    {
     "name": "stdout",
     "output_type": "stream",
     "text": [
      "Parse progress: |"
     ]
    },
    {
     "name": "stderr",
     "output_type": "stream",
     "text": [
      "\n"
     ]
    },
    {
     "name": "stdout",
     "output_type": "stream",
     "text": [
      "████████████████████████████████████████████████████████████████| (done) 100%\n",
      "gbm Model Build progress: |"
     ]
    },
    {
     "name": "stderr",
     "output_type": "stream",
     "text": [
      "/Users/gaskell/miniforge_x86_64/envs/ADPred_new/lib/python3.10/site-packages/h2o/estimators/estimator_base.py:208: RuntimeWarning: Dropping bad and constant columns: [hxchf, pres_imuran, pres_minocin, init_group, num_tnf, num_nontnf, hxtia]\n",
      "  warnings.warn(mesg[\"message\"], RuntimeWarning)\n"
     ]
    },
    {
     "name": "stdout",
     "output_type": "stream",
     "text": [
      "██████████████████████████████████████████████████████| (done) 100%\n",
      "Parse progress: |████████████████████████████████████████████████████████████████| (done) 100%\n",
      "gbm prediction progress: |███████████████████████████████████████████████████████| (done) 100%\n",
      "Parse progress: |████████████████████████████████████████████████████████████████| (done) 100%\n",
      "gbm prediction progress: |███████████████████████████████████████████████████████| (done) 100%\n"
     ]
    },
    {
     "name": "stderr",
     "output_type": "stream",
     "text": [
      "dist_matrix: 100%|##########| 21/21 [00:00<00:00, 153.25it/s]\n",
      "synth_matrix: 100%|##########| 21/21 [00:00<00:00, 169.44it/s]\n",
      "r_index: 100%|##########| 6/6 [00:00<00:00, 488.05it/s]\n",
      "dist_matrix: 100%|##########| 32/32 [00:00<00:00, 91.44it/s]\n",
      "synth_matrix: 100%|##########| 32/32 [00:00<00:00, 450.55it/s]\n",
      "r_index: 100%|##########| 27/27 [00:00<00:00, 450.61it/s]"
     ]
    },
    {
     "name": "stdout",
     "output_type": "stream",
     "text": [
      "Parse progress: |"
     ]
    },
    {
     "name": "stderr",
     "output_type": "stream",
     "text": [
      "\n"
     ]
    },
    {
     "name": "stdout",
     "output_type": "stream",
     "text": [
      "████████████████████████████████████████████████████████████████| (done) 100%\n",
      "gbm Model Build progress: |"
     ]
    },
    {
     "name": "stderr",
     "output_type": "stream",
     "text": [
      "/Users/gaskell/miniforge_x86_64/envs/ADPred_new/lib/python3.10/site-packages/h2o/estimators/estimator_base.py:208: RuntimeWarning: Dropping bad and constant columns: [pres_imuran, hxcopd, pres_minocin, init_group, num_tnf, num_nontnf, hxtia]\n",
      "  warnings.warn(mesg[\"message\"], RuntimeWarning)\n"
     ]
    },
    {
     "name": "stdout",
     "output_type": "stream",
     "text": [
      "██████████████████████████████████████████████████████| (done) 100%\n",
      "Parse progress: |████████████████████████████████████████████████████████████████| (done) 100%\n",
      "gbm prediction progress: |███████████████████████████████████████████████████████| (done) 100%\n",
      "Parse progress: |████████████████████████████████████████████████████████████████| (done) 100%\n",
      "gbm prediction progress: |███████████████████████████████████████████████████████| (done) 100%\n"
     ]
    },
    {
     "name": "stderr",
     "output_type": "stream",
     "text": [
      "dist_matrix: 100%|##########| 28/28 [00:00<00:00, 109.60it/s]\n",
      "synth_matrix: 100%|##########| 28/28 [00:00<00:00, 244.81it/s]\n",
      "r_index: 100%|##########| 7/7 [00:00<00:00, 448.55it/s]\n",
      "dist_matrix: 100%|##########| 31/31 [00:00<00:00, 93.34it/s]\n",
      "synth_matrix: 100%|##########| 31/31 [00:00<00:00, 404.06it/s]\n",
      "r_index: 100%|##########| 29/29 [00:00<00:00, 153.15it/s]\n"
     ]
    },
    {
     "name": "stdout",
     "output_type": "stream",
     "text": [
      "Parse progress: |████████████████████████████████████████████████████████████████| (done) 100%\n",
      "gbm Model Build progress: |"
     ]
    },
    {
     "name": "stderr",
     "output_type": "stream",
     "text": [
      "/Users/gaskell/miniforge_x86_64/envs/ADPred_new/lib/python3.10/site-packages/h2o/estimators/estimator_base.py:208: RuntimeWarning: Dropping bad and constant columns: [pres_imuran, pres_minocin, init_group, num_tnf, num_nontnf]\n",
      "  warnings.warn(mesg[\"message\"], RuntimeWarning)\n"
     ]
    },
    {
     "name": "stdout",
     "output_type": "stream",
     "text": [
      "██████████████████████████████████████████████████████| (done) 100%\n",
      "Parse progress: |████████████████████████████████████████████████████████████████| (done) 100%\n",
      "gbm prediction progress: |███████████████████████████████████████████████████████| (done) 100%\n",
      "Parse progress: |████████████████████████████████████████████████████████████████| (done) 100%\n",
      "gbm prediction progress: |███████████████████████████████████████████████████████| (done) 100%\n"
     ]
    },
    {
     "name": "stderr",
     "output_type": "stream",
     "text": [
      "dist_matrix: 100%|##########| 20/20 [00:00<00:00, 142.96it/s]\n",
      "synth_matrix: 100%|##########| 20/20 [00:00<00:00, 143.41it/s]\n",
      "r_index: 100%|##########| 10/10 [00:00<00:00, 511.43it/s]\n",
      "dist_matrix: 100%|##########| 32/32 [00:00<00:00, 86.28it/s]\n",
      "synth_matrix: 100%|##########| 32/32 [00:00<00:00, 464.78it/s]\n",
      "r_index: 100%|##########| 27/27 [00:00<00:00, 461.91it/s]\n"
     ]
    },
    {
     "name": "stdout",
     "output_type": "stream",
     "text": [
      "Parse progress: |████████████████████████████████████████████████████████████████| (done) 100%\n",
      "gbm Model Build progress: |"
     ]
    },
    {
     "name": "stderr",
     "output_type": "stream",
     "text": [
      "/Users/gaskell/miniforge_x86_64/envs/ADPred_new/lib/python3.10/site-packages/h2o/estimators/estimator_base.py:208: RuntimeWarning: Dropping bad and constant columns: [pres_imuran, pres_minocin, init_group, num_tnf, num_nontnf]\n",
      "  warnings.warn(mesg[\"message\"], RuntimeWarning)\n"
     ]
    },
    {
     "name": "stdout",
     "output_type": "stream",
     "text": [
      "██████████████████████████████████████████████████████| (done) 100%\n",
      "Parse progress: |████████████████████████████████████████████████████████████████| (done) 100%\n",
      "gbm prediction progress: |███████████████████████████████████████████████████████| (done) 100%\n",
      "Parse progress: |████████████████████████████████████████████████████████████████| (done) 100%\n",
      "gbm prediction progress: |███████████████████████████████████████████████████████| (done) 100%\n"
     ]
    },
    {
     "name": "stderr",
     "output_type": "stream",
     "text": [
      "dist_matrix: 100%|##########| 22/22 [00:00<00:00, 140.44it/s]\n",
      "synth_matrix: 100%|##########| 22/22 [00:00<00:00, 101.63it/s]\n",
      "r_index: 100%|##########| 3/3 [00:00<00:00, 329.27it/s]"
     ]
    },
    {
     "name": "stdout",
     "output_type": "stream",
     "text": [
      "Parse progress: |"
     ]
    },
    {
     "name": "stderr",
     "output_type": "stream",
     "text": [
      "\n"
     ]
    },
    {
     "name": "stdout",
     "output_type": "stream",
     "text": [
      "████████████████████████████████████████████████████████████████| (done) 100%\n",
      "gbm Model Build progress: |"
     ]
    },
    {
     "name": "stderr",
     "output_type": "stream",
     "text": [
      "/Users/gaskell/miniforge_x86_64/envs/ADPred_new/lib/python3.10/site-packages/h2o/estimators/estimator_base.py:208: RuntimeWarning: Dropping bad and constant columns: [pres_imuran, pres_minocin, init_group, num_tnf, num_nontnf]\n",
      "  warnings.warn(mesg[\"message\"], RuntimeWarning)\n"
     ]
    },
    {
     "name": "stdout",
     "output_type": "stream",
     "text": [
      "██████████████████████████████████████████████████████| (done) 100%\n",
      "Parse progress: |████████████████████████████████████████████████████████████████| (done) 100%\n",
      "gbm prediction progress: |███████████████████████████████████████████████████████| (done) 100%\n",
      "Parse progress: |████████████████████████████████████████████████████████████████| (done) 100%\n",
      "gbm prediction progress: |███████████████████████████████████████████████████████| (done) 100%\n"
     ]
    },
    {
     "name": "stderr",
     "output_type": "stream",
     "text": [
      "dist_matrix: 100%|##########| 28/28 [00:00<00:00, 92.12it/s] \n",
      "synth_matrix: 100%|##########| 28/28 [00:00<00:00, 120.03it/s]\n",
      "r_index: 100%|##########| 25/25 [00:00<00:00, 387.39it/s]\n"
     ]
    },
    {
     "name": "stdout",
     "output_type": "stream",
     "text": [
      "Parse progress: |████████████████████████████████████████████████████████████████| (done) 100%\n",
      "gbm Model Build progress: |"
     ]
    },
    {
     "name": "stderr",
     "output_type": "stream",
     "text": [
      "/Users/gaskell/miniforge_x86_64/envs/ADPred_new/lib/python3.10/site-packages/h2o/estimators/estimator_base.py:208: RuntimeWarning: Dropping bad and constant columns: [hxchf, pres_imuran, pres_minocin, init_group, num_tnf, num_nontnf, hxtia]\n",
      "  warnings.warn(mesg[\"message\"], RuntimeWarning)\n"
     ]
    },
    {
     "name": "stdout",
     "output_type": "stream",
     "text": [
      "██████████████████████████████████████████████████████| (done) 100%\n",
      "Parse progress: |████████████████████████████████████████████████████████████████| (done) 100%\n",
      "gbm prediction progress: |███████████████████████████████████████████████████████| (done) 100%\n",
      "Parse progress: |████████████████████████████████████████████████████████████████| (done) 100%\n",
      "gbm prediction progress: |███████████████████████████████████████████████████████| (done) 100%\n"
     ]
    },
    {
     "name": "stderr",
     "output_type": "stream",
     "text": [
      "dist_matrix: 100%|##########| 22/22 [00:00<00:00, 140.96it/s]\n",
      "synth_matrix: 100%|##########| 22/22 [00:00<00:00, 173.24it/s]\n",
      "r_index: 100%|##########| 3/3 [00:00<00:00, 484.82it/s]\n",
      "dist_matrix: 100%|##########| 32/32 [00:00<00:00, 89.75it/s]\n",
      "synth_matrix: 100%|##########| 32/32 [00:00<00:00, 456.77it/s]\n",
      "r_index: 100%|##########| 27/27 [00:00<00:00, 443.53it/s]\n"
     ]
    },
    {
     "name": "stdout",
     "output_type": "stream",
     "text": [
      "Parse progress: |████████████████████████████████████████████████████████████████| (done) 100%\n",
      "gbm Model Build progress: |"
     ]
    },
    {
     "name": "stderr",
     "output_type": "stream",
     "text": [
      "/Users/gaskell/miniforge_x86_64/envs/ADPred_new/lib/python3.10/site-packages/h2o/estimators/estimator_base.py:208: RuntimeWarning: Dropping bad and constant columns: [hxchf, pres_imuran, pres_minocin, init_group, num_tnf, num_nontnf, hxtia]\n",
      "  warnings.warn(mesg[\"message\"], RuntimeWarning)\n"
     ]
    },
    {
     "name": "stdout",
     "output_type": "stream",
     "text": [
      "██████████████████████████████████████████████████████| (done) 100%\n",
      "Parse progress: |████████████████████████████████████████████████████████████████| (done) 100%\n",
      "gbm prediction progress: |███████████████████████████████████████████████████████| (done) 100%\n",
      "Parse progress: |████████████████████████████████████████████████████████████████| (done) 100%\n",
      "gbm prediction progress: |███████████████████████████████████████████████████████| (done) 100%\n"
     ]
    },
    {
     "name": "stderr",
     "output_type": "stream",
     "text": [
      "dist_matrix: 100%|##########| 22/22 [00:00<00:00, 146.63it/s]\n",
      "synth_matrix: 100%|##########| 22/22 [00:00<00:00, 168.30it/s]\n",
      "r_index: 100%|##########| 3/3 [00:00<00:00, 400.59it/s]\n",
      "dist_matrix: 100%|##########| 33/33 [00:00<00:00, 89.82it/s]\n",
      "synth_matrix: 100%|##########| 33/33 [00:00<00:00, 437.50it/s]\n",
      "r_index: 100%|##########| 25/25 [00:00<00:00, 455.89it/s]\n"
     ]
    },
    {
     "name": "stdout",
     "output_type": "stream",
     "text": [
      "Parse progress: |████████████████████████████████████████████████████████████████| (done) 100%\n",
      "gbm Model Build progress: |"
     ]
    },
    {
     "name": "stderr",
     "output_type": "stream",
     "text": [
      "/Users/gaskell/miniforge_x86_64/envs/ADPred_new/lib/python3.10/site-packages/h2o/estimators/estimator_base.py:208: RuntimeWarning: Dropping bad and constant columns: [hxchf, pres_imuran, pres_minocin, init_group, num_tnf, num_nontnf, hxtia]\n",
      "  warnings.warn(mesg[\"message\"], RuntimeWarning)\n"
     ]
    },
    {
     "name": "stdout",
     "output_type": "stream",
     "text": [
      "██████████████████████████████████████████████████████| (done) 100%\n",
      "Parse progress: |████████████████████████████████████████████████████████████████| (done) 100%\n",
      "gbm prediction progress: |███████████████████████████████████████████████████████| (done) 100%\n",
      "Parse progress: |████████████████████████████████████████████████████████████████| (done) 100%\n",
      "gbm prediction progress: |███████████████████████████████████████████████████████| (done) 100%\n"
     ]
    },
    {
     "name": "stderr",
     "output_type": "stream",
     "text": [
      "dist_matrix: 100%|##########| 24/24 [00:00<00:00, 134.40it/s]\n",
      "synth_matrix: 100%|##########| 24/24 [00:00<00:00, 246.10it/s]\n",
      "r_index: 100%|##########| 18/18 [00:00<00:00, 514.39it/s]\n",
      "dist_matrix: 100%|##########| 33/33 [00:00<00:00, 88.90it/s]\n",
      "synth_matrix: 100%|##########| 33/33 [00:00<00:00, 484.45it/s]\n",
      "r_index: 100%|##########| 25/25 [00:00<00:00, 472.97it/s]\n"
     ]
    },
    {
     "name": "stdout",
     "output_type": "stream",
     "text": [
      "Parse progress: |████████████████████████████████████████████████████████████████| (done) 100%\n",
      "gbm Model Build progress: |"
     ]
    },
    {
     "name": "stderr",
     "output_type": "stream",
     "text": [
      "/Users/gaskell/miniforge_x86_64/envs/ADPred_new/lib/python3.10/site-packages/h2o/estimators/estimator_base.py:208: RuntimeWarning: Dropping bad and constant columns: [pres_imuran, pres_minocin, init_group, num_tnf, num_nontnf]\n",
      "  warnings.warn(mesg[\"message\"], RuntimeWarning)\n"
     ]
    },
    {
     "name": "stdout",
     "output_type": "stream",
     "text": [
      "██████████████████████████████████████████████████████| (done) 100%\n",
      "Parse progress: |████████████████████████████████████████████████████████████████| (done) 100%\n",
      "gbm prediction progress: |███████████████████████████████████████████████████████| (done) 100%\n",
      "Parse progress: |████████████████████████████████████████████████████████████████| (done) 100%\n",
      "gbm prediction progress: |███████████████████████████████████████████████████████| (done) 100%\n",
      "Parse progress: |████████████████████████████████████████████████████████████████| (done) 100%\n",
      "gbm prediction progress: |███████████████████████████████████████████████████████| (done) 100%\n"
     ]
    },
    {
     "name": "stderr",
     "output_type": "stream",
     "text": [
      "dist_matrix: 100%|##########| 22/22 [00:00<00:00, 148.09it/s]\n",
      "synth_matrix: 100%|##########| 22/22 [00:00<00:00, 174.23it/s]\n",
      "r_index: 100%|##########| 3/3 [00:00<00:00, 580.96it/s]\n",
      "dist_matrix: 100%|##########| 33/33 [00:00<00:00, 89.56it/s]\n",
      "synth_matrix: 100%|##########| 33/33 [00:00<00:00, 461.24it/s]\n",
      "r_index: 100%|##########| 25/25 [00:00<00:00, 488.55it/s]\n"
     ]
    },
    {
     "name": "stdout",
     "output_type": "stream",
     "text": [
      "Parse progress: |████████████████████████████████████████████████████████████████| (done) 100%\n",
      "xgboost Model Build progress: |"
     ]
    },
    {
     "name": "stderr",
     "output_type": "stream",
     "text": [
      "/Users/gaskell/miniforge_x86_64/envs/ADPred_new/lib/python3.10/site-packages/h2o/estimators/estimator_base.py:208: RuntimeWarning: Dropping bad and constant columns: [hxchf, pres_imuran, pres_minocin, init_group, num_tnf, num_nontnf, hxtia]\n",
      "  warnings.warn(mesg[\"message\"], RuntimeWarning)\n"
     ]
    },
    {
     "name": "stdout",
     "output_type": "stream",
     "text": [
      "██████████████████████████████████████████████████| (done) 100%\n",
      "Parse progress: |████████████████████████████████████████████████████████████████| (done) 100%\n",
      "xgboost prediction progress: |███████████████████████████████████████████████████| (done) 100%\n",
      "Parse progress: |████████████████████████████████████████████████████████████████| (done) 100%\n",
      "xgboost prediction progress: |███████████████████████████████████████████████████| (done) 100%\n"
     ]
    },
    {
     "name": "stderr",
     "output_type": "stream",
     "text": [
      "dist_matrix: 100%|##########| 21/21 [00:00<00:00, 153.43it/s]\n",
      "synth_matrix: 100%|##########| 21/21 [00:00<00:00, 167.83it/s]\n",
      "r_index: 100%|##########| 6/6 [00:00<00:00, 458.19it/s]"
     ]
    },
    {
     "name": "stdout",
     "output_type": "stream",
     "text": [
      "Parse progress: |"
     ]
    },
    {
     "name": "stderr",
     "output_type": "stream",
     "text": [
      "\n"
     ]
    },
    {
     "name": "stdout",
     "output_type": "stream",
     "text": [
      "████████████████████████████████████████████████████████████████| (done) 100%\n",
      "xgboost Model Build progress: |"
     ]
    },
    {
     "name": "stderr",
     "output_type": "stream",
     "text": [
      "/Users/gaskell/miniforge_x86_64/envs/ADPred_new/lib/python3.10/site-packages/h2o/estimators/estimator_base.py:208: RuntimeWarning: Dropping bad and constant columns: [pres_imuran, pres_minocin, init_group, num_tnf, num_nontnf]\n",
      "  warnings.warn(mesg[\"message\"], RuntimeWarning)\n"
     ]
    },
    {
     "name": "stdout",
     "output_type": "stream",
     "text": [
      "██████████████████████████████████████████████████| (done) 100%\n",
      "Parse progress: |████████████████████████████████████████████████████████████████| (done) 100%\n",
      "xgboost prediction progress: |███████████████████████████████████████████████████| (done) 100%\n",
      "Parse progress: |████████████████████████████████████████████████████████████████| (done) 100%\n",
      "xgboost prediction progress: |███████████████████████████████████████████████████| (done) 100%\n"
     ]
    },
    {
     "name": "stderr",
     "output_type": "stream",
     "text": [
      "dist_matrix: 100%|##########| 21/21 [00:00<00:00, 152.06it/s]\n",
      "synth_matrix: 100%|##########| 21/21 [00:00<00:00, 180.47it/s]\n",
      "r_index: 100%|##########| 6/6 [00:00<00:00, 541.42it/s]\n",
      "dist_matrix: 100%|##########| 32/32 [00:00<00:00, 91.41it/s]\n",
      "synth_matrix: 100%|##########| 32/32 [00:00<00:00, 436.29it/s]\n",
      "r_index: 100%|##########| 27/27 [00:00<00:00, 504.56it/s]"
     ]
    },
    {
     "name": "stdout",
     "output_type": "stream",
     "text": [
      "Parse progress: |"
     ]
    },
    {
     "name": "stderr",
     "output_type": "stream",
     "text": [
      "\n"
     ]
    },
    {
     "name": "stdout",
     "output_type": "stream",
     "text": [
      "████████████████████████████████████████████████████████████████| (done) 100%\n",
      "xgboost Model Build progress: |"
     ]
    },
    {
     "name": "stderr",
     "output_type": "stream",
     "text": [
      "/Users/gaskell/miniforge_x86_64/envs/ADPred_new/lib/python3.10/site-packages/h2o/estimators/estimator_base.py:208: RuntimeWarning: Dropping bad and constant columns: [pres_imuran, pres_minocin, init_group, num_tnf, num_nontnf]\n",
      "  warnings.warn(mesg[\"message\"], RuntimeWarning)\n"
     ]
    },
    {
     "name": "stdout",
     "output_type": "stream",
     "text": [
      "██████████████████████████████████████████████████| (done) 100%\n",
      "Parse progress: |████████████████████████████████████████████████████████████████| (done) 100%\n",
      "xgboost prediction progress: |███████████████████████████████████████████████████| (done) 100%\n",
      "Parse progress: |████████████████████████████████████████████████████████████████| (done) 100%\n",
      "xgboost prediction progress: |███████████████████████████████████████████████████| (done) 100%\n"
     ]
    },
    {
     "name": "stderr",
     "output_type": "stream",
     "text": [
      "dist_matrix: 100%|##########| 24/24 [00:00<00:00, 134.35it/s]\n",
      "synth_matrix: 100%|##########| 24/24 [00:00<00:00, 249.64it/s]\n",
      "r_index: 100%|##########| 18/18 [00:00<00:00, 463.46it/s]\n",
      "dist_matrix: 100%|##########| 31/31 [00:00<00:00, 81.29it/s]\n",
      "synth_matrix: 100%|##########| 31/31 [00:00<00:00, 214.49it/s]\n",
      "r_index: 100%|##########| 29/29 [00:00<00:00, 459.57it/s]"
     ]
    },
    {
     "name": "stdout",
     "output_type": "stream",
     "text": [
      "Parse progress: |"
     ]
    },
    {
     "name": "stderr",
     "output_type": "stream",
     "text": [
      "\n"
     ]
    },
    {
     "name": "stdout",
     "output_type": "stream",
     "text": [
      "████████████████████████████████████████████████████████████████| (done) 100%\n",
      "xgboost Model Build progress: |"
     ]
    },
    {
     "name": "stderr",
     "output_type": "stream",
     "text": [
      "/Users/gaskell/miniforge_x86_64/envs/ADPred_new/lib/python3.10/site-packages/h2o/estimators/estimator_base.py:208: RuntimeWarning: Dropping bad and constant columns: [hxchf, pres_imuran, pres_minocin, init_group, num_tnf, num_nontnf, hxtia]\n",
      "  warnings.warn(mesg[\"message\"], RuntimeWarning)\n"
     ]
    },
    {
     "name": "stdout",
     "output_type": "stream",
     "text": [
      "██████████████████████████████████████████████████| (done) 100%\n",
      "Parse progress: |████████████████████████████████████████████████████████████████| (done) 100%\n",
      "xgboost prediction progress: |███████████████████████████████████████████████████| (done) 100%\n",
      "Parse progress: |████████████████████████████████████████████████████████████████| (done) 100%\n",
      "xgboost prediction progress: |███████████████████████████████████████████████████| (done) 100%\n"
     ]
    },
    {
     "name": "stderr",
     "output_type": "stream",
     "text": [
      "dist_matrix: 100%|##########| 28/28 [00:00<00:00, 111.63it/s]\n",
      "synth_matrix: 100%|##########| 28/28 [00:00<00:00, 164.57it/s]\n",
      "r_index: 100%|##########| 25/25 [00:00<00:00, 493.29it/s]"
     ]
    },
    {
     "name": "stdout",
     "output_type": "stream",
     "text": [
      "Parse progress: |"
     ]
    },
    {
     "name": "stderr",
     "output_type": "stream",
     "text": [
      "\n"
     ]
    },
    {
     "name": "stdout",
     "output_type": "stream",
     "text": [
      "████████████████████████████████████████████████████████████████| (done) 100%\n",
      "xgboost Model Build progress: |"
     ]
    },
    {
     "name": "stderr",
     "output_type": "stream",
     "text": [
      "/Users/gaskell/miniforge_x86_64/envs/ADPred_new/lib/python3.10/site-packages/h2o/estimators/estimator_base.py:208: RuntimeWarning: Dropping bad and constant columns: [hxchf, pres_imuran, pres_minocin, init_group, num_tnf, num_nontnf, hxstroke, hxunstab_ang]\n",
      "  warnings.warn(mesg[\"message\"], RuntimeWarning)\n"
     ]
    },
    {
     "name": "stdout",
     "output_type": "stream",
     "text": [
      "██████████████████████████████████████████████████| (done) 100%\n",
      "Parse progress: |████████████████████████████████████████████████████████████████| (done) 100%\n",
      "xgboost prediction progress: |███████████████████████████████████████████████████| (done) 100%\n",
      "Parse progress: |████████████████████████████████████████████████████████████████| (done) 100%\n",
      "xgboost prediction progress: |███████████████████████████████████████████████████| (done) 100%\n"
     ]
    },
    {
     "name": "stderr",
     "output_type": "stream",
     "text": [
      "dist_matrix: 100%|##########| 27/27 [00:00<00:00, 115.59it/s]\n",
      "synth_matrix: 100%|##########| 27/27 [00:00<00:00, 227.73it/s]\n",
      "r_index: 100%|##########| 9/9 [00:00<00:00, 396.91it/s]\n",
      "dist_matrix: 100%|##########| 30/30 [00:00<00:00, 94.19it/s]\n",
      "synth_matrix: 100%|##########| 30/30 [00:00<00:00, 240.64it/s]"
     ]
    },
    {
     "name": "stdout",
     "output_type": "stream",
     "text": [
      "Parse progress: |"
     ]
    },
    {
     "name": "stderr",
     "output_type": "stream",
     "text": [
      "\n"
     ]
    },
    {
     "name": "stdout",
     "output_type": "stream",
     "text": [
      "████████████████████████████████████████████████████████████████| (done) 100%\n",
      "xgboost Model Build progress: |"
     ]
    },
    {
     "name": "stderr",
     "output_type": "stream",
     "text": [
      "/Users/gaskell/miniforge_x86_64/envs/ADPred_new/lib/python3.10/site-packages/h2o/estimators/estimator_base.py:208: RuntimeWarning: Dropping bad and constant columns: [pres_imuran, pres_minocin, init_group, num_tnf, num_nontnf]\n",
      "  warnings.warn(mesg[\"message\"], RuntimeWarning)\n"
     ]
    },
    {
     "name": "stdout",
     "output_type": "stream",
     "text": [
      "██████████████████████████████████████████████████| (done) 100%\n",
      "Parse progress: |████████████████████████████████████████████████████████████████| (done) 100%\n",
      "xgboost prediction progress: |███████████████████████████████████████████████████| (done) 100%\n",
      "Parse progress: |████████████████████████████████████████████████████████████████| (done) 100%\n",
      "xgboost prediction progress: |███████████████████████████████████████████████████| (done) 100%\n"
     ]
    },
    {
     "name": "stderr",
     "output_type": "stream",
     "text": [
      "dist_matrix: 100%|##########| 22/22 [00:00<00:00, 147.19it/s]\n",
      "synth_matrix: 100%|##########| 22/22 [00:00<00:00, 174.24it/s]\n",
      "r_index: 100%|##########| 3/3 [00:00<00:00, 461.78it/s]\n",
      "dist_matrix: 100%|##########| 28/28 [00:00<00:00, 104.13it/s]\n",
      "synth_matrix: 100%|##########| 28/28 [00:00<00:00, 227.74it/s]\n",
      "r_index: 100%|##########| 7/7 [00:00<00:00, 571.76it/s]\n"
     ]
    },
    {
     "name": "stdout",
     "output_type": "stream",
     "text": [
      "Parse progress: |████████████████████████████████████████████████████████████████| (done) 100%\n",
      "xgboost Model Build progress: |"
     ]
    },
    {
     "name": "stderr",
     "output_type": "stream",
     "text": [
      "/Users/gaskell/miniforge_x86_64/envs/ADPred_new/lib/python3.10/site-packages/h2o/estimators/estimator_base.py:208: RuntimeWarning: Dropping bad and constant columns: [hxchf, pres_imuran, pres_minocin, init_group, num_tnf, num_nontnf]\n",
      "  warnings.warn(mesg[\"message\"], RuntimeWarning)\n"
     ]
    },
    {
     "name": "stdout",
     "output_type": "stream",
     "text": [
      "██████████████████████████████████████████████████| (done) 100%\n",
      "Parse progress: |████████████████████████████████████████████████████████████████| (done) 100%\n",
      "xgboost prediction progress: |███████████████████████████████████████████████████| (done) 100%\n",
      "Parse progress: |████████████████████████████████████████████████████████████████| (done) 100%\n",
      "xgboost prediction progress: |███████████████████████████████████████████████████| (done) 100%\n"
     ]
    },
    {
     "name": "stderr",
     "output_type": "stream",
     "text": [
      "dist_matrix: 100%|##########| 22/22 [00:00<00:00, 146.86it/s]\n",
      "synth_matrix: 100%|##########| 22/22 [00:00<00:00, 167.16it/s]\n",
      "r_index: 100%|##########| 3/3 [00:00<00:00, 611.98it/s]\n",
      "dist_matrix: 100%|##########| 33/33 [00:00<00:00, 85.97it/s]\n",
      "synth_matrix: 100%|##########| 33/33 [00:00<00:00, 406.19it/s]\n",
      "r_index: 100%|##########| 25/25 [00:00<00:00, 447.24it/s]"
     ]
    },
    {
     "name": "stdout",
     "output_type": "stream",
     "text": [
      "Parse progress: |"
     ]
    },
    {
     "name": "stderr",
     "output_type": "stream",
     "text": [
      "\n"
     ]
    },
    {
     "name": "stdout",
     "output_type": "stream",
     "text": [
      "████████████████████████████████████████████████████████████████| (done) 100%\n",
      "xgboost Model Build progress: |"
     ]
    },
    {
     "name": "stderr",
     "output_type": "stream",
     "text": [
      "/Users/gaskell/miniforge_x86_64/envs/ADPred_new/lib/python3.10/site-packages/h2o/estimators/estimator_base.py:208: RuntimeWarning: Dropping bad and constant columns: [pres_imuran, pres_minocin, init_group, num_tnf, num_nontnf, hxtia]\n",
      "  warnings.warn(mesg[\"message\"], RuntimeWarning)\n"
     ]
    },
    {
     "name": "stdout",
     "output_type": "stream",
     "text": [
      "██████████████████████████████████████████████████| (done) 100%\n",
      "Parse progress: |████████████████████████████████████████████████████████████████| (done) 100%\n",
      "xgboost prediction progress: |███████████████████████████████████████████████████| (done) 100%\n",
      "Parse progress: |████████████████████████████████████████████████████████████████| (done) 100%\n",
      "xgboost prediction progress: |███████████████████████████████████████████████████| (done) 100%\n"
     ]
    },
    {
     "name": "stderr",
     "output_type": "stream",
     "text": [
      "dist_matrix: 100%|##########| 22/22 [00:00<00:00, 142.73it/s]\n",
      "synth_matrix: 100%|##########| 22/22 [00:00<00:00, 162.79it/s]\n",
      "r_index: 100%|##########| 3/3 [00:00<00:00, 407.87it/s]\n",
      "dist_matrix: 100%|##########| 29/29 [00:00<00:00, 99.27it/s]\n",
      "synth_matrix: 100%|##########| 29/29 [00:00<00:00, 210.09it/s]\n",
      "r_index: 100%|##########| 3/3 [00:00<00:00, 425.60it/s]\n"
     ]
    },
    {
     "name": "stdout",
     "output_type": "stream",
     "text": [
      "Parse progress: |████████████████████████████████████████████████████████████████| (done) 100%\n",
      "xgboost Model Build progress: |"
     ]
    },
    {
     "name": "stderr",
     "output_type": "stream",
     "text": [
      "/Users/gaskell/miniforge_x86_64/envs/ADPred_new/lib/python3.10/site-packages/h2o/estimators/estimator_base.py:208: RuntimeWarning: Dropping bad and constant columns: [hxchf, pres_imuran, pres_minocin, init_group, num_tnf, num_nontnf, hxtia]\n",
      "  warnings.warn(mesg[\"message\"], RuntimeWarning)\n"
     ]
    },
    {
     "name": "stdout",
     "output_type": "stream",
     "text": [
      "██████████████████████████████████████████████████| (done) 100%\n",
      "Parse progress: |████████████████████████████████████████████████████████████████| (done) 100%\n",
      "xgboost prediction progress: |███████████████████████████████████████████████████| (done) 100%\n",
      "Parse progress: |████████████████████████████████████████████████████████████████| (done) 100%\n",
      "xgboost prediction progress: |███████████████████████████████████████████████████| (done) 100%\n"
     ]
    },
    {
     "name": "stderr",
     "output_type": "stream",
     "text": [
      "dist_matrix: 100%|##########| 22/22 [00:00<00:00, 145.83it/s]\n",
      "synth_matrix: 100%|##########| 22/22 [00:00<00:00, 185.12it/s]\n",
      "r_index: 100%|##########| 3/3 [00:00<00:00, 490.33it/s]\n",
      "dist_matrix: 100%|##########| 30/30 [00:00<00:00, 93.12it/s]\n",
      "synth_matrix: 100%|##########| 30/30 [00:00<00:00, 125.23it/s]\n"
     ]
    },
    {
     "name": "stdout",
     "output_type": "stream",
     "text": [
      "Parse progress: |████████████████████████████████████████████████████████████████| (done) 100%\n",
      "xgboost Model Build progress: |"
     ]
    },
    {
     "name": "stderr",
     "output_type": "stream",
     "text": [
      "/Users/gaskell/miniforge_x86_64/envs/ADPred_new/lib/python3.10/site-packages/h2o/estimators/estimator_base.py:208: RuntimeWarning: Dropping bad and constant columns: [hxchf, pres_imuran, pres_minocin, init_group, num_tnf, num_nontnf, hxtia]\n",
      "  warnings.warn(mesg[\"message\"], RuntimeWarning)\n"
     ]
    },
    {
     "name": "stdout",
     "output_type": "stream",
     "text": [
      "██████████████████████████████████████████████████| (done) 100%\n",
      "Parse progress: |████████████████████████████████████████████████████████████████| (done) 100%\n",
      "xgboost prediction progress: |███████████████████████████████████████████████████| (done) 100%\n",
      "Parse progress: |████████████████████████████████████████████████████████████████| (done) 100%\n",
      "xgboost prediction progress: |███████████████████████████████████████████████████| (done) 100%\n"
     ]
    },
    {
     "name": "stderr",
     "output_type": "stream",
     "text": [
      "dist_matrix: 100%|##########| 22/22 [00:00<00:00, 147.94it/s]\n",
      "synth_matrix: 100%|##########| 22/22 [00:00<00:00, 175.43it/s]\n",
      "r_index: 100%|##########| 3/3 [00:00<00:00, 468.71it/s]\n",
      "dist_matrix: 100%|##########| 33/33 [00:00<00:00, 87.27it/s]\n",
      "synth_matrix: 100%|##########| 33/33 [00:00<00:00, 447.92it/s]\n",
      "r_index: 100%|##########| 25/25 [00:00<00:00, 450.66it/s]"
     ]
    },
    {
     "name": "stdout",
     "output_type": "stream",
     "text": [
      "Parse progress: |"
     ]
    },
    {
     "name": "stderr",
     "output_type": "stream",
     "text": [
      "\n"
     ]
    },
    {
     "name": "stdout",
     "output_type": "stream",
     "text": [
      "████████████████████████████████████████████████████████████████| (done) 100%\n",
      "xgboost Model Build progress: |"
     ]
    },
    {
     "name": "stderr",
     "output_type": "stream",
     "text": [
      "/Users/gaskell/miniforge_x86_64/envs/ADPred_new/lib/python3.10/site-packages/h2o/estimators/estimator_base.py:208: RuntimeWarning: Dropping bad and constant columns: [hxchf, pres_imuran, pres_minocin, init_group, num_tnf, num_nontnf]\n",
      "  warnings.warn(mesg[\"message\"], RuntimeWarning)\n"
     ]
    },
    {
     "name": "stdout",
     "output_type": "stream",
     "text": [
      "██████████████████████████████████████████████████| (done) 100%\n",
      "Parse progress: |████████████████████████████████████████████████████████████████| (done) 100%\n",
      "xgboost prediction progress: |███████████████████████████████████████████████████| (done) 100%\n",
      "Parse progress: |████████████████████████████████████████████████████████████████| (done) 100%\n",
      "xgboost prediction progress: |███████████████████████████████████████████████████| (done) 100%\n"
     ]
    },
    {
     "name": "stderr",
     "output_type": "stream",
     "text": [
      "dist_matrix: 100%|##########| 24/24 [00:00<00:00, 134.73it/s]\n",
      "synth_matrix: 100%|##########| 24/24 [00:00<00:00, 262.91it/s]\n",
      "r_index: 100%|##########| 18/18 [00:00<00:00, 513.04it/s]\n",
      "dist_matrix: 100%|##########| 30/30 [00:00<00:00, 101.76it/s]\n",
      "synth_matrix: 100%|##########| 30/30 [00:00<00:00, 247.74it/s]"
     ]
    },
    {
     "name": "stdout",
     "output_type": "stream",
     "text": [
      "Parse progress: |"
     ]
    },
    {
     "name": "stderr",
     "output_type": "stream",
     "text": [
      "\n"
     ]
    },
    {
     "name": "stdout",
     "output_type": "stream",
     "text": [
      "████████████████████████████████████████████████████████████████| (done) 100%\n",
      "xgboost Model Build progress: |"
     ]
    },
    {
     "name": "stderr",
     "output_type": "stream",
     "text": [
      "/Users/gaskell/miniforge_x86_64/envs/ADPred_new/lib/python3.10/site-packages/h2o/estimators/estimator_base.py:208: RuntimeWarning: Dropping bad and constant columns: [pres_imuran, pres_minocin, init_group, num_tnf, num_nontnf, hxtia, hxunstab_ang]\n",
      "  warnings.warn(mesg[\"message\"], RuntimeWarning)\n"
     ]
    },
    {
     "name": "stdout",
     "output_type": "stream",
     "text": [
      "██████████████████████████████████████████████████| (done) 100%\n",
      "Parse progress: |████████████████████████████████████████████████████████████████| (done) 100%\n",
      "xgboost prediction progress: |███████████████████████████████████████████████████| (done) 100%\n",
      "Parse progress: |████████████████████████████████████████████████████████████████| (done) 100%\n",
      "xgboost prediction progress: |███████████████████████████████████████████████████| (done) 100%\n"
     ]
    },
    {
     "name": "stderr",
     "output_type": "stream",
     "text": [
      "dist_matrix: 100%|##########| 20/20 [00:00<00:00, 159.45it/s]\n",
      "synth_matrix: 100%|##########| 20/20 [00:00<00:00, 118.14it/s]\n",
      "r_index: 100%|##########| 10/10 [00:00<00:00, 355.01it/s]\n",
      "dist_matrix: 100%|##########| 32/32 [00:00<00:00, 81.09it/s]\n",
      "synth_matrix: 100%|##########| 32/32 [00:00<00:00, 447.80it/s]\n",
      "r_index: 100%|##########| 27/27 [00:00<00:00, 485.10it/s]\n"
     ]
    },
    {
     "name": "stdout",
     "output_type": "stream",
     "text": [
      "Parse progress: |████████████████████████████████████████████████████████████████| (done) 100%\n",
      "xgboost Model Build progress: |"
     ]
    },
    {
     "name": "stderr",
     "output_type": "stream",
     "text": [
      "/Users/gaskell/miniforge_x86_64/envs/ADPred_new/lib/python3.10/site-packages/h2o/estimators/estimator_base.py:208: RuntimeWarning: Dropping bad and constant columns: [pres_imuran, pres_minocin, init_group, num_tnf, num_nontnf]\n",
      "  warnings.warn(mesg[\"message\"], RuntimeWarning)\n"
     ]
    },
    {
     "name": "stdout",
     "output_type": "stream",
     "text": [
      "██████████████████████████████████████████████████| (done) 100%\n",
      "Parse progress: |████████████████████████████████████████████████████████████████| (done) 100%\n",
      "xgboost prediction progress: |███████████████████████████████████████████████████| (done) 100%\n",
      "Parse progress: |████████████████████████████████████████████████████████████████| (done) 100%\n",
      "xgboost prediction progress: |███████████████████████████████████████████████████| (done) 100%\n"
     ]
    },
    {
     "name": "stderr",
     "output_type": "stream",
     "text": [
      "dist_matrix: 100%|##########| 21/21 [00:00<00:00, 153.74it/s]\n",
      "synth_matrix: 100%|##########| 21/21 [00:00<00:00, 160.18it/s]\n",
      "r_index: 100%|##########| 6/6 [00:00<00:00, 447.66it/s]\n",
      "dist_matrix: 100%|##########| 28/28 [00:00<00:00, 107.15it/s]\n",
      "synth_matrix: 100%|##########| 28/28 [00:00<00:00, 229.50it/s]\n",
      "r_index: 100%|##########| 7/7 [00:00<00:00, 518.68it/s]\n"
     ]
    },
    {
     "name": "stdout",
     "output_type": "stream",
     "text": [
      "Parse progress: |████████████████████████████████████████████████████████████████| (done) 100%\n",
      "xgboost Model Build progress: |"
     ]
    },
    {
     "name": "stderr",
     "output_type": "stream",
     "text": [
      "/Users/gaskell/miniforge_x86_64/envs/ADPred_new/lib/python3.10/site-packages/h2o/estimators/estimator_base.py:208: RuntimeWarning: Dropping bad and constant columns: [pres_imuran, pres_minocin, init_group, num_tnf, num_nontnf, hxstroke]\n",
      "  warnings.warn(mesg[\"message\"], RuntimeWarning)\n"
     ]
    },
    {
     "name": "stdout",
     "output_type": "stream",
     "text": [
      "██████████████████████████████████████████████████| (done) 100%\n",
      "Parse progress: |████████████████████████████████████████████████████████████████| (done) 100%\n",
      "xgboost prediction progress: |███████████████████████████████████████████████████| (done) 100%\n",
      "Parse progress: |████████████████████████████████████████████████████████████████| (done) 100%\n",
      "xgboost prediction progress: |███████████████████████████████████████████████████| (done) 100%\n"
     ]
    },
    {
     "name": "stderr",
     "output_type": "stream",
     "text": [
      "dist_matrix: 100%|##########| 21/21 [00:00<00:00, 154.40it/s]\n",
      "synth_matrix: 100%|##########| 21/21 [00:00<00:00, 175.55it/s]\n",
      "r_index: 100%|##########| 6/6 [00:00<00:00, 459.27it/s]\n",
      "dist_matrix: 100%|##########| 32/32 [00:00<00:00, 92.63it/s]\n",
      "synth_matrix: 100%|##########| 32/32 [00:00<00:00, 478.44it/s]\n",
      "r_index: 100%|##########| 27/27 [00:00<00:00, 535.44it/s]"
     ]
    },
    {
     "name": "stdout",
     "output_type": "stream",
     "text": [
      "Parse progress: |"
     ]
    },
    {
     "name": "stderr",
     "output_type": "stream",
     "text": [
      "\n"
     ]
    },
    {
     "name": "stdout",
     "output_type": "stream",
     "text": [
      "████████████████████████████████████████████████████████████████| (done) 100%\n",
      "xgboost Model Build progress: |"
     ]
    },
    {
     "name": "stderr",
     "output_type": "stream",
     "text": [
      "/Users/gaskell/miniforge_x86_64/envs/ADPred_new/lib/python3.10/site-packages/h2o/estimators/estimator_base.py:208: RuntimeWarning: Dropping bad and constant columns: [pres_imuran, pres_minocin, init_group, num_tnf, num_nontnf]\n",
      "  warnings.warn(mesg[\"message\"], RuntimeWarning)\n"
     ]
    },
    {
     "name": "stdout",
     "output_type": "stream",
     "text": [
      "██████████████████████████████████████████████████| (done) 100%\n",
      "Parse progress: |████████████████████████████████████████████████████████████████| (done) 100%\n",
      "xgboost prediction progress: |███████████████████████████████████████████████████| (done) 100%\n",
      "Parse progress: |████████████████████████████████████████████████████████████████| (done) 100%\n",
      "xgboost prediction progress: |███████████████████████████████████████████████████| (done) 100%\n"
     ]
    },
    {
     "name": "stderr",
     "output_type": "stream",
     "text": [
      "dist_matrix: 100%|##########| 22/22 [00:00<00:00, 147.17it/s]\n",
      "synth_matrix: 100%|##########| 22/22 [00:00<00:00, 169.24it/s]\n",
      "r_index: 100%|##########| 3/3 [00:00<00:00, 388.82it/s]\n",
      "dist_matrix: 100%|##########| 31/31 [00:00<00:00, 93.68it/s]\n",
      "synth_matrix: 100%|##########| 31/31 [00:00<00:00, 437.65it/s]\n",
      "r_index: 100%|##########| 29/29 [00:00<00:00, 454.08it/s]\n"
     ]
    },
    {
     "name": "stdout",
     "output_type": "stream",
     "text": [
      "Parse progress: |████████████████████████████████████████████████████████████████| (done) 100%\n",
      "xgboost Model Build progress: |"
     ]
    },
    {
     "name": "stderr",
     "output_type": "stream",
     "text": [
      "/Users/gaskell/miniforge_x86_64/envs/ADPred_new/lib/python3.10/site-packages/h2o/estimators/estimator_base.py:208: RuntimeWarning: Dropping bad and constant columns: [pres_imuran, pres_minocin, init_group, num_tnf, num_nontnf, hxtia]\n",
      "  warnings.warn(mesg[\"message\"], RuntimeWarning)\n"
     ]
    },
    {
     "name": "stdout",
     "output_type": "stream",
     "text": [
      "██████████████████████████████████████████████████| (done) 100%\n",
      "Parse progress: |████████████████████████████████████████████████████████████████| (done) 100%\n",
      "xgboost prediction progress: |███████████████████████████████████████████████████| (done) 100%\n",
      "Parse progress: |████████████████████████████████████████████████████████████████| (done) 100%\n",
      "xgboost prediction progress: |███████████████████████████████████████████████████| (done) 100%\n"
     ]
    },
    {
     "name": "stderr",
     "output_type": "stream",
     "text": [
      "dist_matrix: 100%|##########| 30/30 [00:00<00:00, 97.84it/s]\n",
      "synth_matrix: 100%|##########| 30/30 [00:00<00:00, 154.12it/s]\n",
      "r_index: 100%|##########| 16/16 [00:00<00:00, 471.47it/s]"
     ]
    },
    {
     "name": "stdout",
     "output_type": "stream",
     "text": [
      "Parse progress: |"
     ]
    },
    {
     "name": "stderr",
     "output_type": "stream",
     "text": [
      "\n"
     ]
    },
    {
     "name": "stdout",
     "output_type": "stream",
     "text": [
      "████████████████████████████████████████████████████████████████| (done) 100%\n",
      "xgboost Model Build progress: |"
     ]
    },
    {
     "name": "stderr",
     "output_type": "stream",
     "text": [
      "/Users/gaskell/miniforge_x86_64/envs/ADPred_new/lib/python3.10/site-packages/h2o/estimators/estimator_base.py:208: RuntimeWarning: Dropping bad and constant columns: [hxchf, pres_imuran, pres_minocin, init_group, num_tnf, num_nontnf, hxtia]\n",
      "  warnings.warn(mesg[\"message\"], RuntimeWarning)\n"
     ]
    },
    {
     "name": "stdout",
     "output_type": "stream",
     "text": [
      "██████████████████████████████████████████████████| (done) 100%\n",
      "Parse progress: |████████████████████████████████████████████████████████████████| (done) 100%\n",
      "xgboost prediction progress: |███████████████████████████████████████████████████| (done) 100%\n",
      "Parse progress: |████████████████████████████████████████████████████████████████| (done) 100%\n",
      "xgboost prediction progress: |███████████████████████████████████████████████████| (done) 100%\n"
     ]
    },
    {
     "name": "stderr",
     "output_type": "stream",
     "text": [
      "dist_matrix: 100%|##########| 21/21 [00:00<00:00, 74.81it/s]\n",
      "synth_matrix: 100%|##########| 21/21 [00:00<00:00, 125.89it/s]\n",
      "r_index: 100%|##########| 6/6 [00:00<00:00, 516.53it/s]\n",
      "dist_matrix: 100%|##########| 30/30 [00:00<00:00, 97.72it/s]\n",
      "synth_matrix: 100%|##########| 30/30 [00:00<00:00, 220.99it/s]\n"
     ]
    },
    {
     "name": "stdout",
     "output_type": "stream",
     "text": [
      "Parse progress: |████████████████████████████████████████████████████████████████| (done) 100%\n",
      "xgboost Model Build progress: |"
     ]
    },
    {
     "name": "stderr",
     "output_type": "stream",
     "text": [
      "/Users/gaskell/miniforge_x86_64/envs/ADPred_new/lib/python3.10/site-packages/h2o/estimators/estimator_base.py:208: RuntimeWarning: Dropping bad and constant columns: [pres_imuran, pres_minocin, init_group, num_tnf, num_nontnf, hxtia]\n",
      "  warnings.warn(mesg[\"message\"], RuntimeWarning)\n"
     ]
    },
    {
     "name": "stdout",
     "output_type": "stream",
     "text": [
      "██████████████████████████████████████████████████| (done) 100%\n",
      "Parse progress: |████████████████████████████████████████████████████████████████| (done) 100%\n",
      "xgboost prediction progress: |███████████████████████████████████████████████████| (done) 100%\n",
      "Parse progress: |████████████████████████████████████████████████████████████████| (done) 100%\n",
      "xgboost prediction progress: |███████████████████████████████████████████████████| (done) 100%\n"
     ]
    },
    {
     "name": "stderr",
     "output_type": "stream",
     "text": [
      "dist_matrix: 100%|##########| 22/22 [00:00<00:00, 140.15it/s]\n",
      "synth_matrix: 100%|##########| 22/22 [00:00<00:00, 167.83it/s]\n",
      "r_index: 100%|##########| 3/3 [00:00<00:00, 499.84it/s]\n",
      "dist_matrix: 100%|##########| 29/29 [00:00<00:00, 68.14it/s]\n",
      "synth_matrix: 100%|##########| 29/29 [00:00<00:00, 201.51it/s]\n",
      "r_index: 100%|##########| 3/3 [00:00<00:00, 405.95it/s]\n"
     ]
    },
    {
     "name": "stdout",
     "output_type": "stream",
     "text": [
      "Parse progress: |████████████████████████████████████████████████████████████████| (done) 100%\n",
      "xgboost Model Build progress: |"
     ]
    },
    {
     "name": "stderr",
     "output_type": "stream",
     "text": [
      "/Users/gaskell/miniforge_x86_64/envs/ADPred_new/lib/python3.10/site-packages/h2o/estimators/estimator_base.py:208: RuntimeWarning: Dropping bad and constant columns: [pres_imuran, pres_minocin, init_group, num_tnf, num_nontnf, hxtia]\n",
      "  warnings.warn(mesg[\"message\"], RuntimeWarning)\n"
     ]
    },
    {
     "name": "stdout",
     "output_type": "stream",
     "text": [
      "██████████████████████████████████████████████████| (done) 100%\n",
      "Parse progress: |████████████████████████████████████████████████████████████████| (done) 100%\n",
      "xgboost prediction progress: |███████████████████████████████████████████████████| (done) 100%\n",
      "Parse progress: |████████████████████████████████████████████████████████████████| (done) 100%\n",
      "xgboost prediction progress: |███████████████████████████████████████████████████| (done) 100%\n"
     ]
    },
    {
     "name": "stderr",
     "output_type": "stream",
     "text": [
      "dist_matrix: 100%|##########| 24/24 [00:00<00:00, 135.07it/s]\n",
      "synth_matrix: 100%|##########| 24/24 [00:00<00:00, 261.77it/s]\n",
      "r_index: 100%|##########| 18/18 [00:00<00:00, 502.92it/s]\n",
      "dist_matrix: 100%|##########| 33/33 [00:00<00:00, 89.91it/s]\n",
      "synth_matrix: 100%|##########| 33/33 [00:00<00:00, 506.60it/s]\n",
      "r_index: 100%|##########| 25/25 [00:00<00:00, 472.35it/s]"
     ]
    },
    {
     "name": "stdout",
     "output_type": "stream",
     "text": [
      "Parse progress: |"
     ]
    },
    {
     "name": "stderr",
     "output_type": "stream",
     "text": [
      "\n"
     ]
    },
    {
     "name": "stdout",
     "output_type": "stream",
     "text": [
      "████████████████████████████████████████████████████████████████| (done) 100%\n",
      "xgboost Model Build progress: |"
     ]
    },
    {
     "name": "stderr",
     "output_type": "stream",
     "text": [
      "/Users/gaskell/miniforge_x86_64/envs/ADPred_new/lib/python3.10/site-packages/h2o/estimators/estimator_base.py:208: RuntimeWarning: Dropping bad and constant columns: [hxchf, pres_imuran, pres_minocin, init_group, num_tnf, num_nontnf]\n",
      "  warnings.warn(mesg[\"message\"], RuntimeWarning)\n"
     ]
    },
    {
     "name": "stdout",
     "output_type": "stream",
     "text": [
      "██████████████████████████████████████████████████| (done) 100%\n",
      "Parse progress: |████████████████████████████████████████████████████████████████| (done) 100%\n",
      "xgboost prediction progress: |███████████████████████████████████████████████████| (done) 100%\n",
      "Parse progress: |████████████████████████████████████████████████████████████████| (done) 100%\n",
      "xgboost prediction progress: |███████████████████████████████████████████████████| (done) 100%\n"
     ]
    },
    {
     "name": "stderr",
     "output_type": "stream",
     "text": [
      "dist_matrix: 100%|##########| 20/20 [00:00<00:00, 165.13it/s]\n",
      "synth_matrix: 100%|##########| 20/20 [00:00<00:00, 174.58it/s]\n",
      "r_index: 100%|##########| 10/10 [00:00<00:00, 591.76it/s]\n",
      "dist_matrix: 100%|##########| 30/30 [00:00<00:00, 101.91it/s]\n",
      "synth_matrix: 100%|##########| 30/30 [00:00<00:00, 259.19it/s]\n"
     ]
    },
    {
     "name": "stdout",
     "output_type": "stream",
     "text": [
      "Parse progress: |████████████████████████████████████████████████████████████████| (done) 100%\n",
      "xgboost Model Build progress: |"
     ]
    },
    {
     "name": "stderr",
     "output_type": "stream",
     "text": [
      "/Users/gaskell/miniforge_x86_64/envs/ADPred_new/lib/python3.10/site-packages/h2o/estimators/estimator_base.py:208: RuntimeWarning: Dropping bad and constant columns: [hxchf, pres_imuran, pres_minocin, init_group, num_tnf, num_nontnf, hxunstab_ang]\n",
      "  warnings.warn(mesg[\"message\"], RuntimeWarning)\n"
     ]
    },
    {
     "name": "stdout",
     "output_type": "stream",
     "text": [
      "██████████████████████████████████████████████████| (done) 100%\n",
      "Parse progress: |████████████████████████████████████████████████████████████████| (done) 100%\n",
      "xgboost prediction progress: |███████████████████████████████████████████████████| (done) 100%\n",
      "Parse progress: |████████████████████████████████████████████████████████████████| (done) 100%\n",
      "xgboost prediction progress: |███████████████████████████████████████████████████| (done) 100%\n"
     ]
    },
    {
     "name": "stderr",
     "output_type": "stream",
     "text": [
      "dist_matrix: 100%|##########| 24/24 [00:00<00:00, 133.45it/s]\n",
      "synth_matrix: 100%|##########| 24/24 [00:00<00:00, 264.24it/s]\n",
      "r_index: 100%|##########| 18/18 [00:00<00:00, 522.94it/s]\n",
      "dist_matrix: 100%|##########| 31/31 [00:00<00:00, 98.22it/s]\n",
      "synth_matrix: 100%|##########| 31/31 [00:00<00:00, 514.85it/s]\n",
      "r_index: 100%|##########| 29/29 [00:00<00:00, 443.88it/s]"
     ]
    },
    {
     "name": "stdout",
     "output_type": "stream",
     "text": [
      "Parse progress: |"
     ]
    },
    {
     "name": "stderr",
     "output_type": "stream",
     "text": [
      "\n"
     ]
    },
    {
     "name": "stdout",
     "output_type": "stream",
     "text": [
      "████████████████████████████████████████████████████████████████| (done) 100%\n",
      "xgboost Model Build progress: |"
     ]
    },
    {
     "name": "stderr",
     "output_type": "stream",
     "text": [
      "/Users/gaskell/miniforge_x86_64/envs/ADPred_new/lib/python3.10/site-packages/h2o/estimators/estimator_base.py:208: RuntimeWarning: Dropping bad and constant columns: [pres_imuran, pres_minocin, init_group, num_tnf, num_nontnf]\n",
      "  warnings.warn(mesg[\"message\"], RuntimeWarning)\n"
     ]
    },
    {
     "name": "stdout",
     "output_type": "stream",
     "text": [
      "██████████████████████████████████████████████████| (done) 100%\n",
      "Parse progress: |████████████████████████████████████████████████████████████████| (done) 100%\n",
      "xgboost prediction progress: |███████████████████████████████████████████████████| (done) 100%\n",
      "Parse progress: |████████████████████████████████████████████████████████████████| (done) 100%\n",
      "xgboost prediction progress: |███████████████████████████████████████████████████| (done) 100%\n"
     ]
    },
    {
     "name": "stderr",
     "output_type": "stream",
     "text": [
      "dist_matrix: 100%|##########| 21/21 [00:00<00:00, 153.80it/s]\n",
      "synth_matrix: 100%|##########| 21/21 [00:00<00:00, 166.57it/s]\n",
      "r_index: 100%|##########| 6/6 [00:00<00:00, 493.06it/s]\n",
      "dist_matrix: 100%|##########| 32/32 [00:00<00:00, 92.33it/s]\n",
      "synth_matrix: 100%|##########| 32/32 [00:00<00:00, 440.83it/s]\n",
      "r_index: 100%|##########| 27/27 [00:00<00:00, 465.53it/s]"
     ]
    },
    {
     "name": "stdout",
     "output_type": "stream",
     "text": [
      "Parse progress: |"
     ]
    },
    {
     "name": "stderr",
     "output_type": "stream",
     "text": [
      "\n"
     ]
    },
    {
     "name": "stdout",
     "output_type": "stream",
     "text": [
      "████████████████████████████████████████████████████████████████| (done) 100%\n",
      "xgboost Model Build progress: |"
     ]
    },
    {
     "name": "stderr",
     "output_type": "stream",
     "text": [
      "/Users/gaskell/miniforge_x86_64/envs/ADPred_new/lib/python3.10/site-packages/h2o/estimators/estimator_base.py:208: RuntimeWarning: Dropping bad and constant columns: [hxchf, pres_imuran, pres_minocin, init_group, num_tnf, num_nontnf, hxtia]\n",
      "  warnings.warn(mesg[\"message\"], RuntimeWarning)\n"
     ]
    },
    {
     "name": "stdout",
     "output_type": "stream",
     "text": [
      "██████████████████████████████████████████████████| (done) 100%\n",
      "Parse progress: |████████████████████████████████████████████████████████████████| (done) 100%\n",
      "xgboost prediction progress: |███████████████████████████████████████████████████| (done) 100%\n",
      "Parse progress: |████████████████████████████████████████████████████████████████| (done) 100%\n",
      "xgboost prediction progress: |███████████████████████████████████████████████████| (done) 100%\n"
     ]
    },
    {
     "name": "stderr",
     "output_type": "stream",
     "text": [
      "dist_matrix: 100%|##########| 28/28 [00:00<00:00, 110.81it/s]\n",
      "synth_matrix: 100%|##########| 28/28 [00:00<00:00, 228.20it/s]\n",
      "r_index: 100%|##########| 7/7 [00:00<00:00, 495.37it/s]\n",
      "dist_matrix: 100%|##########| 31/31 [00:00<00:00, 93.73it/s]\n",
      "synth_matrix: 100%|##########| 31/31 [00:00<00:00, 475.16it/s]\n",
      "r_index: 100%|##########| 29/29 [00:00<00:00, 455.02it/s]\n"
     ]
    },
    {
     "name": "stdout",
     "output_type": "stream",
     "text": [
      "Parse progress: |████████████████████████████████████████████████████████████████| (done) 100%\n",
      "xgboost Model Build progress: |"
     ]
    },
    {
     "name": "stderr",
     "output_type": "stream",
     "text": [
      "/Users/gaskell/miniforge_x86_64/envs/ADPred_new/lib/python3.10/site-packages/h2o/estimators/estimator_base.py:208: RuntimeWarning: Dropping bad and constant columns: [pres_imuran, pres_minocin, init_group, num_tnf, num_nontnf]\n",
      "  warnings.warn(mesg[\"message\"], RuntimeWarning)\n"
     ]
    },
    {
     "name": "stdout",
     "output_type": "stream",
     "text": [
      "██████████████████████████████████████████████████| (done) 100%\n",
      "Parse progress: |████████████████████████████████████████████████████████████████| (done) 100%\n",
      "xgboost prediction progress: |███████████████████████████████████████████████████| (done) 100%\n",
      "Parse progress: |████████████████████████████████████████████████████████████████| (done) 100%\n",
      "xgboost prediction progress: |███████████████████████████████████████████████████| (done) 100%\n"
     ]
    },
    {
     "name": "stderr",
     "output_type": "stream",
     "text": [
      "dist_matrix: 100%|##########| 20/20 [00:00<00:00, 160.17it/s]\n",
      "synth_matrix: 100%|##########| 20/20 [00:00<00:00, 179.05it/s]\n",
      "r_index: 100%|##########| 10/10 [00:00<00:00, 555.31it/s]\n",
      "dist_matrix: 100%|##########| 32/32 [00:00<00:00, 90.32it/s]\n",
      "synth_matrix: 100%|##########| 32/32 [00:00<00:00, 439.86it/s]\n",
      "r_index: 100%|##########| 27/27 [00:00<00:00, 459.24it/s]\n"
     ]
    },
    {
     "name": "stdout",
     "output_type": "stream",
     "text": [
      "Parse progress: |████████████████████████████████████████████████████████████████| (done) 100%\n",
      "xgboost Model Build progress: |"
     ]
    },
    {
     "name": "stderr",
     "output_type": "stream",
     "text": [
      "/Users/gaskell/miniforge_x86_64/envs/ADPred_new/lib/python3.10/site-packages/h2o/estimators/estimator_base.py:208: RuntimeWarning: Dropping bad and constant columns: [hxchf, pres_imuran, pres_minocin, init_group, num_tnf, num_nontnf]\n",
      "  warnings.warn(mesg[\"message\"], RuntimeWarning)\n"
     ]
    },
    {
     "name": "stdout",
     "output_type": "stream",
     "text": [
      "██████████████████████████████████████████████████| (done) 100%\n",
      "Parse progress: |████████████████████████████████████████████████████████████████| (done) 100%\n",
      "xgboost prediction progress: |███████████████████████████████████████████████████| (done) 100%\n",
      "Parse progress: |████████████████████████████████████████████████████████████████| (done) 100%\n",
      "xgboost prediction progress: |███████████████████████████████████████████████████| (done) 100%\n"
     ]
    },
    {
     "name": "stderr",
     "output_type": "stream",
     "text": [
      "dist_matrix: 100%|##########| 22/22 [00:00<00:00, 141.75it/s]\n",
      "synth_matrix: 100%|##########| 22/22 [00:00<00:00, 97.26it/s] \n",
      "r_index: 100%|##########| 3/3 [00:00<00:00, 393.18it/s]\n",
      "dist_matrix: 100%|##########| 28/28 [00:00<00:00, 64.07it/s]\n",
      "synth_matrix: 100%|##########| 28/28 [00:00<00:00, 211.87it/s]\n",
      "r_index: 100%|##########| 7/7 [00:00<00:00, 409.89it/s]\n"
     ]
    },
    {
     "name": "stdout",
     "output_type": "stream",
     "text": [
      "Parse progress: |████████████████████████████████████████████████████████████████| (done) 100%\n",
      "xgboost Model Build progress: |"
     ]
    },
    {
     "name": "stderr",
     "output_type": "stream",
     "text": [
      "/Users/gaskell/miniforge_x86_64/envs/ADPred_new/lib/python3.10/site-packages/h2o/estimators/estimator_base.py:208: RuntimeWarning: Dropping bad and constant columns: [pres_imuran, pres_minocin, init_group, num_tnf, num_nontnf]\n",
      "  warnings.warn(mesg[\"message\"], RuntimeWarning)\n"
     ]
    },
    {
     "name": "stdout",
     "output_type": "stream",
     "text": [
      "██████████████████████████████████████████████████| (done) 100%\n",
      "Parse progress: |████████████████████████████████████████████████████████████████| (done) 100%\n",
      "xgboost prediction progress: |███████████████████████████████████████████████████| (done) 100%\n",
      "Parse progress: |████████████████████████████████████████████████████████████████| (done) 100%\n",
      "xgboost prediction progress: |███████████████████████████████████████████████████| (done) 100%\n"
     ]
    },
    {
     "name": "stderr",
     "output_type": "stream",
     "text": [
      "dist_matrix: 100%|##########| 28/28 [00:00<00:00, 99.75it/s]\n",
      "synth_matrix: 100%|##########| 28/28 [00:00<00:00, 149.68it/s]\n",
      "r_index: 100%|##########| 25/25 [00:00<00:00, 435.70it/s]\n"
     ]
    },
    {
     "name": "stdout",
     "output_type": "stream",
     "text": [
      "Parse progress: |████████████████████████████████████████████████████████████████| (done) 100%\n",
      "xgboost Model Build progress: |"
     ]
    },
    {
     "name": "stderr",
     "output_type": "stream",
     "text": [
      "/Users/gaskell/miniforge_x86_64/envs/ADPred_new/lib/python3.10/site-packages/h2o/estimators/estimator_base.py:208: RuntimeWarning: Dropping bad and constant columns: [hxchf, pres_imuran, pres_minocin, init_group, num_tnf, num_nontnf, hxtia]\n",
      "  warnings.warn(mesg[\"message\"], RuntimeWarning)\n"
     ]
    },
    {
     "name": "stdout",
     "output_type": "stream",
     "text": [
      "██████████████████████████████████████████████████| (done) 100%\n",
      "Parse progress: |████████████████████████████████████████████████████████████████| (done) 100%\n",
      "xgboost prediction progress: |███████████████████████████████████████████████████| (done) 100%\n",
      "Parse progress: |████████████████████████████████████████████████████████████████| (done) 100%\n",
      "xgboost prediction progress: |███████████████████████████████████████████████████| (done) 100%\n"
     ]
    },
    {
     "name": "stderr",
     "output_type": "stream",
     "text": [
      "dist_matrix: 100%|##########| 22/22 [00:00<00:00, 121.58it/s]\n",
      "synth_matrix: 100%|##########| 22/22 [00:00<00:00, 106.20it/s]\n",
      "r_index: 100%|##########| 3/3 [00:00<00:00, 213.84it/s]\n",
      "dist_matrix: 100%|##########| 32/32 [00:00<00:00, 74.77it/s]\n",
      "synth_matrix: 100%|##########| 32/32 [00:00<00:00, 376.64it/s]\n",
      "r_index: 100%|##########| 27/27 [00:00<00:00, 419.21it/s]\n"
     ]
    },
    {
     "name": "stdout",
     "output_type": "stream",
     "text": [
      "Parse progress: |████████████████████████████████████████████████████████████████| (done) 100%\n",
      "xgboost Model Build progress: |"
     ]
    },
    {
     "name": "stderr",
     "output_type": "stream",
     "text": [
      "/Users/gaskell/miniforge_x86_64/envs/ADPred_new/lib/python3.10/site-packages/h2o/estimators/estimator_base.py:208: RuntimeWarning: Dropping bad and constant columns: [hxchf, pres_imuran, pres_minocin, init_group, num_tnf, num_nontnf, hxtia]\n",
      "  warnings.warn(mesg[\"message\"], RuntimeWarning)\n"
     ]
    },
    {
     "name": "stdout",
     "output_type": "stream",
     "text": [
      "██████████████████████████████████████████████████| (done) 100%\n",
      "Parse progress: |████████████████████████████████████████████████████████████████| (done) 100%\n",
      "xgboost prediction progress: |███████████████████████████████████████████████████| (done) 100%\n",
      "Parse progress: |████████████████████████████████████████████████████████████████| (done) 100%\n",
      "xgboost prediction progress: |███████████████████████████████████████████████████| (done) 100%\n"
     ]
    },
    {
     "name": "stderr",
     "output_type": "stream",
     "text": [
      "dist_matrix: 100%|##########| 22/22 [00:00<00:00, 144.97it/s]\n",
      "synth_matrix: 100%|##########| 22/22 [00:00<00:00, 159.27it/s]\n",
      "r_index: 100%|##########| 3/3 [00:00<00:00, 470.53it/s]\n",
      "dist_matrix: 100%|##########| 33/33 [00:00<00:00, 87.66it/s]\n",
      "synth_matrix: 100%|##########| 33/33 [00:00<00:00, 442.39it/s]\n",
      "r_index: 100%|##########| 25/25 [00:00<00:00, 426.46it/s]"
     ]
    },
    {
     "name": "stdout",
     "output_type": "stream",
     "text": [
      "Parse progress: |"
     ]
    },
    {
     "name": "stderr",
     "output_type": "stream",
     "text": [
      "\n"
     ]
    },
    {
     "name": "stdout",
     "output_type": "stream",
     "text": [
      "████████████████████████████████████████████████████████████████| (done) 100%\n",
      "xgboost Model Build progress: |"
     ]
    },
    {
     "name": "stderr",
     "output_type": "stream",
     "text": [
      "/Users/gaskell/miniforge_x86_64/envs/ADPred_new/lib/python3.10/site-packages/h2o/estimators/estimator_base.py:208: RuntimeWarning: Dropping bad and constant columns: [pres_imuran, pres_minocin, init_group, num_tnf, num_nontnf, hxtia]\n",
      "  warnings.warn(mesg[\"message\"], RuntimeWarning)\n"
     ]
    },
    {
     "name": "stdout",
     "output_type": "stream",
     "text": [
      "██████████████████████████████████████████████████| (done) 100%\n",
      "Parse progress: |████████████████████████████████████████████████████████████████| (done) 100%\n",
      "xgboost prediction progress: |███████████████████████████████████████████████████| (done) 100%\n",
      "Parse progress: |████████████████████████████████████████████████████████████████| (done) 100%\n",
      "xgboost prediction progress: |███████████████████████████████████████████████████| (done) 100%\n"
     ]
    },
    {
     "name": "stderr",
     "output_type": "stream",
     "text": [
      "dist_matrix: 100%|##########| 24/24 [00:00<00:00, 131.75it/s]\n",
      "synth_matrix: 100%|##########| 24/24 [00:00<00:00, 265.04it/s]\n",
      "r_index: 100%|##########| 18/18 [00:00<00:00, 529.51it/s]\n",
      "dist_matrix: 100%|##########| 33/33 [00:00<00:00, 60.46it/s]\n",
      "synth_matrix: 100%|##########| 33/33 [00:00<00:00, 362.01it/s]\n",
      "r_index: 100%|##########| 25/25 [00:00<00:00, 440.07it/s]\n"
     ]
    },
    {
     "name": "stdout",
     "output_type": "stream",
     "text": [
      "Parse progress: |████████████████████████████████████████████████████████████████| (done) 100%\n",
      "xgboost Model Build progress: |"
     ]
    },
    {
     "name": "stderr",
     "output_type": "stream",
     "text": [
      "/Users/gaskell/miniforge_x86_64/envs/ADPred_new/lib/python3.10/site-packages/h2o/estimators/estimator_base.py:208: RuntimeWarning: Dropping bad and constant columns: [pres_imuran, pres_minocin, init_group, num_tnf, num_nontnf]\n",
      "  warnings.warn(mesg[\"message\"], RuntimeWarning)\n"
     ]
    },
    {
     "name": "stdout",
     "output_type": "stream",
     "text": [
      "██████████████████████████████████████████████████| (done) 100%\n",
      "Parse progress: |████████████████████████████████████████████████████████████████| (done) 100%\n",
      "xgboost prediction progress: |███████████████████████████████████████████████████| (done) 100%\n",
      "Parse progress: |████████████████████████████████████████████████████████████████| (done) 100%\n",
      "xgboost prediction progress: |███████████████████████████████████████████████████| (done) 100%\n",
      "Parse progress: |████████████████████████████████████████████████████████████████| (done) 100%\n",
      "xgboost prediction progress: |███████████████████████████████████████████████████| (done) 100%\n"
     ]
    },
    {
     "name": "stderr",
     "output_type": "stream",
     "text": [
      "dist_matrix: 100%|##########| 22/22 [00:00<00:00, 143.85it/s]\n",
      "synth_matrix: 100%|##########| 22/22 [00:00<00:00, 175.07it/s]\n",
      "r_index: 100%|##########| 3/3 [00:00<00:00, 515.71it/s]\n",
      "dist_matrix: 100%|##########| 33/33 [00:00<00:00, 70.20it/s]\n",
      "synth_matrix: 100%|##########| 33/33 [00:00<00:00, 399.53it/s]\n",
      "r_index: 100%|##########| 25/25 [00:00<00:00, 428.05it/s]\n"
     ]
    },
    {
     "name": "stdout",
     "output_type": "stream",
     "text": [
      "Parse progress: |████████████████████████████████████████████████████████████████| (done) 100%\n",
      "gbm Model Build progress: |"
     ]
    },
    {
     "name": "stderr",
     "output_type": "stream",
     "text": [
      "/Users/gaskell/miniforge_x86_64/envs/ADPred_new/lib/python3.10/site-packages/h2o/estimators/estimator_base.py:208: RuntimeWarning: Dropping bad and constant columns: [hxchf, pres_imuran, pres_minocin, init_group, num_tnf, num_nontnf, hxtia]\n",
      "  warnings.warn(mesg[\"message\"], RuntimeWarning)\n"
     ]
    },
    {
     "name": "stdout",
     "output_type": "stream",
     "text": [
      "██████████████████████████████████████████████████████| (done) 100%\n",
      "Parse progress: |████████████████████████████████████████████████████████████████| (done) 100%\n",
      "gbm prediction progress: |███████████████████████████████████████████████████████| (done) 100%\n",
      "Parse progress: |████████████████████████████████████████████████████████████████| (done) 100%\n",
      "gbm prediction progress: |███████████████████████████████████████████████████████| (done) 100%\n"
     ]
    },
    {
     "name": "stderr",
     "output_type": "stream",
     "text": [
      "dist_matrix: 100%|##########| 21/21 [00:00<00:00, 150.64it/s]\n",
      "synth_matrix: 100%|##########| 21/21 [00:00<00:00, 167.90it/s]\n",
      "r_index: 100%|##########| 6/6 [00:00<00:00, 486.66it/s]\n",
      "dist_matrix: 100%|##########| 33/33 [00:00<00:00, 88.21it/s]\n",
      "synth_matrix: 100%|##########| 33/33 [00:00<00:00, 431.47it/s]\n",
      "r_index: 100%|##########| 25/25 [00:00<00:00, 460.15it/s]"
     ]
    },
    {
     "name": "stdout",
     "output_type": "stream",
     "text": [
      "Parse progress: |"
     ]
    },
    {
     "name": "stderr",
     "output_type": "stream",
     "text": [
      "\n"
     ]
    },
    {
     "name": "stdout",
     "output_type": "stream",
     "text": [
      "████████████████████████████████████████████████████████████████| (done) 100%\n",
      "gbm Model Build progress: |"
     ]
    },
    {
     "name": "stderr",
     "output_type": "stream",
     "text": [
      "/Users/gaskell/miniforge_x86_64/envs/ADPred_new/lib/python3.10/site-packages/h2o/estimators/estimator_base.py:208: RuntimeWarning: Dropping bad and constant columns: [pres_imuran, pres_minocin, init_group, num_tnf, num_nontnf, hxtia]\n",
      "  warnings.warn(mesg[\"message\"], RuntimeWarning)\n"
     ]
    },
    {
     "name": "stdout",
     "output_type": "stream",
     "text": [
      "██████████████████████████████████████████████████████| (done) 100%\n",
      "Parse progress: |████████████████████████████████████████████████████████████████| (done) 100%\n",
      "gbm prediction progress: |███████████████████████████████████████████████████████| (done) 100%\n",
      "Parse progress: |████████████████████████████████████████████████████████████████| (done) 100%\n",
      "gbm prediction progress: |███████████████████████████████████████████████████████| (done) 100%\n"
     ]
    },
    {
     "name": "stderr",
     "output_type": "stream",
     "text": [
      "dist_matrix: 100%|##########| 21/21 [00:00<00:00, 145.55it/s]\n",
      "synth_matrix: 100%|##########| 21/21 [00:00<00:00, 169.98it/s]\n",
      "r_index: 100%|##########| 6/6 [00:00<00:00, 454.51it/s]\n",
      "dist_matrix: 100%|##########| 32/32 [00:00<00:00, 89.32it/s]\n",
      "synth_matrix: 100%|##########| 32/32 [00:00<00:00, 457.87it/s]\n",
      "r_index: 100%|##########| 27/27 [00:00<00:00, 442.03it/s]\n"
     ]
    },
    {
     "name": "stdout",
     "output_type": "stream",
     "text": [
      "Parse progress: |████████████████████████████████████████████████████████████████| (done) 100%\n",
      "gbm Model Build progress: |"
     ]
    },
    {
     "name": "stderr",
     "output_type": "stream",
     "text": [
      "/Users/gaskell/miniforge_x86_64/envs/ADPred_new/lib/python3.10/site-packages/h2o/estimators/estimator_base.py:208: RuntimeWarning: Dropping bad and constant columns: [hxchf, pres_imuran, pres_minocin, init_group, num_tnf, num_nontnf]\n",
      "  warnings.warn(mesg[\"message\"], RuntimeWarning)\n"
     ]
    },
    {
     "name": "stdout",
     "output_type": "stream",
     "text": [
      "██████████████████████████████████████████████████████| (done) 100%\n",
      "Parse progress: |████████████████████████████████████████████████████████████████| (done) 100%\n",
      "gbm prediction progress: |███████████████████████████████████████████████████████| (done) 100%\n",
      "Parse progress: |████████████████████████████████████████████████████████████████| (done) 100%\n",
      "gbm prediction progress: |███████████████████████████████████████████████████████| (done) 100%\n"
     ]
    },
    {
     "name": "stderr",
     "output_type": "stream",
     "text": [
      "dist_matrix: 100%|##########| 24/24 [00:00<00:00, 133.19it/s]\n",
      "synth_matrix: 100%|##########| 24/24 [00:00<00:00, 251.75it/s]\n",
      "r_index: 100%|##########| 18/18 [00:00<00:00, 479.04it/s]\n",
      "dist_matrix: 100%|##########| 31/31 [00:00<00:00, 93.67it/s]\n",
      "synth_matrix: 100%|##########| 31/31 [00:00<00:00, 505.60it/s]\n",
      "r_index: 100%|##########| 29/29 [00:00<00:00, 434.24it/s]"
     ]
    },
    {
     "name": "stdout",
     "output_type": "stream",
     "text": [
      "Parse progress: |"
     ]
    },
    {
     "name": "stderr",
     "output_type": "stream",
     "text": [
      "\n"
     ]
    },
    {
     "name": "stdout",
     "output_type": "stream",
     "text": [
      "████████████████████████████████████████████████████████████████| (done) 100%\n",
      "gbm Model Build progress: |"
     ]
    },
    {
     "name": "stderr",
     "output_type": "stream",
     "text": [
      "/Users/gaskell/miniforge_x86_64/envs/ADPred_new/lib/python3.10/site-packages/h2o/estimators/estimator_base.py:208: RuntimeWarning: Dropping bad and constant columns: [hxchf, pres_imuran, pres_minocin, init_group, num_tnf, num_nontnf]\n",
      "  warnings.warn(mesg[\"message\"], RuntimeWarning)\n"
     ]
    },
    {
     "name": "stdout",
     "output_type": "stream",
     "text": [
      "██████████████████████████████████████████████████████| (done) 100%\n",
      "Parse progress: |████████████████████████████████████████████████████████████████| (done) 100%\n",
      "gbm prediction progress: |███████████████████████████████████████████████████████| (done) 100%\n",
      "Parse progress: |████████████████████████████████████████████████████████████████| (done) 100%\n",
      "gbm prediction progress: |███████████████████████████████████████████████████████| (done) 100%\n"
     ]
    },
    {
     "name": "stderr",
     "output_type": "stream",
     "text": [
      "dist_matrix: 100%|##########| 28/28 [00:00<00:00, 111.97it/s]\n",
      "synth_matrix: 100%|##########| 28/28 [00:00<00:00, 160.04it/s]\n",
      "r_index: 100%|##########| 25/25 [00:00<00:00, 529.01it/s]"
     ]
    },
    {
     "name": "stdout",
     "output_type": "stream",
     "text": [
      "Parse progress: |"
     ]
    },
    {
     "name": "stderr",
     "output_type": "stream",
     "text": [
      "\n"
     ]
    },
    {
     "name": "stdout",
     "output_type": "stream",
     "text": [
      "████████████████████████████████████████████████████████████████| (done) 100%\n",
      "gbm Model Build progress: |"
     ]
    },
    {
     "name": "stderr",
     "output_type": "stream",
     "text": [
      "/Users/gaskell/miniforge_x86_64/envs/ADPred_new/lib/python3.10/site-packages/h2o/estimators/estimator_base.py:208: RuntimeWarning: Dropping bad and constant columns: [pres_imuran, pres_minocin, init_group, num_tnf, num_nontnf, hxunstab_ang]\n",
      "  warnings.warn(mesg[\"message\"], RuntimeWarning)\n"
     ]
    },
    {
     "name": "stdout",
     "output_type": "stream",
     "text": [
      "██████████████████████████████████████████████████████| (done) 100%\n",
      "Parse progress: |████████████████████████████████████████████████████████████████| (done) 100%\n",
      "gbm prediction progress: |███████████████████████████████████████████████████████| (done) 100%\n",
      "Parse progress: |████████████████████████████████████████████████████████████████| (done) 100%\n",
      "gbm prediction progress: |███████████████████████████████████████████████████████| (done) 100%\n"
     ]
    },
    {
     "name": "stderr",
     "output_type": "stream",
     "text": [
      "dist_matrix: 100%|##########| 27/27 [00:00<00:00, 115.56it/s]\n",
      "synth_matrix: 100%|##########| 27/27 [00:00<00:00, 249.68it/s]\n",
      "r_index: 100%|##########| 9/9 [00:00<00:00, 656.93it/s]\n",
      "dist_matrix: 100%|##########| 30/30 [00:00<00:00, 96.69it/s]\n",
      "synth_matrix: 100%|##########| 30/30 [00:00<00:00, 223.01it/s]"
     ]
    },
    {
     "name": "stdout",
     "output_type": "stream",
     "text": [
      "Parse progress: |"
     ]
    },
    {
     "name": "stderr",
     "output_type": "stream",
     "text": [
      "\n"
     ]
    },
    {
     "name": "stdout",
     "output_type": "stream",
     "text": [
      "████████████████████████████████████████████████████████████████| (done) 100%\n",
      "gbm Model Build progress: |"
     ]
    },
    {
     "name": "stderr",
     "output_type": "stream",
     "text": [
      "/Users/gaskell/miniforge_x86_64/envs/ADPred_new/lib/python3.10/site-packages/h2o/estimators/estimator_base.py:208: RuntimeWarning: Dropping bad and constant columns: [pres_imuran, pres_minocin, init_group, num_tnf, num_nontnf, hxtia]\n",
      "  warnings.warn(mesg[\"message\"], RuntimeWarning)\n"
     ]
    },
    {
     "name": "stdout",
     "output_type": "stream",
     "text": [
      "██████████████████████████████████████████████████████| (done) 100%\n",
      "Parse progress: |████████████████████████████████████████████████████████████████| (done) 100%\n",
      "gbm prediction progress: |███████████████████████████████████████████████████████| (done) 100%\n",
      "Parse progress: |████████████████████████████████████████████████████████████████| (done) 100%\n",
      "gbm prediction progress: |███████████████████████████████████████████████████████| (done) 100%\n"
     ]
    },
    {
     "name": "stderr",
     "output_type": "stream",
     "text": [
      "dist_matrix: 100%|##########| 22/22 [00:00<00:00, 140.75it/s]\n",
      "synth_matrix: 100%|##########| 22/22 [00:00<00:00, 175.75it/s]\n",
      "r_index: 100%|##########| 3/3 [00:00<00:00, 383.01it/s]\n",
      "dist_matrix: 100%|##########| 28/28 [00:00<00:00, 103.28it/s]\n",
      "synth_matrix: 100%|##########| 28/28 [00:00<00:00, 225.03it/s]\n",
      "r_index: 100%|##########| 7/7 [00:00<00:00, 506.00it/s]"
     ]
    },
    {
     "name": "stdout",
     "output_type": "stream",
     "text": [
      "Parse progress: |"
     ]
    },
    {
     "name": "stderr",
     "output_type": "stream",
     "text": [
      "\n"
     ]
    },
    {
     "name": "stdout",
     "output_type": "stream",
     "text": [
      "████████████████████████████████████████████████████████████████| (done) 100%\n",
      "gbm Model Build progress: |"
     ]
    },
    {
     "name": "stderr",
     "output_type": "stream",
     "text": [
      "/Users/gaskell/miniforge_x86_64/envs/ADPred_new/lib/python3.10/site-packages/h2o/estimators/estimator_base.py:208: RuntimeWarning: Dropping bad and constant columns: [hxchf, pres_imuran, pres_minocin, init_group, num_tnf, num_nontnf, hxtia]\n",
      "  warnings.warn(mesg[\"message\"], RuntimeWarning)\n"
     ]
    },
    {
     "name": "stdout",
     "output_type": "stream",
     "text": [
      "██████████████████████████████████████████████████████| (done) 100%\n",
      "Parse progress: |████████████████████████████████████████████████████████████████| (done) 100%\n",
      "gbm prediction progress: |███████████████████████████████████████████████████████| (done) 100%\n",
      "Parse progress: |████████████████████████████████████████████████████████████████| (done) 100%\n",
      "gbm prediction progress: |███████████████████████████████████████████████████████| (done) 100%\n"
     ]
    },
    {
     "name": "stderr",
     "output_type": "stream",
     "text": [
      "dist_matrix: 100%|##########| 22/22 [00:00<00:00, 144.22it/s]\n",
      "synth_matrix: 100%|##########| 22/22 [00:00<00:00, 166.22it/s]\n",
      "r_index: 100%|##########| 3/3 [00:00<00:00, 398.72it/s]\n",
      "dist_matrix: 100%|##########| 33/33 [00:00<00:00, 87.51it/s]\n",
      "synth_matrix: 100%|##########| 33/33 [00:00<00:00, 470.96it/s]\n",
      "r_index: 100%|##########| 25/25 [00:00<00:00, 470.50it/s]\n"
     ]
    },
    {
     "name": "stdout",
     "output_type": "stream",
     "text": [
      "Parse progress: |████████████████████████████████████████████████████████████████| (done) 100%\n",
      "gbm Model Build progress: |"
     ]
    },
    {
     "name": "stderr",
     "output_type": "stream",
     "text": [
      "/Users/gaskell/miniforge_x86_64/envs/ADPred_new/lib/python3.10/site-packages/h2o/estimators/estimator_base.py:208: RuntimeWarning: Dropping bad and constant columns: [pres_imuran, pres_minocin, init_group, num_tnf, num_nontnf, hxtia]\n",
      "  warnings.warn(mesg[\"message\"], RuntimeWarning)\n"
     ]
    },
    {
     "name": "stdout",
     "output_type": "stream",
     "text": [
      "██████████████████████████████████████████████████████| (done) 100%\n",
      "Parse progress: |████████████████████████████████████████████████████████████████| (done) 100%\n",
      "gbm prediction progress: |███████████████████████████████████████████████████████| (done) 100%\n",
      "Parse progress: |████████████████████████████████████████████████████████████████| (done) 100%\n",
      "gbm prediction progress: |███████████████████████████████████████████████████████| (done) 100%\n"
     ]
    },
    {
     "name": "stderr",
     "output_type": "stream",
     "text": [
      "dist_matrix: 100%|##########| 22/22 [00:00<00:00, 143.95it/s]\n",
      "synth_matrix: 100%|##########| 22/22 [00:00<00:00, 171.45it/s]\n",
      "r_index: 100%|##########| 3/3 [00:00<00:00, 568.18it/s]\n",
      "dist_matrix: 100%|##########| 29/29 [00:00<00:00, 100.68it/s]\n",
      "synth_matrix: 100%|##########| 29/29 [00:00<00:00, 220.03it/s]\n",
      "r_index: 100%|##########| 3/3 [00:00<00:00, 426.32it/s]"
     ]
    },
    {
     "name": "stdout",
     "output_type": "stream",
     "text": [
      "Parse progress: |"
     ]
    },
    {
     "name": "stderr",
     "output_type": "stream",
     "text": [
      "\n"
     ]
    },
    {
     "name": "stdout",
     "output_type": "stream",
     "text": [
      "████████████████████████████████████████████████████████████████| (done) 100%\n",
      "gbm Model Build progress: |"
     ]
    },
    {
     "name": "stderr",
     "output_type": "stream",
     "text": [
      "/Users/gaskell/miniforge_x86_64/envs/ADPred_new/lib/python3.10/site-packages/h2o/estimators/estimator_base.py:208: RuntimeWarning: Dropping bad and constant columns: [hxchf, pres_imuran, pres_minocin, init_group, num_tnf, num_nontnf]\n",
      "  warnings.warn(mesg[\"message\"], RuntimeWarning)\n"
     ]
    },
    {
     "name": "stdout",
     "output_type": "stream",
     "text": [
      "██████████████████████████████████████████████████████| (done) 100%\n",
      "Parse progress: |████████████████████████████████████████████████████████████████| (done) 100%\n",
      "gbm prediction progress: |███████████████████████████████████████████████████████| (done) 100%\n",
      "Parse progress: |████████████████████████████████████████████████████████████████| (done) 100%\n",
      "gbm prediction progress: |███████████████████████████████████████████████████████| (done) 100%\n"
     ]
    },
    {
     "name": "stderr",
     "output_type": "stream",
     "text": [
      "dist_matrix: 100%|##########| 22/22 [00:00<00:00, 146.32it/s]\n",
      "synth_matrix: 100%|##########| 22/22 [00:00<00:00, 175.78it/s]\n",
      "r_index: 100%|##########| 3/3 [00:00<00:00, 557.11it/s]\n",
      "dist_matrix: 100%|##########| 30/30 [00:00<00:00, 96.80it/s]\n",
      "synth_matrix: 100%|##########| 30/30 [00:00<00:00, 220.13it/s]"
     ]
    },
    {
     "name": "stdout",
     "output_type": "stream",
     "text": [
      "Parse progress: |"
     ]
    },
    {
     "name": "stderr",
     "output_type": "stream",
     "text": [
      "\n"
     ]
    },
    {
     "name": "stdout",
     "output_type": "stream",
     "text": [
      "████████████████████████████████████████████████████████████████| (done) 100%\n",
      "gbm Model Build progress: |"
     ]
    },
    {
     "name": "stderr",
     "output_type": "stream",
     "text": [
      "/Users/gaskell/miniforge_x86_64/envs/ADPred_new/lib/python3.10/site-packages/h2o/estimators/estimator_base.py:208: RuntimeWarning: Dropping bad and constant columns: [hxchf, pres_imuran, pres_minocin, init_group, num_tnf, num_nontnf, hxtia]\n",
      "  warnings.warn(mesg[\"message\"], RuntimeWarning)\n"
     ]
    },
    {
     "name": "stdout",
     "output_type": "stream",
     "text": [
      "██████████████████████████████████████████████████████| (done) 100%\n",
      "Parse progress: |████████████████████████████████████████████████████████████████| (done) 100%\n",
      "gbm prediction progress: |███████████████████████████████████████████████████████| (done) 100%\n",
      "Parse progress: |████████████████████████████████████████████████████████████████| (done) 100%\n",
      "gbm prediction progress: |███████████████████████████████████████████████████████| (done) 100%\n"
     ]
    },
    {
     "name": "stderr",
     "output_type": "stream",
     "text": [
      "dist_matrix: 100%|##########| 22/22 [00:00<00:00, 143.15it/s]\n",
      "synth_matrix: 100%|##########| 22/22 [00:00<00:00, 171.04it/s]\n",
      "r_index: 100%|##########| 3/3 [00:00<00:00, 471.69it/s]\n",
      "dist_matrix: 100%|##########| 33/33 [00:00<00:00, 87.24it/s]\n",
      "synth_matrix: 100%|##########| 33/33 [00:00<00:00, 476.70it/s]\n",
      "r_index: 100%|##########| 25/25 [00:00<00:00, 447.53it/s]"
     ]
    },
    {
     "name": "stdout",
     "output_type": "stream",
     "text": [
      "Parse progress: |"
     ]
    },
    {
     "name": "stderr",
     "output_type": "stream",
     "text": [
      "\n"
     ]
    },
    {
     "name": "stdout",
     "output_type": "stream",
     "text": [
      "████████████████████████████████████████████████████████████████| (done) 100%\n",
      "gbm Model Build progress: |"
     ]
    },
    {
     "name": "stderr",
     "output_type": "stream",
     "text": [
      "/Users/gaskell/miniforge_x86_64/envs/ADPred_new/lib/python3.10/site-packages/h2o/estimators/estimator_base.py:208: RuntimeWarning: Dropping bad and constant columns: [hxchf, pres_imuran, pres_minocin, init_group, num_tnf, num_nontnf]\n",
      "  warnings.warn(mesg[\"message\"], RuntimeWarning)\n"
     ]
    },
    {
     "name": "stdout",
     "output_type": "stream",
     "text": [
      "██████████████████████████████████████████████████████| (done) 100%\n",
      "Parse progress: |████████████████████████████████████████████████████████████████| (done) 100%\n",
      "gbm prediction progress: |███████████████████████████████████████████████████████| (done) 100%\n",
      "Parse progress: |████████████████████████████████████████████████████████████████| (done) 100%\n",
      "gbm prediction progress: |███████████████████████████████████████████████████████| (done) 100%\n"
     ]
    },
    {
     "name": "stderr",
     "output_type": "stream",
     "text": [
      "dist_matrix: 100%|##########| 24/24 [00:00<00:00, 129.85it/s]\n",
      "synth_matrix: 100%|##########| 24/24 [00:00<00:00, 244.99it/s]\n",
      "r_index: 100%|##########| 18/18 [00:00<00:00, 559.41it/s]\n",
      "dist_matrix: 100%|##########| 30/30 [00:00<00:00, 99.96it/s] \n",
      "synth_matrix: 100%|##########| 30/30 [00:00<00:00, 249.96it/s]"
     ]
    },
    {
     "name": "stdout",
     "output_type": "stream",
     "text": [
      "Parse progress: |"
     ]
    },
    {
     "name": "stderr",
     "output_type": "stream",
     "text": [
      "\n"
     ]
    },
    {
     "name": "stdout",
     "output_type": "stream",
     "text": [
      "████████████████████████████████████████████████████████████████| (done) 100%\n",
      "gbm Model Build progress: |"
     ]
    },
    {
     "name": "stderr",
     "output_type": "stream",
     "text": [
      "/Users/gaskell/miniforge_x86_64/envs/ADPred_new/lib/python3.10/site-packages/h2o/estimators/estimator_base.py:208: RuntimeWarning: Dropping bad and constant columns: [pres_imuran, pres_minocin, init_group, num_tnf, num_nontnf, hxunstab_ang]\n",
      "  warnings.warn(mesg[\"message\"], RuntimeWarning)\n"
     ]
    },
    {
     "name": "stdout",
     "output_type": "stream",
     "text": [
      "██████████████████████████████████████████████████████| (done) 100%\n",
      "Parse progress: |████████████████████████████████████████████████████████████████| (done) 100%\n",
      "gbm prediction progress: |███████████████████████████████████████████████████████| (done) 100%\n",
      "Parse progress: |████████████████████████████████████████████████████████████████| (done) 100%\n",
      "gbm prediction progress: |███████████████████████████████████████████████████████| (done) 100%\n"
     ]
    },
    {
     "name": "stderr",
     "output_type": "stream",
     "text": [
      "dist_matrix: 100%|##########| 20/20 [00:00<00:00, 147.61it/s]\n",
      "synth_matrix: 100%|##########| 20/20 [00:00<00:00, 177.51it/s]\n",
      "r_index: 100%|##########| 10/10 [00:00<00:00, 481.48it/s]\n",
      "dist_matrix: 100%|##########| 32/32 [00:00<00:00, 91.11it/s]\n",
      "synth_matrix: 100%|##########| 32/32 [00:00<00:00, 478.22it/s]\n",
      "r_index: 100%|##########| 27/27 [00:00<00:00, 473.51it/s]"
     ]
    },
    {
     "name": "stdout",
     "output_type": "stream",
     "text": [
      "Parse progress: |"
     ]
    },
    {
     "name": "stderr",
     "output_type": "stream",
     "text": [
      "\n"
     ]
    },
    {
     "name": "stdout",
     "output_type": "stream",
     "text": [
      "████████████████████████████████████████████████████████████████| (done) 100%\n",
      "gbm Model Build progress: |"
     ]
    },
    {
     "name": "stderr",
     "output_type": "stream",
     "text": [
      "/Users/gaskell/miniforge_x86_64/envs/ADPred_new/lib/python3.10/site-packages/h2o/estimators/estimator_base.py:208: RuntimeWarning: Dropping bad and constant columns: [pres_imuran, pres_minocin, init_group, num_tnf, num_nontnf]\n",
      "  warnings.warn(mesg[\"message\"], RuntimeWarning)\n"
     ]
    },
    {
     "name": "stdout",
     "output_type": "stream",
     "text": [
      "██████████████████████████████████████████████████████| (done) 100%\n",
      "Parse progress: |████████████████████████████████████████████████████████████████| (done) 100%\n",
      "gbm prediction progress: |███████████████████████████████████████████████████████| (done) 100%\n",
      "Parse progress: |████████████████████████████████████████████████████████████████| (done) 100%\n",
      "gbm prediction progress: |███████████████████████████████████████████████████████| (done) 100%\n"
     ]
    },
    {
     "name": "stderr",
     "output_type": "stream",
     "text": [
      "dist_matrix: 100%|##########| 21/21 [00:00<00:00, 144.27it/s]\n",
      "synth_matrix: 100%|##########| 21/21 [00:00<00:00, 156.18it/s]\n",
      "r_index: 100%|##########| 6/6 [00:00<00:00, 470.71it/s]\n",
      "dist_matrix: 100%|##########| 28/28 [00:00<00:00, 105.02it/s]\n",
      "synth_matrix: 100%|##########| 28/28 [00:00<00:00, 228.11it/s]\n",
      "r_index: 100%|##########| 7/7 [00:00<00:00, 503.92it/s]"
     ]
    },
    {
     "name": "stdout",
     "output_type": "stream",
     "text": [
      "Parse progress: |"
     ]
    },
    {
     "name": "stderr",
     "output_type": "stream",
     "text": [
      "\n"
     ]
    },
    {
     "name": "stdout",
     "output_type": "stream",
     "text": [
      "████████████████████████████████████████████████████████████████| (done) 100%\n",
      "gbm Model Build progress: |"
     ]
    },
    {
     "name": "stderr",
     "output_type": "stream",
     "text": [
      "/Users/gaskell/miniforge_x86_64/envs/ADPred_new/lib/python3.10/site-packages/h2o/estimators/estimator_base.py:208: RuntimeWarning: Dropping bad and constant columns: [pres_imuran, pres_minocin, init_group, num_tnf, num_nontnf, hxstroke]\n",
      "  warnings.warn(mesg[\"message\"], RuntimeWarning)\n"
     ]
    },
    {
     "name": "stdout",
     "output_type": "stream",
     "text": [
      "██████████████████████████████████████████████████████| (done) 100%\n",
      "Parse progress: |████████████████████████████████████████████████████████████████| (done) 100%\n",
      "gbm prediction progress: |███████████████████████████████████████████████████████| (done) 100%\n",
      "Parse progress: |████████████████████████████████████████████████████████████████| (done) 100%\n",
      "gbm prediction progress: |███████████████████████████████████████████████████████| (done) 100%\n"
     ]
    },
    {
     "name": "stderr",
     "output_type": "stream",
     "text": [
      "dist_matrix: 100%|##########| 21/21 [00:00<00:00, 151.01it/s]\n",
      "synth_matrix: 100%|##########| 21/21 [00:00<00:00, 161.91it/s]\n",
      "r_index: 100%|##########| 6/6 [00:00<00:00, 620.15it/s]\n",
      "dist_matrix: 100%|##########| 32/32 [00:00<00:00, 90.53it/s]\n",
      "synth_matrix: 100%|##########| 32/32 [00:00<00:00, 473.76it/s]\n",
      "r_index: 100%|##########| 27/27 [00:00<00:00, 475.05it/s]"
     ]
    },
    {
     "name": "stdout",
     "output_type": "stream",
     "text": [
      "Parse progress: |"
     ]
    },
    {
     "name": "stderr",
     "output_type": "stream",
     "text": [
      "\n"
     ]
    },
    {
     "name": "stdout",
     "output_type": "stream",
     "text": [
      "████████████████████████████████████████████████████████████████| (done) 100%\n",
      "gbm Model Build progress: |"
     ]
    },
    {
     "name": "stderr",
     "output_type": "stream",
     "text": [
      "/Users/gaskell/miniforge_x86_64/envs/ADPred_new/lib/python3.10/site-packages/h2o/estimators/estimator_base.py:208: RuntimeWarning: Dropping bad and constant columns: [hxchf, pres_imuran, pres_minocin, init_group, num_tnf, num_nontnf, hxtia]\n",
      "  warnings.warn(mesg[\"message\"], RuntimeWarning)\n"
     ]
    },
    {
     "name": "stdout",
     "output_type": "stream",
     "text": [
      "██████████████████████████████████████████████████████| (done) 100%\n",
      "Parse progress: |████████████████████████████████████████████████████████████████| (done) 100%\n",
      "gbm prediction progress: |███████████████████████████████████████████████████████| (done) 100%\n",
      "Parse progress: |████████████████████████████████████████████████████████████████| (done) 100%\n",
      "gbm prediction progress: |███████████████████████████████████████████████████████| (done) 100%\n"
     ]
    },
    {
     "name": "stderr",
     "output_type": "stream",
     "text": [
      "dist_matrix: 100%|##########| 22/22 [00:00<00:00, 143.18it/s]\n",
      "synth_matrix: 100%|##########| 22/22 [00:00<00:00, 169.39it/s]\n",
      "r_index: 100%|##########| 3/3 [00:00<00:00, 594.54it/s]\n",
      "dist_matrix: 100%|##########| 31/31 [00:00<00:00, 91.23it/s]\n",
      "synth_matrix: 100%|##########| 31/31 [00:00<00:00, 460.48it/s]\n",
      "r_index: 100%|##########| 29/29 [00:00<00:00, 472.57it/s]\n"
     ]
    },
    {
     "name": "stdout",
     "output_type": "stream",
     "text": [
      "Parse progress: |████████████████████████████████████████████████████████████████| (done) 100%\n",
      "gbm Model Build progress: |"
     ]
    },
    {
     "name": "stderr",
     "output_type": "stream",
     "text": [
      "/Users/gaskell/miniforge_x86_64/envs/ADPred_new/lib/python3.10/site-packages/h2o/estimators/estimator_base.py:208: RuntimeWarning: Dropping bad and constant columns: [pres_imuran, pres_minocin, init_group, num_tnf, num_nontnf, hxtia]\n",
      "  warnings.warn(mesg[\"message\"], RuntimeWarning)\n"
     ]
    },
    {
     "name": "stdout",
     "output_type": "stream",
     "text": [
      "██████████████████████████████████████████████████████| (done) 100%\n",
      "Parse progress: |████████████████████████████████████████████████████████████████| (done) 100%\n",
      "gbm prediction progress: |███████████████████████████████████████████████████████| (done) 100%\n",
      "Parse progress: |████████████████████████████████████████████████████████████████| (done) 100%\n",
      "gbm prediction progress: |███████████████████████████████████████████████████████| (done) 100%\n"
     ]
    },
    {
     "name": "stderr",
     "output_type": "stream",
     "text": [
      "dist_matrix: 100%|##########| 30/30 [00:00<00:00, 97.55it/s]\n",
      "synth_matrix: 100%|##########| 30/30 [00:00<00:00, 156.98it/s]\n",
      "r_index: 100%|##########| 16/16 [00:00<00:00, 414.22it/s]"
     ]
    },
    {
     "name": "stdout",
     "output_type": "stream",
     "text": [
      "Parse progress: |"
     ]
    },
    {
     "name": "stderr",
     "output_type": "stream",
     "text": [
      "\n"
     ]
    },
    {
     "name": "stdout",
     "output_type": "stream",
     "text": [
      "████████████████████████████████████████████████████████████████| (done) 100%\n",
      "gbm Model Build progress: |"
     ]
    },
    {
     "name": "stderr",
     "output_type": "stream",
     "text": [
      "/Users/gaskell/miniforge_x86_64/envs/ADPred_new/lib/python3.10/site-packages/h2o/estimators/estimator_base.py:208: RuntimeWarning: Dropping bad and constant columns: [hxchf, pres_imuran, pres_minocin, init_group, num_tnf, num_nontnf, hxtia]\n",
      "  warnings.warn(mesg[\"message\"], RuntimeWarning)\n"
     ]
    },
    {
     "name": "stdout",
     "output_type": "stream",
     "text": [
      "██████████████████████████████████████████████████████| (done) 100%\n",
      "Parse progress: |████████████████████████████████████████████████████████████████| (done) 100%\n",
      "gbm prediction progress: |███████████████████████████████████████████████████████| (done) 100%\n",
      "Parse progress: |████████████████████████████████████████████████████████████████| (done) 100%\n",
      "gbm prediction progress: |███████████████████████████████████████████████████████| (done) 100%\n"
     ]
    },
    {
     "name": "stderr",
     "output_type": "stream",
     "text": [
      "dist_matrix: 100%|##########| 21/21 [00:00<00:00, 148.24it/s]\n",
      "synth_matrix: 100%|##########| 21/21 [00:00<00:00, 173.44it/s]\n",
      "r_index: 100%|##########| 6/6 [00:00<00:00, 534.06it/s]\n",
      "dist_matrix: 100%|##########| 30/30 [00:00<00:00, 98.77it/s]\n",
      "synth_matrix: 100%|##########| 30/30 [00:00<00:00, 234.48it/s]"
     ]
    },
    {
     "name": "stdout",
     "output_type": "stream",
     "text": [
      "Parse progress: |"
     ]
    },
    {
     "name": "stderr",
     "output_type": "stream",
     "text": [
      "\n"
     ]
    },
    {
     "name": "stdout",
     "output_type": "stream",
     "text": [
      "████████████████████████████████████████████████████████████████| (done) 100%\n",
      "gbm Model Build progress: |"
     ]
    },
    {
     "name": "stderr",
     "output_type": "stream",
     "text": [
      "/Users/gaskell/miniforge_x86_64/envs/ADPred_new/lib/python3.10/site-packages/h2o/estimators/estimator_base.py:208: RuntimeWarning: Dropping bad and constant columns: [pres_imuran, pres_minocin, init_group, num_tnf, num_nontnf, hxtia]\n",
      "  warnings.warn(mesg[\"message\"], RuntimeWarning)\n"
     ]
    },
    {
     "name": "stdout",
     "output_type": "stream",
     "text": [
      "██████████████████████████████████████████████████████| (done) 100%\n",
      "Parse progress: |████████████████████████████████████████████████████████████████| (done) 100%\n",
      "gbm prediction progress: |███████████████████████████████████████████████████████| (done) 100%\n",
      "Parse progress: |████████████████████████████████████████████████████████████████| (done) 100%\n",
      "gbm prediction progress: |███████████████████████████████████████████████████████| (done) 100%\n"
     ]
    },
    {
     "name": "stderr",
     "output_type": "stream",
     "text": [
      "dist_matrix: 100%|##########| 22/22 [00:00<00:00, 145.33it/s]\n",
      "synth_matrix: 100%|##########| 22/22 [00:00<00:00, 173.36it/s]\n",
      "r_index: 100%|##########| 3/3 [00:00<00:00, 491.64it/s]\n",
      "dist_matrix: 100%|##########| 29/29 [00:00<00:00, 101.26it/s]\n",
      "synth_matrix: 100%|##########| 29/29 [00:00<00:00, 232.68it/s]\n",
      "r_index: 100%|##########| 3/3 [00:00<00:00, 427.23it/s]"
     ]
    },
    {
     "name": "stdout",
     "output_type": "stream",
     "text": [
      "Parse progress: |"
     ]
    },
    {
     "name": "stderr",
     "output_type": "stream",
     "text": [
      "\n"
     ]
    },
    {
     "name": "stdout",
     "output_type": "stream",
     "text": [
      "████████████████████████████████████████████████████████████████| (done) 100%\n",
      "gbm Model Build progress: |"
     ]
    },
    {
     "name": "stderr",
     "output_type": "stream",
     "text": [
      "/Users/gaskell/miniforge_x86_64/envs/ADPred_new/lib/python3.10/site-packages/h2o/estimators/estimator_base.py:208: RuntimeWarning: Dropping bad and constant columns: [pres_imuran, pres_minocin, init_group, num_tnf, num_nontnf, hxtia]\n",
      "  warnings.warn(mesg[\"message\"], RuntimeWarning)\n"
     ]
    },
    {
     "name": "stdout",
     "output_type": "stream",
     "text": [
      "██████████████████████████████████████████████████████| (done) 100%\n",
      "Parse progress: |████████████████████████████████████████████████████████████████| (done) 100%\n",
      "gbm prediction progress: |███████████████████████████████████████████████████████| (done) 100%\n",
      "Parse progress: |████████████████████████████████████████████████████████████████| (done) 100%\n",
      "gbm prediction progress: |███████████████████████████████████████████████████████| (done) 100%\n"
     ]
    },
    {
     "name": "stderr",
     "output_type": "stream",
     "text": [
      "dist_matrix: 100%|##########| 24/24 [00:00<00:00, 133.61it/s]\n",
      "synth_matrix: 100%|##########| 24/24 [00:00<00:00, 271.86it/s]\n",
      "r_index: 100%|##########| 18/18 [00:00<00:00, 558.33it/s]\n",
      "dist_matrix: 100%|##########| 33/33 [00:00<00:00, 87.01it/s]\n",
      "synth_matrix: 100%|##########| 33/33 [00:00<00:00, 448.93it/s]\n",
      "r_index: 100%|##########| 25/25 [00:00<00:00, 469.72it/s]"
     ]
    },
    {
     "name": "stdout",
     "output_type": "stream",
     "text": [
      "Parse progress: |"
     ]
    },
    {
     "name": "stderr",
     "output_type": "stream",
     "text": [
      "\n"
     ]
    },
    {
     "name": "stdout",
     "output_type": "stream",
     "text": [
      "████████████████████████████████████████████████████████████████| (done) 100%\n",
      "gbm Model Build progress: |"
     ]
    },
    {
     "name": "stderr",
     "output_type": "stream",
     "text": [
      "/Users/gaskell/miniforge_x86_64/envs/ADPred_new/lib/python3.10/site-packages/h2o/estimators/estimator_base.py:208: RuntimeWarning: Dropping bad and constant columns: [hxchf, pres_imuran, pres_minocin, init_group, num_tnf, num_nontnf, hxtia]\n",
      "  warnings.warn(mesg[\"message\"], RuntimeWarning)\n"
     ]
    },
    {
     "name": "stdout",
     "output_type": "stream",
     "text": [
      "██████████████████████████████████████████████████████| (done) 100%\n",
      "Parse progress: |████████████████████████████████████████████████████████████████| (done) 100%\n",
      "gbm prediction progress: |███████████████████████████████████████████████████████| (done) 100%\n",
      "Parse progress: |████████████████████████████████████████████████████████████████| (done) 100%\n",
      "gbm prediction progress: |███████████████████████████████████████████████████████| (done) 100%\n"
     ]
    },
    {
     "name": "stderr",
     "output_type": "stream",
     "text": [
      "dist_matrix: 100%|##########| 20/20 [00:00<00:00, 162.14it/s]\n",
      "synth_matrix: 100%|##########| 20/20 [00:00<00:00, 176.41it/s]\n",
      "r_index: 100%|##########| 10/10 [00:00<00:00, 452.59it/s]\n",
      "dist_matrix: 100%|##########| 30/30 [00:00<00:00, 99.29it/s] \n",
      "synth_matrix: 100%|##########| 30/30 [00:00<00:00, 243.17it/s]"
     ]
    },
    {
     "name": "stdout",
     "output_type": "stream",
     "text": [
      "Parse progress: |"
     ]
    },
    {
     "name": "stderr",
     "output_type": "stream",
     "text": [
      "\n"
     ]
    },
    {
     "name": "stdout",
     "output_type": "stream",
     "text": [
      "████████████████████████████████████████████████████████████████| (done) 100%\n",
      "gbm Model Build progress: |"
     ]
    },
    {
     "name": "stderr",
     "output_type": "stream",
     "text": [
      "/Users/gaskell/miniforge_x86_64/envs/ADPred_new/lib/python3.10/site-packages/h2o/estimators/estimator_base.py:208: RuntimeWarning: Dropping bad and constant columns: [pres_imuran, pres_minocin, init_group, num_tnf, num_nontnf, hxunstab_ang]\n",
      "  warnings.warn(mesg[\"message\"], RuntimeWarning)\n"
     ]
    },
    {
     "name": "stdout",
     "output_type": "stream",
     "text": [
      "██████████████████████████████████████████████████████| (done) 100%\n",
      "Parse progress: |████████████████████████████████████████████████████████████████| (done) 100%\n",
      "gbm prediction progress: |███████████████████████████████████████████████████████| (done) 100%\n",
      "Parse progress: |████████████████████████████████████████████████████████████████| (done) 100%\n",
      "gbm prediction progress: |███████████████████████████████████████████████████████| (done) 100%\n"
     ]
    },
    {
     "name": "stderr",
     "output_type": "stream",
     "text": [
      "dist_matrix: 100%|##########| 24/24 [00:00<00:00, 132.66it/s]\n",
      "synth_matrix: 100%|##########| 24/24 [00:00<00:00, 255.02it/s]\n",
      "r_index: 100%|##########| 18/18 [00:00<00:00, 510.23it/s]\n",
      "dist_matrix: 100%|##########| 31/31 [00:00<00:00, 96.71it/s]\n",
      "synth_matrix: 100%|##########| 31/31 [00:00<00:00, 480.86it/s]\n",
      "r_index: 100%|##########| 29/29 [00:00<00:00, 458.39it/s]"
     ]
    },
    {
     "name": "stdout",
     "output_type": "stream",
     "text": [
      "Parse progress: |"
     ]
    },
    {
     "name": "stderr",
     "output_type": "stream",
     "text": [
      "\n"
     ]
    },
    {
     "name": "stdout",
     "output_type": "stream",
     "text": [
      "████████████████████████████████████████████████████████████████| (done) 100%\n",
      "gbm Model Build progress: |"
     ]
    },
    {
     "name": "stderr",
     "output_type": "stream",
     "text": [
      "/Users/gaskell/miniforge_x86_64/envs/ADPred_new/lib/python3.10/site-packages/h2o/estimators/estimator_base.py:208: RuntimeWarning: Dropping bad and constant columns: [hxchf, pres_imuran, pres_minocin, init_group, num_tnf, num_nontnf, hxstroke]\n",
      "  warnings.warn(mesg[\"message\"], RuntimeWarning)\n"
     ]
    },
    {
     "name": "stdout",
     "output_type": "stream",
     "text": [
      "██████████████████████████████████████████████████████| (done) 100%\n",
      "Parse progress: |████████████████████████████████████████████████████████████████| (done) 100%\n",
      "gbm prediction progress: |███████████████████████████████████████████████████████| (done) 100%\n",
      "Parse progress: |████████████████████████████████████████████████████████████████| (done) 100%\n",
      "gbm prediction progress: |███████████████████████████████████████████████████████| (done) 100%\n"
     ]
    },
    {
     "name": "stderr",
     "output_type": "stream",
     "text": [
      "dist_matrix: 100%|##########| 21/21 [00:00<00:00, 152.30it/s]\n",
      "synth_matrix: 100%|##########| 21/21 [00:00<00:00, 174.73it/s]\n",
      "r_index: 100%|##########| 6/6 [00:00<00:00, 445.47it/s]\n",
      "dist_matrix: 100%|##########| 32/32 [00:00<00:00, 89.39it/s]\n",
      "synth_matrix: 100%|##########| 32/32 [00:00<00:00, 429.84it/s]\n",
      "r_index: 100%|##########| 27/27 [00:00<00:00, 453.97it/s]\n"
     ]
    },
    {
     "name": "stdout",
     "output_type": "stream",
     "text": [
      "Parse progress: |████████████████████████████████████████████████████████████████| (done) 100%\n",
      "gbm Model Build progress: |"
     ]
    },
    {
     "name": "stderr",
     "output_type": "stream",
     "text": [
      "/Users/gaskell/miniforge_x86_64/envs/ADPred_new/lib/python3.10/site-packages/h2o/estimators/estimator_base.py:208: RuntimeWarning: Dropping bad and constant columns: [pres_imuran, pres_minocin, init_group, num_tnf, num_nontnf, hxtia]\n",
      "  warnings.warn(mesg[\"message\"], RuntimeWarning)\n"
     ]
    },
    {
     "name": "stdout",
     "output_type": "stream",
     "text": [
      "██████████████████████████████████████████████████████| (done) 100%\n",
      "Parse progress: |████████████████████████████████████████████████████████████████| (done) 100%\n",
      "gbm prediction progress: |███████████████████████████████████████████████████████| (done) 100%\n",
      "Parse progress: |████████████████████████████████████████████████████████████████| (done) 100%\n",
      "gbm prediction progress: |███████████████████████████████████████████████████████| (done) 100%\n"
     ]
    },
    {
     "name": "stderr",
     "output_type": "stream",
     "text": [
      "dist_matrix: 100%|##########| 28/28 [00:00<00:00, 112.24it/s]\n",
      "synth_matrix: 100%|##########| 28/28 [00:00<00:00, 255.88it/s]\n",
      "r_index: 100%|##########| 7/7 [00:00<00:00, 426.36it/s]\n",
      "dist_matrix: 100%|##########| 31/31 [00:00<00:00, 93.06it/s]\n",
      "synth_matrix: 100%|##########| 31/31 [00:00<00:00, 464.33it/s]\n",
      "r_index: 100%|##########| 29/29 [00:00<00:00, 459.75it/s]"
     ]
    },
    {
     "name": "stdout",
     "output_type": "stream",
     "text": [
      "Parse progress: |"
     ]
    },
    {
     "name": "stderr",
     "output_type": "stream",
     "text": [
      "\n"
     ]
    },
    {
     "name": "stdout",
     "output_type": "stream",
     "text": [
      "████████████████████████████████████████████████████████████████| (done) 100%\n",
      "gbm Model Build progress: |"
     ]
    },
    {
     "name": "stderr",
     "output_type": "stream",
     "text": [
      "/Users/gaskell/miniforge_x86_64/envs/ADPred_new/lib/python3.10/site-packages/h2o/estimators/estimator_base.py:208: RuntimeWarning: Dropping bad and constant columns: [hxchf, pres_imuran, pres_minocin, init_group, num_tnf, num_nontnf, hxtia]\n",
      "  warnings.warn(mesg[\"message\"], RuntimeWarning)\n"
     ]
    },
    {
     "name": "stdout",
     "output_type": "stream",
     "text": [
      "██████████████████████████████████████████████████████| (done) 100%\n",
      "Parse progress: |████████████████████████████████████████████████████████████████| (done) 100%\n",
      "gbm prediction progress: |███████████████████████████████████████████████████████| (done) 100%\n",
      "Parse progress: |████████████████████████████████████████████████████████████████| (done) 100%\n",
      "gbm prediction progress: |███████████████████████████████████████████████████████| (done) 100%\n"
     ]
    },
    {
     "name": "stderr",
     "output_type": "stream",
     "text": [
      "dist_matrix: 100%|##########| 20/20 [00:00<00:00, 158.60it/s]\n",
      "synth_matrix: 100%|##########| 20/20 [00:00<00:00, 175.07it/s]\n",
      "r_index: 100%|##########| 10/10 [00:00<00:00, 472.73it/s]\n",
      "dist_matrix: 100%|##########| 32/32 [00:00<00:00, 90.19it/s]\n",
      "synth_matrix: 100%|##########| 32/32 [00:00<00:00, 425.35it/s]\n",
      "r_index: 100%|##########| 27/27 [00:00<00:00, 431.05it/s]\n"
     ]
    },
    {
     "name": "stdout",
     "output_type": "stream",
     "text": [
      "Parse progress: |████████████████████████████████████████████████████████████████| (done) 100%\n",
      "gbm Model Build progress: |"
     ]
    },
    {
     "name": "stderr",
     "output_type": "stream",
     "text": [
      "/Users/gaskell/miniforge_x86_64/envs/ADPred_new/lib/python3.10/site-packages/h2o/estimators/estimator_base.py:208: RuntimeWarning: Dropping bad and constant columns: [hxchf, pres_imuran, pres_minocin, init_group, num_tnf, num_nontnf]\n",
      "  warnings.warn(mesg[\"message\"], RuntimeWarning)\n"
     ]
    },
    {
     "name": "stdout",
     "output_type": "stream",
     "text": [
      "██████████████████████████████████████████████████████| (done) 100%\n",
      "Parse progress: |████████████████████████████████████████████████████████████████| (done) 100%\n",
      "gbm prediction progress: |███████████████████████████████████████████████████████| (done) 100%\n",
      "Parse progress: |████████████████████████████████████████████████████████████████| (done) 100%\n",
      "gbm prediction progress: |███████████████████████████████████████████████████████| (done) 100%\n"
     ]
    },
    {
     "name": "stderr",
     "output_type": "stream",
     "text": [
      "dist_matrix: 100%|##########| 22/22 [00:00<00:00, 145.86it/s]\n",
      "synth_matrix: 100%|##########| 22/22 [00:00<00:00, 176.53it/s]\n",
      "r_index: 100%|##########| 3/3 [00:00<00:00, 463.89it/s]\n",
      "dist_matrix: 100%|##########| 28/28 [00:00<00:00, 101.21it/s]\n",
      "synth_matrix: 100%|##########| 28/28 [00:00<00:00, 238.64it/s]\n",
      "r_index: 100%|##########| 7/7 [00:00<00:00, 493.52it/s]\n"
     ]
    },
    {
     "name": "stdout",
     "output_type": "stream",
     "text": [
      "Parse progress: |████████████████████████████████████████████████████████████████| (done) 100%\n",
      "gbm Model Build progress: |"
     ]
    },
    {
     "name": "stderr",
     "output_type": "stream",
     "text": [
      "/Users/gaskell/miniforge_x86_64/envs/ADPred_new/lib/python3.10/site-packages/h2o/estimators/estimator_base.py:208: RuntimeWarning: Dropping bad and constant columns: [hxchf, pres_imuran, pres_minocin, init_group, num_tnf, num_nontnf]\n",
      "  warnings.warn(mesg[\"message\"], RuntimeWarning)\n"
     ]
    },
    {
     "name": "stdout",
     "output_type": "stream",
     "text": [
      "██████████████████████████████████████████████████████| (done) 100%\n",
      "Parse progress: |████████████████████████████████████████████████████████████████| (done) 100%\n",
      "gbm prediction progress: |███████████████████████████████████████████████████████| (done) 100%\n",
      "Parse progress: |████████████████████████████████████████████████████████████████| (done) 100%\n",
      "gbm prediction progress: |███████████████████████████████████████████████████████| (done) 100%\n"
     ]
    },
    {
     "name": "stderr",
     "output_type": "stream",
     "text": [
      "dist_matrix: 100%|##########| 28/28 [00:00<00:00, 103.77it/s]\n",
      "synth_matrix: 100%|##########| 28/28 [00:00<00:00, 147.68it/s]\n",
      "r_index: 100%|##########| 25/25 [00:00<00:00, 451.57it/s]"
     ]
    },
    {
     "name": "stdout",
     "output_type": "stream",
     "text": [
      "Parse progress: |"
     ]
    },
    {
     "name": "stderr",
     "output_type": "stream",
     "text": [
      "\n"
     ]
    },
    {
     "name": "stdout",
     "output_type": "stream",
     "text": [
      "████████████████████████████████████████████████████████████████| (done) 100%\n",
      "gbm Model Build progress: |"
     ]
    },
    {
     "name": "stderr",
     "output_type": "stream",
     "text": [
      "/Users/gaskell/miniforge_x86_64/envs/ADPred_new/lib/python3.10/site-packages/h2o/estimators/estimator_base.py:208: RuntimeWarning: Dropping bad and constant columns: [pres_imuran, pres_minocin, init_group, num_tnf, num_nontnf, hxtia]\n",
      "  warnings.warn(mesg[\"message\"], RuntimeWarning)\n"
     ]
    },
    {
     "name": "stdout",
     "output_type": "stream",
     "text": [
      "██████████████████████████████████████████████████████| (done) 100%\n",
      "Parse progress: |████████████████████████████████████████████████████████████████| (done) 100%\n",
      "gbm prediction progress: |███████████████████████████████████████████████████████| (done) 100%\n",
      "Parse progress: |████████████████████████████████████████████████████████████████| (done) 100%\n",
      "gbm prediction progress: |███████████████████████████████████████████████████████| (done) 100%\n"
     ]
    },
    {
     "name": "stderr",
     "output_type": "stream",
     "text": [
      "dist_matrix: 100%|##########| 22/22 [00:00<00:00, 142.31it/s]\n",
      "synth_matrix: 100%|##########| 22/22 [00:00<00:00, 166.56it/s]\n",
      "r_index: 100%|##########| 3/3 [00:00<00:00, 407.33it/s]\n",
      "dist_matrix: 100%|##########| 32/32 [00:00<00:00, 89.12it/s]\n",
      "synth_matrix: 100%|##########| 32/32 [00:00<00:00, 464.74it/s]\n",
      "r_index: 100%|##########| 27/27 [00:00<00:00, 460.88it/s]\n"
     ]
    },
    {
     "name": "stdout",
     "output_type": "stream",
     "text": [
      "Parse progress: |████████████████████████████████████████████████████████████████| (done) 100%\n",
      "gbm Model Build progress: |"
     ]
    },
    {
     "name": "stderr",
     "output_type": "stream",
     "text": [
      "/Users/gaskell/miniforge_x86_64/envs/ADPred_new/lib/python3.10/site-packages/h2o/estimators/estimator_base.py:208: RuntimeWarning: Dropping bad and constant columns: [hxchf, pres_imuran, pres_minocin, init_group, num_tnf, num_nontnf]\n",
      "  warnings.warn(mesg[\"message\"], RuntimeWarning)\n"
     ]
    },
    {
     "name": "stdout",
     "output_type": "stream",
     "text": [
      "██████████████████████████████████████████████████████| (done) 100%\n",
      "Parse progress: |████████████████████████████████████████████████████████████████| (done) 100%\n",
      "gbm prediction progress: |███████████████████████████████████████████████████████| (done) 100%\n",
      "Parse progress: |████████████████████████████████████████████████████████████████| (done) 100%\n",
      "gbm prediction progress: |███████████████████████████████████████████████████████| (done) 100%\n"
     ]
    },
    {
     "name": "stderr",
     "output_type": "stream",
     "text": [
      "dist_matrix: 100%|##########| 22/22 [00:00<00:00, 142.66it/s]\n",
      "synth_matrix: 100%|##########| 22/22 [00:00<00:00, 167.53it/s]\n",
      "r_index: 100%|##########| 3/3 [00:00<00:00, 484.09it/s]\n",
      "dist_matrix: 100%|##########| 33/33 [00:00<00:00, 88.47it/s]\n",
      "synth_matrix: 100%|##########| 33/33 [00:00<00:00, 442.79it/s]\n",
      "r_index: 100%|##########| 25/25 [00:00<00:00, 463.60it/s]"
     ]
    },
    {
     "name": "stdout",
     "output_type": "stream",
     "text": [
      "Parse progress: |"
     ]
    },
    {
     "name": "stderr",
     "output_type": "stream",
     "text": [
      "\n"
     ]
    },
    {
     "name": "stdout",
     "output_type": "stream",
     "text": [
      "████████████████████████████████████████████████████████████████| (done) 100%\n",
      "gbm Model Build progress: |"
     ]
    },
    {
     "name": "stderr",
     "output_type": "stream",
     "text": [
      "/Users/gaskell/miniforge_x86_64/envs/ADPred_new/lib/python3.10/site-packages/h2o/estimators/estimator_base.py:208: RuntimeWarning: Dropping bad and constant columns: [pres_imuran, pres_minocin, init_group, num_tnf, num_nontnf, hxtia]\n",
      "  warnings.warn(mesg[\"message\"], RuntimeWarning)\n"
     ]
    },
    {
     "name": "stdout",
     "output_type": "stream",
     "text": [
      "██████████████████████████████████████████████████████| (done) 100%\n",
      "Parse progress: |████████████████████████████████████████████████████████████████| (done) 100%\n",
      "gbm prediction progress: |███████████████████████████████████████████████████████| (done) 100%\n",
      "Parse progress: |████████████████████████████████████████████████████████████████| (done) 100%\n",
      "gbm prediction progress: |███████████████████████████████████████████████████████| (done) 100%\n"
     ]
    },
    {
     "name": "stderr",
     "output_type": "stream",
     "text": [
      "dist_matrix: 100%|##########| 24/24 [00:00<00:00, 132.23it/s]\n",
      "synth_matrix: 100%|##########| 24/24 [00:00<00:00, 258.67it/s]\n",
      "r_index: 100%|##########| 18/18 [00:00<00:00, 521.77it/s]\n",
      "dist_matrix: 100%|##########| 33/33 [00:00<00:00, 87.82it/s]\n",
      "synth_matrix: 100%|##########| 33/33 [00:00<00:00, 484.29it/s]\n",
      "r_index: 100%|##########| 25/25 [00:00<00:00, 463.19it/s]\n"
     ]
    },
    {
     "name": "stdout",
     "output_type": "stream",
     "text": [
      "Parse progress: |████████████████████████████████████████████████████████████████| (done) 100%\n",
      "gbm Model Build progress: |"
     ]
    },
    {
     "name": "stderr",
     "output_type": "stream",
     "text": [
      "/Users/gaskell/miniforge_x86_64/envs/ADPred_new/lib/python3.10/site-packages/h2o/estimators/estimator_base.py:208: RuntimeWarning: Dropping bad and constant columns: [pres_imuran, pres_minocin, init_group, num_tnf, num_nontnf]\n",
      "  warnings.warn(mesg[\"message\"], RuntimeWarning)\n"
     ]
    },
    {
     "name": "stdout",
     "output_type": "stream",
     "text": [
      "██████████████████████████████████████████████████████| (done) 100%\n",
      "Parse progress: |████████████████████████████████████████████████████████████████| (done) 100%\n",
      "gbm prediction progress: |███████████████████████████████████████████████████████| (done) 100%\n",
      "Parse progress: |████████████████████████████████████████████████████████████████| (done) 100%\n",
      "gbm prediction progress: |███████████████████████████████████████████████████████| (done) 100%\n",
      "Parse progress: |████████████████████████████████████████████████████████████████| (done) 100%\n",
      "gbm prediction progress: |███████████████████████████████████████████████████████| (done) 100%\n"
     ]
    },
    {
     "name": "stderr",
     "output_type": "stream",
     "text": [
      "dist_matrix: 100%|##########| 22/22 [00:00<00:00, 145.16it/s]\n",
      "synth_matrix: 100%|##########| 22/22 [00:00<00:00, 164.17it/s]\n",
      "r_index: 100%|##########| 3/3 [00:00<00:00, 470.81it/s]\n",
      "dist_matrix: 100%|##########| 33/33 [00:00<00:00, 87.63it/s]\n",
      "synth_matrix: 100%|##########| 33/33 [00:00<00:00, 453.25it/s]\n",
      "r_index: 100%|##########| 25/25 [00:00<00:00, 469.69it/s]"
     ]
    },
    {
     "name": "stdout",
     "output_type": "stream",
     "text": [
      "Parse progress: |"
     ]
    },
    {
     "name": "stderr",
     "output_type": "stream",
     "text": [
      "\n"
     ]
    },
    {
     "name": "stdout",
     "output_type": "stream",
     "text": [
      "████████████████████████████████████████████████████████████████| (done) 100%\n",
      "gbm Model Build progress: |"
     ]
    },
    {
     "name": "stderr",
     "output_type": "stream",
     "text": [
      "/Users/gaskell/miniforge_x86_64/envs/ADPred_new/lib/python3.10/site-packages/h2o/estimators/estimator_base.py:208: RuntimeWarning: Dropping bad and constant columns: [hxchf, pres_imuran, pres_minocin, init_group, num_tnf, num_nontnf, hxtia]\n",
      "  warnings.warn(mesg[\"message\"], RuntimeWarning)\n"
     ]
    },
    {
     "name": "stdout",
     "output_type": "stream",
     "text": [
      "██████████████████████████████████████████████████████| (done) 100%\n",
      "Parse progress: |████████████████████████████████████████████████████████████████| (done) 100%\n",
      "gbm prediction progress: |███████████████████████████████████████████████████████| (done) 100%\n",
      "Parse progress: |████████████████████████████████████████████████████████████████| (done) 100%\n",
      "gbm prediction progress: |███████████████████████████████████████████████████████| (done) 100%\n"
     ]
    },
    {
     "name": "stderr",
     "output_type": "stream",
     "text": [
      "dist_matrix: 100%|##########| 21/21 [00:00<00:00, 152.44it/s]\n",
      "synth_matrix: 100%|##########| 21/21 [00:00<00:00, 176.35it/s]\n",
      "r_index: 100%|##########| 6/6 [00:00<00:00, 444.15it/s]\n",
      "dist_matrix: 100%|##########| 33/33 [00:00<00:00, 88.19it/s]\n",
      "synth_matrix: 100%|##########| 33/33 [00:00<00:00, 493.80it/s]\n",
      "r_index: 100%|##########| 25/25 [00:00<00:00, 459.48it/s]\n"
     ]
    },
    {
     "name": "stdout",
     "output_type": "stream",
     "text": [
      "Parse progress: |████████████████████████████████████████████████████████████████| (done) 100%\n",
      "gbm Model Build progress: |"
     ]
    },
    {
     "name": "stderr",
     "output_type": "stream",
     "text": [
      "/Users/gaskell/miniforge_x86_64/envs/ADPred_new/lib/python3.10/site-packages/h2o/estimators/estimator_base.py:208: RuntimeWarning: Dropping bad and constant columns: [pres_imuran, pres_minocin, init_group, num_tnf, num_nontnf, hxtia]\n",
      "  warnings.warn(mesg[\"message\"], RuntimeWarning)\n"
     ]
    },
    {
     "name": "stdout",
     "output_type": "stream",
     "text": [
      "██████████████████████████████████████████████████████| (done) 100%\n",
      "Parse progress: |████████████████████████████████████████████████████████████████| (done) 100%\n",
      "gbm prediction progress: |███████████████████████████████████████████████████████| (done) 100%\n",
      "Parse progress: |████████████████████████████████████████████████████████████████| (done) 100%\n",
      "gbm prediction progress: |███████████████████████████████████████████████████████| (done) 100%\n"
     ]
    },
    {
     "name": "stderr",
     "output_type": "stream",
     "text": [
      "dist_matrix: 100%|##########| 21/21 [00:00<00:00, 150.31it/s]\n",
      "synth_matrix: 100%|##########| 21/21 [00:00<00:00, 163.54it/s]\n",
      "r_index: 100%|##########| 6/6 [00:00<00:00, 402.33it/s]\n",
      "dist_matrix: 100%|##########| 32/32 [00:00<00:00, 89.03it/s]\n",
      "synth_matrix: 100%|##########| 32/32 [00:00<00:00, 442.93it/s]\n",
      "r_index: 100%|##########| 27/27 [00:00<00:00, 453.43it/s]\n"
     ]
    },
    {
     "name": "stdout",
     "output_type": "stream",
     "text": [
      "Parse progress: |████████████████████████████████████████████████████████████████| (done) 100%\n",
      "gbm Model Build progress: |"
     ]
    },
    {
     "name": "stderr",
     "output_type": "stream",
     "text": [
      "/Users/gaskell/miniforge_x86_64/envs/ADPred_new/lib/python3.10/site-packages/h2o/estimators/estimator_base.py:208: RuntimeWarning: Dropping bad and constant columns: [pres_imuran, pres_minocin, init_group, num_tnf, num_nontnf]\n",
      "  warnings.warn(mesg[\"message\"], RuntimeWarning)\n"
     ]
    },
    {
     "name": "stdout",
     "output_type": "stream",
     "text": [
      "██████████████████████████████████████████████████████| (done) 100%\n",
      "Parse progress: |████████████████████████████████████████████████████████████████| (done) 100%\n",
      "gbm prediction progress: |███████████████████████████████████████████████████████| (done) 100%\n",
      "Parse progress: |████████████████████████████████████████████████████████████████| (done) 100%\n",
      "gbm prediction progress: |███████████████████████████████████████████████████████| (done) 100%\n"
     ]
    },
    {
     "name": "stderr",
     "output_type": "stream",
     "text": [
      "dist_matrix: 100%|##########| 24/24 [00:00<00:00, 132.91it/s]\n",
      "synth_matrix: 100%|##########| 24/24 [00:00<00:00, 246.22it/s]\n",
      "r_index: 100%|##########| 18/18 [00:00<00:00, 505.65it/s]\n",
      "dist_matrix: 100%|##########| 31/31 [00:00<00:00, 94.19it/s]\n",
      "synth_matrix: 100%|##########| 31/31 [00:00<00:00, 485.50it/s]\n",
      "r_index: 100%|##########| 29/29 [00:00<00:00, 478.37it/s]"
     ]
    },
    {
     "name": "stdout",
     "output_type": "stream",
     "text": [
      "Parse progress: |"
     ]
    },
    {
     "name": "stderr",
     "output_type": "stream",
     "text": [
      "\n"
     ]
    },
    {
     "name": "stdout",
     "output_type": "stream",
     "text": [
      "████████████████████████████████████████████████████████████████| (done) 100%\n",
      "gbm Model Build progress: |"
     ]
    },
    {
     "name": "stderr",
     "output_type": "stream",
     "text": [
      "/Users/gaskell/miniforge_x86_64/envs/ADPred_new/lib/python3.10/site-packages/h2o/estimators/estimator_base.py:208: RuntimeWarning: Dropping bad and constant columns: [hxchf, pres_imuran, pres_minocin, init_group, num_tnf, num_nontnf]\n",
      "  warnings.warn(mesg[\"message\"], RuntimeWarning)\n"
     ]
    },
    {
     "name": "stdout",
     "output_type": "stream",
     "text": [
      "██████████████████████████████████████████████████████| (done) 100%\n",
      "Parse progress: |████████████████████████████████████████████████████████████████| (done) 100%\n",
      "gbm prediction progress: |███████████████████████████████████████████████████████| (done) 100%\n",
      "Parse progress: |████████████████████████████████████████████████████████████████| (done) 100%\n",
      "gbm prediction progress: |███████████████████████████████████████████████████████| (done) 100%\n"
     ]
    },
    {
     "name": "stderr",
     "output_type": "stream",
     "text": [
      "dist_matrix: 100%|##########| 28/28 [00:00<00:00, 110.18it/s]\n",
      "synth_matrix: 100%|##########| 28/28 [00:00<00:00, 168.74it/s]\n",
      "r_index: 100%|##########| 25/25 [00:00<00:00, 461.58it/s]"
     ]
    },
    {
     "name": "stdout",
     "output_type": "stream",
     "text": [
      "Parse progress: |"
     ]
    },
    {
     "name": "stderr",
     "output_type": "stream",
     "text": [
      "\n"
     ]
    },
    {
     "name": "stdout",
     "output_type": "stream",
     "text": [
      "████████████████████████████████████████████████████████████████| (done) 100%\n",
      "gbm Model Build progress: |"
     ]
    },
    {
     "name": "stderr",
     "output_type": "stream",
     "text": [
      "/Users/gaskell/miniforge_x86_64/envs/ADPred_new/lib/python3.10/site-packages/h2o/estimators/estimator_base.py:208: RuntimeWarning: Dropping bad and constant columns: [hxchf, pres_imuran, pres_minocin, init_group, num_tnf, num_nontnf, hxstroke, hxunstab_ang]\n",
      "  warnings.warn(mesg[\"message\"], RuntimeWarning)\n"
     ]
    },
    {
     "name": "stdout",
     "output_type": "stream",
     "text": [
      "██████████████████████████████████████████████████████| (done) 100%\n",
      "Parse progress: |████████████████████████████████████████████████████████████████| (done) 100%\n",
      "gbm prediction progress: |███████████████████████████████████████████████████████| (done) 100%\n",
      "Parse progress: |████████████████████████████████████████████████████████████████| (done) 100%\n",
      "gbm prediction progress: |███████████████████████████████████████████████████████| (done) 100%\n"
     ]
    },
    {
     "name": "stderr",
     "output_type": "stream",
     "text": [
      "dist_matrix: 100%|##########| 27/27 [00:00<00:00, 115.61it/s]\n",
      "synth_matrix: 100%|##########| 27/27 [00:00<00:00, 255.81it/s]\n",
      "r_index: 100%|##########| 9/9 [00:00<00:00, 593.21it/s]\n",
      "dist_matrix: 100%|##########| 30/30 [00:00<00:00, 96.26it/s]\n",
      "synth_matrix: 100%|##########| 30/30 [00:00<00:00, 222.96it/s]"
     ]
    },
    {
     "name": "stdout",
     "output_type": "stream",
     "text": [
      "Parse progress: |"
     ]
    },
    {
     "name": "stderr",
     "output_type": "stream",
     "text": [
      "\n"
     ]
    },
    {
     "name": "stdout",
     "output_type": "stream",
     "text": [
      "████████████████████████████████████████████████████████████████| (done) 100%\n",
      "gbm Model Build progress: |"
     ]
    },
    {
     "name": "stderr",
     "output_type": "stream",
     "text": [
      "/Users/gaskell/miniforge_x86_64/envs/ADPred_new/lib/python3.10/site-packages/h2o/estimators/estimator_base.py:208: RuntimeWarning: Dropping bad and constant columns: [pres_imuran, pres_minocin, init_group, num_tnf, num_nontnf]\n",
      "  warnings.warn(mesg[\"message\"], RuntimeWarning)\n"
     ]
    },
    {
     "name": "stdout",
     "output_type": "stream",
     "text": [
      "██████████████████████████████████████████████████████| (done) 100%\n",
      "Parse progress: |████████████████████████████████████████████████████████████████| (done) 100%\n",
      "gbm prediction progress: |███████████████████████████████████████████████████████| (done) 100%\n",
      "Parse progress: |████████████████████████████████████████████████████████████████| (done) 100%\n",
      "gbm prediction progress: |███████████████████████████████████████████████████████| (done) 100%\n"
     ]
    },
    {
     "name": "stderr",
     "output_type": "stream",
     "text": [
      "dist_matrix: 100%|##########| 22/22 [00:00<00:00, 143.42it/s]\n",
      "synth_matrix: 100%|##########| 22/22 [00:00<00:00, 168.49it/s]\n",
      "r_index: 100%|##########| 3/3 [00:00<00:00, 466.50it/s]\n",
      "dist_matrix: 100%|##########| 28/28 [00:00<00:00, 103.92it/s]\n",
      "synth_matrix: 100%|##########| 28/28 [00:00<00:00, 233.56it/s]\n",
      "r_index: 100%|##########| 7/7 [00:00<00:00, 440.55it/s]"
     ]
    },
    {
     "name": "stdout",
     "output_type": "stream",
     "text": [
      "Parse progress: |"
     ]
    },
    {
     "name": "stderr",
     "output_type": "stream",
     "text": [
      "\n"
     ]
    },
    {
     "name": "stdout",
     "output_type": "stream",
     "text": [
      "████████████████████████████████████████████████████████████████| (done) 100%\n",
      "gbm Model Build progress: |"
     ]
    },
    {
     "name": "stderr",
     "output_type": "stream",
     "text": [
      "/Users/gaskell/miniforge_x86_64/envs/ADPred_new/lib/python3.10/site-packages/h2o/estimators/estimator_base.py:208: RuntimeWarning: Dropping bad and constant columns: [hxchf, pres_imuran, pres_minocin, init_group, num_tnf, num_nontnf]\n",
      "  warnings.warn(mesg[\"message\"], RuntimeWarning)\n"
     ]
    },
    {
     "name": "stdout",
     "output_type": "stream",
     "text": [
      "██████████████████████████████████████████████████████| (done) 100%\n",
      "Parse progress: |████████████████████████████████████████████████████████████████| (done) 100%\n",
      "gbm prediction progress: |███████████████████████████████████████████████████████| (done) 100%\n",
      "Parse progress: |████████████████████████████████████████████████████████████████| (done) 100%\n",
      "gbm prediction progress: |███████████████████████████████████████████████████████| (done) 100%\n"
     ]
    },
    {
     "name": "stderr",
     "output_type": "stream",
     "text": [
      "dist_matrix: 100%|##########| 22/22 [00:00<00:00, 138.95it/s]\n",
      "synth_matrix: 100%|##########| 22/22 [00:00<00:00, 158.83it/s]\n",
      "r_index: 100%|##########| 3/3 [00:00<00:00, 460.96it/s]\n",
      "dist_matrix: 100%|##########| 33/33 [00:00<00:00, 87.86it/s]\n",
      "synth_matrix: 100%|##########| 33/33 [00:00<00:00, 434.32it/s]\n",
      "r_index: 100%|##########| 25/25 [00:00<00:00, 483.22it/s]"
     ]
    },
    {
     "name": "stdout",
     "output_type": "stream",
     "text": [
      "Parse progress: |"
     ]
    },
    {
     "name": "stderr",
     "output_type": "stream",
     "text": [
      "\n"
     ]
    },
    {
     "name": "stdout",
     "output_type": "stream",
     "text": [
      "████████████████████████████████████████████████████████████████| (done) 100%\n",
      "gbm Model Build progress: |"
     ]
    },
    {
     "name": "stderr",
     "output_type": "stream",
     "text": [
      "/Users/gaskell/miniforge_x86_64/envs/ADPred_new/lib/python3.10/site-packages/h2o/estimators/estimator_base.py:208: RuntimeWarning: Dropping bad and constant columns: [pres_imuran, pres_minocin, init_group, num_tnf, num_nontnf, hxtia]\n",
      "  warnings.warn(mesg[\"message\"], RuntimeWarning)\n"
     ]
    },
    {
     "name": "stdout",
     "output_type": "stream",
     "text": [
      "██████████████████████████████████████████████████████| (done) 100%\n",
      "Parse progress: |████████████████████████████████████████████████████████████████| (done) 100%\n",
      "gbm prediction progress: |███████████████████████████████████████████████████████| (done) 100%\n",
      "Parse progress: |████████████████████████████████████████████████████████████████| (done) 100%\n",
      "gbm prediction progress: |███████████████████████████████████████████████████████| (done) 100%\n"
     ]
    },
    {
     "name": "stderr",
     "output_type": "stream",
     "text": [
      "dist_matrix: 100%|##########| 22/22 [00:00<00:00, 144.47it/s]\n",
      "synth_matrix: 100%|##########| 22/22 [00:00<00:00, 168.96it/s]\n",
      "r_index: 100%|##########| 3/3 [00:00<00:00, 764.97it/s]\n",
      "dist_matrix: 100%|##########| 29/29 [00:00<00:00, 100.41it/s]\n",
      "synth_matrix: 100%|##########| 29/29 [00:00<00:00, 216.86it/s]\n",
      "r_index: 100%|##########| 3/3 [00:00<00:00, 433.16it/s]"
     ]
    },
    {
     "name": "stdout",
     "output_type": "stream",
     "text": [
      "Parse progress: |"
     ]
    },
    {
     "name": "stderr",
     "output_type": "stream",
     "text": [
      "\n"
     ]
    },
    {
     "name": "stdout",
     "output_type": "stream",
     "text": [
      "████████████████████████████████████████████████████████████████| (done) 100%\n",
      "gbm Model Build progress: |"
     ]
    },
    {
     "name": "stderr",
     "output_type": "stream",
     "text": [
      "/Users/gaskell/miniforge_x86_64/envs/ADPred_new/lib/python3.10/site-packages/h2o/estimators/estimator_base.py:208: RuntimeWarning: Dropping bad and constant columns: [pres_imuran, pres_minocin, init_group, num_tnf, num_nontnf]\n",
      "  warnings.warn(mesg[\"message\"], RuntimeWarning)\n"
     ]
    },
    {
     "name": "stdout",
     "output_type": "stream",
     "text": [
      "██████████████████████████████████████████████████████| (done) 100%\n",
      "Parse progress: |████████████████████████████████████████████████████████████████| (done) 100%\n",
      "gbm prediction progress: |███████████████████████████████████████████████████████| (done) 100%\n",
      "Parse progress: |████████████████████████████████████████████████████████████████| (done) 100%\n",
      "gbm prediction progress: |███████████████████████████████████████████████████████| (done) 100%\n"
     ]
    },
    {
     "name": "stderr",
     "output_type": "stream",
     "text": [
      "dist_matrix: 100%|##########| 22/22 [00:00<00:00, 142.63it/s]\n",
      "synth_matrix: 100%|##########| 22/22 [00:00<00:00, 174.69it/s]\n",
      "r_index: 100%|##########| 3/3 [00:00<00:00, 410.98it/s]\n",
      "dist_matrix: 100%|##########| 30/30 [00:00<00:00, 97.80it/s]\n",
      "synth_matrix: 100%|##########| 30/30 [00:00<00:00, 225.96it/s]"
     ]
    },
    {
     "name": "stdout",
     "output_type": "stream",
     "text": [
      "Parse progress: |"
     ]
    },
    {
     "name": "stderr",
     "output_type": "stream",
     "text": [
      "\n"
     ]
    },
    {
     "name": "stdout",
     "output_type": "stream",
     "text": [
      "████████████████████████████████████████████████████████████████| (done) 100%\n",
      "gbm Model Build progress: |"
     ]
    },
    {
     "name": "stderr",
     "output_type": "stream",
     "text": [
      "/Users/gaskell/miniforge_x86_64/envs/ADPred_new/lib/python3.10/site-packages/h2o/estimators/estimator_base.py:208: RuntimeWarning: Dropping bad and constant columns: [hxchf, pres_imuran, pres_minocin, init_group, num_tnf, num_nontnf, hxtia]\n",
      "  warnings.warn(mesg[\"message\"], RuntimeWarning)\n"
     ]
    },
    {
     "name": "stdout",
     "output_type": "stream",
     "text": [
      "██████████████████████████████████████████████████████| (done) 100%\n",
      "Parse progress: |████████████████████████████████████████████████████████████████| (done) 100%\n",
      "gbm prediction progress: |███████████████████████████████████████████████████████| (done) 100%\n",
      "Parse progress: |████████████████████████████████████████████████████████████████| (done) 100%\n",
      "gbm prediction progress: |███████████████████████████████████████████████████████| (done) 100%\n"
     ]
    },
    {
     "name": "stderr",
     "output_type": "stream",
     "text": [
      "dist_matrix: 100%|##########| 22/22 [00:00<00:00, 144.75it/s]\n",
      "synth_matrix: 100%|##########| 22/22 [00:00<00:00, 174.80it/s]\n",
      "r_index: 100%|##########| 3/3 [00:00<00:00, 780.82it/s]\n",
      "dist_matrix: 100%|##########| 33/33 [00:00<00:00, 87.62it/s]\n",
      "synth_matrix: 100%|##########| 33/33 [00:00<00:00, 464.89it/s]\n",
      "r_index: 100%|##########| 25/25 [00:00<00:00, 441.13it/s]"
     ]
    },
    {
     "name": "stdout",
     "output_type": "stream",
     "text": [
      "Parse progress: |"
     ]
    },
    {
     "name": "stderr",
     "output_type": "stream",
     "text": [
      "\n"
     ]
    },
    {
     "name": "stdout",
     "output_type": "stream",
     "text": [
      "████████████████████████████████████████████████████████████████| (done) 100%\n",
      "gbm Model Build progress: |"
     ]
    },
    {
     "name": "stderr",
     "output_type": "stream",
     "text": [
      "/Users/gaskell/miniforge_x86_64/envs/ADPred_new/lib/python3.10/site-packages/h2o/estimators/estimator_base.py:208: RuntimeWarning: Dropping bad and constant columns: [hxchf, pres_imuran, pres_minocin, init_group, num_tnf, num_nontnf]\n",
      "  warnings.warn(mesg[\"message\"], RuntimeWarning)\n"
     ]
    },
    {
     "name": "stdout",
     "output_type": "stream",
     "text": [
      "██████████████████████████████████████████████████████| (done) 100%\n",
      "Parse progress: |████████████████████████████████████████████████████████████████| (done) 100%\n",
      "gbm prediction progress: |███████████████████████████████████████████████████████| (done) 100%\n",
      "Parse progress: |████████████████████████████████████████████████████████████████| (done) 100%\n",
      "gbm prediction progress: |███████████████████████████████████████████████████████| (done) 100%\n"
     ]
    },
    {
     "name": "stderr",
     "output_type": "stream",
     "text": [
      "dist_matrix: 100%|##########| 24/24 [00:00<00:00, 131.84it/s]\n",
      "synth_matrix: 100%|##########| 24/24 [00:00<00:00, 244.37it/s]\n",
      "r_index: 100%|##########| 18/18 [00:00<00:00, 495.93it/s]\n",
      "dist_matrix: 100%|##########| 30/30 [00:00<00:00, 99.82it/s] \n",
      "synth_matrix: 100%|##########| 30/30 [00:00<00:00, 243.35it/s]"
     ]
    },
    {
     "name": "stdout",
     "output_type": "stream",
     "text": [
      "Parse progress: |"
     ]
    },
    {
     "name": "stderr",
     "output_type": "stream",
     "text": [
      "\n"
     ]
    },
    {
     "name": "stdout",
     "output_type": "stream",
     "text": [
      "████████████████████████████████████████████████████████████████| (done) 100%\n",
      "gbm Model Build progress: |"
     ]
    },
    {
     "name": "stderr",
     "output_type": "stream",
     "text": [
      "/Users/gaskell/miniforge_x86_64/envs/ADPred_new/lib/python3.10/site-packages/h2o/estimators/estimator_base.py:208: RuntimeWarning: Dropping bad and constant columns: [hxchf, pres_imuran, pres_minocin, init_group, num_tnf, num_nontnf, hxtia, hxunstab_ang]\n",
      "  warnings.warn(mesg[\"message\"], RuntimeWarning)\n"
     ]
    },
    {
     "name": "stdout",
     "output_type": "stream",
     "text": [
      "██████████████████████████████████████████████████████| (done) 100%\n",
      "Parse progress: |████████████████████████████████████████████████████████████████| (done) 100%\n",
      "gbm prediction progress: |███████████████████████████████████████████████████████| (done) 100%\n",
      "Parse progress: |████████████████████████████████████████████████████████████████| (done) 100%\n",
      "gbm prediction progress: |███████████████████████████████████████████████████████| (done) 100%\n"
     ]
    },
    {
     "name": "stderr",
     "output_type": "stream",
     "text": [
      "dist_matrix: 100%|##########| 20/20 [00:00<00:00, 145.13it/s]\n",
      "synth_matrix: 100%|##########| 20/20 [00:00<00:00, 160.36it/s]\n",
      "r_index: 100%|##########| 10/10 [00:00<00:00, 431.14it/s]\n",
      "dist_matrix: 100%|##########| 32/32 [00:00<00:00, 88.51it/s]\n",
      "synth_matrix: 100%|##########| 32/32 [00:00<00:00, 448.44it/s]\n",
      "r_index: 100%|##########| 27/27 [00:00<00:00, 420.83it/s]\n"
     ]
    },
    {
     "name": "stdout",
     "output_type": "stream",
     "text": [
      "Parse progress: |████████████████████████████████████████████████████████████████| (done) 100%\n",
      "gbm Model Build progress: |"
     ]
    },
    {
     "name": "stderr",
     "output_type": "stream",
     "text": [
      "/Users/gaskell/miniforge_x86_64/envs/ADPred_new/lib/python3.10/site-packages/h2o/estimators/estimator_base.py:208: RuntimeWarning: Dropping bad and constant columns: [hxchf, pres_imuran, pres_minocin, init_group, num_tnf, num_nontnf, hxtia]\n",
      "  warnings.warn(mesg[\"message\"], RuntimeWarning)\n"
     ]
    },
    {
     "name": "stdout",
     "output_type": "stream",
     "text": [
      "██████████████████████████████████████████████████████| (done) 100%\n",
      "Parse progress: |████████████████████████████████████████████████████████████████| (done) 100%\n",
      "gbm prediction progress: |███████████████████████████████████████████████████████| (done) 100%\n",
      "Parse progress: |████████████████████████████████████████████████████████████████| (done) 100%\n",
      "gbm prediction progress: |███████████████████████████████████████████████████████| (done) 100%\n"
     ]
    },
    {
     "name": "stderr",
     "output_type": "stream",
     "text": [
      "dist_matrix: 100%|##########| 21/21 [00:00<00:00, 148.67it/s]\n",
      "synth_matrix: 100%|##########| 21/21 [00:00<00:00, 147.54it/s]\n",
      "r_index: 100%|##########| 6/6 [00:00<00:00, 489.87it/s]\n",
      "dist_matrix: 100%|##########| 28/28 [00:00<00:00, 102.55it/s]\n",
      "synth_matrix: 100%|##########| 28/28 [00:00<00:00, 228.30it/s]\n",
      "r_index: 100%|##########| 7/7 [00:00<00:00, 376.42it/s]\n"
     ]
    },
    {
     "name": "stdout",
     "output_type": "stream",
     "text": [
      "Parse progress: |████████████████████████████████████████████████████████████████| (done) 100%\n",
      "gbm Model Build progress: |"
     ]
    },
    {
     "name": "stderr",
     "output_type": "stream",
     "text": [
      "/Users/gaskell/miniforge_x86_64/envs/ADPred_new/lib/python3.10/site-packages/h2o/estimators/estimator_base.py:208: RuntimeWarning: Dropping bad and constant columns: [hxchf, pres_imuran, pres_minocin, init_group, num_tnf, num_nontnf]\n",
      "  warnings.warn(mesg[\"message\"], RuntimeWarning)\n"
     ]
    },
    {
     "name": "stdout",
     "output_type": "stream",
     "text": [
      "██████████████████████████████████████████████████████| (done) 100%\n",
      "Parse progress: |████████████████████████████████████████████████████████████████| (done) 100%\n",
      "gbm prediction progress: |███████████████████████████████████████████████████████| (done) 100%\n",
      "Parse progress: |████████████████████████████████████████████████████████████████| (done) 100%\n",
      "gbm prediction progress: |███████████████████████████████████████████████████████| (done) 100%\n"
     ]
    },
    {
     "name": "stderr",
     "output_type": "stream",
     "text": [
      "dist_matrix: 100%|##########| 21/21 [00:00<00:00, 149.56it/s]\n",
      "synth_matrix: 100%|##########| 21/21 [00:00<00:00, 158.06it/s]\n",
      "r_index: 100%|##########| 6/6 [00:00<00:00, 613.86it/s]\n",
      "dist_matrix: 100%|##########| 32/32 [00:00<00:00, 88.32it/s]\n",
      "synth_matrix: 100%|##########| 32/32 [00:00<00:00, 416.29it/s]\n",
      "r_index: 100%|##########| 27/27 [00:00<00:00, 397.21it/s]\n"
     ]
    },
    {
     "name": "stdout",
     "output_type": "stream",
     "text": [
      "Parse progress: |████████████████████████████████████████████████████████████████| (done) 100%\n",
      "gbm Model Build progress: |"
     ]
    },
    {
     "name": "stderr",
     "output_type": "stream",
     "text": [
      "/Users/gaskell/miniforge_x86_64/envs/ADPred_new/lib/python3.10/site-packages/h2o/estimators/estimator_base.py:208: RuntimeWarning: Dropping bad and constant columns: [hxchf, pres_imuran, pres_minocin, init_group, num_tnf, num_nontnf]\n",
      "  warnings.warn(mesg[\"message\"], RuntimeWarning)\n"
     ]
    },
    {
     "name": "stdout",
     "output_type": "stream",
     "text": [
      "██████████████████████████████████████████████████████| (done) 100%\n",
      "Parse progress: |████████████████████████████████████████████████████████████████| (done) 100%\n",
      "gbm prediction progress: |███████████████████████████████████████████████████████| (done) 100%\n",
      "Parse progress: |████████████████████████████████████████████████████████████████| (done) 100%\n",
      "gbm prediction progress: |███████████████████████████████████████████████████████| (done) 100%\n"
     ]
    },
    {
     "name": "stderr",
     "output_type": "stream",
     "text": [
      "dist_matrix: 100%|##########| 22/22 [00:00<00:00, 144.68it/s]\n",
      "synth_matrix: 100%|##########| 22/22 [00:00<00:00, 162.02it/s]\n",
      "r_index: 100%|##########| 3/3 [00:00<00:00, 448.08it/s]\n",
      "dist_matrix: 100%|##########| 31/31 [00:00<00:00, 93.34it/s]\n",
      "synth_matrix: 100%|##########| 31/31 [00:00<00:00, 426.37it/s]\n",
      "r_index: 100%|##########| 29/29 [00:00<00:00, 491.39it/s]"
     ]
    },
    {
     "name": "stdout",
     "output_type": "stream",
     "text": [
      "Parse progress: |"
     ]
    },
    {
     "name": "stderr",
     "output_type": "stream",
     "text": [
      "\n"
     ]
    },
    {
     "name": "stdout",
     "output_type": "stream",
     "text": [
      "████████████████████████████████████████████████████████████████| (done) 100%\n",
      "gbm Model Build progress: |"
     ]
    },
    {
     "name": "stderr",
     "output_type": "stream",
     "text": [
      "/Users/gaskell/miniforge_x86_64/envs/ADPred_new/lib/python3.10/site-packages/h2o/estimators/estimator_base.py:208: RuntimeWarning: Dropping bad and constant columns: [pres_imuran, pres_minocin, init_group, num_tnf, num_nontnf]\n",
      "  warnings.warn(mesg[\"message\"], RuntimeWarning)\n"
     ]
    },
    {
     "name": "stdout",
     "output_type": "stream",
     "text": [
      "██████████████████████████████████████████████████████| (done) 100%\n",
      "Parse progress: |████████████████████████████████████████████████████████████████| (done) 100%\n",
      "gbm prediction progress: |███████████████████████████████████████████████████████| (done) 100%\n",
      "Parse progress: |████████████████████████████████████████████████████████████████| (done) 100%\n",
      "gbm prediction progress: |███████████████████████████████████████████████████████| (done) 100%\n"
     ]
    },
    {
     "name": "stderr",
     "output_type": "stream",
     "text": [
      "dist_matrix: 100%|##########| 30/30 [00:00<00:00, 95.45it/s]\n",
      "synth_matrix: 100%|##########| 30/30 [00:00<00:00, 156.19it/s]\n",
      "r_index: 100%|##########| 16/16 [00:00<00:00, 456.92it/s]"
     ]
    },
    {
     "name": "stdout",
     "output_type": "stream",
     "text": [
      "Parse progress: |"
     ]
    },
    {
     "name": "stderr",
     "output_type": "stream",
     "text": [
      "\n"
     ]
    },
    {
     "name": "stdout",
     "output_type": "stream",
     "text": [
      "████████████████████████████████████████████████████████████████| (done) 100%\n",
      "gbm Model Build progress: |"
     ]
    },
    {
     "name": "stderr",
     "output_type": "stream",
     "text": [
      "/Users/gaskell/miniforge_x86_64/envs/ADPred_new/lib/python3.10/site-packages/h2o/estimators/estimator_base.py:208: RuntimeWarning: Dropping bad and constant columns: [pres_imuran, pres_minocin, init_group, num_tnf, num_nontnf, hxtia]\n",
      "  warnings.warn(mesg[\"message\"], RuntimeWarning)\n"
     ]
    },
    {
     "name": "stdout",
     "output_type": "stream",
     "text": [
      "██████████████████████████████████████████████████████| (done) 100%\n",
      "Parse progress: |████████████████████████████████████████████████████████████████| (done) 100%\n",
      "gbm prediction progress: |███████████████████████████████████████████████████████| (done) 100%\n",
      "Parse progress: |████████████████████████████████████████████████████████████████| (done) 100%\n",
      "gbm prediction progress: |███████████████████████████████████████████████████████| (done) 100%\n"
     ]
    },
    {
     "name": "stderr",
     "output_type": "stream",
     "text": [
      "dist_matrix: 100%|##########| 21/21 [00:00<00:00, 147.20it/s]\n",
      "synth_matrix: 100%|##########| 21/21 [00:00<00:00, 158.73it/s]\n",
      "r_index: 100%|##########| 6/6 [00:00<00:00, 477.67it/s]\n",
      "dist_matrix: 100%|##########| 30/30 [00:00<00:00, 95.26it/s]\n",
      "synth_matrix: 100%|##########| 30/30 [00:00<00:00, 212.42it/s]"
     ]
    },
    {
     "name": "stdout",
     "output_type": "stream",
     "text": [
      "Parse progress: |"
     ]
    },
    {
     "name": "stderr",
     "output_type": "stream",
     "text": [
      "\n"
     ]
    },
    {
     "name": "stdout",
     "output_type": "stream",
     "text": [
      "████████████████████████████████████████████████████████████████| (done) 100%\n",
      "gbm Model Build progress: |"
     ]
    },
    {
     "name": "stderr",
     "output_type": "stream",
     "text": [
      "/Users/gaskell/miniforge_x86_64/envs/ADPred_new/lib/python3.10/site-packages/h2o/estimators/estimator_base.py:208: RuntimeWarning: Dropping bad and constant columns: [pres_imuran, pres_minocin, init_group, num_tnf, num_nontnf, hxtia]\n",
      "  warnings.warn(mesg[\"message\"], RuntimeWarning)\n"
     ]
    },
    {
     "name": "stdout",
     "output_type": "stream",
     "text": [
      "██████████████████████████████████████████████████████| (done) 100%\n",
      "Parse progress: |████████████████████████████████████████████████████████████████| (done) 100%\n",
      "gbm prediction progress: |███████████████████████████████████████████████████████| (done) 100%\n",
      "Parse progress: |████████████████████████████████████████████████████████████████| (done) 100%\n",
      "gbm prediction progress: |███████████████████████████████████████████████████████| (done) 100%\n"
     ]
    },
    {
     "name": "stderr",
     "output_type": "stream",
     "text": [
      "dist_matrix: 100%|##########| 22/22 [00:00<00:00, 144.01it/s]\n",
      "synth_matrix: 100%|##########| 22/22 [00:00<00:00, 160.54it/s]\n",
      "r_index: 100%|##########| 3/3 [00:00<00:00, 606.55it/s]\n",
      "dist_matrix: 100%|##########| 29/29 [00:00<00:00, 100.02it/s]\n",
      "synth_matrix: 100%|##########| 29/29 [00:00<00:00, 209.93it/s]\n",
      "r_index: 100%|##########| 3/3 [00:00<00:00, 219.60it/s]\n"
     ]
    },
    {
     "name": "stdout",
     "output_type": "stream",
     "text": [
      "Parse progress: |████████████████████████████████████████████████████████████████| (done) 100%\n",
      "gbm Model Build progress: |"
     ]
    },
    {
     "name": "stderr",
     "output_type": "stream",
     "text": [
      "/Users/gaskell/miniforge_x86_64/envs/ADPred_new/lib/python3.10/site-packages/h2o/estimators/estimator_base.py:208: RuntimeWarning: Dropping bad and constant columns: [pres_imuran, pres_minocin, init_group, num_tnf, num_nontnf, hxtia]\n",
      "  warnings.warn(mesg[\"message\"], RuntimeWarning)\n"
     ]
    },
    {
     "name": "stdout",
     "output_type": "stream",
     "text": [
      "██████████████████████████████████████████████████████| (done) 100%\n",
      "Parse progress: |████████████████████████████████████████████████████████████████| (done) 100%\n",
      "gbm prediction progress: |███████████████████████████████████████████████████████| (done) 100%\n",
      "Parse progress: |████████████████████████████████████████████████████████████████| (done) 100%\n",
      "gbm prediction progress: |███████████████████████████████████████████████████████| (done) 100%\n"
     ]
    },
    {
     "name": "stderr",
     "output_type": "stream",
     "text": [
      "dist_matrix: 100%|##########| 24/24 [00:00<00:00, 131.16it/s]\n",
      "synth_matrix: 100%|##########| 24/24 [00:00<00:00, 254.94it/s]\n",
      "r_index: 100%|##########| 18/18 [00:00<00:00, 501.43it/s]\n",
      "dist_matrix: 100%|##########| 33/33 [00:00<00:00, 87.19it/s]\n",
      "synth_matrix: 100%|##########| 33/33 [00:00<00:00, 448.19it/s]\n",
      "r_index: 100%|##########| 25/25 [00:00<00:00, 494.15it/s]\n"
     ]
    },
    {
     "name": "stdout",
     "output_type": "stream",
     "text": [
      "Parse progress: |████████████████████████████████████████████████████████████████| (done) 100%\n",
      "gbm Model Build progress: |"
     ]
    },
    {
     "name": "stderr",
     "output_type": "stream",
     "text": [
      "/Users/gaskell/miniforge_x86_64/envs/ADPred_new/lib/python3.10/site-packages/h2o/estimators/estimator_base.py:208: RuntimeWarning: Dropping bad and constant columns: [hxchf, pres_imuran, pres_minocin, init_group, num_tnf, num_nontnf]\n",
      "  warnings.warn(mesg[\"message\"], RuntimeWarning)\n"
     ]
    },
    {
     "name": "stdout",
     "output_type": "stream",
     "text": [
      "██████████████████████████████████████████████████████| (done) 100%\n",
      "Parse progress: |████████████████████████████████████████████████████████████████| (done) 100%\n",
      "gbm prediction progress: |███████████████████████████████████████████████████████| (done) 100%\n",
      "Parse progress: |████████████████████████████████████████████████████████████████| (done) 100%\n",
      "gbm prediction progress: |███████████████████████████████████████████████████████| (done) 100%\n"
     ]
    },
    {
     "name": "stderr",
     "output_type": "stream",
     "text": [
      "dist_matrix: 100%|##########| 20/20 [00:00<00:00, 163.93it/s]\n",
      "synth_matrix: 100%|##########| 20/20 [00:00<00:00, 171.91it/s]\n",
      "r_index: 100%|##########| 10/10 [00:00<00:00, 493.20it/s]\n",
      "dist_matrix: 100%|##########| 30/30 [00:00<00:00, 97.04it/s]\n",
      "synth_matrix: 100%|##########| 30/30 [00:00<00:00, 244.80it/s]"
     ]
    },
    {
     "name": "stdout",
     "output_type": "stream",
     "text": [
      "Parse progress: |"
     ]
    },
    {
     "name": "stderr",
     "output_type": "stream",
     "text": [
      "\n"
     ]
    },
    {
     "name": "stdout",
     "output_type": "stream",
     "text": [
      "████████████████████████████████████████████████████████████████| (done) 100%\n",
      "gbm Model Build progress: |"
     ]
    },
    {
     "name": "stderr",
     "output_type": "stream",
     "text": [
      "/Users/gaskell/miniforge_x86_64/envs/ADPred_new/lib/python3.10/site-packages/h2o/estimators/estimator_base.py:208: RuntimeWarning: Dropping bad and constant columns: [pres_imuran, pres_minocin, init_group, num_tnf, num_nontnf, hxtia, hxunstab_ang]\n",
      "  warnings.warn(mesg[\"message\"], RuntimeWarning)\n"
     ]
    },
    {
     "name": "stdout",
     "output_type": "stream",
     "text": [
      "██████████████████████████████████████████████████████| (done) 100%\n",
      "Parse progress: |████████████████████████████████████████████████████████████████| (done) 100%\n",
      "gbm prediction progress: |███████████████████████████████████████████████████████| (done) 100%\n",
      "Parse progress: |████████████████████████████████████████████████████████████████| (done) 100%\n",
      "gbm prediction progress: |███████████████████████████████████████████████████████| (done) 100%\n"
     ]
    },
    {
     "name": "stderr",
     "output_type": "stream",
     "text": [
      "dist_matrix: 100%|##########| 24/24 [00:00<00:00, 132.92it/s]\n",
      "synth_matrix: 100%|##########| 24/24 [00:00<00:00, 266.06it/s]\n",
      "r_index: 100%|##########| 18/18 [00:00<00:00, 440.82it/s]\n",
      "dist_matrix: 100%|##########| 31/31 [00:00<00:00, 95.76it/s]\n",
      "synth_matrix: 100%|##########| 31/31 [00:00<00:00, 464.80it/s]\n",
      "r_index: 100%|##########| 29/29 [00:00<00:00, 493.24it/s]"
     ]
    },
    {
     "name": "stdout",
     "output_type": "stream",
     "text": [
      "Parse progress: |"
     ]
    },
    {
     "name": "stderr",
     "output_type": "stream",
     "text": [
      "\n"
     ]
    },
    {
     "name": "stdout",
     "output_type": "stream",
     "text": [
      "████████████████████████████████████████████████████████████████| (done) 100%\n",
      "gbm Model Build progress: |"
     ]
    },
    {
     "name": "stderr",
     "output_type": "stream",
     "text": [
      "/Users/gaskell/miniforge_x86_64/envs/ADPred_new/lib/python3.10/site-packages/h2o/estimators/estimator_base.py:208: RuntimeWarning: Dropping bad and constant columns: [hxchf, pres_imuran, pres_minocin, init_group, num_tnf, num_nontnf, hxstroke, hxtia]\n",
      "  warnings.warn(mesg[\"message\"], RuntimeWarning)\n"
     ]
    },
    {
     "name": "stdout",
     "output_type": "stream",
     "text": [
      "██████████████████████████████████████████████████████| (done) 100%\n",
      "Parse progress: |████████████████████████████████████████████████████████████████| (done) 100%\n",
      "gbm prediction progress: |███████████████████████████████████████████████████████| (done) 100%\n",
      "Parse progress: |████████████████████████████████████████████████████████████████| (done) 100%\n",
      "gbm prediction progress: |███████████████████████████████████████████████████████| (done) 100%\n"
     ]
    },
    {
     "name": "stderr",
     "output_type": "stream",
     "text": [
      "dist_matrix: 100%|##########| 21/21 [00:00<00:00, 148.91it/s]\n",
      "synth_matrix: 100%|##########| 21/21 [00:00<00:00, 161.36it/s]\n",
      "r_index: 100%|##########| 6/6 [00:00<00:00, 439.69it/s]\n",
      "dist_matrix: 100%|##########| 32/32 [00:00<00:00, 89.50it/s]\n",
      "synth_matrix: 100%|##########| 32/32 [00:00<00:00, 423.42it/s]\n",
      "r_index: 100%|##########| 27/27 [00:00<00:00, 478.54it/s]\n"
     ]
    },
    {
     "name": "stdout",
     "output_type": "stream",
     "text": [
      "Parse progress: |████████████████████████████████████████████████████████████████| (done) 100%\n",
      "gbm Model Build progress: |"
     ]
    },
    {
     "name": "stderr",
     "output_type": "stream",
     "text": [
      "/Users/gaskell/miniforge_x86_64/envs/ADPred_new/lib/python3.10/site-packages/h2o/estimators/estimator_base.py:208: RuntimeWarning: Dropping bad and constant columns: [pres_imuran, pres_minocin, init_group, num_tnf, num_nontnf]\n",
      "  warnings.warn(mesg[\"message\"], RuntimeWarning)\n"
     ]
    },
    {
     "name": "stdout",
     "output_type": "stream",
     "text": [
      "██████████████████████████████████████████████████████| (done) 100%\n",
      "Parse progress: |████████████████████████████████████████████████████████████████| (done) 100%\n",
      "gbm prediction progress: |███████████████████████████████████████████████████████| (done) 100%\n",
      "Parse progress: |████████████████████████████████████████████████████████████████| (done) 100%\n",
      "gbm prediction progress: |███████████████████████████████████████████████████████| (done) 100%\n"
     ]
    },
    {
     "name": "stderr",
     "output_type": "stream",
     "text": [
      "dist_matrix: 100%|##########| 28/28 [00:00<00:00, 105.70it/s]\n",
      "synth_matrix: 100%|##########| 28/28 [00:00<00:00, 236.69it/s]\n",
      "r_index: 100%|##########| 7/7 [00:00<00:00, 408.52it/s]\n",
      "dist_matrix: 100%|##########| 31/31 [00:00<00:00, 93.58it/s]\n",
      "synth_matrix: 100%|##########| 31/31 [00:00<00:00, 441.45it/s]\n",
      "r_index: 100%|##########| 29/29 [00:00<00:00, 464.09it/s]"
     ]
    },
    {
     "name": "stdout",
     "output_type": "stream",
     "text": [
      "Parse progress: |"
     ]
    },
    {
     "name": "stderr",
     "output_type": "stream",
     "text": [
      "\n"
     ]
    },
    {
     "name": "stdout",
     "output_type": "stream",
     "text": [
      "████████████████████████████████████████████████████████████████| (done) 100%\n",
      "gbm Model Build progress: |"
     ]
    },
    {
     "name": "stderr",
     "output_type": "stream",
     "text": [
      "/Users/gaskell/miniforge_x86_64/envs/ADPred_new/lib/python3.10/site-packages/h2o/estimators/estimator_base.py:208: RuntimeWarning: Dropping bad and constant columns: [pres_imuran, pres_minocin, init_group, num_tnf, num_nontnf]\n",
      "  warnings.warn(mesg[\"message\"], RuntimeWarning)\n"
     ]
    },
    {
     "name": "stdout",
     "output_type": "stream",
     "text": [
      "██████████████████████████████████████████████████████| (done) 100%\n",
      "Parse progress: |████████████████████████████████████████████████████████████████| (done) 100%\n",
      "gbm prediction progress: |███████████████████████████████████████████████████████| (done) 100%\n",
      "Parse progress: |████████████████████████████████████████████████████████████████| (done) 100%\n",
      "gbm prediction progress: |███████████████████████████████████████████████████████| (done) 100%\n"
     ]
    },
    {
     "name": "stderr",
     "output_type": "stream",
     "text": [
      "dist_matrix: 100%|##########| 20/20 [00:00<00:00, 157.37it/s]\n",
      "synth_matrix: 100%|##########| 20/20 [00:00<00:00, 173.05it/s]\n",
      "r_index: 100%|##########| 10/10 [00:00<00:00, 545.74it/s]\n",
      "dist_matrix: 100%|##########| 32/32 [00:00<00:00, 91.02it/s]\n",
      "synth_matrix: 100%|##########| 32/32 [00:00<00:00, 485.14it/s]\n",
      "r_index: 100%|##########| 27/27 [00:00<00:00, 461.50it/s]\n"
     ]
    },
    {
     "name": "stdout",
     "output_type": "stream",
     "text": [
      "Parse progress: |████████████████████████████████████████████████████████████████| (done) 100%\n",
      "gbm Model Build progress: |"
     ]
    },
    {
     "name": "stderr",
     "output_type": "stream",
     "text": [
      "/Users/gaskell/miniforge_x86_64/envs/ADPred_new/lib/python3.10/site-packages/h2o/estimators/estimator_base.py:208: RuntimeWarning: Dropping bad and constant columns: [hxchf, pres_imuran, pres_minocin, init_group, num_tnf, num_nontnf, hxtia]\n",
      "  warnings.warn(mesg[\"message\"], RuntimeWarning)\n"
     ]
    },
    {
     "name": "stdout",
     "output_type": "stream",
     "text": [
      "██████████████████████████████████████████████████████| (done) 100%\n",
      "Parse progress: |████████████████████████████████████████████████████████████████| (done) 100%\n",
      "gbm prediction progress: |███████████████████████████████████████████████████████| (done) 100%\n",
      "Parse progress: |████████████████████████████████████████████████████████████████| (done) 100%\n",
      "gbm prediction progress: |███████████████████████████████████████████████████████| (done) 100%\n"
     ]
    },
    {
     "name": "stderr",
     "output_type": "stream",
     "text": [
      "dist_matrix: 100%|##########| 22/22 [00:00<00:00, 144.42it/s]\n",
      "synth_matrix: 100%|##########| 22/22 [00:00<00:00, 163.74it/s]\n",
      "r_index: 100%|##########| 3/3 [00:00<00:00, 462.95it/s]\n",
      "dist_matrix: 100%|##########| 28/28 [00:00<00:00, 103.93it/s]\n",
      "synth_matrix: 100%|##########| 28/28 [00:00<00:00, 251.93it/s]\n",
      "r_index: 100%|##########| 7/7 [00:00<00:00, 467.07it/s]\n"
     ]
    },
    {
     "name": "stdout",
     "output_type": "stream",
     "text": [
      "Parse progress: |████████████████████████████████████████████████████████████████| (done) 100%\n",
      "gbm Model Build progress: |"
     ]
    },
    {
     "name": "stderr",
     "output_type": "stream",
     "text": [
      "/Users/gaskell/miniforge_x86_64/envs/ADPred_new/lib/python3.10/site-packages/h2o/estimators/estimator_base.py:208: RuntimeWarning: Dropping bad and constant columns: [hxchf, pres_imuran, pres_minocin, init_group, num_tnf, num_nontnf, hxtia]\n",
      "  warnings.warn(mesg[\"message\"], RuntimeWarning)\n"
     ]
    },
    {
     "name": "stdout",
     "output_type": "stream",
     "text": [
      "██████████████████████████████████████████████████████| (done) 100%\n",
      "Parse progress: |████████████████████████████████████████████████████████████████| (done) 100%\n",
      "gbm prediction progress: |███████████████████████████████████████████████████████| (done) 100%\n",
      "Parse progress: |████████████████████████████████████████████████████████████████| (done) 100%\n",
      "gbm prediction progress: |███████████████████████████████████████████████████████| (done) 100%\n"
     ]
    },
    {
     "name": "stderr",
     "output_type": "stream",
     "text": [
      "dist_matrix: 100%|##########| 28/28 [00:00<00:00, 104.00it/s]\n",
      "synth_matrix: 100%|##########| 28/28 [00:00<00:00, 157.16it/s]\n",
      "r_index: 100%|##########| 25/25 [00:00<00:00, 419.61it/s]"
     ]
    },
    {
     "name": "stdout",
     "output_type": "stream",
     "text": [
      "Parse progress: |"
     ]
    },
    {
     "name": "stderr",
     "output_type": "stream",
     "text": [
      "\n"
     ]
    },
    {
     "name": "stdout",
     "output_type": "stream",
     "text": [
      "████████████████████████████████████████████████████████████████| (done) 100%\n",
      "gbm Model Build progress: |"
     ]
    },
    {
     "name": "stderr",
     "output_type": "stream",
     "text": [
      "/Users/gaskell/miniforge_x86_64/envs/ADPred_new/lib/python3.10/site-packages/h2o/estimators/estimator_base.py:208: RuntimeWarning: Dropping bad and constant columns: [pres_imuran, pres_minocin, init_group, num_tnf, num_nontnf, hxtia]\n",
      "  warnings.warn(mesg[\"message\"], RuntimeWarning)\n"
     ]
    },
    {
     "name": "stdout",
     "output_type": "stream",
     "text": [
      "██████████████████████████████████████████████████████| (done) 100%\n",
      "Parse progress: |████████████████████████████████████████████████████████████████| (done) 100%\n",
      "gbm prediction progress: |███████████████████████████████████████████████████████| (done) 100%\n",
      "Parse progress: |████████████████████████████████████████████████████████████████| (done) 100%\n",
      "gbm prediction progress: |███████████████████████████████████████████████████████| (done) 100%\n"
     ]
    },
    {
     "name": "stderr",
     "output_type": "stream",
     "text": [
      "dist_matrix: 100%|##########| 22/22 [00:00<00:00, 144.93it/s]\n",
      "synth_matrix: 100%|##########| 22/22 [00:00<00:00, 169.11it/s]\n",
      "r_index: 100%|##########| 3/3 [00:00<00:00, 467.71it/s]\n",
      "dist_matrix: 100%|##########| 32/32 [00:00<00:00, 90.70it/s]\n",
      "synth_matrix: 100%|##########| 32/32 [00:00<00:00, 452.72it/s]\n",
      "r_index: 100%|##########| 27/27 [00:00<00:00, 450.49it/s]"
     ]
    },
    {
     "name": "stdout",
     "output_type": "stream",
     "text": [
      "Parse progress: |"
     ]
    },
    {
     "name": "stderr",
     "output_type": "stream",
     "text": [
      "\n"
     ]
    },
    {
     "name": "stdout",
     "output_type": "stream",
     "text": [
      "████████████████████████████████████████████████████████████████| (done) 100%\n",
      "gbm Model Build progress: |"
     ]
    },
    {
     "name": "stderr",
     "output_type": "stream",
     "text": [
      "/Users/gaskell/miniforge_x86_64/envs/ADPred_new/lib/python3.10/site-packages/h2o/estimators/estimator_base.py:208: RuntimeWarning: Dropping bad and constant columns: [hxchf, pres_imuran, pres_minocin, init_group, num_tnf, num_nontnf, hxtia]\n",
      "  warnings.warn(mesg[\"message\"], RuntimeWarning)\n"
     ]
    },
    {
     "name": "stdout",
     "output_type": "stream",
     "text": [
      "██████████████████████████████████████████████████████| (done) 100%\n",
      "Parse progress: |████████████████████████████████████████████████████████████████| (done) 100%\n",
      "gbm prediction progress: |███████████████████████████████████████████████████████| (done) 100%\n",
      "Parse progress: |████████████████████████████████████████████████████████████████| (done) 100%\n",
      "gbm prediction progress: |███████████████████████████████████████████████████████| (done) 100%\n"
     ]
    },
    {
     "name": "stderr",
     "output_type": "stream",
     "text": [
      "dist_matrix: 100%|##########| 22/22 [00:00<00:00, 144.79it/s]\n",
      "synth_matrix: 100%|##########| 22/22 [00:00<00:00, 155.07it/s]\n",
      "r_index: 100%|##########| 3/3 [00:00<00:00, 465.91it/s]\n",
      "dist_matrix: 100%|##########| 33/33 [00:00<00:00, 87.86it/s]\n",
      "synth_matrix: 100%|##########| 33/33 [00:00<00:00, 417.00it/s]\n",
      "r_index: 100%|##########| 25/25 [00:00<00:00, 444.03it/s]"
     ]
    },
    {
     "name": "stdout",
     "output_type": "stream",
     "text": [
      "Parse progress: |"
     ]
    },
    {
     "name": "stderr",
     "output_type": "stream",
     "text": [
      "\n"
     ]
    },
    {
     "name": "stdout",
     "output_type": "stream",
     "text": [
      "████████████████████████████████████████████████████████████████| (done) 100%\n",
      "gbm Model Build progress: |"
     ]
    },
    {
     "name": "stderr",
     "output_type": "stream",
     "text": [
      "/Users/gaskell/miniforge_x86_64/envs/ADPred_new/lib/python3.10/site-packages/h2o/estimators/estimator_base.py:208: RuntimeWarning: Dropping bad and constant columns: [hxchf, pres_imuran, pres_minocin, init_group, num_tnf, num_nontnf, hxtia]\n",
      "  warnings.warn(mesg[\"message\"], RuntimeWarning)\n"
     ]
    },
    {
     "name": "stdout",
     "output_type": "stream",
     "text": [
      "██████████████████████████████████████████████████████| (done) 100%\n",
      "Parse progress: |████████████████████████████████████████████████████████████████| (done) 100%\n",
      "gbm prediction progress: |███████████████████████████████████████████████████████| (done) 100%\n",
      "Parse progress: |████████████████████████████████████████████████████████████████| (done) 100%\n",
      "gbm prediction progress: |███████████████████████████████████████████████████████| (done) 100%\n"
     ]
    },
    {
     "name": "stderr",
     "output_type": "stream",
     "text": [
      "dist_matrix: 100%|##########| 24/24 [00:00<00:00, 131.19it/s]\n",
      "synth_matrix: 100%|##########| 24/24 [00:00<00:00, 248.36it/s]\n",
      "r_index: 100%|##########| 18/18 [00:00<00:00, 530.55it/s]\n",
      "dist_matrix: 100%|##########| 33/33 [00:00<00:00, 87.88it/s]\n",
      "synth_matrix: 100%|##########| 33/33 [00:00<00:00, 464.32it/s]\n",
      "r_index: 100%|##########| 25/25 [00:00<00:00, 486.24it/s]\n"
     ]
    },
    {
     "name": "stdout",
     "output_type": "stream",
     "text": [
      "Parse progress: |████████████████████████████████████████████████████████████████| (done) 100%\n",
      "gbm Model Build progress: |"
     ]
    },
    {
     "name": "stderr",
     "output_type": "stream",
     "text": [
      "/Users/gaskell/miniforge_x86_64/envs/ADPred_new/lib/python3.10/site-packages/h2o/estimators/estimator_base.py:208: RuntimeWarning: Dropping bad and constant columns: [hxchf, pres_imuran, pres_minocin, init_group, num_tnf, num_nontnf]\n",
      "  warnings.warn(mesg[\"message\"], RuntimeWarning)\n"
     ]
    },
    {
     "name": "stdout",
     "output_type": "stream",
     "text": [
      "██████████████████████████████████████████████████████| (done) 100%\n",
      "Parse progress: |████████████████████████████████████████████████████████████████| (done) 100%\n",
      "gbm prediction progress: |███████████████████████████████████████████████████████| (done) 100%\n",
      "Parse progress: |████████████████████████████████████████████████████████████████| (done) 100%\n",
      "gbm prediction progress: |███████████████████████████████████████████████████████| (done) 100%\n",
      "Parse progress: |████████████████████████████████████████████████████████████████| (done) 100%\n",
      "gbm prediction progress: |███████████████████████████████████████████████████████| (done) 100%\n"
     ]
    },
    {
     "name": "stderr",
     "output_type": "stream",
     "text": [
      "dist_matrix: 100%|##########| 22/22 [00:00<00:00, 144.17it/s]\n",
      "synth_matrix: 100%|##########| 22/22 [00:00<00:00, 169.27it/s]\n",
      "r_index: 100%|##########| 3/3 [00:00<00:00, 443.86it/s]\n",
      "dist_matrix: 100%|##########| 33/33 [00:00<00:00, 86.96it/s]\n",
      "synth_matrix: 100%|##########| 33/33 [00:00<00:00, 468.02it/s]\n",
      "r_index: 100%|##########| 25/25 [00:00<00:00, 456.52it/s]"
     ]
    },
    {
     "name": "stdout",
     "output_type": "stream",
     "text": [
      "Parse progress: |"
     ]
    },
    {
     "name": "stderr",
     "output_type": "stream",
     "text": [
      "\n"
     ]
    },
    {
     "name": "stdout",
     "output_type": "stream",
     "text": [
      "████████████████████████████████████████████████████████████████| (done) 100%\n",
      "gbm Model Build progress: |"
     ]
    },
    {
     "name": "stderr",
     "output_type": "stream",
     "text": [
      "/Users/gaskell/miniforge_x86_64/envs/ADPred_new/lib/python3.10/site-packages/h2o/estimators/estimator_base.py:208: RuntimeWarning: Dropping bad and constant columns: [pres_imuran, pres_minocin, init_group, num_tnf, num_nontnf, hxtia]\n",
      "  warnings.warn(mesg[\"message\"], RuntimeWarning)\n"
     ]
    },
    {
     "name": "stdout",
     "output_type": "stream",
     "text": [
      "██████████████████████████████████████████████████████| (done) 100%\n",
      "Parse progress: |████████████████████████████████████████████████████████████████| (done) 100%\n",
      "gbm prediction progress: |███████████████████████████████████████████████████████| (done) 100%\n",
      "Parse progress: |████████████████████████████████████████████████████████████████| (done) 100%\n",
      "gbm prediction progress: |███████████████████████████████████████████████████████| (done) 100%\n"
     ]
    },
    {
     "name": "stderr",
     "output_type": "stream",
     "text": [
      "dist_matrix: 100%|##########| 21/21 [00:00<00:00, 151.27it/s]\n",
      "synth_matrix: 100%|##########| 21/21 [00:00<00:00, 173.49it/s]\n",
      "r_index: 100%|##########| 6/6 [00:00<00:00, 480.26it/s]\n",
      "dist_matrix: 100%|##########| 33/33 [00:00<00:00, 87.97it/s]\n",
      "synth_matrix: 100%|##########| 33/33 [00:00<00:00, 491.00it/s]\n",
      "r_index: 100%|##########| 25/25 [00:00<00:00, 473.34it/s]\n"
     ]
    },
    {
     "name": "stdout",
     "output_type": "stream",
     "text": [
      "Parse progress: |████████████████████████████████████████████████████████████████| (done) 100%\n",
      "gbm Model Build progress: |"
     ]
    },
    {
     "name": "stderr",
     "output_type": "stream",
     "text": [
      "/Users/gaskell/miniforge_x86_64/envs/ADPred_new/lib/python3.10/site-packages/h2o/estimators/estimator_base.py:208: RuntimeWarning: Dropping bad and constant columns: [pres_imuran, pres_minocin, init_group, num_tnf, num_nontnf]\n",
      "  warnings.warn(mesg[\"message\"], RuntimeWarning)\n"
     ]
    },
    {
     "name": "stdout",
     "output_type": "stream",
     "text": [
      "██████████████████████████████████████████████████████| (done) 100%\n",
      "Parse progress: |████████████████████████████████████████████████████████████████| (done) 100%\n",
      "gbm prediction progress: |███████████████████████████████████████████████████████| (done) 100%\n",
      "Parse progress: |████████████████████████████████████████████████████████████████| (done) 100%\n",
      "gbm prediction progress: |███████████████████████████████████████████████████████| (done) 100%\n"
     ]
    },
    {
     "name": "stderr",
     "output_type": "stream",
     "text": [
      "dist_matrix: 100%|##########| 21/21 [00:00<00:00, 152.42it/s]\n",
      "synth_matrix: 100%|##########| 21/21 [00:00<00:00, 183.73it/s]\n",
      "r_index: 100%|##########| 6/6 [00:00<00:00, 556.80it/s]\n",
      "dist_matrix: 100%|##########| 32/32 [00:00<00:00, 94.41it/s]\n",
      "synth_matrix: 100%|##########| 32/32 [00:00<00:00, 465.07it/s]\n",
      "r_index: 100%|##########| 27/27 [00:00<00:00, 455.07it/s]"
     ]
    },
    {
     "name": "stdout",
     "output_type": "stream",
     "text": [
      "Parse progress: |"
     ]
    },
    {
     "name": "stderr",
     "output_type": "stream",
     "text": [
      "\n"
     ]
    },
    {
     "name": "stdout",
     "output_type": "stream",
     "text": [
      "████████████████████████████████████████████████████████████████| (done) 100%\n",
      "gbm Model Build progress: |"
     ]
    },
    {
     "name": "stderr",
     "output_type": "stream",
     "text": [
      "/Users/gaskell/miniforge_x86_64/envs/ADPred_new/lib/python3.10/site-packages/h2o/estimators/estimator_base.py:208: RuntimeWarning: Dropping bad and constant columns: [pres_imuran, pres_minocin, init_group, num_tnf, num_nontnf, hxtia]\n",
      "  warnings.warn(mesg[\"message\"], RuntimeWarning)\n"
     ]
    },
    {
     "name": "stdout",
     "output_type": "stream",
     "text": [
      "██████████████████████████████████████████████████████| (done) 100%\n",
      "Parse progress: |████████████████████████████████████████████████████████████████| (done) 100%\n",
      "gbm prediction progress: |███████████████████████████████████████████████████████| (done) 100%\n",
      "Parse progress: |████████████████████████████████████████████████████████████████| (done) 100%\n",
      "gbm prediction progress: |███████████████████████████████████████████████████████| (done) 100%\n"
     ]
    },
    {
     "name": "stderr",
     "output_type": "stream",
     "text": [
      "dist_matrix: 100%|##########| 24/24 [00:00<00:00, 131.20it/s]\n",
      "synth_matrix: 100%|##########| 24/24 [00:00<00:00, 257.45it/s]\n",
      "r_index: 100%|##########| 18/18 [00:00<00:00, 505.22it/s]\n",
      "dist_matrix: 100%|##########| 31/31 [00:00<00:00, 96.23it/s]\n",
      "synth_matrix: 100%|##########| 31/31 [00:00<00:00, 525.72it/s]\n",
      "r_index: 100%|##########| 29/29 [00:00<00:00, 476.14it/s]"
     ]
    },
    {
     "name": "stdout",
     "output_type": "stream",
     "text": [
      "Parse progress: |"
     ]
    },
    {
     "name": "stderr",
     "output_type": "stream",
     "text": [
      "\n"
     ]
    },
    {
     "name": "stdout",
     "output_type": "stream",
     "text": [
      "████████████████████████████████████████████████████████████████| (done) 100%\n",
      "gbm Model Build progress: |"
     ]
    },
    {
     "name": "stderr",
     "output_type": "stream",
     "text": [
      "/Users/gaskell/miniforge_x86_64/envs/ADPred_new/lib/python3.10/site-packages/h2o/estimators/estimator_base.py:208: RuntimeWarning: Dropping bad and constant columns: [hxchf, pres_imuran, pres_minocin, init_group, num_tnf, num_nontnf]\n",
      "  warnings.warn(mesg[\"message\"], RuntimeWarning)\n"
     ]
    },
    {
     "name": "stdout",
     "output_type": "stream",
     "text": [
      "██████████████████████████████████████████████████████| (done) 100%\n",
      "Parse progress: |████████████████████████████████████████████████████████████████| (done) 100%\n",
      "gbm prediction progress: |███████████████████████████████████████████████████████| (done) 100%\n",
      "Parse progress: |████████████████████████████████████████████████████████████████| (done) 100%\n",
      "gbm prediction progress: |███████████████████████████████████████████████████████| (done) 100%\n"
     ]
    },
    {
     "name": "stderr",
     "output_type": "stream",
     "text": [
      "dist_matrix: 100%|##########| 28/28 [00:00<00:00, 117.61it/s]\n",
      "synth_matrix: 100%|##########| 28/28 [00:00<00:00, 183.98it/s]\n",
      "r_index: 100%|##########| 25/25 [00:00<00:00, 493.14it/s]"
     ]
    },
    {
     "name": "stdout",
     "output_type": "stream",
     "text": [
      "Parse progress: |"
     ]
    },
    {
     "name": "stderr",
     "output_type": "stream",
     "text": [
      "\n"
     ]
    },
    {
     "name": "stdout",
     "output_type": "stream",
     "text": [
      "████████████████████████████████████████████████████████████████| (done) 100%\n",
      "gbm Model Build progress: |"
     ]
    },
    {
     "name": "stderr",
     "output_type": "stream",
     "text": [
      "/Users/gaskell/miniforge_x86_64/envs/ADPred_new/lib/python3.10/site-packages/h2o/estimators/estimator_base.py:208: RuntimeWarning: Dropping bad and constant columns: [hxchf, pres_imuran, pres_minocin, init_group, num_tnf, num_nontnf, hxstroke, hxunstab_ang]\n",
      "  warnings.warn(mesg[\"message\"], RuntimeWarning)\n"
     ]
    },
    {
     "name": "stdout",
     "output_type": "stream",
     "text": [
      "██████████████████████████████████████████████████████| (done) 100%\n",
      "Parse progress: |████████████████████████████████████████████████████████████████| (done) 100%\n",
      "gbm prediction progress: |███████████████████████████████████████████████████████| (done) 100%\n",
      "Parse progress: |████████████████████████████████████████████████████████████████| (done) 100%\n",
      "gbm prediction progress: |███████████████████████████████████████████████████████| (done) 100%\n"
     ]
    },
    {
     "name": "stderr",
     "output_type": "stream",
     "text": [
      "dist_matrix: 100%|##########| 27/27 [00:00<00:00, 122.57it/s]\n",
      "synth_matrix: 100%|##########| 27/27 [00:00<00:00, 284.81it/s]\n",
      "r_index: 100%|##########| 9/9 [00:00<00:00, 542.37it/s]\n",
      "dist_matrix: 100%|##########| 30/30 [00:00<00:00, 101.70it/s]\n",
      "synth_matrix: 100%|##########| 30/30 [00:00<00:00, 247.91it/s]"
     ]
    },
    {
     "name": "stdout",
     "output_type": "stream",
     "text": [
      "Parse progress: |"
     ]
    },
    {
     "name": "stderr",
     "output_type": "stream",
     "text": [
      "\n"
     ]
    },
    {
     "name": "stdout",
     "output_type": "stream",
     "text": [
      "████████████████████████████████████████████████████████████████| (done) 100%\n",
      "gbm Model Build progress: |"
     ]
    },
    {
     "name": "stderr",
     "output_type": "stream",
     "text": [
      "/Users/gaskell/miniforge_x86_64/envs/ADPred_new/lib/python3.10/site-packages/h2o/estimators/estimator_base.py:208: RuntimeWarning: Dropping bad and constant columns: [pres_imuran, pres_minocin, init_group, num_tnf, num_nontnf, hxtia]\n",
      "  warnings.warn(mesg[\"message\"], RuntimeWarning)\n"
     ]
    },
    {
     "name": "stdout",
     "output_type": "stream",
     "text": [
      "██████████████████████████████████████████████████████| (done) 100%\n",
      "Parse progress: |████████████████████████████████████████████████████████████████| (done) 100%\n",
      "gbm prediction progress: |███████████████████████████████████████████████████████| (done) 100%\n",
      "Parse progress: |████████████████████████████████████████████████████████████████| (done) 100%\n",
      "gbm prediction progress: |███████████████████████████████████████████████████████| (done) 100%\n"
     ]
    },
    {
     "name": "stderr",
     "output_type": "stream",
     "text": [
      "dist_matrix: 100%|##########| 22/22 [00:00<00:00, 151.29it/s]\n",
      "synth_matrix: 100%|##########| 22/22 [00:00<00:00, 175.15it/s]\n",
      "r_index: 100%|##########| 3/3 [00:00<00:00, 795.28it/s]\n",
      "dist_matrix: 100%|##########| 28/28 [00:00<00:00, 107.76it/s]\n",
      "synth_matrix: 100%|##########| 28/28 [00:00<00:00, 249.11it/s]\n",
      "r_index: 100%|##########| 7/7 [00:00<00:00, 590.01it/s]\n"
     ]
    },
    {
     "name": "stdout",
     "output_type": "stream",
     "text": [
      "Parse progress: |████████████████████████████████████████████████████████████████| (done) 100%\n",
      "gbm Model Build progress: |"
     ]
    },
    {
     "name": "stderr",
     "output_type": "stream",
     "text": [
      "/Users/gaskell/miniforge_x86_64/envs/ADPred_new/lib/python3.10/site-packages/h2o/estimators/estimator_base.py:208: RuntimeWarning: Dropping bad and constant columns: [pres_imuran, pres_minocin, init_group, num_tnf, num_nontnf]\n",
      "  warnings.warn(mesg[\"message\"], RuntimeWarning)\n"
     ]
    },
    {
     "name": "stdout",
     "output_type": "stream",
     "text": [
      "██████████████████████████████████████████████████████| (done) 100%\n",
      "Parse progress: |████████████████████████████████████████████████████████████████| (done) 100%\n",
      "gbm prediction progress: |███████████████████████████████████████████████████████| (done) 100%\n",
      "Parse progress: |████████████████████████████████████████████████████████████████| (done) 100%\n",
      "gbm prediction progress: |███████████████████████████████████████████████████████| (done) 100%\n"
     ]
    },
    {
     "name": "stderr",
     "output_type": "stream",
     "text": [
      "dist_matrix: 100%|##########| 22/22 [00:00<00:00, 150.24it/s]\n",
      "synth_matrix: 100%|##########| 22/22 [00:00<00:00, 175.89it/s]\n",
      "r_index: 100%|##########| 3/3 [00:00<00:00, 429.01it/s]\n",
      "dist_matrix: 100%|##########| 33/33 [00:00<00:00, 92.39it/s]\n",
      "synth_matrix: 100%|##########| 33/33 [00:00<00:00, 446.72it/s]\n",
      "r_index: 100%|##########| 25/25 [00:00<00:00, 458.79it/s]\n"
     ]
    },
    {
     "name": "stdout",
     "output_type": "stream",
     "text": [
      "Parse progress: |████████████████████████████████████████████████████████████████| (done) 100%\n",
      "gbm Model Build progress: |"
     ]
    },
    {
     "name": "stderr",
     "output_type": "stream",
     "text": [
      "/Users/gaskell/miniforge_x86_64/envs/ADPred_new/lib/python3.10/site-packages/h2o/estimators/estimator_base.py:208: RuntimeWarning: Dropping bad and constant columns: [hxchf, pres_imuran, pres_minocin, init_group, num_tnf, num_nontnf, hxtia]\n",
      "  warnings.warn(mesg[\"message\"], RuntimeWarning)\n"
     ]
    },
    {
     "name": "stdout",
     "output_type": "stream",
     "text": [
      "██████████████████████████████████████████████████████| (done) 100%\n",
      "Parse progress: |████████████████████████████████████████████████████████████████| (done) 100%\n",
      "gbm prediction progress: |███████████████████████████████████████████████████████| (done) 100%\n",
      "Parse progress: |████████████████████████████████████████████████████████████████| (done) 100%\n",
      "gbm prediction progress: |███████████████████████████████████████████████████████| (done) 100%\n"
     ]
    },
    {
     "name": "stderr",
     "output_type": "stream",
     "text": [
      "dist_matrix: 100%|##########| 22/22 [00:00<00:00, 152.64it/s]\n",
      "synth_matrix: 100%|##########| 22/22 [00:00<00:00, 172.00it/s]\n",
      "r_index: 100%|##########| 3/3 [00:00<00:00, 646.70it/s]\n",
      "dist_matrix: 100%|##########| 29/29 [00:00<00:00, 104.73it/s]\n",
      "synth_matrix: 100%|##########| 29/29 [00:00<00:00, 215.90it/s]\n",
      "r_index: 100%|##########| 3/3 [00:00<00:00, 455.85it/s]\n"
     ]
    },
    {
     "name": "stdout",
     "output_type": "stream",
     "text": [
      "Parse progress: |████████████████████████████████████████████████████████████████| (done) 100%\n",
      "gbm Model Build progress: |"
     ]
    },
    {
     "name": "stderr",
     "output_type": "stream",
     "text": [
      "/Users/gaskell/miniforge_x86_64/envs/ADPred_new/lib/python3.10/site-packages/h2o/estimators/estimator_base.py:208: RuntimeWarning: Dropping bad and constant columns: [hxchf, pres_imuran, pres_minocin, init_group, num_tnf, num_nontnf, hxtia]\n",
      "  warnings.warn(mesg[\"message\"], RuntimeWarning)\n"
     ]
    },
    {
     "name": "stdout",
     "output_type": "stream",
     "text": [
      "██████████████████████████████████████████████████████| (done) 100%\n",
      "Parse progress: |████████████████████████████████████████████████████████████████| (done) 100%\n",
      "gbm prediction progress: |███████████████████████████████████████████████████████| (done) 100%\n",
      "Parse progress: |████████████████████████████████████████████████████████████████| (done) 100%\n",
      "gbm prediction progress: |███████████████████████████████████████████████████████| (done) 100%\n"
     ]
    },
    {
     "name": "stderr",
     "output_type": "stream",
     "text": [
      "dist_matrix: 100%|##########| 22/22 [00:00<00:00, 154.97it/s]\n",
      "synth_matrix: 100%|##########| 22/22 [00:00<00:00, 189.74it/s]\n",
      "r_index: 100%|##########| 3/3 [00:00<00:00, 421.34it/s]\n",
      "dist_matrix: 100%|##########| 30/30 [00:00<00:00, 100.71it/s]\n",
      "synth_matrix: 100%|##########| 30/30 [00:00<00:00, 232.77it/s]"
     ]
    },
    {
     "name": "stdout",
     "output_type": "stream",
     "text": [
      "Parse progress: |"
     ]
    },
    {
     "name": "stderr",
     "output_type": "stream",
     "text": [
      "\n"
     ]
    },
    {
     "name": "stdout",
     "output_type": "stream",
     "text": [
      "████████████████████████████████████████████████████████████████| (done) 100%\n",
      "gbm Model Build progress: |"
     ]
    },
    {
     "name": "stderr",
     "output_type": "stream",
     "text": [
      "/Users/gaskell/miniforge_x86_64/envs/ADPred_new/lib/python3.10/site-packages/h2o/estimators/estimator_base.py:208: RuntimeWarning: Dropping bad and constant columns: [pres_imuran, pres_minocin, init_group, num_tnf, num_nontnf, hxtia]\n",
      "  warnings.warn(mesg[\"message\"], RuntimeWarning)\n"
     ]
    },
    {
     "name": "stdout",
     "output_type": "stream",
     "text": [
      "██████████████████████████████████████████████████████| (done) 100%\n",
      "Parse progress: |████████████████████████████████████████████████████████████████| (done) 100%\n",
      "gbm prediction progress: |███████████████████████████████████████████████████████| (done) 100%\n",
      "Parse progress: |████████████████████████████████████████████████████████████████| (done) 100%\n",
      "gbm prediction progress: |███████████████████████████████████████████████████████| (done) 100%\n"
     ]
    },
    {
     "name": "stderr",
     "output_type": "stream",
     "text": [
      "dist_matrix: 100%|##########| 22/22 [00:00<00:00, 152.76it/s]\n",
      "synth_matrix: 100%|##########| 22/22 [00:00<00:00, 179.61it/s]\n",
      "r_index: 100%|##########| 3/3 [00:00<00:00, 518.33it/s]\n",
      "dist_matrix: 100%|##########| 33/33 [00:00<00:00, 91.50it/s]\n",
      "synth_matrix: 100%|##########| 33/33 [00:00<00:00, 487.57it/s]\n",
      "r_index: 100%|##########| 25/25 [00:00<00:00, 493.46it/s]"
     ]
    },
    {
     "name": "stdout",
     "output_type": "stream",
     "text": [
      "Parse progress: |"
     ]
    },
    {
     "name": "stderr",
     "output_type": "stream",
     "text": [
      "\n"
     ]
    },
    {
     "name": "stdout",
     "output_type": "stream",
     "text": [
      "████████████████████████████████████████████████████████████████| (done) 100%\n",
      "gbm Model Build progress: |"
     ]
    },
    {
     "name": "stderr",
     "output_type": "stream",
     "text": [
      "/Users/gaskell/miniforge_x86_64/envs/ADPred_new/lib/python3.10/site-packages/h2o/estimators/estimator_base.py:208: RuntimeWarning: Dropping bad and constant columns: [hxchf, pres_imuran, pres_minocin, init_group, num_tnf, num_nontnf]\n",
      "  warnings.warn(mesg[\"message\"], RuntimeWarning)\n"
     ]
    },
    {
     "name": "stdout",
     "output_type": "stream",
     "text": [
      "██████████████████████████████████████████████████████| (done) 100%\n",
      "Parse progress: |████████████████████████████████████████████████████████████████| (done) 100%\n",
      "gbm prediction progress: |███████████████████████████████████████████████████████| (done) 100%\n",
      "Parse progress: |████████████████████████████████████████████████████████████████| (done) 100%\n",
      "gbm prediction progress: |███████████████████████████████████████████████████████| (done) 100%\n"
     ]
    },
    {
     "name": "stderr",
     "output_type": "stream",
     "text": [
      "dist_matrix: 100%|##########| 24/24 [00:00<00:00, 139.37it/s]\n",
      "synth_matrix: 100%|##########| 24/24 [00:00<00:00, 268.37it/s]\n",
      "r_index: 100%|##########| 18/18 [00:00<00:00, 513.66it/s]\n",
      "dist_matrix: 100%|##########| 30/30 [00:00<00:00, 101.39it/s]\n",
      "synth_matrix: 100%|##########| 30/30 [00:00<00:00, 262.24it/s]\n"
     ]
    },
    {
     "name": "stdout",
     "output_type": "stream",
     "text": [
      "Parse progress: |████████████████████████████████████████████████████████████████| (done) 100%\n",
      "gbm Model Build progress: |"
     ]
    },
    {
     "name": "stderr",
     "output_type": "stream",
     "text": [
      "/Users/gaskell/miniforge_x86_64/envs/ADPred_new/lib/python3.10/site-packages/h2o/estimators/estimator_base.py:208: RuntimeWarning: Dropping bad and constant columns: [hxchf, pres_imuran, pres_minocin, init_group, num_tnf, num_nontnf, hxtia, hxunstab_ang]\n",
      "  warnings.warn(mesg[\"message\"], RuntimeWarning)\n"
     ]
    },
    {
     "name": "stdout",
     "output_type": "stream",
     "text": [
      "██████████████████████████████████████████████████████| (done) 100%\n",
      "Parse progress: |████████████████████████████████████████████████████████████████| (done) 100%\n",
      "gbm prediction progress: |███████████████████████████████████████████████████████| (done) 100%\n",
      "Parse progress: |████████████████████████████████████████████████████████████████| (done) 100%\n",
      "gbm prediction progress: |███████████████████████████████████████████████████████| (done) 100%\n"
     ]
    },
    {
     "name": "stderr",
     "output_type": "stream",
     "text": [
      "dist_matrix: 100%|##########| 20/20 [00:00<00:00, 166.20it/s]\n",
      "synth_matrix: 100%|##########| 20/20 [00:00<00:00, 176.61it/s]\n",
      "r_index: 100%|##########| 10/10 [00:00<00:00, 533.07it/s]\n",
      "dist_matrix: 100%|##########| 32/32 [00:00<00:00, 95.01it/s]\n",
      "synth_matrix: 100%|##########| 32/32 [00:00<00:00, 491.45it/s]\n",
      "r_index: 100%|##########| 27/27 [00:00<00:00, 490.16it/s]"
     ]
    },
    {
     "name": "stdout",
     "output_type": "stream",
     "text": [
      "Parse progress: |"
     ]
    },
    {
     "name": "stderr",
     "output_type": "stream",
     "text": [
      "\n"
     ]
    },
    {
     "name": "stdout",
     "output_type": "stream",
     "text": [
      "████████████████████████████████████████████████████████████████| (done) 100%\n",
      "gbm Model Build progress: |"
     ]
    },
    {
     "name": "stderr",
     "output_type": "stream",
     "text": [
      "/Users/gaskell/miniforge_x86_64/envs/ADPred_new/lib/python3.10/site-packages/h2o/estimators/estimator_base.py:208: RuntimeWarning: Dropping bad and constant columns: [pres_imuran, pres_minocin, init_group, num_tnf, num_nontnf, hxtia]\n",
      "  warnings.warn(mesg[\"message\"], RuntimeWarning)\n"
     ]
    },
    {
     "name": "stdout",
     "output_type": "stream",
     "text": [
      "██████████████████████████████████████████████████████| (done) 100%\n",
      "Parse progress: |████████████████████████████████████████████████████████████████| (done) 100%\n",
      "gbm prediction progress: |███████████████████████████████████████████████████████| (done) 100%\n",
      "Parse progress: |████████████████████████████████████████████████████████████████| (done) 100%\n",
      "gbm prediction progress: |███████████████████████████████████████████████████████| (done) 100%\n"
     ]
    },
    {
     "name": "stderr",
     "output_type": "stream",
     "text": [
      "dist_matrix: 100%|##########| 21/21 [00:00<00:00, 154.45it/s]\n",
      "synth_matrix: 100%|##########| 21/21 [00:00<00:00, 169.44it/s]\n",
      "r_index: 100%|##########| 6/6 [00:00<00:00, 478.69it/s]"
     ]
    },
    {
     "name": "stdout",
     "output_type": "stream",
     "text": [
      "Parse progress: |"
     ]
    },
    {
     "name": "stderr",
     "output_type": "stream",
     "text": [
      "\n"
     ]
    },
    {
     "name": "stdout",
     "output_type": "stream",
     "text": [
      "████████████████████████████████████████████████████████████████| (done) 100%\n",
      "gbm Model Build progress: |"
     ]
    },
    {
     "name": "stderr",
     "output_type": "stream",
     "text": [
      "/Users/gaskell/miniforge_x86_64/envs/ADPred_new/lib/python3.10/site-packages/h2o/estimators/estimator_base.py:208: RuntimeWarning: Dropping bad and constant columns: [pres_imuran, pres_minocin, init_group, num_tnf, num_nontnf]\n",
      "  warnings.warn(mesg[\"message\"], RuntimeWarning)\n"
     ]
    },
    {
     "name": "stdout",
     "output_type": "stream",
     "text": [
      "██████████████████████████████████████████████████████| (done) 100%\n",
      "Parse progress: |████████████████████████████████████████████████████████████████| (done) 100%\n",
      "gbm prediction progress: |███████████████████████████████████████████████████████| (done) 100%\n",
      "Parse progress: |████████████████████████████████████████████████████████████████| (done) 100%\n",
      "gbm prediction progress: |███████████████████████████████████████████████████████| (done) 100%\n"
     ]
    },
    {
     "name": "stderr",
     "output_type": "stream",
     "text": [
      "dist_matrix: 100%|##########| 21/21 [00:00<00:00, 156.78it/s]\n",
      "synth_matrix: 100%|##########| 21/21 [00:00<00:00, 166.12it/s]\n",
      "r_index: 100%|##########| 6/6 [00:00<00:00, 506.80it/s]"
     ]
    },
    {
     "name": "stdout",
     "output_type": "stream",
     "text": [
      "Parse progress: |"
     ]
    },
    {
     "name": "stderr",
     "output_type": "stream",
     "text": [
      "\n"
     ]
    },
    {
     "name": "stdout",
     "output_type": "stream",
     "text": [
      "████████████████████████████████████████████████████████████████| (done) 100%\n",
      "gbm Model Build progress: |"
     ]
    },
    {
     "name": "stderr",
     "output_type": "stream",
     "text": [
      "/Users/gaskell/miniforge_x86_64/envs/ADPred_new/lib/python3.10/site-packages/h2o/estimators/estimator_base.py:208: RuntimeWarning: Dropping bad and constant columns: [pres_imuran, pres_minocin, init_group, num_tnf, num_nontnf]\n",
      "  warnings.warn(mesg[\"message\"], RuntimeWarning)\n"
     ]
    },
    {
     "name": "stdout",
     "output_type": "stream",
     "text": [
      "██████████████████████████████████████████████████████| (done) 100%\n",
      "Parse progress: |████████████████████████████████████████████████████████████████| (done) 100%\n",
      "gbm prediction progress: |███████████████████████████████████████████████████████| (done) 100%\n",
      "Parse progress: |████████████████████████████████████████████████████████████████| (done) 100%\n",
      "gbm prediction progress: |███████████████████████████████████████████████████████| (done) 100%\n"
     ]
    },
    {
     "name": "stderr",
     "output_type": "stream",
     "text": [
      "dist_matrix: 100%|##########| 22/22 [00:00<00:00, 150.41it/s]\n",
      "synth_matrix: 100%|##########| 22/22 [00:00<00:00, 191.79it/s]\n",
      "r_index: 100%|##########| 3/3 [00:00<00:00, 507.19it/s]\n",
      "dist_matrix: 100%|##########| 31/31 [00:00<00:00, 97.48it/s]\n",
      "synth_matrix: 100%|##########| 31/31 [00:00<00:00, 498.63it/s]\n",
      "r_index: 100%|##########| 29/29 [00:00<00:00, 503.41it/s]"
     ]
    },
    {
     "name": "stdout",
     "output_type": "stream",
     "text": [
      "Parse progress: |"
     ]
    },
    {
     "name": "stderr",
     "output_type": "stream",
     "text": [
      "\n"
     ]
    },
    {
     "name": "stdout",
     "output_type": "stream",
     "text": [
      "████████████████████████████████████████████████████████████████| (done) 100%\n",
      "gbm Model Build progress: |"
     ]
    },
    {
     "name": "stderr",
     "output_type": "stream",
     "text": [
      "/Users/gaskell/miniforge_x86_64/envs/ADPred_new/lib/python3.10/site-packages/h2o/estimators/estimator_base.py:208: RuntimeWarning: Dropping bad and constant columns: [pres_imuran, pres_minocin, init_group, num_tnf, num_nontnf, hxtia]\n",
      "  warnings.warn(mesg[\"message\"], RuntimeWarning)\n"
     ]
    },
    {
     "name": "stdout",
     "output_type": "stream",
     "text": [
      "██████████████████████████████████████████████████████| (done) 100%\n",
      "Parse progress: |████████████████████████████████████████████████████████████████| (done) 100%\n",
      "gbm prediction progress: |███████████████████████████████████████████████████████| (done) 100%\n",
      "Parse progress: |████████████████████████████████████████████████████████████████| (done) 100%\n",
      "gbm prediction progress: |███████████████████████████████████████████████████████| (done) 100%\n"
     ]
    },
    {
     "name": "stderr",
     "output_type": "stream",
     "text": [
      "dist_matrix: 100%|##########| 30/30 [00:00<00:00, 101.52it/s]\n",
      "synth_matrix: 100%|##########| 30/30 [00:00<00:00, 157.57it/s]\n",
      "r_index: 100%|##########| 16/16 [00:00<00:00, 482.18it/s]"
     ]
    },
    {
     "name": "stdout",
     "output_type": "stream",
     "text": [
      "Parse progress: |"
     ]
    },
    {
     "name": "stderr",
     "output_type": "stream",
     "text": [
      "\n"
     ]
    },
    {
     "name": "stdout",
     "output_type": "stream",
     "text": [
      "████████████████████████████████████████████████████████████████| (done) 100%\n",
      "gbm Model Build progress: |"
     ]
    },
    {
     "name": "stderr",
     "output_type": "stream",
     "text": [
      "/Users/gaskell/miniforge_x86_64/envs/ADPred_new/lib/python3.10/site-packages/h2o/estimators/estimator_base.py:208: RuntimeWarning: Dropping bad and constant columns: [hxchf, pres_imuran, hxcopd, pres_minocin, init_group, num_tnf, num_nontnf, hxtia]\n",
      "  warnings.warn(mesg[\"message\"], RuntimeWarning)\n"
     ]
    },
    {
     "name": "stdout",
     "output_type": "stream",
     "text": [
      "██████████████████████████████████████████████████████| (done) 100%\n",
      "Parse progress: |████████████████████████████████████████████████████████████████| (done) 100%\n",
      "gbm prediction progress: |███████████████████████████████████████████████████████| (done) 100%\n",
      "Parse progress: |████████████████████████████████████████████████████████████████| (done) 100%\n",
      "gbm prediction progress: |███████████████████████████████████████████████████████| (done) 100%\n"
     ]
    },
    {
     "name": "stderr",
     "output_type": "stream",
     "text": [
      "dist_matrix: 100%|##########| 21/21 [00:00<00:00, 155.68it/s]\n",
      "synth_matrix: 100%|##########| 21/21 [00:00<00:00, 178.55it/s]\n",
      "r_index: 100%|##########| 6/6 [00:00<00:00, 438.44it/s]\n",
      "dist_matrix: 100%|##########| 30/30 [00:00<00:00, 103.79it/s]\n",
      "synth_matrix: 100%|##########| 30/30 [00:00<00:00, 234.75it/s]"
     ]
    },
    {
     "name": "stdout",
     "output_type": "stream",
     "text": [
      "Parse progress: |"
     ]
    },
    {
     "name": "stderr",
     "output_type": "stream",
     "text": [
      "\n"
     ]
    },
    {
     "name": "stdout",
     "output_type": "stream",
     "text": [
      "████████████████████████████████████████████████████████████████| (done) 100%\n",
      "gbm Model Build progress: |"
     ]
    },
    {
     "name": "stderr",
     "output_type": "stream",
     "text": [
      "/Users/gaskell/miniforge_x86_64/envs/ADPred_new/lib/python3.10/site-packages/h2o/estimators/estimator_base.py:208: RuntimeWarning: Dropping bad and constant columns: [pres_imuran, pres_minocin, init_group, num_tnf, num_nontnf]\n",
      "  warnings.warn(mesg[\"message\"], RuntimeWarning)\n"
     ]
    },
    {
     "name": "stdout",
     "output_type": "stream",
     "text": [
      "██████████████████████████████████████████████████████| (done) 100%\n",
      "Parse progress: |████████████████████████████████████████████████████████████████| (done) 100%\n",
      "gbm prediction progress: |███████████████████████████████████████████████████████| (done) 100%\n",
      "Parse progress: |████████████████████████████████████████████████████████████████| (done) 100%\n",
      "gbm prediction progress: |███████████████████████████████████████████████████████| (done) 100%\n"
     ]
    },
    {
     "name": "stderr",
     "output_type": "stream",
     "text": [
      "dist_matrix: 100%|##########| 22/22 [00:00<00:00, 154.47it/s]\n",
      "synth_matrix: 100%|##########| 22/22 [00:00<00:00, 171.57it/s]\n",
      "r_index: 100%|##########| 3/3 [00:00<00:00, 633.33it/s]\n",
      "dist_matrix: 100%|##########| 29/29 [00:00<00:00, 104.70it/s]\n",
      "synth_matrix: 100%|##########| 29/29 [00:00<00:00, 243.89it/s]\n",
      "r_index: 100%|##########| 3/3 [00:00<00:00, 586.40it/s]\n"
     ]
    },
    {
     "name": "stdout",
     "output_type": "stream",
     "text": [
      "Parse progress: |████████████████████████████████████████████████████████████████| (done) 100%\n",
      "gbm Model Build progress: |"
     ]
    },
    {
     "name": "stderr",
     "output_type": "stream",
     "text": [
      "/Users/gaskell/miniforge_x86_64/envs/ADPred_new/lib/python3.10/site-packages/h2o/estimators/estimator_base.py:208: RuntimeWarning: Dropping bad and constant columns: [hxchf, pres_imuran, pres_minocin, init_group, num_tnf, num_nontnf, hxtia]\n",
      "  warnings.warn(mesg[\"message\"], RuntimeWarning)\n"
     ]
    },
    {
     "name": "stdout",
     "output_type": "stream",
     "text": [
      "██████████████████████████████████████████████████████| (done) 100%\n",
      "Parse progress: |████████████████████████████████████████████████████████████████| (done) 100%\n",
      "gbm prediction progress: |███████████████████████████████████████████████████████| (done) 100%\n",
      "Parse progress: |████████████████████████████████████████████████████████████████| (done) 100%\n",
      "gbm prediction progress: |███████████████████████████████████████████████████████| (done) 100%\n"
     ]
    },
    {
     "name": "stderr",
     "output_type": "stream",
     "text": [
      "dist_matrix: 100%|##########| 24/24 [00:00<00:00, 138.99it/s]\n",
      "synth_matrix: 100%|##########| 24/24 [00:00<00:00, 273.43it/s]\n",
      "r_index: 100%|##########| 18/18 [00:00<00:00, 620.67it/s]\n",
      "dist_matrix: 100%|##########| 33/33 [00:00<00:00, 93.31it/s]\n",
      "synth_matrix: 100%|##########| 33/33 [00:00<00:00, 478.17it/s]\n",
      "r_index: 100%|##########| 25/25 [00:00<00:00, 499.21it/s]"
     ]
    },
    {
     "name": "stdout",
     "output_type": "stream",
     "text": [
      "Parse progress: |"
     ]
    },
    {
     "name": "stderr",
     "output_type": "stream",
     "text": [
      "\n"
     ]
    },
    {
     "name": "stdout",
     "output_type": "stream",
     "text": [
      "████████████████████████████████████████████████████████████████| (done) 100%\n",
      "gbm Model Build progress: |"
     ]
    },
    {
     "name": "stderr",
     "output_type": "stream",
     "text": [
      "/Users/gaskell/miniforge_x86_64/envs/ADPred_new/lib/python3.10/site-packages/h2o/estimators/estimator_base.py:208: RuntimeWarning: Dropping bad and constant columns: [hxchf, pres_imuran, pres_minocin, init_group, num_tnf, num_nontnf]\n",
      "  warnings.warn(mesg[\"message\"], RuntimeWarning)\n"
     ]
    },
    {
     "name": "stdout",
     "output_type": "stream",
     "text": [
      "██████████████████████████████████████████████████████| (done) 100%\n",
      "Parse progress: |████████████████████████████████████████████████████████████████| (done) 100%\n",
      "gbm prediction progress: |███████████████████████████████████████████████████████| (done) 100%\n",
      "Parse progress: |████████████████████████████████████████████████████████████████| (done) 100%\n",
      "gbm prediction progress: |███████████████████████████████████████████████████████| (done) 100%\n"
     ]
    },
    {
     "name": "stderr",
     "output_type": "stream",
     "text": [
      "dist_matrix: 100%|##########| 20/20 [00:00<00:00, 168.81it/s]\n",
      "synth_matrix: 100%|##########| 20/20 [00:00<00:00, 183.32it/s]\n",
      "r_index: 100%|##########| 10/10 [00:00<00:00, 453.39it/s]\n",
      "dist_matrix: 100%|##########| 30/30 [00:00<00:00, 104.75it/s]\n",
      "synth_matrix: 100%|##########| 30/30 [00:00<00:00, 248.66it/s]"
     ]
    },
    {
     "name": "stdout",
     "output_type": "stream",
     "text": [
      "Parse progress: |"
     ]
    },
    {
     "name": "stderr",
     "output_type": "stream",
     "text": [
      "\n"
     ]
    },
    {
     "name": "stdout",
     "output_type": "stream",
     "text": [
      "████████████████████████████████████████████████████████████████| (done) 100%\n",
      "gbm Model Build progress: |"
     ]
    },
    {
     "name": "stderr",
     "output_type": "stream",
     "text": [
      "/Users/gaskell/miniforge_x86_64/envs/ADPred_new/lib/python3.10/site-packages/h2o/estimators/estimator_base.py:208: RuntimeWarning: Dropping bad and constant columns: [hxchf, pres_imuran, pres_minocin, init_group, num_tnf, num_nontnf, hxunstab_ang]\n",
      "  warnings.warn(mesg[\"message\"], RuntimeWarning)\n"
     ]
    },
    {
     "name": "stdout",
     "output_type": "stream",
     "text": [
      "██████████████████████████████████████████████████████| (done) 100%\n",
      "Parse progress: |████████████████████████████████████████████████████████████████| (done) 100%\n",
      "gbm prediction progress: |███████████████████████████████████████████████████████| (done) 100%\n",
      "Parse progress: |████████████████████████████████████████████████████████████████| (done) 100%\n",
      "gbm prediction progress: |███████████████████████████████████████████████████████| (done) 100%\n"
     ]
    },
    {
     "name": "stderr",
     "output_type": "stream",
     "text": [
      "dist_matrix: 100%|##########| 24/24 [00:00<00:00, 140.27it/s]\n",
      "synth_matrix: 100%|##########| 24/24 [00:00<00:00, 267.22it/s]\n",
      "r_index: 100%|##########| 18/18 [00:00<00:00, 561.12it/s]\n",
      "dist_matrix: 100%|##########| 31/31 [00:00<00:00, 101.22it/s]\n",
      "synth_matrix: 100%|##########| 31/31 [00:00<00:00, 519.14it/s]\n",
      "r_index: 100%|##########| 29/29 [00:00<00:00, 480.29it/s]"
     ]
    },
    {
     "name": "stdout",
     "output_type": "stream",
     "text": [
      "Parse progress: |"
     ]
    },
    {
     "name": "stderr",
     "output_type": "stream",
     "text": [
      "\n"
     ]
    },
    {
     "name": "stdout",
     "output_type": "stream",
     "text": [
      "████████████████████████████████████████████████████████████████| (done) 100%\n",
      "gbm Model Build progress: |"
     ]
    },
    {
     "name": "stderr",
     "output_type": "stream",
     "text": [
      "/Users/gaskell/miniforge_x86_64/envs/ADPred_new/lib/python3.10/site-packages/h2o/estimators/estimator_base.py:208: RuntimeWarning: Dropping bad and constant columns: [hxchf, pres_imuran, pres_minocin, init_group, num_tnf, num_nontnf, hxtia]\n",
      "  warnings.warn(mesg[\"message\"], RuntimeWarning)\n"
     ]
    },
    {
     "name": "stdout",
     "output_type": "stream",
     "text": [
      "██████████████████████████████████████████████████████| (done) 100%\n",
      "Parse progress: |████████████████████████████████████████████████████████████████| (done) 100%\n",
      "gbm prediction progress: |███████████████████████████████████████████████████████| (done) 100%\n",
      "Parse progress: |████████████████████████████████████████████████████████████████| (done) 100%\n",
      "gbm prediction progress: |███████████████████████████████████████████████████████| (done) 100%\n"
     ]
    },
    {
     "name": "stderr",
     "output_type": "stream",
     "text": [
      "dist_matrix: 100%|##########| 21/21 [00:00<00:00, 159.42it/s]\n",
      "synth_matrix: 100%|##########| 21/21 [00:00<00:00, 176.81it/s]\n",
      "r_index: 100%|##########| 6/6 [00:00<00:00, 507.61it/s]\n",
      "dist_matrix: 100%|##########| 32/32 [00:00<00:00, 95.31it/s]\n",
      "synth_matrix: 100%|##########| 32/32 [00:00<00:00, 460.65it/s]\n",
      "r_index: 100%|##########| 27/27 [00:00<00:00, 497.30it/s]"
     ]
    },
    {
     "name": "stdout",
     "output_type": "stream",
     "text": [
      "Parse progress: |"
     ]
    },
    {
     "name": "stderr",
     "output_type": "stream",
     "text": [
      "\n"
     ]
    },
    {
     "name": "stdout",
     "output_type": "stream",
     "text": [
      "████████████████████████████████████████████████████████████████| (done) 100%\n",
      "gbm Model Build progress: |"
     ]
    },
    {
     "name": "stderr",
     "output_type": "stream",
     "text": [
      "/Users/gaskell/miniforge_x86_64/envs/ADPred_new/lib/python3.10/site-packages/h2o/estimators/estimator_base.py:208: RuntimeWarning: Dropping bad and constant columns: [pres_imuran, pres_minocin, init_group, num_tnf, num_nontnf, hxtia]\n",
      "  warnings.warn(mesg[\"message\"], RuntimeWarning)\n"
     ]
    },
    {
     "name": "stdout",
     "output_type": "stream",
     "text": [
      "██████████████████████████████████████████████████████| (done) 100%\n",
      "Parse progress: |████████████████████████████████████████████████████████████████| (done) 100%\n",
      "gbm prediction progress: |███████████████████████████████████████████████████████| (done) 100%\n",
      "Parse progress: |████████████████████████████████████████████████████████████████| (done) 100%\n",
      "gbm prediction progress: |███████████████████████████████████████████████████████| (done) 100%\n"
     ]
    },
    {
     "name": "stderr",
     "output_type": "stream",
     "text": [
      "dist_matrix: 100%|##########| 28/28 [00:00<00:00, 111.56it/s]\n",
      "synth_matrix: 100%|##########| 28/28 [00:00<00:00, 245.78it/s]\n",
      "r_index: 100%|##########| 7/7 [00:00<00:00, 538.05it/s]\n",
      "dist_matrix: 100%|##########| 31/31 [00:00<00:00, 97.29it/s]\n",
      "synth_matrix: 100%|##########| 31/31 [00:00<00:00, 466.60it/s]\n",
      "r_index: 100%|##########| 29/29 [00:00<00:00, 492.42it/s]"
     ]
    },
    {
     "name": "stdout",
     "output_type": "stream",
     "text": [
      "Parse progress: |"
     ]
    },
    {
     "name": "stderr",
     "output_type": "stream",
     "text": [
      "\n"
     ]
    },
    {
     "name": "stdout",
     "output_type": "stream",
     "text": [
      "████████████████████████████████████████████████████████████████| (done) 100%\n",
      "gbm Model Build progress: |"
     ]
    },
    {
     "name": "stderr",
     "output_type": "stream",
     "text": [
      "/Users/gaskell/miniforge_x86_64/envs/ADPred_new/lib/python3.10/site-packages/h2o/estimators/estimator_base.py:208: RuntimeWarning: Dropping bad and constant columns: [pres_imuran, pres_minocin, init_group, num_tnf, num_nontnf]\n",
      "  warnings.warn(mesg[\"message\"], RuntimeWarning)\n"
     ]
    },
    {
     "name": "stdout",
     "output_type": "stream",
     "text": [
      "██████████████████████████████████████████████████████| (done) 100%\n",
      "Parse progress: |████████████████████████████████████████████████████████████████| (done) 100%\n",
      "gbm prediction progress: |███████████████████████████████████████████████████████| (done) 100%\n",
      "Parse progress: |████████████████████████████████████████████████████████████████| (done) 100%\n",
      "gbm prediction progress: |███████████████████████████████████████████████████████| (done) 100%\n"
     ]
    },
    {
     "name": "stderr",
     "output_type": "stream",
     "text": [
      "dist_matrix: 100%|##########| 20/20 [00:00<00:00, 166.61it/s]\n",
      "synth_matrix: 100%|##########| 20/20 [00:00<00:00, 184.02it/s]\n",
      "r_index: 100%|##########| 10/10 [00:00<00:00, 546.93it/s]\n",
      "dist_matrix: 100%|##########| 32/32 [00:00<00:00, 94.99it/s]\n",
      "synth_matrix: 100%|##########| 32/32 [00:00<00:00, 546.68it/s]\n",
      "r_index: 100%|##########| 27/27 [00:00<00:00, 457.42it/s]"
     ]
    },
    {
     "name": "stdout",
     "output_type": "stream",
     "text": [
      "Parse progress: |"
     ]
    },
    {
     "name": "stderr",
     "output_type": "stream",
     "text": [
      "\n"
     ]
    },
    {
     "name": "stdout",
     "output_type": "stream",
     "text": [
      "████████████████████████████████████████████████████████████████| (done) 100%\n",
      "gbm Model Build progress: |"
     ]
    },
    {
     "name": "stderr",
     "output_type": "stream",
     "text": [
      "/Users/gaskell/miniforge_x86_64/envs/ADPred_new/lib/python3.10/site-packages/h2o/estimators/estimator_base.py:208: RuntimeWarning: Dropping bad and constant columns: [pres_imuran, pres_minocin, init_group, num_tnf, num_nontnf, hxtia]\n",
      "  warnings.warn(mesg[\"message\"], RuntimeWarning)\n"
     ]
    },
    {
     "name": "stdout",
     "output_type": "stream",
     "text": [
      "██████████████████████████████████████████████████████| (done) 100%\n",
      "Parse progress: |████████████████████████████████████████████████████████████████| (done) 100%\n",
      "gbm prediction progress: |███████████████████████████████████████████████████████| (done) 100%\n",
      "Parse progress: |████████████████████████████████████████████████████████████████| (done) 100%\n",
      "gbm prediction progress: |███████████████████████████████████████████████████████| (done) 100%\n"
     ]
    },
    {
     "name": "stderr",
     "output_type": "stream",
     "text": [
      "dist_matrix: 100%|##########| 22/22 [00:00<00:00, 151.99it/s]\n",
      "synth_matrix: 100%|##########| 22/22 [00:00<00:00, 184.82it/s]\n",
      "r_index: 100%|##########| 3/3 [00:00<00:00, 428.19it/s]\n",
      "dist_matrix: 100%|##########| 28/28 [00:00<00:00, 108.55it/s]\n",
      "synth_matrix: 100%|##########| 28/28 [00:00<00:00, 258.88it/s]\n",
      "r_index: 100%|##########| 7/7 [00:00<00:00, 446.94it/s]\n"
     ]
    },
    {
     "name": "stdout",
     "output_type": "stream",
     "text": [
      "Parse progress: |████████████████████████████████████████████████████████████████| (done) 100%\n",
      "gbm Model Build progress: |"
     ]
    },
    {
     "name": "stderr",
     "output_type": "stream",
     "text": [
      "/Users/gaskell/miniforge_x86_64/envs/ADPred_new/lib/python3.10/site-packages/h2o/estimators/estimator_base.py:208: RuntimeWarning: Dropping bad and constant columns: [pres_imuran, pres_minocin, init_group, num_tnf, num_nontnf]\n",
      "  warnings.warn(mesg[\"message\"], RuntimeWarning)\n"
     ]
    },
    {
     "name": "stdout",
     "output_type": "stream",
     "text": [
      "██████████████████████████████████████████████████████| (done) 100%\n",
      "Parse progress: |████████████████████████████████████████████████████████████████| (done) 100%\n",
      "gbm prediction progress: |███████████████████████████████████████████████████████| (done) 100%\n",
      "Parse progress: |████████████████████████████████████████████████████████████████| (done) 100%\n",
      "gbm prediction progress: |███████████████████████████████████████████████████████| (done) 100%\n"
     ]
    },
    {
     "name": "stderr",
     "output_type": "stream",
     "text": [
      "dist_matrix: 100%|##########| 28/28 [00:00<00:00, 108.06it/s]\n",
      "synth_matrix: 100%|##########| 28/28 [00:00<00:00, 161.96it/s]\n",
      "r_index: 100%|##########| 25/25 [00:00<00:00, 503.70it/s]"
     ]
    },
    {
     "name": "stdout",
     "output_type": "stream",
     "text": [
      "Parse progress: |"
     ]
    },
    {
     "name": "stderr",
     "output_type": "stream",
     "text": [
      "\n"
     ]
    },
    {
     "name": "stdout",
     "output_type": "stream",
     "text": [
      "████████████████████████████████████████████████████████████████| (done) 100%\n",
      "gbm Model Build progress: |"
     ]
    },
    {
     "name": "stderr",
     "output_type": "stream",
     "text": [
      "/Users/gaskell/miniforge_x86_64/envs/ADPred_new/lib/python3.10/site-packages/h2o/estimators/estimator_base.py:208: RuntimeWarning: Dropping bad and constant columns: [hxchf, pres_imuran, pres_minocin, init_group, num_tnf, num_nontnf, hxtia]\n",
      "  warnings.warn(mesg[\"message\"], RuntimeWarning)\n"
     ]
    },
    {
     "name": "stdout",
     "output_type": "stream",
     "text": [
      "██████████████████████████████████████████████████████| (done) 100%\n",
      "Parse progress: |████████████████████████████████████████████████████████████████| (done) 100%\n",
      "gbm prediction progress: |███████████████████████████████████████████████████████| (done) 100%\n",
      "Parse progress: |████████████████████████████████████████████████████████████████| (done) 100%\n",
      "gbm prediction progress: |███████████████████████████████████████████████████████| (done) 100%\n"
     ]
    },
    {
     "name": "stderr",
     "output_type": "stream",
     "text": [
      "dist_matrix: 100%|##########| 22/22 [00:00<00:00, 152.48it/s]\n",
      "synth_matrix: 100%|##########| 22/22 [00:00<00:00, 184.87it/s]\n",
      "r_index: 100%|##########| 3/3 [00:00<00:00, 518.20it/s]\n",
      "dist_matrix: 100%|##########| 32/32 [00:00<00:00, 94.84it/s]\n",
      "synth_matrix: 100%|##########| 32/32 [00:00<00:00, 515.80it/s]\n",
      "r_index: 100%|##########| 27/27 [00:00<00:00, 502.77it/s]"
     ]
    },
    {
     "name": "stdout",
     "output_type": "stream",
     "text": [
      "Parse progress: |"
     ]
    },
    {
     "name": "stderr",
     "output_type": "stream",
     "text": [
      "\n"
     ]
    },
    {
     "name": "stdout",
     "output_type": "stream",
     "text": [
      "████████████████████████████████████████████████████████████████| (done) 100%\n",
      "gbm Model Build progress: |"
     ]
    },
    {
     "name": "stderr",
     "output_type": "stream",
     "text": [
      "/Users/gaskell/miniforge_x86_64/envs/ADPred_new/lib/python3.10/site-packages/h2o/estimators/estimator_base.py:208: RuntimeWarning: Dropping bad and constant columns: [hxchf, pres_imuran, pres_minocin, init_group, num_tnf, num_nontnf, hxtia]\n",
      "  warnings.warn(mesg[\"message\"], RuntimeWarning)\n"
     ]
    },
    {
     "name": "stdout",
     "output_type": "stream",
     "text": [
      "██████████████████████████████████████████████████████| (done) 100%\n",
      "Parse progress: |████████████████████████████████████████████████████████████████| (done) 100%\n",
      "gbm prediction progress: |███████████████████████████████████████████████████████| (done) 100%\n",
      "Parse progress: |████████████████████████████████████████████████████████████████| (done) 100%\n",
      "gbm prediction progress: |███████████████████████████████████████████████████████| (done) 100%\n"
     ]
    },
    {
     "name": "stderr",
     "output_type": "stream",
     "text": [
      "dist_matrix: 100%|##########| 22/22 [00:00<00:00, 151.55it/s]\n",
      "synth_matrix: 100%|##########| 22/22 [00:00<00:00, 175.89it/s]\n",
      "r_index: 100%|##########| 3/3 [00:00<00:00, 498.83it/s]\n",
      "dist_matrix: 100%|##########| 33/33 [00:00<00:00, 88.64it/s]\n",
      "synth_matrix: 100%|##########| 33/33 [00:00<00:00, 521.41it/s]\n",
      "r_index: 100%|##########| 25/25 [00:00<00:00, 521.65it/s]"
     ]
    },
    {
     "name": "stdout",
     "output_type": "stream",
     "text": [
      "Parse progress: |"
     ]
    },
    {
     "name": "stderr",
     "output_type": "stream",
     "text": [
      "\n"
     ]
    },
    {
     "name": "stdout",
     "output_type": "stream",
     "text": [
      "████████████████████████████████████████████████████████████████| (done) 100%\n",
      "gbm Model Build progress: |"
     ]
    },
    {
     "name": "stderr",
     "output_type": "stream",
     "text": [
      "/Users/gaskell/miniforge_x86_64/envs/ADPred_new/lib/python3.10/site-packages/h2o/estimators/estimator_base.py:208: RuntimeWarning: Dropping bad and constant columns: [pres_imuran, pres_minocin, init_group, num_tnf, num_nontnf, hxtia]\n",
      "  warnings.warn(mesg[\"message\"], RuntimeWarning)\n"
     ]
    },
    {
     "name": "stdout",
     "output_type": "stream",
     "text": [
      "██████████████████████████████████████████████████████| (done) 100%\n",
      "Parse progress: |████████████████████████████████████████████████████████████████| (done) 100%\n",
      "gbm prediction progress: |███████████████████████████████████████████████████████| (done) 100%\n",
      "Parse progress: |████████████████████████████████████████████████████████████████| (done) 100%\n",
      "gbm prediction progress: |███████████████████████████████████████████████████████| (done) 100%\n"
     ]
    },
    {
     "name": "stderr",
     "output_type": "stream",
     "text": [
      "dist_matrix: 100%|##########| 24/24 [00:00<00:00, 140.72it/s]\n",
      "synth_matrix: 100%|##########| 24/24 [00:00<00:00, 276.46it/s]\n",
      "r_index: 100%|##########| 18/18 [00:00<00:00, 641.99it/s]\n",
      "dist_matrix: 100%|##########| 33/33 [00:00<00:00, 91.40it/s]\n",
      "synth_matrix: 100%|##########| 33/33 [00:00<00:00, 516.01it/s]\n",
      "r_index: 100%|##########| 25/25 [00:00<00:00, 502.41it/s]"
     ]
    },
    {
     "name": "stdout",
     "output_type": "stream",
     "text": [
      "Parse progress: |"
     ]
    },
    {
     "name": "stderr",
     "output_type": "stream",
     "text": [
      "\n"
     ]
    },
    {
     "name": "stdout",
     "output_type": "stream",
     "text": [
      "████████████████████████████████████████████████████████████████| (done) 100%\n",
      "gbm Model Build progress: |"
     ]
    },
    {
     "name": "stderr",
     "output_type": "stream",
     "text": [
      "/Users/gaskell/miniforge_x86_64/envs/ADPred_new/lib/python3.10/site-packages/h2o/estimators/estimator_base.py:208: RuntimeWarning: Dropping bad and constant columns: [hxchf, pres_imuran, pres_minocin, init_group, num_tnf, num_nontnf]\n",
      "  warnings.warn(mesg[\"message\"], RuntimeWarning)\n"
     ]
    },
    {
     "name": "stdout",
     "output_type": "stream",
     "text": [
      "██████████████████████████████████████████████████████| (done) 100%\n",
      "Parse progress: |████████████████████████████████████████████████████████████████| (done) 100%\n",
      "gbm prediction progress: |███████████████████████████████████████████████████████| (done) 100%\n",
      "Parse progress: |████████████████████████████████████████████████████████████████| (done) 100%\n",
      "gbm prediction progress: |███████████████████████████████████████████████████████| (done) 100%\n",
      "Parse progress: |████████████████████████████████████████████████████████████████| (done) 100%\n",
      "gbm prediction progress: |███████████████████████████████████████████████████████| (done) 100%\n"
     ]
    }
   ],
   "source": [
    "# aml_sc = EvaluationModule_H2O.AutoBuild(seed=1, project_name=\"EHR_RA_SC_July23_2\", challenge=dataset.challenge, balance_class=1)\n",
    "\n",
    "# i = 0\n",
    "# for model_id in lb.as_data_frame().sort_values(by=['mse'], ascending=True).loc[:30,\"model_id\"]:\n",
    "#     if \"StackedEnsemble\" not in model_id:\n",
    "#         i+=1\n",
    "#         model = h2o.get_model(model_id)\n",
    "#         aml_sc.validate(model_id, model, train_h2o, test_h2o)\n",
    "#     if i==10:\n",
    "#         break"
   ]
  },
  {
   "cell_type": "code",
   "execution_count": 18,
   "id": "de0ee3b7-aab5-44d0-9e0b-6b7599d011a5",
   "metadata": {},
   "outputs": [
    {
     "data": {
      "text/html": [
       "<div>\n",
       "<style scoped>\n",
       "    .dataframe tbody tr th:only-of-type {\n",
       "        vertical-align: middle;\n",
       "    }\n",
       "\n",
       "    .dataframe tbody tr th {\n",
       "        vertical-align: top;\n",
       "    }\n",
       "\n",
       "    .dataframe thead th {\n",
       "        text-align: right;\n",
       "    }\n",
       "</style>\n",
       "<table border=\"1\" class=\"dataframe\">\n",
       "  <thead>\n",
       "    <tr style=\"text-align: right;\">\n",
       "      <th></th>\n",
       "      <th>model</th>\n",
       "      <th>MAE</th>\n",
       "      <th>MSE</th>\n",
       "      <th>RMSE</th>\n",
       "      <th>R2</th>\n",
       "      <th>Pearson_Correlation</th>\n",
       "      <th>Accuracy</th>\n",
       "      <th>F1-Score</th>\n",
       "    </tr>\n",
       "  </thead>\n",
       "  <tbody>\n",
       "    <tr>\n",
       "      <th>0</th>\n",
       "      <td>XGBoost_lr_search_selection_AutoML_1_20220724_...</td>\n",
       "      <td>1.184153</td>\n",
       "      <td>2.124602</td>\n",
       "      <td>1.457601</td>\n",
       "      <td>-0.857245</td>\n",
       "      <td>0.167644</td>\n",
       "      <td>0.677419</td>\n",
       "      <td>0.483333</td>\n",
       "    </tr>\n",
       "    <tr>\n",
       "      <th>1</th>\n",
       "      <td>XGBoost_lr_search_selection_AutoML_1_20220724_...</td>\n",
       "      <td>1.003142</td>\n",
       "      <td>1.465549</td>\n",
       "      <td>1.210598</td>\n",
       "      <td>-0.544970</td>\n",
       "      <td>0.160431</td>\n",
       "      <td>0.677419</td>\n",
       "      <td>0.483333</td>\n",
       "    </tr>\n",
       "    <tr>\n",
       "      <th>2</th>\n",
       "      <td>XGBoost_lr_search_selection_AutoML_1_20220724_...</td>\n",
       "      <td>1.097412</td>\n",
       "      <td>1.991282</td>\n",
       "      <td>1.411128</td>\n",
       "      <td>-0.535717</td>\n",
       "      <td>0.365706</td>\n",
       "      <td>0.741935</td>\n",
       "      <td>0.523077</td>\n",
       "    </tr>\n",
       "    <tr>\n",
       "      <th>3</th>\n",
       "      <td>XGBoost_lr_search_selection_AutoML_1_20220724_...</td>\n",
       "      <td>0.801877</td>\n",
       "      <td>1.124880</td>\n",
       "      <td>1.060604</td>\n",
       "      <td>0.006273</td>\n",
       "      <td>0.425941</td>\n",
       "      <td>0.774194</td>\n",
       "      <td>0.613191</td>\n",
       "    </tr>\n",
       "    <tr>\n",
       "      <th>4</th>\n",
       "      <td>XGBoost_lr_search_selection_AutoML_1_20220724_...</td>\n",
       "      <td>1.234039</td>\n",
       "      <td>2.377902</td>\n",
       "      <td>1.542045</td>\n",
       "      <td>-0.079542</td>\n",
       "      <td>0.389040</td>\n",
       "      <td>0.766667</td>\n",
       "      <td>0.542484</td>\n",
       "    </tr>\n",
       "    <tr>\n",
       "      <th>5</th>\n",
       "      <td>XGBoost_lr_search_selection_AutoML_1_20220724_...</td>\n",
       "      <td>0.990813</td>\n",
       "      <td>1.551037</td>\n",
       "      <td>1.245406</td>\n",
       "      <td>-0.003600</td>\n",
       "      <td>0.284245</td>\n",
       "      <td>0.733333</td>\n",
       "      <td>0.423077</td>\n",
       "    </tr>\n",
       "    <tr>\n",
       "      <th>6</th>\n",
       "      <td>XGBoost_lr_search_selection_AutoML_1_20220724_...</td>\n",
       "      <td>1.219195</td>\n",
       "      <td>2.323579</td>\n",
       "      <td>1.524329</td>\n",
       "      <td>-0.163113</td>\n",
       "      <td>0.336386</td>\n",
       "      <td>0.700000</td>\n",
       "      <td>0.558101</td>\n",
       "    </tr>\n",
       "    <tr>\n",
       "      <th>7</th>\n",
       "      <td>XGBoost_lr_search_selection_AutoML_1_20220724_...</td>\n",
       "      <td>0.949659</td>\n",
       "      <td>1.516285</td>\n",
       "      <td>1.231375</td>\n",
       "      <td>-0.490596</td>\n",
       "      <td>0.248274</td>\n",
       "      <td>0.700000</td>\n",
       "      <td>0.558101</td>\n",
       "    </tr>\n",
       "    <tr>\n",
       "      <th>8</th>\n",
       "      <td>XGBoost_lr_search_selection_AutoML_1_20220724_...</td>\n",
       "      <td>1.045074</td>\n",
       "      <td>1.681426</td>\n",
       "      <td>1.296698</td>\n",
       "      <td>0.200638</td>\n",
       "      <td>0.458473</td>\n",
       "      <td>0.633333</td>\n",
       "      <td>0.387755</td>\n",
       "    </tr>\n",
       "    <tr>\n",
       "      <th>9</th>\n",
       "      <td>XGBoost_lr_search_selection_AutoML_1_20220724_...</td>\n",
       "      <td>1.165989</td>\n",
       "      <td>1.857291</td>\n",
       "      <td>1.362825</td>\n",
       "      <td>0.078952</td>\n",
       "      <td>0.446501</td>\n",
       "      <td>0.733333</td>\n",
       "      <td>0.520000</td>\n",
       "    </tr>\n",
       "    <tr>\n",
       "      <th>10</th>\n",
       "      <td>XGBoost_lr_search_selection_AutoML_1_20220724_...</td>\n",
       "      <td>1.045356</td>\n",
       "      <td>1.640539</td>\n",
       "      <td>1.280835</td>\n",
       "      <td>-0.421353</td>\n",
       "      <td>0.351337</td>\n",
       "      <td>0.774194</td>\n",
       "      <td>0.692199</td>\n",
       "    </tr>\n",
       "    <tr>\n",
       "      <th>11</th>\n",
       "      <td>XGBoost_lr_search_selection_AutoML_1_20220724_...</td>\n",
       "      <td>1.013515</td>\n",
       "      <td>1.479143</td>\n",
       "      <td>1.216200</td>\n",
       "      <td>0.248475</td>\n",
       "      <td>0.538747</td>\n",
       "      <td>0.741935</td>\n",
       "      <td>0.523077</td>\n",
       "    </tr>\n",
       "    <tr>\n",
       "      <th>12</th>\n",
       "      <td>XGBoost_lr_search_selection_AutoML_1_20220724_...</td>\n",
       "      <td>1.144652</td>\n",
       "      <td>1.825017</td>\n",
       "      <td>1.350932</td>\n",
       "      <td>-0.022947</td>\n",
       "      <td>0.522800</td>\n",
       "      <td>0.516129</td>\n",
       "      <td>0.430845</td>\n",
       "    </tr>\n",
       "    <tr>\n",
       "      <th>13</th>\n",
       "      <td>XGBoost_lr_search_selection_AutoML_1_20220724_...</td>\n",
       "      <td>1.162353</td>\n",
       "      <td>1.985062</td>\n",
       "      <td>1.408922</td>\n",
       "      <td>0.032569</td>\n",
       "      <td>0.424673</td>\n",
       "      <td>0.677419</td>\n",
       "      <td>0.483333</td>\n",
       "    </tr>\n",
       "    <tr>\n",
       "      <th>14</th>\n",
       "      <td>XGBoost_lr_search_selection_AutoML_1_20220724_...</td>\n",
       "      <td>0.988378</td>\n",
       "      <td>1.449498</td>\n",
       "      <td>1.203951</td>\n",
       "      <td>-0.274884</td>\n",
       "      <td>0.456676</td>\n",
       "      <td>0.700000</td>\n",
       "      <td>0.411765</td>\n",
       "    </tr>\n",
       "    <tr>\n",
       "      <th>15</th>\n",
       "      <td>XGBoost_lr_search_selection_AutoML_1_20220724_...</td>\n",
       "      <td>1.053356</td>\n",
       "      <td>1.653994</td>\n",
       "      <td>1.286077</td>\n",
       "      <td>-0.212212</td>\n",
       "      <td>0.235240</td>\n",
       "      <td>0.766667</td>\n",
       "      <td>0.610390</td>\n",
       "    </tr>\n",
       "    <tr>\n",
       "      <th>16</th>\n",
       "      <td>XGBoost_lr_search_selection_AutoML_1_20220724_...</td>\n",
       "      <td>1.066177</td>\n",
       "      <td>1.777690</td>\n",
       "      <td>1.333300</td>\n",
       "      <td>-0.075754</td>\n",
       "      <td>0.290276</td>\n",
       "      <td>0.633333</td>\n",
       "      <td>0.387755</td>\n",
       "    </tr>\n",
       "    <tr>\n",
       "      <th>17</th>\n",
       "      <td>XGBoost_lr_search_selection_AutoML_1_20220724_...</td>\n",
       "      <td>1.026482</td>\n",
       "      <td>1.806022</td>\n",
       "      <td>1.343883</td>\n",
       "      <td>-0.004892</td>\n",
       "      <td>0.403697</td>\n",
       "      <td>0.766667</td>\n",
       "      <td>0.433962</td>\n",
       "    </tr>\n",
       "    <tr>\n",
       "      <th>18</th>\n",
       "      <td>XGBoost_lr_search_selection_AutoML_1_20220724_...</td>\n",
       "      <td>1.213805</td>\n",
       "      <td>2.053320</td>\n",
       "      <td>1.432941</td>\n",
       "      <td>-0.289081</td>\n",
       "      <td>0.392276</td>\n",
       "      <td>0.766667</td>\n",
       "      <td>0.656301</td>\n",
       "    </tr>\n",
       "    <tr>\n",
       "      <th>19</th>\n",
       "      <td>XGBoost_lr_search_selection_AutoML_1_20220724_...</td>\n",
       "      <td>0.858225</td>\n",
       "      <td>1.175318</td>\n",
       "      <td>1.084121</td>\n",
       "      <td>-0.664735</td>\n",
       "      <td>0.397669</td>\n",
       "      <td>0.800000</td>\n",
       "      <td>0.744318</td>\n",
       "    </tr>\n",
       "    <tr>\n",
       "      <th>20</th>\n",
       "      <td>XGBoost_lr_search_selection_AutoML_1_20220724_...</td>\n",
       "      <td>1.025276</td>\n",
       "      <td>1.631540</td>\n",
       "      <td>1.277318</td>\n",
       "      <td>0.123508</td>\n",
       "      <td>0.463161</td>\n",
       "      <td>0.580645</td>\n",
       "      <td>0.428369</td>\n",
       "    </tr>\n",
       "    <tr>\n",
       "      <th>21</th>\n",
       "      <td>XGBoost_lr_search_selection_AutoML_1_20220724_...</td>\n",
       "      <td>0.885583</td>\n",
       "      <td>1.238498</td>\n",
       "      <td>1.112878</td>\n",
       "      <td>0.274344</td>\n",
       "      <td>0.556498</td>\n",
       "      <td>0.741935</td>\n",
       "      <td>0.630952</td>\n",
       "    </tr>\n",
       "    <tr>\n",
       "      <th>22</th>\n",
       "      <td>XGBoost_lr_search_selection_AutoML_1_20220724_...</td>\n",
       "      <td>1.169388</td>\n",
       "      <td>2.117310</td>\n",
       "      <td>1.455098</td>\n",
       "      <td>-0.671362</td>\n",
       "      <td>0.276994</td>\n",
       "      <td>0.580645</td>\n",
       "      <td>0.367347</td>\n",
       "    </tr>\n",
       "    <tr>\n",
       "      <th>23</th>\n",
       "      <td>XGBoost_lr_search_selection_AutoML_1_20220724_...</td>\n",
       "      <td>0.824334</td>\n",
       "      <td>1.221474</td>\n",
       "      <td>1.105203</td>\n",
       "      <td>0.181109</td>\n",
       "      <td>0.503067</td>\n",
       "      <td>0.806452</td>\n",
       "      <td>0.690000</td>\n",
       "    </tr>\n",
       "    <tr>\n",
       "      <th>24</th>\n",
       "      <td>XGBoost_lr_search_selection_AutoML_1_20220724_...</td>\n",
       "      <td>1.225943</td>\n",
       "      <td>2.043319</td>\n",
       "      <td>1.429447</td>\n",
       "      <td>-0.477907</td>\n",
       "      <td>0.119429</td>\n",
       "      <td>0.666667</td>\n",
       "      <td>0.400000</td>\n",
       "    </tr>\n",
       "    <tr>\n",
       "      <th>25</th>\n",
       "      <td>XGBoost_lr_search_selection_AutoML_1_20220724_...</td>\n",
       "      <td>1.087773</td>\n",
       "      <td>1.789615</td>\n",
       "      <td>1.337765</td>\n",
       "      <td>-0.083550</td>\n",
       "      <td>0.305137</td>\n",
       "      <td>0.700000</td>\n",
       "      <td>0.499072</td>\n",
       "    </tr>\n",
       "    <tr>\n",
       "      <th>26</th>\n",
       "      <td>XGBoost_lr_search_selection_AutoML_1_20220724_...</td>\n",
       "      <td>1.038394</td>\n",
       "      <td>1.622842</td>\n",
       "      <td>1.273908</td>\n",
       "      <td>0.066728</td>\n",
       "      <td>0.592486</td>\n",
       "      <td>0.800000</td>\n",
       "      <td>0.640000</td>\n",
       "    </tr>\n",
       "    <tr>\n",
       "      <th>27</th>\n",
       "      <td>XGBoost_lr_search_selection_AutoML_1_20220724_...</td>\n",
       "      <td>1.242202</td>\n",
       "      <td>2.173350</td>\n",
       "      <td>1.474229</td>\n",
       "      <td>-0.158232</td>\n",
       "      <td>0.346944</td>\n",
       "      <td>0.566667</td>\n",
       "      <td>0.361702</td>\n",
       "    </tr>\n",
       "    <tr>\n",
       "      <th>28</th>\n",
       "      <td>XGBoost_lr_search_selection_AutoML_1_20220724_...</td>\n",
       "      <td>1.080786</td>\n",
       "      <td>1.629177</td>\n",
       "      <td>1.276392</td>\n",
       "      <td>-0.181185</td>\n",
       "      <td>0.254780</td>\n",
       "      <td>0.833333</td>\n",
       "      <td>0.673203</td>\n",
       "    </tr>\n",
       "    <tr>\n",
       "      <th>29</th>\n",
       "      <td>XGBoost_lr_search_selection_AutoML_1_20220724_...</td>\n",
       "      <td>1.224861</td>\n",
       "      <td>2.195198</td>\n",
       "      <td>1.481620</td>\n",
       "      <td>-1.172687</td>\n",
       "      <td>-0.006538</td>\n",
       "      <td>0.733333</td>\n",
       "      <td>0.520000</td>\n",
       "    </tr>\n",
       "    <tr>\n",
       "      <th>30</th>\n",
       "      <td>GBM_3_AutoML_1_20220724_222904</td>\n",
       "      <td>1.155182</td>\n",
       "      <td>2.173782</td>\n",
       "      <td>1.474375</td>\n",
       "      <td>-0.900237</td>\n",
       "      <td>0.173216</td>\n",
       "      <td>0.677419</td>\n",
       "      <td>0.538690</td>\n",
       "    </tr>\n",
       "    <tr>\n",
       "      <th>31</th>\n",
       "      <td>GBM_3_AutoML_1_20220724_222904</td>\n",
       "      <td>1.070034</td>\n",
       "      <td>1.555936</td>\n",
       "      <td>1.247372</td>\n",
       "      <td>-0.640256</td>\n",
       "      <td>0.106135</td>\n",
       "      <td>0.645161</td>\n",
       "      <td>0.516312</td>\n",
       "    </tr>\n",
       "    <tr>\n",
       "      <th>32</th>\n",
       "      <td>GBM_3_AutoML_1_20220724_222904</td>\n",
       "      <td>1.191500</td>\n",
       "      <td>1.904634</td>\n",
       "      <td>1.380085</td>\n",
       "      <td>-0.468892</td>\n",
       "      <td>0.341371</td>\n",
       "      <td>0.677419</td>\n",
       "      <td>0.483333</td>\n",
       "    </tr>\n",
       "    <tr>\n",
       "      <th>33</th>\n",
       "      <td>GBM_3_AutoML_1_20220724_222904</td>\n",
       "      <td>0.747856</td>\n",
       "      <td>0.968324</td>\n",
       "      <td>0.984035</td>\n",
       "      <td>0.144576</td>\n",
       "      <td>0.519335</td>\n",
       "      <td>0.774194</td>\n",
       "      <td>0.545073</td>\n",
       "    </tr>\n",
       "    <tr>\n",
       "      <th>34</th>\n",
       "      <td>GBM_3_AutoML_1_20220724_222904</td>\n",
       "      <td>1.193763</td>\n",
       "      <td>2.211791</td>\n",
       "      <td>1.487209</td>\n",
       "      <td>-0.004129</td>\n",
       "      <td>0.491413</td>\n",
       "      <td>0.733333</td>\n",
       "      <td>0.423077</td>\n",
       "    </tr>\n",
       "    <tr>\n",
       "      <th>35</th>\n",
       "      <td>GBM_3_AutoML_1_20220724_222904</td>\n",
       "      <td>1.126205</td>\n",
       "      <td>1.827679</td>\n",
       "      <td>1.351917</td>\n",
       "      <td>-0.182602</td>\n",
       "      <td>0.223654</td>\n",
       "      <td>0.800000</td>\n",
       "      <td>0.687500</td>\n",
       "    </tr>\n",
       "    <tr>\n",
       "      <th>36</th>\n",
       "      <td>GBM_3_AutoML_1_20220724_222904</td>\n",
       "      <td>1.265435</td>\n",
       "      <td>2.519957</td>\n",
       "      <td>1.587437</td>\n",
       "      <td>-0.261414</td>\n",
       "      <td>0.294265</td>\n",
       "      <td>0.700000</td>\n",
       "      <td>0.600000</td>\n",
       "    </tr>\n",
       "    <tr>\n",
       "      <th>37</th>\n",
       "      <td>GBM_3_AutoML_1_20220724_222904</td>\n",
       "      <td>0.914213</td>\n",
       "      <td>1.307369</td>\n",
       "      <td>1.143403</td>\n",
       "      <td>-0.285219</td>\n",
       "      <td>0.287384</td>\n",
       "      <td>0.700000</td>\n",
       "      <td>0.499072</td>\n",
       "    </tr>\n",
       "    <tr>\n",
       "      <th>38</th>\n",
       "      <td>GBM_3_AutoML_1_20220724_222904</td>\n",
       "      <td>1.127924</td>\n",
       "      <td>1.862158</td>\n",
       "      <td>1.364609</td>\n",
       "      <td>0.114717</td>\n",
       "      <td>0.425832</td>\n",
       "      <td>0.733333</td>\n",
       "      <td>0.583333</td>\n",
       "    </tr>\n",
       "    <tr>\n",
       "      <th>39</th>\n",
       "      <td>GBM_3_AutoML_1_20220724_222904</td>\n",
       "      <td>0.940005</td>\n",
       "      <td>1.397059</td>\n",
       "      <td>1.181973</td>\n",
       "      <td>0.307185</td>\n",
       "      <td>0.568944</td>\n",
       "      <td>0.733333</td>\n",
       "      <td>0.520000</td>\n",
       "    </tr>\n",
       "    <tr>\n",
       "      <th>40</th>\n",
       "      <td>GBM_3_AutoML_1_20220724_222904</td>\n",
       "      <td>0.954880</td>\n",
       "      <td>1.469028</td>\n",
       "      <td>1.212035</td>\n",
       "      <td>-0.272758</td>\n",
       "      <td>0.304686</td>\n",
       "      <td>0.741935</td>\n",
       "      <td>0.523077</td>\n",
       "    </tr>\n",
       "    <tr>\n",
       "      <th>41</th>\n",
       "      <td>GBM_3_AutoML_1_20220724_222904</td>\n",
       "      <td>0.950140</td>\n",
       "      <td>1.511221</td>\n",
       "      <td>1.229317</td>\n",
       "      <td>0.232177</td>\n",
       "      <td>0.509096</td>\n",
       "      <td>0.677419</td>\n",
       "      <td>0.403846</td>\n",
       "    </tr>\n",
       "    <tr>\n",
       "      <th>42</th>\n",
       "      <td>GBM_3_AutoML_1_20220724_222904</td>\n",
       "      <td>1.151354</td>\n",
       "      <td>2.088218</td>\n",
       "      <td>1.445067</td>\n",
       "      <td>-0.170475</td>\n",
       "      <td>0.369118</td>\n",
       "      <td>0.548387</td>\n",
       "      <td>0.452020</td>\n",
       "    </tr>\n",
       "    <tr>\n",
       "      <th>43</th>\n",
       "      <td>GBM_3_AutoML_1_20220724_222904</td>\n",
       "      <td>1.180842</td>\n",
       "      <td>2.210323</td>\n",
       "      <td>1.486715</td>\n",
       "      <td>-0.077213</td>\n",
       "      <td>0.393078</td>\n",
       "      <td>0.677419</td>\n",
       "      <td>0.483333</td>\n",
       "    </tr>\n",
       "    <tr>\n",
       "      <th>44</th>\n",
       "      <td>GBM_3_AutoML_1_20220724_222904</td>\n",
       "      <td>0.879931</td>\n",
       "      <td>1.012451</td>\n",
       "      <td>1.006206</td>\n",
       "      <td>0.109514</td>\n",
       "      <td>0.509863</td>\n",
       "      <td>0.733333</td>\n",
       "      <td>0.583333</td>\n",
       "    </tr>\n",
       "    <tr>\n",
       "      <th>45</th>\n",
       "      <td>GBM_3_AutoML_1_20220724_222904</td>\n",
       "      <td>0.908028</td>\n",
       "      <td>1.183968</td>\n",
       "      <td>1.088103</td>\n",
       "      <td>0.132271</td>\n",
       "      <td>0.485160</td>\n",
       "      <td>0.800000</td>\n",
       "      <td>0.720497</td>\n",
       "    </tr>\n",
       "    <tr>\n",
       "      <th>46</th>\n",
       "      <td>GBM_3_AutoML_1_20220724_222904</td>\n",
       "      <td>1.066179</td>\n",
       "      <td>1.848508</td>\n",
       "      <td>1.359599</td>\n",
       "      <td>-0.118609</td>\n",
       "      <td>0.177845</td>\n",
       "      <td>0.700000</td>\n",
       "      <td>0.499072</td>\n",
       "    </tr>\n",
       "    <tr>\n",
       "      <th>47</th>\n",
       "      <td>GBM_3_AutoML_1_20220724_222904</td>\n",
       "      <td>1.122418</td>\n",
       "      <td>1.723971</td>\n",
       "      <td>1.313001</td>\n",
       "      <td>0.040762</td>\n",
       "      <td>0.489711</td>\n",
       "      <td>0.700000</td>\n",
       "      <td>0.411765</td>\n",
       "    </tr>\n",
       "    <tr>\n",
       "      <th>48</th>\n",
       "      <td>GBM_3_AutoML_1_20220724_222904</td>\n",
       "      <td>1.093716</td>\n",
       "      <td>1.602264</td>\n",
       "      <td>1.265806</td>\n",
       "      <td>-0.005906</td>\n",
       "      <td>0.439125</td>\n",
       "      <td>0.800000</td>\n",
       "      <td>0.720497</td>\n",
       "    </tr>\n",
       "    <tr>\n",
       "      <th>49</th>\n",
       "      <td>GBM_3_AutoML_1_20220724_222904</td>\n",
       "      <td>0.928585</td>\n",
       "      <td>1.309902</td>\n",
       "      <td>1.144509</td>\n",
       "      <td>-0.855361</td>\n",
       "      <td>0.426948</td>\n",
       "      <td>0.733333</td>\n",
       "      <td>0.583333</td>\n",
       "    </tr>\n",
       "  </tbody>\n",
       "</table>\n",
       "</div>"
      ],
      "text/plain": [
       "                                                model       MAE       MSE  \\\n",
       "0   XGBoost_lr_search_selection_AutoML_1_20220724_...  1.184153  2.124602   \n",
       "1   XGBoost_lr_search_selection_AutoML_1_20220724_...  1.003142  1.465549   \n",
       "2   XGBoost_lr_search_selection_AutoML_1_20220724_...  1.097412  1.991282   \n",
       "3   XGBoost_lr_search_selection_AutoML_1_20220724_...  0.801877  1.124880   \n",
       "4   XGBoost_lr_search_selection_AutoML_1_20220724_...  1.234039  2.377902   \n",
       "5   XGBoost_lr_search_selection_AutoML_1_20220724_...  0.990813  1.551037   \n",
       "6   XGBoost_lr_search_selection_AutoML_1_20220724_...  1.219195  2.323579   \n",
       "7   XGBoost_lr_search_selection_AutoML_1_20220724_...  0.949659  1.516285   \n",
       "8   XGBoost_lr_search_selection_AutoML_1_20220724_...  1.045074  1.681426   \n",
       "9   XGBoost_lr_search_selection_AutoML_1_20220724_...  1.165989  1.857291   \n",
       "10  XGBoost_lr_search_selection_AutoML_1_20220724_...  1.045356  1.640539   \n",
       "11  XGBoost_lr_search_selection_AutoML_1_20220724_...  1.013515  1.479143   \n",
       "12  XGBoost_lr_search_selection_AutoML_1_20220724_...  1.144652  1.825017   \n",
       "13  XGBoost_lr_search_selection_AutoML_1_20220724_...  1.162353  1.985062   \n",
       "14  XGBoost_lr_search_selection_AutoML_1_20220724_...  0.988378  1.449498   \n",
       "15  XGBoost_lr_search_selection_AutoML_1_20220724_...  1.053356  1.653994   \n",
       "16  XGBoost_lr_search_selection_AutoML_1_20220724_...  1.066177  1.777690   \n",
       "17  XGBoost_lr_search_selection_AutoML_1_20220724_...  1.026482  1.806022   \n",
       "18  XGBoost_lr_search_selection_AutoML_1_20220724_...  1.213805  2.053320   \n",
       "19  XGBoost_lr_search_selection_AutoML_1_20220724_...  0.858225  1.175318   \n",
       "20  XGBoost_lr_search_selection_AutoML_1_20220724_...  1.025276  1.631540   \n",
       "21  XGBoost_lr_search_selection_AutoML_1_20220724_...  0.885583  1.238498   \n",
       "22  XGBoost_lr_search_selection_AutoML_1_20220724_...  1.169388  2.117310   \n",
       "23  XGBoost_lr_search_selection_AutoML_1_20220724_...  0.824334  1.221474   \n",
       "24  XGBoost_lr_search_selection_AutoML_1_20220724_...  1.225943  2.043319   \n",
       "25  XGBoost_lr_search_selection_AutoML_1_20220724_...  1.087773  1.789615   \n",
       "26  XGBoost_lr_search_selection_AutoML_1_20220724_...  1.038394  1.622842   \n",
       "27  XGBoost_lr_search_selection_AutoML_1_20220724_...  1.242202  2.173350   \n",
       "28  XGBoost_lr_search_selection_AutoML_1_20220724_...  1.080786  1.629177   \n",
       "29  XGBoost_lr_search_selection_AutoML_1_20220724_...  1.224861  2.195198   \n",
       "30                     GBM_3_AutoML_1_20220724_222904  1.155182  2.173782   \n",
       "31                     GBM_3_AutoML_1_20220724_222904  1.070034  1.555936   \n",
       "32                     GBM_3_AutoML_1_20220724_222904  1.191500  1.904634   \n",
       "33                     GBM_3_AutoML_1_20220724_222904  0.747856  0.968324   \n",
       "34                     GBM_3_AutoML_1_20220724_222904  1.193763  2.211791   \n",
       "35                     GBM_3_AutoML_1_20220724_222904  1.126205  1.827679   \n",
       "36                     GBM_3_AutoML_1_20220724_222904  1.265435  2.519957   \n",
       "37                     GBM_3_AutoML_1_20220724_222904  0.914213  1.307369   \n",
       "38                     GBM_3_AutoML_1_20220724_222904  1.127924  1.862158   \n",
       "39                     GBM_3_AutoML_1_20220724_222904  0.940005  1.397059   \n",
       "40                     GBM_3_AutoML_1_20220724_222904  0.954880  1.469028   \n",
       "41                     GBM_3_AutoML_1_20220724_222904  0.950140  1.511221   \n",
       "42                     GBM_3_AutoML_1_20220724_222904  1.151354  2.088218   \n",
       "43                     GBM_3_AutoML_1_20220724_222904  1.180842  2.210323   \n",
       "44                     GBM_3_AutoML_1_20220724_222904  0.879931  1.012451   \n",
       "45                     GBM_3_AutoML_1_20220724_222904  0.908028  1.183968   \n",
       "46                     GBM_3_AutoML_1_20220724_222904  1.066179  1.848508   \n",
       "47                     GBM_3_AutoML_1_20220724_222904  1.122418  1.723971   \n",
       "48                     GBM_3_AutoML_1_20220724_222904  1.093716  1.602264   \n",
       "49                     GBM_3_AutoML_1_20220724_222904  0.928585  1.309902   \n",
       "\n",
       "        RMSE        R2  Pearson_Correlation  Accuracy  F1-Score  \n",
       "0   1.457601 -0.857245             0.167644  0.677419  0.483333  \n",
       "1   1.210598 -0.544970             0.160431  0.677419  0.483333  \n",
       "2   1.411128 -0.535717             0.365706  0.741935  0.523077  \n",
       "3   1.060604  0.006273             0.425941  0.774194  0.613191  \n",
       "4   1.542045 -0.079542             0.389040  0.766667  0.542484  \n",
       "5   1.245406 -0.003600             0.284245  0.733333  0.423077  \n",
       "6   1.524329 -0.163113             0.336386  0.700000  0.558101  \n",
       "7   1.231375 -0.490596             0.248274  0.700000  0.558101  \n",
       "8   1.296698  0.200638             0.458473  0.633333  0.387755  \n",
       "9   1.362825  0.078952             0.446501  0.733333  0.520000  \n",
       "10  1.280835 -0.421353             0.351337  0.774194  0.692199  \n",
       "11  1.216200  0.248475             0.538747  0.741935  0.523077  \n",
       "12  1.350932 -0.022947             0.522800  0.516129  0.430845  \n",
       "13  1.408922  0.032569             0.424673  0.677419  0.483333  \n",
       "14  1.203951 -0.274884             0.456676  0.700000  0.411765  \n",
       "15  1.286077 -0.212212             0.235240  0.766667  0.610390  \n",
       "16  1.333300 -0.075754             0.290276  0.633333  0.387755  \n",
       "17  1.343883 -0.004892             0.403697  0.766667  0.433962  \n",
       "18  1.432941 -0.289081             0.392276  0.766667  0.656301  \n",
       "19  1.084121 -0.664735             0.397669  0.800000  0.744318  \n",
       "20  1.277318  0.123508             0.463161  0.580645  0.428369  \n",
       "21  1.112878  0.274344             0.556498  0.741935  0.630952  \n",
       "22  1.455098 -0.671362             0.276994  0.580645  0.367347  \n",
       "23  1.105203  0.181109             0.503067  0.806452  0.690000  \n",
       "24  1.429447 -0.477907             0.119429  0.666667  0.400000  \n",
       "25  1.337765 -0.083550             0.305137  0.700000  0.499072  \n",
       "26  1.273908  0.066728             0.592486  0.800000  0.640000  \n",
       "27  1.474229 -0.158232             0.346944  0.566667  0.361702  \n",
       "28  1.276392 -0.181185             0.254780  0.833333  0.673203  \n",
       "29  1.481620 -1.172687            -0.006538  0.733333  0.520000  \n",
       "30  1.474375 -0.900237             0.173216  0.677419  0.538690  \n",
       "31  1.247372 -0.640256             0.106135  0.645161  0.516312  \n",
       "32  1.380085 -0.468892             0.341371  0.677419  0.483333  \n",
       "33  0.984035  0.144576             0.519335  0.774194  0.545073  \n",
       "34  1.487209 -0.004129             0.491413  0.733333  0.423077  \n",
       "35  1.351917 -0.182602             0.223654  0.800000  0.687500  \n",
       "36  1.587437 -0.261414             0.294265  0.700000  0.600000  \n",
       "37  1.143403 -0.285219             0.287384  0.700000  0.499072  \n",
       "38  1.364609  0.114717             0.425832  0.733333  0.583333  \n",
       "39  1.181973  0.307185             0.568944  0.733333  0.520000  \n",
       "40  1.212035 -0.272758             0.304686  0.741935  0.523077  \n",
       "41  1.229317  0.232177             0.509096  0.677419  0.403846  \n",
       "42  1.445067 -0.170475             0.369118  0.548387  0.452020  \n",
       "43  1.486715 -0.077213             0.393078  0.677419  0.483333  \n",
       "44  1.006206  0.109514             0.509863  0.733333  0.583333  \n",
       "45  1.088103  0.132271             0.485160  0.800000  0.720497  \n",
       "46  1.359599 -0.118609             0.177845  0.700000  0.499072  \n",
       "47  1.313001  0.040762             0.489711  0.700000  0.411765  \n",
       "48  1.265806 -0.005906             0.439125  0.800000  0.720497  \n",
       "49  1.144509 -0.855361             0.426948  0.733333  0.583333  "
      ]
     },
     "execution_count": 18,
     "metadata": {},
     "output_type": "execute_result"
    }
   ],
   "source": [
    "aml_sc.val_perf.head(50)"
   ]
  },
  {
   "cell_type": "code",
   "execution_count": 19,
   "id": "abda9713-ba01-4308-90fe-d04f7c2e1a9a",
   "metadata": {},
   "outputs": [
    {
     "data": {
      "text/html": [
       "<div>\n",
       "<style scoped>\n",
       "    .dataframe tbody tr th:only-of-type {\n",
       "        vertical-align: middle;\n",
       "    }\n",
       "\n",
       "    .dataframe tbody tr th {\n",
       "        vertical-align: top;\n",
       "    }\n",
       "\n",
       "    .dataframe thead th {\n",
       "        text-align: right;\n",
       "    }\n",
       "</style>\n",
       "<table border=\"1\" class=\"dataframe\">\n",
       "  <thead>\n",
       "    <tr style=\"text-align: right;\">\n",
       "      <th></th>\n",
       "      <th>model</th>\n",
       "      <th>MAE</th>\n",
       "      <th>MSE</th>\n",
       "      <th>RMSE</th>\n",
       "      <th>R2</th>\n",
       "      <th>Pearson_Correlation</th>\n",
       "      <th>Accuracy</th>\n",
       "      <th>F1-Score</th>\n",
       "    </tr>\n",
       "  </thead>\n",
       "  <tbody>\n",
       "    <tr>\n",
       "      <th>0</th>\n",
       "      <td>XGBoost_lr_search_selection_AutoML_1_20220724_...</td>\n",
       "      <td>1.124008</td>\n",
       "      <td>2.041361</td>\n",
       "      <td>1.428762</td>\n",
       "      <td>-0.466072</td>\n",
       "      <td>0.138056</td>\n",
       "      <td>0.658824</td>\n",
       "      <td>0.548617</td>\n",
       "    </tr>\n",
       "    <tr>\n",
       "      <th>1</th>\n",
       "      <td>GBM_3_AutoML_1_20220724_222904</td>\n",
       "      <td>1.058027</td>\n",
       "      <td>1.754860</td>\n",
       "      <td>1.324711</td>\n",
       "      <td>-0.260312</td>\n",
       "      <td>0.254500</td>\n",
       "      <td>0.705882</td>\n",
       "      <td>0.568177</td>\n",
       "    </tr>\n",
       "    <tr>\n",
       "      <th>2</th>\n",
       "      <td>DeepLearning_grid_3_AutoML_1_20220724_222904_m...</td>\n",
       "      <td>1.213572</td>\n",
       "      <td>2.305900</td>\n",
       "      <td>1.518519</td>\n",
       "      <td>-0.656059</td>\n",
       "      <td>0.305151</td>\n",
       "      <td>0.705882</td>\n",
       "      <td>0.584067</td>\n",
       "    </tr>\n",
       "    <tr>\n",
       "      <th>3</th>\n",
       "      <td>DeepLearning_grid_3_AutoML_1_20220724_222904_m...</td>\n",
       "      <td>1.303683</td>\n",
       "      <td>2.493627</td>\n",
       "      <td>1.579122</td>\n",
       "      <td>-0.790881</td>\n",
       "      <td>0.241903</td>\n",
       "      <td>0.717647</td>\n",
       "      <td>0.632035</td>\n",
       "    </tr>\n",
       "    <tr>\n",
       "      <th>4</th>\n",
       "      <td>XGBoost_grid_1_AutoML_1_20220724_222904_model_2</td>\n",
       "      <td>1.187237</td>\n",
       "      <td>2.254990</td>\n",
       "      <td>1.501662</td>\n",
       "      <td>-0.619496</td>\n",
       "      <td>0.131650</td>\n",
       "      <td>0.588235</td>\n",
       "      <td>0.498229</td>\n",
       "    </tr>\n",
       "    <tr>\n",
       "      <th>5</th>\n",
       "      <td>GBM_grid_1_AutoML_1_20220724_222904_model_7</td>\n",
       "      <td>1.154420</td>\n",
       "      <td>2.000824</td>\n",
       "      <td>1.414505</td>\n",
       "      <td>-0.436958</td>\n",
       "      <td>0.153888</td>\n",
       "      <td>0.658824</td>\n",
       "      <td>0.499086</td>\n",
       "    </tr>\n",
       "    <tr>\n",
       "      <th>6</th>\n",
       "      <td>XGBoost_grid_1_AutoML_1_20220724_222904_model_24</td>\n",
       "      <td>1.078260</td>\n",
       "      <td>1.721145</td>\n",
       "      <td>1.311924</td>\n",
       "      <td>-0.236098</td>\n",
       "      <td>0.197758</td>\n",
       "      <td>0.611765</td>\n",
       "      <td>0.501333</td>\n",
       "    </tr>\n",
       "    <tr>\n",
       "      <th>7</th>\n",
       "      <td>GBM_1_AutoML_1_20220724_222904</td>\n",
       "      <td>1.177760</td>\n",
       "      <td>2.072974</td>\n",
       "      <td>1.439783</td>\n",
       "      <td>-0.488775</td>\n",
       "      <td>0.196560</td>\n",
       "      <td>0.658824</td>\n",
       "      <td>0.478307</td>\n",
       "    </tr>\n",
       "    <tr>\n",
       "      <th>8</th>\n",
       "      <td>GBM_grid_1_AutoML_1_20220724_222904_model_9</td>\n",
       "      <td>1.194730</td>\n",
       "      <td>2.067464</td>\n",
       "      <td>1.437868</td>\n",
       "      <td>-0.484819</td>\n",
       "      <td>0.198071</td>\n",
       "      <td>0.682353</td>\n",
       "      <td>0.514286</td>\n",
       "    </tr>\n",
       "    <tr>\n",
       "      <th>9</th>\n",
       "      <td>GBM_grid_1_AutoML_1_20220724_222904_model_12</td>\n",
       "      <td>1.043396</td>\n",
       "      <td>1.760075</td>\n",
       "      <td>1.326678</td>\n",
       "      <td>-0.264057</td>\n",
       "      <td>0.292765</td>\n",
       "      <td>0.647059</td>\n",
       "      <td>0.491627</td>\n",
       "    </tr>\n",
       "  </tbody>\n",
       "</table>\n",
       "</div>"
      ],
      "text/plain": [
       "                                               model       MAE       MSE  \\\n",
       "0  XGBoost_lr_search_selection_AutoML_1_20220724_...  1.124008  2.041361   \n",
       "1                     GBM_3_AutoML_1_20220724_222904  1.058027  1.754860   \n",
       "2  DeepLearning_grid_3_AutoML_1_20220724_222904_m...  1.213572  2.305900   \n",
       "3  DeepLearning_grid_3_AutoML_1_20220724_222904_m...  1.303683  2.493627   \n",
       "4    XGBoost_grid_1_AutoML_1_20220724_222904_model_2  1.187237  2.254990   \n",
       "5        GBM_grid_1_AutoML_1_20220724_222904_model_7  1.154420  2.000824   \n",
       "6   XGBoost_grid_1_AutoML_1_20220724_222904_model_24  1.078260  1.721145   \n",
       "7                     GBM_1_AutoML_1_20220724_222904  1.177760  2.072974   \n",
       "8        GBM_grid_1_AutoML_1_20220724_222904_model_9  1.194730  2.067464   \n",
       "9       GBM_grid_1_AutoML_1_20220724_222904_model_12  1.043396  1.760075   \n",
       "\n",
       "       RMSE        R2  Pearson_Correlation  Accuracy  F1-Score  \n",
       "0  1.428762 -0.466072             0.138056  0.658824  0.548617  \n",
       "1  1.324711 -0.260312             0.254500  0.705882  0.568177  \n",
       "2  1.518519 -0.656059             0.305151  0.705882  0.584067  \n",
       "3  1.579122 -0.790881             0.241903  0.717647  0.632035  \n",
       "4  1.501662 -0.619496             0.131650  0.588235  0.498229  \n",
       "5  1.414505 -0.436958             0.153888  0.658824  0.499086  \n",
       "6  1.311924 -0.236098             0.197758  0.611765  0.501333  \n",
       "7  1.439783 -0.488775             0.196560  0.658824  0.478307  \n",
       "8  1.437868 -0.484819             0.198071  0.682353  0.514286  \n",
       "9  1.326678 -0.264057             0.292765  0.647059  0.491627  "
      ]
     },
     "execution_count": 19,
     "metadata": {},
     "output_type": "execute_result"
    }
   ],
   "source": [
    "aml_sc.test_perf.head(50)"
   ]
  },
  {
   "cell_type": "code",
   "execution_count": 42,
   "id": "b11c71d8-13fb-483c-a388-df218829179e",
   "metadata": {},
   "outputs": [
    {
     "name": "stdout",
     "output_type": "stream",
     "text": [
      "Model Details\n",
      "=============\n",
      "H2OXGBoostEstimator :  XGBoost\n",
      "Model Key:  XGBoost_lr_search_selection_AutoML_1_20220724_222904_select_grid_model_1\n",
      "\n",
      "\n",
      "Model Summary: \n"
     ]
    },
    {
     "data": {
      "text/html": [
       "<div>\n",
       "<style scoped>\n",
       "    .dataframe tbody tr th:only-of-type {\n",
       "        vertical-align: middle;\n",
       "    }\n",
       "\n",
       "    .dataframe tbody tr th {\n",
       "        vertical-align: top;\n",
       "    }\n",
       "\n",
       "    .dataframe thead th {\n",
       "        text-align: right;\n",
       "    }\n",
       "</style>\n",
       "<table border=\"1\" class=\"dataframe\">\n",
       "  <thead>\n",
       "    <tr style=\"text-align: right;\">\n",
       "      <th></th>\n",
       "      <th></th>\n",
       "      <th>number_of_trees</th>\n",
       "    </tr>\n",
       "  </thead>\n",
       "  <tbody>\n",
       "    <tr>\n",
       "      <th>0</th>\n",
       "      <td></td>\n",
       "      <td>31.0</td>\n",
       "    </tr>\n",
       "  </tbody>\n",
       "</table>\n",
       "</div>"
      ],
      "text/plain": [
       "     number_of_trees\n",
       "0               31.0"
      ]
     },
     "metadata": {},
     "output_type": "display_data"
    },
    {
     "name": "stdout",
     "output_type": "stream",
     "text": [
      "\n",
      "\n",
      "ModelMetricsRegression: xgboost\n",
      "** Reported on train data. **\n",
      "\n",
      "MSE: 0.47536937045789057\n",
      "RMSE: 0.6894703550247034\n",
      "MAE: 0.5362376985507772\n",
      "RMSLE: NaN\n",
      "Mean Residual Deviance: 0.47536937045789057\n",
      "\n",
      "ModelMetricsRegression: xgboost\n",
      "** Reported on cross-validation data. **\n",
      "\n",
      "MSE: 1.446102672573799\n",
      "RMSE: 1.2025400918779379\n",
      "MAE: 0.9737197342696354\n",
      "RMSLE: NaN\n",
      "Mean Residual Deviance: 1.446102672573799\n",
      "\n",
      "Cross-Validation Metrics Summary: \n"
     ]
    },
    {
     "data": {
      "text/html": [
       "<div>\n",
       "<style scoped>\n",
       "    .dataframe tbody tr th:only-of-type {\n",
       "        vertical-align: middle;\n",
       "    }\n",
       "\n",
       "    .dataframe tbody tr th {\n",
       "        vertical-align: top;\n",
       "    }\n",
       "\n",
       "    .dataframe thead th {\n",
       "        text-align: right;\n",
       "    }\n",
       "</style>\n",
       "<table border=\"1\" class=\"dataframe\">\n",
       "  <thead>\n",
       "    <tr style=\"text-align: right;\">\n",
       "      <th></th>\n",
       "      <th></th>\n",
       "      <th>mean</th>\n",
       "      <th>sd</th>\n",
       "      <th>cv_1_valid</th>\n",
       "      <th>cv_2_valid</th>\n",
       "      <th>cv_3_valid</th>\n",
       "      <th>cv_4_valid</th>\n",
       "      <th>cv_5_valid</th>\n",
       "    </tr>\n",
       "  </thead>\n",
       "  <tbody>\n",
       "    <tr>\n",
       "      <th>0</th>\n",
       "      <td>mae</td>\n",
       "      <td>0.973956</td>\n",
       "      <td>0.058759</td>\n",
       "      <td>0.995007</td>\n",
       "      <td>1.002539</td>\n",
       "      <td>0.912949</td>\n",
       "      <td>0.913448</td>\n",
       "      <td>1.045838</td>\n",
       "    </tr>\n",
       "    <tr>\n",
       "      <th>1</th>\n",
       "      <td>mean_residual_deviance</td>\n",
       "      <td>1.446900</td>\n",
       "      <td>0.165129</td>\n",
       "      <td>1.314796</td>\n",
       "      <td>1.541315</td>\n",
       "      <td>1.306257</td>\n",
       "      <td>1.382733</td>\n",
       "      <td>1.689401</td>\n",
       "    </tr>\n",
       "    <tr>\n",
       "      <th>2</th>\n",
       "      <td>mse</td>\n",
       "      <td>1.446900</td>\n",
       "      <td>0.165129</td>\n",
       "      <td>1.314796</td>\n",
       "      <td>1.541315</td>\n",
       "      <td>1.306257</td>\n",
       "      <td>1.382733</td>\n",
       "      <td>1.689401</td>\n",
       "    </tr>\n",
       "    <tr>\n",
       "      <th>3</th>\n",
       "      <td>r2</td>\n",
       "      <td>0.037673</td>\n",
       "      <td>0.092748</td>\n",
       "      <td>0.080473</td>\n",
       "      <td>0.140492</td>\n",
       "      <td>-0.068544</td>\n",
       "      <td>-0.052550</td>\n",
       "      <td>0.088496</td>\n",
       "    </tr>\n",
       "    <tr>\n",
       "      <th>4</th>\n",
       "      <td>residual_deviance</td>\n",
       "      <td>1.446900</td>\n",
       "      <td>0.165129</td>\n",
       "      <td>1.314796</td>\n",
       "      <td>1.541315</td>\n",
       "      <td>1.306257</td>\n",
       "      <td>1.382733</td>\n",
       "      <td>1.689401</td>\n",
       "    </tr>\n",
       "    <tr>\n",
       "      <th>5</th>\n",
       "      <td>rmse</td>\n",
       "      <td>1.201345</td>\n",
       "      <td>0.067737</td>\n",
       "      <td>1.146645</td>\n",
       "      <td>1.241497</td>\n",
       "      <td>1.142916</td>\n",
       "      <td>1.175896</td>\n",
       "      <td>1.299770</td>\n",
       "    </tr>\n",
       "    <tr>\n",
       "      <th>6</th>\n",
       "      <td>rmsle</td>\n",
       "      <td>0.640839</td>\n",
       "      <td>0.121023</td>\n",
       "      <td>0.536415</td>\n",
       "      <td>0.740084</td>\n",
       "      <td>NaN</td>\n",
       "      <td>0.751068</td>\n",
       "      <td>0.535789</td>\n",
       "    </tr>\n",
       "  </tbody>\n",
       "</table>\n",
       "</div>"
      ],
      "text/plain": [
       "                               mean        sd  cv_1_valid  cv_2_valid  \\\n",
       "0                     mae  0.973956  0.058759    0.995007    1.002539   \n",
       "1  mean_residual_deviance  1.446900  0.165129    1.314796    1.541315   \n",
       "2                     mse  1.446900  0.165129    1.314796    1.541315   \n",
       "3                      r2  0.037673  0.092748    0.080473    0.140492   \n",
       "4       residual_deviance  1.446900  0.165129    1.314796    1.541315   \n",
       "5                    rmse  1.201345  0.067737    1.146645    1.241497   \n",
       "6                   rmsle  0.640839  0.121023    0.536415    0.740084   \n",
       "\n",
       "   cv_3_valid  cv_4_valid  cv_5_valid  \n",
       "0    0.912949    0.913448    1.045838  \n",
       "1    1.306257    1.382733    1.689401  \n",
       "2    1.306257    1.382733    1.689401  \n",
       "3   -0.068544   -0.052550    0.088496  \n",
       "4    1.306257    1.382733    1.689401  \n",
       "5    1.142916    1.175896    1.299770  \n",
       "6         NaN    0.751068    0.535789  "
      ]
     },
     "metadata": {},
     "output_type": "display_data"
    },
    {
     "name": "stdout",
     "output_type": "stream",
     "text": [
      "\n",
      "Scoring History: \n"
     ]
    },
    {
     "data": {
      "text/html": [
       "<div>\n",
       "<style scoped>\n",
       "    .dataframe tbody tr th:only-of-type {\n",
       "        vertical-align: middle;\n",
       "    }\n",
       "\n",
       "    .dataframe tbody tr th {\n",
       "        vertical-align: top;\n",
       "    }\n",
       "\n",
       "    .dataframe thead th {\n",
       "        text-align: right;\n",
       "    }\n",
       "</style>\n",
       "<table border=\"1\" class=\"dataframe\">\n",
       "  <thead>\n",
       "    <tr style=\"text-align: right;\">\n",
       "      <th></th>\n",
       "      <th></th>\n",
       "      <th>timestamp</th>\n",
       "      <th>duration</th>\n",
       "      <th>number_of_trees</th>\n",
       "      <th>training_rmse</th>\n",
       "      <th>training_mae</th>\n",
       "      <th>training_deviance</th>\n",
       "    </tr>\n",
       "  </thead>\n",
       "  <tbody>\n",
       "    <tr>\n",
       "      <th>0</th>\n",
       "      <td></td>\n",
       "      <td>2022-07-24 22:30:04</td>\n",
       "      <td>0.177 sec</td>\n",
       "      <td>0.0</td>\n",
       "      <td>1.619102</td>\n",
       "      <td>1.247555</td>\n",
       "      <td>2.621492</td>\n",
       "    </tr>\n",
       "    <tr>\n",
       "      <th>1</th>\n",
       "      <td></td>\n",
       "      <td>2022-07-24 22:30:04</td>\n",
       "      <td>0.186 sec</td>\n",
       "      <td>5.0</td>\n",
       "      <td>1.138718</td>\n",
       "      <td>0.884590</td>\n",
       "      <td>1.296678</td>\n",
       "    </tr>\n",
       "    <tr>\n",
       "      <th>2</th>\n",
       "      <td></td>\n",
       "      <td>2022-07-24 22:30:04</td>\n",
       "      <td>0.195 sec</td>\n",
       "      <td>10.0</td>\n",
       "      <td>0.993756</td>\n",
       "      <td>0.787982</td>\n",
       "      <td>0.987551</td>\n",
       "    </tr>\n",
       "    <tr>\n",
       "      <th>3</th>\n",
       "      <td></td>\n",
       "      <td>2022-07-24 22:30:04</td>\n",
       "      <td>0.202 sec</td>\n",
       "      <td>15.0</td>\n",
       "      <td>0.895574</td>\n",
       "      <td>0.710016</td>\n",
       "      <td>0.802052</td>\n",
       "    </tr>\n",
       "    <tr>\n",
       "      <th>4</th>\n",
       "      <td></td>\n",
       "      <td>2022-07-24 22:30:04</td>\n",
       "      <td>0.209 sec</td>\n",
       "      <td>20.0</td>\n",
       "      <td>0.815720</td>\n",
       "      <td>0.634302</td>\n",
       "      <td>0.665400</td>\n",
       "    </tr>\n",
       "    <tr>\n",
       "      <th>5</th>\n",
       "      <td></td>\n",
       "      <td>2022-07-24 22:30:04</td>\n",
       "      <td>0.216 sec</td>\n",
       "      <td>25.0</td>\n",
       "      <td>0.752178</td>\n",
       "      <td>0.586556</td>\n",
       "      <td>0.565772</td>\n",
       "    </tr>\n",
       "    <tr>\n",
       "      <th>6</th>\n",
       "      <td></td>\n",
       "      <td>2022-07-24 22:30:04</td>\n",
       "      <td>0.233 sec</td>\n",
       "      <td>30.0</td>\n",
       "      <td>0.703268</td>\n",
       "      <td>0.545920</td>\n",
       "      <td>0.494585</td>\n",
       "    </tr>\n",
       "    <tr>\n",
       "      <th>7</th>\n",
       "      <td></td>\n",
       "      <td>2022-07-24 22:30:04</td>\n",
       "      <td>0.237 sec</td>\n",
       "      <td>31.0</td>\n",
       "      <td>0.689470</td>\n",
       "      <td>0.536238</td>\n",
       "      <td>0.475369</td>\n",
       "    </tr>\n",
       "  </tbody>\n",
       "</table>\n",
       "</div>"
      ],
      "text/plain": [
       "               timestamp    duration  number_of_trees  training_rmse  \\\n",
       "0    2022-07-24 22:30:04   0.177 sec              0.0       1.619102   \n",
       "1    2022-07-24 22:30:04   0.186 sec              5.0       1.138718   \n",
       "2    2022-07-24 22:30:04   0.195 sec             10.0       0.993756   \n",
       "3    2022-07-24 22:30:04   0.202 sec             15.0       0.895574   \n",
       "4    2022-07-24 22:30:04   0.209 sec             20.0       0.815720   \n",
       "5    2022-07-24 22:30:04   0.216 sec             25.0       0.752178   \n",
       "6    2022-07-24 22:30:04   0.233 sec             30.0       0.703268   \n",
       "7    2022-07-24 22:30:04   0.237 sec             31.0       0.689470   \n",
       "\n",
       "   training_mae  training_deviance  \n",
       "0      1.247555           2.621492  \n",
       "1      0.884590           1.296678  \n",
       "2      0.787982           0.987551  \n",
       "3      0.710016           0.802052  \n",
       "4      0.634302           0.665400  \n",
       "5      0.586556           0.565772  \n",
       "6      0.545920           0.494585  \n",
       "7      0.536238           0.475369  "
      ]
     },
     "metadata": {},
     "output_type": "display_data"
    },
    {
     "name": "stdout",
     "output_type": "stream",
     "text": [
      "\n",
      "Variable Importances: \n"
     ]
    },
    {
     "data": {
      "text/html": [
       "<div>\n",
       "<style scoped>\n",
       "    .dataframe tbody tr th:only-of-type {\n",
       "        vertical-align: middle;\n",
       "    }\n",
       "\n",
       "    .dataframe tbody tr th {\n",
       "        vertical-align: top;\n",
       "    }\n",
       "\n",
       "    .dataframe thead th {\n",
       "        text-align: right;\n",
       "    }\n",
       "</style>\n",
       "<table border=\"1\" class=\"dataframe\">\n",
       "  <thead>\n",
       "    <tr style=\"text-align: right;\">\n",
       "      <th></th>\n",
       "      <th>variable</th>\n",
       "      <th>relative_importance</th>\n",
       "      <th>scaled_importance</th>\n",
       "      <th>percentage</th>\n",
       "    </tr>\n",
       "  </thead>\n",
       "  <tbody>\n",
       "    <tr>\n",
       "      <th>0</th>\n",
       "      <td>DAS28_CRP_0M</td>\n",
       "      <td>41.874229</td>\n",
       "      <td>1.000000</td>\n",
       "      <td>0.134947</td>\n",
       "    </tr>\n",
       "    <tr>\n",
       "      <th>1</th>\n",
       "      <td>weight</td>\n",
       "      <td>21.723515</td>\n",
       "      <td>0.518780</td>\n",
       "      <td>0.070008</td>\n",
       "    </tr>\n",
       "    <tr>\n",
       "      <th>2</th>\n",
       "      <td>usresultsCRP</td>\n",
       "      <td>20.026340</td>\n",
       "      <td>0.478250</td>\n",
       "      <td>0.064538</td>\n",
       "    </tr>\n",
       "    <tr>\n",
       "      <th>3</th>\n",
       "      <td>seatedbp2</td>\n",
       "      <td>16.387033</td>\n",
       "      <td>0.391339</td>\n",
       "      <td>0.052810</td>\n",
       "    </tr>\n",
       "    <tr>\n",
       "      <th>4</th>\n",
       "      <td>BMI</td>\n",
       "      <td>15.445545</td>\n",
       "      <td>0.368856</td>\n",
       "      <td>0.049776</td>\n",
       "    </tr>\n",
       "    <tr>\n",
       "      <th>5</th>\n",
       "      <td>swollen_jts_28</td>\n",
       "      <td>14.792601</td>\n",
       "      <td>0.353263</td>\n",
       "      <td>0.047672</td>\n",
       "    </tr>\n",
       "    <tr>\n",
       "      <th>6</th>\n",
       "      <td>age</td>\n",
       "      <td>13.578554</td>\n",
       "      <td>0.324270</td>\n",
       "      <td>0.043759</td>\n",
       "    </tr>\n",
       "    <tr>\n",
       "      <th>7</th>\n",
       "      <td>usresultsRF</td>\n",
       "      <td>13.166860</td>\n",
       "      <td>0.314438</td>\n",
       "      <td>0.042432</td>\n",
       "    </tr>\n",
       "    <tr>\n",
       "      <th>8</th>\n",
       "      <td>tender_jts_28</td>\n",
       "      <td>12.188334</td>\n",
       "      <td>0.291070</td>\n",
       "      <td>0.039279</td>\n",
       "    </tr>\n",
       "    <tr>\n",
       "      <th>9</th>\n",
       "      <td>usresultsIgA</td>\n",
       "      <td>11.387392</td>\n",
       "      <td>0.271943</td>\n",
       "      <td>0.036698</td>\n",
       "    </tr>\n",
       "    <tr>\n",
       "      <th>10</th>\n",
       "      <td>usresultsIgG</td>\n",
       "      <td>10.190974</td>\n",
       "      <td>0.243371</td>\n",
       "      <td>0.032842</td>\n",
       "    </tr>\n",
       "    <tr>\n",
       "      <th>11</th>\n",
       "      <td>pt_global_assess</td>\n",
       "      <td>9.886873</td>\n",
       "      <td>0.236109</td>\n",
       "      <td>0.031862</td>\n",
       "    </tr>\n",
       "    <tr>\n",
       "      <th>12</th>\n",
       "      <td>usresultsIgM</td>\n",
       "      <td>9.562118</td>\n",
       "      <td>0.228353</td>\n",
       "      <td>0.030816</td>\n",
       "    </tr>\n",
       "    <tr>\n",
       "      <th>13</th>\n",
       "      <td>duration_ra</td>\n",
       "      <td>8.994658</td>\n",
       "      <td>0.214802</td>\n",
       "      <td>0.028987</td>\n",
       "    </tr>\n",
       "    <tr>\n",
       "      <th>14</th>\n",
       "      <td>seatedbp1</td>\n",
       "      <td>8.956508</td>\n",
       "      <td>0.213891</td>\n",
       "      <td>0.028864</td>\n",
       "    </tr>\n",
       "    <tr>\n",
       "      <th>15</th>\n",
       "      <td>md_global_assess</td>\n",
       "      <td>7.772262</td>\n",
       "      <td>0.185610</td>\n",
       "      <td>0.025047</td>\n",
       "    </tr>\n",
       "    <tr>\n",
       "      <th>16</th>\n",
       "      <td>usresultsCCP3</td>\n",
       "      <td>7.228672</td>\n",
       "      <td>0.172628</td>\n",
       "      <td>0.023296</td>\n",
       "    </tr>\n",
       "    <tr>\n",
       "      <th>17</th>\n",
       "      <td>height</td>\n",
       "      <td>7.183538</td>\n",
       "      <td>0.171550</td>\n",
       "      <td>0.023150</td>\n",
       "    </tr>\n",
       "    <tr>\n",
       "      <th>18</th>\n",
       "      <td>di</td>\n",
       "      <td>6.865250</td>\n",
       "      <td>0.163949</td>\n",
       "      <td>0.022124</td>\n",
       "    </tr>\n",
       "    <tr>\n",
       "      <th>19</th>\n",
       "      <td>grp.3</td>\n",
       "      <td>6.346355</td>\n",
       "      <td>0.151558</td>\n",
       "      <td>0.020452</td>\n",
       "    </tr>\n",
       "  </tbody>\n",
       "</table>\n",
       "</div>"
      ],
      "text/plain": [
       "            variable  relative_importance  scaled_importance  percentage\n",
       "0       DAS28_CRP_0M            41.874229           1.000000    0.134947\n",
       "1             weight            21.723515           0.518780    0.070008\n",
       "2       usresultsCRP            20.026340           0.478250    0.064538\n",
       "3          seatedbp2            16.387033           0.391339    0.052810\n",
       "4                BMI            15.445545           0.368856    0.049776\n",
       "5     swollen_jts_28            14.792601           0.353263    0.047672\n",
       "6                age            13.578554           0.324270    0.043759\n",
       "7        usresultsRF            13.166860           0.314438    0.042432\n",
       "8      tender_jts_28            12.188334           0.291070    0.039279\n",
       "9       usresultsIgA            11.387392           0.271943    0.036698\n",
       "10      usresultsIgG            10.190974           0.243371    0.032842\n",
       "11  pt_global_assess             9.886873           0.236109    0.031862\n",
       "12      usresultsIgM             9.562118           0.228353    0.030816\n",
       "13       duration_ra             8.994658           0.214802    0.028987\n",
       "14         seatedbp1             8.956508           0.213891    0.028864\n",
       "15  md_global_assess             7.772262           0.185610    0.025047\n",
       "16     usresultsCCP3             7.228672           0.172628    0.023296\n",
       "17            height             7.183538           0.171550    0.023150\n",
       "18                di             6.865250           0.163949    0.022124\n",
       "19             grp.3             6.346355           0.151558    0.020452"
      ]
     },
     "metadata": {},
     "output_type": "display_data"
    },
    {
     "name": "stdout",
     "output_type": "stream",
     "text": [
      "\n",
      "See the whole table with table.as_data_frame()\n"
     ]
    },
    {
     "data": {
      "text/plain": []
     },
     "execution_count": 42,
     "metadata": {},
     "output_type": "execute_result"
    }
   ],
   "source": [
    "aml.leader"
   ]
  },
  {
   "cell_type": "code",
   "execution_count": 49,
   "id": "971f2b45-c1ba-4227-9f4e-ff1aae3b441e",
   "metadata": {},
   "outputs": [],
   "source": [
    "m = h2o.get_model(lb.as_data_frame().sort_values(by=['mse'], ascending=True).loc[:30,\"model_id\"][1])"
   ]
  },
  {
   "cell_type": "code",
   "execution_count": 52,
   "id": "7b3626d0-b8af-4605-821c-9ad4bd93c860",
   "metadata": {},
   "outputs": [],
   "source": [
    "# dir(m)"
   ]
  },
  {
   "cell_type": "code",
   "execution_count": 21,
   "id": "cacac56a-58ae-4c60-bd9f-48403a3fe00e",
   "metadata": {},
   "outputs": [],
   "source": [
    "# aml_sc.saved_model"
   ]
  },
  {
   "cell_type": "code",
   "execution_count": null,
   "id": "7f304063-3b6d-4558-a567-bb0f1ba407a3",
   "metadata": {},
   "outputs": [],
   "source": [
    "# aml_sc = evaluate.AutoBuild(seed=1, project_name=\"EHR_RA_SC\")\n",
    "# test, test_loc = dataset.get_test()\n",
    "# baseline = test['DAS28_CRP_0M']\n",
    "# true = test['DAS28_CRP_3M']"
   ]
  },
  {
   "cell_type": "code",
   "execution_count": null,
   "id": "5caa1602-05fd-46b2-bf84-b3719f6afeb4",
   "metadata": {},
   "outputs": [],
   "source": [
    "# pred = pred.as_data_frame()"
   ]
  },
  {
   "cell_type": "code",
   "execution_count": 22,
   "id": "3c28cdf6-8bec-4de7-a488-9e5b8fba01d6",
   "metadata": {},
   "outputs": [
    {
     "name": "stdout",
     "output_type": "stream",
     "text": [
      "\n",
      "ModelMetricsRegression: xgboost\n",
      "** Reported on test data. **\n",
      "\n",
      "MSE: 0.47536937045789057\n",
      "RMSE: 0.6894703550247034\n",
      "MAE: 0.5362376985507772\n",
      "RMSLE: NaN\n",
      "Mean Residual Deviance: 0.47536937045789057\n"
     ]
    },
    {
     "data": {
      "text/plain": []
     },
     "execution_count": 22,
     "metadata": {},
     "output_type": "execute_result"
    }
   ],
   "source": [
    "perf = aml.leader.model_performance(train_h2o)\n",
    "perf"
   ]
  },
  {
   "cell_type": "code",
   "execution_count": 23,
   "id": "11534716-f28c-43b6-9698-5b379a760e32",
   "metadata": {},
   "outputs": [
    {
     "name": "stdout",
     "output_type": "stream",
     "text": [
      "\n",
      "ModelMetricsRegression: xgboost\n",
      "** Reported on test data. **\n",
      "\n",
      "MSE: 1.341323021701554\n",
      "RMSE: 1.158155007631342\n",
      "MAE: 0.9780099946786376\n",
      "RMSLE: NaN\n",
      "Mean Residual Deviance: 1.341323021701554\n"
     ]
    },
    {
     "data": {
      "text/plain": []
     },
     "execution_count": 23,
     "metadata": {},
     "output_type": "execute_result"
    }
   ],
   "source": [
    "perf = aml.leader.model_performance(test_h2o)\n",
    "perf"
   ]
  },
  {
   "cell_type": "code",
   "execution_count": 28,
   "id": "93ca5845-735c-448d-83bf-1c35beea44c6",
   "metadata": {},
   "outputs": [],
   "source": [
    "# aml_sc.saved_model"
   ]
  },
  {
   "cell_type": "code",
   "execution_count": 29,
   "id": "8917e089-1699-4d7d-8536-1d0ece2862b3",
   "metadata": {},
   "outputs": [],
   "source": [
    "# aml_sc.evaluate('XGBoost_lr_search_selection_AutoML_1_20220724_222904_select_grid_model_1', aml.leader, \"test\", testset, aml_sc.test_perf)"
   ]
  },
  {
   "cell_type": "code",
   "execution_count": 40,
   "id": "ce591d66-cee3-4979-8131-c1c73bc45311",
   "metadata": {},
   "outputs": [
    {
     "name": "stdout",
     "output_type": "stream",
     "text": [
      "Parse progress: |████████████████████████████████████████████████████████████████| (done) 100%\n",
      "xgboost prediction progress: |███████████████████████████████████████████████████| (done) 100%\n"
     ]
    },
    {
     "data": {
      "text/plain": [
       "0     1.255168\n",
       "1     2.286309\n",
       "2     2.392133\n",
       "3     0.812751\n",
       "4     1.259574\n",
       "        ...   \n",
       "80    1.178084\n",
       "81    0.396744\n",
       "82    1.674447\n",
       "83    1.862879\n",
       "84    1.558436\n",
       "Name: predict, Length: 85, dtype: float64"
      ]
     },
     "execution_count": 40,
     "metadata": {},
     "output_type": "execute_result"
    }
   ],
   "source": [
    "model = aml.leader\n",
    "true = test[dataset.target]\n",
    "X = test.drop(columns=dataset.target)\n",
    "X = h2o.H2OFrame(X)\n",
    "pred = model.predict(X).as_data_frame()['predict']\n",
    "pred"
   ]
  },
  {
   "cell_type": "code",
   "execution_count": 41,
   "id": "c8d118ff-b831-4678-b64e-8ecc9a9c5c9f",
   "metadata": {},
   "outputs": [
    {
     "data": {
      "text/plain": [
       "1.3413230520336332"
      ]
     },
     "execution_count": 41,
     "metadata": {},
     "output_type": "execute_result"
    }
   ],
   "source": [
    "from sklearn import metrics\n",
    "metrics.mean_squared_error(true, pred)"
   ]
  },
  {
   "cell_type": "code",
   "execution_count": 33,
   "id": "97084b88-5d77-4d31-9a2a-bf36ebb2c160",
   "metadata": {},
   "outputs": [
    {
     "name": "stdout",
     "output_type": "stream",
     "text": [
      "xgboost prediction progress: |███████████████████████████████████████████████████| (done) 100%\n"
     ]
    },
    {
     "name": "stderr",
     "output_type": "stream",
     "text": [
      "/Users/gaskell/miniforge_x86_64/envs/ADPred_new/lib/python3.10/site-packages/h2o/job.py:83: UserWarning: Test/Validation dataset column 'race_grp' has levels not trained on: [\"5\"]\n",
      "  warnings.warn(w)\n"
     ]
    },
    {
     "data": {
      "text/html": [
       "<table>\n",
       "<thead>\n",
       "<tr><th style=\"text-align: right;\">  predict</th></tr>\n",
       "</thead>\n",
       "<tbody>\n",
       "<tr><td style=\"text-align: right;\"> 1.25517 </td></tr>\n",
       "<tr><td style=\"text-align: right;\"> 2.28631 </td></tr>\n",
       "<tr><td style=\"text-align: right;\"> 2.39213 </td></tr>\n",
       "<tr><td style=\"text-align: right;\"> 0.812751</td></tr>\n",
       "<tr><td style=\"text-align: right;\"> 1.25957 </td></tr>\n",
       "<tr><td style=\"text-align: right;\"> 1.08353 </td></tr>\n",
       "<tr><td style=\"text-align: right;\"> 2.06492 </td></tr>\n",
       "<tr><td style=\"text-align: right;\"> 1.15485 </td></tr>\n",
       "<tr><td style=\"text-align: right;\"> 1.90849 </td></tr>\n",
       "<tr><td style=\"text-align: right;\"> 1.48913 </td></tr>\n",
       "</tbody>\n",
       "</table>"
      ]
     },
     "metadata": {},
     "output_type": "display_data"
    },
    {
     "data": {
      "text/plain": []
     },
     "execution_count": 33,
     "metadata": {},
     "output_type": "execute_result"
    }
   ],
   "source": [
    "model.predict(test_h2o)"
   ]
  },
  {
   "cell_type": "code",
   "execution_count": 24,
   "id": "30bf663b-fd43-40bb-a6b0-9a61e8a73dd6",
   "metadata": {},
   "outputs": [
    {
     "name": "stdout",
     "output_type": "stream",
     "text": [
      "xgboost prediction progress: |███████████████████████████████████████████████████| (done) 100%\n"
     ]
    },
    {
     "name": "stderr",
     "output_type": "stream",
     "text": [
      "/Users/gaskell/miniforge_x86_64/envs/ADPred_new/lib/python3.10/site-packages/h2o/job.py:83: UserWarning: Test/Validation dataset column 'race_grp' has levels not trained on: [\"5\"]\n",
      "  warnings.warn(w)\n"
     ]
    },
    {
     "data": {
      "text/html": [
       "<table>\n",
       "<thead>\n",
       "<tr><th style=\"text-align: right;\">  predict</th></tr>\n",
       "</thead>\n",
       "<tbody>\n",
       "<tr><td style=\"text-align: right;\"> 1.25517 </td></tr>\n",
       "<tr><td style=\"text-align: right;\"> 2.28631 </td></tr>\n",
       "<tr><td style=\"text-align: right;\"> 2.39213 </td></tr>\n",
       "<tr><td style=\"text-align: right;\"> 0.812751</td></tr>\n",
       "<tr><td style=\"text-align: right;\"> 1.25957 </td></tr>\n",
       "<tr><td style=\"text-align: right;\"> 1.08353 </td></tr>\n",
       "<tr><td style=\"text-align: right;\"> 2.06492 </td></tr>\n",
       "<tr><td style=\"text-align: right;\"> 1.15485 </td></tr>\n",
       "<tr><td style=\"text-align: right;\"> 1.90849 </td></tr>\n",
       "<tr><td style=\"text-align: right;\"> 1.48913 </td></tr>\n",
       "</tbody>\n",
       "</table>"
      ]
     },
     "metadata": {},
     "output_type": "display_data"
    },
    {
     "data": {
      "text/plain": []
     },
     "execution_count": 24,
     "metadata": {},
     "output_type": "execute_result"
    }
   ],
   "source": [
    "aml.leader.predict(test_h2o)"
   ]
  },
  {
   "cell_type": "code",
   "execution_count": null,
   "id": "98a0c41a-bad3-4741-9867-d42a3206db04",
   "metadata": {},
   "outputs": [],
   "source": [
    "# # Explain an AutoML object\n",
    "# exa = aml.explain(test_h2o)"
   ]
  },
  {
   "cell_type": "code",
   "execution_count": null,
   "id": "2b323de4-2a46-48d8-a693-56f9de5287a0",
   "metadata": {},
   "outputs": [],
   "source": []
  }
 ],
 "metadata": {
  "kernelspec": {
   "display_name": "ADPred_new",
   "language": "python",
   "name": "adpred_new"
  },
  "language_info": {
   "codemirror_mode": {
    "name": "ipython",
    "version": 3
   },
   "file_extension": ".py",
   "mimetype": "text/x-python",
   "name": "python",
   "nbconvert_exporter": "python",
   "pygments_lexer": "ipython3",
   "version": "3.10.4"
  }
 },
 "nbformat": 4,
 "nbformat_minor": 5
}
