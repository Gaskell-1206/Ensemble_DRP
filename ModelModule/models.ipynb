{
 "cells": [
  {
   "cell_type": "code",
   "execution_count": 1,
   "id": "989a555e-e20e-468a-8ad9-bd56e1738d89",
   "metadata": {},
   "outputs": [
    {
     "name": "stdout",
     "output_type": "stream",
     "text": [
      "(CVXPY) Jun 27 11:37:02 AM: Encountered unexpected exception importing solver CVXOPT:\n",
      "ImportError(\"dlopen(/Users/gaskell/miniforge_x86_64/envs/ADPred_new/lib/python3.10/site-packages/cvxopt/base.cpython-310-darwin.so, 0x0002): tried: '/Users/gaskell/miniforge_x86_64/envs/ADPred_new/lib/python3.10/site-packages/cvxopt/base.cpython-310-darwin.so' (mach-o file, but is an incompatible architecture (have 'x86_64', need 'arm64e'))\")\n",
      "(CVXPY) Jun 27 11:37:02 AM: Encountered unexpected exception importing solver GLPK:\n",
      "ImportError(\"dlopen(/Users/gaskell/miniforge_x86_64/envs/ADPred_new/lib/python3.10/site-packages/cvxopt/base.cpython-310-darwin.so, 0x0002): tried: '/Users/gaskell/miniforge_x86_64/envs/ADPred_new/lib/python3.10/site-packages/cvxopt/base.cpython-310-darwin.so' (mach-o file, but is an incompatible architecture (have 'x86_64', need 'arm64e'))\")\n",
      "(CVXPY) Jun 27 11:37:02 AM: Encountered unexpected exception importing solver GLPK_MI:\n",
      "ImportError(\"dlopen(/Users/gaskell/miniforge_x86_64/envs/ADPred_new/lib/python3.10/site-packages/cvxopt/base.cpython-310-darwin.so, 0x0002): tried: '/Users/gaskell/miniforge_x86_64/envs/ADPred_new/lib/python3.10/site-packages/cvxopt/base.cpython-310-darwin.so' (mach-o file, but is an incompatible architecture (have 'x86_64', need 'arm64e'))\")\n"
     ]
    },
    {
     "name": "stderr",
     "output_type": "stream",
     "text": [
      "/Users/gaskell/miniforge_x86_64/envs/ADPred_new/lib/python3.10/site-packages/xgboost/compat.py:36: FutureWarning: pandas.Int64Index is deprecated and will be removed from pandas in a future version. Use pandas.Index with the appropriate dtype instead.\n",
      "  from pandas import MultiIndex, Int64Index\n"
     ]
    }
   ],
   "source": [
    "import pandas as pd\n",
    "import numpy as np\n",
    "import sys\n",
    "sys.path.insert(0, '..')\n",
    "from DataModule.Data_Preparation import CoronnaCERTAINDataset\n",
    "import evaluate \n",
    "\n",
    "import xgboost as xgb\n",
    "from sklearn.linear_model import LinearRegression"
   ]
  },
  {
   "cell_type": "code",
   "execution_count": 2,
   "id": "6a75055a-6cc9-4054-8809-f80546b837d5",
   "metadata": {},
   "outputs": [
    {
     "name": "stdout",
     "output_type": "stream",
     "text": [
      "feature engineering, drop columns due to 70% missing value: Index(['smkyrs', 'numcigs', 'rfstatus_impute', 'ccpstatus_impute',\n",
      "       'statin_use'],\n",
      "      dtype='object')\n",
      "Imputing row 1/1498 with 0 missing, elapsed time: 0.362\n",
      "Imputing row 101/1498 with 1 missing, elapsed time: 0.362\n",
      "Imputing row 201/1498 with 0 missing, elapsed time: 0.363\n",
      "Imputing row 301/1498 with 0 missing, elapsed time: 0.363\n",
      "Imputing row 401/1498 with 0 missing, elapsed time: 0.364\n",
      "Imputing row 501/1498 with 1 missing, elapsed time: 0.364\n",
      "Imputing row 601/1498 with 0 missing, elapsed time: 0.364\n",
      "Imputing row 701/1498 with 0 missing, elapsed time: 0.365\n",
      "Imputing row 801/1498 with 0 missing, elapsed time: 0.365\n",
      "Imputing row 901/1498 with 0 missing, elapsed time: 0.366\n",
      "Imputing row 1001/1498 with 1 missing, elapsed time: 0.366\n",
      "Imputing row 1101/1498 with 0 missing, elapsed time: 0.367\n",
      "Imputing row 1201/1498 with 0 missing, elapsed time: 0.367\n",
      "Imputing row 1301/1498 with 0 missing, elapsed time: 0.367\n",
      "Imputing row 1401/1498 with 0 missing, elapsed time: 0.367\n",
      "Imputing row 1/388 with 0 missing, elapsed time: 0.026\n",
      "Imputing row 101/388 with 0 missing, elapsed time: 0.026\n",
      "Imputing row 201/388 with 0 missing, elapsed time: 0.026\n",
      "Imputing row 301/388 with 0 missing, elapsed time: 0.027\n",
      "save file to: /Users/gaskell/Dropbox/Mac/Desktop/Autoimmune_Disease/Code/ML_RA_EHR/Dataset/.csv_temp/Train.csv\n",
      "save file to: /Users/gaskell/Dropbox/Mac/Desktop/Autoimmune_Disease/Code/ML_RA_EHR/Dataset/.csv_temp/Test.csv\n"
     ]
    }
   ],
   "source": [
    "dataset = CoronnaCERTAINDataset(\n",
    "    library_root='/Users/gaskell/Dropbox/Mac/Desktop/Autoimmune_Disease/Code/ML_RA_EHR/Dataset/',\n",
    "    challenge=\"two_stage\", #option: regression, classification, two_stage\n",
    "    dataset='CORRONA CERTAIN', \n",
    "    process_approach='SC', #option: KVB, SC\n",
    "    imputation='KNN', #option: SimpleFill, KNN, SoftImpute, BiScaler, NuclearNormMinimization, IterativeImputer, IterativeSVD\n",
    "    patient_group='bionaive TNF', #option: \"all\", \"bioexp nTNF\", \"bionaive TNF\", \"bionaive orencia\", \"KVB\"\n",
    "    drug_group='all', #option: \"all\", \"actemra\", \"cimzia\", \"enbrel\", \"humira\", \"orencia\", \"remicade\", \"rituxan\", \"simponi\"\n",
    "    time_points=(0,3), \n",
    "    train_test_rate=0.8,\n",
    "    save_csv=False, \n",
    "    random_state=2022)"
   ]
  },
  {
   "cell_type": "code",
   "execution_count": 3,
   "id": "9be0135b-12da-4bf8-8a5f-eedad186fa3f",
   "metadata": {},
   "outputs": [],
   "source": [
    "# read train, test from dataloader\n",
    "train, train_loc = dataset.get_train()\n",
    "test, test_loc = dataset.get_test()"
   ]
  },
  {
   "cell_type": "code",
   "execution_count": 4,
   "id": "4e851d6d-8666-4e96-b75f-58e54b1d6e4d",
   "metadata": {},
   "outputs": [
    {
     "data": {
      "text/html": [
       "<div>\n",
       "<style scoped>\n",
       "    .dataframe tbody tr th:only-of-type {\n",
       "        vertical-align: middle;\n",
       "    }\n",
       "\n",
       "    .dataframe tbody tr th {\n",
       "        vertical-align: top;\n",
       "    }\n",
       "\n",
       "    .dataframe thead th {\n",
       "        text-align: right;\n",
       "    }\n",
       "</style>\n",
       "<table border=\"1\" class=\"dataframe\">\n",
       "  <thead>\n",
       "    <tr style=\"text-align: right;\">\n",
       "      <th></th>\n",
       "      <th>grp</th>\n",
       "      <th>age</th>\n",
       "      <th>gender</th>\n",
       "      <th>final_education</th>\n",
       "      <th>race_grp</th>\n",
       "      <th>ethnicity</th>\n",
       "      <th>weight</th>\n",
       "      <th>BMI</th>\n",
       "      <th>height</th>\n",
       "      <th>newsmoker</th>\n",
       "      <th>...</th>\n",
       "      <th>md_global_assess</th>\n",
       "      <th>pt_global_assess</th>\n",
       "      <th>di</th>\n",
       "      <th>pt_pain</th>\n",
       "      <th>usresultsCRP</th>\n",
       "      <th>usresultsIgA</th>\n",
       "      <th>usresultsIgG</th>\n",
       "      <th>usresultsIgM</th>\n",
       "      <th>DAS28_CRP_0M</th>\n",
       "      <th>DAS28_CRP_3M</th>\n",
       "    </tr>\n",
       "  </thead>\n",
       "  <tbody>\n",
       "    <tr>\n",
       "      <th>0</th>\n",
       "      <td>1.0</td>\n",
       "      <td>54.0</td>\n",
       "      <td>1.0</td>\n",
       "      <td>0.0</td>\n",
       "      <td>7.0</td>\n",
       "      <td>1.0</td>\n",
       "      <td>225.0</td>\n",
       "      <td>31.377703</td>\n",
       "      <td>71.0</td>\n",
       "      <td>3.0</td>\n",
       "      <td>...</td>\n",
       "      <td>50.0</td>\n",
       "      <td>25.0</td>\n",
       "      <td>0.285714</td>\n",
       "      <td>25.0</td>\n",
       "      <td>1.64</td>\n",
       "      <td>144.000000</td>\n",
       "      <td>886.000000</td>\n",
       "      <td>113.000000</td>\n",
       "      <td>3.189429</td>\n",
       "      <td>1.733190</td>\n",
       "    </tr>\n",
       "    <tr>\n",
       "      <th>1</th>\n",
       "      <td>1.0</td>\n",
       "      <td>54.0</td>\n",
       "      <td>0.0</td>\n",
       "      <td>0.0</td>\n",
       "      <td>7.0</td>\n",
       "      <td>1.0</td>\n",
       "      <td>175.0</td>\n",
       "      <td>28.242654</td>\n",
       "      <td>66.0</td>\n",
       "      <td>3.0</td>\n",
       "      <td>...</td>\n",
       "      <td>35.0</td>\n",
       "      <td>17.0</td>\n",
       "      <td>0.250000</td>\n",
       "      <td>25.0</td>\n",
       "      <td>1.19</td>\n",
       "      <td>207.000000</td>\n",
       "      <td>1010.000000</td>\n",
       "      <td>56.000000</td>\n",
       "      <td>2.935127</td>\n",
       "      <td>2.473876</td>\n",
       "    </tr>\n",
       "    <tr>\n",
       "      <th>2</th>\n",
       "      <td>1.0</td>\n",
       "      <td>63.0</td>\n",
       "      <td>0.0</td>\n",
       "      <td>0.0</td>\n",
       "      <td>7.0</td>\n",
       "      <td>1.0</td>\n",
       "      <td>117.0</td>\n",
       "      <td>20.080811</td>\n",
       "      <td>64.0</td>\n",
       "      <td>0.0</td>\n",
       "      <td>...</td>\n",
       "      <td>40.0</td>\n",
       "      <td>10.0</td>\n",
       "      <td>0.000000</td>\n",
       "      <td>5.0</td>\n",
       "      <td>0.40</td>\n",
       "      <td>190.000000</td>\n",
       "      <td>657.000000</td>\n",
       "      <td>100.000000</td>\n",
       "      <td>2.698947</td>\n",
       "      <td>3.386822</td>\n",
       "    </tr>\n",
       "    <tr>\n",
       "      <th>3</th>\n",
       "      <td>1.0</td>\n",
       "      <td>61.0</td>\n",
       "      <td>0.0</td>\n",
       "      <td>0.0</td>\n",
       "      <td>7.0</td>\n",
       "      <td>1.0</td>\n",
       "      <td>240.0</td>\n",
       "      <td>39.933728</td>\n",
       "      <td>65.0</td>\n",
       "      <td>2.0</td>\n",
       "      <td>...</td>\n",
       "      <td>55.0</td>\n",
       "      <td>50.0</td>\n",
       "      <td>0.250000</td>\n",
       "      <td>60.0</td>\n",
       "      <td>1.00</td>\n",
       "      <td>44.000000</td>\n",
       "      <td>948.000000</td>\n",
       "      <td>51.000000</td>\n",
       "      <td>3.719481</td>\n",
       "      <td>4.444948</td>\n",
       "    </tr>\n",
       "    <tr>\n",
       "      <th>4</th>\n",
       "      <td>1.0</td>\n",
       "      <td>64.0</td>\n",
       "      <td>1.0</td>\n",
       "      <td>0.0</td>\n",
       "      <td>7.0</td>\n",
       "      <td>1.0</td>\n",
       "      <td>294.0</td>\n",
       "      <td>41.000198</td>\n",
       "      <td>71.0</td>\n",
       "      <td>2.0</td>\n",
       "      <td>...</td>\n",
       "      <td>55.0</td>\n",
       "      <td>55.0</td>\n",
       "      <td>0.285714</td>\n",
       "      <td>70.0</td>\n",
       "      <td>16.74</td>\n",
       "      <td>178.000000</td>\n",
       "      <td>882.000000</td>\n",
       "      <td>87.000000</td>\n",
       "      <td>5.146565</td>\n",
       "      <td>2.846272</td>\n",
       "    </tr>\n",
       "    <tr>\n",
       "      <th>...</th>\n",
       "      <td>...</td>\n",
       "      <td>...</td>\n",
       "      <td>...</td>\n",
       "      <td>...</td>\n",
       "      <td>...</td>\n",
       "      <td>...</td>\n",
       "      <td>...</td>\n",
       "      <td>...</td>\n",
       "      <td>...</td>\n",
       "      <td>...</td>\n",
       "      <td>...</td>\n",
       "      <td>...</td>\n",
       "      <td>...</td>\n",
       "      <td>...</td>\n",
       "      <td>...</td>\n",
       "      <td>...</td>\n",
       "      <td>...</td>\n",
       "      <td>...</td>\n",
       "      <td>...</td>\n",
       "      <td>...</td>\n",
       "      <td>...</td>\n",
       "    </tr>\n",
       "    <tr>\n",
       "      <th>341</th>\n",
       "      <td>1.0</td>\n",
       "      <td>42.0</td>\n",
       "      <td>0.0</td>\n",
       "      <td>2.0</td>\n",
       "      <td>7.0</td>\n",
       "      <td>1.0</td>\n",
       "      <td>156.0</td>\n",
       "      <td>29.472722</td>\n",
       "      <td>61.0</td>\n",
       "      <td>0.0</td>\n",
       "      <td>...</td>\n",
       "      <td>55.0</td>\n",
       "      <td>80.0</td>\n",
       "      <td>1.000000</td>\n",
       "      <td>80.0</td>\n",
       "      <td>7.33</td>\n",
       "      <td>353.000000</td>\n",
       "      <td>859.000000</td>\n",
       "      <td>211.000000</td>\n",
       "      <td>5.167880</td>\n",
       "      <td>3.685886</td>\n",
       "    </tr>\n",
       "    <tr>\n",
       "      <th>342</th>\n",
       "      <td>2.0</td>\n",
       "      <td>49.0</td>\n",
       "      <td>0.0</td>\n",
       "      <td>0.0</td>\n",
       "      <td>1.0</td>\n",
       "      <td>1.0</td>\n",
       "      <td>220.0</td>\n",
       "      <td>33.447232</td>\n",
       "      <td>68.0</td>\n",
       "      <td>2.0</td>\n",
       "      <td>...</td>\n",
       "      <td>35.0</td>\n",
       "      <td>50.0</td>\n",
       "      <td>0.000000</td>\n",
       "      <td>15.0</td>\n",
       "      <td>22.36</td>\n",
       "      <td>266.000000</td>\n",
       "      <td>1330.000000</td>\n",
       "      <td>253.000000</td>\n",
       "      <td>4.272186</td>\n",
       "      <td>4.459125</td>\n",
       "    </tr>\n",
       "    <tr>\n",
       "      <th>343</th>\n",
       "      <td>1.0</td>\n",
       "      <td>24.0</td>\n",
       "      <td>0.0</td>\n",
       "      <td>0.0</td>\n",
       "      <td>1.0</td>\n",
       "      <td>1.0</td>\n",
       "      <td>128.0</td>\n",
       "      <td>20.045444</td>\n",
       "      <td>67.0</td>\n",
       "      <td>2.0</td>\n",
       "      <td>...</td>\n",
       "      <td>75.0</td>\n",
       "      <td>60.0</td>\n",
       "      <td>0.500000</td>\n",
       "      <td>60.0</td>\n",
       "      <td>6.47</td>\n",
       "      <td>289.000000</td>\n",
       "      <td>1800.000000</td>\n",
       "      <td>188.000000</td>\n",
       "      <td>4.333871</td>\n",
       "      <td>2.109117</td>\n",
       "    </tr>\n",
       "    <tr>\n",
       "      <th>344</th>\n",
       "      <td>2.0</td>\n",
       "      <td>61.0</td>\n",
       "      <td>0.0</td>\n",
       "      <td>0.0</td>\n",
       "      <td>7.0</td>\n",
       "      <td>1.0</td>\n",
       "      <td>125.0</td>\n",
       "      <td>20.798817</td>\n",
       "      <td>65.0</td>\n",
       "      <td>0.0</td>\n",
       "      <td>...</td>\n",
       "      <td>35.0</td>\n",
       "      <td>15.0</td>\n",
       "      <td>0.000000</td>\n",
       "      <td>15.0</td>\n",
       "      <td>0.92</td>\n",
       "      <td>163.000000</td>\n",
       "      <td>1500.000000</td>\n",
       "      <td>44.000000</td>\n",
       "      <td>3.283134</td>\n",
       "      <td>1.047585</td>\n",
       "    </tr>\n",
       "    <tr>\n",
       "      <th>345</th>\n",
       "      <td>1.0</td>\n",
       "      <td>57.0</td>\n",
       "      <td>1.0</td>\n",
       "      <td>4.0</td>\n",
       "      <td>7.0</td>\n",
       "      <td>1.0</td>\n",
       "      <td>151.0</td>\n",
       "      <td>20.477045</td>\n",
       "      <td>72.0</td>\n",
       "      <td>0.0</td>\n",
       "      <td>...</td>\n",
       "      <td>72.0</td>\n",
       "      <td>50.0</td>\n",
       "      <td>0.875000</td>\n",
       "      <td>70.0</td>\n",
       "      <td>12.67</td>\n",
       "      <td>302.517676</td>\n",
       "      <td>1296.610291</td>\n",
       "      <td>112.972881</td>\n",
       "      <td>4.967330</td>\n",
       "      <td>3.119564</td>\n",
       "    </tr>\n",
       "  </tbody>\n",
       "</table>\n",
       "<p>321 rows × 55 columns</p>\n",
       "</div>"
      ],
      "text/plain": [
       "     grp   age  gender  final_education  race_grp  ethnicity  weight  \\\n",
       "0    1.0  54.0     1.0              0.0       7.0        1.0   225.0   \n",
       "1    1.0  54.0     0.0              0.0       7.0        1.0   175.0   \n",
       "2    1.0  63.0     0.0              0.0       7.0        1.0   117.0   \n",
       "3    1.0  61.0     0.0              0.0       7.0        1.0   240.0   \n",
       "4    1.0  64.0     1.0              0.0       7.0        1.0   294.0   \n",
       "..   ...   ...     ...              ...       ...        ...     ...   \n",
       "341  1.0  42.0     0.0              2.0       7.0        1.0   156.0   \n",
       "342  2.0  49.0     0.0              0.0       1.0        1.0   220.0   \n",
       "343  1.0  24.0     0.0              0.0       1.0        1.0   128.0   \n",
       "344  2.0  61.0     0.0              0.0       7.0        1.0   125.0   \n",
       "345  1.0  57.0     1.0              4.0       7.0        1.0   151.0   \n",
       "\n",
       "           BMI  height  newsmoker  ...  md_global_assess  pt_global_assess  \\\n",
       "0    31.377703    71.0        3.0  ...              50.0              25.0   \n",
       "1    28.242654    66.0        3.0  ...              35.0              17.0   \n",
       "2    20.080811    64.0        0.0  ...              40.0              10.0   \n",
       "3    39.933728    65.0        2.0  ...              55.0              50.0   \n",
       "4    41.000198    71.0        2.0  ...              55.0              55.0   \n",
       "..         ...     ...        ...  ...               ...               ...   \n",
       "341  29.472722    61.0        0.0  ...              55.0              80.0   \n",
       "342  33.447232    68.0        2.0  ...              35.0              50.0   \n",
       "343  20.045444    67.0        2.0  ...              75.0              60.0   \n",
       "344  20.798817    65.0        0.0  ...              35.0              15.0   \n",
       "345  20.477045    72.0        0.0  ...              72.0              50.0   \n",
       "\n",
       "           di  pt_pain  usresultsCRP  usresultsIgA  usresultsIgG  \\\n",
       "0    0.285714     25.0          1.64    144.000000    886.000000   \n",
       "1    0.250000     25.0          1.19    207.000000   1010.000000   \n",
       "2    0.000000      5.0          0.40    190.000000    657.000000   \n",
       "3    0.250000     60.0          1.00     44.000000    948.000000   \n",
       "4    0.285714     70.0         16.74    178.000000    882.000000   \n",
       "..        ...      ...           ...           ...           ...   \n",
       "341  1.000000     80.0          7.33    353.000000    859.000000   \n",
       "342  0.000000     15.0         22.36    266.000000   1330.000000   \n",
       "343  0.500000     60.0          6.47    289.000000   1800.000000   \n",
       "344  0.000000     15.0          0.92    163.000000   1500.000000   \n",
       "345  0.875000     70.0         12.67    302.517676   1296.610291   \n",
       "\n",
       "     usresultsIgM  DAS28_CRP_0M  DAS28_CRP_3M  \n",
       "0      113.000000      3.189429      1.733190  \n",
       "1       56.000000      2.935127      2.473876  \n",
       "2      100.000000      2.698947      3.386822  \n",
       "3       51.000000      3.719481      4.444948  \n",
       "4       87.000000      5.146565      2.846272  \n",
       "..            ...           ...           ...  \n",
       "341    211.000000      5.167880      3.685886  \n",
       "342    253.000000      4.272186      4.459125  \n",
       "343    188.000000      4.333871      2.109117  \n",
       "344     44.000000      3.283134      1.047585  \n",
       "345    112.972881      4.967330      3.119564  \n",
       "\n",
       "[321 rows x 55 columns]"
      ]
     },
     "execution_count": 4,
     "metadata": {},
     "output_type": "execute_result"
    }
   ],
   "source": [
    "train"
   ]
  },
  {
   "cell_type": "code",
   "execution_count": 5,
   "id": "266e425e-9bd3-4dd3-b57c-2996a24e5d43",
   "metadata": {},
   "outputs": [],
   "source": [
    "# get x,y train and test set\n",
    "X_train = train.iloc[:,:-1]\n",
    "y_train = train.iloc[:,-1] # train.iloc[:,-2]\n",
    "X_test = test.iloc[:,:-1]\n",
    "y_test = test.iloc[:,-1] # test.iloc[:,-2]"
   ]
  },
  {
   "cell_type": "code",
   "execution_count": 6,
   "id": "9fb3cfa4-f350-42dd-8c41-f4415b8e063e",
   "metadata": {},
   "outputs": [
    {
     "name": "stdout",
     "output_type": "stream",
     "text": [
      "<class 'pandas.core.series.Series'>\n",
      "Int64Index: 321 entries, 0 to 345\n",
      "Series name: DAS28_CRP_3M\n",
      "Non-Null Count  Dtype  \n",
      "--------------  -----  \n",
      "321 non-null    float64\n",
      "dtypes: float64(1)\n",
      "memory usage: 5.0 KB\n"
     ]
    }
   ],
   "source": [
    "y_train.info()"
   ]
  },
  {
   "cell_type": "code",
   "execution_count": 7,
   "id": "d7642329-9f46-4270-86ec-cf7cb00b7322",
   "metadata": {},
   "outputs": [],
   "source": [
    "# initialize evaluation module\n",
    "aml = evaluate.AutoBuild(seed=1, project_name=\"EHR_RA_SC\")\n",
    "baseline = test['DAS28_CRP_0M']\n",
    "true = test['DAS28_CRP_3M']"
   ]
  },
  {
   "cell_type": "code",
   "execution_count": 8,
   "id": "6140558c-eda1-4c7b-ac3e-f6f6c038e513",
   "metadata": {},
   "outputs": [
    {
     "name": "stderr",
     "output_type": "stream",
     "text": [
      "/Users/gaskell/miniforge_x86_64/envs/ADPred_new/lib/python3.10/site-packages/xgboost/data.py:262: FutureWarning: pandas.Int64Index is deprecated and will be removed from pandas in a future version. Use pandas.Index with the appropriate dtype instead.\n",
      "  elif isinstance(data.columns, (pd.Int64Index, pd.RangeIndex)):\n"
     ]
    }
   ],
   "source": [
    "# modelmodule\n",
    "model = xgb.XGBRegressor()\n",
    "model.fit(X_train, y_train)\n",
    "pred = model.predict(X_test)\n",
    "aml.evaluate(\"xgb\", baseline, true, pred)"
   ]
  },
  {
   "cell_type": "code",
   "execution_count": 9,
   "id": "398b29f2-2aec-46c7-8557-6f732da6e15f",
   "metadata": {},
   "outputs": [],
   "source": [
    "# linear model\n",
    "model = LinearRegression()\n",
    "model.fit(X_train, y_train)\n",
    "pred = model.predict(X_test)\n",
    "aml.evaluate(\"lr\", baseline, true, pred)"
   ]
  },
  {
   "cell_type": "code",
   "execution_count": 10,
   "id": "5298eb47-ba4d-492b-8a19-c825535c9481",
   "metadata": {},
   "outputs": [],
   "source": [
    "regression, classification = aml.leaderboard()"
   ]
  },
  {
   "cell_type": "code",
   "execution_count": 11,
   "id": "0c896130-dd6f-4c79-a0ff-9f903541e35f",
   "metadata": {},
   "outputs": [
    {
     "data": {
      "text/html": [
       "<div>\n",
       "<style scoped>\n",
       "    .dataframe tbody tr th:only-of-type {\n",
       "        vertical-align: middle;\n",
       "    }\n",
       "\n",
       "    .dataframe tbody tr th {\n",
       "        vertical-align: top;\n",
       "    }\n",
       "\n",
       "    .dataframe thead th {\n",
       "        text-align: right;\n",
       "    }\n",
       "</style>\n",
       "<table border=\"1\" class=\"dataframe\">\n",
       "  <thead>\n",
       "    <tr style=\"text-align: right;\">\n",
       "      <th></th>\n",
       "      <th>model</th>\n",
       "      <th>MAE</th>\n",
       "      <th>MSE</th>\n",
       "      <th>RMSE</th>\n",
       "      <th>R2</th>\n",
       "      <th>Pearson_Correlation</th>\n",
       "    </tr>\n",
       "  </thead>\n",
       "  <tbody>\n",
       "    <tr>\n",
       "      <th>0</th>\n",
       "      <td>xgb</td>\n",
       "      <td>1.026149</td>\n",
       "      <td>1.596995</td>\n",
       "      <td>1.263723</td>\n",
       "      <td>0.188836</td>\n",
       "      <td>0.483459</td>\n",
       "    </tr>\n",
       "    <tr>\n",
       "      <th>1</th>\n",
       "      <td>lr</td>\n",
       "      <td>1.037648</td>\n",
       "      <td>1.643516</td>\n",
       "      <td>1.281997</td>\n",
       "      <td>0.165207</td>\n",
       "      <td>0.450617</td>\n",
       "    </tr>\n",
       "  </tbody>\n",
       "</table>\n",
       "</div>"
      ],
      "text/plain": [
       "  model       MAE       MSE      RMSE        R2  Pearson_Correlation\n",
       "0   xgb  1.026149  1.596995  1.263723  0.188836             0.483459\n",
       "1    lr  1.037648  1.643516  1.281997  0.165207             0.450617"
      ]
     },
     "execution_count": 11,
     "metadata": {},
     "output_type": "execute_result"
    }
   ],
   "source": [
    "regression"
   ]
  },
  {
   "cell_type": "code",
   "execution_count": 12,
   "id": "9f2ef82d-f96d-4e70-87c5-6719f3866c44",
   "metadata": {},
   "outputs": [
    {
     "data": {
      "text/html": [
       "<div>\n",
       "<style scoped>\n",
       "    .dataframe tbody tr th:only-of-type {\n",
       "        vertical-align: middle;\n",
       "    }\n",
       "\n",
       "    .dataframe tbody tr th {\n",
       "        vertical-align: top;\n",
       "    }\n",
       "\n",
       "    .dataframe thead th {\n",
       "        text-align: right;\n",
       "    }\n",
       "</style>\n",
       "<table border=\"1\" class=\"dataframe\">\n",
       "  <thead>\n",
       "    <tr style=\"text-align: right;\">\n",
       "      <th></th>\n",
       "      <th>model</th>\n",
       "      <th>Accuracy</th>\n",
       "      <th>F1-Score</th>\n",
       "    </tr>\n",
       "  </thead>\n",
       "  <tbody>\n",
       "    <tr>\n",
       "      <th>0</th>\n",
       "      <td>xgb</td>\n",
       "      <td>0.50000</td>\n",
       "      <td>0.50000</td>\n",
       "    </tr>\n",
       "    <tr>\n",
       "      <th>1</th>\n",
       "      <td>lr</td>\n",
       "      <td>0.44186</td>\n",
       "      <td>0.44186</td>\n",
       "    </tr>\n",
       "  </tbody>\n",
       "</table>\n",
       "</div>"
      ],
      "text/plain": [
       "  model  Accuracy  F1-Score\n",
       "0   xgb   0.50000   0.50000\n",
       "1    lr   0.44186   0.44186"
      ]
     },
     "execution_count": 12,
     "metadata": {},
     "output_type": "execute_result"
    }
   ],
   "source": [
    "classification"
   ]
  },
  {
   "cell_type": "code",
   "execution_count": 13,
   "id": "bf09c541-c673-4e3b-8fb3-5ba1e8cb2427",
   "metadata": {},
   "outputs": [
    {
     "data": {
      "text/html": [
       "<div>\n",
       "<style scoped>\n",
       "    .dataframe tbody tr th:only-of-type {\n",
       "        vertical-align: middle;\n",
       "    }\n",
       "\n",
       "    .dataframe tbody tr th {\n",
       "        vertical-align: top;\n",
       "    }\n",
       "\n",
       "    .dataframe thead th {\n",
       "        text-align: right;\n",
       "    }\n",
       "</style>\n",
       "<table border=\"1\" class=\"dataframe\">\n",
       "  <thead>\n",
       "    <tr style=\"text-align: right;\">\n",
       "      <th></th>\n",
       "      <th>Good</th>\n",
       "      <th>Moderate</th>\n",
       "      <th>No Response</th>\n",
       "    </tr>\n",
       "  </thead>\n",
       "  <tbody>\n",
       "    <tr>\n",
       "      <th>Good</th>\n",
       "      <td>13</td>\n",
       "      <td>14</td>\n",
       "      <td>3</td>\n",
       "    </tr>\n",
       "    <tr>\n",
       "      <th>Moderate</th>\n",
       "      <td>6</td>\n",
       "      <td>22</td>\n",
       "      <td>3</td>\n",
       "    </tr>\n",
       "    <tr>\n",
       "      <th>No Response</th>\n",
       "      <td>4</td>\n",
       "      <td>13</td>\n",
       "      <td>8</td>\n",
       "    </tr>\n",
       "  </tbody>\n",
       "</table>\n",
       "</div>"
      ],
      "text/plain": [
       "             Good  Moderate  No Response\n",
       "Good           13        14            3\n",
       "Moderate        6        22            3\n",
       "No Response     4        13            8"
      ]
     },
     "execution_count": 13,
     "metadata": {},
     "output_type": "execute_result"
    }
   ],
   "source": [
    "# rows: true, columns: pred\n",
    "aml.confusion_matrix(\"xgb\")"
   ]
  },
  {
   "cell_type": "code",
   "execution_count": 14,
   "id": "32c791f6-f65b-47d8-b8d7-4c8e3582eac5",
   "metadata": {},
   "outputs": [
    {
     "data": {
      "text/plain": [
       "Moderate       31\n",
       "Good           30\n",
       "No Response    25\n",
       "dtype: int64"
      ]
     },
     "execution_count": 14,
     "metadata": {},
     "output_type": "execute_result"
    }
   ],
   "source": [
    "# true\n",
    "aml.saved_model['xgb'][0].value_counts()"
   ]
  },
  {
   "cell_type": "code",
   "execution_count": 15,
   "id": "338466e7-88ab-4448-b0ce-2e2de26ccd4e",
   "metadata": {},
   "outputs": [
    {
     "data": {
      "text/plain": [
       "Moderate       49\n",
       "Good           23\n",
       "No Response    14\n",
       "dtype: int64"
      ]
     },
     "execution_count": 15,
     "metadata": {},
     "output_type": "execute_result"
    }
   ],
   "source": [
    "# pred\n",
    "aml.saved_model['xgb'][1].value_counts()"
   ]
  },
  {
   "cell_type": "code",
   "execution_count": 16,
   "id": "2017b2d2-4c2c-4be2-906d-a77cdc9bb205",
   "metadata": {},
   "outputs": [
    {
     "data": {
      "image/png": "[encoded data removed]",
      "text/plain": [
       "<Figure size 432x288 with 1 Axes>"
      ]
     },
     "metadata": {
      "needs_background": "light"
     },
     "output_type": "display_data"
    }
   ],
   "source": [
    "aml.plot_results('regression')"
   ]
  },
  {
   "cell_type": "code",
   "execution_count": 17,
   "id": "edb906be-cf51-42b4-8b85-c3a1f2503f14",
   "metadata": {},
   "outputs": [
    {
     "data": {
      "image/png": "[encoded data removed]",
      "text/plain": [
       "<Figure size 432x288 with 1 Axes>"
      ]
     },
     "metadata": {
      "needs_background": "light"
     },
     "output_type": "display_data"
    }
   ],
   "source": [
    "aml.plot_results('classification')"
   ]
  }
 ],
 "metadata": {
  "kernelspec": {
   "display_name": "ADPred_new",
   "language": "python",
   "name": "adpred_new"
  },
  "language_info": {
   "codemirror_mode": {
    "name": "ipython",
    "version": 3
   },
   "file_extension": ".py",
   "mimetype": "text/x-python",
   "name": "python",
   "nbconvert_exporter": "python",
   "pygments_lexer": "ipython3",
   "version": "3.10.4"
  }
 },
 "nbformat": 4,
 "nbformat_minor": 5
}
