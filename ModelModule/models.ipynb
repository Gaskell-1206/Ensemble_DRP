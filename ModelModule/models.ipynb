{
 "cells": [
  {
   "cell_type": "code",
   "execution_count": 1,
   "id": "989a555e-e20e-468a-8ad9-bd56e1738d89",
   "metadata": {},
   "outputs": [
    {
     "name": "stderr",
     "output_type": "stream",
     "text": [
      "/Users/gaskell/miniforge_x86_64/envs/ADPred_new/lib/python3.10/site-packages/xgboost/compat.py:36: FutureWarning: pandas.Int64Index is deprecated and will be removed from pandas in a future version. Use pandas.Index with the appropriate dtype instead.\n",
      "  from pandas import MultiIndex, Int64Index\n"
     ]
    }
   ],
   "source": [
    "import pandas as pd\n",
    "import numpy as np\n",
    "import sys\n",
    "sys.path.insert(0, '..')\n",
    "from DataModule.Data_Preparation import CoronnaCERTAINDataset\n",
    "import evaluate \n",
    "\n",
    "import xgboost as xgb\n",
    "from sklearn.linear_model import LinearRegression"
   ]
  },
  {
   "cell_type": "code",
   "execution_count": 2,
   "id": "6a75055a-6cc9-4054-8809-f80546b837d5",
   "metadata": {},
   "outputs": [
    {
     "name": "stdout",
     "output_type": "stream",
     "text": [
      "feature engineering, drop columns due to 70% missing value: Index(['smkyrs', 'numcigs', 'rfstatus_impute', 'ccpstatus_impute',\n",
      "       'statin_use'],\n",
      "      dtype='object')\n",
      "save file to: /Users/gaskell/Dropbox/Mac/Desktop/Autoimmune_Disease/Code/ML_RA_EHR/Dataset/.csv_temp/Train.csv\n",
      "save file to: /Users/gaskell/Dropbox/Mac/Desktop/Autoimmune_Disease/Code/ML_RA_EHR/Dataset/.csv_temp/Test.csv\n"
     ]
    }
   ],
   "source": [
    "dataset = CoronnaCERTAINDataset(\n",
    "    library_root='/Users/gaskell/Dropbox/Mac/Desktop/Autoimmune_Disease/Code/ML_RA_EHR/Dataset/',\n",
    "    challenge=\"regression\",\n",
    "    dataset='CORRONA CERTAIN',\n",
    "    process_approach='SC',\n",
    "    imputation='KNN',\n",
    "    patient_group='bionaive TNF',\n",
    "    drug_group='all',\n",
    "    time_points=(0,3),\n",
    "    train_test_rate=0.8,\n",
    "    save_csv=False,\n",
    "    random_state=2022)"
   ]
  },
  {
   "cell_type": "code",
   "execution_count": 3,
   "id": "9be0135b-12da-4bf8-8a5f-eedad186fa3f",
   "metadata": {},
   "outputs": [],
   "source": [
    "# read train, test from dataloader\n",
    "train, train_loc = dataset.get_train()\n",
    "test, test_loc = dataset.get_test()"
   ]
  },
  {
   "cell_type": "code",
   "execution_count": 4,
   "id": "266e425e-9bd3-4dd3-b57c-2996a24e5d43",
   "metadata": {},
   "outputs": [],
   "source": [
    "# get x,y train and test set\n",
    "X_train = train.iloc[:,:-1]\n",
    "y_train = train.iloc[:,-1]\n",
    "X_test = test.iloc[:,:-1]\n",
    "y_test = test.iloc[:,-1]"
   ]
  },
  {
   "cell_type": "code",
   "execution_count": 5,
   "id": "9fb3cfa4-f350-42dd-8c41-f4415b8e063e",
   "metadata": {},
   "outputs": [
    {
     "name": "stdout",
     "output_type": "stream",
     "text": [
      "<class 'pandas.core.series.Series'>\n",
      "Int64Index: 321 entries, 0 to 345\n",
      "Series name: DAS28_CRP_3M\n",
      "Non-Null Count  Dtype  \n",
      "--------------  -----  \n",
      "321 non-null    float64\n",
      "dtypes: float64(1)\n",
      "memory usage: 5.0 KB\n"
     ]
    }
   ],
   "source": [
    "y_train.info()"
   ]
  },
  {
   "cell_type": "code",
   "execution_count": 6,
   "id": "d7642329-9f46-4270-86ec-cf7cb00b7322",
   "metadata": {},
   "outputs": [],
   "source": [
    "# initialize evaluation module\n",
    "aml = evaluate.AutoBuild(seed=1, project_name=\"EHR_RA_SC\")\n",
    "baseline = test['DAS28_CRP_0M']\n",
    "true = test['DAS28_CRP_3M']"
   ]
  },
  {
   "cell_type": "code",
   "execution_count": 7,
   "id": "6140558c-eda1-4c7b-ac3e-f6f6c038e513",
   "metadata": {},
   "outputs": [
    {
     "name": "stderr",
     "output_type": "stream",
     "text": [
      "/Users/gaskell/miniforge_x86_64/envs/ADPred_new/lib/python3.10/site-packages/xgboost/data.py:262: FutureWarning: pandas.Int64Index is deprecated and will be removed from pandas in a future version. Use pandas.Index with the appropriate dtype instead.\n",
      "  elif isinstance(data.columns, (pd.Int64Index, pd.RangeIndex)):\n"
     ]
    }
   ],
   "source": [
    "# modelmodule\n",
    "model = xgb.XGBRegressor()\n",
    "model.fit(X_train, y_train)\n",
    "pred = model.predict(X_test)\n",
    "aml.evaluate(\"xgb\", baseline, true, pred)"
   ]
  },
  {
   "cell_type": "code",
   "execution_count": 9,
   "id": "398b29f2-2aec-46c7-8557-6f732da6e15f",
   "metadata": {},
   "outputs": [],
   "source": [
    "# linear model\n",
    "model = LinearRegression()\n",
    "model.fit(X_train, y_train)\n",
    "pred = model.predict(X_test)\n",
    "aml.evaluate(\"lr\", baseline, true, pred)"
   ]
  },
  {
   "cell_type": "code",
   "execution_count": 10,
   "id": "5298eb47-ba4d-492b-8a19-c825535c9481",
   "metadata": {},
   "outputs": [],
   "source": [
    "regression, classification = aml.leaderboard()"
   ]
  },
  {
   "cell_type": "code",
   "execution_count": 11,
   "id": "0c896130-dd6f-4c79-a0ff-9f903541e35f",
   "metadata": {},
   "outputs": [
    {
     "data": {
      "text/html": [
       "<div>\n",
       "<style scoped>\n",
       "    .dataframe tbody tr th:only-of-type {\n",
       "        vertical-align: middle;\n",
       "    }\n",
       "\n",
       "    .dataframe tbody tr th {\n",
       "        vertical-align: top;\n",
       "    }\n",
       "\n",
       "    .dataframe thead th {\n",
       "        text-align: right;\n",
       "    }\n",
       "</style>\n",
       "<table border=\"1\" class=\"dataframe\">\n",
       "  <thead>\n",
       "    <tr style=\"text-align: right;\">\n",
       "      <th></th>\n",
       "      <th>model</th>\n",
       "      <th>MAE</th>\n",
       "      <th>MSE</th>\n",
       "      <th>RMSE</th>\n",
       "      <th>R2</th>\n",
       "      <th>Pearson_Correlation</th>\n",
       "    </tr>\n",
       "  </thead>\n",
       "  <tbody>\n",
       "    <tr>\n",
       "      <th>0</th>\n",
       "      <td>xgb</td>\n",
       "      <td>1.051127</td>\n",
       "      <td>1.644979</td>\n",
       "      <td>1.282567</td>\n",
       "      <td>0.164463</td>\n",
       "      <td>0.439333</td>\n",
       "    </tr>\n",
       "    <tr>\n",
       "      <th>1</th>\n",
       "      <td>lr</td>\n",
       "      <td>1.036374</td>\n",
       "      <td>1.628608</td>\n",
       "      <td>1.276169</td>\n",
       "      <td>0.172778</td>\n",
       "      <td>0.456856</td>\n",
       "    </tr>\n",
       "  </tbody>\n",
       "</table>\n",
       "</div>"
      ],
      "text/plain": [
       "  model       MAE       MSE      RMSE        R2  Pearson_Correlation\n",
       "0   xgb  1.051127  1.644979  1.282567  0.164463             0.439333\n",
       "1    lr  1.036374  1.628608  1.276169  0.172778             0.456856"
      ]
     },
     "execution_count": 11,
     "metadata": {},
     "output_type": "execute_result"
    }
   ],
   "source": [
    "regression"
   ]
  },
  {
   "cell_type": "code",
   "execution_count": 12,
   "id": "9f2ef82d-f96d-4e70-87c5-6719f3866c44",
   "metadata": {},
   "outputs": [
    {
     "data": {
      "text/html": [
       "<div>\n",
       "<style scoped>\n",
       "    .dataframe tbody tr th:only-of-type {\n",
       "        vertical-align: middle;\n",
       "    }\n",
       "\n",
       "    .dataframe tbody tr th {\n",
       "        vertical-align: top;\n",
       "    }\n",
       "\n",
       "    .dataframe thead th {\n",
       "        text-align: right;\n",
       "    }\n",
       "</style>\n",
       "<table border=\"1\" class=\"dataframe\">\n",
       "  <thead>\n",
       "    <tr style=\"text-align: right;\">\n",
       "      <th></th>\n",
       "      <th>model</th>\n",
       "      <th>Accuracy</th>\n",
       "    </tr>\n",
       "  </thead>\n",
       "  <tbody>\n",
       "    <tr>\n",
       "      <th>0</th>\n",
       "      <td>xgb</td>\n",
       "      <td>0.430233</td>\n",
       "    </tr>\n",
       "    <tr>\n",
       "      <th>1</th>\n",
       "      <td>lr</td>\n",
       "      <td>0.453488</td>\n",
       "    </tr>\n",
       "  </tbody>\n",
       "</table>\n",
       "</div>"
      ],
      "text/plain": [
       "  model  Accuracy\n",
       "0   xgb  0.430233\n",
       "1    lr  0.453488"
      ]
     },
     "execution_count": 12,
     "metadata": {},
     "output_type": "execute_result"
    }
   ],
   "source": [
    "classification"
   ]
  }
 ],
 "metadata": {
  "kernelspec": {
   "display_name": "ADPred_new",
   "language": "python",
   "name": "adpred_new"
  },
  "language_info": {
   "codemirror_mode": {
    "name": "ipython",
    "version": 3
   },
   "file_extension": ".py",
   "mimetype": "text/x-python",
   "name": "python",
   "nbconvert_exporter": "python",
   "pygments_lexer": "ipython3",
   "version": "3.10.4"
  }
 },
 "nbformat": 4,
 "nbformat_minor": 5
}
