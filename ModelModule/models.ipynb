{
 "cells": [
  {
   "cell_type": "code",
   "execution_count": 1,
   "id": "989a555e-e20e-468a-8ad9-bd56e1738d89",
   "metadata": {},
   "outputs": [
    {
     "name": "stdout",
     "output_type": "stream",
     "text": [
      "(CVXPY) Jul 05 11:32:59 AM: Encountered unexpected exception importing solver CVXOPT:\n",
      "ImportError(\"dlopen(/Users/gaskell/miniforge_x86_64/envs/ADPred_new/lib/python3.10/site-packages/cvxopt/base.cpython-310-darwin.so, 0x0002): tried: '/Users/gaskell/miniforge_x86_64/envs/ADPred_new/lib/python3.10/site-packages/cvxopt/base.cpython-310-darwin.so' (mach-o file, but is an incompatible architecture (have 'x86_64', need 'arm64e'))\")\n",
      "(CVXPY) Jul 05 11:32:59 AM: Encountered unexpected exception importing solver GLPK:\n",
      "ImportError(\"dlopen(/Users/gaskell/miniforge_x86_64/envs/ADPred_new/lib/python3.10/site-packages/cvxopt/base.cpython-310-darwin.so, 0x0002): tried: '/Users/gaskell/miniforge_x86_64/envs/ADPred_new/lib/python3.10/site-packages/cvxopt/base.cpython-310-darwin.so' (mach-o file, but is an incompatible architecture (have 'x86_64', need 'arm64e'))\")\n",
      "(CVXPY) Jul 05 11:32:59 AM: Encountered unexpected exception importing solver GLPK_MI:\n",
      "ImportError(\"dlopen(/Users/gaskell/miniforge_x86_64/envs/ADPred_new/lib/python3.10/site-packages/cvxopt/base.cpython-310-darwin.so, 0x0002): tried: '/Users/gaskell/miniforge_x86_64/envs/ADPred_new/lib/python3.10/site-packages/cvxopt/base.cpython-310-darwin.so' (mach-o file, but is an incompatible architecture (have 'x86_64', need 'arm64e'))\")\n"
     ]
    },
    {
     "name": "stderr",
     "output_type": "stream",
     "text": [
      "/Users/gaskell/miniforge_x86_64/envs/ADPred_new/lib/python3.10/site-packages/xgboost/compat.py:36: FutureWarning: pandas.Int64Index is deprecated and will be removed from pandas in a future version. Use pandas.Index with the appropriate dtype instead.\n",
      "  from pandas import MultiIndex, Int64Index\n"
     ]
    }
   ],
   "source": [
    "import pandas as pd\n",
    "import numpy as np\n",
    "import sys\n",
    "import pickle\n",
    "\n",
    "sys.path.insert(0, '..')\n",
    "from DataModule.Data_Preparation import CoronnaCERTAINDataset\n",
    "import evaluate\n",
    "\n",
    "import xgboost as xgb\n",
    "from sklearn.linear_model import LinearRegression,LogisticRegression"
   ]
  },
  {
   "cell_type": "markdown",
   "id": "cecd89a1-812b-4919-bf34-644b52e717ad",
   "metadata": {},
   "source": [
    "# Data Module"
   ]
  },
  {
   "cell_type": "code",
   "execution_count": 2,
   "id": "6a75055a-6cc9-4054-8809-f80546b837d5",
   "metadata": {},
   "outputs": [
    {
     "name": "stdout",
     "output_type": "stream",
     "text": [
      "Label Encoder, 0: Non-responders (No Response), 1: Responders(Good, Moderate)\n"
     ]
    }
   ],
   "source": [
    "dataset = CoronnaCERTAINDataset(\n",
    "    library_root='/Users/gaskell/Dropbox/Mac/Desktop/Autoimmune_Disease/Code/ML_RA_EHR/Dataset/',\n",
    "    challenge=\"binary_classification\", #option: regression, regression_delta, classification, binary_classification\n",
    "    dataset='CORRONA CERTAIN', \n",
    "    process_approach='KVB', #option: KVB, SC\n",
    "    imputation='KNN', #option: SimpleFill, KNN, SoftImpute, BiScaler, NuclearNormMinimization, IterativeImputer, IterativeSVD, None(raw)\n",
    "    patient_group='bionaive TNF', #option: \"all\", \"bioexp nTNF\", \"bionaive TNF\", \"bionaive orencia\", \"KVB\"\n",
    "    drug_group='all', #option: \"all\", \"actemra\", \"cimzia\", \"enbrel\", \"humira\", \"orencia\", \"remicade\", \"rituxan\", \"simponi\"\n",
    "    time_points=(0,3), \n",
    "    train_test_rate=0.8,\n",
    "    save_csv=False, \n",
    "    random_state=2022)"
   ]
  },
  {
   "cell_type": "code",
   "execution_count": 3,
   "id": "9be0135b-12da-4bf8-8a5f-eedad186fa3f",
   "metadata": {},
   "outputs": [],
   "source": [
    "# read train, test from dataloader\n",
    "train, train_loc = dataset.get_train()\n",
    "test, test_loc = dataset.get_test()"
   ]
  },
  {
   "cell_type": "code",
   "execution_count": 4,
   "id": "4e851d6d-8666-4e96-b75f-58e54b1d6e4d",
   "metadata": {},
   "outputs": [
    {
     "name": "stdout",
     "output_type": "stream",
     "text": [
      "<class 'pandas.core.frame.DataFrame'>\n",
      "Int64Index: 214 entries, 120 to 37\n",
      "Data columns (total 54 columns):\n",
      " #   Column               Non-Null Count  Dtype  \n",
      "---  ------               --------------  -----  \n",
      " 0   grp                  214 non-null    float64\n",
      " 1   Type I IFN activity  214 non-null    float64\n",
      " 2   IFNβ activity final  214 non-null    float64\n",
      " 3   IFNα activity final  214 non-null    float64\n",
      " 4   IFNβ/α ratio final   214 non-null    float64\n",
      " 5   age                  214 non-null    float64\n",
      " 6   gender               214 non-null    float64\n",
      " 7   final_education      214 non-null    float64\n",
      " 8   race_grp             214 non-null    float64\n",
      " 9   ethnicity            214 non-null    float64\n",
      " 10  weight               214 non-null    float64\n",
      " 11  height               214 non-null    float64\n",
      " 12  newsmoker            214 non-null    float64\n",
      " 13  drinker              214 non-null    float64\n",
      " 14  drinksperwk          214 non-null    float64\n",
      " 15  duration_ra          214 non-null    float64\n",
      " 16  ndmardused           214 non-null    float64\n",
      " 17  rfstatus_b           214 non-null    float64\n",
      " 18  usresultsRF          214 non-null    float64\n",
      " 19  ccpstatus_b          214 non-null    float64\n",
      " 20  usresultsCCP3        214 non-null    float64\n",
      " 21  hxmi                 214 non-null    float64\n",
      " 22  hxunstab_ang         214 non-null    float64\n",
      " 23  hxchf                214 non-null    float64\n",
      " 24  hxother_cv           214 non-null    float64\n",
      " 25  hxtia                214 non-null    float64\n",
      " 26  hxstroke             214 non-null    float64\n",
      " 27  hxcopd               214 non-null    float64\n",
      " 28  hxhtn                214 non-null    float64\n",
      " 29  hxdiabetes           214 non-null    float64\n",
      " 30  hxhld                214 non-null    float64\n",
      " 31  hx_anycancer         214 non-null    float64\n",
      " 32  seatedbp1_BL         214 non-null    float64\n",
      " 33  seatedbp2_BL         214 non-null    float64\n",
      " 34  pres_mtx_BL          214 non-null    float64\n",
      " 35  pres_arava_BL        214 non-null    float64\n",
      " 36  pres_azulfidine_BL   214 non-null    float64\n",
      " 37  pres_plaquenil_BL    214 non-null    float64\n",
      " 38  pres_imuran_BL       214 non-null    float64\n",
      " 39  pres_pred_BL         214 non-null    float64\n",
      " 40  tender_jts_28_BL     214 non-null    float64\n",
      " 41  swollen_jts_28_BL    214 non-null    float64\n",
      " 42  md_global_assess_BL  214 non-null    float64\n",
      " 43  pt_global_assess_BL  214 non-null    float64\n",
      " 44  di_BL                214 non-null    float64\n",
      " 45  pt_pain_BL           214 non-null    float64\n",
      " 46  usresultsCRP_BL      214 non-null    float64\n",
      " 47  DAS28_CRP_0M         214 non-null    float64\n",
      " 48  usresultsIgA_BL      214 non-null    float64\n",
      " 49  usresultsIgG_BL      214 non-null    float64\n",
      " 50  usresultsIgM_BL      214 non-null    float64\n",
      " 51  BMI                  214 non-null    float64\n",
      " 52  IFN Missing          214 non-null    float64\n",
      " 53  DrugResponse_binary  0 non-null      float64\n",
      "dtypes: float64(54)\n",
      "memory usage: 92.0 KB\n"
     ]
    }
   ],
   "source": [
    "train.info()"
   ]
  },
  {
   "cell_type": "code",
   "execution_count": 5,
   "id": "266e425e-9bd3-4dd3-b57c-2996a24e5d43",
   "metadata": {},
   "outputs": [],
   "source": [
    "# get x,y train and test set\n",
    "X_train = train.iloc[:,:-1] # train.iloc[:,-2]\n",
    "y_train = train.iloc[:,-1] \n",
    "X_test = test.iloc[:,:-1] # test.iloc[:,-2]\n",
    "y_test = test.iloc[:,-1]"
   ]
  },
  {
   "cell_type": "code",
   "execution_count": 8,
   "id": "841d90c1-6123-4b3b-8f71-ef7bf40763b6",
   "metadata": {},
   "outputs": [
    {
     "data": {
      "text/plain": [
       "120   NaN\n",
       "113   NaN\n",
       "251   NaN\n",
       "156   NaN\n",
       "167   NaN\n",
       "       ..\n",
       "253   NaN\n",
       "254   NaN\n",
       "61    NaN\n",
       "21    NaN\n",
       "37    NaN\n",
       "Name: DrugResponse_binary, Length: 214, dtype: float64"
      ]
     },
     "execution_count": 8,
     "metadata": {},
     "output_type": "execute_result"
    }
   ],
   "source": [
    "y_train"
   ]
  },
  {
   "cell_type": "code",
   "execution_count": 6,
   "id": "d7642329-9f46-4270-86ec-cf7cb00b7322",
   "metadata": {},
   "outputs": [],
   "source": [
    "# initialize evaluation module\n",
    "aml = evaluate.AutoBuild(seed=1, project_name=\"EHR_RA_SC\", challenge=dataset.challenge)"
   ]
  },
  {
   "cell_type": "markdown",
   "id": "5461209c-a931-4f8d-b06e-c6355af89dbe",
   "metadata": {},
   "source": [
    "# Model Module"
   ]
  },
  {
   "cell_type": "code",
   "execution_count": 7,
   "id": "6140558c-eda1-4c7b-ac3e-f6f6c038e513",
   "metadata": {},
   "outputs": [
    {
     "ename": "ValueError",
     "evalue": "The label must consist of integer labels of form 0, 1, 2, ..., [num_class - 1].",
     "output_type": "error",
     "traceback": [
      "\u001b[0;31m---------------------------------------------------------------------------\u001b[0m",
      "\u001b[0;31mValueError\u001b[0m                                Traceback (most recent call last)",
      "Input \u001b[0;32mIn [7]\u001b[0m, in \u001b[0;36m<cell line: 2>\u001b[0;34m()\u001b[0m\n\u001b[1;32m     12\u001b[0m \u001b[38;5;28;01melif\u001b[39;00m \u001b[38;5;124m\"\u001b[39m\u001b[38;5;124mclassification\u001b[39m\u001b[38;5;124m\"\u001b[39m \u001b[38;5;129;01min\u001b[39;00m dataset\u001b[38;5;241m.\u001b[39mchallenge:\n\u001b[1;32m     13\u001b[0m     model \u001b[38;5;241m=\u001b[39m xgb\u001b[38;5;241m.\u001b[39mXGBClassifier(use_label_encoder\u001b[38;5;241m=\u001b[39m\u001b[38;5;28;01mFalse\u001b[39;00m)\n\u001b[0;32m---> 14\u001b[0m     \u001b[43mmodel\u001b[49m\u001b[38;5;241;43m.\u001b[39;49m\u001b[43mfit\u001b[49m\u001b[43m(\u001b[49m\u001b[43mX_train\u001b[49m\u001b[43m,\u001b[49m\u001b[43m \u001b[49m\u001b[43my_train\u001b[49m\u001b[43m)\u001b[49m\n\u001b[1;32m     15\u001b[0m     aml\u001b[38;5;241m.\u001b[39mevaluate(\u001b[38;5;124m\"\u001b[39m\u001b[38;5;124mxgb\u001b[39m\u001b[38;5;124m\"\u001b[39m, model, test)\n",
      "File \u001b[0;32m~/miniforge_x86_64/envs/ADPred_new/lib/python3.10/site-packages/xgboost/core.py:506\u001b[0m, in \u001b[0;36m_deprecate_positional_args.<locals>.inner_f\u001b[0;34m(*args, **kwargs)\u001b[0m\n\u001b[1;32m    504\u001b[0m \u001b[38;5;28;01mfor\u001b[39;00m k, arg \u001b[38;5;129;01min\u001b[39;00m \u001b[38;5;28mzip\u001b[39m(sig\u001b[38;5;241m.\u001b[39mparameters, args):\n\u001b[1;32m    505\u001b[0m     kwargs[k] \u001b[38;5;241m=\u001b[39m arg\n\u001b[0;32m--> 506\u001b[0m \u001b[38;5;28;01mreturn\u001b[39;00m \u001b[43mf\u001b[49m\u001b[43m(\u001b[49m\u001b[38;5;241;43m*\u001b[39;49m\u001b[38;5;241;43m*\u001b[39;49m\u001b[43mkwargs\u001b[49m\u001b[43m)\u001b[49m\n",
      "File \u001b[0;32m~/miniforge_x86_64/envs/ADPred_new/lib/python3.10/site-packages/xgboost/sklearn.py:1199\u001b[0m, in \u001b[0;36mXGBClassifier.fit\u001b[0;34m(self, X, y, sample_weight, base_margin, eval_set, eval_metric, early_stopping_rounds, verbose, xgb_model, sample_weight_eval_set, base_margin_eval_set, feature_weights, callbacks)\u001b[0m\n\u001b[1;32m   1195\u001b[0m     \u001b[38;5;28mself\u001b[39m\u001b[38;5;241m.\u001b[39mn_classes_ \u001b[38;5;241m=\u001b[39m \u001b[38;5;28mlen\u001b[39m(\u001b[38;5;28mself\u001b[39m\u001b[38;5;241m.\u001b[39mclasses_)\n\u001b[1;32m   1196\u001b[0m     \u001b[38;5;28;01mif\u001b[39;00m \u001b[38;5;129;01mnot\u001b[39;00m \u001b[38;5;28mself\u001b[39m\u001b[38;5;241m.\u001b[39muse_label_encoder \u001b[38;5;129;01mand\u001b[39;00m (\n\u001b[1;32m   1197\u001b[0m         \u001b[38;5;129;01mnot\u001b[39;00m np\u001b[38;5;241m.\u001b[39marray_equal(\u001b[38;5;28mself\u001b[39m\u001b[38;5;241m.\u001b[39mclasses_, np\u001b[38;5;241m.\u001b[39marange(\u001b[38;5;28mself\u001b[39m\u001b[38;5;241m.\u001b[39mn_classes_))\n\u001b[1;32m   1198\u001b[0m     ):\n\u001b[0;32m-> 1199\u001b[0m         \u001b[38;5;28;01mraise\u001b[39;00m \u001b[38;5;167;01mValueError\u001b[39;00m(label_encoding_check_error)\n\u001b[1;32m   1201\u001b[0m params \u001b[38;5;241m=\u001b[39m \u001b[38;5;28mself\u001b[39m\u001b[38;5;241m.\u001b[39mget_xgb_params()\n\u001b[1;32m   1203\u001b[0m \u001b[38;5;28;01mif\u001b[39;00m callable(\u001b[38;5;28mself\u001b[39m\u001b[38;5;241m.\u001b[39mobjective):\n",
      "\u001b[0;31mValueError\u001b[0m: The label must consist of integer labels of form 0, 1, 2, ..., [num_class - 1]."
     ]
    }
   ],
   "source": [
    "# modelmodule\n",
    "if \"regression\" in dataset.challenge:\n",
    "    model_id = 'xgb'\n",
    "    save_path = f'../Models/{dataset.challenge}_{model_id}.pkl'\n",
    "    model = xgb.XGBRegressor()\n",
    "    model.fit(X_train, y_train)\n",
    "    # optional, to save and load models using pickle\n",
    "    pickle.dump(model, open(save_path, 'wb'))\n",
    "    model = pickle.load(open(save_path, 'rb'))\n",
    "    \n",
    "    aml.evaluate(model_id, model, test)\n",
    "elif \"classification\" in dataset.challenge:\n",
    "    model = xgb.XGBClassifier(use_label_encoder=False)\n",
    "    model.fit(X_train, y_train)\n",
    "    aml.evaluate(\"xgb\", model, test)"
   ]
  },
  {
   "cell_type": "code",
   "execution_count": null,
   "id": "398b29f2-2aec-46c7-8557-6f732da6e15f",
   "metadata": {},
   "outputs": [],
   "source": [
    "# linear model\n",
    "if \"regression\" in dataset.challenge:\n",
    "    model = LinearRegression()\n",
    "    model.fit(X_train, y_train)\n",
    "    aml.evaluate(\"lr\", model, test) # input: model and test\n",
    "elif \"classification\" in dataset.challenge:\n",
    "    model = LogisticRegression()\n",
    "    model.fit(X_train, y_train)\n",
    "    aml.evaluate(\"lr\", model, test) # input: model and test"
   ]
  },
  {
   "cell_type": "code",
   "execution_count": null,
   "id": "9996bb34-67cf-4b69-b850-f3c7088c9b07",
   "metadata": {},
   "outputs": [],
   "source": [
    "X_test"
   ]
  },
  {
   "cell_type": "markdown",
   "id": "2a4a1987-4fa8-4e91-b8e2-43b3c4b876e5",
   "metadata": {},
   "source": [
    "# Evaluation on test set"
   ]
  },
  {
   "cell_type": "code",
   "execution_count": null,
   "id": "5298eb47-ba4d-492b-8a19-c825535c9481",
   "metadata": {},
   "outputs": [],
   "source": [
    "regression, classification = aml.leaderboard()"
   ]
  },
  {
   "cell_type": "code",
   "execution_count": null,
   "id": "0c896130-dd6f-4c79-a0ff-9f903541e35f",
   "metadata": {},
   "outputs": [],
   "source": [
    "regression"
   ]
  },
  {
   "cell_type": "code",
   "execution_count": null,
   "id": "9f2ef82d-f96d-4e70-87c5-6719f3866c44",
   "metadata": {},
   "outputs": [],
   "source": [
    "classification"
   ]
  },
  {
   "cell_type": "code",
   "execution_count": null,
   "id": "bf09c541-c673-4e3b-8fb3-5ba1e8cb2427",
   "metadata": {},
   "outputs": [],
   "source": [
    "# rows: true, columns: pred\n",
    "aml.confusion_matrix(\"xgb\",plot=True, normalize=True)"
   ]
  },
  {
   "cell_type": "code",
   "execution_count": null,
   "id": "32c791f6-f65b-47d8-b8d7-4c8e3582eac5",
   "metadata": {},
   "outputs": [],
   "source": [
    "# true\n",
    "aml.saved_model['xgb'][0].value_counts()"
   ]
  },
  {
   "cell_type": "code",
   "execution_count": null,
   "id": "338466e7-88ab-4448-b0ce-2e2de26ccd4e",
   "metadata": {},
   "outputs": [],
   "source": [
    "# pred\n",
    "aml.saved_model['xgb'][1].value_counts()"
   ]
  },
  {
   "cell_type": "code",
   "execution_count": null,
   "id": "2017b2d2-4c2c-4be2-906d-a77cdc9bb205",
   "metadata": {},
   "outputs": [],
   "source": [
    "aml.plot_results('regression','MSE')"
   ]
  },
  {
   "cell_type": "code",
   "execution_count": null,
   "id": "0941db8d-f0a0-48d6-923d-627b5ede45ef",
   "metadata": {},
   "outputs": [],
   "source": [
    "aml.plot_results('regression','Pearson_Correlation')"
   ]
  },
  {
   "cell_type": "code",
   "execution_count": null,
   "id": "edb906be-cf51-42b4-8b85-c3a1f2503f14",
   "metadata": {},
   "outputs": [],
   "source": [
    "aml.plot_results('classification','Accuracy')"
   ]
  },
  {
   "cell_type": "code",
   "execution_count": null,
   "id": "7df80593-7630-4d48-a076-6fb52851d801",
   "metadata": {},
   "outputs": [],
   "source": [
    "aml.save_outputs(dataset,\"../leaderboard\")"
   ]
  },
  {
   "cell_type": "code",
   "execution_count": null,
   "id": "bd25746a-17f0-483c-8d74-9991ff7bb8d6",
   "metadata": {},
   "outputs": [],
   "source": []
  }
 ],
 "metadata": {
  "kernelspec": {
   "display_name": "ADPred_new",
   "language": "python",
   "name": "adpred_new"
  },
  "language_info": {
   "codemirror_mode": {
    "name": "ipython",
    "version": 3
   },
   "file_extension": ".py",
   "mimetype": "text/x-python",
   "name": "python",
   "nbconvert_exporter": "python",
   "pygments_lexer": "ipython3",
   "version": "3.10.4"
  }
 },
 "nbformat": 4,
 "nbformat_minor": 5
}
