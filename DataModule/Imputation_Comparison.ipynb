{
 "cells": [
  {
   "cell_type": "code",
   "execution_count": 1,
   "id": "4684e0b2-ec58-4249-af5e-10116c371f8e",
   "metadata": {},
   "outputs": [],
   "source": [
    "import numpy as np\n",
    "import pandas as pd\n",
    "import sys\n",
    "sys.path.insert(0, '..')\n",
    "from DataModule.Data_Preparation import CoronnaCERTAINDataset"
   ]
  },
  {
   "cell_type": "code",
   "execution_count": 2,
   "id": "5441249d-6d35-4826-a684-d58b46d41673",
   "metadata": {},
   "outputs": [],
   "source": [
    "dataset = CoronnaCERTAINDataset(\n",
    "    library_root= '/Users/gaskell/Dropbox/Mac/Desktop/Autoimmune_Disease/Code/ML_RA_EHR/Dataset/',\n",
    "    challenge = \"classification\",\n",
    "    dataset = 'CORRONA CERTAIN',\n",
    "    process_approach = 'SC',\n",
    "    imputation = None,\n",
    "    patient_group = 'bionaive TNF',\n",
    "    drug_group= 'all',\n",
    "    save_csv=False)"
   ]
  },
  {
   "cell_type": "code",
   "execution_count": 3,
   "id": "98537bca-de89-4abf-a4de-3514b2bdb562",
   "metadata": {},
   "outputs": [],
   "source": [
    "train = dataset.get_train()"
   ]
  },
  {
   "cell_type": "code",
   "execution_count": 4,
   "id": "010e9fa4-7071-45ab-95af-3e6857be5387",
   "metadata": {},
   "outputs": [
    {
     "name": "stdout",
     "output_type": "stream",
     "text": [
      "<class 'pandas.core.frame.DataFrame'>\n",
      "Int64Index: 349 entries, 0 to 348\n",
      "Data columns (total 62 columns):\n",
      " #   Column             Non-Null Count  Dtype  \n",
      "---  ------             --------------  -----  \n",
      " 0   UNMC_id            349 non-null    object \n",
      " 1   grp                349 non-null    object \n",
      " 2   CDate              349 non-null    object \n",
      " 3   age                348 non-null    float64\n",
      " 4   gender             348 non-null    object \n",
      " 5   final_education    346 non-null    object \n",
      " 6   race_grp           349 non-null    object \n",
      " 7   ethnicity          341 non-null    float64\n",
      " 8   weight             348 non-null    float64\n",
      " 9   BMI                348 non-null    float64\n",
      " 10  height             349 non-null    float64\n",
      " 11  newsmoker          338 non-null    object \n",
      " 12  smkyrs             84 non-null     float64\n",
      " 13  numcigs            74 non-null     float64\n",
      " 14  drinker            344 non-null    object \n",
      " 15  drinksperwk        344 non-null    float64\n",
      " 16  duration_ra        349 non-null    float64\n",
      " 17  ara_func_class     348 non-null    object \n",
      " 18  num_tnf            349 non-null    float64\n",
      " 19  num_nontnf         349 non-null    float64\n",
      " 20  ndmardused         349 non-null    float64\n",
      " 21  rfstatus_b         349 non-null    float64\n",
      " 22  rfstatus_impute    1 non-null      float64\n",
      " 23  usresultsRF        347 non-null    float64\n",
      " 24  ccpstatus_b        349 non-null    float64\n",
      " 25  ccpstatus_impute   10 non-null     float64\n",
      " 26  usresultsCCP3      336 non-null    float64\n",
      " 27  hxmi               349 non-null    float64\n",
      " 28  hxunstab_ang       349 non-null    float64\n",
      " 29  hxchf              349 non-null    float64\n",
      " 30  hxother_cv         349 non-null    float64\n",
      " 31  hxtia              349 non-null    float64\n",
      " 32  hxstroke           349 non-null    float64\n",
      " 33  hxcopd             349 non-null    float64\n",
      " 34  hxhtn              349 non-null    float64\n",
      " 35  hxdiabetes         349 non-null    float64\n",
      " 36  hxhld              349 non-null    float64\n",
      " 37  hx_anycancer       349 non-null    float64\n",
      " 38  seatedbp1          347 non-null    float64\n",
      " 39  seatedbp2          347 non-null    float64\n",
      " 40  pres_mtx           349 non-null    float64\n",
      " 41  pres_arava         349 non-null    float64\n",
      " 42  pres_azulfidine    349 non-null    float64\n",
      " 43  pres_plaquenil     349 non-null    float64\n",
      " 44  pres_imuran        349 non-null    float64\n",
      " 45  pres_minocin       349 non-null    float64\n",
      " 46  pres_pred          349 non-null    float64\n",
      " 47  nonpresNSAIDs_use  349 non-null    float64\n",
      " 48  NSAIDs_use         349 non-null    float64\n",
      " 49  statin_use         0 non-null      float64\n",
      " 50  tender_jts_28      349 non-null    float64\n",
      " 51  swollen_jts_28     349 non-null    float64\n",
      " 52  md_global_assess   346 non-null    float64\n",
      " 53  pt_global_assess   345 non-null    float64\n",
      " 54  di                 345 non-null    float64\n",
      " 55  pt_pain            345 non-null    float64\n",
      " 56  usresultsCRP       347 non-null    float64\n",
      " 57  usresultsIgA       339 non-null    float64\n",
      " 58  usresultsIgG       339 non-null    float64\n",
      " 59  usresultsIgM       339 non-null    float64\n",
      " 60  DAS28_CRP_0M       343 non-null    float64\n",
      " 61  3MResponse         349 non-null    object \n",
      "dtypes: float64(52), object(10)\n",
      "memory usage: 171.8+ KB\n"
     ]
    }
   ],
   "source": [
    "train.info()"
   ]
  },
  {
   "cell_type": "code",
   "execution_count": 5,
   "id": "07a0e459-912a-4f57-988d-7deb9492c985",
   "metadata": {},
   "outputs": [
    {
     "data": {
      "text/html": [
       "<div>\n",
       "<style scoped>\n",
       "    .dataframe tbody tr th:only-of-type {\n",
       "        vertical-align: middle;\n",
       "    }\n",
       "\n",
       "    .dataframe tbody tr th {\n",
       "        vertical-align: top;\n",
       "    }\n",
       "\n",
       "    .dataframe thead th {\n",
       "        text-align: right;\n",
       "    }\n",
       "</style>\n",
       "<table border=\"1\" class=\"dataframe\">\n",
       "  <thead>\n",
       "    <tr style=\"text-align: right;\">\n",
       "      <th></th>\n",
       "      <th>age</th>\n",
       "      <th>ethnicity</th>\n",
       "      <th>weight</th>\n",
       "      <th>BMI</th>\n",
       "      <th>height</th>\n",
       "      <th>smkyrs</th>\n",
       "      <th>numcigs</th>\n",
       "      <th>drinksperwk</th>\n",
       "      <th>duration_ra</th>\n",
       "      <th>num_tnf</th>\n",
       "      <th>...</th>\n",
       "      <th>swollen_jts_28</th>\n",
       "      <th>md_global_assess</th>\n",
       "      <th>pt_global_assess</th>\n",
       "      <th>di</th>\n",
       "      <th>pt_pain</th>\n",
       "      <th>usresultsCRP</th>\n",
       "      <th>usresultsIgA</th>\n",
       "      <th>usresultsIgG</th>\n",
       "      <th>usresultsIgM</th>\n",
       "      <th>DAS28_CRP_0M</th>\n",
       "    </tr>\n",
       "  </thead>\n",
       "  <tbody>\n",
       "    <tr>\n",
       "      <th>count</th>\n",
       "      <td>348.000000</td>\n",
       "      <td>341.000000</td>\n",
       "      <td>348.000000</td>\n",
       "      <td>348.000000</td>\n",
       "      <td>349.000000</td>\n",
       "      <td>84.000000</td>\n",
       "      <td>74.000000</td>\n",
       "      <td>344.000000</td>\n",
       "      <td>349.000000</td>\n",
       "      <td>349.0</td>\n",
       "      <td>...</td>\n",
       "      <td>349.000000</td>\n",
       "      <td>346.000000</td>\n",
       "      <td>345.000000</td>\n",
       "      <td>345.000000</td>\n",
       "      <td>345.000000</td>\n",
       "      <td>347.000000</td>\n",
       "      <td>339.000000</td>\n",
       "      <td>339.000000</td>\n",
       "      <td>339.000000</td>\n",
       "      <td>343.000000</td>\n",
       "    </tr>\n",
       "    <tr>\n",
       "      <th>mean</th>\n",
       "      <td>55.428161</td>\n",
       "      <td>0.935484</td>\n",
       "      <td>184.123563</td>\n",
       "      <td>29.795251</td>\n",
       "      <td>65.830946</td>\n",
       "      <td>24.440476</td>\n",
       "      <td>14.702703</td>\n",
       "      <td>2.964438</td>\n",
       "      <td>4.518625</td>\n",
       "      <td>0.0</td>\n",
       "      <td>...</td>\n",
       "      <td>8.223496</td>\n",
       "      <td>52.890173</td>\n",
       "      <td>50.962319</td>\n",
       "      <td>0.555124</td>\n",
       "      <td>51.724638</td>\n",
       "      <td>10.881585</td>\n",
       "      <td>248.820059</td>\n",
       "      <td>1111.943953</td>\n",
       "      <td>113.926254</td>\n",
       "      <td>4.855432</td>\n",
       "    </tr>\n",
       "    <tr>\n",
       "      <th>std</th>\n",
       "      <td>12.364913</td>\n",
       "      <td>0.246031</td>\n",
       "      <td>46.818482</td>\n",
       "      <td>6.801495</td>\n",
       "      <td>3.734364</td>\n",
       "      <td>17.241971</td>\n",
       "      <td>7.548437</td>\n",
       "      <td>7.403984</td>\n",
       "      <td>6.162346</td>\n",
       "      <td>0.0</td>\n",
       "      <td>...</td>\n",
       "      <td>5.841923</td>\n",
       "      <td>18.758405</td>\n",
       "      <td>24.184640</td>\n",
       "      <td>0.499380</td>\n",
       "      <td>27.114252</td>\n",
       "      <td>18.431102</td>\n",
       "      <td>121.205948</td>\n",
       "      <td>367.183080</td>\n",
       "      <td>85.391080</td>\n",
       "      <td>1.099412</td>\n",
       "    </tr>\n",
       "    <tr>\n",
       "      <th>min</th>\n",
       "      <td>22.000000</td>\n",
       "      <td>0.000000</td>\n",
       "      <td>90.000000</td>\n",
       "      <td>15.790039</td>\n",
       "      <td>59.000000</td>\n",
       "      <td>0.000000</td>\n",
       "      <td>4.000000</td>\n",
       "      <td>0.000000</td>\n",
       "      <td>0.000000</td>\n",
       "      <td>0.0</td>\n",
       "      <td>...</td>\n",
       "      <td>0.000000</td>\n",
       "      <td>5.000000</td>\n",
       "      <td>0.000000</td>\n",
       "      <td>0.000000</td>\n",
       "      <td>0.000000</td>\n",
       "      <td>0.140000</td>\n",
       "      <td>24.000000</td>\n",
       "      <td>483.000000</td>\n",
       "      <td>20.000000</td>\n",
       "      <td>2.040967</td>\n",
       "    </tr>\n",
       "    <tr>\n",
       "      <th>25%</th>\n",
       "      <td>48.000000</td>\n",
       "      <td>1.000000</td>\n",
       "      <td>152.000000</td>\n",
       "      <td>25.229736</td>\n",
       "      <td>63.000000</td>\n",
       "      <td>9.500000</td>\n",
       "      <td>10.000000</td>\n",
       "      <td>0.000000</td>\n",
       "      <td>1.000000</td>\n",
       "      <td>0.0</td>\n",
       "      <td>...</td>\n",
       "      <td>4.000000</td>\n",
       "      <td>40.000000</td>\n",
       "      <td>30.000000</td>\n",
       "      <td>0.125000</td>\n",
       "      <td>25.000000</td>\n",
       "      <td>1.490000</td>\n",
       "      <td>166.500000</td>\n",
       "      <td>867.000000</td>\n",
       "      <td>63.000000</td>\n",
       "      <td>4.112793</td>\n",
       "    </tr>\n",
       "    <tr>\n",
       "      <th>50%</th>\n",
       "      <td>56.000000</td>\n",
       "      <td>1.000000</td>\n",
       "      <td>177.000000</td>\n",
       "      <td>28.730513</td>\n",
       "      <td>65.000000</td>\n",
       "      <td>27.000000</td>\n",
       "      <td>11.000000</td>\n",
       "      <td>0.000000</td>\n",
       "      <td>2.000000</td>\n",
       "      <td>0.0</td>\n",
       "      <td>...</td>\n",
       "      <td>7.000000</td>\n",
       "      <td>50.000000</td>\n",
       "      <td>50.000000</td>\n",
       "      <td>0.500000</td>\n",
       "      <td>55.000000</td>\n",
       "      <td>4.360000</td>\n",
       "      <td>223.000000</td>\n",
       "      <td>1050.000000</td>\n",
       "      <td>93.000000</td>\n",
       "      <td>4.788376</td>\n",
       "    </tr>\n",
       "    <tr>\n",
       "      <th>75%</th>\n",
       "      <td>64.000000</td>\n",
       "      <td>1.000000</td>\n",
       "      <td>212.000000</td>\n",
       "      <td>33.650364</td>\n",
       "      <td>68.000000</td>\n",
       "      <td>36.000000</td>\n",
       "      <td>20.000000</td>\n",
       "      <td>2.000000</td>\n",
       "      <td>6.000000</td>\n",
       "      <td>0.0</td>\n",
       "      <td>...</td>\n",
       "      <td>12.000000</td>\n",
       "      <td>70.000000</td>\n",
       "      <td>70.000000</td>\n",
       "      <td>0.875000</td>\n",
       "      <td>75.000000</td>\n",
       "      <td>11.915000</td>\n",
       "      <td>309.500000</td>\n",
       "      <td>1290.000000</td>\n",
       "      <td>140.000000</td>\n",
       "      <td>5.579612</td>\n",
       "    </tr>\n",
       "    <tr>\n",
       "      <th>max</th>\n",
       "      <td>89.000000</td>\n",
       "      <td>1.000000</td>\n",
       "      <td>415.000000</td>\n",
       "      <td>50.675390</td>\n",
       "      <td>80.000000</td>\n",
       "      <td>69.000000</td>\n",
       "      <td>40.000000</td>\n",
       "      <td>70.000000</td>\n",
       "      <td>42.000000</td>\n",
       "      <td>0.0</td>\n",
       "      <td>...</td>\n",
       "      <td>28.000000</td>\n",
       "      <td>100.000000</td>\n",
       "      <td>100.000000</td>\n",
       "      <td>2.125000</td>\n",
       "      <td>100.000000</td>\n",
       "      <td>185.150000</td>\n",
       "      <td>946.000000</td>\n",
       "      <td>3200.000000</td>\n",
       "      <td>858.000000</td>\n",
       "      <td>8.363831</td>\n",
       "    </tr>\n",
       "  </tbody>\n",
       "</table>\n",
       "<p>8 rows × 52 columns</p>\n",
       "</div>"
      ],
      "text/plain": [
       "              age   ethnicity      weight         BMI      height     smkyrs  \\\n",
       "count  348.000000  341.000000  348.000000  348.000000  349.000000  84.000000   \n",
       "mean    55.428161    0.935484  184.123563   29.795251   65.830946  24.440476   \n",
       "std     12.364913    0.246031   46.818482    6.801495    3.734364  17.241971   \n",
       "min     22.000000    0.000000   90.000000   15.790039   59.000000   0.000000   \n",
       "25%     48.000000    1.000000  152.000000   25.229736   63.000000   9.500000   \n",
       "50%     56.000000    1.000000  177.000000   28.730513   65.000000  27.000000   \n",
       "75%     64.000000    1.000000  212.000000   33.650364   68.000000  36.000000   \n",
       "max     89.000000    1.000000  415.000000   50.675390   80.000000  69.000000   \n",
       "\n",
       "         numcigs  drinksperwk  duration_ra  num_tnf  ...  swollen_jts_28  \\\n",
       "count  74.000000   344.000000   349.000000    349.0  ...      349.000000   \n",
       "mean   14.702703     2.964438     4.518625      0.0  ...        8.223496   \n",
       "std     7.548437     7.403984     6.162346      0.0  ...        5.841923   \n",
       "min     4.000000     0.000000     0.000000      0.0  ...        0.000000   \n",
       "25%    10.000000     0.000000     1.000000      0.0  ...        4.000000   \n",
       "50%    11.000000     0.000000     2.000000      0.0  ...        7.000000   \n",
       "75%    20.000000     2.000000     6.000000      0.0  ...       12.000000   \n",
       "max    40.000000    70.000000    42.000000      0.0  ...       28.000000   \n",
       "\n",
       "       md_global_assess  pt_global_assess          di     pt_pain  \\\n",
       "count        346.000000        345.000000  345.000000  345.000000   \n",
       "mean          52.890173         50.962319    0.555124   51.724638   \n",
       "std           18.758405         24.184640    0.499380   27.114252   \n",
       "min            5.000000          0.000000    0.000000    0.000000   \n",
       "25%           40.000000         30.000000    0.125000   25.000000   \n",
       "50%           50.000000         50.000000    0.500000   55.000000   \n",
       "75%           70.000000         70.000000    0.875000   75.000000   \n",
       "max          100.000000        100.000000    2.125000  100.000000   \n",
       "\n",
       "       usresultsCRP  usresultsIgA  usresultsIgG  usresultsIgM  DAS28_CRP_0M  \n",
       "count    347.000000    339.000000    339.000000    339.000000    343.000000  \n",
       "mean      10.881585    248.820059   1111.943953    113.926254      4.855432  \n",
       "std       18.431102    121.205948    367.183080     85.391080      1.099412  \n",
       "min        0.140000     24.000000    483.000000     20.000000      2.040967  \n",
       "25%        1.490000    166.500000    867.000000     63.000000      4.112793  \n",
       "50%        4.360000    223.000000   1050.000000     93.000000      4.788376  \n",
       "75%       11.915000    309.500000   1290.000000    140.000000      5.579612  \n",
       "max      185.150000    946.000000   3200.000000    858.000000      8.363831  \n",
       "\n",
       "[8 rows x 52 columns]"
      ]
     },
     "execution_count": 5,
     "metadata": {},
     "output_type": "execute_result"
    }
   ],
   "source": [
    "train.describe()"
   ]
  },
  {
   "cell_type": "code",
   "execution_count": 6,
   "id": "2ee8f8c8-19a7-4c69-a296-0bedf59fb06e",
   "metadata": {},
   "outputs": [],
   "source": [
    "test = dataset.get_test()"
   ]
  },
  {
   "cell_type": "code",
   "execution_count": 7,
   "id": "1e0738a5-84cc-45e3-87ce-fbec7f550b7a",
   "metadata": {},
   "outputs": [
    {
     "name": "stdout",
     "output_type": "stream",
     "text": [
      "<class 'pandas.core.frame.DataFrame'>\n",
      "Int64Index: 86 entries, 0 to 85\n",
      "Data columns (total 62 columns):\n",
      " #   Column             Non-Null Count  Dtype  \n",
      "---  ------             --------------  -----  \n",
      " 0   UNMC_id            86 non-null     object \n",
      " 1   grp                86 non-null     object \n",
      " 2   CDate              86 non-null     object \n",
      " 3   age                86 non-null     float64\n",
      " 4   gender             86 non-null     object \n",
      " 5   final_education    86 non-null     object \n",
      " 6   race_grp           86 non-null     object \n",
      " 7   ethnicity          84 non-null     float64\n",
      " 8   weight             86 non-null     float64\n",
      " 9   BMI                86 non-null     float64\n",
      " 10  height             86 non-null     float64\n",
      " 11  newsmoker          83 non-null     object \n",
      " 12  smkyrs             22 non-null     float64\n",
      " 13  numcigs            21 non-null     float64\n",
      " 14  drinker            85 non-null     object \n",
      " 15  drinksperwk        85 non-null     float64\n",
      " 16  duration_ra        86 non-null     float64\n",
      " 17  ara_func_class     86 non-null     object \n",
      " 18  num_tnf            86 non-null     float64\n",
      " 19  num_nontnf         86 non-null     float64\n",
      " 20  ndmardused         86 non-null     float64\n",
      " 21  rfstatus_b         86 non-null     float64\n",
      " 22  rfstatus_impute    0 non-null      float64\n",
      " 23  usresultsRF        86 non-null     float64\n",
      " 24  ccpstatus_b        86 non-null     float64\n",
      " 25  ccpstatus_impute   1 non-null      float64\n",
      " 26  usresultsCCP3      85 non-null     float64\n",
      " 27  hxmi               86 non-null     float64\n",
      " 28  hxunstab_ang       86 non-null     float64\n",
      " 29  hxchf              86 non-null     float64\n",
      " 30  hxother_cv         86 non-null     float64\n",
      " 31  hxtia              86 non-null     float64\n",
      " 32  hxstroke           86 non-null     float64\n",
      " 33  hxcopd             86 non-null     float64\n",
      " 34  hxhtn              86 non-null     float64\n",
      " 35  hxdiabetes         86 non-null     float64\n",
      " 36  hxhld              86 non-null     float64\n",
      " 37  hx_anycancer       86 non-null     float64\n",
      " 38  seatedbp1          86 non-null     float64\n",
      " 39  seatedbp2          86 non-null     float64\n",
      " 40  pres_mtx           86 non-null     float64\n",
      " 41  pres_arava         86 non-null     float64\n",
      " 42  pres_azulfidine    86 non-null     float64\n",
      " 43  pres_plaquenil     86 non-null     float64\n",
      " 44  pres_imuran        86 non-null     float64\n",
      " 45  pres_minocin       86 non-null     float64\n",
      " 46  pres_pred          86 non-null     float64\n",
      " 47  nonpresNSAIDs_use  86 non-null     float64\n",
      " 48  NSAIDs_use         86 non-null     float64\n",
      " 49  statin_use         0 non-null      float64\n",
      " 50  tender_jts_28      86 non-null     float64\n",
      " 51  swollen_jts_28     86 non-null     float64\n",
      " 52  md_global_assess   86 non-null     float64\n",
      " 53  pt_global_assess   86 non-null     float64\n",
      " 54  di                 86 non-null     float64\n",
      " 55  pt_pain            86 non-null     float64\n",
      " 56  usresultsCRP       86 non-null     float64\n",
      " 57  usresultsIgA       77 non-null     float64\n",
      " 58  usresultsIgG       77 non-null     float64\n",
      " 59  usresultsIgM       77 non-null     float64\n",
      " 60  DAS28_CRP_0M       86 non-null     float64\n",
      " 61  3MResponse         86 non-null     object \n",
      "dtypes: float64(52), object(10)\n",
      "memory usage: 42.3+ KB\n"
     ]
    }
   ],
   "source": [
    "test.info()"
   ]
  },
  {
   "cell_type": "code",
   "execution_count": 8,
   "id": "7dfb50a1-f0d0-454a-a92f-4ac50dfa8021",
   "metadata": {},
   "outputs": [
    {
     "data": {
      "text/plain": [
       "female    269\n",
       "male       79\n",
       "Name: gender, dtype: int64"
      ]
     },
     "execution_count": 8,
     "metadata": {},
     "output_type": "execute_result"
    }
   ],
   "source": [
    "train['gender'].value_counts()"
   ]
  },
  {
   "cell_type": "code",
   "execution_count": 9,
   "id": "4c1a62c6-d123-4c30-b25c-828674171602",
   "metadata": {},
   "outputs": [
    {
     "data": {
      "text/html": [
       "<div>\n",
       "<style scoped>\n",
       "    .dataframe tbody tr th:only-of-type {\n",
       "        vertical-align: middle;\n",
       "    }\n",
       "\n",
       "    .dataframe tbody tr th {\n",
       "        vertical-align: top;\n",
       "    }\n",
       "\n",
       "    .dataframe thead th {\n",
       "        text-align: right;\n",
       "    }\n",
       "</style>\n",
       "<table border=\"1\" class=\"dataframe\">\n",
       "  <thead>\n",
       "    <tr style=\"text-align: right;\">\n",
       "      <th></th>\n",
       "      <th>UNMC_id</th>\n",
       "      <th>grp</th>\n",
       "      <th>CDate</th>\n",
       "      <th>age</th>\n",
       "      <th>gender</th>\n",
       "      <th>final_education</th>\n",
       "      <th>race_grp</th>\n",
       "      <th>ethnicity</th>\n",
       "      <th>weight</th>\n",
       "      <th>BMI</th>\n",
       "      <th>...</th>\n",
       "      <th>md_global_assess</th>\n",
       "      <th>pt_global_assess</th>\n",
       "      <th>di</th>\n",
       "      <th>pt_pain</th>\n",
       "      <th>usresultsCRP</th>\n",
       "      <th>usresultsIgA</th>\n",
       "      <th>usresultsIgG</th>\n",
       "      <th>usresultsIgM</th>\n",
       "      <th>DAS28_CRP_0M</th>\n",
       "      <th>3MResponse</th>\n",
       "    </tr>\n",
       "  </thead>\n",
       "  <tbody>\n",
       "  </tbody>\n",
       "</table>\n",
       "<p>0 rows × 62 columns</p>\n",
       "</div>"
      ],
      "text/plain": [
       "Empty DataFrame\n",
       "Columns: [UNMC_id, grp, CDate, age, gender, final_education, race_grp, ethnicity, weight, BMI, height, newsmoker, smkyrs, numcigs, drinker, drinksperwk, duration_ra, ara_func_class, num_tnf, num_nontnf, ndmardused, rfstatus_b, rfstatus_impute, usresultsRF, ccpstatus_b, ccpstatus_impute, usresultsCCP3, hxmi, hxunstab_ang, hxchf, hxother_cv, hxtia, hxstroke, hxcopd, hxhtn, hxdiabetes, hxhld, hx_anycancer, seatedbp1, seatedbp2, pres_mtx, pres_arava, pres_azulfidine, pres_plaquenil, pres_imuran, pres_minocin, pres_pred, nonpresNSAIDs_use, NSAIDs_use, statin_use, tender_jts_28, swollen_jts_28, md_global_assess, pt_global_assess, di, pt_pain, usresultsCRP, usresultsIgA, usresultsIgG, usresultsIgM, DAS28_CRP_0M, 3MResponse]\n",
       "Index: []\n",
       "\n",
       "[0 rows x 62 columns]"
      ]
     },
     "execution_count": 9,
     "metadata": {},
     "output_type": "execute_result"
    }
   ],
   "source": [
    "train[train['gender'] == 2]"
   ]
  },
  {
   "cell_type": "code",
   "execution_count": 10,
   "id": "5e34abd4-c45f-4f52-b1b9-d9afe4600f96",
   "metadata": {},
   "outputs": [
    {
     "data": {
      "text/plain": [
       "1.0    319\n",
       "0.0     22\n",
       "Name: ethnicity, dtype: int64"
      ]
     },
     "execution_count": 10,
     "metadata": {},
     "output_type": "execute_result"
    }
   ],
   "source": [
    "train['ethnicity'].value_counts()"
   ]
  },
  {
   "cell_type": "code",
   "execution_count": 11,
   "id": "9de5c0e2-bcff-4cbf-8025-8de3a88e2ae0",
   "metadata": {},
   "outputs": [
    {
     "data": {
      "text/plain": [
       "female    64\n",
       "male      22\n",
       "Name: gender, dtype: int64"
      ]
     },
     "execution_count": 11,
     "metadata": {},
     "output_type": "execute_result"
    }
   ],
   "source": [
    "test['gender'].value_counts()"
   ]
  },
  {
   "cell_type": "code",
   "execution_count": 12,
   "id": "13f18c96-f756-48bc-9960-76bdb31b3a57",
   "metadata": {},
   "outputs": [
    {
     "data": {
      "text/plain": [
       "1.0    76\n",
       "0.0     8\n",
       "Name: ethnicity, dtype: int64"
      ]
     },
     "execution_count": 12,
     "metadata": {},
     "output_type": "execute_result"
    }
   ],
   "source": [
    "test['ethnicity'].value_counts()"
   ]
  },
  {
   "cell_type": "code",
   "execution_count": 13,
   "id": "51d7005a-3b4a-4b54-86ba-1e5e646091e1",
   "metadata": {},
   "outputs": [
    {
     "data": {
      "text/html": [
       "<div>\n",
       "<style scoped>\n",
       "    .dataframe tbody tr th:only-of-type {\n",
       "        vertical-align: middle;\n",
       "    }\n",
       "\n",
       "    .dataframe tbody tr th {\n",
       "        vertical-align: top;\n",
       "    }\n",
       "\n",
       "    .dataframe thead th {\n",
       "        text-align: right;\n",
       "    }\n",
       "</style>\n",
       "<table border=\"1\" class=\"dataframe\">\n",
       "  <thead>\n",
       "    <tr style=\"text-align: right;\">\n",
       "      <th></th>\n",
       "      <th>UNMC_id</th>\n",
       "      <th>grp</th>\n",
       "      <th>CDate</th>\n",
       "      <th>age</th>\n",
       "      <th>gender</th>\n",
       "      <th>final_education</th>\n",
       "      <th>race_grp</th>\n",
       "      <th>ethnicity</th>\n",
       "      <th>weight</th>\n",
       "      <th>BMI</th>\n",
       "      <th>...</th>\n",
       "      <th>md_global_assess</th>\n",
       "      <th>pt_global_assess</th>\n",
       "      <th>di</th>\n",
       "      <th>pt_pain</th>\n",
       "      <th>usresultsCRP</th>\n",
       "      <th>usresultsIgA</th>\n",
       "      <th>usresultsIgG</th>\n",
       "      <th>usresultsIgM</th>\n",
       "      <th>DAS28_CRP_0M</th>\n",
       "      <th>3MResponse</th>\n",
       "    </tr>\n",
       "  </thead>\n",
       "  <tbody>\n",
       "  </tbody>\n",
       "</table>\n",
       "<p>0 rows × 62 columns</p>\n",
       "</div>"
      ],
      "text/plain": [
       "Empty DataFrame\n",
       "Columns: [UNMC_id, grp, CDate, age, gender, final_education, race_grp, ethnicity, weight, BMI, height, newsmoker, smkyrs, numcigs, drinker, drinksperwk, duration_ra, ara_func_class, num_tnf, num_nontnf, ndmardused, rfstatus_b, rfstatus_impute, usresultsRF, ccpstatus_b, ccpstatus_impute, usresultsCCP3, hxmi, hxunstab_ang, hxchf, hxother_cv, hxtia, hxstroke, hxcopd, hxhtn, hxdiabetes, hxhld, hx_anycancer, seatedbp1, seatedbp2, pres_mtx, pres_arava, pres_azulfidine, pres_plaquenil, pres_imuran, pres_minocin, pres_pred, nonpresNSAIDs_use, NSAIDs_use, statin_use, tender_jts_28, swollen_jts_28, md_global_assess, pt_global_assess, di, pt_pain, usresultsCRP, usresultsIgA, usresultsIgG, usresultsIgM, DAS28_CRP_0M, 3MResponse]\n",
       "Index: []\n",
       "\n",
       "[0 rows x 62 columns]"
      ]
     },
     "execution_count": 13,
     "metadata": {},
     "output_type": "execute_result"
    }
   ],
   "source": [
    "train[train['ethnicity'] == 2.0]"
   ]
  },
  {
   "cell_type": "code",
   "execution_count": 14,
   "id": "60f54631-4e0c-42db-9fcd-923f51ab4083",
   "metadata": {},
   "outputs": [
    {
     "data": {
      "text/plain": [
       "not    185\n",
       "yes    159\n",
       "Name: drinker, dtype: int64"
      ]
     },
     "execution_count": 14,
     "metadata": {},
     "output_type": "execute_result"
    }
   ],
   "source": [
    "train['drinker'].value_counts()"
   ]
  },
  {
   "cell_type": "code",
   "execution_count": 15,
   "id": "12d4322b-0077-40ed-bab3-b282ff76873f",
   "metadata": {},
   "outputs": [
    {
     "data": {
      "text/plain": [
       "White              305\n",
       "Black               23\n",
       "Asian                7\n",
       "Mixed Race           5\n",
       "Unknown              5\n",
       "Native American      3\n",
       "Other                1\n",
       "Name: race_grp, dtype: int64"
      ]
     },
     "execution_count": 15,
     "metadata": {},
     "output_type": "execute_result"
    }
   ],
   "source": [
    "train['race_grp'].value_counts()"
   ]
  },
  {
   "cell_type": "code",
   "execution_count": 16,
   "id": "aa2f7572-a781-47c2-944c-ca3cb76e7bcf",
   "metadata": {},
   "outputs": [
    {
     "data": {
      "text/plain": [
       "never       154\n",
       "previous     96\n",
       "current      88\n",
       "Name: newsmoker, dtype: int64"
      ]
     },
     "execution_count": 16,
     "metadata": {},
     "output_type": "execute_result"
    }
   ],
   "source": [
    "train['newsmoker'].value_counts()"
   ]
  },
  {
   "cell_type": "code",
   "execution_count": null,
   "id": "a6e57351-40f4-40e7-a055-c593730d50ca",
   "metadata": {},
   "outputs": [],
   "source": []
  }
 ],
 "metadata": {
  "kernelspec": {
   "display_name": "ADPred_new",
   "language": "python",
   "name": "adpred_new"
  },
  "language_info": {
   "codemirror_mode": {
    "name": "ipython",
    "version": 3
   },
   "file_extension": ".py",
   "mimetype": "text/x-python",
   "name": "python",
   "nbconvert_exporter": "python",
   "pygments_lexer": "ipython3",
   "version": "3.10.4"
  }
 },
 "nbformat": 4,
 "nbformat_minor": 5
}
