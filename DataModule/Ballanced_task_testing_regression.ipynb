{
 "cells": [
  {
   "cell_type": "code",
   "execution_count": 3,
   "metadata": {},
   "outputs": [],
   "source": [
    "import pandas as pd\n",
    "import numpy as np\n",
    "\n",
    "import pickle\n",
    "import warnings\n",
    "warnings.filterwarnings(\"ignore\")\n",
    "import sys\n",
    "sys.path.insert(0, '..')\n",
    "from DataModule.Data_Preparation import CoronnaCERTAINDataset\n",
    "import EvaluationModule\n",
    "import ModelModule.models"
   ]
  },
  {
   "cell_type": "code",
   "execution_count": 4,
   "metadata": {},
   "outputs": [
    {
     "name": "stderr",
     "output_type": "stream",
     "text": [
      "100%|██████████| 1/1 [00:42<00:00, 42.70s/it]\n",
      "100%|██████████| 1/1 [00:47<00:00, 47.32s/it]\n"
     ]
    }
   ],
   "source": [
    "task='regression'\n",
    "project_name=\"regression_delta ballancing aproach testing\"\n",
    "## o's\n",
    "ensamble_names=[ \"Boosting SVM\" ,\"Bagging SVM\", \"Stacking SVM\"]\n",
    "ensamble_parameters= {'ensamble_type':['Boosting', \"Bagging\", \"Stacking\"],'model_list':[[\"SVM\"]],'challenge':[\"Regression\"]}\n",
    "#'Linear','ANN','Ridge','Lasso','SVM','Random Forest','Tree','XGBoost'\n",
    "basemodels=[ ['Linear'], ['Lasso'], [\"Ridge\"],['SVM'],[\"ANN\"],['Random Forest'],['XGBoost'],['Tree']]\n",
    "base_names=[ 'Linear', \"Lasso\", \"Ridge\", \"SVM\", 'ANN','Random Forest','XGBoost', 'Tree']\n",
    "parameters= {'model_list':basemodels,'challenge':[\"Regression\"]}\n",
    "temp_1={'ensambe_models_params':ensamble_parameters,'ensamble_model_ids':ensamble_names,'base_model_params':parameters,'base_model_ids':base_names}\n",
    "temp={task:temp_1}\n",
    "ModelModule.models.test_models(project_name=project_name,task_list=temp, ballance_methods=[0])\n"
   ]
  },
  {
   "cell_type": "code",
   "execution_count": null,
   "metadata": {},
   "outputs": [],
   "source": [
    "#1 linear lasso ridge\n",
    "basemodels=[ ['Linear'], ['Lasso'], [\"Ridge\"]]\n",
    "base_names=[ 'Linear', \"Lasso\", \"Ridge\"]\n",
    "parameters= {'model_list':basemodels,'challenge':[\"Regression\"]}\n",
    "temp_1={'base_model_params':parameters,'base_model_ids':base_names}\n",
    "temp={task:temp_1}\n",
    "ModelModule.models.test_models(project_name=project_name,task_list=temp, ballance_methods=[1])\n"
   ]
  },
  {
   "cell_type": "code",
   "execution_count": null,
   "metadata": {},
   "outputs": [],
   "source": [
    "#1svm and ann \n",
    "basemodels=[ ['SVM'],[\"ANN\"]]\n",
    "base_names=[  \"SVM\", 'ANN']\n",
    "parameters= {'model_list':basemodels,'challenge':[\"Regression\"]}\n",
    "temp_1={'base_model_params':parameters,'base_model_ids':base_names}\n",
    "temp={task:temp_1}\n",
    "ModelModule.models.test_models(project_name=project_name,task_list=temp, ballance_methods=[1])\n"
   ]
  },
  {
   "cell_type": "code",
   "execution_count": null,
   "metadata": {},
   "outputs": [],
   "source": [
    "#1 Random Forrest\n",
    "basemodels=[ ['Random Forest']]\n",
    "base_names=[ 'Random Forest']\n",
    "parameters= {'model_list':basemodels,'challenge':[\"Regression\"]}\n",
    "temp_1={'base_model_params':parameters,'base_model_ids':base_names}\n",
    "temp={task:temp_1}\n",
    "ModelModule.models.test_models(project_name=project_name,task_list=temp, ballance_methods=[1])\n"
   ]
  },
  {
   "cell_type": "code",
   "execution_count": null,
   "metadata": {},
   "outputs": [],
   "source": [
    "# 1 xgBoost \n",
    "basemodels=[['XGBoost']]\n",
    "base_names=['XGBoost']\n",
    "parameters= {'model_list':basemodels,'challenge':[\"Regression\"]}\n",
    "temp_1={'base_model_params':parameters,'base_model_ids':base_names}\n",
    "temp={task:temp_1}\n",
    "ModelModule.models.test_models(project_name=project_name,task_list=temp, ballance_methods=[1])\n"
   ]
  },
  {
   "cell_type": "code",
   "execution_count": null,
   "metadata": {},
   "outputs": [
    {
     "ename": "NameError",
     "evalue": "name 'task' is not defined",
     "output_type": "error",
     "traceback": [
      "\u001b[1;31m---------------------------------------------------------------------------\u001b[0m",
      "\u001b[1;31mNameError\u001b[0m                                 Traceback (most recent call last)",
      "\u001b[1;32m<ipython-input-1-3347fa71b0e6>\u001b[0m in \u001b[0;36m<module>\u001b[1;34m\u001b[0m\n\u001b[0;32m      5\u001b[0m \u001b[0mparameters\u001b[0m\u001b[1;33m=\u001b[0m \u001b[1;33m{\u001b[0m\u001b[1;34m'model_list'\u001b[0m\u001b[1;33m:\u001b[0m\u001b[0mbasemodels\u001b[0m\u001b[1;33m,\u001b[0m\u001b[1;34m'challenge'\u001b[0m\u001b[1;33m:\u001b[0m\u001b[1;33m[\u001b[0m\u001b[1;34m\"Regression\"\u001b[0m\u001b[1;33m]\u001b[0m\u001b[1;33m}\u001b[0m\u001b[1;33m\u001b[0m\u001b[1;33m\u001b[0m\u001b[0m\n\u001b[0;32m      6\u001b[0m \u001b[0mtemp_1\u001b[0m\u001b[1;33m=\u001b[0m\u001b[1;33m{\u001b[0m\u001b[1;34m'base_model_params'\u001b[0m\u001b[1;33m:\u001b[0m\u001b[0mparameters\u001b[0m\u001b[1;33m,\u001b[0m\u001b[1;34m'base_model_ids'\u001b[0m\u001b[1;33m:\u001b[0m\u001b[0mbase_names\u001b[0m\u001b[1;33m}\u001b[0m\u001b[1;33m\u001b[0m\u001b[1;33m\u001b[0m\u001b[0m\n\u001b[1;32m----> 7\u001b[1;33m \u001b[0mtemp\u001b[0m\u001b[1;33m=\u001b[0m\u001b[1;33m{\u001b[0m\u001b[0mtask\u001b[0m\u001b[1;33m:\u001b[0m\u001b[0mtemp_1\u001b[0m\u001b[1;33m}\u001b[0m\u001b[1;33m\u001b[0m\u001b[1;33m\u001b[0m\u001b[0m\n\u001b[0m\u001b[0;32m      8\u001b[0m \u001b[0mModelModule\u001b[0m\u001b[1;33m.\u001b[0m\u001b[0mmodels\u001b[0m\u001b[1;33m.\u001b[0m\u001b[0mtest_models\u001b[0m\u001b[1;33m(\u001b[0m\u001b[0mproject_name\u001b[0m\u001b[1;33m=\u001b[0m\u001b[0mproject_name\u001b[0m\u001b[1;33m,\u001b[0m\u001b[0mtask_list\u001b[0m\u001b[1;33m=\u001b[0m\u001b[0mtemp\u001b[0m\u001b[1;33m,\u001b[0m \u001b[0mballance_methods\u001b[0m\u001b[1;33m=\u001b[0m\u001b[1;33m[\u001b[0m\u001b[1;36m1\u001b[0m\u001b[1;33m]\u001b[0m\u001b[1;33m)\u001b[0m\u001b[1;33m\u001b[0m\u001b[1;33m\u001b[0m\u001b[0m\n",
      "\u001b[1;31mNameError\u001b[0m: name 'task' is not defined"
     ]
    }
   ],
   "source": [
    "# 1 tree\n",
    "\n",
    "basemodels=[['Tree']]\n",
    "base_names=[  'Tree']\n",
    "parameters= {'model_list':basemodels,'challenge':[\"Regression\"]}\n",
    "temp_1={'base_model_params':parameters,'base_model_ids':base_names}\n",
    "temp={task:temp_1}\n",
    "ModelModule.models.test_models(project_name=project_name,task_list=temp, ballance_methods=[1])\n"
   ]
  },
  {
   "cell_type": "code",
   "execution_count": null,
   "metadata": {},
   "outputs": [],
   "source": [
    "#2\n",
    "ensamble_names=[ \"Boosting SVM\" ,\"Bagging SVM\", \"Stacking SVM\"]\n",
    "ensamble_parameters= {'ensamble_type':['Boosting', \"Bagging\", \"Stacking\"],'model_list':[[\"SVM\"]],'challenge':[\"Regression\"]}\n",
    "#'Linear','ANN','Ridge','Lasso','SVM','Random Forest','Tree','XGBoost'\n",
    "basemodels=[ ['Linear'], ['Lasso'], [\"Ridge\"],['SVM'],[\"ANN\"],['Random Forest'],['XGBoost'],['Tree']]\n",
    "base_names=[ 'Linear', \"Lasso\", \"Ridge\" ,\"SVM\", 'ANN','Random Forest','XGBoost', 'Tree']\n",
    "parameters= {'model_list':basemodels,'challenge':[\"Regression\"]}\n",
    "temp_1={'ensambe_models_params':ensamble_parameters,'ensamble_model_ids':ensamble_names,'base_model_params':parameters,'base_model_ids':base_names}\n",
    "temp={task:temp_1}\n",
    "ModelModule.models.test_models(project_name=project_name,task_list=temp, ballance_methods=[2])\n",
    "\n"
   ]
  }
 ],
 "metadata": {
  "kernelspec": {
   "display_name": "Python 3.8.8 ('base')",
   "language": "python",
   "name": "python3"
  },
  "language_info": {
   "codemirror_mode": {
    "name": "ipython",
    "version": 3
   },
   "file_extension": ".py",
   "mimetype": "text/x-python",
   "name": "python",
   "nbconvert_exporter": "python",
   "pygments_lexer": "ipython3",
   "version": "3.8.8"
  },
  "orig_nbformat": 4,
  "vscode": {
   "interpreter": {
    "hash": "b76f26fa8a612c8b8cb65ddaeb140f1392e886a532c01d32a03fb4eb587cde30"
   }
  }
 },
 "nbformat": 4,
 "nbformat_minor": 2
}
